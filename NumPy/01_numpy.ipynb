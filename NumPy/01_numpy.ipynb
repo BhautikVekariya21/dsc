{
 "cells": [
  {
   "cell_type": "markdown",
   "metadata": {},
   "source": [
    "### What is numpy?\n",
    "\n",
    "NumPy is the fundamental package for scientific computing in Python. It is a Python library that provides a multidimensional array object, various derived objects (such as masked arrays and matrices), and an assortment of routines for fast operations on arrays, including mathematical, logical, shape manipulation, sorting, selecting, I/O, discrete Fourier transforms, basic linear algebra, basic statistical operations, random simulation and much more.\n",
    "\n",
    "\n",
    "At the core of the NumPy package, is the ndarray object. This encapsulates n-dimensional arrays of homogeneous data types"
   ]
  },
  {
   "cell_type": "markdown",
   "metadata": {},
   "source": [
    "### Numpy Arrays Vs Python Sequences\n",
    "\n",
    "- NumPy arrays have a fixed size at creation, unlike Python lists (which can grow dynamically). Changing the size of an ndarray will create a new array and delete the original.\n",
    "\n",
    "- The elements in a NumPy array are all required to be of the same data type, and thus will be the same size in memory.\n",
    "\n",
    "- NumPy arrays facilitate advanced mathematical and other types of operations on large numbers of data. Typically, such operations are executed more efficiently and with less code than is possible using Python’s built-in sequences.\n",
    "\n",
    "- A growing plethora of scientific and mathematical Python-based packages are using NumPy arrays; though these typically support Python-sequence input, they convert such input to NumPy arrays prior to processing, and they often output NumPy arrays."
   ]
  },
  {
   "cell_type": "markdown",
   "metadata": {},
   "source": [
    "### Creating Numpy Arrays"
   ]
  },
  {
   "cell_type": "code",
   "execution_count": 3,
   "metadata": {},
   "outputs": [
    {
     "name": "stdout",
     "output_type": "stream",
     "text": [
      "[ 1  2  3  4  5  6  7  8  9 10]\n"
     ]
    }
   ],
   "source": [
    "import numpy as np \n",
    "a = np.array([1,2,3,4,5,6,7,8,9,10])\n",
    "print(a)"
   ]
  },
  {
   "cell_type": "code",
   "execution_count": 4,
   "metadata": {},
   "outputs": [
    {
     "data": {
      "text/plain": [
       "numpy.ndarray"
      ]
     },
     "execution_count": 4,
     "metadata": {},
     "output_type": "execute_result"
    }
   ],
   "source": [
    "b = np.array([[1,2,3],[4,5,6],[7,8,9]])\n",
    "type(b)"
   ]
  },
  {
   "cell_type": "code",
   "execution_count": 5,
   "metadata": {},
   "outputs": [
    {
     "name": "stdout",
     "output_type": "stream",
     "text": [
      "[[[1 2]\n",
      "  [3 4]]\n",
      "\n",
      " [[5 6]\n",
      "  [7 8]]]\n"
     ]
    }
   ],
   "source": [
    "c = np.array([[[1,2],[3,4]],[[5,6],[7,8]]])\n",
    "print(c)"
   ]
  },
  {
   "cell_type": "code",
   "execution_count": 6,
   "metadata": {},
   "outputs": [
    {
     "data": {
      "text/plain": [
       "array([1., 2., 3.])"
      ]
     },
     "execution_count": 6,
     "metadata": {},
     "output_type": "execute_result"
    }
   ],
   "source": [
    "np.array([1,2,3],dtype = float)"
   ]
  },
  {
   "cell_type": "code",
   "execution_count": 7,
   "metadata": {},
   "outputs": [
    {
     "data": {
      "text/plain": [
       "array([[[[ 0,  1],\n",
       "         [ 2,  3]],\n",
       "\n",
       "        [[ 4,  5],\n",
       "         [ 6,  7]]],\n",
       "\n",
       "\n",
       "       [[[ 8,  9],\n",
       "         [10, 11]],\n",
       "\n",
       "        [[12, 13],\n",
       "         [14, 15]]]])"
      ]
     },
     "execution_count": 7,
     "metadata": {},
     "output_type": "execute_result"
    }
   ],
   "source": [
    "np.arange(16).reshape(2,2,2,2)"
   ]
  },
  {
   "cell_type": "code",
   "execution_count": 8,
   "metadata": {},
   "outputs": [
    {
     "data": {
      "text/plain": [
       "array([[1., 1., 1., 1.],\n",
       "       [1., 1., 1., 1.],\n",
       "       [1., 1., 1., 1.]])"
      ]
     },
     "execution_count": 8,
     "metadata": {},
     "output_type": "execute_result"
    }
   ],
   "source": [
    "np.ones((3,4))"
   ]
  },
  {
   "cell_type": "code",
   "execution_count": 9,
   "metadata": {},
   "outputs": [
    {
     "data": {
      "text/plain": [
       "array([[0., 0., 0., 0.],\n",
       "       [0., 0., 0., 0.],\n",
       "       [0., 0., 0., 0.]])"
      ]
     },
     "execution_count": 9,
     "metadata": {},
     "output_type": "execute_result"
    }
   ],
   "source": [
    "np.zeros((3,4))"
   ]
  },
  {
   "cell_type": "code",
   "execution_count": 10,
   "metadata": {},
   "outputs": [
    {
     "data": {
      "text/plain": [
       "array([[0.04992311, 0.66677101, 0.99398052, 0.95056664],\n",
       "       [0.1762371 , 0.12631935, 0.37245085, 0.53820206],\n",
       "       [0.75342265, 0.46447163, 0.32500424, 0.50838282]])"
      ]
     },
     "execution_count": 10,
     "metadata": {},
     "output_type": "execute_result"
    }
   ],
   "source": [
    "np.random.random((3,4))"
   ]
  },
  {
   "cell_type": "code",
   "execution_count": 11,
   "metadata": {},
   "outputs": [
    {
     "data": {
      "text/plain": [
       "array([-10.        ,  -7.77777778,  -5.55555556,  -3.33333333,\n",
       "        -1.11111111,   1.11111111,   3.33333333,   5.55555556,\n",
       "         7.77777778,  10.        ])"
      ]
     },
     "execution_count": 11,
     "metadata": {},
     "output_type": "execute_result"
    }
   ],
   "source": [
    "np.linspace(-10,10,10,dtype=float)"
   ]
  },
  {
   "cell_type": "code",
   "execution_count": 12,
   "metadata": {},
   "outputs": [
    {
     "data": {
      "text/plain": [
       "array([[1., 0., 0.],\n",
       "       [0., 1., 0.],\n",
       "       [0., 0., 1.]])"
      ]
     },
     "execution_count": 12,
     "metadata": {},
     "output_type": "execute_result"
    }
   ],
   "source": [
    "np.identity(3)"
   ]
  },
  {
   "cell_type": "markdown",
   "metadata": {},
   "source": [
    "### Array Attributes"
   ]
  },
  {
   "cell_type": "code",
   "execution_count": 13,
   "metadata": {},
   "outputs": [
    {
     "name": "stdout",
     "output_type": "stream",
     "text": [
      "[0 1 2 3 4 5 6 7 8 9]\n",
      "[[0. 1.]\n",
      " [2. 3.]\n",
      " [4. 5.]\n",
      " [6. 7.]\n",
      " [8. 9.]]\n",
      "[[[0 1]\n",
      "  [2 3]]\n",
      "\n",
      " [[4 5]\n",
      "  [6 7]]]\n",
      "int32\n",
      "float32\n",
      "int64\n"
     ]
    }
   ],
   "source": [
    "a1 = np.arange(10,dtype = np.int32)\n",
    "a2 = np.arange(10, dtype = np.float32).reshape(5,2)\n",
    "a3 = np.arange(8).reshape(2,2,2)\n",
    "print(a1)\n",
    "print(a2)\n",
    "print(a3)\n",
    "print(a1.dtype)\n",
    "print(a2.dtype)\n",
    "print(a3.dtype)"
   ]
  },
  {
   "cell_type": "code",
   "execution_count": 14,
   "metadata": {},
   "outputs": [
    {
     "data": {
      "text/plain": [
       "3"
      ]
     },
     "execution_count": 14,
     "metadata": {},
     "output_type": "execute_result"
    }
   ],
   "source": [
    "a3.ndim"
   ]
  },
  {
   "cell_type": "code",
   "execution_count": 15,
   "metadata": {},
   "outputs": [
    {
     "name": "stdout",
     "output_type": "stream",
     "text": [
      "(2, 2, 2)\n"
     ]
    },
    {
     "data": {
      "text/plain": [
       "array([[[0, 1],\n",
       "        [2, 3]],\n",
       "\n",
       "       [[4, 5],\n",
       "        [6, 7]]])"
      ]
     },
     "execution_count": 15,
     "metadata": {},
     "output_type": "execute_result"
    }
   ],
   "source": [
    "print(a3.shape)\n",
    "a3"
   ]
  },
  {
   "cell_type": "code",
   "execution_count": 16,
   "metadata": {},
   "outputs": [
    {
     "name": "stdout",
     "output_type": "stream",
     "text": [
      "10\n"
     ]
    },
    {
     "data": {
      "text/plain": [
       "array([[0., 1.],\n",
       "       [2., 3.],\n",
       "       [4., 5.],\n",
       "       [6., 7.],\n",
       "       [8., 9.]], dtype=float32)"
      ]
     },
     "execution_count": 16,
     "metadata": {},
     "output_type": "execute_result"
    }
   ],
   "source": [
    "print(a2.size)\n",
    "a2"
   ]
  },
  {
   "cell_type": "code",
   "execution_count": 17,
   "metadata": {},
   "outputs": [
    {
     "data": {
      "text/plain": [
       "8"
      ]
     },
     "execution_count": 17,
     "metadata": {},
     "output_type": "execute_result"
    }
   ],
   "source": [
    "a3.itemsize"
   ]
  },
  {
   "cell_type": "code",
   "execution_count": 18,
   "metadata": {},
   "outputs": [
    {
     "name": "stdout",
     "output_type": "stream",
     "text": [
      "int32\n",
      "float32\n",
      "int64\n"
     ]
    }
   ],
   "source": [
    "print(a1.dtype)\n",
    "print(a2.dtype)\n",
    "print(a3.dtype)\n"
   ]
  },
  {
   "cell_type": "markdown",
   "metadata": {},
   "source": [
    "### Changing Datatype"
   ]
  },
  {
   "cell_type": "code",
   "execution_count": 19,
   "metadata": {},
   "outputs": [
    {
     "data": {
      "text/plain": [
       "array([[[0, 1],\n",
       "        [2, 3]],\n",
       "\n",
       "       [[4, 5],\n",
       "        [6, 7]]], dtype=int32)"
      ]
     },
     "execution_count": 19,
     "metadata": {},
     "output_type": "execute_result"
    }
   ],
   "source": [
    "a3.astype(np.int32)"
   ]
  },
  {
   "cell_type": "markdown",
   "metadata": {},
   "source": [
    "### Array Operations"
   ]
  },
  {
   "cell_type": "code",
   "execution_count": 20,
   "metadata": {},
   "outputs": [
    {
     "name": "stdout",
     "output_type": "stream",
     "text": [
      "[[ 0  1  2  3]\n",
      " [ 4  5  6  7]\n",
      " [ 8  9 10 11]]\n",
      "[[12 13 14 15]\n",
      " [16 17 18 19]\n",
      " [20 21 22 23]]\n"
     ]
    }
   ],
   "source": [
    "a1 = np.arange(12).reshape(3,4)\n",
    "a2 = np.arange(12,24).reshape(3,4)\n",
    "print(a1)\n",
    "print(a2)"
   ]
  },
  {
   "cell_type": "code",
   "execution_count": 21,
   "metadata": {},
   "outputs": [
    {
     "data": {
      "text/plain": [
       "array([[   0,    1,    8,   27],\n",
       "       [  64,  125,  216,  343],\n",
       "       [ 512,  729, 1000, 1331]])"
      ]
     },
     "execution_count": 21,
     "metadata": {},
     "output_type": "execute_result"
    }
   ],
   "source": [
    "a1 ** 2\n",
    "a1 ** 3"
   ]
  },
  {
   "cell_type": "code",
   "execution_count": 22,
   "metadata": {},
   "outputs": [
    {
     "data": {
      "text/plain": [
       "array([[False, False, False,  True],\n",
       "       [False, False, False, False],\n",
       "       [False, False, False, False]])"
      ]
     },
     "execution_count": 22,
     "metadata": {},
     "output_type": "execute_result"
    }
   ],
   "source": [
    "a2 == 15"
   ]
  },
  {
   "cell_type": "code",
   "execution_count": 23,
   "metadata": {},
   "outputs": [
    {
     "data": {
      "text/plain": [
       "array([[                   0,                    1,                16384,\n",
       "                    14348907],\n",
       "       [          4294967296,         762939453125,      101559956668416,\n",
       "           11398895185373143],\n",
       "       [ 1152921504606846976, -1261475310744950487,  1864712049423024128,\n",
       "         6839173302027254275]])"
      ]
     },
     "execution_count": 23,
     "metadata": {},
     "output_type": "execute_result"
    }
   ],
   "source": [
    "a1 ** a2"
   ]
  },
  {
   "cell_type": "markdown",
   "metadata": {},
   "source": [
    "### Array Functions"
   ]
  },
  {
   "cell_type": "code",
   "execution_count": 24,
   "metadata": {},
   "outputs": [
    {
     "data": {
      "text/plain": [
       "array([[21.49,  7.06, 11.96, 68.39, 77.93, 52.81, 98.4 , 68.46, 74.32,\n",
       "        82.45, 93.19],\n",
       "       [24.1 , 42.59, 28.54, 15.26, 65.78, 15.94, 65.1 , 51.9 , 21.55,\n",
       "        95.51, 83.5 ],\n",
       "       [54.34, 82.89, 99.42, 39.48, 29.61, 88.51, 73.17, 56.86, 36.8 ,\n",
       "         0.16,  0.71],\n",
       "       [11.34, 68.02, 61.46, 63.38, 36.3 , 46.94, 43.7 ,  0.96, 45.76,\n",
       "        45.19, 18.68],\n",
       "       [29.47, 34.6 , 57.21, 20.78, 40.36, 24.46, 12.54, 98.49, 52.16,\n",
       "        61.4 , 13.47],\n",
       "       [46.49, 57.49, 74.75,  9.45, 50.65, 82.43, 43.04, 26.21, 32.95,\n",
       "        69.35,  9.63],\n",
       "       [39.78, 93.55, 64.64, 61.74, 75.83, 99.92, 58.76, 27.85, 81.63,\n",
       "        60.76, 92.19]])"
      ]
     },
     "execution_count": 24,
     "metadata": {},
     "output_type": "execute_result"
    }
   ],
   "source": [
    "a1 = np.random.random((7,11))\n",
    "a1 = np.round(a1*100,2)\n",
    "a1"
   ]
  },
  {
   "cell_type": "code",
   "execution_count": 25,
   "metadata": {},
   "outputs": [
    {
     "data": {
      "text/plain": [
       "array([1.73936452e+10, 3.15473808e+11, 5.76548645e+11, 3.16606986e+10,\n",
       "       8.54112821e+11, 7.04586128e+11, 6.49594240e+11, 1.39433362e+10,\n",
       "       3.78381250e+11, 1.47310747e+10, 1.23415215e+09])"
      ]
     },
     "execution_count": 25,
     "metadata": {},
     "output_type": "execute_result"
    }
   ],
   "source": [
    "np.prod(a1,axis = 0)"
   ]
  },
  {
   "cell_type": "code",
   "execution_count": 26,
   "metadata": {},
   "outputs": [
    {
     "name": "stdout",
     "output_type": "stream",
     "text": [
      "[ 7.06 15.26  0.16  0.96 12.54  9.45 27.85]\n",
      "[656.46 509.77 561.95 441.73 444.94 502.44 756.65]\n",
      "[98.4  95.51 99.42 68.02 98.49 82.43 99.92]\n",
      "[59.67818182 46.34272727 51.08636364 40.15727273 40.44909091 45.67636364\n",
      " 68.78636364]\n",
      "[30.73746864 26.78111583 31.92471664 20.73144563 24.36434483 23.51217877\n",
      " 21.5191079 ]\n",
      "[ 944.79197851  717.22816529 1019.18753223  429.79283802  593.62129917\n",
      "  552.82255041  463.07200496]\n",
      "[[ 21.49  28.55  40.51 108.9  186.83 239.64 338.04 406.5  480.82 563.27\n",
      "  656.46]\n",
      " [ 24.1   66.69  95.23 110.49 176.27 192.21 257.31 309.21 330.76 426.27\n",
      "  509.77]\n",
      " [ 54.34 137.23 236.65 276.13 305.74 394.25 467.42 524.28 561.08 561.24\n",
      "  561.95]\n",
      " [ 11.34  79.36 140.82 204.2  240.5  287.44 331.14 332.1  377.86 423.05\n",
      "  441.73]\n",
      " [ 29.47  64.07 121.28 142.06 182.42 206.88 219.42 317.91 370.07 431.47\n",
      "  444.94]\n",
      " [ 46.49 103.98 178.73 188.18 238.83 321.26 364.3  390.51 423.46 492.81\n",
      "  502.44]\n",
      " [ 39.78 133.33 197.97 259.71 335.54 435.46 494.22 522.07 603.7  664.46\n",
      "  756.65]]\n",
      "[68.46 42.59 54.34 45.19 34.6  46.49 64.64]\n",
      "[68.46 42.59 54.34 45.19 34.6  46.49 64.64]\n",
      "[ True  True  True  True  True  True  True]\n"
     ]
    }
   ],
   "source": [
    "print(np.min(a1, axis = 1))\n",
    "print(np.sum(a1,axis = 1))\n",
    "print(np.max(a1, axis = 1))\n",
    "print(np.mean(a1, axis = 1))\n",
    "print(np.std(a1, axis = 1))\n",
    "print(np.var(a1, axis = 1))\n",
    "print(np.cumsum(a1, axis = 1))\n",
    "print(np.median(a1, axis = 1))\n",
    "print(np.percentile(a1, 50, axis = 1))\n",
    "print(np.any(a1 > 0, axis = 1))"
   ]
  },
  {
   "cell_type": "code",
   "execution_count": 27,
   "metadata": {},
   "outputs": [
    {
     "name": "stdout",
     "output_type": "stream",
     "text": [
      "[[ 0.48043319  0.70101138 -0.56988887 -0.66316417  0.57271691  0.56222605\n",
      "  -0.84716555 -0.60918968 -0.88111919  0.69512302 -0.87126785]\n",
      " [-0.858707   -0.98411128 -0.26255208  0.43313066  0.19224148 -0.22996015\n",
      "   0.76654629  0.99797049  0.42697836  0.95276703  0.96945567]\n",
      " [-0.80336511  0.93511767 -0.89612733  0.97801177 -0.97248401  0.51876497\n",
      "  -0.79156694  0.3063271  -0.78277451  0.15931821  0.65183377]\n",
      " [-0.94126952 -0.88894583 -0.98027597  0.52110654 -0.98529838  0.18285517\n",
      "  -0.27856261  0.81919157  0.9786711   0.9348026  -0.16874466]\n",
      " [-0.93045992 -0.04246803  0.61416876  0.93602085  0.46240395 -0.62313229\n",
      "  -0.02636756 -0.89149192  0.94805828 -0.9903629   0.78557781]\n",
      " [ 0.59228336  0.80834312 -0.60377136 -0.02521937  0.37511195  0.68060714\n",
      "  -0.8089108   0.88066248  0.99932579  0.23280566 -0.20378454]\n",
      " [ 0.87269967 -0.64251785  0.97196433 -0.88748241  0.41848475 -0.57365808\n",
      "   0.8017756   0.41171383 -0.05138635 -0.87707544 -0.88374859]]\n",
      "[[-0.87703133  0.71315009  0.82172177  0.74847397 -0.81975322 -0.8269836\n",
      "  -0.53132903  0.79302455  0.47289425  0.71889081  0.49080785]\n",
      " [ 0.51246686  0.1775528  -0.96491782 -0.90133114 -0.98134765 -0.97320005\n",
      "  -0.64218906 -0.0636781  -0.90426184  0.30370214 -0.2452666 ]\n",
      " [-0.59548678  0.35433733  0.44379704 -0.20854971 -0.23296961  0.8549169\n",
      "  -0.61108246  0.95192631  0.62230544  0.98722728  0.75836188]\n",
      " [ 0.33765617  0.45801235  0.19763354  0.85349163  0.17084231 -0.98313986\n",
      "   0.96041807  0.57351999 -0.20543339  0.35516772  0.9856598 ]\n",
      " [-0.36639369 -0.99909783  0.78917471 -0.35194454 -0.88666938  0.78211646\n",
      "   0.99965232 -0.45303659 -0.31809668  0.13849663  0.61876289]\n",
      " [-0.80572974  0.58871164  0.79715754 -0.99968194  0.92697952  0.73264857\n",
      "   0.58793139  0.47374424  0.03671461  0.97252328 -0.97901576]\n",
      " [-0.48825739  0.76627072 -0.23512833  0.46084159  0.90822382  0.81909487\n",
      "  -0.59762521 -0.91131318  0.99867885 -0.48035265 -0.467962  ]]\n",
      "[[-5.47794790e-01  9.82978742e-01 -6.93530212e-01 -8.86021685e-01\n",
      "  -6.98645521e-01 -6.79851508e-01  1.59442738e+00 -7.68185147e-01\n",
      "  -1.86324782e+00  9.66938247e-01 -1.77517098e+00]\n",
      " [-1.67563421e+00 -5.54264025e+00  2.72097860e-01 -4.80545544e-01\n",
      "  -1.95895393e-01  2.36292782e-01 -1.19364583e+00 -1.56721142e+01\n",
      "  -4.72184426e-01  3.13717585e+00 -3.95266082e+00]\n",
      " [ 1.34908975e+00  2.63906058e+00 -2.01922783e+00 -4.68958581e+00\n",
      "   4.17429552e+00  6.06801636e-01  1.29535210e+00  3.21797069e-01\n",
      "  -1.25786224e+00  1.61379461e-01  8.59528665e-01]\n",
      " [-2.78765677e+00 -1.94087740e+00 -4.96006890e+00  6.10558466e-01\n",
      "  -5.76729725e+00 -1.85991002e-01 -2.90043070e-01  1.42835749e+00\n",
      "  -4.76393392e+00  2.63200327e+00 -1.71199693e-01]\n",
      " [ 2.53950861e+00  4.25063829e-02  7.78241816e-01 -2.65956916e+00\n",
      "  -5.21506613e-01 -7.96725704e-01 -2.63767289e-02  1.96781441e+00\n",
      "  -2.98040918e+00 -7.15080863e+00  1.26959426e+00]\n",
      " [-7.35089360e-01  1.37307140e+00 -7.57405311e-01  2.52273889e-02\n",
      "   4.04660454e-01  9.28968089e-01 -1.37585918e+00  1.85894076e+00\n",
      "   2.72187505e+01  2.39383125e-01  2.08152466e-01]\n",
      " [-1.78737628e+00 -8.38499811e-01 -4.13376099e+00 -1.92578628e+00\n",
      "   4.60772710e-01 -7.00356096e-01 -1.34160272e+00 -4.51780835e-01\n",
      "  -5.14543306e-02  1.82589903e+00  1.88850502e+00]]\n",
      "[[ 3.06758771  1.95444505  2.48156775  4.22522662  4.35581099  3.96670057\n",
      "   4.5890408   4.22624963  4.30838009  4.41219205  4.53464042]\n",
      " [ 3.18221184  3.75161948  3.35130661  2.72523503  4.18631584  2.76883167\n",
      "   4.17592455  3.94931879  3.07037582  4.55923095  4.42484663]\n",
      " [ 3.9952606   4.41751443  4.5993533   3.67579421  3.38811214  4.48311554\n",
      "   4.2927855   4.04059211  3.60549785 -1.83258146 -0.34249031]\n",
      " [ 2.4283363   4.21980178  4.11838656  4.14914835  3.59181774  3.84887019\n",
      "   3.7773481  -0.04082199  3.82341035  3.81087582  2.92745343]\n",
      " [ 3.3833728   3.54385368  4.04672871  3.03399099  3.6978392   3.19703913\n",
      "   2.52892354  4.58995502  3.95431592  4.11740984  2.60046499]\n",
      " [ 3.83923724  4.05161102  4.31414921  2.24601474  3.92493923  4.41194945\n",
      "   3.76212992  3.26614102  3.49499126  4.23916615  2.26488323]\n",
      " [ 3.68336427  4.53849605  4.16883341  4.12293202  4.32849399  4.60436987\n",
      "   4.07346135  3.32683297  4.40219684  4.10693168  4.52385166]]\n",
      "[[ 1.33223642  0.8488047   1.07773118  1.8349926   1.89170468  1.72271617\n",
      "   1.9929951   1.83543689  1.8711057   1.91619066  1.96936931]\n",
      " [ 1.38201704  1.62930764  1.45545397  1.18355453  1.81809387  1.20248832\n",
      "   1.81358099  1.71516736  1.33344727  1.98004885  1.92168648]\n",
      " [ 1.73511963  1.91850214  1.99747376  1.59637714  1.47143841  1.94699234\n",
      "   1.86433306  1.75480686  1.56584782 -0.79588002 -0.14874165]\n",
      " [ 1.05461305  1.83263663  1.78859256  1.80195223  1.55990663  1.67154309\n",
      "   1.64048144 -0.01772877  1.66048602  1.65504234  1.27137687]\n",
      " [ 1.46938014  1.5390761   1.75747195  1.31764554  1.60595116  1.38845645\n",
      "   1.09829754  1.99339214  1.71733758  1.78816837  1.1293676 ]\n",
      " [ 1.66735955  1.75959231  1.8736112   0.97543181  1.70457945  1.9160853\n",
      "   1.63387226  1.41846702  1.51785542  1.84104647  0.98362629]\n",
      " [ 1.59966478  1.97104379  1.81050135  1.79056663  1.87984106  1.99965243\n",
      "   1.76908179  1.4448252   1.9118498   1.78361777  1.96468381]]\n"
     ]
    }
   ],
   "source": [
    "print(np.sin(a1))\n",
    "print(np.cos(a1))\n",
    "print(np.tan(a1))\n",
    "print(np.log(a1))\n",
    "print(np.log10(a1))"
   ]
  },
  {
   "cell_type": "code",
   "execution_count": 28,
   "metadata": {},
   "outputs": [
    {
     "data": {
      "text/plain": [
       "array([[ 28,  34],\n",
       "       [ 76,  98],\n",
       "       [124, 162]])"
      ]
     },
     "execution_count": 28,
     "metadata": {},
     "output_type": "execute_result"
    }
   ],
   "source": [
    "a2 = np.arange(12).reshape(3,4)\n",
    "a4 = np.arange(8).reshape(4, 2)\n",
    "np.dot(a2, a4)"
   ]
  },
  {
   "cell_type": "code",
   "execution_count": 29,
   "metadata": {},
   "outputs": [
    {
     "data": {
      "text/plain": [
       "array([[2.15272431e+09, 1.16444517e+03, 1.56373085e+05, 5.02805034e+29,\n",
       "        6.99147767e+33, 8.61175348e+22, 5.42721491e+42, 5.39262513e+29,\n",
       "        1.89132383e+32, 6.42066532e+35, 2.96416769e+40],\n",
       "       [2.92750074e+10, 3.13763185e+18, 2.48178705e+12, 4.23968698e+06,\n",
       "        3.69735388e+28, 8.36862373e+06, 1.87314230e+28, 3.46643939e+22,\n",
       "        2.28584135e+09, 3.01624050e+41, 1.83480214e+36],\n",
       "       [3.97706003e+23, 9.96941339e+35, 1.50507240e+43, 1.39941378e+17,\n",
       "        7.23535108e+12, 2.75045531e+38, 5.98862668e+31, 4.94292751e+24,\n",
       "        9.59482226e+15, 1.17351087e+00, 2.03399126e+00],\n",
       "       [8.41200311e+04, 3.47304699e+29, 4.91743760e+26, 3.35416377e+27,\n",
       "        5.81955388e+15, 2.43098893e+20, 9.52069953e+18, 2.61169647e+00,\n",
       "        7.46991211e+19, 4.22442532e+19, 1.29604751e+08],\n",
       "       [6.29011205e+12, 1.06313661e+15, 7.01434802e+24, 1.05837442e+09,\n",
       "        3.37384627e+17, 4.19607293e+10, 2.79288339e+05, 5.93831899e+42,\n",
       "        4.49572954e+22, 4.63106833e+26, 7.07858858e+05],\n",
       "       [1.55006698e+20, 9.28089298e+24, 2.90745179e+32, 1.27081653e+04,\n",
       "        9.93151513e+21, 6.29352763e+35, 4.92078626e+18, 2.41467325e+11,\n",
       "        2.04175289e+14, 1.31317413e+30, 1.52144361e+04],\n",
       "       [1.88901101e+17, 4.24862873e+40, 1.18248410e+28, 6.50640829e+26,\n",
       "        8.56151383e+32, 2.48144487e+43, 3.30478915e+25, 1.24480499e+12,\n",
       "        2.82786425e+35, 2.44192725e+26, 1.09045635e+40]])"
      ]
     },
     "execution_count": 29,
     "metadata": {},
     "output_type": "execute_result"
    }
   ],
   "source": [
    "np.exp(a1)"
   ]
  },
  {
   "cell_type": "code",
   "execution_count": 30,
   "metadata": {},
   "outputs": [
    {
     "data": {
      "text/plain": [
       "array([[100.,  39.,  49.],\n",
       "       [ 65.,  62.,   2.]])"
      ]
     },
     "execution_count": 30,
     "metadata": {},
     "output_type": "execute_result"
    }
   ],
   "source": [
    "np.ceil(np.random.random((2,3))*100)"
   ]
  },
  {
   "cell_type": "markdown",
   "metadata": {},
   "source": [
    "### Indexing and Slicing"
   ]
  },
  {
   "cell_type": "code",
   "execution_count": 31,
   "metadata": {},
   "outputs": [
    {
     "data": {
      "text/plain": [
       "array([[[ 0,  1],\n",
       "        [ 2,  3],\n",
       "        [ 4,  5]],\n",
       "\n",
       "       [[ 6,  7],\n",
       "        [ 8,  9],\n",
       "        [10, 11]]])"
      ]
     },
     "execution_count": 31,
     "metadata": {},
     "output_type": "execute_result"
    }
   ],
   "source": [
    "import numpy as np\n",
    "a5 = np.arange(10)\n",
    "a6 = np.arange(10).reshape(2,5)\n",
    "a7 = np.arange(12).reshape(2,3,2)\n",
    "a7"
   ]
  },
  {
   "cell_type": "code",
   "execution_count": 32,
   "metadata": {},
   "outputs": [
    {
     "data": {
      "text/plain": [
       "array([0, 1, 2, 3, 4, 5, 6, 7, 8, 9])"
      ]
     },
     "execution_count": 32,
     "metadata": {},
     "output_type": "execute_result"
    }
   ],
   "source": [
    "a5"
   ]
  },
  {
   "cell_type": "code",
   "execution_count": 33,
   "metadata": {},
   "outputs": [
    {
     "data": {
      "text/plain": [
       "array([[0, 1, 2, 3, 4],\n",
       "       [5, 6, 7, 8, 9]])"
      ]
     },
     "execution_count": 33,
     "metadata": {},
     "output_type": "execute_result"
    }
   ],
   "source": [
    "a6"
   ]
  },
  {
   "cell_type": "code",
   "execution_count": 34,
   "metadata": {},
   "outputs": [
    {
     "data": {
      "text/plain": [
       "np.int64(4)"
      ]
     },
     "execution_count": 34,
     "metadata": {},
     "output_type": "execute_result"
    }
   ],
   "source": [
    "a5[4]"
   ]
  },
  {
   "cell_type": "code",
   "execution_count": 35,
   "metadata": {},
   "outputs": [
    {
     "data": {
      "text/plain": [
       "np.int64(7)"
      ]
     },
     "execution_count": 35,
     "metadata": {},
     "output_type": "execute_result"
    }
   ],
   "source": [
    "a6[1,2]"
   ]
  },
  {
   "cell_type": "code",
   "execution_count": 36,
   "metadata": {},
   "outputs": [
    {
     "data": {
      "text/plain": [
       "np.int64(11)"
      ]
     },
     "execution_count": 36,
     "metadata": {},
     "output_type": "execute_result"
    }
   ],
   "source": [
    "a7[1,2,1]"
   ]
  },
  {
   "cell_type": "code",
   "execution_count": 37,
   "metadata": {},
   "outputs": [
    {
     "data": {
      "text/plain": [
       "np.int64(6)"
      ]
     },
     "execution_count": 37,
     "metadata": {},
     "output_type": "execute_result"
    }
   ],
   "source": [
    "a3[1,1,0]"
   ]
  },
  {
   "cell_type": "code",
   "execution_count": 38,
   "metadata": {},
   "outputs": [
    {
     "data": {
      "text/plain": [
       "array([0, 1, 2, 3, 4, 5, 6, 7, 8, 9])"
      ]
     },
     "execution_count": 38,
     "metadata": {},
     "output_type": "execute_result"
    }
   ],
   "source": [
    "a5"
   ]
  },
  {
   "cell_type": "code",
   "execution_count": 39,
   "metadata": {},
   "outputs": [
    {
     "data": {
      "text/plain": [
       "array([[21.49,  7.06, 11.96, 68.39, 77.93, 52.81, 98.4 , 68.46, 74.32,\n",
       "        82.45, 93.19],\n",
       "       [24.1 , 42.59, 28.54, 15.26, 65.78, 15.94, 65.1 , 51.9 , 21.55,\n",
       "        95.51, 83.5 ],\n",
       "       [54.34, 82.89, 99.42, 39.48, 29.61, 88.51, 73.17, 56.86, 36.8 ,\n",
       "         0.16,  0.71],\n",
       "       [11.34, 68.02, 61.46, 63.38, 36.3 , 46.94, 43.7 ,  0.96, 45.76,\n",
       "        45.19, 18.68],\n",
       "       [29.47, 34.6 , 57.21, 20.78, 40.36, 24.46, 12.54, 98.49, 52.16,\n",
       "        61.4 , 13.47],\n",
       "       [46.49, 57.49, 74.75,  9.45, 50.65, 82.43, 43.04, 26.21, 32.95,\n",
       "        69.35,  9.63],\n",
       "       [39.78, 93.55, 64.64, 61.74, 75.83, 99.92, 58.76, 27.85, 81.63,\n",
       "        60.76, 92.19]])"
      ]
     },
     "execution_count": 39,
     "metadata": {},
     "output_type": "execute_result"
    }
   ],
   "source": [
    "a1"
   ]
  },
  {
   "cell_type": "code",
   "execution_count": 40,
   "metadata": {},
   "outputs": [
    {
     "data": {
      "text/plain": [
       "array([[54.34, 82.89, 99.42, 39.48, 29.61, 88.51, 73.17, 56.86, 36.8 ,\n",
       "         0.16,  0.71],\n",
       "       [29.47, 34.6 , 57.21, 20.78, 40.36, 24.46, 12.54, 98.49, 52.16,\n",
       "        61.4 , 13.47]])"
      ]
     },
     "execution_count": 40,
     "metadata": {},
     "output_type": "execute_result"
    }
   ],
   "source": [
    "a1[2:5:2]"
   ]
  },
  {
   "cell_type": "code",
   "execution_count": 41,
   "metadata": {},
   "outputs": [
    {
     "data": {
      "text/plain": [
       "array([[ 0,  1,  2,  3],\n",
       "       [ 4,  5,  6,  7],\n",
       "       [ 8,  9, 10, 11]])"
      ]
     },
     "execution_count": 41,
     "metadata": {},
     "output_type": "execute_result"
    }
   ],
   "source": [
    "a2"
   ]
  },
  {
   "cell_type": "code",
   "execution_count": 42,
   "metadata": {},
   "outputs": [
    {
     "data": {
      "text/plain": [
       "array([[1, 3],\n",
       "       [5, 7]])"
      ]
     },
     "execution_count": 42,
     "metadata": {},
     "output_type": "execute_result"
    }
   ],
   "source": [
    "a2[0:2,1::2]"
   ]
  },
  {
   "cell_type": "code",
   "execution_count": 43,
   "metadata": {},
   "outputs": [
    {
     "data": {
      "text/plain": [
       "array([[0, 1, 2, 3, 4],\n",
       "       [5, 6, 7, 8, 9]])"
      ]
     },
     "execution_count": 43,
     "metadata": {},
     "output_type": "execute_result"
    }
   ],
   "source": [
    "a6"
   ]
  },
  {
   "cell_type": "code",
   "execution_count": 44,
   "metadata": {},
   "outputs": [
    {
     "data": {
      "text/plain": [
       "array([[1, 3]])"
      ]
     },
     "execution_count": 44,
     "metadata": {},
     "output_type": "execute_result"
    }
   ],
   "source": [
    "a6[::2,1::2]"
   ]
  },
  {
   "cell_type": "code",
   "execution_count": 45,
   "metadata": {},
   "outputs": [
    {
     "data": {
      "text/plain": [
       "array([5, 8])"
      ]
     },
     "execution_count": 45,
     "metadata": {},
     "output_type": "execute_result"
    }
   ],
   "source": [
    "a6[1,::3]"
   ]
  },
  {
   "cell_type": "code",
   "execution_count": 46,
   "metadata": {},
   "outputs": [
    {
     "data": {
      "text/plain": [
       "array([0, 1, 2, 3, 4])"
      ]
     },
     "execution_count": 46,
     "metadata": {},
     "output_type": "execute_result"
    }
   ],
   "source": [
    "a6[0,:]"
   ]
  },
  {
   "cell_type": "code",
   "execution_count": 47,
   "metadata": {},
   "outputs": [
    {
     "data": {
      "text/plain": [
       "array([0, 1, 2, 3])"
      ]
     },
     "execution_count": 47,
     "metadata": {},
     "output_type": "execute_result"
    }
   ],
   "source": [
    "a2[0,:]"
   ]
  },
  {
   "cell_type": "code",
   "execution_count": 48,
   "metadata": {},
   "outputs": [
    {
     "data": {
      "text/plain": [
       "array([2, 7])"
      ]
     },
     "execution_count": 48,
     "metadata": {},
     "output_type": "execute_result"
    }
   ],
   "source": [
    "a6[:,2]"
   ]
  },
  {
   "cell_type": "code",
   "execution_count": 49,
   "metadata": {},
   "outputs": [
    {
     "data": {
      "text/plain": [
       "array([[6, 7]])"
      ]
     },
     "execution_count": 49,
     "metadata": {},
     "output_type": "execute_result"
    }
   ],
   "source": [
    "a6[1:,1:3]"
   ]
  },
  {
   "cell_type": "code",
   "execution_count": 50,
   "metadata": {},
   "outputs": [
    {
     "data": {
      "text/plain": [
       "array([[[ 0,  1,  2],\n",
       "        [ 3,  4,  5],\n",
       "        [ 6,  7,  8]],\n",
       "\n",
       "       [[ 9, 10, 11],\n",
       "        [12, 13, 14],\n",
       "        [15, 16, 17]],\n",
       "\n",
       "       [[18, 19, 20],\n",
       "        [21, 22, 23],\n",
       "        [24, 25, 26]]])"
      ]
     },
     "execution_count": 50,
     "metadata": {},
     "output_type": "execute_result"
    }
   ],
   "source": [
    "a8 = np.arange(27).reshape(3,3,3)\n",
    "a8"
   ]
  },
  {
   "cell_type": "code",
   "execution_count": 51,
   "metadata": {},
   "outputs": [
    {
     "data": {
      "text/plain": [
       "array([[ 0,  2],\n",
       "       [18, 20]])"
      ]
     },
     "execution_count": 51,
     "metadata": {},
     "output_type": "execute_result"
    }
   ],
   "source": [
    "a8[::2,0,::2]"
   ]
  },
  {
   "cell_type": "code",
   "execution_count": 52,
   "metadata": {},
   "outputs": [
    {
     "data": {
      "text/plain": [
       "array([[22, 23],\n",
       "       [25, 26]])"
      ]
     },
     "execution_count": 52,
     "metadata": {},
     "output_type": "execute_result"
    }
   ],
   "source": [
    "a8[2,1:,1:]"
   ]
  },
  {
   "cell_type": "code",
   "execution_count": 53,
   "metadata": {},
   "outputs": [
    {
     "data": {
      "text/plain": [
       "array([3, 4, 5])"
      ]
     },
     "execution_count": 53,
     "metadata": {},
     "output_type": "execute_result"
    }
   ],
   "source": [
    "a8[0,1,:]"
   ]
  },
  {
   "cell_type": "markdown",
   "metadata": {},
   "source": [
    "### Iterating"
   ]
  },
  {
   "cell_type": "code",
   "execution_count": 54,
   "metadata": {},
   "outputs": [
    {
     "name": "stdout",
     "output_type": "stream",
     "text": [
      "[21.49  7.06 11.96 68.39 77.93 52.81 98.4  68.46 74.32 82.45 93.19]\n",
      "[24.1  42.59 28.54 15.26 65.78 15.94 65.1  51.9  21.55 95.51 83.5 ]\n",
      "[54.34 82.89 99.42 39.48 29.61 88.51 73.17 56.86 36.8   0.16  0.71]\n",
      "[11.34 68.02 61.46 63.38 36.3  46.94 43.7   0.96 45.76 45.19 18.68]\n",
      "[29.47 34.6  57.21 20.78 40.36 24.46 12.54 98.49 52.16 61.4  13.47]\n",
      "[46.49 57.49 74.75  9.45 50.65 82.43 43.04 26.21 32.95 69.35  9.63]\n",
      "[39.78 93.55 64.64 61.74 75.83 99.92 58.76 27.85 81.63 60.76 92.19]\n"
     ]
    }
   ],
   "source": [
    "for i in a1:\n",
    "    print(i)"
   ]
  },
  {
   "cell_type": "code",
   "execution_count": 55,
   "metadata": {},
   "outputs": [
    {
     "data": {
      "text/plain": [
       "array([0, 1, 2, 3, 4, 5, 6, 7, 8, 9])"
      ]
     },
     "execution_count": 55,
     "metadata": {},
     "output_type": "execute_result"
    }
   ],
   "source": [
    "a0 = np.arange(10)\n",
    "a0"
   ]
  },
  {
   "cell_type": "code",
   "execution_count": 56,
   "metadata": {},
   "outputs": [
    {
     "name": "stdout",
     "output_type": "stream",
     "text": [
      "[0 1 2 3]\n",
      "[4 5 6 7]\n",
      "[ 8  9 10 11]\n"
     ]
    }
   ],
   "source": [
    "for i in a2:\n",
    "    print(i)"
   ]
  },
  {
   "cell_type": "code",
   "execution_count": 57,
   "metadata": {},
   "outputs": [
    {
     "data": {
      "text/plain": [
       "array([[[ 0,  1,  2],\n",
       "        [ 3,  4,  5],\n",
       "        [ 6,  7,  8]],\n",
       "\n",
       "       [[ 9, 10, 11],\n",
       "        [12, 13, 14],\n",
       "        [15, 16, 17]],\n",
       "\n",
       "       [[18, 19, 20],\n",
       "        [21, 22, 23],\n",
       "        [24, 25, 26]]])"
      ]
     },
     "execution_count": 57,
     "metadata": {},
     "output_type": "execute_result"
    }
   ],
   "source": [
    "a8"
   ]
  },
  {
   "cell_type": "code",
   "execution_count": 58,
   "metadata": {},
   "outputs": [
    {
     "name": "stdout",
     "output_type": "stream",
     "text": [
      "[[0 1 2]\n",
      " [3 4 5]\n",
      " [6 7 8]]\n",
      "[[ 9 10 11]\n",
      " [12 13 14]\n",
      " [15 16 17]]\n",
      "[[18 19 20]\n",
      " [21 22 23]\n",
      " [24 25 26]]\n"
     ]
    }
   ],
   "source": [
    "for i in a8:\n",
    "    print(i)"
   ]
  },
  {
   "cell_type": "code",
   "execution_count": 59,
   "metadata": {},
   "outputs": [
    {
     "name": "stdout",
     "output_type": "stream",
     "text": [
      "0\n",
      "1\n",
      "2\n",
      "3\n",
      "4\n",
      "5\n",
      "6\n",
      "7\n",
      "8\n",
      "9\n",
      "10\n",
      "11\n",
      "12\n",
      "13\n",
      "14\n",
      "15\n",
      "16\n",
      "17\n",
      "18\n",
      "19\n",
      "20\n",
      "21\n",
      "22\n",
      "23\n",
      "24\n",
      "25\n",
      "26\n"
     ]
    }
   ],
   "source": [
    "for i in np.nditer(a8):\n",
    "    print(i)"
   ]
  },
  {
   "cell_type": "markdown",
   "metadata": {},
   "source": [
    "### Reshaping"
   ]
  },
  {
   "cell_type": "code",
   "execution_count": 60,
   "metadata": {},
   "outputs": [
    {
     "data": {
      "text/plain": [
       "array([[ 0,  4,  8],\n",
       "       [ 1,  5,  9],\n",
       "       [ 2,  6, 10],\n",
       "       [ 3,  7, 11]])"
      ]
     },
     "execution_count": 60,
     "metadata": {},
     "output_type": "execute_result"
    }
   ],
   "source": [
    "np.transpose(a2)"
   ]
  },
  {
   "cell_type": "code",
   "execution_count": 61,
   "metadata": {},
   "outputs": [
    {
     "data": {
      "text/plain": [
       "array([[[ 0,  9, 18],\n",
       "        [ 3, 12, 21],\n",
       "        [ 6, 15, 24]],\n",
       "\n",
       "       [[ 1, 10, 19],\n",
       "        [ 4, 13, 22],\n",
       "        [ 7, 16, 25]],\n",
       "\n",
       "       [[ 2, 11, 20],\n",
       "        [ 5, 14, 23],\n",
       "        [ 8, 17, 26]]])"
      ]
     },
     "execution_count": 61,
     "metadata": {},
     "output_type": "execute_result"
    }
   ],
   "source": [
    "np.transpose(a8)"
   ]
  },
  {
   "cell_type": "code",
   "execution_count": 62,
   "metadata": {},
   "outputs": [
    {
     "data": {
      "text/plain": [
       "array([ 0,  1,  2,  3,  4,  5,  6,  7,  8,  9, 10, 11, 12, 13, 14, 15, 16,\n",
       "       17, 18, 19, 20, 21, 22, 23, 24, 25, 26])"
      ]
     },
     "execution_count": 62,
     "metadata": {},
     "output_type": "execute_result"
    }
   ],
   "source": [
    "a8.ravel()"
   ]
  },
  {
   "cell_type": "markdown",
   "metadata": {},
   "source": [
    "### Stacking"
   ]
  },
  {
   "cell_type": "code",
   "execution_count": 63,
   "metadata": {},
   "outputs": [
    {
     "data": {
      "text/plain": [
       "array([[12, 13, 14, 15],\n",
       "       [16, 17, 18, 19],\n",
       "       [20, 21, 22, 23]])"
      ]
     },
     "execution_count": 63,
     "metadata": {},
     "output_type": "execute_result"
    }
   ],
   "source": [
    "a4 = np.arange(12).reshape(3,4)\n",
    "a5 = np.arange(12,24).reshape(3,4)\n",
    "a5"
   ]
  },
  {
   "cell_type": "code",
   "execution_count": 64,
   "metadata": {},
   "outputs": [
    {
     "data": {
      "text/plain": [
       "array([[ 0,  1,  2,  3, 12, 13, 14, 15],\n",
       "       [ 4,  5,  6,  7, 16, 17, 18, 19],\n",
       "       [ 8,  9, 10, 11, 20, 21, 22, 23]])"
      ]
     },
     "execution_count": 64,
     "metadata": {},
     "output_type": "execute_result"
    }
   ],
   "source": [
    "np.hstack((a4,a5))"
   ]
  },
  {
   "cell_type": "code",
   "execution_count": 65,
   "metadata": {},
   "outputs": [
    {
     "data": {
      "text/plain": [
       "array([[ 0,  1,  2,  3],\n",
       "       [ 4,  5,  6,  7],\n",
       "       [ 8,  9, 10, 11],\n",
       "       [12, 13, 14, 15],\n",
       "       [16, 17, 18, 19],\n",
       "       [20, 21, 22, 23]])"
      ]
     },
     "execution_count": 65,
     "metadata": {},
     "output_type": "execute_result"
    }
   ],
   "source": [
    "np.vstack((a4,a5))"
   ]
  },
  {
   "cell_type": "markdown",
   "metadata": {},
   "source": [
    "### Splitting"
   ]
  },
  {
   "cell_type": "code",
   "execution_count": 66,
   "metadata": {},
   "outputs": [
    {
     "data": {
      "text/plain": [
       "array([[ 0,  1,  2,  3],\n",
       "       [ 4,  5,  6,  7],\n",
       "       [ 8,  9, 10, 11]])"
      ]
     },
     "execution_count": 66,
     "metadata": {},
     "output_type": "execute_result"
    }
   ],
   "source": [
    "a4"
   ]
  },
  {
   "cell_type": "code",
   "execution_count": 67,
   "metadata": {},
   "outputs": [
    {
     "data": {
      "text/plain": [
       "[array([[0],\n",
       "        [4],\n",
       "        [8]]),\n",
       " array([[1],\n",
       "        [5],\n",
       "        [9]]),\n",
       " array([[ 2],\n",
       "        [ 6],\n",
       "        [10]]),\n",
       " array([[ 3],\n",
       "        [ 7],\n",
       "        [11]])]"
      ]
     },
     "execution_count": 67,
     "metadata": {},
     "output_type": "execute_result"
    }
   ],
   "source": [
    "np.hsplit(a4,4)"
   ]
  },
  {
   "cell_type": "code",
   "execution_count": 68,
   "metadata": {},
   "outputs": [
    {
     "data": {
      "text/plain": [
       "array([[12, 13, 14, 15],\n",
       "       [16, 17, 18, 19],\n",
       "       [20, 21, 22, 23]])"
      ]
     },
     "execution_count": 68,
     "metadata": {},
     "output_type": "execute_result"
    }
   ],
   "source": [
    "a5"
   ]
  },
  {
   "cell_type": "code",
   "execution_count": 69,
   "metadata": {},
   "outputs": [
    {
     "data": {
      "text/plain": [
       "[array([[12, 13, 14, 15]]),\n",
       " array([[16, 17, 18, 19]]),\n",
       " array([[20, 21, 22, 23]])]"
      ]
     },
     "execution_count": 69,
     "metadata": {},
     "output_type": "execute_result"
    }
   ],
   "source": [
    "np.vsplit(a5,3)"
   ]
  }
 ],
 "metadata": {
  "kernelspec": {
   "display_name": "Python 3",
   "language": "python",
   "name": "python3"
  },
  "language_info": {
   "codemirror_mode": {
    "name": "ipython",
    "version": 3
   },
   "file_extension": ".py",
   "mimetype": "text/x-python",
   "name": "python",
   "nbconvert_exporter": "python",
   "pygments_lexer": "ipython3",
   "version": "3.13.5"
  }
 },
 "nbformat": 4,
 "nbformat_minor": 2
}
