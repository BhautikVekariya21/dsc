{
 "cells": [
  {
   "cell_type": "markdown",
   "metadata": {},
   "source": [
    "### What is numpy?\n",
    "\n",
    "NumPy is the fundamental package for scientific computing in Python. It is a Python library that provides a multidimensional array object, various derived objects (such as masked arrays and matrices), and an assortment of routines for fast operations on arrays, including mathematical, logical, shape manipulation, sorting, selecting, I/O, discrete Fourier transforms, basic linear algebra, basic statistical operations, random simulation and much more.\n",
    "\n",
    "\n",
    "At the core of the NumPy package, is the ndarray object. This encapsulates n-dimensional arrays of homogeneous data types"
   ]
  },
  {
   "cell_type": "markdown",
   "metadata": {},
   "source": [
    "### Numpy Arrays Vs Python Sequences\n",
    "\n",
    "- NumPy arrays have a fixed size at creation, unlike Python lists (which can grow dynamically). Changing the size of an ndarray will create a new array and delete the original.\n",
    "\n",
    "- The elements in a NumPy array are all required to be of the same data type, and thus will be the same size in memory.\n",
    "\n",
    "- NumPy arrays facilitate advanced mathematical and other types of operations on large numbers of data. Typically, such operations are executed more efficiently and with less code than is possible using Python’s built-in sequences.\n",
    "\n",
    "- A growing plethora of scientific and mathematical Python-based packages are using NumPy arrays; though these typically support Python-sequence input, they convert such input to NumPy arrays prior to processing, and they often output NumPy arrays."
   ]
  },
  {
   "cell_type": "markdown",
   "metadata": {},
   "source": [
    "### Creating Numpy Arrays"
   ]
  },
  {
   "cell_type": "code",
   "execution_count": 3,
   "metadata": {},
   "outputs": [
    {
     "name": "stdout",
     "output_type": "stream",
     "text": [
      "[ 1  2  3  4  5  6  7  8  9 10]\n"
     ]
    }
   ],
   "source": [
    "import numpy as np # type: ignore\n",
    "a = np.array([1,2,3,4,5,6,7,8,9,10])\n",
    "print(a)\n"
   ]
  },
  {
   "cell_type": "code",
   "execution_count": 4,
   "metadata": {},
   "outputs": [
    {
     "name": "stdout",
     "output_type": "stream",
     "text": [
      "[[1 2 3]\n",
      " [4 5 6]\n",
      " [7 8 9]]\n"
     ]
    }
   ],
   "source": [
    "b = np.array([[1,2,3],[4,5,6],[7,8,9]])\n",
    "print(b)"
   ]
  },
  {
   "cell_type": "code",
   "execution_count": 7,
   "metadata": {},
   "outputs": [
    {
     "name": "stdout",
     "output_type": "stream",
     "text": [
      "[[[1 2]\n",
      "  [3 4]]\n",
      "\n",
      " [[5 6]\n",
      "  [7 8]]]\n"
     ]
    }
   ],
   "source": [
    "c = np.array([[[1,2],[3,4]],[[5,6],[7,8]]])\n",
    "print(c)"
   ]
  },
  {
   "cell_type": "code",
   "execution_count": 8,
   "metadata": {},
   "outputs": [
    {
     "data": {
      "text/plain": [
       "array([1., 2., 3.])"
      ]
     },
     "execution_count": 8,
     "metadata": {},
     "output_type": "execute_result"
    }
   ],
   "source": [
    "np.array([1,2,3],dtype = float)"
   ]
  },
  {
   "cell_type": "code",
   "execution_count": 9,
   "metadata": {},
   "outputs": [
    {
     "data": {
      "text/plain": [
       "array([[[[ 0,  1],\n",
       "         [ 2,  3]],\n",
       "\n",
       "        [[ 4,  5],\n",
       "         [ 6,  7]]],\n",
       "\n",
       "\n",
       "       [[[ 8,  9],\n",
       "         [10, 11]],\n",
       "\n",
       "        [[12, 13],\n",
       "         [14, 15]]]])"
      ]
     },
     "execution_count": 9,
     "metadata": {},
     "output_type": "execute_result"
    }
   ],
   "source": [
    "np.arange(16).reshape(2,2,2,2)"
   ]
  },
  {
   "cell_type": "code",
   "execution_count": 10,
   "metadata": {},
   "outputs": [
    {
     "data": {
      "text/plain": [
       "array([[1., 1., 1., 1.],\n",
       "       [1., 1., 1., 1.],\n",
       "       [1., 1., 1., 1.]])"
      ]
     },
     "execution_count": 10,
     "metadata": {},
     "output_type": "execute_result"
    }
   ],
   "source": [
    "np.ones((3,4))"
   ]
  },
  {
   "cell_type": "code",
   "execution_count": 11,
   "metadata": {},
   "outputs": [
    {
     "data": {
      "text/plain": [
       "array([[0., 0., 0., 0.],\n",
       "       [0., 0., 0., 0.],\n",
       "       [0., 0., 0., 0.]])"
      ]
     },
     "execution_count": 11,
     "metadata": {},
     "output_type": "execute_result"
    }
   ],
   "source": [
    "np.zeros((3,4))"
   ]
  },
  {
   "cell_type": "code",
   "execution_count": 12,
   "metadata": {},
   "outputs": [
    {
     "data": {
      "text/plain": [
       "array([[0.56170335, 0.79122302, 0.18785756, 0.19167583],\n",
       "       [0.42329517, 0.81096359, 0.15644583, 0.29990426],\n",
       "       [0.1178903 , 0.09787046, 0.13087081, 0.41411298]])"
      ]
     },
     "execution_count": 12,
     "metadata": {},
     "output_type": "execute_result"
    }
   ],
   "source": [
    "np.random.random((3,4))"
   ]
  },
  {
   "cell_type": "code",
   "execution_count": 13,
   "metadata": {},
   "outputs": [
    {
     "data": {
      "text/plain": [
       "array([-10.        ,  -7.77777778,  -5.55555556,  -3.33333333,\n",
       "        -1.11111111,   1.11111111,   3.33333333,   5.55555556,\n",
       "         7.77777778,  10.        ])"
      ]
     },
     "execution_count": 13,
     "metadata": {},
     "output_type": "execute_result"
    }
   ],
   "source": [
    "np.linspace(-10,10,10,dtype=float)"
   ]
  },
  {
   "cell_type": "code",
   "execution_count": 14,
   "metadata": {},
   "outputs": [
    {
     "data": {
      "text/plain": [
       "array([[1., 0., 0.],\n",
       "       [0., 1., 0.],\n",
       "       [0., 0., 1.]])"
      ]
     },
     "execution_count": 14,
     "metadata": {},
     "output_type": "execute_result"
    }
   ],
   "source": [
    "np.identity(3)"
   ]
  },
  {
   "cell_type": "markdown",
   "metadata": {},
   "source": [
    "### Array Attributes"
   ]
  },
  {
   "cell_type": "code",
   "execution_count": 18,
   "metadata": {},
   "outputs": [
    {
     "name": "stdout",
     "output_type": "stream",
     "text": [
      "[0 1 2 3 4 5 6 7 8 9]\n",
      "[[0. 1.]\n",
      " [2. 3.]\n",
      " [4. 5.]\n",
      " [6. 7.]\n",
      " [8. 9.]]\n",
      "[[[0 1]\n",
      "  [2 3]]\n",
      "\n",
      " [[4 5]\n",
      "  [6 7]]]\n",
      "int32\n",
      "float32\n",
      "int64\n"
     ]
    }
   ],
   "source": [
    "a1 = np.arange(10,dtype = np.int32)\n",
    "a2 = np.arange(10, dtype = np.float32).reshape(5,2)\n",
    "a3 = np.arange(8).reshape(2,2,2)\n",
    "print(a1)\n",
    "print(a2)\n",
    "print(a3)\n",
    "print(a1.dtype)\n",
    "print(a2.dtype)\n",
    "print(a3.dtype)"
   ]
  },
  {
   "cell_type": "code",
   "execution_count": 19,
   "metadata": {},
   "outputs": [
    {
     "data": {
      "text/plain": [
       "3"
      ]
     },
     "execution_count": 19,
     "metadata": {},
     "output_type": "execute_result"
    }
   ],
   "source": [
    "a3.ndim"
   ]
  },
  {
   "cell_type": "code",
   "execution_count": 21,
   "metadata": {},
   "outputs": [
    {
     "name": "stdout",
     "output_type": "stream",
     "text": [
      "(2, 2, 2)\n"
     ]
    },
    {
     "data": {
      "text/plain": [
       "array([[[0, 1],\n",
       "        [2, 3]],\n",
       "\n",
       "       [[4, 5],\n",
       "        [6, 7]]])"
      ]
     },
     "execution_count": 21,
     "metadata": {},
     "output_type": "execute_result"
    }
   ],
   "source": [
    "print(a3.shape)\n",
    "a3"
   ]
  },
  {
   "cell_type": "code",
   "execution_count": 22,
   "metadata": {},
   "outputs": [
    {
     "name": "stdout",
     "output_type": "stream",
     "text": [
      "10\n"
     ]
    },
    {
     "data": {
      "text/plain": [
       "array([[0., 1.],\n",
       "       [2., 3.],\n",
       "       [4., 5.],\n",
       "       [6., 7.],\n",
       "       [8., 9.]], dtype=float32)"
      ]
     },
     "execution_count": 22,
     "metadata": {},
     "output_type": "execute_result"
    }
   ],
   "source": [
    "print(a2.size)\n",
    "a2"
   ]
  },
  {
   "cell_type": "code",
   "execution_count": 23,
   "metadata": {},
   "outputs": [
    {
     "data": {
      "text/plain": [
       "8"
      ]
     },
     "execution_count": 23,
     "metadata": {},
     "output_type": "execute_result"
    }
   ],
   "source": [
    "a3.itemsize"
   ]
  },
  {
   "cell_type": "code",
   "execution_count": 24,
   "metadata": {},
   "outputs": [
    {
     "name": "stdout",
     "output_type": "stream",
     "text": [
      "int32\n",
      "float32\n",
      "int64\n"
     ]
    }
   ],
   "source": [
    "print(a1.dtype)\n",
    "print(a2.dtype)\n",
    "print(a3.dtype)\n"
   ]
  },
  {
   "cell_type": "markdown",
   "metadata": {},
   "source": [
    "### Changing Datatype"
   ]
  },
  {
   "cell_type": "code",
   "execution_count": 25,
   "metadata": {},
   "outputs": [
    {
     "data": {
      "text/plain": [
       "array([[[0, 1],\n",
       "        [2, 3]],\n",
       "\n",
       "       [[4, 5],\n",
       "        [6, 7]]], dtype=int32)"
      ]
     },
     "execution_count": 25,
     "metadata": {},
     "output_type": "execute_result"
    }
   ],
   "source": [
    "a3.astype(np.int32)"
   ]
  },
  {
   "cell_type": "markdown",
   "metadata": {},
   "source": [
    "### Array Operations"
   ]
  },
  {
   "cell_type": "code",
   "execution_count": 27,
   "metadata": {},
   "outputs": [
    {
     "name": "stdout",
     "output_type": "stream",
     "text": [
      "[[ 0  1  2  3]\n",
      " [ 4  5  6  7]\n",
      " [ 8  9 10 11]]\n",
      "[[12 13 14 15]\n",
      " [16 17 18 19]\n",
      " [20 21 22 23]]\n"
     ]
    }
   ],
   "source": [
    "a1 = np.arange(12).reshape(3,4)\n",
    "a2 = np.arange(12,24).reshape(3,4)\n",
    "print(a1)\n",
    "print(a2)"
   ]
  },
  {
   "cell_type": "code",
   "execution_count": 28,
   "metadata": {},
   "outputs": [
    {
     "data": {
      "text/plain": [
       "array([[   0,    1,    8,   27],\n",
       "       [  64,  125,  216,  343],\n",
       "       [ 512,  729, 1000, 1331]])"
      ]
     },
     "execution_count": 28,
     "metadata": {},
     "output_type": "execute_result"
    }
   ],
   "source": [
    "a1 ** 2\n",
    "a1 ** 3"
   ]
  },
  {
   "cell_type": "code",
   "execution_count": 29,
   "metadata": {},
   "outputs": [
    {
     "data": {
      "text/plain": [
       "array([[False, False, False,  True],\n",
       "       [False, False, False, False],\n",
       "       [False, False, False, False]])"
      ]
     },
     "execution_count": 29,
     "metadata": {},
     "output_type": "execute_result"
    }
   ],
   "source": [
    "a2 == 15"
   ]
  },
  {
   "cell_type": "code",
   "execution_count": 30,
   "metadata": {},
   "outputs": [
    {
     "data": {
      "text/plain": [
       "array([[                   0,                    1,                16384,\n",
       "                    14348907],\n",
       "       [          4294967296,         762939453125,      101559956668416,\n",
       "           11398895185373143],\n",
       "       [ 1152921504606846976, -1261475310744950487,  1864712049423024128,\n",
       "         6839173302027254275]])"
      ]
     },
     "execution_count": 30,
     "metadata": {},
     "output_type": "execute_result"
    }
   ],
   "source": [
    "a1 ** a2"
   ]
  },
  {
   "cell_type": "markdown",
   "metadata": {},
   "source": [
    "### Array Functions"
   ]
  },
  {
   "cell_type": "code",
   "execution_count": 34,
   "metadata": {},
   "outputs": [
    {
     "data": {
      "text/plain": [
       "array([[66., 25., 16., 13., 21.,  6., 51., 50., 65., 42., 55.],\n",
       "       [25., 30., 30., 26., 79., 81., 44., 72., 25., 97., 83.],\n",
       "       [37., 20., 34., 88., 93., 90., 70., 29., 31., 62., 69.],\n",
       "       [56., 55., 83., 13., 66., 99., 13., 86., 81.,  3., 96.],\n",
       "       [68.,  9., 72.,  9., 71., 62., 93., 44.,  1., 88.,  6.],\n",
       "       [41.,  7., 33., 71., 74., 96., 54., 35., 54., 67., 17.],\n",
       "       [62., 78., 62., 88.,  7., 92., 66., 84., 95.,  1., 71.]])"
      ]
     },
     "execution_count": 34,
     "metadata": {},
     "output_type": "execute_result"
    }
   ],
   "source": [
    "a1 = np.random.random((7,11))\n",
    "a1 = np.round(a1*100)\n",
    "a1"
   ]
  },
  {
   "cell_type": "code",
   "execution_count": 35,
   "metadata": {},
   "outputs": [
    {
     "data": {
      "text/plain": [
       "array([5.90960093e+11, 4.05405000e+09, 1.99542943e+11, 2.17433399e+10,\n",
       "       3.74508241e+11, 2.37118109e+12, 6.76838242e+11, 1.16144582e+12,\n",
       "       2.09323238e+10, 4.46777654e+09, 2.18987652e+11])"
      ]
     },
     "execution_count": 35,
     "metadata": {},
     "output_type": "execute_result"
    }
   ],
   "source": [
    "np.prod(a1,axis = 0)"
   ]
  },
  {
   "cell_type": "code",
   "execution_count": 38,
   "metadata": {},
   "outputs": [
    {
     "name": "stdout",
     "output_type": "stream",
     "text": [
      "[ 6. 25. 20.  3.  1.  7.  1.]\n",
      "[410. 592. 623. 651. 523. 549. 706.]\n",
      "[66. 97. 93. 99. 93. 96. 95.]\n",
      "[37.27272727 53.81818182 56.63636364 59.18181818 47.54545455 49.90909091\n",
      " 64.18181818]\n",
      "[20.70612957 27.11195034 26.00794538 33.30252019 33.51353495 25.20264974\n",
      " 30.44463882]\n",
      "[ 428.74380165  735.05785124  676.41322314 1109.05785124 1123.15702479\n",
      "  635.17355372  926.87603306]\n",
      "[[ 66.  91. 107. 120. 141. 147. 198. 248. 313. 355. 410.]\n",
      " [ 25.  55.  85. 111. 190. 271. 315. 387. 412. 509. 592.]\n",
      " [ 37.  57.  91. 179. 272. 362. 432. 461. 492. 554. 623.]\n",
      " [ 56. 111. 194. 207. 273. 372. 385. 471. 552. 555. 651.]\n",
      " [ 68.  77. 149. 158. 229. 291. 384. 428. 429. 517. 523.]\n",
      " [ 41.  48.  81. 152. 226. 322. 376. 411. 465. 532. 549.]\n",
      " [ 62. 140. 202. 290. 297. 389. 455. 539. 634. 635. 706.]]\n",
      "[42. 44. 62. 66. 62. 54. 71.]\n",
      "[42. 44. 62. 66. 62. 54. 71.]\n",
      "[ True  True  True  True  True  True  True]\n"
     ]
    }
   ],
   "source": [
    "print(np.min(a1, axis = 1))\n",
    "print(np.sum(a1,axis = 1))\n",
    "print(np.max(a1, axis = 1))\n",
    "print(np.mean(a1, axis = 1))\n",
    "print(np.std(a1, axis = 1))\n",
    "print(np.var(a1, axis = 1))\n",
    "print(np.cumsum(a1, axis = 1))\n",
    "print(np.median(a1, axis = 1))\n",
    "print(np.percentile(a1, 50, axis = 1))\n",
    "print(np.any(a1 > 0, axis = 1))"
   ]
  },
  {
   "cell_type": "code",
   "execution_count": 41,
   "metadata": {},
   "outputs": [
    {
     "name": "stdout",
     "output_type": "stream",
     "text": [
      "[[-0.02655115 -0.13235175 -0.28790332  0.42016704  0.83665564 -0.2794155\n",
      "   0.67022918 -0.26237485  0.82682868 -0.91652155 -0.99975517]\n",
      " [-0.13235175 -0.98803162 -0.98803162  0.76255845 -0.44411267 -0.62988799\n",
      "   0.01770193  0.25382336 -0.13235175  0.37960774  0.96836446]\n",
      " [-0.64353813  0.91294525  0.52908269  0.0353983  -0.94828214  0.89399666\n",
      "   0.77389068 -0.66363388 -0.40403765 -0.7391807  -0.11478481]\n",
      " [-0.521551   -0.99975517  0.96836446  0.42016704 -0.02655115 -0.99920683\n",
      "   0.42016704 -0.92345845 -0.62988799  0.14112001  0.98358775]\n",
      " [-0.89792768  0.41211849  0.25382336  0.41211849  0.95105465 -0.7391807\n",
      "  -0.94828214  0.01770193  0.84147098  0.0353983  -0.2794155 ]\n",
      " [-0.15862267  0.6569866   0.99991186  0.95105465 -0.98514626  0.98358775\n",
      "  -0.55878905 -0.42818267 -0.55878905 -0.85551998 -0.96139749]\n",
      " [-0.7391807   0.51397846 -0.7391807   0.0353983   0.6569866  -0.77946607\n",
      "  -0.02655115  0.73319032  0.68326171  0.84147098  0.95105465]]\n",
      "[[-0.99964746  0.99120281 -0.95765948  0.90744678 -0.54772926  0.96017029\n",
      "   0.7421542   0.96496603 -0.56245385 -0.39998531  0.02212676]\n",
      " [ 0.99120281  0.15425145  0.15425145  0.64691932 -0.89597095  0.77668598\n",
      "   0.99984331 -0.96725059  0.99120281 -0.92514754  0.24954012]\n",
      " [ 0.76541405  0.40808206 -0.84857027  0.99937328  0.3174287  -0.44807362\n",
      "   0.6333192  -0.74805753  0.91474236  0.67350716  0.99339038]\n",
      " [ 0.85322011  0.02212676  0.24954012  0.90744678 -0.99964746  0.03982088\n",
      "   0.90744678 -0.38369844  0.77668598 -0.9899925  -0.18043045]\n",
      " [ 0.44014302 -0.91113026 -0.96725059 -0.91113026 -0.30902273  0.67350716\n",
      "   0.3174287   0.99984331  0.54030231  0.99937328  0.96017029]\n",
      " [-0.98733928  0.75390225 -0.01327675 -0.30902273  0.17171734 -0.18043045\n",
      "  -0.82930983 -0.90369221 -0.82930983 -0.5177698  -0.27516334]\n",
      " [ 0.67350716 -0.85780309  0.67350716  0.99937328  0.75390225 -0.62644445\n",
      "  -0.99964746 -0.6800235   0.73017356  0.54030231 -0.30902273]]\n",
      "[[ 2.65605178e-02 -1.33526407e-01  3.00632242e-01  4.63021133e-01\n",
      "  -1.52749853e+00 -2.91006191e-01  9.03086149e-01 -2.71900612e-01\n",
      "  -1.47003826e+00  2.29138799e+00 -4.51830879e+01]\n",
      " [-1.33526407e-01 -6.40533120e+00 -6.40533120e+00  1.17875355e+00\n",
      "   4.95677533e-01 -8.10994416e-01  1.77046993e-02 -2.62417378e-01\n",
      "  -1.33526407e-01 -4.10321299e-01  3.88059631e+00]\n",
      " [-8.40771255e-01  2.23716094e+00 -6.23498963e-01  3.54205013e-02\n",
      "  -2.98738626e+00 -1.99520041e+00  1.22195992e+00  8.87142844e-01\n",
      "  -4.41695568e-01 -1.09750978e+00 -1.15548546e-01]\n",
      " [-6.11273688e-01 -4.51830879e+01  3.88059631e+00  4.63021133e-01\n",
      "   2.65605178e-02 -2.50925350e+01  4.63021133e-01  2.40672971e+00\n",
      "  -8.10994416e-01 -1.42546543e-01 -5.45134011e+00]\n",
      " [-2.04008160e+00 -4.52315659e-01 -2.62417378e-01 -4.52315659e-01\n",
      "  -3.07762040e+00 -1.09750978e+00 -2.98738626e+00  1.77046993e-02\n",
      "   1.55740772e+00  3.54205013e-02 -2.91006191e-01]\n",
      " [ 1.60656699e-01  8.71447983e-01 -7.53130148e+01 -3.07762040e+00\n",
      "  -5.73702254e+00 -5.45134011e+00  6.73800101e-01  4.73814720e-01\n",
      "   6.73800101e-01  1.65231726e+00  3.49391565e+00]\n",
      " [-1.09750978e+00 -5.99179998e-01 -1.09750978e+00  3.54205013e-02\n",
      "   8.71447983e-01  1.24427006e+00  2.65605178e-02 -1.07818381e+00\n",
      "   9.35752472e-01  1.55740772e+00 -3.07762040e+00]]\n",
      "[[4.18965474 3.21887582 2.77258872 2.56494936 3.04452244 1.79175947\n",
      "  3.93182563 3.91202301 4.17438727 3.73766962 4.00733319]\n",
      " [3.21887582 3.40119738 3.40119738 3.25809654 4.36944785 4.39444915\n",
      "  3.78418963 4.27666612 3.21887582 4.57471098 4.41884061]\n",
      " [3.61091791 2.99573227 3.52636052 4.47733681 4.53259949 4.49980967\n",
      "  4.24849524 3.36729583 3.4339872  4.12713439 4.2341065 ]\n",
      " [4.02535169 4.00733319 4.41884061 2.56494936 4.18965474 4.59511985\n",
      "  2.56494936 4.4543473  4.39444915 1.09861229 4.56434819]\n",
      " [4.21950771 2.19722458 4.27666612 2.19722458 4.26267988 4.12713439\n",
      "  4.53259949 3.78418963 0.         4.47733681 1.79175947]\n",
      " [3.71357207 1.94591015 3.49650756 4.26267988 4.30406509 4.56434819\n",
      "  3.98898405 3.55534806 3.98898405 4.20469262 2.83321334]\n",
      " [4.12713439 4.35670883 4.12713439 4.47733681 1.94591015 4.52178858\n",
      "  4.18965474 4.4308168  4.55387689 0.         4.26267988]]\n",
      "[[1.81954394 1.39794001 1.20411998 1.11394335 1.32221929 0.77815125\n",
      "  1.70757018 1.69897    1.81291336 1.62324929 1.74036269]\n",
      " [1.39794001 1.47712125 1.47712125 1.41497335 1.89762709 1.90848502\n",
      "  1.64345268 1.8573325  1.39794001 1.98677173 1.91907809]\n",
      " [1.56820172 1.30103    1.53147892 1.94448267 1.96848295 1.95424251\n",
      "  1.84509804 1.462398   1.49136169 1.79239169 1.83884909]\n",
      " [1.74818803 1.74036269 1.91907809 1.11394335 1.81954394 1.99563519\n",
      "  1.11394335 1.93449845 1.90848502 0.47712125 1.98227123]\n",
      " [1.83250891 0.95424251 1.8573325  0.95424251 1.85125835 1.79239169\n",
      "  1.96848295 1.64345268 0.         1.94448267 0.77815125]\n",
      " [1.61278386 0.84509804 1.51851394 1.85125835 1.86923172 1.98227123\n",
      "  1.73239376 1.54406804 1.73239376 1.8260748  1.23044892]\n",
      " [1.79239169 1.8920946  1.79239169 1.94448267 0.84509804 1.96378783\n",
      "  1.81954394 1.92427929 1.97772361 0.         1.85125835]]\n"
     ]
    }
   ],
   "source": [
    "print(np.sin(a1))\n",
    "print(np.cos(a1))\n",
    "print(np.tan(a1))\n",
    "print(np.log(a1))\n",
    "print(np.log10(a1))"
   ]
  },
  {
   "cell_type": "code",
   "execution_count": 42,
   "metadata": {},
   "outputs": [
    {
     "data": {
      "text/plain": [
       "array([[ 28,  34],\n",
       "       [ 76,  98],\n",
       "       [124, 162]])"
      ]
     },
     "execution_count": 42,
     "metadata": {},
     "output_type": "execute_result"
    }
   ],
   "source": [
    "a2 = np.arange(12).reshape(3,4)\n",
    "a4 = np.arange(8).reshape(4, 2)\n",
    "np.dot(a2, a4)"
   ]
  },
  {
   "cell_type": "code",
   "execution_count": 43,
   "metadata": {},
   "outputs": [
    {
     "data": {
      "text/plain": [
       "array([[4.60718663e+28, 7.20048993e+10, 8.88611052e+06, 4.42413392e+05,\n",
       "        1.31881573e+09, 4.03428793e+02, 1.40934908e+22, 5.18470553e+21,\n",
       "        1.69488924e+28, 1.73927494e+18, 7.69478527e+23],\n",
       "       [7.20048993e+10, 1.06864746e+13, 1.06864746e+13, 1.95729609e+11,\n",
       "        2.03828107e+34, 1.50609731e+35, 1.28516001e+19, 1.85867175e+31,\n",
       "        7.20048993e+10, 1.33833472e+42, 1.11286375e+36],\n",
       "       [1.17191424e+16, 4.85165195e+08, 5.83461743e+14, 1.65163625e+38,\n",
       "        2.45124554e+40, 1.22040329e+39, 2.51543867e+30, 3.93133430e+12,\n",
       "        2.90488497e+13, 8.43835667e+26, 9.25378173e+29],\n",
       "       [2.09165950e+24, 7.69478527e+23, 1.11286375e+36, 4.42413392e+05,\n",
       "        4.60718663e+28, 9.88903032e+42, 4.42413392e+05, 2.23524660e+37,\n",
       "        1.50609731e+35, 2.00855369e+01, 4.92345829e+41],\n",
       "       [3.40427605e+29, 8.10308393e+03, 1.85867175e+31, 8.10308393e+03,\n",
       "        6.83767123e+30, 8.43835667e+26, 2.45124554e+40, 1.28516001e+19,\n",
       "        2.71828183e+00, 1.65163625e+38, 4.03428793e+02],\n",
       "       [6.39843494e+17, 1.09663316e+03, 2.14643580e+14, 6.83767123e+30,\n",
       "        1.37338298e+32, 4.92345829e+41, 2.83075330e+23, 1.58601345e+15,\n",
       "        2.83075330e+23, 1.25236317e+29, 2.41549528e+07],\n",
       "       [8.43835667e+26, 7.49841700e+33, 8.43835667e+26, 1.65163625e+38,\n",
       "        1.09663316e+03, 9.01762841e+39, 4.60718663e+28, 3.02507732e+36,\n",
       "        1.81123908e+41, 2.71828183e+00, 6.83767123e+30]])"
      ]
     },
     "execution_count": 43,
     "metadata": {},
     "output_type": "execute_result"
    }
   ],
   "source": [
    "np.exp(a1)"
   ]
  },
  {
   "cell_type": "code",
   "execution_count": 44,
   "metadata": {},
   "outputs": [
    {
     "data": {
      "text/plain": [
       "array([[36., 95., 13.],\n",
       "       [48., 85., 60.]])"
      ]
     },
     "execution_count": 44,
     "metadata": {},
     "output_type": "execute_result"
    }
   ],
   "source": [
    "np.ceil(np.random.random((2,3))*100)"
   ]
  },
  {
   "cell_type": "markdown",
   "metadata": {},
   "source": [
    "### Indexing and Slicing"
   ]
  },
  {
   "cell_type": "code",
   "execution_count": 53,
   "metadata": {},
   "outputs": [
    {
     "data": {
      "text/plain": [
       "array([[[ 0,  1],\n",
       "        [ 2,  3],\n",
       "        [ 4,  5]],\n",
       "\n",
       "       [[ 6,  7],\n",
       "        [ 8,  9],\n",
       "        [10, 11]]])"
      ]
     },
     "execution_count": 53,
     "metadata": {},
     "output_type": "execute_result"
    }
   ],
   "source": [
    "a5 = np.arange(10)\n",
    "a6 = np.arange(10).reshape(2,5)\n",
    "a7 = np.arange(12).reshape(2,3,2)\n",
    "a7"
   ]
  },
  {
   "cell_type": "code",
   "execution_count": 54,
   "metadata": {},
   "outputs": [
    {
     "data": {
      "text/plain": [
       "array([0, 1, 2, 3, 4, 5, 6, 7, 8, 9])"
      ]
     },
     "execution_count": 54,
     "metadata": {},
     "output_type": "execute_result"
    }
   ],
   "source": [
    "a5"
   ]
  },
  {
   "cell_type": "code",
   "execution_count": 55,
   "metadata": {},
   "outputs": [
    {
     "data": {
      "text/plain": [
       "array([[0, 1, 2, 3, 4],\n",
       "       [5, 6, 7, 8, 9]])"
      ]
     },
     "execution_count": 55,
     "metadata": {},
     "output_type": "execute_result"
    }
   ],
   "source": [
    "a6"
   ]
  },
  {
   "cell_type": "code",
   "execution_count": 56,
   "metadata": {},
   "outputs": [
    {
     "data": {
      "text/plain": [
       "np.int64(4)"
      ]
     },
     "execution_count": 56,
     "metadata": {},
     "output_type": "execute_result"
    }
   ],
   "source": [
    "a5[4]"
   ]
  },
  {
   "cell_type": "code",
   "execution_count": 57,
   "metadata": {},
   "outputs": [
    {
     "data": {
      "text/plain": [
       "np.int64(7)"
      ]
     },
     "execution_count": 57,
     "metadata": {},
     "output_type": "execute_result"
    }
   ],
   "source": [
    "a6[1,2]"
   ]
  },
  {
   "cell_type": "code",
   "execution_count": 58,
   "metadata": {},
   "outputs": [
    {
     "data": {
      "text/plain": [
       "np.int64(11)"
      ]
     },
     "execution_count": 58,
     "metadata": {},
     "output_type": "execute_result"
    }
   ],
   "source": [
    "a7[1,2,1]"
   ]
  },
  {
   "cell_type": "code",
   "execution_count": 59,
   "metadata": {},
   "outputs": [
    {
     "data": {
      "text/plain": [
       "np.int64(6)"
      ]
     },
     "execution_count": 59,
     "metadata": {},
     "output_type": "execute_result"
    }
   ],
   "source": [
    "a3[1,1,0]"
   ]
  },
  {
   "cell_type": "code",
   "execution_count": 60,
   "metadata": {},
   "outputs": [
    {
     "data": {
      "text/plain": [
       "array([0, 1, 2, 3, 4, 5, 6, 7, 8, 9])"
      ]
     },
     "execution_count": 60,
     "metadata": {},
     "output_type": "execute_result"
    }
   ],
   "source": [
    "a5"
   ]
  },
  {
   "cell_type": "code",
   "execution_count": 61,
   "metadata": {},
   "outputs": [
    {
     "data": {
      "text/plain": [
       "array([[37., 20., 34., 88., 93., 90., 70., 29., 31., 62., 69.],\n",
       "       [68.,  9., 72.,  9., 71., 62., 93., 44.,  1., 88.,  6.]])"
      ]
     },
     "execution_count": 61,
     "metadata": {},
     "output_type": "execute_result"
    }
   ],
   "source": [
    "a1[2:5:2]"
   ]
  },
  {
   "cell_type": "code",
   "execution_count": 62,
   "metadata": {},
   "outputs": [
    {
     "data": {
      "text/plain": [
       "array([[ 0,  1,  2,  3],\n",
       "       [ 4,  5,  6,  7],\n",
       "       [ 8,  9, 10, 11]])"
      ]
     },
     "execution_count": 62,
     "metadata": {},
     "output_type": "execute_result"
    }
   ],
   "source": [
    "a2"
   ]
  },
  {
   "cell_type": "code",
   "execution_count": 64,
   "metadata": {},
   "outputs": [
    {
     "data": {
      "text/plain": [
       "array([[1, 3],\n",
       "       [5, 7]])"
      ]
     },
     "execution_count": 64,
     "metadata": {},
     "output_type": "execute_result"
    }
   ],
   "source": [
    "a2[0:2,1::2]"
   ]
  },
  {
   "cell_type": "code",
   "execution_count": 65,
   "metadata": {},
   "outputs": [
    {
     "data": {
      "text/plain": [
       "array([[1, 3]])"
      ]
     },
     "execution_count": 65,
     "metadata": {},
     "output_type": "execute_result"
    }
   ],
   "source": [
    "a6[::2,1::2]"
   ]
  },
  {
   "cell_type": "code",
   "execution_count": 66,
   "metadata": {},
   "outputs": [
    {
     "data": {
      "text/plain": [
       "array([5, 8])"
      ]
     },
     "execution_count": 66,
     "metadata": {},
     "output_type": "execute_result"
    }
   ],
   "source": [
    "a6[1,::3]"
   ]
  },
  {
   "cell_type": "code",
   "execution_count": 67,
   "metadata": {},
   "outputs": [
    {
     "data": {
      "text/plain": [
       "array([0, 1, 2, 3, 4])"
      ]
     },
     "execution_count": 67,
     "metadata": {},
     "output_type": "execute_result"
    }
   ],
   "source": [
    "a6[0,:]"
   ]
  },
  {
   "cell_type": "code",
   "execution_count": 68,
   "metadata": {},
   "outputs": [
    {
     "data": {
      "text/plain": [
       "array([0, 1, 2, 3])"
      ]
     },
     "execution_count": 68,
     "metadata": {},
     "output_type": "execute_result"
    }
   ],
   "source": [
    "a2[0,:]"
   ]
  },
  {
   "cell_type": "code",
   "execution_count": 69,
   "metadata": {},
   "outputs": [
    {
     "data": {
      "text/plain": [
       "array([2, 7])"
      ]
     },
     "execution_count": 69,
     "metadata": {},
     "output_type": "execute_result"
    }
   ],
   "source": [
    "a6[:,2]"
   ]
  },
  {
   "cell_type": "code",
   "execution_count": 70,
   "metadata": {},
   "outputs": [
    {
     "data": {
      "text/plain": [
       "array([[6, 7]])"
      ]
     },
     "execution_count": 70,
     "metadata": {},
     "output_type": "execute_result"
    }
   ],
   "source": [
    "a6[1:,1:3]"
   ]
  },
  {
   "cell_type": "code",
   "execution_count": 71,
   "metadata": {},
   "outputs": [
    {
     "data": {
      "text/plain": [
       "array([[[ 0,  1,  2],\n",
       "        [ 3,  4,  5],\n",
       "        [ 6,  7,  8]],\n",
       "\n",
       "       [[ 9, 10, 11],\n",
       "        [12, 13, 14],\n",
       "        [15, 16, 17]],\n",
       "\n",
       "       [[18, 19, 20],\n",
       "        [21, 22, 23],\n",
       "        [24, 25, 26]]])"
      ]
     },
     "execution_count": 71,
     "metadata": {},
     "output_type": "execute_result"
    }
   ],
   "source": [
    "a8 = np.arange(27).reshape(3,3,3)\n",
    "a8"
   ]
  },
  {
   "cell_type": "code",
   "execution_count": 73,
   "metadata": {},
   "outputs": [
    {
     "data": {
      "text/plain": [
       "array([[ 0,  2],\n",
       "       [18, 20]])"
      ]
     },
     "execution_count": 73,
     "metadata": {},
     "output_type": "execute_result"
    }
   ],
   "source": [
    "a8[::2,0,::2]"
   ]
  },
  {
   "cell_type": "code",
   "execution_count": 74,
   "metadata": {},
   "outputs": [
    {
     "data": {
      "text/plain": [
       "array([[22, 23],\n",
       "       [25, 26]])"
      ]
     },
     "execution_count": 74,
     "metadata": {},
     "output_type": "execute_result"
    }
   ],
   "source": [
    "a8[2,1:,1:]"
   ]
  },
  {
   "cell_type": "code",
   "execution_count": 76,
   "metadata": {},
   "outputs": [
    {
     "data": {
      "text/plain": [
       "array([3, 4, 5])"
      ]
     },
     "execution_count": 76,
     "metadata": {},
     "output_type": "execute_result"
    }
   ],
   "source": [
    "a8[0,1,:]"
   ]
  },
  {
   "cell_type": "markdown",
   "metadata": {},
   "source": [
    "### Iterating"
   ]
  },
  {
   "cell_type": "code",
   "execution_count": 77,
   "metadata": {},
   "outputs": [
    {
     "name": "stdout",
     "output_type": "stream",
     "text": [
      "[66. 25. 16. 13. 21.  6. 51. 50. 65. 42. 55.]\n",
      "[25. 30. 30. 26. 79. 81. 44. 72. 25. 97. 83.]\n",
      "[37. 20. 34. 88. 93. 90. 70. 29. 31. 62. 69.]\n",
      "[56. 55. 83. 13. 66. 99. 13. 86. 81.  3. 96.]\n",
      "[68.  9. 72.  9. 71. 62. 93. 44.  1. 88.  6.]\n",
      "[41.  7. 33. 71. 74. 96. 54. 35. 54. 67. 17.]\n",
      "[62. 78. 62. 88.  7. 92. 66. 84. 95.  1. 71.]\n"
     ]
    }
   ],
   "source": [
    "a1\n",
    "for i in a1:\n",
    "    print(i)"
   ]
  },
  {
   "cell_type": "code",
   "execution_count": 79,
   "metadata": {},
   "outputs": [
    {
     "data": {
      "text/plain": [
       "array([0, 1, 2, 3, 4, 5, 6, 7, 8, 9])"
      ]
     },
     "execution_count": 79,
     "metadata": {},
     "output_type": "execute_result"
    }
   ],
   "source": [
    "a0 = np.arange(10)\n",
    "a0"
   ]
  },
  {
   "cell_type": "code",
   "execution_count": 81,
   "metadata": {},
   "outputs": [
    {
     "name": "stdout",
     "output_type": "stream",
     "text": [
      "[0 1 2 3]\n",
      "[4 5 6 7]\n",
      "[ 8  9 10 11]\n"
     ]
    }
   ],
   "source": [
    "for i in a2:\n",
    "    print(i)"
   ]
  },
  {
   "cell_type": "code",
   "execution_count": 83,
   "metadata": {},
   "outputs": [
    {
     "data": {
      "text/plain": [
       "array([[[ 0,  1,  2],\n",
       "        [ 3,  4,  5],\n",
       "        [ 6,  7,  8]],\n",
       "\n",
       "       [[ 9, 10, 11],\n",
       "        [12, 13, 14],\n",
       "        [15, 16, 17]],\n",
       "\n",
       "       [[18, 19, 20],\n",
       "        [21, 22, 23],\n",
       "        [24, 25, 26]]])"
      ]
     },
     "execution_count": 83,
     "metadata": {},
     "output_type": "execute_result"
    }
   ],
   "source": [
    "a8"
   ]
  },
  {
   "cell_type": "code",
   "execution_count": 84,
   "metadata": {},
   "outputs": [
    {
     "name": "stdout",
     "output_type": "stream",
     "text": [
      "[[0 1 2]\n",
      " [3 4 5]\n",
      " [6 7 8]]\n",
      "[[ 9 10 11]\n",
      " [12 13 14]\n",
      " [15 16 17]]\n",
      "[[18 19 20]\n",
      " [21 22 23]\n",
      " [24 25 26]]\n"
     ]
    }
   ],
   "source": [
    "for i in a8:\n",
    "    print(i)"
   ]
  },
  {
   "cell_type": "code",
   "execution_count": 85,
   "metadata": {},
   "outputs": [
    {
     "name": "stdout",
     "output_type": "stream",
     "text": [
      "0\n",
      "1\n",
      "2\n",
      "3\n",
      "4\n",
      "5\n",
      "6\n",
      "7\n",
      "8\n",
      "9\n",
      "10\n",
      "11\n",
      "12\n",
      "13\n",
      "14\n",
      "15\n",
      "16\n",
      "17\n",
      "18\n",
      "19\n",
      "20\n",
      "21\n",
      "22\n",
      "23\n",
      "24\n",
      "25\n",
      "26\n"
     ]
    }
   ],
   "source": [
    "for i in np.nditer(a8):\n",
    "    print(i)"
   ]
  },
  {
   "cell_type": "markdown",
   "metadata": {},
   "source": [
    "### Reshaping"
   ]
  },
  {
   "cell_type": "code",
   "execution_count": 86,
   "metadata": {},
   "outputs": [
    {
     "data": {
      "text/plain": [
       "array([[ 0,  4,  8],\n",
       "       [ 1,  5,  9],\n",
       "       [ 2,  6, 10],\n",
       "       [ 3,  7, 11]])"
      ]
     },
     "execution_count": 86,
     "metadata": {},
     "output_type": "execute_result"
    }
   ],
   "source": [
    "np.transpose(a2)"
   ]
  },
  {
   "cell_type": "code",
   "execution_count": 87,
   "metadata": {},
   "outputs": [
    {
     "data": {
      "text/plain": [
       "array([[[ 0,  9, 18],\n",
       "        [ 3, 12, 21],\n",
       "        [ 6, 15, 24]],\n",
       "\n",
       "       [[ 1, 10, 19],\n",
       "        [ 4, 13, 22],\n",
       "        [ 7, 16, 25]],\n",
       "\n",
       "       [[ 2, 11, 20],\n",
       "        [ 5, 14, 23],\n",
       "        [ 8, 17, 26]]])"
      ]
     },
     "execution_count": 87,
     "metadata": {},
     "output_type": "execute_result"
    }
   ],
   "source": [
    "np.transpose(a8)"
   ]
  },
  {
   "cell_type": "code",
   "execution_count": 88,
   "metadata": {},
   "outputs": [
    {
     "data": {
      "text/plain": [
       "array([ 0,  1,  2,  3,  4,  5,  6,  7,  8,  9, 10, 11, 12, 13, 14, 15, 16,\n",
       "       17, 18, 19, 20, 21, 22, 23, 24, 25, 26])"
      ]
     },
     "execution_count": 88,
     "metadata": {},
     "output_type": "execute_result"
    }
   ],
   "source": [
    "a8.ravel()"
   ]
  },
  {
   "cell_type": "markdown",
   "metadata": {},
   "source": [
    "### Stacking"
   ]
  },
  {
   "cell_type": "code",
   "execution_count": 89,
   "metadata": {},
   "outputs": [
    {
     "data": {
      "text/plain": [
       "array([[12, 13, 14, 15],\n",
       "       [16, 17, 18, 19],\n",
       "       [20, 21, 22, 23]])"
      ]
     },
     "execution_count": 89,
     "metadata": {},
     "output_type": "execute_result"
    }
   ],
   "source": [
    "a4 = np.arange(12).reshape(3,4)\n",
    "a5 = np.arange(12,24).reshape(3,4)\n",
    "a5"
   ]
  },
  {
   "cell_type": "code",
   "execution_count": 90,
   "metadata": {},
   "outputs": [
    {
     "data": {
      "text/plain": [
       "array([[ 0,  1,  2,  3, 12, 13, 14, 15],\n",
       "       [ 4,  5,  6,  7, 16, 17, 18, 19],\n",
       "       [ 8,  9, 10, 11, 20, 21, 22, 23]])"
      ]
     },
     "execution_count": 90,
     "metadata": {},
     "output_type": "execute_result"
    }
   ],
   "source": [
    "np.hstack((a4,a5))"
   ]
  },
  {
   "cell_type": "code",
   "execution_count": 91,
   "metadata": {},
   "outputs": [
    {
     "data": {
      "text/plain": [
       "array([[ 0,  1,  2,  3],\n",
       "       [ 4,  5,  6,  7],\n",
       "       [ 8,  9, 10, 11],\n",
       "       [12, 13, 14, 15],\n",
       "       [16, 17, 18, 19],\n",
       "       [20, 21, 22, 23]])"
      ]
     },
     "execution_count": 91,
     "metadata": {},
     "output_type": "execute_result"
    }
   ],
   "source": [
    "np.vstack((a4,a5))"
   ]
  },
  {
   "cell_type": "markdown",
   "metadata": {},
   "source": [
    "### Splitting"
   ]
  },
  {
   "cell_type": "code",
   "execution_count": 92,
   "metadata": {},
   "outputs": [
    {
     "data": {
      "text/plain": [
       "array([[ 0,  1,  2,  3],\n",
       "       [ 4,  5,  6,  7],\n",
       "       [ 8,  9, 10, 11]])"
      ]
     },
     "execution_count": 92,
     "metadata": {},
     "output_type": "execute_result"
    }
   ],
   "source": [
    "a4"
   ]
  },
  {
   "cell_type": "code",
   "execution_count": 94,
   "metadata": {},
   "outputs": [
    {
     "data": {
      "text/plain": [
       "[array([[0],\n",
       "        [4],\n",
       "        [8]]),\n",
       " array([[1],\n",
       "        [5],\n",
       "        [9]]),\n",
       " array([[ 2],\n",
       "        [ 6],\n",
       "        [10]]),\n",
       " array([[ 3],\n",
       "        [ 7],\n",
       "        [11]])]"
      ]
     },
     "execution_count": 94,
     "metadata": {},
     "output_type": "execute_result"
    }
   ],
   "source": [
    "np.hsplit(a4,4)"
   ]
  },
  {
   "cell_type": "code",
   "execution_count": 95,
   "metadata": {},
   "outputs": [
    {
     "data": {
      "text/plain": [
       "array([[12, 13, 14, 15],\n",
       "       [16, 17, 18, 19],\n",
       "       [20, 21, 22, 23]])"
      ]
     },
     "execution_count": 95,
     "metadata": {},
     "output_type": "execute_result"
    }
   ],
   "source": [
    "a5"
   ]
  },
  {
   "cell_type": "code",
   "execution_count": 98,
   "metadata": {},
   "outputs": [
    {
     "data": {
      "text/plain": [
       "[array([[12, 13, 14, 15]]),\n",
       " array([[16, 17, 18, 19]]),\n",
       " array([[20, 21, 22, 23]])]"
      ]
     },
     "execution_count": 98,
     "metadata": {},
     "output_type": "execute_result"
    }
   ],
   "source": [
    "np.vsplit(a5,3)"
   ]
  }
 ],
 "metadata": {
  "kernelspec": {
   "display_name": "Python 3",
   "language": "python",
   "name": "python3"
  },
  "language_info": {
   "codemirror_mode": {
    "name": "ipython",
    "version": 3
   },
   "file_extension": ".py",
   "mimetype": "text/x-python",
   "name": "python",
   "nbconvert_exporter": "python",
   "pygments_lexer": "ipython3",
   "version": "3.13.2"
  }
 },
 "nbformat": 4,
 "nbformat_minor": 2
}
