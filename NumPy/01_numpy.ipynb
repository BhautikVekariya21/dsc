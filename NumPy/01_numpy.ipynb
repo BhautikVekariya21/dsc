{
 "cells": [
  {
   "cell_type": "markdown",
   "metadata": {},
   "source": [
    "### What is numpy?\n",
    "\n",
    "NumPy is the fundamental package for scientific computing in Python. It is a Python library that provides a multidimensional array object, various derived objects (such as masked arrays and matrices), and an assortment of routines for fast operations on arrays, including mathematical, logical, shape manipulation, sorting, selecting, I/O, discrete Fourier transforms, basic linear algebra, basic statistical operations, random simulation and much more.\n",
    "\n",
    "\n",
    "At the core of the NumPy package, is the ndarray object. This encapsulates n-dimensional arrays of homogeneous data types"
   ]
  },
  {
   "cell_type": "markdown",
   "metadata": {},
   "source": [
    "### Numpy Arrays Vs Python Sequences\n",
    "\n",
    "- NumPy arrays have a fixed size at creation, unlike Python lists (which can grow dynamically). Changing the size of an ndarray will create a new array and delete the original.\n",
    "\n",
    "- The elements in a NumPy array are all required to be of the same data type, and thus will be the same size in memory.\n",
    "\n",
    "- NumPy arrays facilitate advanced mathematical and other types of operations on large numbers of data. Typically, such operations are executed more efficiently and with less code than is possible using Python’s built-in sequences.\n",
    "\n",
    "- A growing plethora of scientific and mathematical Python-based packages are using NumPy arrays; though these typically support Python-sequence input, they convert such input to NumPy arrays prior to processing, and they often output NumPy arrays."
   ]
  },
  {
   "cell_type": "markdown",
   "metadata": {},
   "source": [
    "### Creating Numpy Arrays"
   ]
  },
  {
   "cell_type": "code",
   "execution_count": 1,
   "metadata": {},
   "outputs": [
    {
     "name": "stdout",
     "output_type": "stream",
     "text": [
      "[ 1  2  3  4  5  6  7  8  9 10]\n"
     ]
    }
   ],
   "source": [
    "import numpy as np # type: ignore\n",
    "a = np.array([1,2,3,4,5,6,7,8,9,10])\n",
    "print(a)"
   ]
  },
  {
   "cell_type": "code",
   "execution_count": 2,
   "metadata": {},
   "outputs": [
    {
     "data": {
      "text/plain": [
       "numpy.ndarray"
      ]
     },
     "execution_count": 2,
     "metadata": {},
     "output_type": "execute_result"
    }
   ],
   "source": [
    "b = np.array([[1,2,3],[4,5,6],[7,8,9]])\n",
    "type(b)"
   ]
  },
  {
   "cell_type": "code",
   "execution_count": 7,
   "metadata": {},
   "outputs": [
    {
     "name": "stdout",
     "output_type": "stream",
     "text": [
      "[[[1 2]\n",
      "  [3 4]]\n",
      "\n",
      " [[5 6]\n",
      "  [7 8]]]\n"
     ]
    }
   ],
   "source": [
    "c = np.array([[[1,2],[3,4]],[[5,6],[7,8]]])\n",
    "print(c)"
   ]
  },
  {
   "cell_type": "code",
   "execution_count": 8,
   "metadata": {},
   "outputs": [
    {
     "data": {
      "text/plain": [
       "array([1., 2., 3.])"
      ]
     },
     "execution_count": 8,
     "metadata": {},
     "output_type": "execute_result"
    }
   ],
   "source": [
    "np.array([1,2,3],dtype = float)"
   ]
  },
  {
   "cell_type": "code",
   "execution_count": 9,
   "metadata": {},
   "outputs": [
    {
     "data": {
      "text/plain": [
       "array([[[[ 0,  1],\n",
       "         [ 2,  3]],\n",
       "\n",
       "        [[ 4,  5],\n",
       "         [ 6,  7]]],\n",
       "\n",
       "\n",
       "       [[[ 8,  9],\n",
       "         [10, 11]],\n",
       "\n",
       "        [[12, 13],\n",
       "         [14, 15]]]])"
      ]
     },
     "execution_count": 9,
     "metadata": {},
     "output_type": "execute_result"
    }
   ],
   "source": [
    "np.arange(16).reshape(2,2,2,2)"
   ]
  },
  {
   "cell_type": "code",
   "execution_count": 10,
   "metadata": {},
   "outputs": [
    {
     "data": {
      "text/plain": [
       "array([[1., 1., 1., 1.],\n",
       "       [1., 1., 1., 1.],\n",
       "       [1., 1., 1., 1.]])"
      ]
     },
     "execution_count": 10,
     "metadata": {},
     "output_type": "execute_result"
    }
   ],
   "source": [
    "np.ones((3,4))"
   ]
  },
  {
   "cell_type": "code",
   "execution_count": 11,
   "metadata": {},
   "outputs": [
    {
     "data": {
      "text/plain": [
       "array([[0., 0., 0., 0.],\n",
       "       [0., 0., 0., 0.],\n",
       "       [0., 0., 0., 0.]])"
      ]
     },
     "execution_count": 11,
     "metadata": {},
     "output_type": "execute_result"
    }
   ],
   "source": [
    "np.zeros((3,4))"
   ]
  },
  {
   "cell_type": "code",
   "execution_count": 12,
   "metadata": {},
   "outputs": [
    {
     "data": {
      "text/plain": [
       "array([[0.56170335, 0.79122302, 0.18785756, 0.19167583],\n",
       "       [0.42329517, 0.81096359, 0.15644583, 0.29990426],\n",
       "       [0.1178903 , 0.09787046, 0.13087081, 0.41411298]])"
      ]
     },
     "execution_count": 12,
     "metadata": {},
     "output_type": "execute_result"
    }
   ],
   "source": [
    "np.random.random((3,4))"
   ]
  },
  {
   "cell_type": "code",
   "execution_count": 13,
   "metadata": {},
   "outputs": [
    {
     "data": {
      "text/plain": [
       "array([-10.        ,  -7.77777778,  -5.55555556,  -3.33333333,\n",
       "        -1.11111111,   1.11111111,   3.33333333,   5.55555556,\n",
       "         7.77777778,  10.        ])"
      ]
     },
     "execution_count": 13,
     "metadata": {},
     "output_type": "execute_result"
    }
   ],
   "source": [
    "np.linspace(-10,10,10,dtype=float)"
   ]
  },
  {
   "cell_type": "code",
   "execution_count": 14,
   "metadata": {},
   "outputs": [
    {
     "data": {
      "text/plain": [
       "array([[1., 0., 0.],\n",
       "       [0., 1., 0.],\n",
       "       [0., 0., 1.]])"
      ]
     },
     "execution_count": 14,
     "metadata": {},
     "output_type": "execute_result"
    }
   ],
   "source": [
    "np.identity(3)"
   ]
  },
  {
   "cell_type": "markdown",
   "metadata": {},
   "source": [
    "### Array Attributes"
   ]
  },
  {
   "cell_type": "code",
   "execution_count": 18,
   "metadata": {},
   "outputs": [
    {
     "name": "stdout",
     "output_type": "stream",
     "text": [
      "[0 1 2 3 4 5 6 7 8 9]\n",
      "[[0. 1.]\n",
      " [2. 3.]\n",
      " [4. 5.]\n",
      " [6. 7.]\n",
      " [8. 9.]]\n",
      "[[[0 1]\n",
      "  [2 3]]\n",
      "\n",
      " [[4 5]\n",
      "  [6 7]]]\n",
      "int32\n",
      "float32\n",
      "int64\n"
     ]
    }
   ],
   "source": [
    "a1 = np.arange(10,dtype = np.int32)\n",
    "a2 = np.arange(10, dtype = np.float32).reshape(5,2)\n",
    "a3 = np.arange(8).reshape(2,2,2)\n",
    "print(a1)\n",
    "print(a2)\n",
    "print(a3)\n",
    "print(a1.dtype)\n",
    "print(a2.dtype)\n",
    "print(a3.dtype)"
   ]
  },
  {
   "cell_type": "code",
   "execution_count": 19,
   "metadata": {},
   "outputs": [
    {
     "data": {
      "text/plain": [
       "3"
      ]
     },
     "execution_count": 19,
     "metadata": {},
     "output_type": "execute_result"
    }
   ],
   "source": [
    "a3.ndim"
   ]
  },
  {
   "cell_type": "code",
   "execution_count": 21,
   "metadata": {},
   "outputs": [
    {
     "name": "stdout",
     "output_type": "stream",
     "text": [
      "(2, 2, 2)\n"
     ]
    },
    {
     "data": {
      "text/plain": [
       "array([[[0, 1],\n",
       "        [2, 3]],\n",
       "\n",
       "       [[4, 5],\n",
       "        [6, 7]]])"
      ]
     },
     "execution_count": 21,
     "metadata": {},
     "output_type": "execute_result"
    }
   ],
   "source": [
    "print(a3.shape)\n",
    "a3"
   ]
  },
  {
   "cell_type": "code",
   "execution_count": 22,
   "metadata": {},
   "outputs": [
    {
     "name": "stdout",
     "output_type": "stream",
     "text": [
      "10\n"
     ]
    },
    {
     "data": {
      "text/plain": [
       "array([[0., 1.],\n",
       "       [2., 3.],\n",
       "       [4., 5.],\n",
       "       [6., 7.],\n",
       "       [8., 9.]], dtype=float32)"
      ]
     },
     "execution_count": 22,
     "metadata": {},
     "output_type": "execute_result"
    }
   ],
   "source": [
    "print(a2.size)\n",
    "a2"
   ]
  },
  {
   "cell_type": "code",
   "execution_count": 23,
   "metadata": {},
   "outputs": [
    {
     "data": {
      "text/plain": [
       "8"
      ]
     },
     "execution_count": 23,
     "metadata": {},
     "output_type": "execute_result"
    }
   ],
   "source": [
    "a3.itemsize"
   ]
  },
  {
   "cell_type": "code",
   "execution_count": 24,
   "metadata": {},
   "outputs": [
    {
     "name": "stdout",
     "output_type": "stream",
     "text": [
      "int32\n",
      "float32\n",
      "int64\n"
     ]
    }
   ],
   "source": [
    "print(a1.dtype)\n",
    "print(a2.dtype)\n",
    "print(a3.dtype)\n"
   ]
  },
  {
   "cell_type": "markdown",
   "metadata": {},
   "source": [
    "### Changing Datatype"
   ]
  },
  {
   "cell_type": "code",
   "execution_count": 25,
   "metadata": {},
   "outputs": [
    {
     "data": {
      "text/plain": [
       "array([[[0, 1],\n",
       "        [2, 3]],\n",
       "\n",
       "       [[4, 5],\n",
       "        [6, 7]]], dtype=int32)"
      ]
     },
     "execution_count": 25,
     "metadata": {},
     "output_type": "execute_result"
    }
   ],
   "source": [
    "a3.astype(np.int32)"
   ]
  },
  {
   "cell_type": "markdown",
   "metadata": {},
   "source": [
    "### Array Operations"
   ]
  },
  {
   "cell_type": "code",
   "execution_count": 27,
   "metadata": {},
   "outputs": [
    {
     "name": "stdout",
     "output_type": "stream",
     "text": [
      "[[ 0  1  2  3]\n",
      " [ 4  5  6  7]\n",
      " [ 8  9 10 11]]\n",
      "[[12 13 14 15]\n",
      " [16 17 18 19]\n",
      " [20 21 22 23]]\n"
     ]
    }
   ],
   "source": [
    "a1 = np.arange(12).reshape(3,4)\n",
    "a2 = np.arange(12,24).reshape(3,4)\n",
    "print(a1)\n",
    "print(a2)"
   ]
  },
  {
   "cell_type": "code",
   "execution_count": 28,
   "metadata": {},
   "outputs": [
    {
     "data": {
      "text/plain": [
       "array([[   0,    1,    8,   27],\n",
       "       [  64,  125,  216,  343],\n",
       "       [ 512,  729, 1000, 1331]])"
      ]
     },
     "execution_count": 28,
     "metadata": {},
     "output_type": "execute_result"
    }
   ],
   "source": [
    "a1 ** 2\n",
    "a1 ** 3"
   ]
  },
  {
   "cell_type": "code",
   "execution_count": 29,
   "metadata": {},
   "outputs": [
    {
     "data": {
      "text/plain": [
       "array([[False, False, False,  True],\n",
       "       [False, False, False, False],\n",
       "       [False, False, False, False]])"
      ]
     },
     "execution_count": 29,
     "metadata": {},
     "output_type": "execute_result"
    }
   ],
   "source": [
    "a2 == 15"
   ]
  },
  {
   "cell_type": "code",
   "execution_count": 30,
   "metadata": {},
   "outputs": [
    {
     "data": {
      "text/plain": [
       "array([[                   0,                    1,                16384,\n",
       "                    14348907],\n",
       "       [          4294967296,         762939453125,      101559956668416,\n",
       "           11398895185373143],\n",
       "       [ 1152921504606846976, -1261475310744950487,  1864712049423024128,\n",
       "         6839173302027254275]])"
      ]
     },
     "execution_count": 30,
     "metadata": {},
     "output_type": "execute_result"
    }
   ],
   "source": [
    "a1 ** a2"
   ]
  },
  {
   "cell_type": "markdown",
   "metadata": {},
   "source": [
    "### Array Functions"
   ]
  },
  {
   "cell_type": "code",
   "execution_count": 3,
   "metadata": {},
   "outputs": [
    {
     "data": {
      "text/plain": [
       "array([[96.72, 33.55, 35.74, 66.91, 64.48, 44.52, 37.6 , 19.04, 29.71,\n",
       "         3.75, 28.36],\n",
       "       [24.53, 42.37, 39.1 , 98.25, 18.78, 71.39, 25.7 , 26.14, 52.42,\n",
       "        75.05, 26.31],\n",
       "       [90.37, 77.91, 96.48, 53.97, 51.87, 83.11, 23.09,  1.61,  3.52,\n",
       "        88.35, 79.24],\n",
       "       [68.64, 50.47, 75.25, 31.94, 98.29, 33.97, 22.45, 43.31, 75.38,\n",
       "        16.36, 24.42],\n",
       "       [57.89, 18.64, 13.48, 50.5 , 13.01, 84.77, 33.63, 53.57, 42.04,\n",
       "        29.2 , 39.46],\n",
       "       [84.57, 74.26, 32.15, 14.14, 67.66, 39.15, 42.09, 24.68, 92.33,\n",
       "         0.63, 94.53],\n",
       "       [87.98,  9.82, 44.48, 76.01, 11.19, 82.86, 28.14, 41.31,  7.01,\n",
       "        21.58, 62.84]])"
      ]
     },
     "execution_count": 3,
     "metadata": {},
     "output_type": "execute_result"
    }
   ],
   "source": [
    "a1 = np.random.random((7,11))\n",
    "a1 = np.round(a1*100,2)\n",
    "a1"
   ]
  },
  {
   "cell_type": "code",
   "execution_count": 4,
   "metadata": {},
   "outputs": [
    {
     "data": {
      "text/plain": [
       "array([6.33897780e+12, 7.59783466e+10, 1.95573835e+11, 6.15067017e+11,\n",
       "       6.08114804e+10, 2.46751752e+12, 1.99522158e+10, 1.89543364e+09,\n",
       "       1.12440308e+10, 1.61490381e+08, 3.38438776e+11])"
      ]
     },
     "execution_count": 4,
     "metadata": {},
     "output_type": "execute_result"
    }
   ],
   "source": [
    "np.prod(a1,axis = 0)"
   ]
  },
  {
   "cell_type": "code",
   "execution_count": 5,
   "metadata": {},
   "outputs": [
    {
     "name": "stdout",
     "output_type": "stream",
     "text": [
      "[ 3.75 18.78  1.61 16.36 13.01  0.63  7.01]\n",
      "[460.38 500.04 649.52 540.48 436.19 566.19 473.22]\n",
      "[96.72 98.25 96.48 98.29 84.77 94.53 87.98]\n",
      "[41.85272727 45.45818182 59.04727273 49.13454545 39.65363636 51.47181818\n",
      " 43.02      ]\n",
      "[24.46429052 24.70459318 33.48822238 25.45215024 20.59825777 31.20282791\n",
      " 28.90116764]\n",
      "[ 598.50151074  610.31692397 1121.46103802  647.81195207  424.28822314\n",
      "  973.61646942  835.27749091]\n",
      "[[ 96.72 130.27 166.01 232.92 297.4  341.92 379.52 398.56 428.27 432.02\n",
      "  460.38]\n",
      " [ 24.53  66.9  106.   204.25 223.03 294.42 320.12 346.26 398.68 473.73\n",
      "  500.04]\n",
      " [ 90.37 168.28 264.76 318.73 370.6  453.71 476.8  478.41 481.93 570.28\n",
      "  649.52]\n",
      " [ 68.64 119.11 194.36 226.3  324.59 358.56 381.01 424.32 499.7  516.06\n",
      "  540.48]\n",
      " [ 57.89  76.53  90.01 140.51 153.52 238.29 271.92 325.49 367.53 396.73\n",
      "  436.19]\n",
      " [ 84.57 158.83 190.98 205.12 272.78 311.93 354.02 378.7  471.03 471.66\n",
      "  566.19]\n",
      " [ 87.98  97.8  142.28 218.29 229.48 312.34 340.48 381.79 388.8  410.38\n",
      "  473.22]]\n",
      "[35.74 39.1  77.91 43.31 39.46 42.09 41.31]\n",
      "[35.74 39.1  77.91 43.31 39.46 42.09 41.31]\n",
      "[ True  True  True  True  True  True  True]\n"
     ]
    }
   ],
   "source": [
    "print(np.min(a1, axis = 1))\n",
    "print(np.sum(a1,axis = 1))\n",
    "print(np.max(a1, axis = 1))\n",
    "print(np.mean(a1, axis = 1))\n",
    "print(np.std(a1, axis = 1))\n",
    "print(np.var(a1, axis = 1))\n",
    "print(np.cumsum(a1, axis = 1))\n",
    "print(np.median(a1, axis = 1))\n",
    "print(np.percentile(a1, 50, axis = 1))\n",
    "print(np.any(a1 > 0, axis = 1))"
   ]
  },
  {
   "cell_type": "code",
   "execution_count": 6,
   "metadata": {},
   "outputs": [
    {
     "name": "stdout",
     "output_type": "stream",
     "text": [
      "[[ 0.62049383  0.84550979 -0.92554817 -0.80552106  0.99700993  0.51216435\n",
      "  -0.09894966  0.18929496 -0.9908838  -0.57156132 -0.08556138]\n",
      " [-0.56690278 -0.99913896  0.9856003  -0.75825197 -0.06949985  0.7621522\n",
      "   0.53732218  0.84537071  0.83441755 -0.34122865  0.92355834]\n",
      " [ 0.6714672   0.58899635  0.78911831 -0.53366205  0.99943149  0.98990585\n",
      "  -0.89068578  0.99923163 -0.36944096  0.37593511 -0.64435815]\n",
      " [-0.45737258  0.20309478 -0.14768153  0.50041104 -0.78371696  0.55429791\n",
      "  -0.44291863 -0.6227849  -0.01822268 -0.60680656 -0.65391016]\n",
      " [ 0.97378843 -0.20802556  0.79172605  0.23237376  0.42922035  0.05297684\n",
      "   0.80013436 -0.16220505 -0.93178357 -0.79902148  0.98198689]\n",
      " [ 0.25031117 -0.90789028  0.66989954  0.99999599 -0.99330753  0.99281962\n",
      "  -0.94876224 -0.43743223 -0.94040286  0.58914476  0.27848889]\n",
      " [ 0.01540509 -0.38501312  0.47740834  0.57432251 -0.98115879  0.92406837\n",
      "   0.13393022 -0.45225807  0.66449265  0.39966245  0.00814684]]\n",
      "[[-0.78421133 -0.53395991 -0.37862988 -0.59256714 -0.07727349  0.85888746\n",
      "   0.99509244  0.98192027 -0.13471933 -0.82055936 -0.9963329 ]\n",
      " [ 0.8237847  -0.04148891  0.16909184 -0.65196161  0.99758196 -0.64739788\n",
      "   0.84337707  0.53418008 -0.55113279  0.93998032  0.38345795]\n",
      " [-0.74103427 -0.8081357  -0.61424123 -0.84569783 -0.03371483  0.14172652\n",
      "  -0.45461944 -0.03919363 -0.92925421  0.92664599 -0.76472386]\n",
      " [ 0.88927517  0.97915908  0.98903497  0.86578796 -0.62111812 -0.83231835\n",
      "  -0.89656181  0.7823931   0.99983395 -0.79484955  0.7565722 ]\n",
      " [ 0.22745569  0.97812339  0.6108763   0.97262656  0.90319981 -0.99859574\n",
      "  -0.59982081 -0.98675707 -0.36301428 -0.60130248 -0.18894907]\n",
      " [-0.96816544  0.41920786  0.74245176 -0.00283306  0.1154996   0.11962104\n",
      "  -0.31599084  0.89925138 -0.34006243  0.80802751  0.96043945]\n",
      " [ 0.99988133 -0.9229111   0.87868156  0.81862913  0.1932031   0.38222721\n",
      "  -0.99099076 -0.89188712  0.7472948  -0.91666239  0.99996681]]\n",
      "[[-7.91232933e-01 -1.58347055e+00  2.44446678e+00  1.35937518e+00\n",
      "  -1.29023539e+01  5.96311359e-01 -9.94376537e-02  1.92780380e-01\n",
      "   7.35517143e+00  6.96550851e-01  8.58762935e-02]\n",
      " [-6.88168622e-01  2.40820722e+01  5.82878681e+00  1.16303163e+00\n",
      "  -6.96683102e-02 -1.17725471e+00  6.37107888e-01  1.58255754e+00\n",
      "  -1.51400453e+00 -3.63016797e-01  2.40849967e+00]\n",
      " [-9.06121653e-01 -7.28833471e-01 -1.28470424e+00  6.31031595e-01\n",
      "  -2.96436800e+01  6.98461991e+00  1.95918983e+00 -2.54947447e+01\n",
      "   3.97567163e-01  4.05694419e-01  8.42602387e-01]\n",
      " [-5.14320643e-01  2.07417553e-01 -1.49318816e-01  5.77983361e-01\n",
      "   1.26178409e+00 -6.65968627e-01  4.94019067e-01 -7.95999993e-01\n",
      "  -1.82257038e-02  7.63423169e-01 -8.64306354e-01]\n",
      " [ 4.28122247e+00 -2.12678235e-01  1.29604972e+00  2.38913649e-01\n",
      "   4.75221918e-01 -5.30513330e-02 -1.33395566e+00  1.64381949e-01\n",
      "   2.56679590e+00  1.32881786e+00 -5.19709824e+00]\n",
      " [-2.58541736e-01 -2.16572819e+00  9.02280219e-01 -3.52974428e+02\n",
      "  -8.60009519e+00  8.29970755e+00  3.00249918e+00 -4.86440430e-01\n",
      "   2.76538302e+00  7.29114729e-01  2.89959857e-01]\n",
      " [ 1.54069184e-02  4.17172489e-01  5.43323497e-01  7.01566173e-01\n",
      "  -5.07838015e+00  2.41758920e+00 -1.35147803e-01  5.07079937e-01\n",
      "   8.89197468e-01 -4.35997433e-01  8.14710845e-03]]\n",
      "[[ 4.57182021  3.51303686  3.57627051  4.20334843  4.1663551   3.79593853\n",
      "   3.62700405  2.94654203  3.39148369  1.32175584  3.3449797 ]\n",
      " [ 3.19989686  3.74644056  3.66612247  4.58751525  2.93279247  4.2681578\n",
      "   3.24649099  3.26346671  3.9592882   4.31815456  3.2699491 ]\n",
      " [ 4.50391235  4.35555431  4.56933573  3.98842834  3.94874059  4.42016503\n",
      "   3.13939962  0.47623418  1.25846099  4.4813062   4.37248122]\n",
      " [ 4.22887546  3.9213791   4.3208159   3.46385914  4.58792229  3.52547778\n",
      "   3.11129061  3.76838356  4.32254199  2.79483933  3.19540247]\n",
      " [ 4.05854466  2.92530981  2.60120711  3.92197334  2.56571829  4.43994171\n",
      "   3.51541853  3.98098921  3.73862155  3.37416871  3.6752875 ]\n",
      " [ 4.43757959  4.30757245  3.47041245  2.64900766  4.21449516  3.66740042\n",
      "   3.73981018  3.2059932   4.52536912 -0.46203546  4.54891724]\n",
      " [ 4.47710952  2.28442112  3.79503965  4.33086491  2.41502052  4.41715244\n",
      "   3.33719205  3.7211046   1.9473377   3.07176696  4.14059181]]\n",
      "[[ 1.98551629  1.52569252  1.55315455  1.82549103  1.80942503  1.64855516\n",
      "   1.57518784  1.27966694  1.47290265  0.57403127  1.45270623]\n",
      " [ 1.38969755  1.62705846  1.59217676  1.99233256  1.27369559  1.85363738\n",
      "   1.40993312  1.41730558  1.71949702  1.8753507   1.42012085]\n",
      " [ 1.95602428  1.8915932   1.98443729  1.73215242  1.71491625  1.91965328\n",
      "   1.36342393  0.20682588  0.54654266  1.94620655  1.89894447]\n",
      " [ 1.83657727  1.7030333   1.8765065   1.50433491  1.99250934  1.53109555\n",
      "   1.35121635  1.63658818  1.87725613  1.2137833   1.38774566]\n",
      " [ 1.76260355  1.27044591  1.12968989  1.70329138  1.1142773   1.92824218\n",
      "   1.52672687  1.72892165  1.62366271  1.46538285  1.59615708]\n",
      " [ 1.92721633  1.87075494  1.50718098  1.15044941  1.83033199  1.59273177\n",
      "   1.62417893  1.39234516  1.96534284 -0.20065945  1.97556966]\n",
      " [ 1.94438396  0.99211149  1.64816478  1.88087073  1.04883009  1.91834493\n",
      "   1.44932409  1.61605519  0.84571802  1.33405144  1.79823618]]\n"
     ]
    }
   ],
   "source": [
    "print(np.sin(a1))\n",
    "print(np.cos(a1))\n",
    "print(np.tan(a1))\n",
    "print(np.log(a1))\n",
    "print(np.log10(a1))"
   ]
  },
  {
   "cell_type": "code",
   "execution_count": 7,
   "metadata": {},
   "outputs": [
    {
     "data": {
      "text/plain": [
       "array([[ 28,  34],\n",
       "       [ 76,  98],\n",
       "       [124, 162]])"
      ]
     },
     "execution_count": 7,
     "metadata": {},
     "output_type": "execute_result"
    }
   ],
   "source": [
    "a2 = np.arange(12).reshape(3,4)\n",
    "a4 = np.arange(8).reshape(4, 2)\n",
    "np.dot(a2, a4)"
   ]
  },
  {
   "cell_type": "code",
   "execution_count": 43,
   "metadata": {},
   "outputs": [
    {
     "data": {
      "text/plain": [
       "array([[4.60718663e+28, 7.20048993e+10, 8.88611052e+06, 4.42413392e+05,\n",
       "        1.31881573e+09, 4.03428793e+02, 1.40934908e+22, 5.18470553e+21,\n",
       "        1.69488924e+28, 1.73927494e+18, 7.69478527e+23],\n",
       "       [7.20048993e+10, 1.06864746e+13, 1.06864746e+13, 1.95729609e+11,\n",
       "        2.03828107e+34, 1.50609731e+35, 1.28516001e+19, 1.85867175e+31,\n",
       "        7.20048993e+10, 1.33833472e+42, 1.11286375e+36],\n",
       "       [1.17191424e+16, 4.85165195e+08, 5.83461743e+14, 1.65163625e+38,\n",
       "        2.45124554e+40, 1.22040329e+39, 2.51543867e+30, 3.93133430e+12,\n",
       "        2.90488497e+13, 8.43835667e+26, 9.25378173e+29],\n",
       "       [2.09165950e+24, 7.69478527e+23, 1.11286375e+36, 4.42413392e+05,\n",
       "        4.60718663e+28, 9.88903032e+42, 4.42413392e+05, 2.23524660e+37,\n",
       "        1.50609731e+35, 2.00855369e+01, 4.92345829e+41],\n",
       "       [3.40427605e+29, 8.10308393e+03, 1.85867175e+31, 8.10308393e+03,\n",
       "        6.83767123e+30, 8.43835667e+26, 2.45124554e+40, 1.28516001e+19,\n",
       "        2.71828183e+00, 1.65163625e+38, 4.03428793e+02],\n",
       "       [6.39843494e+17, 1.09663316e+03, 2.14643580e+14, 6.83767123e+30,\n",
       "        1.37338298e+32, 4.92345829e+41, 2.83075330e+23, 1.58601345e+15,\n",
       "        2.83075330e+23, 1.25236317e+29, 2.41549528e+07],\n",
       "       [8.43835667e+26, 7.49841700e+33, 8.43835667e+26, 1.65163625e+38,\n",
       "        1.09663316e+03, 9.01762841e+39, 4.60718663e+28, 3.02507732e+36,\n",
       "        1.81123908e+41, 2.71828183e+00, 6.83767123e+30]])"
      ]
     },
     "execution_count": 43,
     "metadata": {},
     "output_type": "execute_result"
    }
   ],
   "source": [
    "np.exp(a1)"
   ]
  },
  {
   "cell_type": "code",
   "execution_count": 44,
   "metadata": {},
   "outputs": [
    {
     "data": {
      "text/plain": [
       "array([[36., 95., 13.],\n",
       "       [48., 85., 60.]])"
      ]
     },
     "execution_count": 44,
     "metadata": {},
     "output_type": "execute_result"
    }
   ],
   "source": [
    "np.ceil(np.random.random((2,3))*100)"
   ]
  },
  {
   "cell_type": "markdown",
   "metadata": {},
   "source": [
    "### Indexing and Slicing"
   ]
  },
  {
   "cell_type": "code",
   "execution_count": 7,
   "metadata": {},
   "outputs": [
    {
     "data": {
      "text/plain": [
       "array([[[ 0,  1],\n",
       "        [ 2,  3],\n",
       "        [ 4,  5]],\n",
       "\n",
       "       [[ 6,  7],\n",
       "        [ 8,  9],\n",
       "        [10, 11]]])"
      ]
     },
     "execution_count": 7,
     "metadata": {},
     "output_type": "execute_result"
    }
   ],
   "source": [
    "import numpy as np\n",
    "a5 = np.arange(10)\n",
    "a6 = np.arange(10).reshape(2,5)\n",
    "a7 = np.arange(12).reshape(2,3,2)\n",
    "a7"
   ]
  },
  {
   "cell_type": "code",
   "execution_count": 3,
   "metadata": {},
   "outputs": [
    {
     "data": {
      "text/plain": [
       "array([0, 1, 2, 3, 4, 5, 6, 7, 8, 9])"
      ]
     },
     "execution_count": 3,
     "metadata": {},
     "output_type": "execute_result"
    }
   ],
   "source": [
    "a5"
   ]
  },
  {
   "cell_type": "code",
   "execution_count": 55,
   "metadata": {},
   "outputs": [
    {
     "data": {
      "text/plain": [
       "array([[0, 1, 2, 3, 4],\n",
       "       [5, 6, 7, 8, 9]])"
      ]
     },
     "execution_count": 55,
     "metadata": {},
     "output_type": "execute_result"
    }
   ],
   "source": [
    "a6"
   ]
  },
  {
   "cell_type": "code",
   "execution_count": 56,
   "metadata": {},
   "outputs": [
    {
     "data": {
      "text/plain": [
       "np.int64(4)"
      ]
     },
     "execution_count": 56,
     "metadata": {},
     "output_type": "execute_result"
    }
   ],
   "source": [
    "a5[4]"
   ]
  },
  {
   "cell_type": "code",
   "execution_count": null,
   "metadata": {},
   "outputs": [
    {
     "data": {
      "text/plain": [
       "np.int64(7)"
      ]
     },
     "execution_count": 57,
     "metadata": {},
     "output_type": "execute_result"
    }
   ],
   "source": [
    "a6[1,2]"
   ]
  },
  {
   "cell_type": "code",
   "execution_count": 58,
   "metadata": {},
   "outputs": [
    {
     "data": {
      "text/plain": [
       "np.int64(11)"
      ]
     },
     "execution_count": 58,
     "metadata": {},
     "output_type": "execute_result"
    }
   ],
   "source": [
    "a7[1,2,1]"
   ]
  },
  {
   "cell_type": "code",
   "execution_count": 59,
   "metadata": {},
   "outputs": [
    {
     "data": {
      "text/plain": [
       "np.int64(6)"
      ]
     },
     "execution_count": 59,
     "metadata": {},
     "output_type": "execute_result"
    }
   ],
   "source": [
    "a3[1,1,0]"
   ]
  },
  {
   "cell_type": "code",
   "execution_count": 60,
   "metadata": {},
   "outputs": [
    {
     "data": {
      "text/plain": [
       "array([0, 1, 2, 3, 4, 5, 6, 7, 8, 9])"
      ]
     },
     "execution_count": 60,
     "metadata": {},
     "output_type": "execute_result"
    }
   ],
   "source": [
    "a5"
   ]
  },
  {
   "cell_type": "code",
   "execution_count": 6,
   "metadata": {},
   "outputs": [
    {
     "data": {
      "text/plain": [
       "array([[ 47.,  21.,  16.,  67.,  32.,  94.,  96.,  48.,  13.,  70.,  97.],\n",
       "       [ 15.,  20.,  46.,   9.,  74.,  19.,  80.,  40.,  87.,   1.,  45.],\n",
       "       [ 20.,  48.,  37.,  53.,  90.,   2.,  57.,  58.,  73.,  29.,  11.],\n",
       "       [ 96.,  11.,  17.,  79.,  44.,  78.,  49.,  85.,   3.,   2.,  58.],\n",
       "       [ 93.,  62.,  27.,  32.,  30.,  40.,  43.,  84.,  39.,  14.,  70.],\n",
       "       [ 77.,  12.,  85.,  94.,  51.,  56.,   0.,  43.,  93., 100.,   8.],\n",
       "       [ 41.,  59.,  33.,  83.,   9.,  47.,  11.,  39.,  72.,  97.,  82.]])"
      ]
     },
     "execution_count": 6,
     "metadata": {},
     "output_type": "execute_result"
    }
   ],
   "source": [
    "a1"
   ]
  },
  {
   "cell_type": "code",
   "execution_count": 5,
   "metadata": {},
   "outputs": [
    {
     "data": {
      "text/plain": [
       "array([[20., 48., 37., 53., 90.,  2., 57., 58., 73., 29., 11.],\n",
       "       [93., 62., 27., 32., 30., 40., 43., 84., 39., 14., 70.]])"
      ]
     },
     "execution_count": 5,
     "metadata": {},
     "output_type": "execute_result"
    }
   ],
   "source": [
    "a1[2:5:2]"
   ]
  },
  {
   "cell_type": "code",
   "execution_count": 62,
   "metadata": {},
   "outputs": [
    {
     "data": {
      "text/plain": [
       "array([[ 0,  1,  2,  3],\n",
       "       [ 4,  5,  6,  7],\n",
       "       [ 8,  9, 10, 11]])"
      ]
     },
     "execution_count": 62,
     "metadata": {},
     "output_type": "execute_result"
    }
   ],
   "source": [
    "a2"
   ]
  },
  {
   "cell_type": "code",
   "execution_count": 64,
   "metadata": {},
   "outputs": [
    {
     "data": {
      "text/plain": [
       "array([[1, 3],\n",
       "       [5, 7]])"
      ]
     },
     "execution_count": 64,
     "metadata": {},
     "output_type": "execute_result"
    }
   ],
   "source": [
    "a2[0:2,1::2]"
   ]
  },
  {
   "cell_type": "code",
   "execution_count": 8,
   "metadata": {},
   "outputs": [
    {
     "data": {
      "text/plain": [
       "array([[0, 1, 2, 3, 4],\n",
       "       [5, 6, 7, 8, 9]])"
      ]
     },
     "execution_count": 8,
     "metadata": {},
     "output_type": "execute_result"
    }
   ],
   "source": [
    "a6"
   ]
  },
  {
   "cell_type": "code",
   "execution_count": 65,
   "metadata": {},
   "outputs": [
    {
     "data": {
      "text/plain": [
       "array([[1, 3]])"
      ]
     },
     "execution_count": 65,
     "metadata": {},
     "output_type": "execute_result"
    }
   ],
   "source": [
    "a6[::2,1::2]"
   ]
  },
  {
   "cell_type": "code",
   "execution_count": 66,
   "metadata": {},
   "outputs": [
    {
     "data": {
      "text/plain": [
       "array([5, 8])"
      ]
     },
     "execution_count": 66,
     "metadata": {},
     "output_type": "execute_result"
    }
   ],
   "source": [
    "a6[1,::3]"
   ]
  },
  {
   "cell_type": "code",
   "execution_count": 67,
   "metadata": {},
   "outputs": [
    {
     "data": {
      "text/plain": [
       "array([0, 1, 2, 3, 4])"
      ]
     },
     "execution_count": 67,
     "metadata": {},
     "output_type": "execute_result"
    }
   ],
   "source": [
    "a6[0,:]"
   ]
  },
  {
   "cell_type": "code",
   "execution_count": 68,
   "metadata": {},
   "outputs": [
    {
     "data": {
      "text/plain": [
       "array([0, 1, 2, 3])"
      ]
     },
     "execution_count": 68,
     "metadata": {},
     "output_type": "execute_result"
    }
   ],
   "source": [
    "a2[0,:]"
   ]
  },
  {
   "cell_type": "code",
   "execution_count": 69,
   "metadata": {},
   "outputs": [
    {
     "data": {
      "text/plain": [
       "array([2, 7])"
      ]
     },
     "execution_count": 69,
     "metadata": {},
     "output_type": "execute_result"
    }
   ],
   "source": [
    "a6[:,2]"
   ]
  },
  {
   "cell_type": "code",
   "execution_count": 70,
   "metadata": {},
   "outputs": [
    {
     "data": {
      "text/plain": [
       "array([[6, 7]])"
      ]
     },
     "execution_count": 70,
     "metadata": {},
     "output_type": "execute_result"
    }
   ],
   "source": [
    "a6[1:,1:3]"
   ]
  },
  {
   "cell_type": "code",
   "execution_count": 71,
   "metadata": {},
   "outputs": [
    {
     "data": {
      "text/plain": [
       "array([[[ 0,  1,  2],\n",
       "        [ 3,  4,  5],\n",
       "        [ 6,  7,  8]],\n",
       "\n",
       "       [[ 9, 10, 11],\n",
       "        [12, 13, 14],\n",
       "        [15, 16, 17]],\n",
       "\n",
       "       [[18, 19, 20],\n",
       "        [21, 22, 23],\n",
       "        [24, 25, 26]]])"
      ]
     },
     "execution_count": 71,
     "metadata": {},
     "output_type": "execute_result"
    }
   ],
   "source": [
    "a8 = np.arange(27).reshape(3,3,3)\n",
    "a8"
   ]
  },
  {
   "cell_type": "code",
   "execution_count": 73,
   "metadata": {},
   "outputs": [
    {
     "data": {
      "text/plain": [
       "array([[ 0,  2],\n",
       "       [18, 20]])"
      ]
     },
     "execution_count": 73,
     "metadata": {},
     "output_type": "execute_result"
    }
   ],
   "source": [
    "a8[::2,0,::2]"
   ]
  },
  {
   "cell_type": "code",
   "execution_count": 74,
   "metadata": {},
   "outputs": [
    {
     "data": {
      "text/plain": [
       "array([[22, 23],\n",
       "       [25, 26]])"
      ]
     },
     "execution_count": 74,
     "metadata": {},
     "output_type": "execute_result"
    }
   ],
   "source": [
    "a8[2,1:,1:]"
   ]
  },
  {
   "cell_type": "code",
   "execution_count": 76,
   "metadata": {},
   "outputs": [
    {
     "data": {
      "text/plain": [
       "array([3, 4, 5])"
      ]
     },
     "execution_count": 76,
     "metadata": {},
     "output_type": "execute_result"
    }
   ],
   "source": [
    "a8[0,1,:]"
   ]
  },
  {
   "cell_type": "markdown",
   "metadata": {},
   "source": [
    "### Iterating"
   ]
  },
  {
   "cell_type": "code",
   "execution_count": 77,
   "metadata": {},
   "outputs": [
    {
     "name": "stdout",
     "output_type": "stream",
     "text": [
      "[66. 25. 16. 13. 21.  6. 51. 50. 65. 42. 55.]\n",
      "[25. 30. 30. 26. 79. 81. 44. 72. 25. 97. 83.]\n",
      "[37. 20. 34. 88. 93. 90. 70. 29. 31. 62. 69.]\n",
      "[56. 55. 83. 13. 66. 99. 13. 86. 81.  3. 96.]\n",
      "[68.  9. 72.  9. 71. 62. 93. 44.  1. 88.  6.]\n",
      "[41.  7. 33. 71. 74. 96. 54. 35. 54. 67. 17.]\n",
      "[62. 78. 62. 88.  7. 92. 66. 84. 95.  1. 71.]\n"
     ]
    }
   ],
   "source": [
    "a1\n",
    "for i in a1:\n",
    "    print(i)"
   ]
  },
  {
   "cell_type": "code",
   "execution_count": 79,
   "metadata": {},
   "outputs": [
    {
     "data": {
      "text/plain": [
       "array([0, 1, 2, 3, 4, 5, 6, 7, 8, 9])"
      ]
     },
     "execution_count": 79,
     "metadata": {},
     "output_type": "execute_result"
    }
   ],
   "source": [
    "a0 = np.arange(10)\n",
    "a0"
   ]
  },
  {
   "cell_type": "code",
   "execution_count": 5,
   "metadata": {},
   "outputs": [
    {
     "name": "stdout",
     "output_type": "stream",
     "text": [
      "[0 1 2 3]\n",
      "[4 5 6 7]\n",
      "[ 8  9 10 11]\n"
     ]
    }
   ],
   "source": [
    "for i in a2:\n",
    "    print(i)"
   ]
  },
  {
   "cell_type": "code",
   "execution_count": 83,
   "metadata": {},
   "outputs": [
    {
     "data": {
      "text/plain": [
       "array([[[ 0,  1,  2],\n",
       "        [ 3,  4,  5],\n",
       "        [ 6,  7,  8]],\n",
       "\n",
       "       [[ 9, 10, 11],\n",
       "        [12, 13, 14],\n",
       "        [15, 16, 17]],\n",
       "\n",
       "       [[18, 19, 20],\n",
       "        [21, 22, 23],\n",
       "        [24, 25, 26]]])"
      ]
     },
     "execution_count": 83,
     "metadata": {},
     "output_type": "execute_result"
    }
   ],
   "source": [
    "a8"
   ]
  },
  {
   "cell_type": "code",
   "execution_count": 84,
   "metadata": {},
   "outputs": [
    {
     "name": "stdout",
     "output_type": "stream",
     "text": [
      "[[0 1 2]\n",
      " [3 4 5]\n",
      " [6 7 8]]\n",
      "[[ 9 10 11]\n",
      " [12 13 14]\n",
      " [15 16 17]]\n",
      "[[18 19 20]\n",
      " [21 22 23]\n",
      " [24 25 26]]\n"
     ]
    }
   ],
   "source": [
    "for i in a8:\n",
    "    print(i)"
   ]
  },
  {
   "cell_type": "code",
   "execution_count": 85,
   "metadata": {},
   "outputs": [
    {
     "name": "stdout",
     "output_type": "stream",
     "text": [
      "0\n",
      "1\n",
      "2\n",
      "3\n",
      "4\n",
      "5\n",
      "6\n",
      "7\n",
      "8\n",
      "9\n",
      "10\n",
      "11\n",
      "12\n",
      "13\n",
      "14\n",
      "15\n",
      "16\n",
      "17\n",
      "18\n",
      "19\n",
      "20\n",
      "21\n",
      "22\n",
      "23\n",
      "24\n",
      "25\n",
      "26\n"
     ]
    }
   ],
   "source": [
    "for i in np.nditer(a8):\n",
    "    print(i)"
   ]
  },
  {
   "cell_type": "markdown",
   "metadata": {},
   "source": [
    "### Reshaping"
   ]
  },
  {
   "cell_type": "code",
   "execution_count": 86,
   "metadata": {},
   "outputs": [
    {
     "data": {
      "text/plain": [
       "array([[ 0,  4,  8],\n",
       "       [ 1,  5,  9],\n",
       "       [ 2,  6, 10],\n",
       "       [ 3,  7, 11]])"
      ]
     },
     "execution_count": 86,
     "metadata": {},
     "output_type": "execute_result"
    }
   ],
   "source": [
    "np.transpose(a2)"
   ]
  },
  {
   "cell_type": "code",
   "execution_count": 87,
   "metadata": {},
   "outputs": [
    {
     "data": {
      "text/plain": [
       "array([[[ 0,  9, 18],\n",
       "        [ 3, 12, 21],\n",
       "        [ 6, 15, 24]],\n",
       "\n",
       "       [[ 1, 10, 19],\n",
       "        [ 4, 13, 22],\n",
       "        [ 7, 16, 25]],\n",
       "\n",
       "       [[ 2, 11, 20],\n",
       "        [ 5, 14, 23],\n",
       "        [ 8, 17, 26]]])"
      ]
     },
     "execution_count": 87,
     "metadata": {},
     "output_type": "execute_result"
    }
   ],
   "source": [
    "np.transpose(a8)"
   ]
  },
  {
   "cell_type": "code",
   "execution_count": 88,
   "metadata": {},
   "outputs": [
    {
     "data": {
      "text/plain": [
       "array([ 0,  1,  2,  3,  4,  5,  6,  7,  8,  9, 10, 11, 12, 13, 14, 15, 16,\n",
       "       17, 18, 19, 20, 21, 22, 23, 24, 25, 26])"
      ]
     },
     "execution_count": 88,
     "metadata": {},
     "output_type": "execute_result"
    }
   ],
   "source": [
    "a8.ravel()"
   ]
  },
  {
   "cell_type": "markdown",
   "metadata": {},
   "source": [
    "### Stacking"
   ]
  },
  {
   "cell_type": "code",
   "execution_count": 89,
   "metadata": {},
   "outputs": [
    {
     "data": {
      "text/plain": [
       "array([[12, 13, 14, 15],\n",
       "       [16, 17, 18, 19],\n",
       "       [20, 21, 22, 23]])"
      ]
     },
     "execution_count": 89,
     "metadata": {},
     "output_type": "execute_result"
    }
   ],
   "source": [
    "a4 = np.arange(12).reshape(3,4)\n",
    "a5 = np.arange(12,24).reshape(3,4)\n",
    "a5"
   ]
  },
  {
   "cell_type": "code",
   "execution_count": 90,
   "metadata": {},
   "outputs": [
    {
     "data": {
      "text/plain": [
       "array([[ 0,  1,  2,  3, 12, 13, 14, 15],\n",
       "       [ 4,  5,  6,  7, 16, 17, 18, 19],\n",
       "       [ 8,  9, 10, 11, 20, 21, 22, 23]])"
      ]
     },
     "execution_count": 90,
     "metadata": {},
     "output_type": "execute_result"
    }
   ],
   "source": [
    "np.hstack((a4,a5))"
   ]
  },
  {
   "cell_type": "code",
   "execution_count": 91,
   "metadata": {},
   "outputs": [
    {
     "data": {
      "text/plain": [
       "array([[ 0,  1,  2,  3],\n",
       "       [ 4,  5,  6,  7],\n",
       "       [ 8,  9, 10, 11],\n",
       "       [12, 13, 14, 15],\n",
       "       [16, 17, 18, 19],\n",
       "       [20, 21, 22, 23]])"
      ]
     },
     "execution_count": 91,
     "metadata": {},
     "output_type": "execute_result"
    }
   ],
   "source": [
    "np.vstack((a4,a5))"
   ]
  },
  {
   "cell_type": "markdown",
   "metadata": {},
   "source": [
    "### Splitting"
   ]
  },
  {
   "cell_type": "code",
   "execution_count": 92,
   "metadata": {},
   "outputs": [
    {
     "data": {
      "text/plain": [
       "array([[ 0,  1,  2,  3],\n",
       "       [ 4,  5,  6,  7],\n",
       "       [ 8,  9, 10, 11]])"
      ]
     },
     "execution_count": 92,
     "metadata": {},
     "output_type": "execute_result"
    }
   ],
   "source": [
    "a4"
   ]
  },
  {
   "cell_type": "code",
   "execution_count": 94,
   "metadata": {},
   "outputs": [
    {
     "data": {
      "text/plain": [
       "[array([[0],\n",
       "        [4],\n",
       "        [8]]),\n",
       " array([[1],\n",
       "        [5],\n",
       "        [9]]),\n",
       " array([[ 2],\n",
       "        [ 6],\n",
       "        [10]]),\n",
       " array([[ 3],\n",
       "        [ 7],\n",
       "        [11]])]"
      ]
     },
     "execution_count": 94,
     "metadata": {},
     "output_type": "execute_result"
    }
   ],
   "source": [
    "np.hsplit(a4,4)"
   ]
  },
  {
   "cell_type": "code",
   "execution_count": 95,
   "metadata": {},
   "outputs": [
    {
     "data": {
      "text/plain": [
       "array([[12, 13, 14, 15],\n",
       "       [16, 17, 18, 19],\n",
       "       [20, 21, 22, 23]])"
      ]
     },
     "execution_count": 95,
     "metadata": {},
     "output_type": "execute_result"
    }
   ],
   "source": [
    "a5"
   ]
  },
  {
   "cell_type": "code",
   "execution_count": 98,
   "metadata": {},
   "outputs": [
    {
     "data": {
      "text/plain": [
       "[array([[12, 13, 14, 15]]),\n",
       " array([[16, 17, 18, 19]]),\n",
       " array([[20, 21, 22, 23]])]"
      ]
     },
     "execution_count": 98,
     "metadata": {},
     "output_type": "execute_result"
    }
   ],
   "source": [
    "np.vsplit(a5,3)"
   ]
  }
 ],
 "metadata": {
  "kernelspec": {
   "display_name": "Python 3",
   "language": "python",
   "name": "python3"
  },
  "language_info": {
   "codemirror_mode": {
    "name": "ipython",
    "version": 3
   },
   "file_extension": ".py",
   "mimetype": "text/x-python",
   "name": "python",
   "nbconvert_exporter": "python",
   "pygments_lexer": "ipython3",
   "version": "3.13.2"
  }
 },
 "nbformat": 4,
 "nbformat_minor": 2
}
