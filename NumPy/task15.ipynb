{
 "cells": [
  {
   "cell_type": "markdown",
   "id": "d3f8ed92",
   "metadata": {},
   "source": [
    "### `Q-1:` Create a random 3x4 matrix with value between 0-100. And perform below tasks\n",
    "\n",
    "    i. Sort this matrix. np.sort()\n",
    "    ii. Sort this matrix based on values in 2nd column.\n",
    "    iii. Sort this matrix based on max value in each row.\n",
    "    iv. Sort based on elements value.\n"
   ]
  },
  {
   "cell_type": "markdown",
   "id": "6ce6f463",
   "metadata": {},
   "source": [
    "See examples:\n",
    "```\n",
    "arr =\n",
    "    [[92 90 74]\n",
    "    [ 6 63 93]\n",
    "    [15 93 96]\n",
    "    [70 60 48]]\n",
    "```\n",
    "```\n",
    "i. np.sort\n",
    "[[74 90 92]\n",
    " [ 6 63 93]\n",
    " [15 93 96]\n",
    " [48 60 70]]\n",
    "\n",
    "ii. based on 2nd column\n",
    "[[70 60 48]\n",
    " [ 6 63 93]\n",
    " [92 90 74]\n",
    " [15 93 96]]\n",
    "\n",
    "iii. based on row max- ascending\n",
    "[[15 93 96]\n",
    " [ 6 63 93]\n",
    " [92 90 74]\n",
    " [70 60 48]]\n",
    "\n",
    "iv. based on elements value\n",
    "[[ 6 15 48]\n",
    " [60 63 70]\n",
    " [74 90 92]\n",
    " [93 93 96]]\n",
    "\n",
    "```"
   ]
  },
  {
   "cell_type": "code",
   "execution_count": 1,
   "id": "7942f0c6",
   "metadata": {},
   "outputs": [
    {
     "name": "stdout",
     "output_type": "stream",
     "text": [
      "Original Array:\n",
      "[[50 26  0 21]\n",
      " [93 30 74 96]\n",
      " [21 64 33 70]]\n",
      "\n",
      "Sorted (by elements):\n",
      "[[ 0 21 21 26]\n",
      " [30 33 50 64]\n",
      " [70 74 93 96]]\n",
      "\n",
      "Sorted by 2nd column:\n",
      "[[50 26  0 21]\n",
      " [93 30 74 96]\n",
      " [21 64 33 70]]\n",
      "\n",
      "Sorted by row max value (ascending):\n",
      "[[50 26  0 21]\n",
      " [93 30 74 96]\n",
      " [21 64 33 70]]\n",
      "\n",
      "Sorted by element values:\n",
      "[[ 0 21 21 26]\n",
      " [30 33 50 64]\n",
      " [70 74 93 96]]\n"
     ]
    }
   ],
   "source": [
    "import numpy as np\n",
    "\n",
    "# Create a random 3x4 matrix with values between 0 and 100\n",
    "arr = np.random.randint(0, 101, size=(3, 4))\n",
    "\n",
    "# i. Sort the matrix\n",
    "sorted_matrix = np.sort(arr, axis=None).reshape(arr.shape)\n",
    "\n",
    "# ii. Sort based on the 2nd column\n",
    "sorted_by_second_column = arr[arr[:, 1].argsort()]\n",
    "\n",
    "# iii. Sort based on the max value in each row (ascending)\n",
    "sorted_by_max_row = arr[np.argmax(arr, axis=1).argsort()]\n",
    "\n",
    "# iv. Sort based on element values (flatten the array and sort)\n",
    "sorted_by_elements = np.sort(arr, axis=None).reshape(arr.shape)\n",
    "\n",
    "# Output the results\n",
    "print(\"Original Array:\")\n",
    "print(arr)\n",
    "print(\"\\nSorted (by elements):\")\n",
    "print(sorted_matrix)\n",
    "print(\"\\nSorted by 2nd column:\")\n",
    "print(sorted_by_second_column)\n",
    "print(\"\\nSorted by row max value (ascending):\")\n",
    "print(sorted_by_max_row)\n",
    "print(\"\\nSorted by element values:\")\n",
    "print(sorted_by_elements)\n"
   ]
  },
  {
   "cell_type": "markdown",
   "id": "48bd1ff4",
   "metadata": {},
   "source": [
    "### `Q-2:` There is an array of marks of 5 students in 4 subjects. Further you are asked to perform below task.\n",
    "    i. Add marks every student of an extra subject in the same array.\n",
    "    ii. Add two new students marks in respective 5 subjects.(one subject added in above task)\n",
    "    iii. Add extra column with sum of all subjects(5-subjects) marks\n",
    "    iv. Sort the array(non-ascending order) on total marks column--one added in above task. Show top 2 rows.\n",
    "\n",
    "Note: Change dimension of arrays during concatenation or appending if required."
   ]
  },
  {
   "cell_type": "markdown",
   "id": "50b30914",
   "metadata": {},
   "source": [
    "Given Array-\n",
    "```\n",
    "marks = [[13, 10,  9, 33],\n",
    "       [63, 46, 90, 42],\n",
    "       [39, 76, 13, 29],\n",
    "       [82,  9, 29, 78],\n",
    "       [67, 61, 59, 36]]\n",
    "\n",
    "extra_subject = [41, 87, 72, 36, 92]\n",
    "#Two extra students record-\n",
    "rec1 = [77, 83, 98, 95, 89]\n",
    "rec2 = [92, 71, 52, 61, 53]\n",
    "```"
   ]
  },
  {
   "cell_type": "code",
   "execution_count": 2,
   "id": "fb56c90b",
   "metadata": {},
   "outputs": [
    {
     "name": "stdout",
     "output_type": "stream",
     "text": [
      "Marks after adding extra subject:\n",
      "[[13 10  9 33 41]\n",
      " [63 46 90 42 87]\n",
      " [39 76 13 29 72]\n",
      " [82  9 29 78 36]\n",
      " [67 61 59 36 92]]\n",
      "\n",
      "Marks after adding two new students:\n",
      "[[13 10  9 33 41]\n",
      " [63 46 90 42 87]\n",
      " [39 76 13 29 72]\n",
      " [82  9 29 78 36]\n",
      " [67 61 59 36 92]\n",
      " [77 83 98 95 89]\n",
      " [92 71 52 61 53]]\n",
      "\n",
      "Marks after adding total marks column:\n",
      "[[ 13  10   9  33  41 106]\n",
      " [ 63  46  90  42  87 328]\n",
      " [ 39  76  13  29  72 229]\n",
      " [ 82   9  29  78  36 234]\n",
      " [ 67  61  59  36  92 315]\n",
      " [ 77  83  98  95  89 442]\n",
      " [ 92  71  52  61  53 329]]\n",
      "\n",
      "Top 2 students by total marks:\n",
      "[[ 77  83  98  95  89 442]\n",
      " [ 92  71  52  61  53 329]]\n"
     ]
    }
   ],
   "source": [
    "import numpy as np\n",
    "\n",
    "# Step 1: Given Data Setup\n",
    "marks = np.array([\n",
    "    [13, 10,  9, 33],\n",
    "    [63, 46, 90, 42],\n",
    "    [39, 76, 13, 29],\n",
    "    [82,  9, 29, 78],\n",
    "    [67, 61, 59, 36]\n",
    "])\n",
    "\n",
    "extra_subject = np.array([41, 87, 72, 36, 92])  # Extra subject marks for 5 students\n",
    "\n",
    "rec1 = [77, 83, 98, 95, 89]  # New student 1 (with 5 subjects)\n",
    "rec2 = [92, 71, 52, 61, 53]  # New student 2 (with 5 subjects)\n",
    "\n",
    "# Step 2: i. Add marks of the extra subject to the existing array\n",
    "extra_subject = extra_subject.reshape(5, 1)  # Reshape extra_subject to be a column\n",
    "marks = np.hstack((marks, extra_subject))  # Add it as a new column to the existing marks array\n",
    "\n",
    "# Print marks after adding extra subject\n",
    "print(\"Marks after adding extra subject:\")\n",
    "print(marks)\n",
    "\n",
    "# Step 3: ii. Add two new students' marks\n",
    "new_students = np.array([rec1, rec2])  # Create a 2x5 array for the new records\n",
    "marks = np.vstack((marks, new_students))  # Append to the existing marks array\n",
    "\n",
    "# Print marks after adding new students\n",
    "print(\"\\nMarks after adding two new students:\")\n",
    "print(marks)\n",
    "\n",
    "# Step 4: iii. Add extra column with total of all subject marks\n",
    "total_marks = np.sum(marks, axis=1).reshape(-1, 1)  # Sum along axis 1 (row-wise)\n",
    "marks = np.hstack((marks, total_marks))  # Add the total marks as a new column\n",
    "\n",
    "# Print marks after adding total column\n",
    "print(\"\\nMarks after adding total marks column:\")\n",
    "print(marks)\n",
    "\n",
    "# Step 5: iv. Sort by total marks in non-ascending order & show top 2 rows\n",
    "sorted_marks = marks[marks[:, -1].argsort()[::-1]]  # Sort by total marks in descending order\n",
    "top_2 = sorted_marks[:2]  # Get the top 2 students\n",
    "\n",
    "# Print the top 2 students\n",
    "print(\"\\nTop 2 students by total marks:\")\n",
    "print(top_2)\n"
   ]
  },
  {
   "cell_type": "markdown",
   "id": "b15ae1d0",
   "metadata": {},
   "source": [
    "### `Q-3:` Find unique arrays from a 2D array column wise and row wise.\n",
    "```\n",
    "arr = np.array([[1,2,3,3,1,1],\n",
    "                [0,9,1,2,8,8],\n",
    "                [1,2,3,8,8,8],\n",
    "                [1,2,3,3,1,1]])\n",
    "```\n",
    "Expected Result-\n",
    "```\n",
    "Row Wise\n",
    "[[0 9 1 2 8 8]\n",
    " [1 2 3 3 1 1]\n",
    " [1 2 3 8 8 8]]\n",
    "\n",
    "Col Wise\n",
    "[[1 1 2 3 3]\n",
    " [0 8 9 1 2]\n",
    " [1 8 2 3 8]\n",
    " [1 1 2 3 3]]\n",
    "```"
   ]
  },
  {
   "cell_type": "code",
   "execution_count": 3,
   "id": "e6419b83",
   "metadata": {},
   "outputs": [
    {
     "name": "stdout",
     "output_type": "stream",
     "text": [
      "Row-wise unique arrays:\n",
      "[[0 9 1 2 8 8]\n",
      " [1 2 3 3 1 1]\n",
      " [1 2 3 8 8 8]]\n",
      "\n",
      "Column-wise unique arrays:\n",
      "[[1 1 2 3 3]\n",
      " [0 8 9 1 2]\n",
      " [1 8 2 3 8]\n",
      " [1 1 2 3 3]]\n"
     ]
    }
   ],
   "source": [
    "import numpy as np\n",
    "\n",
    "# Given 2D array\n",
    "arr = np.array([\n",
    "    [1, 2, 3, 3, 1, 1],\n",
    "    [0, 9, 1, 2, 8, 8],\n",
    "    [1, 2, 3, 8, 8, 8],\n",
    "    [1, 2, 3, 3, 1, 1]\n",
    "])\n",
    "\n",
    "# Row-wise unique arrays\n",
    "row_wise_unique = np.unique(arr, axis=0)\n",
    "\n",
    "# Column-wise unique arrays\n",
    "col_wise_unique = np.unique(arr, axis=1)\n",
    "\n",
    "# Printing the results\n",
    "print(\"Row-wise unique arrays:\")\n",
    "print(row_wise_unique)\n",
    "\n",
    "print(\"\\nColumn-wise unique arrays:\")\n",
    "print(col_wise_unique)\n"
   ]
  },
  {
   "cell_type": "markdown",
   "id": "53c554b4",
   "metadata": {},
   "source": [
    "### `Q-4:` Flip given 2-D array along both axes at the same time."
   ]
  },
  {
   "cell_type": "code",
   "execution_count": 4,
   "id": "029dc922",
   "metadata": {},
   "outputs": [
    {
     "name": "stdout",
     "output_type": "stream",
     "text": [
      "[[9 8 7]\n",
      " [6 5 4]\n",
      " [3 2 1]]\n",
      "[[9 8 7]\n",
      " [6 5 4]\n",
      " [3 2 1]]\n"
     ]
    }
   ],
   "source": [
    "import numpy as np\n",
    "\n",
    "arr = np.array([[1, 2, 3],\n",
    "                [4, 5, 6],\n",
    "                [7, 8, 9]])\n",
    "\n",
    "flipped = arr[::-1, ::-1]\n",
    "print(flipped)\n",
    "flippe = np.flip(arr)\n",
    "print(flippe)\n"
   ]
  },
  {
   "cell_type": "markdown",
   "id": "de969e80",
   "metadata": {},
   "source": [
    "### `Q-5:` Get row numbers of NumPy array having element larger than X.\n",
    "```\n",
    "arr = [[1,2,3,4,5],\n",
    "      [10,-3,30,4,5],\n",
    "      [3,2,5,-4,5],\n",
    "      [9,7,3,6,5]]\n",
    "\n",
    "X = 6\n",
    "```"
   ]
  },
  {
   "cell_type": "code",
   "execution_count": 5,
   "id": "3011a90c",
   "metadata": {},
   "outputs": [
    {
     "name": "stdout",
     "output_type": "stream",
     "text": [
      "[1 3]\n"
     ]
    }
   ],
   "source": [
    "import numpy as np\n",
    "\n",
    "arr = np.array([[1, 2, 3, 4, 5],\n",
    "                [10, -3, 30, 4, 5],\n",
    "                [3, 2, 5, -4, 5],\n",
    "                [9, 7, 3, 6, 5]])\n",
    "\n",
    "X = 6\n",
    "\n",
    "# Check which rows have any element greater than X\n",
    "row_indices = np.where(np.any(arr > X, axis=1))[0]\n",
    "\n",
    "print(row_indices)\n"
   ]
  },
  {
   "cell_type": "markdown",
   "id": "fad5855d",
   "metadata": {},
   "source": [
    "### `Q-6:` How to convert an array of arrays into a flat 1d array?\n"
   ]
  },
  {
   "cell_type": "code",
   "execution_count": 6,
   "id": "297d55c2",
   "metadata": {},
   "outputs": [
    {
     "name": "stdout",
     "output_type": "stream",
     "text": [
      "[0 1 2 3 4 5 6 7 8 9]\n"
     ]
    }
   ],
   "source": [
    "# These arrays are given.\n",
    "arr1 = np.arange(3)\n",
    "arr2 = np.arange(3,7)\n",
    "arr3 = np.arange(7,10)\n",
    "flat_array = np.concatenate((arr1, arr2, arr3))\n",
    "print(flat_array)\n"
   ]
  },
  {
   "cell_type": "markdown",
   "id": "f121357c",
   "metadata": {},
   "source": [
    "### `Q-7:` You are given a array. You have to find the minimum and maximum array element and remove that from the array.\n",
    "\n",
    "```python\n",
    "import numpy as np\n",
    "\n",
    "np.random.seed(400)\n",
    "arr = np.random.randint(100, 1000, 200).reshape((1, 200))\n",
    "```"
   ]
  },
  {
   "cell_type": "code",
   "execution_count": 9,
   "id": "91052ca2",
   "metadata": {},
   "outputs": [
    {
     "name": "stdout",
     "output_type": "stream",
     "text": [
      "Original Array Shape: (1, 200)\n",
      "Minimum Value: 103\n",
      "Maximum Value: 998\n",
      "Modified Array Shape: (1, 198)\n",
      "Modified Array:\n",
      " [[448 563 418 240 507 362 345 236 719 291 298 639 458 387 262 613 267 882\n",
      "  181 425 790 635 889 818 872 967 277 470 336 920 917 295 557 830 506 385\n",
      "  353 975 592 997 137 340 222 215 472 459 617 649 935 956 914 932 645 952\n",
      "  921 490 527 972 278 307 840 958 246 449 251 957 627 920 824 356 825 173\n",
      "  323 372 960 710 464 244 782 763 635 436 774 171 469 178 458 624 211 771\n",
      "  270 308 231 952 514 699 702 433 900 373 318 265 503 320 230 324 922 967\n",
      "  620 743 527 117 566 804 123 946 587 227 853 757 944 328 855 930 325 729\n",
      "  426 514 296 879 575 936 705 209 191 743 510 513 628 559 658 528 395 525\n",
      "  922 136 496 225 895 975 263 908 420 711 800 976 786 235 930 859 618 226\n",
      "  695 460 218 483 490 803 621 453 193 607 677 637 728 724 534 748 291 194\n",
      "  761 875 687 569 228 482 781 554 654 739 885 197 266 228 892 207 883 588]]\n"
     ]
    }
   ],
   "source": [
    "import numpy as np\n",
    "\n",
    "# Set random seed for reproducibility\n",
    "np.random.seed(400)\n",
    "\n",
    "# Generate the array\n",
    "arr = np.random.randint(100, 1000, 200).reshape((1, 200))\n",
    "\n",
    "# Flatten to 1D for simplicity (or use arr[0])\n",
    "arr_flat = arr.flatten()  # Shape: (200,)\n",
    "\n",
    "# Find minimum and maximum\n",
    "min_val = np.min(arr_flat)\n",
    "max_val = np.max(arr_flat)\n",
    "min_idx = np.argmin(arr_flat)\n",
    "max_idx = np.argmax(arr_flat)\n",
    "\n",
    "# Ensure distinct indices (if min and max are at the same index, handle duplicates)\n",
    "if min_idx == max_idx:\n",
    "    # Find another occurrence of min or max if possible\n",
    "    min_indices = np.where(arr_flat == min_val)[0]\n",
    "    max_indices = np.where(arr_flat == max_val)[0]\n",
    "    if len(min_indices) > 1:\n",
    "        min_idx = min_indices[1]  # Take second occurrence\n",
    "    elif len(max_indices) > 1:\n",
    "        max_idx = max_indices[1]\n",
    "    else:\n",
    "        raise ValueError(\"Cannot remove min and max; only one occurrence exists\")\n",
    "\n",
    "# Remove min and max elements\n",
    "indices_to_remove = [min_idx, max_idx]\n",
    "modified_arr = np.delete(arr_flat, indices_to_remove)\n",
    "\n",
    "# Reshape back to (1, 198) if needed\n",
    "modified_arr = modified_arr.reshape(1, -1)  # -1 infers 198\n",
    "\n",
    "# Print results\n",
    "print(\"Original Array Shape:\", arr.shape)\n",
    "print(\"Minimum Value:\", min_val)\n",
    "print(\"Maximum Value:\", max_val)\n",
    "print(\"Modified Array Shape:\", modified_arr.shape)\n",
    "print(\"Modified Array:\\n\", modified_arr)"
   ]
  },
  {
   "cell_type": "markdown",
   "id": "bda37b50",
   "metadata": {},
   "source": [
    "### `Q-8:` You are given an arrays. You have to limit this array's elements between 100 to 200. $arr ∈ [100, 700]$. So replace those values accordingly with the minimum and maximum value. Then sort the array and perform the cumulative sum of that array."
   ]
  },
  {
   "cell_type": "code",
   "execution_count": 12,
   "id": "f34ff5ce",
   "metadata": {},
   "outputs": [
    {
     "name": "stdout",
     "output_type": "stream",
     "text": [
      "Original Array Shape: (1, 200)\n",
      "Original Array (first 10 elements):\n",
      " [448 563 418 240 507 362 345 236 291 298]\n",
      "\n",
      "Limited Array Shape (elements in [100, 200]): (1, 200)\n",
      "Limited Array (first 10 elements):\n",
      " [200 200 200 200 200 200 200 200 200 200]\n",
      "\n",
      "Sorted Array Shape: (1, 200)\n",
      "Sorted Array (first 10 elements):\n",
      " [100 103 103 110 117 123 123 129 130 131]\n",
      "\n",
      "Cumulative Sum Array Shape: (1, 200)\n",
      "Cumulative Sum Array (first 10 elements):\n",
      " [ 100  203  306  416  533  656  779  908 1038 1169]\n"
     ]
    }
   ],
   "source": [
    "import numpy as np\n",
    "\n",
    "# Set random seed for reproducibility\n",
    "np.random.seed(400)\n",
    "\n",
    "# Generate the array with values in [100, 700]\n",
    "arr = np.random.randint(100, 701, 200).reshape((1, 200))\n",
    "\n",
    "# Step 1: Limit elements to [100, 200]\n",
    "limited_arr = np.clip(arr, a_min=100, a_max=200)\n",
    "\n",
    "# Step 2: Sort the array\n",
    "sorted_arr = np.sort(limited_arr, axis=None).reshape(1, 200)\n",
    "\n",
    "# Step 3: Compute cumulative sum\n",
    "cumsum_arr = np.cumsum(sorted_arr, axis=1)\n",
    "\n",
    "# Print results\n",
    "print(\"Original Array Shape:\", arr.shape)\n",
    "print(\"Original Array (first 10 elements):\\n\", arr[0, :10])\n",
    "print(\"\\nLimited Array Shape (elements in [100, 200]):\", limited_arr.shape)\n",
    "print(\"Limited Array (first 10 elements):\\n\", limited_arr[0, :10])\n",
    "print(\"\\nSorted Array Shape:\", sorted_arr.shape)\n",
    "print(\"Sorted Array (first 10 elements):\\n\", sorted_arr[0, :10])\n",
    "print(\"\\nCumulative Sum Array Shape:\", cumsum_arr.shape)\n",
    "print(\"Cumulative Sum Array (first 10 elements):\\n\", cumsum_arr[0, :10])"
   ]
  },
  {
   "cell_type": "markdown",
   "id": "6e44d9c2",
   "metadata": {},
   "source": [
    "### `Q-9:` You are given a array ($arr ∈ [0, 1]$). First you have round off the elements upto 3 decimal places and compare that\n",
    "- 0th percentile == minimum value of the array\n",
    "- 100th percentile == maximum value of the array\n",
    "- also find the difference betwen 51th percenile and 50th percentile values"
   ]
  },
  {
   "cell_type": "code",
   "execution_count": 13,
   "id": "626ca92a",
   "metadata": {},
   "outputs": [
    {
     "name": "stdout",
     "output_type": "stream",
     "text": [
      "Rounded Array Shape: (200,)\n",
      "Rounded Array (first 10 elements):\n",
      " [0.669 0.226 0.859 0.29  0.148 0.012 0.776 0.405 0.856 0.539]\n",
      "\n",
      "Minimum Value: 0.001\n",
      "0th Percentile: 0.001\n",
      "Is 0th Percentile == Minimum?: True\n",
      "\n",
      "Maximum Value: 0.997\n",
      "100th Percentile: 0.997\n",
      "Is 100th Percentile == Maximum?: True\n",
      "\n",
      "50th Percentile: 0.509\n",
      "51st Percentile: 0.5149199999999999\n",
      "Difference (51st - 50th Percentile): 0.005919999999999925\n"
     ]
    }
   ],
   "source": [
    "import numpy as np\n",
    "\n",
    "# Set random seed for reproducibility\n",
    "np.random.seed(400)\n",
    "\n",
    "# Generate the array with values in [0, 1]\n",
    "arr = np.random.uniform(0, 1, 200)\n",
    "\n",
    "# Step 1: Round elements to 3 decimal places\n",
    "arr_rounded = np.round(arr, decimals=3)\n",
    "\n",
    "# Step 2: Compute percentiles and extrema\n",
    "percentile_0 = np.percentile(arr_rounded, 0)\n",
    "percentile_100 = np.percentile(arr_rounded, 100)\n",
    "percentile_50 = np.percentile(arr_rounded, 50)\n",
    "percentile_51 = np.percentile(arr_rounded, 51)\n",
    "min_val = np.min(arr_rounded)\n",
    "max_val = np.max(arr_rounded)\n",
    "\n",
    "# Step 3: Compare 0th percentile with minimum and 100th percentile with maximum\n",
    "is_0th_equal_min = percentile_0 == min_val\n",
    "is_100th_equal_max = percentile_100 == max_val\n",
    "\n",
    "# Step 4: Compute difference between 51st and 50th percentiles\n",
    "percentile_diff = percentile_51 - percentile_50\n",
    "\n",
    "# Print results\n",
    "print(\"Rounded Array Shape:\", arr_rounded.shape)\n",
    "print(\"Rounded Array (first 10 elements):\\n\", arr_rounded[:10])\n",
    "print(\"\\nMinimum Value:\", min_val)\n",
    "print(\"0th Percentile:\", percentile_0)\n",
    "print(\"Is 0th Percentile == Minimum?:\", is_0th_equal_min)\n",
    "print(\"\\nMaximum Value:\", max_val)\n",
    "print(\"100th Percentile:\", percentile_100)\n",
    "print(\"Is 100th Percentile == Maximum?:\", is_100th_equal_max)\n",
    "print(\"\\n50th Percentile:\", percentile_50)\n",
    "print(\"51st Percentile:\", percentile_51)\n",
    "print(\"Difference (51st - 50th Percentile):\", percentile_diff)"
   ]
  }
 ],
 "metadata": {
  "kernelspec": {
   "display_name": ".venv",
   "language": "python",
   "name": "python3"
  },
  "language_info": {
   "codemirror_mode": {
    "name": "ipython",
    "version": 3
   },
   "file_extension": ".py",
   "mimetype": "text/x-python",
   "name": "python",
   "nbconvert_exporter": "python",
   "pygments_lexer": "ipython3",
   "version": "3.12.10"
  }
 },
 "nbformat": 4,
 "nbformat_minor": 5
}
