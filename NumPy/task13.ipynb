{
 "cells": [
  {
   "cell_type": "markdown",
   "id": "f861ec86",
   "metadata": {},
   "source": [
    "### `Q-1` Create a null vector of size 10 but the fifth value which is 1."
   ]
  },
  {
   "cell_type": "code",
   "execution_count": 1,
   "id": "a865155b",
   "metadata": {},
   "outputs": [
    {
     "name": "stdout",
     "output_type": "stream",
     "text": [
      "[0. 0. 0. 0. 1. 0. 0. 0. 0. 0.]\n"
     ]
    }
   ],
   "source": [
    "import numpy as np\n",
    "\n",
    "# Create a zero vector of size 10\n",
    "a = np.zeros(10)\n",
    "\n",
    "# Set the fifth element (index 4) to 1\n",
    "a[4] = 1\n",
    "\n",
    "print(a)\n"
   ]
  },
  {
   "cell_type": "markdown",
   "id": "5d164d24",
   "metadata": {},
   "source": [
    "### `Q-2` Ask user to input two numbers a, b. Write a program to generate a random array of shape (a, b) and print the array and avg of the array."
   ]
  },
  {
   "cell_type": "code",
   "execution_count": 2,
   "id": "617ce406",
   "metadata": {},
   "outputs": [
    {
     "name": "stdout",
     "output_type": "stream",
     "text": [
      "Array: [219  48 193 202 119  48 152 209 231  97]\n",
      "Sum: 1518\n",
      "Average: 151.8\n"
     ]
    }
   ],
   "source": [
    "import numpy as np\n",
    "\n",
    "# Take input and convert to integers\n",
    "a = int(input(\"Enter a number (lower bound): \"))\n",
    "b = int(input(\"Enter a number (upper bound): \"))\n",
    "\n",
    "# Generate an array of 10 random integers between a and b\n",
    "array = np.random.randint(a, b, size=10)\n",
    "\n",
    "print(\"Array:\", array)\n",
    "print(\"Sum:\", np.sum(array))\n",
    "print(\"Average:\", np.mean(array))\n"
   ]
  },
  {
   "cell_type": "markdown",
   "id": "5da1f628",
   "metadata": {},
   "source": [
    "### `Q-3`Write a function to create a 2d array with 1 on the border and 0 inside. Take 2-D array shape as (a,b) as parameter to function.\n",
    "\n",
    "Eg.-\n",
    "```\n",
    "[[1,1,1,1],\n",
    "[1,0,0,1],\n",
    "[1,0,0,1],\n",
    "[1,1,1,1]]\n",
    "```"
   ]
  },
  {
   "cell_type": "code",
   "execution_count": 3,
   "id": "3d2b9fb1",
   "metadata": {},
   "outputs": [
    {
     "name": "stdout",
     "output_type": "stream",
     "text": [
      "[[1 1 1 1]\n",
      " [1 0 0 1]\n",
      " [1 0 0 1]\n",
      " [1 1 1 1]]\n"
     ]
    }
   ],
   "source": [
    "import numpy as np\n",
    "\n",
    "def create_border_array(a, b):\n",
    "    # Create an array of all ones\n",
    "    arr = np.ones((a, b), dtype=int)\n",
    "    \n",
    "    # Set the inner elements to 0\n",
    "    arr[1:-1, 1:-1] = 0\n",
    "    \n",
    "    return arr\n",
    "\n",
    "# Example usage:\n",
    "print(create_border_array(4, 4))\n"
   ]
  },
  {
   "cell_type": "markdown",
   "id": "51ed5d82",
   "metadata": {},
   "source": [
    "### `Q-4` Create a vector of size 10 with values ranging from 0 to 1, both excluded.\n"
   ]
  },
  {
   "cell_type": "code",
   "execution_count": 4,
   "id": "2e46b653",
   "metadata": {},
   "outputs": [
    {
     "name": "stdout",
     "output_type": "stream",
     "text": [
      "[0.45480559 0.80223723 0.97885312 0.57713163 0.23235281 0.1481155\n",
      " 0.27999535 0.8400501  0.56642057 0.68081814]\n"
     ]
    }
   ],
   "source": [
    "import numpy as np\n",
    "\n",
    "# Generate 10 values between 0 and 1 (exclusive)\n",
    "vec = np.random.uniform(low=0.0001, high=0.9999, size=10)\n",
    "print(vec)\n"
   ]
  },
  {
   "cell_type": "markdown",
   "id": "d2e54d99",
   "metadata": {},
   "source": [
    "### `Q-5` Can you create a identity mattrix of shape (3,4). If yes write code for it."
   ]
  },
  {
   "cell_type": "code",
   "execution_count": 22,
   "id": "e5560b76",
   "metadata": {},
   "outputs": [
    {
     "name": "stdout",
     "output_type": "stream",
     "text": [
      "[[1. 0. 0. 0.]\n",
      " [0. 1. 0. 0.]\n",
      " [0. 0. 1. 0.]]\n"
     ]
    }
   ],
   "source": [
    "import numpy as np\n",
    "\n",
    "# Create a \"rectangular identity-like\" matrix of shape (3, 4)\n",
    "print(np.eye(3, 4))\n"
   ]
  },
  {
   "cell_type": "markdown",
   "id": "56a4b553",
   "metadata": {},
   "source": [
    "### `Q-6:` Create a 5x5 matrix with row values ranging from 0 to 4."
   ]
  },
  {
   "cell_type": "code",
   "execution_count": 25,
   "id": "cef07fed",
   "metadata": {},
   "outputs": [
    {
     "name": "stdout",
     "output_type": "stream",
     "text": [
      "[[0 1 2 3 4]\n",
      " [0 1 2 3 4]\n",
      " [0 1 2 3 4]\n",
      " [0 1 2 3 4]\n",
      " [0 1 2 3 4]]\n"
     ]
    }
   ],
   "source": [
    "import numpy as np\n",
    "\n",
    "# Create a 5x5 matrix with row values from 0 to 4\n",
    "matrix = np.tile(np.arange(5), (5, 1))\n",
    "print(matrix)"
   ]
  },
  {
   "cell_type": "markdown",
   "id": "d4c467bc",
   "metadata": {},
   "source": [
    "### `Q-7:`  Consider a random integer (in range 1 to 100) vector with shape `(10,2)` representing coordinates, and coordinates of a point as array is given. Create an array of distance of each point in the random vectros from the given point. Distance array should be interger type.\n",
    "\n",
    "```\n",
    "point = np.array([2,3])\n",
    "```"
   ]
  },
  {
   "cell_type": "code",
   "execution_count": 7,
   "id": "4bfedd77",
   "metadata": {},
   "outputs": [
    {
     "name": "stdout",
     "output_type": "stream",
     "text": [
      "Random Coordinates:\n",
      " [[45 48]\n",
      " [65 68]\n",
      " [68 10]\n",
      " [84 22]\n",
      " [37 88]\n",
      " [71 89]\n",
      " [89 13]\n",
      " [59 66]\n",
      " [40 88]\n",
      " [47 89]]\n",
      "Distance Array:\n",
      " [ 62  90  66  84  91 110  87  84  93  97]\n"
     ]
    }
   ],
   "source": [
    "import numpy as np\n",
    "\n",
    "# Step 1: Generate random vector\n",
    "np.random.seed(0)  # Optional: for reproducibility\n",
    "random_coords = np.random.randint(1, 101, size=(10, 2))\n",
    "\n",
    "# Step 2: Define the reference point\n",
    "point = np.array([2, 3])\n",
    "\n",
    "# Step 3: Compute Euclidean distances\n",
    "distances = np.linalg.norm(random_coords - point, axis=1)\n",
    "\n",
    "# Step 4: Convert to integer type\n",
    "int_distances = distances.astype(int)\n",
    "\n",
    "# Output\n",
    "print(\"Random Coordinates:\\n\", random_coords)\n",
    "print(\"Distance Array:\\n\", int_distances)\n"
   ]
  },
  {
   "cell_type": "markdown",
   "id": "e8304d36",
   "metadata": {},
   "source": [
    "### `Q-8:` Consider a (6,7,8) shape array, what is the index (x,y,z) of the 100th element?"
   ]
  },
  {
   "cell_type": "code",
   "execution_count": 27,
   "id": "7c0e65d9",
   "metadata": {},
   "outputs": [
    {
     "name": "stdout",
     "output_type": "stream",
     "text": [
      "Index of 100th element: (np.int64(1), np.int64(5), np.int64(3))\n"
     ]
    }
   ],
   "source": [
    "import numpy as np\n",
    "\n",
    "shape = (6, 7, 8)\n",
    "flat_index = 99\n",
    "# Get the (x, y, z) index from flat index\n",
    "index = np.unravel_index(flat_index, shape)\n",
    "\n",
    "print(\"Index of 100th element:\", index)\n"
   ]
  },
  {
   "cell_type": "markdown",
   "id": "429415f9",
   "metadata": {},
   "source": [
    "### `Q-9:` Arrays\n",
    "\n",
    "You are given a space separated list of numbers. Your task is to print a reversed NumPy array with the element type float."
   ]
  },
  {
   "cell_type": "markdown",
   "id": "bca9f53d",
   "metadata": {},
   "source": [
    "**Input Format:**\n",
    "\n",
    "A single line of input containing space separated numbers.\n",
    "\n",
    "**Output Format:**\n",
    "\n",
    "Print the reverse NumPy array with type float.\n",
    "\n",
    "**Example 1:**\n",
    "\n",
    "Input:\n",
    "\n",
    "```bash\n",
    "1 2 3 4 -8 -10\n",
    "```\n",
    "\n",
    "Output:\n",
    "\n",
    "```bash\n",
    "[-10.  -8.   4.   3.   2.   1.]\n",
    "```"
   ]
  },
  {
   "cell_type": "code",
   "execution_count": 9,
   "id": "a545e319",
   "metadata": {},
   "outputs": [
    {
     "name": "stdout",
     "output_type": "stream",
     "text": [
      "['12']\n",
      "[12.]\n"
     ]
    }
   ],
   "source": [
    "import numpy as np\n",
    "\n",
    "# Step 1: Read input\n",
    "input_str = input()\n",
    "print(input_str.split())\n",
    "\n",
    "# Step 2: Convert to list of floats\n",
    "arr = np.array(input_str.split(), dtype=float)\n",
    "\n",
    "# Step 3: Reverse the array\n",
    "reversed_arr = arr[::-1]\n",
    "\n",
    "# Step 4: Print the result\n",
    "print(reversed_arr)\n"
   ]
  },
  {
   "cell_type": "markdown",
   "id": "06eb6895",
   "metadata": {},
   "source": [
    "**Example 1:**\n",
    "\n",
    "Input:\n",
    "```bash\n",
    "np.array([])\n",
    "```\n",
    "\n",
    "Output:\n",
    "```bash\n",
    "elements_count :  0\n",
    "```\n",
    "\n",
    "**Example 2:**\n",
    "\n",
    "Input:\n",
    "```bash\n",
    "np.array([1, 2])\n",
    "```\n",
    "\n",
    "Output:\n",
    "```bash\n",
    "elements_count :  2\n",
    "```"
   ]
  },
  {
   "cell_type": "code",
   "execution_count": 10,
   "id": "e9173c57",
   "metadata": {},
   "outputs": [
    {
     "name": "stdout",
     "output_type": "stream",
     "text": [
      "elements_count : 1\n"
     ]
    }
   ],
   "source": [
    "import numpy as np\n",
    "\n",
    "# Read space-separated input from user\n",
    "input_str = input().strip()\n",
    "\n",
    "# Handle empty input separately\n",
    "if input_str == \"\":\n",
    "    arr = np.array([])\n",
    "else:\n",
    "    arr = np.array(input_str.split(), dtype=float)\n",
    "\n",
    "# Print number of elements\n",
    "print(\"elements_count :\", arr.size)\n"
   ]
  },
  {
   "cell_type": "markdown",
   "id": "ce1a03a2",
   "metadata": {},
   "source": [
    "### `Q-11:` Softmax function\n",
    "\n",
    "Create a Python function to calculate the Softmax of the given numpy 1D array. The function only accepts the numpy 1D array, otherwise raise error.\n",
    "\n",
    "$$\\Large \\sigma(\\vec z)_i = \\frac{e^{z_i}}{\\sum_{j=i}^{K}{e^{z_j}}}$$\n",
    "\n",
    "https://en.wikipedia.org/wiki/Softmax_function\n",
    "\n"
   ]
  },
  {
   "cell_type": "markdown",
   "id": "ca1d5372",
   "metadata": {},
   "source": [
    "**Example 1:**\n",
    "\n",
    "Input:\n",
    "```bash\n",
    "[86.03331084 37.7285648  48.64908087 87.16563062 38.40852563 37.20006318]\n",
    "```\n",
    "\n",
    "Output:\n",
    "```bash\n",
    "[2.43733249e-01, 2.56112115e-22, 1.41628284e-17, 7.56266751e-01,\n",
    "       5.05514197e-22, 1.50974911e-22]\n",
    "```\n",
    "\n",
    "**Example 2:**\n",
    "\n",
    "Input:\n",
    "```bash\n",
    "[33.17344305 45.61961654 82.05405781 80.9647098  68.82830233 91.52064278]\n",
    "```\n",
    "\n",
    "Output:\n",
    "```bash\n",
    "[4.57181035e-26, 1.16249923e-20, 7.73872596e-05, 2.60358426e-05,\n",
    "       1.39571531e-10, 9.99896577e-01]\n",
    "```"
   ]
  },
  {
   "cell_type": "code",
   "execution_count": 11,
   "id": "281a3b77",
   "metadata": {},
   "outputs": [
    {
     "name": "stdout",
     "output_type": "stream",
     "text": [
      "[2.43733248e-01 2.56112114e-22 1.41628283e-17 7.56266752e-01\n",
      " 5.05514197e-22 1.50974911e-22]\n",
      "[4.57181033e-26 1.16249922e-20 7.73872594e-05 2.60358426e-05\n",
      " 1.39571531e-10 9.99896577e-01]\n"
     ]
    }
   ],
   "source": [
    "import numpy as np\n",
    "\n",
    "def softmax(x):\n",
    "    # Validate input type\n",
    "    if not isinstance(x, np.ndarray):\n",
    "        raise TypeError(\"Input must be a NumPy array.\")\n",
    "    \n",
    "    # Validate shape (must be 1D)\n",
    "    if x.ndim != 1:\n",
    "        raise ValueError(\"Input must be a 1D NumPy array.\")\n",
    "    \n",
    "    # Numerical stability: subtract max before exponentiation\n",
    "    exp_x = np.exp(x - np.max(x))\n",
    "    return exp_x / np.sum(exp_x)\n",
    "\n",
    "arr = np.array([86.03331084, 37.7285648, 48.64908087, 87.16563062, 38.40852563, 37.20006318])\n",
    "print(softmax(arr))\n",
    "\n",
    "arr = np.array([33.17344305, 45.61961654, 82.05405781, 80.9647098, 68.82830233, 91.52064278])\n",
    "print(softmax(arr))\n"
   ]
  },
  {
   "cell_type": "markdown",
   "id": "a05e171b",
   "metadata": {},
   "source": [
    "### `Q-12:` Vertical stack\n",
    "\n",
    "Write a python function that accepts infinite number of numpy arrays and do the vertical stack to them. Then return that new array as result. The function only accepts the numpy array, otherwise raise error."
   ]
  },
  {
   "cell_type": "markdown",
   "id": "46572856",
   "metadata": {},
   "source": [
    "**Example 1:**\n",
    "\n",
    "Input:\n",
    "```bash\n",
    "a= [[0 1 2 3 4]\n",
    " [5 6 7 8 9]]\n",
    "\n",
    "b= [[1 1 1 1 1]\n",
    " [1 1 1 1 1]]\n",
    "```\n",
    "\n",
    "Output:\n",
    "\n",
    "```bash\n",
    "[[0 1 2 3 4]\n",
    " [5 6 7 8 9]\n",
    " [1 1 1 1 1]\n",
    " [1 1 1 1 1]]\n",
    "```\n",
    "\n",
    "**Example 2:**\n",
    "\n",
    "Input:\n",
    "```bash\n",
    "a= [[0 1 2 3 4]\n",
    " [5 6 7 8 9]]\n",
    "\n",
    "b= [[1 1 1 1 1]\n",
    " [1 1 1 1 1]]\n",
    "\n",
    "c= [[0.10117373 0.1677244  0.73764059 0.83166097 0.48985695]\n",
    " [0.44581567 0.13502419 0.55692335 0.16479622 0.61193593]]\n",
    "```\n",
    "\n",
    "Output:\n",
    "```bash\n",
    "[[0.         1.         2.         3.         4.        ]\n",
    " [5.         6.         7.         8.         9.        ]\n",
    " [1.         1.         1.         1.         1.        ]\n",
    " [1.         1.         1.         1.         1.        ]\n",
    " [0.10117373 0.1677244  0.73764059 0.83166097 0.48985695]\n",
    " [0.44581567 0.13502419 0.55692335 0.16479622 0.61193593]]\n",
    "```"
   ]
  },
  {
   "cell_type": "code",
   "execution_count": 30,
   "id": "37633cee",
   "metadata": {},
   "outputs": [
    {
     "name": "stdout",
     "output_type": "stream",
     "text": [
      "[[0 1 2 3 4]\n",
      " [5 6 7 8 9]\n",
      " [1 1 1 1 1]\n",
      " [1 1 1 1 1]]\n"
     ]
    }
   ],
   "source": [
    "import numpy as np\n",
    "\n",
    "def vertical_stack(*arrays):\n",
    "    return np.vstack(arrays)\n",
    "\n",
    "a = np.array([[0, 1, 2, 3, 4],\n",
    "              [5, 6, 7, 8, 9]])\n",
    "\n",
    "b = np.array([[1, 1, 1, 1, 1],\n",
    "              [1, 1, 1, 1, 1]])\n",
    "\n",
    "result = vertical_stack(a, b)\n",
    "print(result)\n"
   ]
  },
  {
   "cell_type": "markdown",
   "id": "b7493ae9",
   "metadata": {},
   "source": [
    "### `Q-13:` Dates\n",
    "\n",
    "Create a python function named **date_array** that accepts two dates as string format and returns a numpy array of dates between those 2 dates. The function only accept 2 strings, otherwise raise error. The date format should be like this only: `2022-12-6`. The end date should be included and for simplicity, choose dates from a same year."
   ]
  },
  {
   "cell_type": "markdown",
   "id": "1b727388",
   "metadata": {},
   "source": [
    "**Example 1:**\n",
    "\n",
    "Input:\n",
    "```bash\n",
    "date_array(start = '2020-09-15', end = '2020-09-25')\n",
    "```\n",
    "\n",
    "Output:\n",
    "```bash\n",
    "['2020-09-15', '2020-09-16', '2020-09-17', '2020-09-18',\n",
    " '2020-09-19', '2020-09-20', '2020-09-21', '2020-09-22',\n",
    " '2020-09-23', '2020-09-24', '2020-09-25']\n",
    "```\n",
    "\n",
    "**Example 2:**\n",
    "\n",
    "Input:\n",
    "```bash\n",
    "date_array(start = '2022-12-01', end = '2022-12-06')\n",
    "```\n",
    "\n",
    "Output:\n",
    "```bash\n",
    "['2022-12-01', '2022-12-02', '2022-12-03', '2022-12-04', '2022-12-05', '2022-12-06']\n",
    "```\n",
    "\n",
    "**Example 3:**\n",
    "\n",
    "Input:\n",
    "```bash\n",
    "date_array(start = '2020-11-25', end = '2020-11-30')\n",
    "```\n",
    "\n",
    "Output:\n",
    "```bash\n",
    "['2020-11-25', '2020-11-26', '2020-11-27', '2020-11-28',\n",
    " '2020-11-29', '2020-11-30']\n",
    "```"
   ]
  },
  {
   "cell_type": "code",
   "execution_count": 13,
   "id": "1e716ee4",
   "metadata": {},
   "outputs": [
    {
     "name": "stdout",
     "output_type": "stream",
     "text": [
      "['2020-09-15' '2020-09-16' '2020-09-17' '2020-09-18' '2020-09-19'\n",
      " '2020-09-20' '2020-09-21' '2020-09-22' '2020-09-23' '2020-09-24'\n",
      " '2020-09-25']\n",
      "['2022-12-01' '2022-12-02' '2022-12-03' '2022-12-04' '2022-12-05'\n",
      " '2022-12-06']\n",
      "['2020-11-25' '2020-11-26' '2020-11-27' '2020-11-28' '2020-11-29'\n",
      " '2020-11-30']\n"
     ]
    }
   ],
   "source": [
    "import numpy as np\n",
    "from datetime import datetime\n",
    "\n",
    "def date_array(start, end):\n",
    "    # Check if both inputs are strings\n",
    "    if not isinstance(start, str) or not isinstance(end, str):\n",
    "        raise TypeError(\"Both start and end dates must be strings.\")\n",
    "\n",
    "    # Try to parse the dates\n",
    "    try:\n",
    "        start_date = np.datetime64(datetime.strptime(start, \"%Y-%m-%d\").date())\n",
    "        end_date = np.datetime64(datetime.strptime(end, \"%Y-%m-%d\").date())\n",
    "    except ValueError:\n",
    "        raise ValueError(\"Date format must be YYYY-MM-DD (e.g., '2022-12-6').\")\n",
    "\n",
    "    # Check if dates are from the same year\n",
    "    if start_date.astype('datetime64[Y]') != end_date.astype('datetime64[Y]'):\n",
    "        raise ValueError(\"Start and end dates must be from the same year.\")\n",
    "\n",
    "    # Generate the date range (inclusive of end date)\n",
    "    return np.arange(start_date, end_date + np.timedelta64(1, 'D')).astype(str)\n",
    "\n",
    "print(date_array(start='2020-09-15', end='2020-09-25'))\n",
    "print(date_array(start='2022-12-01', end='2022-12-06'))\n",
    "print(date_array(start='2020-11-25', end='2020-11-30'))\n"
   ]
  },
  {
   "cell_type": "markdown",
   "id": "8600674f",
   "metadata": {},
   "source": [
    "### `Q-14:` Subtract the mean of each row from a matrix."
   ]
  },
  {
   "cell_type": "code",
   "execution_count": 14,
   "id": "f9cfda26",
   "metadata": {},
   "outputs": [
    {
     "name": "stdout",
     "output_type": "stream",
     "text": [
      "[[ -1.   0.   1.]\n",
      " [-10.   0.  10.]\n",
      " [  4.   0.  -4.]]\n"
     ]
    }
   ],
   "source": [
    "import numpy as np\n",
    "\n",
    "def row_center(matrix):\n",
    "    \"\"\"\n",
    "    Subtract the mean of each row from a 2-D NumPy array.\n",
    "\n",
    "    Parameters\n",
    "    ----------\n",
    "    matrix : np.ndarray\n",
    "        A two-dimensional NumPy array.\n",
    "\n",
    "    Returns\n",
    "    -------\n",
    "    np.ndarray\n",
    "        A new array where each row has zero mean.\n",
    "\n",
    "    Raises\n",
    "    ------\n",
    "    TypeError\n",
    "        If `matrix` is not a NumPy array.\n",
    "    ValueError\n",
    "        If `matrix` is not two-dimensional.\n",
    "    \"\"\"\n",
    "    if not isinstance(matrix, np.ndarray):\n",
    "        raise TypeError(\"Input must be a NumPy array.\")\n",
    "    if matrix.ndim != 2:\n",
    "        raise ValueError(\"Input must be a 2-D matrix.\")\n",
    "\n",
    "    # Compute row means (shape: [n_rows, 1]) and subtract\n",
    "    return matrix - matrix.mean(axis=1, keepdims=True)\n",
    "A = np.array([[ 1,  2,  3],\n",
    "              [10, 20, 30],\n",
    "              [ 4,  0, -4]])\n",
    "\n",
    "print(row_center(A))\n"
   ]
  },
  {
   "cell_type": "markdown",
   "id": "8ebe852b",
   "metadata": {},
   "source": [
    "### `Q-15:` Swap column-1 of array with column-2 in the array."
   ]
  },
  {
   "cell_type": "code",
   "execution_count": null,
   "id": "412e5faf",
   "metadata": {},
   "outputs": [
    {
     "name": "stdout",
     "output_type": "stream",
     "text": [
      "[[20 10 30]\n",
      " [50 40 60]\n",
      " [80 70 90]]\n"
     ]
    }
   ],
   "source": [
    "import numpy as np\n",
    "\n",
    "def swap_columns(matrix):\n",
    "    # Make a copy to avoid modifying the original\n",
    "    result = matrix.copy()\n",
    "    result[:, [0, 1]] = result[:, [1, 0]]\n",
    "    return result\n",
    "arr = np.array([[10, 20, 30],\n",
    "                [40, 50, 60],\n",
    "                [70, 80, 90]])\n",
    "\n",
    "swapped = swap_columns(arr)\n",
    "print(swapped)\n"
   ]
  },
  {
   "cell_type": "markdown",
   "id": "4c278583",
   "metadata": {},
   "source": [
    "### `Q-16:` Replace odd elements in arrays with -1."
   ]
  },
  {
   "cell_type": "code",
   "execution_count": null,
   "id": "34d46a20",
   "metadata": {},
   "outputs": [
    {
     "name": "stdout",
     "output_type": "stream",
     "text": [
      "[[-1  2 -1]\n",
      " [ 4 -1  6]\n",
      " [-1  8 -1]]\n"
     ]
    }
   ],
   "source": [
    "import numpy as np\n",
    "\n",
    "def replace_odds(arr):\n",
    "    # Make a copy to avoid modifying the original\n",
    "    result = arr.copy()\n",
    "    result[result % 2 != 0] = -1\n",
    "    return result\n",
    "a = np.array([[1, 2, 3],\n",
    "              [4, 5, 6],\n",
    "              [7, 8, 9]])\n",
    "\n",
    "print(replace_odds(a))\n"
   ]
  },
  {
   "cell_type": "markdown",
   "id": "72ba14db",
   "metadata": {},
   "source": [
    "### `Q-17:` Given two arrays of same shape make an array of max out of two arrays. (Numpy way)\n",
    "```\n",
    "a=np.array([6,3,1,5,8])\n",
    "b=np.array([3,2,1,7,2])\n",
    "\n",
    "Result-> [6 3 1 7 8]\n",
    "```"
   ]
  },
  {
   "cell_type": "code",
   "execution_count": 17,
   "id": "35ed25c8",
   "metadata": {},
   "outputs": [
    {
     "name": "stdout",
     "output_type": "stream",
     "text": [
      "[6 3 1 7 8]\n"
     ]
    }
   ],
   "source": [
    "import numpy as np\n",
    "\n",
    "a = np.array([6, 3, 1, 5, 8])\n",
    "b = np.array([3, 2, 1, 7, 2])\n",
    "\n",
    "result = np.maximum(a, b)\n",
    "print(result)\n"
   ]
  },
  {
   "cell_type": "markdown",
   "id": "fe1a9d35",
   "metadata": {},
   "source": [
    "### `Q-18` Answer below asked questions on given array:\n",
    "1. Fetch Every alternate column of the array\n",
    "2. Normalise the given array\n",
    "\n",
    "https://en.wikipedia.org/wiki/Normalization_(statistics)\n",
    "\n",
    "There are different form of normalisation for this question use below formula.\n",
    "\n",
    "$$\\large X_{normalized} = \\frac{X - X_{min}}{X_{max} - X_{min}}$$\n",
    "\n",
    "```python\n",
    "arr1=np.random.randint(low=1, high=10000, size=40).reshape(8,5)\n",
    "```\n"
   ]
  },
  {
   "cell_type": "code",
   "execution_count": 18,
   "id": "92020f2b",
   "metadata": {},
   "outputs": [
    {
     "data": {
      "text/plain": [
       "array([[2898, 9894,  538, 6217, 6922],\n",
       "       [6037, 2164, 5073, 4852, 7878],\n",
       "       [2047, 1872, 7600, 2497, 8292],\n",
       "       [ 756,  798,  660, 3220, 8616],\n",
       "       [7457, 3338, 2746, 4736, 8737],\n",
       "       [6688,  715, 2293, 8344, 1208],\n",
       "       [6173, 8995, 7222, 6022, 3623],\n",
       "       [3561, 8949, 1642, 4985, 4354]], dtype=int32)"
      ]
     },
     "execution_count": 18,
     "metadata": {},
     "output_type": "execute_result"
    }
   ],
   "source": [
    "# Given\n",
    "arr1=np.random.randint(low=1, high=10000, size=40).reshape(8,5)\n",
    "arr1"
   ]
  },
  {
   "cell_type": "code",
   "execution_count": 19,
   "id": "58f999ba",
   "metadata": {},
   "outputs": [
    {
     "name": "stdout",
     "output_type": "stream",
     "text": [
      "Original Array:\n",
      " [[8623 7251 4188 2660 9782]\n",
      " [2957 2252 4421 7109 1072]\n",
      " [5252 7013 9397 3919 9360]\n",
      " [1685 7099 2958 4470 8753]\n",
      " [9798 5796 1473 7264 7366]\n",
      " [8449 6002 3763 9009 2436]\n",
      " [1635  974 4465 8394 2419]\n",
      " [3456 6168 5820 6522 6243]]\n",
      "\n",
      "Alternate Columns:\n",
      " [[8623 4188 9782]\n",
      " [2957 4421 1072]\n",
      " [5252 9397 9360]\n",
      " [1685 2958 8753]\n",
      " [9798 1473 7366]\n",
      " [8449 3763 2436]\n",
      " [1635 4465 2419]\n",
      " [3456 5820 6243]]\n",
      "\n",
      "Normalized Array:\n",
      " [[0.86684044 0.71135539 0.36423391 0.19106981 0.99818676]\n",
      " [0.22472801 0.14483228 0.39063917 0.69526292 0.01110607]\n",
      " [0.48481414 0.6843835  0.95455576 0.33374887 0.95036265]\n",
      " [0.0805757  0.69412965 0.22484134 0.3961922  0.88157298]\n",
      " [1.         0.54646419 0.05655032 0.71282865 0.72438803]\n",
      " [0.84712149 0.56980961 0.31606981 0.91058477 0.1656845 ]\n",
      " [0.07490934 0.         0.39562557 0.84088849 0.16375793]\n",
      " [0.28127833 0.58862194 0.54918404 0.6287398  0.59712149]]\n"
     ]
    }
   ],
   "source": [
    "import numpy as np\n",
    "\n",
    "# Step 1: Create the array\n",
    "arr1 = np.random.randint(1, 10000, size=40).reshape(8, 5)\n",
    "\n",
    "# Step 2: Alternate columns\n",
    "alternate_columns = arr1[:, ::2]\n",
    "\n",
    "# Step 3: Normalize\n",
    "normalized_arr = (arr1 - arr1.min()) / (arr1.max() - arr1.min())\n",
    "\n",
    "# Print results\n",
    "print(\"Original Array:\\n\", arr1)\n",
    "print(\"\\nAlternate Columns:\\n\", alternate_columns)\n",
    "print(\"\\nNormalized Array:\\n\", normalized_arr)\n"
   ]
  },
  {
   "cell_type": "markdown",
   "id": "21d03d13",
   "metadata": {},
   "source": [
    "### `Q-19:` Write a function which will accept 2 arguments.\n",
    "First: A 1D numpy array arr\n",
    "\n",
    "Second: An integer n {Please make sure n<=len(arr)}\n",
    "\n",
    "Output: The output should be the nth largest item out of the array\n",
    "```\n",
    "# Example1 : arr=(12,34,40,7,1,0) and n=3, the output should be 12\n",
    "# Example2 : arr=(12,34,40,7,1,0) and n=1, the output should be 40\n",
    "```"
   ]
  },
  {
   "cell_type": "code",
   "execution_count": null,
   "id": "2d4ec44d",
   "metadata": {},
   "outputs": [
    {
     "name": "stdout",
     "output_type": "stream",
     "text": [
      "12\n",
      "40\n"
     ]
    }
   ],
   "source": [
    "import numpy as np\n",
    "\n",
    "def nth_largest(arr, n):\n",
    "    # Use np.partition for efficient partial sorting\n",
    "    return np.partition(arr, -n)[-n]\n",
    "\n",
    "a = np.array([12, 34, 40, 7, 1, 0])\n",
    "\n",
    "print(nth_largest(a, 3))  # Output: 12\n",
    "print(nth_largest(a, 1))  # Output: 40\n"
   ]
  },
  {
   "cell_type": "markdown",
   "id": "95c84d4e",
   "metadata": {},
   "source": [
    "### `Q-20:` Create the following pattern without hardcoding. Use only numpy functions and the below input array a. \n",
    "```\n",
    "# Input: a = np.array([1,2,3])\n",
    "# Output: array([1, 1, 1, 2, 2, 2, 3, 3, 3, 1, 2, 3, 1, 2, 3, 1, 2, 3])\n",
    "```"
   ]
  },
  {
   "cell_type": "code",
   "execution_count": 21,
   "id": "7d464ab6",
   "metadata": {},
   "outputs": [
    {
     "name": "stdout",
     "output_type": "stream",
     "text": [
      "[1 1 1 2 2 2 3 3 3 1 2 3 1 2 3 1 2 3]\n",
      "array([1, 1, 1, 2, 2, 2, 3, 3, 3, 1, 2, 3, 1, 2, 3, 1, 2, 3])\n"
     ]
    }
   ],
   "source": [
    "import numpy as np\n",
    "\n",
    "a = np.array([1, 2, 3])\n",
    "result = np.concatenate([np.repeat(a, 3), np.tile(a, 3)])\n",
    "print(result)\n",
    "# Print as comma-separated\n",
    "print(\"array([{}])\".format(\", \".join(map(str, result))))\n"
   ]
  }
 ],
 "metadata": {
  "kernelspec": {
   "display_name": ".venv",
   "language": "python",
   "name": "python3"
  },
  "language_info": {
   "codemirror_mode": {
    "name": "ipython",
    "version": 3
   },
   "file_extension": ".py",
   "mimetype": "text/x-python",
   "name": "python",
   "nbconvert_exporter": "python",
   "pygments_lexer": "ipython3",
   "version": "3.13.5"
  }
 },
 "nbformat": 4,
 "nbformat_minor": 5
}
