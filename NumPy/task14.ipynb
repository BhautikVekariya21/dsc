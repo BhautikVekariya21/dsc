{
 "cells": [
  {
   "cell_type": "markdown",
   "id": "5b5c72c2",
   "metadata": {},
   "source": [
    "### `Q-1:` Find the nearest element in the array to a given integer.\n",
    "```\n",
    "Ex:-\n",
    "a=23 and array - [10 17 24 31 38 45 52 59].\n",
    "Nearest element is 24\n",
    "```\n",
    "Hint: Read about this function `argmin()`"
   ]
  },
  {
   "cell_type": "code",
   "execution_count": null,
   "id": "d9a9ebd4",
   "metadata": {},
   "outputs": [
    {
     "name": "stdout",
     "output_type": "stream",
     "text": [
      "Nearest element is 24\n"
     ]
    }
   ],
   "source": [
    "import numpy as np\n",
    "\n",
    "def find_nearest(arr, target):\n",
    "    arr = np.asarray(arr)\n",
    "    index = np.argmin(np.abs(arr - target))\n",
    "    return arr[index]\n",
    "\n",
    "a = 23\n",
    "array = np.array([10, 17, 24, 31, 38, 45, 52, 59])\n",
    "\n",
    "print(\"Nearest element is\", find_nearest(array, a))"
   ]
  },
  {
   "cell_type": "markdown",
   "id": "e9cf3f20",
   "metadata": {},
   "source": [
    "### `Q-2:` Replace multiples of 3 or 5 as 0 in the given array.\n",
    "```\n",
    "arr=[1 2 3 4 5 6 7 9]\n",
    "\n",
    "result-> [1 2 0 4 0 0 7 0]\n",
    "```"
   ]
  },
  {
   "cell_type": "code",
   "execution_count": 2,
   "id": "12b1b8ae",
   "metadata": {},
   "outputs": [
    {
     "name": "stdout",
     "output_type": "stream",
     "text": [
      "[1 2 0 4 0 0 7 0]\n"
     ]
    }
   ],
   "source": [
    "import numpy as np\n",
    "\n",
    "arr = np.array([1, 2, 3, 4, 5, 6, 7, 9])\n",
    "arr[(arr % 3 == 0) | (arr % 5 == 0)] = 0\n",
    "print(arr)\n"
   ]
  },
  {
   "cell_type": "markdown",
   "id": "f3bea09d",
   "metadata": {},
   "source": [
    "### `Q-3:` Use Fancy Indexing.\n",
    "1. Double the array elements at  given indexes\n",
    "```\n",
    "arr = np.arrange(10)\n",
    "indexes = [0,3,4,9]\n",
    "```\n",
    "Result -> `[ 0  1  2  6  8  5  6  7  8 18]`\n",
    "\n",
    "2. Using a given array make a different array as in below example\n",
    "```\n",
    "array = [1,2,3]\n",
    "result array -> [1 1 1 2 2 2 3 3 3]\n",
    "```\n",
    "* Internal-repetion should be as length of the array.\n",
    "\n",
    "Hint:\n",
    "```\n",
    "if a is an array\n",
    "a = [2,4]\n",
    "a[[1,1,0,1]] will result in-> [4 4 2 4]\n",
    "```"
   ]
  },
  {
   "cell_type": "code",
   "execution_count": 1,
   "id": "77fbfd9a",
   "metadata": {},
   "outputs": [
    {
     "name": "stdout",
     "output_type": "stream",
     "text": [
      "[ 0  1  2  6  8  5  6  7  8 18]\n",
      "[1 1 1 2 2 2 3 3 3]\n"
     ]
    }
   ],
   "source": [
    "import numpy as np\n",
    "\n",
    "# Part 1: Double the elements at given indexes\n",
    "arr = np.arange(10)  # Create array [0, 1, 2, 3, 4, 5, 6, 7, 8, 9]\n",
    "arr[[0, 3, 4, 9]] *= 2  # Double the values at the given indexes\n",
    "print(arr)\n",
    "\n",
    "# Part 2: Repeat each element of the array as many times as the length of the array\n",
    "array = np.array([1, 2, 3])\n",
    "\n",
    "result = np.repeat(array, len(array))  # Repeat each element 'len(array)' times\n",
    "\n",
    "print(result)\n"
   ]
  },
  {
   "cell_type": "markdown",
   "id": "ebdc6fb8",
   "metadata": {},
   "source": [
    "### `Q-4:` Your are given an array which is having some nan value. You job is to fill those nan values with most common element in the array.\n",
    "```\n",
    "arr=np.array([[1,2,np.nan],[4,2,6],[np.nan,np.nan,5]])\n",
    "\n",
    "```"
   ]
  },
  {
   "cell_type": "code",
   "execution_count": 2,
   "id": "0a69384a",
   "metadata": {},
   "outputs": [
    {
     "name": "stdout",
     "output_type": "stream",
     "text": [
      "values  [1. 2. 4. 5. 6.]\n",
      "counts  [1 2 1 1 1]\n",
      "Most common element: 2.0\n",
      "[[1. 2. 2.]\n",
      " [4. 2. 6.]\n",
      " [2. 2. 5.]]\n"
     ]
    }
   ],
   "source": [
    "import numpy as np\n",
    "\n",
    "# Given array with NaNs\n",
    "arr = np.array([[1, 2, np.nan], [4, 2, 6], [np.nan, np.nan, 5]])\n",
    "\n",
    "# Step 1: Flatten and remove NaN values\n",
    "flattened = arr.flatten()\n",
    "non_nan_values = flattened[~np.isnan(flattened)]\n",
    "\n",
    "# Step 2: Use numpy to find the most common element\n",
    "values, counts = np.unique(non_nan_values, return_counts=True)\n",
    "most_common = values[np.argmax(counts)]\n",
    "print('values ', values)\n",
    "print('counts ', counts)\n",
    "print(\"Most common element:\", most_common)\n",
    "# Step 3: Replace NaNs with the most common element\n",
    "arr[np.isnan(arr)] = most_common\n",
    "\n",
    "print(arr)\n"
   ]
  },
  {
   "cell_type": "markdown",
   "id": "f13aff3e",
   "metadata": {},
   "source": [
    "### `Q-5:` Write a NumPy program\n",
    "\n",
    "- to find the missing data in a given array. Return a boolean matrix.\n",
    "- also try to fill those missing values with 0. For that, you can use `np.nan_to_num(a)`\n",
    "\n",
    "```python\n",
    "import numpy as np\n",
    "\n",
    "np.array([[3, 2, np.nan, 1],\n",
    "          [10, 12, 10, 9],\n",
    "          [5, np.nan, 1, np.nan]])\n",
    "```"
   ]
  },
  {
   "cell_type": "code",
   "execution_count": null,
   "id": "6d04f8f4",
   "metadata": {},
   "outputs": [
    {
     "name": "stdout",
     "output_type": "stream",
     "text": [
      "Missing value mask:\n",
      " [[False False  True False]\n",
      " [False False False False]\n",
      " [False  True False  True]]\n",
      "\n",
      "Array after filling NaNs with 0:\n",
      " [[ 3.  2.  0.  1.]\n",
      " [10. 12. 10.  9.]\n",
      " [ 5.  0.  1.  0.]]\n"
     ]
    }
   ],
   "source": [
    "import numpy as np\n",
    "\n",
    "# Given array with some missing (NaN) values\n",
    "a = np.array([\n",
    "    [3, 2, np.nan, 1],\n",
    "    [10, 12, 10, 9],\n",
    "    [5, np.nan, 1, np.nan]\n",
    "])\n",
    "\n",
    "# Task 1: Boolean matrix of missing values\n",
    "missing_mask = np.isnan(a)\n",
    "print(\"Missing value mask:\\n\", missing_mask)\n",
    "\n",
    "# Task 2: Replace missing values with 0\n",
    "filled_array = np.nan_to_num(a, nan=0.0)\n",
    "print(\"\\nArray after filling NaNs with 0:\\n\", filled_array)\n"
   ]
  },
  {
   "cell_type": "markdown",
   "id": "2e0cb1f0",
   "metadata": {},
   "source": [
    "### `Q-6:` Given two arrays, X and Y, construct the Cauchy matrix C.\n",
    "`Cij =1/(xi - yj)`\n",
    "\n",
    "http://en.wikipedia.org/wiki/Cauchy_matrix\n",
    "```\n",
    "x = numpy.array([1,2,3,4]).reshape((-1, 1)\n",
    "y = numpy.array([5,6,7])\n",
    "```"
   ]
  },
  {
   "cell_type": "code",
   "execution_count": 4,
   "id": "a8b4d30a",
   "metadata": {},
   "outputs": [
    {
     "name": "stdout",
     "output_type": "stream",
     "text": [
      "Cauchy matrix:\n",
      " [[-0.25       -0.2        -0.16666667]\n",
      " [-0.33333333 -0.25       -0.2       ]\n",
      " [-0.5        -0.33333333 -0.25      ]\n",
      " [-1.         -0.5        -0.33333333]]\n"
     ]
    }
   ],
   "source": [
    "import numpy as np\n",
    "\n",
    "x = np.array([1, 2, 3, 4]).reshape(-1, 1)  # Column vector\n",
    "y = np.array([5, 6, 7])                   # Row vector\n",
    "\n",
    "# Broadcasting subtraction: x (4,1) - y (3,) => result (4,3)\n",
    "C = 1 / (x - y)\n",
    "\n",
    "print(\"Cauchy matrix:\\n\", C)\n"
   ]
  },
  {
   "cell_type": "code",
   "execution_count": 5,
   "id": "f3f0ae06",
   "metadata": {},
   "outputs": [
    {
     "data": {
      "text/plain": [
       "array([[1],\n",
       "       [2],\n",
       "       [3],\n",
       "       [4]])"
      ]
     },
     "execution_count": 5,
     "metadata": {},
     "output_type": "execute_result"
    }
   ],
   "source": [
    "x"
   ]
  },
  {
   "cell_type": "markdown",
   "id": "46d5ef9e",
   "metadata": {},
   "source": [
    "### `Q-7:` Plot this below equation.\n",
    "\n",
    "$$\\large y = \\frac{e^x - e^{-x}}{e^x + e^{-x}}$$\n",
    "\n",
    "**Note: This equation is called tanh activation function. In deep learning, many times this function is used. If you find some difference between the sigmoid function and this tanh function, note that to your notebook.**"
   ]
  },
  {
   "cell_type": "code",
   "execution_count": 7,
   "id": "b297dbb1",
   "metadata": {},
   "outputs": [
    {
     "data": {
      "image/png": "[encoded data removed]",
      "text/plain": [
       "<Figure size 800x400 with 1 Axes>"
      ]
     },
     "metadata": {},
     "output_type": "display_data"
    }
   ],
   "source": [
    "import numpy as np\n",
    "\n",
    "import matplotlib.pyplot as plt\n",
    "\n",
    "# Generate values from -10 to 10\n",
    "x = np.linspace(-10, 10, 400)\n",
    "\n",
    "# Tanh function calculation\n",
    "y = (np.exp(x) - np.exp(-x)) / (np.exp(x) + np.exp(-x))\n",
    "\n",
    "# Plot\n",
    "plt.figure(figsize=(8, 4))\n",
    "plt.plot(x, y, label=\"tanh(x)\", color='teal')\n",
    "plt.title(\"Tanh Activation Function\")\n",
    "plt.xlabel(\"x\")\n",
    "plt.ylabel(\"tanh(x)\")\n",
    "plt.grid(True)\n",
    "plt.axhline(0, color='black', lw=0.5)\n",
    "plt.axvline(0, color='black', lw=0.5)\n",
    "plt.legend()\n",
    "plt.show()\n"
   ]
  },
  {
   "cell_type": "markdown",
   "id": "64d86dd0",
   "metadata": {},
   "source": [
    "### `Q-8:` Plot the below equation.\n",
    "\n",
    "$$\\large y = \\sqrt{36 - (x - 4)^2} + 2$$\n",
    "\n",
    "The range of x should be between -2 to 10. $x ∈ [-2, 10]$\n",
    "\n"
   ]
  },
  {
   "cell_type": "code",
   "execution_count": 8,
   "id": "6bfef8e5",
   "metadata": {},
   "outputs": [
    {
     "data": {
      "image/png": "[encoded data removed]",
      "text/plain": [
       "<Figure size 800x500 with 1 Axes>"
      ]
     },
     "metadata": {},
     "output_type": "display_data"
    }
   ],
   "source": [
    "import numpy as np\n",
    "import matplotlib.pyplot as plt\n",
    "\n",
    "# Define x values from -2 to 10\n",
    "x = np.linspace(-2, 10, 400)\n",
    "\n",
    "# Calculate corresponding y values\n",
    "y = np.sqrt(36 - (x - 4)**2) + 2\n",
    "\n",
    "# Plot\n",
    "plt.figure(figsize=(8, 5))\n",
    "plt.plot(x, y, color='orange', label=r'$y = \\sqrt{36 - (x - 4)^2} + 2$')\n",
    "plt.title(\"Plot of y = sqrt(36 - (x - 4)^2) + 2\")\n",
    "plt.xlabel(\"x\")\n",
    "plt.ylabel(\"y\")\n",
    "plt.grid(True)\n",
    "plt.axhline(0, color='black', lw=0.5)\n",
    "plt.axvline(0, color='black', lw=0.5)\n",
    "plt.legend()\n",
    "plt.axis('equal')  # To make the circle look proportional\n",
    "plt.show()\n"
   ]
  },
  {
   "cell_type": "markdown",
   "id": "a803b88c",
   "metadata": {},
   "source": [
    "### `Q-9:` Write a program implement Boradcasting Rule to check if two array can be added or not.\n",
    "Given tuples of shapes.\n",
    "```\n",
    "shape of a- (3,2,2)\n",
    "shape of b- (2,2)\n",
    "\n",
    "check_broadcast(a, b) -> return Boolean (True if can broadcasted, False other wise.)\n",
    "```"
   ]
  },
  {
   "cell_type": "code",
   "execution_count": 9,
   "id": "fd4bba35",
   "metadata": {},
   "outputs": [
    {
     "name": "stdout",
     "output_type": "stream",
     "text": [
      "Can shapes (3, 2, 2) and (2, 2) be broadcasted? True\n"
     ]
    }
   ],
   "source": [
    "def check_broadcast(shape1, shape2):\n",
    "    \n",
    "    # Convert shapes to lists for easier manipulation\n",
    "    s1, s2 = list(shape1), list(shape2)\n",
    "    \n",
    "    # Make shapes equal length by prepending 1s to the shorter shape\n",
    "    max_len = max(len(s1), len(s2))\n",
    "    s1 = [1] * (max_len - len(s1)) + s1\n",
    "    s2 = [1] * (max_len - len(s2)) + s2\n",
    "    \n",
    "    # Check compatibility of each dimension\n",
    "    for d1, d2 in zip(s1, s2):\n",
    "        if d1 != d2 and d1 != 1 and d2 != 1:\n",
    "            return False\n",
    "    \n",
    "    return True\n",
    "\n",
    "# Test the function with given shapes\n",
    "a_shape = (3, 2, 2)\n",
    "b_shape = (2, 2)\n",
    "result = check_broadcast(a_shape, b_shape)\n",
    "print(f\"Can shapes {a_shape} and {b_shape} be broadcasted? {result}\")"
   ]
  }
 ],
 "metadata": {
  "kernelspec": {
   "display_name": ".venv",
   "language": "python",
   "name": "python3"
  },
  "language_info": {
   "codemirror_mode": {
    "name": "ipython",
    "version": 3
   },
   "file_extension": ".py",
   "mimetype": "text/x-python",
   "name": "python",
   "nbconvert_exporter": "python",
   "pygments_lexer": "ipython3",
   "version": "3.13.5"
  }
 },
 "nbformat": 4,
 "nbformat_minor": 5
}
