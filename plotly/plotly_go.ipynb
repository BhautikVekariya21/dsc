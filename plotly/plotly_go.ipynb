{
 "cells": [
  {
   "cell_type": "markdown",
   "id": "1ee42521",
   "metadata": {},
   "source": [
    "### 1. introduction to plotly\n",
    "1. untill now we did visulisations using matplotlib,seaborn and pandas.all of them produce static image files.\n",
    "2. plotly is company based out in canada famous for it's products like plotly and dash\n",
    "3. plotly creates interactive visulizations in the form of HTML files\n",
    "4. drawback - can't work with a live data source\n",
    "5. dash is used to create live databased dashboards."
   ]
  },
  {
   "cell_type": "code",
   "execution_count": 1,
   "id": "d9b732ed",
   "metadata": {},
   "outputs": [],
   "source": [
    "import numpy as np\n",
    "import pandas as pd\n",
    "import plotly.offline as pyo\n",
    "import plotly.graph_objs as go"
   ]
  },
  {
   "cell_type": "code",
   "execution_count": 5,
   "id": "489bcba1",
   "metadata": {},
   "outputs": [
    {
     "data": {
      "application/vnd.microsoft.datawrangler.viewer.v0+json": {
       "columns": [
        {
         "name": "index",
         "rawType": "int64",
         "type": "integer"
        },
        {
         "name": "id",
         "rawType": "int64",
         "type": "integer"
        },
        {
         "name": "season",
         "rawType": "int64",
         "type": "integer"
        },
        {
         "name": "city",
         "rawType": "object",
         "type": "unknown"
        },
        {
         "name": "date",
         "rawType": "object",
         "type": "string"
        },
        {
         "name": "team1",
         "rawType": "object",
         "type": "string"
        },
        {
         "name": "team2",
         "rawType": "object",
         "type": "string"
        },
        {
         "name": "toss_winner",
         "rawType": "object",
         "type": "string"
        },
        {
         "name": "toss_decision",
         "rawType": "object",
         "type": "string"
        },
        {
         "name": "result",
         "rawType": "object",
         "type": "string"
        },
        {
         "name": "dl_applied",
         "rawType": "int64",
         "type": "integer"
        },
        {
         "name": "winner",
         "rawType": "object",
         "type": "unknown"
        },
        {
         "name": "win_by_runs",
         "rawType": "int64",
         "type": "integer"
        },
        {
         "name": "win_by_wickets",
         "rawType": "int64",
         "type": "integer"
        },
        {
         "name": "player_of_match",
         "rawType": "object",
         "type": "unknown"
        },
        {
         "name": "venue",
         "rawType": "object",
         "type": "string"
        },
        {
         "name": "umpire1",
         "rawType": "object",
         "type": "unknown"
        },
        {
         "name": "umpire2",
         "rawType": "object",
         "type": "unknown"
        },
        {
         "name": "umpire3",
         "rawType": "float64",
         "type": "float"
        }
       ],
       "ref": "161e8725-2d54-44c6-8e4d-10e77fa6d3f8",
       "rows": [
        [
         "0",
         "1",
         "2017",
         "Hyderabad",
         "2017-04-05",
         "Sunrisers Hyderabad",
         "Royal Challengers Bangalore",
         "Royal Challengers Bangalore",
         "field",
         "normal",
         "0",
         "Sunrisers Hyderabad",
         "35",
         "0",
         "Yuvraj Singh",
         "Rajiv Gandhi International Stadium, Uppal",
         "AY Dandekar",
         "NJ Llong",
         null
        ],
        [
         "1",
         "2",
         "2017",
         "Pune",
         "2017-04-06",
         "Mumbai Indians",
         "Rising Pune Supergiant",
         "Rising Pune Supergiant",
         "field",
         "normal",
         "0",
         "Rising Pune Supergiant",
         "0",
         "7",
         "SPD Smith",
         "Maharashtra Cricket Association Stadium",
         "A Nand Kishore",
         "S Ravi",
         null
        ],
        [
         "2",
         "3",
         "2017",
         "Rajkot",
         "2017-04-07",
         "Gujarat Lions",
         "Kolkata Knight Riders",
         "Kolkata Knight Riders",
         "field",
         "normal",
         "0",
         "Kolkata Knight Riders",
         "0",
         "10",
         "CA Lynn",
         "Saurashtra Cricket Association Stadium",
         "Nitin Menon",
         "CK Nandan",
         null
        ],
        [
         "3",
         "4",
         "2017",
         "Indore",
         "2017-04-08",
         "Rising Pune Supergiant",
         "Kings XI Punjab",
         "Kings XI Punjab",
         "field",
         "normal",
         "0",
         "Kings XI Punjab",
         "0",
         "6",
         "GJ Maxwell",
         "Holkar Cricket Stadium",
         "AK Chaudhary",
         "C Shamshuddin",
         null
        ],
        [
         "4",
         "5",
         "2017",
         "Bangalore",
         "2017-04-08",
         "Royal Challengers Bangalore",
         "Delhi Daredevils",
         "Royal Challengers Bangalore",
         "bat",
         "normal",
         "0",
         "Royal Challengers Bangalore",
         "15",
         "0",
         "KM Jadhav",
         "M Chinnaswamy Stadium",
         null,
         null,
         null
        ],
        [
         "5",
         "6",
         "2017",
         "Hyderabad",
         "2017-04-09",
         "Gujarat Lions",
         "Sunrisers Hyderabad",
         "Sunrisers Hyderabad",
         "field",
         "normal",
         "0",
         "Sunrisers Hyderabad",
         "0",
         "9",
         "Rashid Khan",
         "Rajiv Gandhi International Stadium, Uppal",
         "A Deshmukh",
         "NJ Llong",
         null
        ],
        [
         "6",
         "7",
         "2017",
         "Mumbai",
         "2017-04-09",
         "Kolkata Knight Riders",
         "Mumbai Indians",
         "Mumbai Indians",
         "field",
         "normal",
         "0",
         "Mumbai Indians",
         "0",
         "4",
         "N Rana",
         "Wankhede Stadium",
         "Nitin Menon",
         "CK Nandan",
         null
        ],
        [
         "7",
         "8",
         "2017",
         "Indore",
         "2017-04-10",
         "Royal Challengers Bangalore",
         "Kings XI Punjab",
         "Royal Challengers Bangalore",
         "bat",
         "normal",
         "0",
         "Kings XI Punjab",
         "0",
         "8",
         "AR Patel",
         "Holkar Cricket Stadium",
         "AK Chaudhary",
         "C Shamshuddin",
         null
        ],
        [
         "8",
         "9",
         "2017",
         "Pune",
         "2017-04-11",
         "Delhi Daredevils",
         "Rising Pune Supergiant",
         "Rising Pune Supergiant",
         "field",
         "normal",
         "0",
         "Delhi Daredevils",
         "97",
         "0",
         "SV Samson",
         "Maharashtra Cricket Association Stadium",
         "AY Dandekar",
         "S Ravi",
         null
        ],
        [
         "9",
         "10",
         "2017",
         "Mumbai",
         "2017-04-12",
         "Sunrisers Hyderabad",
         "Mumbai Indians",
         "Mumbai Indians",
         "field",
         "normal",
         "0",
         "Mumbai Indians",
         "0",
         "4",
         "JJ Bumrah",
         "Wankhede Stadium",
         "Nitin Menon",
         "CK Nandan",
         null
        ],
        [
         "10",
         "11",
         "2017",
         "Kolkata",
         "2017-04-13",
         "Kings XI Punjab",
         "Kolkata Knight Riders",
         "Kolkata Knight Riders",
         "field",
         "normal",
         "0",
         "Kolkata Knight Riders",
         "0",
         "8",
         "SP Narine",
         "Eden Gardens",
         "A Deshmukh",
         "NJ Llong",
         null
        ],
        [
         "11",
         "12",
         "2017",
         "Bangalore",
         "2017-04-14",
         "Royal Challengers Bangalore",
         "Mumbai Indians",
         "Mumbai Indians",
         "field",
         "normal",
         "0",
         "Mumbai Indians",
         "0",
         "4",
         "KA Pollard",
         "M Chinnaswamy Stadium",
         "KN Ananthapadmanabhan",
         "AK Chaudhary",
         null
        ],
        [
         "12",
         "13",
         "2017",
         "Rajkot",
         "2017-04-14",
         "Rising Pune Supergiant",
         "Gujarat Lions",
         "Gujarat Lions",
         "field",
         "normal",
         "0",
         "Gujarat Lions",
         "0",
         "7",
         "AJ Tye",
         "Saurashtra Cricket Association Stadium",
         "A Nand Kishore",
         "S Ravi",
         null
        ],
        [
         "13",
         "14",
         "2017",
         "Kolkata",
         "2017-04-15",
         "Kolkata Knight Riders",
         "Sunrisers Hyderabad",
         "Sunrisers Hyderabad",
         "field",
         "normal",
         "0",
         "Kolkata Knight Riders",
         "17",
         "0",
         "RV Uthappa",
         "Eden Gardens",
         "AY Dandekar",
         "NJ Llong",
         null
        ],
        [
         "14",
         "15",
         "2017",
         "Delhi",
         "2017-04-15",
         "Delhi Daredevils",
         "Kings XI Punjab",
         "Delhi Daredevils",
         "bat",
         "normal",
         "0",
         "Delhi Daredevils",
         "51",
         "0",
         "CJ Anderson",
         "Feroz Shah Kotla",
         "YC Barde",
         "Nitin Menon",
         null
        ],
        [
         "15",
         "16",
         "2017",
         "Mumbai",
         "2017-04-16",
         "Gujarat Lions",
         "Mumbai Indians",
         "Mumbai Indians",
         "field",
         "normal",
         "0",
         "Mumbai Indians",
         "0",
         "6",
         "N Rana",
         "Wankhede Stadium",
         "A Nand Kishore",
         "S Ravi",
         null
        ],
        [
         "16",
         "17",
         "2017",
         "Bangalore",
         "2017-04-16",
         "Rising Pune Supergiant",
         "Royal Challengers Bangalore",
         "Royal Challengers Bangalore",
         "field",
         "normal",
         "0",
         "Rising Pune Supergiant",
         "27",
         "0",
         "BA Stokes",
         "M Chinnaswamy Stadium",
         "KN Ananthapadmanabhan",
         "C Shamshuddin",
         null
        ],
        [
         "17",
         "18",
         "2017",
         "Delhi",
         "2017-04-17",
         "Delhi Daredevils",
         "Kolkata Knight Riders",
         "Delhi Daredevils",
         "bat",
         "normal",
         "0",
         "Kolkata Knight Riders",
         "0",
         "4",
         "NM Coulter-Nile",
         "Feroz Shah Kotla",
         "Nitin Menon",
         "CK Nandan",
         null
        ],
        [
         "18",
         "19",
         "2017",
         "Hyderabad",
         "2017-04-17",
         "Sunrisers Hyderabad",
         "Kings XI Punjab",
         "Kings XI Punjab",
         "field",
         "normal",
         "0",
         "Sunrisers Hyderabad",
         "5",
         "0",
         "B Kumar",
         "Rajiv Gandhi International Stadium, Uppal",
         "AY Dandekar",
         "A Deshmukh",
         null
        ],
        [
         "19",
         "20",
         "2017",
         "Rajkot",
         "2017-04-18",
         "Royal Challengers Bangalore",
         "Gujarat Lions",
         "Gujarat Lions",
         "field",
         "normal",
         "0",
         "Royal Challengers Bangalore",
         "21",
         "0",
         "CH Gayle",
         "Saurashtra Cricket Association Stadium",
         "S Ravi",
         "VK Sharma",
         null
        ],
        [
         "20",
         "21",
         "2017",
         "Hyderabad",
         "2017-04-19",
         "Sunrisers Hyderabad",
         "Delhi Daredevils",
         "Sunrisers Hyderabad",
         "bat",
         "normal",
         "0",
         "Sunrisers Hyderabad",
         "15",
         "0",
         "KS Williamson",
         "Rajiv Gandhi International Stadium, Uppal",
         "CB Gaffaney",
         "NJ Llong",
         null
        ],
        [
         "21",
         "22",
         "2017",
         "Indore",
         "2017-04-20",
         "Kings XI Punjab",
         "Mumbai Indians",
         "Mumbai Indians",
         "field",
         "normal",
         "0",
         "Mumbai Indians",
         "0",
         "8",
         "JC Buttler",
         "Holkar Cricket Stadium",
         "M Erasmus",
         "C Shamshuddin",
         null
        ],
        [
         "22",
         "23",
         "2017",
         "Kolkata",
         "2017-04-21",
         "Kolkata Knight Riders",
         "Gujarat Lions",
         "Gujarat Lions",
         "field",
         "normal",
         "0",
         "Gujarat Lions",
         "0",
         "4",
         "SK Raina",
         "Eden Gardens",
         "CB Gaffaney",
         "Nitin Menon",
         null
        ],
        [
         "23",
         "24",
         "2017",
         "Mumbai",
         "2017-04-22",
         "Mumbai Indians",
         "Delhi Daredevils",
         "Delhi Daredevils",
         "field",
         "normal",
         "0",
         "Mumbai Indians",
         "14",
         "0",
         "MJ McClenaghan",
         "Wankhede Stadium",
         "A Nand Kishore",
         "S Ravi",
         null
        ],
        [
         "24",
         "25",
         "2017",
         "Pune",
         "2017-04-22",
         "Sunrisers Hyderabad",
         "Rising Pune Supergiant",
         "Rising Pune Supergiant",
         "field",
         "normal",
         "0",
         "Rising Pune Supergiant",
         "0",
         "6",
         "MS Dhoni",
         "Maharashtra Cricket Association Stadium",
         "AY Dandekar",
         "A Deshmukh",
         null
        ],
        [
         "25",
         "26",
         "2017",
         "Rajkot",
         "2017-04-23",
         "Kings XI Punjab",
         "Gujarat Lions",
         "Gujarat Lions",
         "field",
         "normal",
         "0",
         "Kings XI Punjab",
         "26",
         "0",
         "HM Amla",
         "Saurashtra Cricket Association Stadium",
         "AK Chaudhary",
         "M Erasmus",
         null
        ],
        [
         "26",
         "27",
         "2017",
         "Kolkata",
         "2017-04-23",
         "Kolkata Knight Riders",
         "Royal Challengers Bangalore",
         "Royal Challengers Bangalore",
         "field",
         "normal",
         "0",
         "Kolkata Knight Riders",
         "82",
         "0",
         "NM Coulter-Nile",
         "Eden Gardens",
         "CB Gaffaney",
         "CK Nandan",
         null
        ],
        [
         "27",
         "28",
         "2017",
         "Mumbai",
         "2017-04-24",
         "Rising Pune Supergiant",
         "Mumbai Indians",
         "Mumbai Indians",
         "field",
         "normal",
         "0",
         "Rising Pune Supergiant",
         "3",
         "0",
         "BA Stokes",
         "Wankhede Stadium",
         "A Nand Kishore",
         "S Ravi",
         null
        ],
        [
         "28",
         "29",
         "2017",
         "Pune",
         "2017-04-26",
         "Rising Pune Supergiant",
         "Kolkata Knight Riders",
         "Kolkata Knight Riders",
         "field",
         "normal",
         "0",
         "Kolkata Knight Riders",
         "0",
         "7",
         "RV Uthappa",
         "Maharashtra Cricket Association Stadium",
         "AY Dandekar",
         "NJ Llong",
         null
        ],
        [
         "29",
         "30",
         "2017",
         "Bangalore",
         "2017-04-27",
         "Royal Challengers Bangalore",
         "Gujarat Lions",
         "Gujarat Lions",
         "field",
         "normal",
         "0",
         "Gujarat Lions",
         "0",
         "7",
         "AJ Tye",
         "M Chinnaswamy Stadium",
         "AK Chaudhary",
         "C Shamshuddin",
         null
        ],
        [
         "30",
         "31",
         "2017",
         "Kolkata",
         "2017-04-28",
         "Delhi Daredevils",
         "Kolkata Knight Riders",
         "Kolkata Knight Riders",
         "field",
         "normal",
         "0",
         "Kolkata Knight Riders",
         "0",
         "7",
         "G Gambhir",
         "Eden Gardens",
         "NJ Llong",
         "S Ravi",
         null
        ],
        [
         "31",
         "32",
         "2017",
         "Chandigarh",
         "2017-04-28",
         "Sunrisers Hyderabad",
         "Kings XI Punjab",
         "Kings XI Punjab",
         "field",
         "normal",
         "0",
         "Sunrisers Hyderabad",
         "26",
         "0",
         "Rashid Khan",
         "Punjab Cricket Association IS Bindra Stadium, Mohali",
         "Nitin Menon",
         "CK Nandan",
         null
        ],
        [
         "32",
         "33",
         "2017",
         "Pune",
         "2017-04-29",
         "Rising Pune Supergiant",
         "Royal Challengers Bangalore",
         "Royal Challengers Bangalore",
         "field",
         "normal",
         "0",
         "Rising Pune Supergiant",
         "61",
         "0",
         "LH Ferguson",
         "Maharashtra Cricket Association Stadium",
         "KN Ananthapadmanabhan",
         "M Erasmus",
         null
        ],
        [
         "33",
         "34",
         "2017",
         "Rajkot",
         "2017-04-29",
         "Gujarat Lions",
         "Mumbai Indians",
         "Gujarat Lions",
         "bat",
         "tie",
         "0",
         "Mumbai Indians",
         "0",
         "0",
         "KH Pandya",
         "Saurashtra Cricket Association Stadium",
         "AK Chaudhary",
         "CB Gaffaney",
         null
        ],
        [
         "34",
         "35",
         "2017",
         "Chandigarh",
         "2017-04-30",
         "Delhi Daredevils",
         "Kings XI Punjab",
         "Kings XI Punjab",
         "field",
         "normal",
         "0",
         "Kings XI Punjab",
         "0",
         "10",
         "Sandeep Sharma",
         "Punjab Cricket Association IS Bindra Stadium, Mohali",
         "YC Barde",
         "CK Nandan",
         null
        ],
        [
         "35",
         "36",
         "2017",
         "Hyderabad",
         "2017-04-30",
         "Sunrisers Hyderabad",
         "Kolkata Knight Riders",
         "Kolkata Knight Riders",
         "field",
         "normal",
         "0",
         "Sunrisers Hyderabad",
         "48",
         "0",
         "DA Warner",
         "Rajiv Gandhi International Stadium, Uppal",
         "AY Dandekar",
         "S Ravi",
         null
        ],
        [
         "36",
         "37",
         "2017",
         "Mumbai",
         "2017-05-01",
         "Royal Challengers Bangalore",
         "Mumbai Indians",
         "Royal Challengers Bangalore",
         "bat",
         "normal",
         "0",
         "Mumbai Indians",
         "0",
         "5",
         "RG Sharma",
         "Wankhede Stadium",
         "AK Chaudhary",
         "CB Gaffaney",
         null
        ],
        [
         "37",
         "38",
         "2017",
         "Pune",
         "2017-05-01",
         "Gujarat Lions",
         "Rising Pune Supergiant",
         "Rising Pune Supergiant",
         "field",
         "normal",
         "0",
         "Rising Pune Supergiant",
         "0",
         "5",
         "BA Stokes",
         "Maharashtra Cricket Association Stadium",
         "M Erasmus",
         "C Shamshuddin",
         null
        ],
        [
         "38",
         "39",
         "2017",
         "Delhi",
         "2017-05-02",
         "Sunrisers Hyderabad",
         "Delhi Daredevils",
         "Delhi Daredevils",
         "field",
         "normal",
         "0",
         "Delhi Daredevils",
         "0",
         "6",
         "Mohammed Shami",
         "Feroz Shah Kotla",
         "YC Barde",
         "Nitin Menon",
         null
        ],
        [
         "39",
         "40",
         "2017",
         "Kolkata",
         "2017-05-03",
         "Kolkata Knight Riders",
         "Rising Pune Supergiant",
         "Rising Pune Supergiant",
         "field",
         "normal",
         "0",
         "Rising Pune Supergiant",
         "0",
         "4",
         "RA Tripathi",
         "Eden Gardens",
         "KN Ananthapadmanabhan",
         "A Nand Kishore",
         null
        ],
        [
         "40",
         "41",
         "2017",
         "Delhi",
         "2017-05-04",
         "Gujarat Lions",
         "Delhi Daredevils",
         "Delhi Daredevils",
         "field",
         "normal",
         "0",
         "Delhi Daredevils",
         "0",
         "7",
         "RR Pant",
         "Feroz Shah Kotla",
         "M Erasmus",
         "Nitin Menon",
         null
        ],
        [
         "41",
         "42",
         "2017",
         "Bangalore",
         "2017-05-05",
         "Kings XI Punjab",
         "Royal Challengers Bangalore",
         "Royal Challengers Bangalore",
         "field",
         "normal",
         "0",
         "Kings XI Punjab",
         "19",
         "0",
         "Sandeep Sharma",
         "M Chinnaswamy Stadium",
         "CB Gaffaney",
         "C Shamshuddin",
         null
        ],
        [
         "42",
         "43",
         "2017",
         "Hyderabad",
         "2017-05-06",
         "Rising Pune Supergiant",
         "Sunrisers Hyderabad",
         "Sunrisers Hyderabad",
         "field",
         "normal",
         "0",
         "Rising Pune Supergiant",
         "12",
         "0",
         "JD Unadkat",
         "Rajiv Gandhi International Stadium, Uppal",
         "KN Ananthapadmanabhan",
         "AK Chaudhary",
         null
        ],
        [
         "43",
         "44",
         "2017",
         "Delhi",
         "2017-05-06",
         "Mumbai Indians",
         "Delhi Daredevils",
         "Delhi Daredevils",
         "field",
         "normal",
         "0",
         "Mumbai Indians",
         "146",
         "0",
         "LMP Simmons",
         "Feroz Shah Kotla",
         "Nitin Menon",
         "CK Nandan",
         null
        ],
        [
         "44",
         "45",
         "2017",
         "Bangalore",
         "2017-05-07",
         "Royal Challengers Bangalore",
         "Kolkata Knight Riders",
         "Kolkata Knight Riders",
         "field",
         "normal",
         "0",
         "Kolkata Knight Riders",
         "0",
         "6",
         "SP Narine",
         "M Chinnaswamy Stadium",
         "AY Dandekar",
         "C Shamshuddin",
         null
        ],
        [
         "45",
         "46",
         "2017",
         "Chandigarh",
         "2017-05-07",
         "Kings XI Punjab",
         "Gujarat Lions",
         "Gujarat Lions",
         "field",
         "normal",
         "0",
         "Gujarat Lions",
         "0",
         "6",
         "DR Smith",
         "Punjab Cricket Association IS Bindra Stadium, Mohali",
         "A Nand Kishore",
         "VK Sharma",
         null
        ],
        [
         "46",
         "47",
         "2017",
         "Hyderabad",
         "2017-05-08",
         "Mumbai Indians",
         "Sunrisers Hyderabad",
         "Mumbai Indians",
         "bat",
         "normal",
         "0",
         "Sunrisers Hyderabad",
         "0",
         "7",
         "S Dhawan",
         "Rajiv Gandhi International Stadium, Uppal",
         "KN Ananthapadmanabhan",
         "M Erasmus",
         null
        ],
        [
         "47",
         "48",
         "2017",
         "Chandigarh",
         "2017-05-09",
         "Kings XI Punjab",
         "Kolkata Knight Riders",
         "Kolkata Knight Riders",
         "field",
         "normal",
         "0",
         "Kings XI Punjab",
         "14",
         "0",
         "MM Sharma",
         "Punjab Cricket Association IS Bindra Stadium, Mohali",
         "A Nand Kishore",
         "S Ravi",
         null
        ],
        [
         "48",
         "49",
         "2017",
         "Kanpur",
         "2017-05-10",
         "Gujarat Lions",
         "Delhi Daredevils",
         "Delhi Daredevils",
         "field",
         "normal",
         "0",
         "Delhi Daredevils",
         "0",
         "2",
         "SS Iyer",
         "Green Park",
         "YC Barde",
         "AK Chaudhary",
         null
        ],
        [
         "49",
         "50",
         "2017",
         "Mumbai",
         "2017-05-11",
         "Kings XI Punjab",
         "Mumbai Indians",
         "Mumbai Indians",
         "field",
         "normal",
         "0",
         "Kings XI Punjab",
         "7",
         "0",
         "WP Saha",
         "Wankhede Stadium",
         "A Deshmukh",
         "A Nand Kishore",
         null
        ]
       ],
       "shape": {
        "columns": 18,
        "rows": 636
       }
      },
      "text/html": [
       "<div>\n",
       "<style scoped>\n",
       "    .dataframe tbody tr th:only-of-type {\n",
       "        vertical-align: middle;\n",
       "    }\n",
       "\n",
       "    .dataframe tbody tr th {\n",
       "        vertical-align: top;\n",
       "    }\n",
       "\n",
       "    .dataframe thead th {\n",
       "        text-align: right;\n",
       "    }\n",
       "</style>\n",
       "<table border=\"1\" class=\"dataframe\">\n",
       "  <thead>\n",
       "    <tr style=\"text-align: right;\">\n",
       "      <th></th>\n",
       "      <th>id</th>\n",
       "      <th>season</th>\n",
       "      <th>city</th>\n",
       "      <th>date</th>\n",
       "      <th>team1</th>\n",
       "      <th>team2</th>\n",
       "      <th>toss_winner</th>\n",
       "      <th>toss_decision</th>\n",
       "      <th>result</th>\n",
       "      <th>dl_applied</th>\n",
       "      <th>winner</th>\n",
       "      <th>win_by_runs</th>\n",
       "      <th>win_by_wickets</th>\n",
       "      <th>player_of_match</th>\n",
       "      <th>venue</th>\n",
       "      <th>umpire1</th>\n",
       "      <th>umpire2</th>\n",
       "      <th>umpire3</th>\n",
       "    </tr>\n",
       "  </thead>\n",
       "  <tbody>\n",
       "    <tr>\n",
       "      <th>0</th>\n",
       "      <td>1</td>\n",
       "      <td>2017</td>\n",
       "      <td>Hyderabad</td>\n",
       "      <td>2017-04-05</td>\n",
       "      <td>Sunrisers Hyderabad</td>\n",
       "      <td>Royal Challengers Bangalore</td>\n",
       "      <td>Royal Challengers Bangalore</td>\n",
       "      <td>field</td>\n",
       "      <td>normal</td>\n",
       "      <td>0</td>\n",
       "      <td>Sunrisers Hyderabad</td>\n",
       "      <td>35</td>\n",
       "      <td>0</td>\n",
       "      <td>Yuvraj Singh</td>\n",
       "      <td>Rajiv Gandhi International Stadium, Uppal</td>\n",
       "      <td>AY Dandekar</td>\n",
       "      <td>NJ Llong</td>\n",
       "      <td>NaN</td>\n",
       "    </tr>\n",
       "    <tr>\n",
       "      <th>1</th>\n",
       "      <td>2</td>\n",
       "      <td>2017</td>\n",
       "      <td>Pune</td>\n",
       "      <td>2017-04-06</td>\n",
       "      <td>Mumbai Indians</td>\n",
       "      <td>Rising Pune Supergiant</td>\n",
       "      <td>Rising Pune Supergiant</td>\n",
       "      <td>field</td>\n",
       "      <td>normal</td>\n",
       "      <td>0</td>\n",
       "      <td>Rising Pune Supergiant</td>\n",
       "      <td>0</td>\n",
       "      <td>7</td>\n",
       "      <td>SPD Smith</td>\n",
       "      <td>Maharashtra Cricket Association Stadium</td>\n",
       "      <td>A Nand Kishore</td>\n",
       "      <td>S Ravi</td>\n",
       "      <td>NaN</td>\n",
       "    </tr>\n",
       "    <tr>\n",
       "      <th>2</th>\n",
       "      <td>3</td>\n",
       "      <td>2017</td>\n",
       "      <td>Rajkot</td>\n",
       "      <td>2017-04-07</td>\n",
       "      <td>Gujarat Lions</td>\n",
       "      <td>Kolkata Knight Riders</td>\n",
       "      <td>Kolkata Knight Riders</td>\n",
       "      <td>field</td>\n",
       "      <td>normal</td>\n",
       "      <td>0</td>\n",
       "      <td>Kolkata Knight Riders</td>\n",
       "      <td>0</td>\n",
       "      <td>10</td>\n",
       "      <td>CA Lynn</td>\n",
       "      <td>Saurashtra Cricket Association Stadium</td>\n",
       "      <td>Nitin Menon</td>\n",
       "      <td>CK Nandan</td>\n",
       "      <td>NaN</td>\n",
       "    </tr>\n",
       "    <tr>\n",
       "      <th>3</th>\n",
       "      <td>4</td>\n",
       "      <td>2017</td>\n",
       "      <td>Indore</td>\n",
       "      <td>2017-04-08</td>\n",
       "      <td>Rising Pune Supergiant</td>\n",
       "      <td>Kings XI Punjab</td>\n",
       "      <td>Kings XI Punjab</td>\n",
       "      <td>field</td>\n",
       "      <td>normal</td>\n",
       "      <td>0</td>\n",
       "      <td>Kings XI Punjab</td>\n",
       "      <td>0</td>\n",
       "      <td>6</td>\n",
       "      <td>GJ Maxwell</td>\n",
       "      <td>Holkar Cricket Stadium</td>\n",
       "      <td>AK Chaudhary</td>\n",
       "      <td>C Shamshuddin</td>\n",
       "      <td>NaN</td>\n",
       "    </tr>\n",
       "    <tr>\n",
       "      <th>4</th>\n",
       "      <td>5</td>\n",
       "      <td>2017</td>\n",
       "      <td>Bangalore</td>\n",
       "      <td>2017-04-08</td>\n",
       "      <td>Royal Challengers Bangalore</td>\n",
       "      <td>Delhi Daredevils</td>\n",
       "      <td>Royal Challengers Bangalore</td>\n",
       "      <td>bat</td>\n",
       "      <td>normal</td>\n",
       "      <td>0</td>\n",
       "      <td>Royal Challengers Bangalore</td>\n",
       "      <td>15</td>\n",
       "      <td>0</td>\n",
       "      <td>KM Jadhav</td>\n",
       "      <td>M Chinnaswamy Stadium</td>\n",
       "      <td>NaN</td>\n",
       "      <td>NaN</td>\n",
       "      <td>NaN</td>\n",
       "    </tr>\n",
       "    <tr>\n",
       "      <th>...</th>\n",
       "      <td>...</td>\n",
       "      <td>...</td>\n",
       "      <td>...</td>\n",
       "      <td>...</td>\n",
       "      <td>...</td>\n",
       "      <td>...</td>\n",
       "      <td>...</td>\n",
       "      <td>...</td>\n",
       "      <td>...</td>\n",
       "      <td>...</td>\n",
       "      <td>...</td>\n",
       "      <td>...</td>\n",
       "      <td>...</td>\n",
       "      <td>...</td>\n",
       "      <td>...</td>\n",
       "      <td>...</td>\n",
       "      <td>...</td>\n",
       "      <td>...</td>\n",
       "    </tr>\n",
       "    <tr>\n",
       "      <th>631</th>\n",
       "      <td>632</td>\n",
       "      <td>2016</td>\n",
       "      <td>Raipur</td>\n",
       "      <td>2016-05-22</td>\n",
       "      <td>Delhi Daredevils</td>\n",
       "      <td>Royal Challengers Bangalore</td>\n",
       "      <td>Royal Challengers Bangalore</td>\n",
       "      <td>field</td>\n",
       "      <td>normal</td>\n",
       "      <td>0</td>\n",
       "      <td>Royal Challengers Bangalore</td>\n",
       "      <td>0</td>\n",
       "      <td>6</td>\n",
       "      <td>V Kohli</td>\n",
       "      <td>Shaheed Veer Narayan Singh International Stadium</td>\n",
       "      <td>A Nand Kishore</td>\n",
       "      <td>BNJ Oxenford</td>\n",
       "      <td>NaN</td>\n",
       "    </tr>\n",
       "    <tr>\n",
       "      <th>632</th>\n",
       "      <td>633</td>\n",
       "      <td>2016</td>\n",
       "      <td>Bangalore</td>\n",
       "      <td>2016-05-24</td>\n",
       "      <td>Gujarat Lions</td>\n",
       "      <td>Royal Challengers Bangalore</td>\n",
       "      <td>Royal Challengers Bangalore</td>\n",
       "      <td>field</td>\n",
       "      <td>normal</td>\n",
       "      <td>0</td>\n",
       "      <td>Royal Challengers Bangalore</td>\n",
       "      <td>0</td>\n",
       "      <td>4</td>\n",
       "      <td>AB de Villiers</td>\n",
       "      <td>M Chinnaswamy Stadium</td>\n",
       "      <td>AK Chaudhary</td>\n",
       "      <td>HDPK Dharmasena</td>\n",
       "      <td>NaN</td>\n",
       "    </tr>\n",
       "    <tr>\n",
       "      <th>633</th>\n",
       "      <td>634</td>\n",
       "      <td>2016</td>\n",
       "      <td>Delhi</td>\n",
       "      <td>2016-05-25</td>\n",
       "      <td>Sunrisers Hyderabad</td>\n",
       "      <td>Kolkata Knight Riders</td>\n",
       "      <td>Kolkata Knight Riders</td>\n",
       "      <td>field</td>\n",
       "      <td>normal</td>\n",
       "      <td>0</td>\n",
       "      <td>Sunrisers Hyderabad</td>\n",
       "      <td>22</td>\n",
       "      <td>0</td>\n",
       "      <td>MC Henriques</td>\n",
       "      <td>Feroz Shah Kotla</td>\n",
       "      <td>M Erasmus</td>\n",
       "      <td>C Shamshuddin</td>\n",
       "      <td>NaN</td>\n",
       "    </tr>\n",
       "    <tr>\n",
       "      <th>634</th>\n",
       "      <td>635</td>\n",
       "      <td>2016</td>\n",
       "      <td>Delhi</td>\n",
       "      <td>2016-05-27</td>\n",
       "      <td>Gujarat Lions</td>\n",
       "      <td>Sunrisers Hyderabad</td>\n",
       "      <td>Sunrisers Hyderabad</td>\n",
       "      <td>field</td>\n",
       "      <td>normal</td>\n",
       "      <td>0</td>\n",
       "      <td>Sunrisers Hyderabad</td>\n",
       "      <td>0</td>\n",
       "      <td>4</td>\n",
       "      <td>DA Warner</td>\n",
       "      <td>Feroz Shah Kotla</td>\n",
       "      <td>M Erasmus</td>\n",
       "      <td>CK Nandan</td>\n",
       "      <td>NaN</td>\n",
       "    </tr>\n",
       "    <tr>\n",
       "      <th>635</th>\n",
       "      <td>636</td>\n",
       "      <td>2016</td>\n",
       "      <td>Bangalore</td>\n",
       "      <td>2016-05-29</td>\n",
       "      <td>Sunrisers Hyderabad</td>\n",
       "      <td>Royal Challengers Bangalore</td>\n",
       "      <td>Sunrisers Hyderabad</td>\n",
       "      <td>bat</td>\n",
       "      <td>normal</td>\n",
       "      <td>0</td>\n",
       "      <td>Sunrisers Hyderabad</td>\n",
       "      <td>8</td>\n",
       "      <td>0</td>\n",
       "      <td>BCJ Cutting</td>\n",
       "      <td>M Chinnaswamy Stadium</td>\n",
       "      <td>HDPK Dharmasena</td>\n",
       "      <td>BNJ Oxenford</td>\n",
       "      <td>NaN</td>\n",
       "    </tr>\n",
       "  </tbody>\n",
       "</table>\n",
       "<p>636 rows × 18 columns</p>\n",
       "</div>"
      ],
      "text/plain": [
       "      id  season       city        date                        team1  \\\n",
       "0      1    2017  Hyderabad  2017-04-05          Sunrisers Hyderabad   \n",
       "1      2    2017       Pune  2017-04-06               Mumbai Indians   \n",
       "2      3    2017     Rajkot  2017-04-07                Gujarat Lions   \n",
       "3      4    2017     Indore  2017-04-08       Rising Pune Supergiant   \n",
       "4      5    2017  Bangalore  2017-04-08  Royal Challengers Bangalore   \n",
       "..   ...     ...        ...         ...                          ...   \n",
       "631  632    2016     Raipur  2016-05-22             Delhi Daredevils   \n",
       "632  633    2016  Bangalore  2016-05-24                Gujarat Lions   \n",
       "633  634    2016      Delhi  2016-05-25          Sunrisers Hyderabad   \n",
       "634  635    2016      Delhi  2016-05-27                Gujarat Lions   \n",
       "635  636    2016  Bangalore  2016-05-29          Sunrisers Hyderabad   \n",
       "\n",
       "                           team2                  toss_winner toss_decision  \\\n",
       "0    Royal Challengers Bangalore  Royal Challengers Bangalore         field   \n",
       "1         Rising Pune Supergiant       Rising Pune Supergiant         field   \n",
       "2          Kolkata Knight Riders        Kolkata Knight Riders         field   \n",
       "3                Kings XI Punjab              Kings XI Punjab         field   \n",
       "4               Delhi Daredevils  Royal Challengers Bangalore           bat   \n",
       "..                           ...                          ...           ...   \n",
       "631  Royal Challengers Bangalore  Royal Challengers Bangalore         field   \n",
       "632  Royal Challengers Bangalore  Royal Challengers Bangalore         field   \n",
       "633        Kolkata Knight Riders        Kolkata Knight Riders         field   \n",
       "634          Sunrisers Hyderabad          Sunrisers Hyderabad         field   \n",
       "635  Royal Challengers Bangalore          Sunrisers Hyderabad           bat   \n",
       "\n",
       "     result  dl_applied                       winner  win_by_runs  \\\n",
       "0    normal           0          Sunrisers Hyderabad           35   \n",
       "1    normal           0       Rising Pune Supergiant            0   \n",
       "2    normal           0        Kolkata Knight Riders            0   \n",
       "3    normal           0              Kings XI Punjab            0   \n",
       "4    normal           0  Royal Challengers Bangalore           15   \n",
       "..      ...         ...                          ...          ...   \n",
       "631  normal           0  Royal Challengers Bangalore            0   \n",
       "632  normal           0  Royal Challengers Bangalore            0   \n",
       "633  normal           0          Sunrisers Hyderabad           22   \n",
       "634  normal           0          Sunrisers Hyderabad            0   \n",
       "635  normal           0          Sunrisers Hyderabad            8   \n",
       "\n",
       "     win_by_wickets player_of_match  \\\n",
       "0                 0    Yuvraj Singh   \n",
       "1                 7       SPD Smith   \n",
       "2                10         CA Lynn   \n",
       "3                 6      GJ Maxwell   \n",
       "4                 0       KM Jadhav   \n",
       "..              ...             ...   \n",
       "631               6         V Kohli   \n",
       "632               4  AB de Villiers   \n",
       "633               0    MC Henriques   \n",
       "634               4       DA Warner   \n",
       "635               0     BCJ Cutting   \n",
       "\n",
       "                                                venue          umpire1  \\\n",
       "0           Rajiv Gandhi International Stadium, Uppal      AY Dandekar   \n",
       "1             Maharashtra Cricket Association Stadium   A Nand Kishore   \n",
       "2              Saurashtra Cricket Association Stadium      Nitin Menon   \n",
       "3                              Holkar Cricket Stadium     AK Chaudhary   \n",
       "4                               M Chinnaswamy Stadium              NaN   \n",
       "..                                                ...              ...   \n",
       "631  Shaheed Veer Narayan Singh International Stadium   A Nand Kishore   \n",
       "632                             M Chinnaswamy Stadium     AK Chaudhary   \n",
       "633                                  Feroz Shah Kotla        M Erasmus   \n",
       "634                                  Feroz Shah Kotla        M Erasmus   \n",
       "635                             M Chinnaswamy Stadium  HDPK Dharmasena   \n",
       "\n",
       "             umpire2  umpire3  \n",
       "0           NJ Llong      NaN  \n",
       "1             S Ravi      NaN  \n",
       "2          CK Nandan      NaN  \n",
       "3      C Shamshuddin      NaN  \n",
       "4                NaN      NaN  \n",
       "..               ...      ...  \n",
       "631     BNJ Oxenford      NaN  \n",
       "632  HDPK Dharmasena      NaN  \n",
       "633    C Shamshuddin      NaN  \n",
       "634        CK Nandan      NaN  \n",
       "635     BNJ Oxenford      NaN  \n",
       "\n",
       "[636 rows x 18 columns]"
      ]
     },
     "execution_count": 5,
     "metadata": {},
     "output_type": "execute_result"
    }
   ],
   "source": [
    "match = pd.read_csv('matches.csv')\n",
    "delivery = pd.read_csv('deliveries.csv')\n",
    "match"
   ]
  },
  {
   "cell_type": "code",
   "execution_count": 6,
   "id": "7b5bd69b",
   "metadata": {},
   "outputs": [
    {
     "data": {
      "application/vnd.microsoft.datawrangler.viewer.v0+json": {
       "columns": [
        {
         "name": "index",
         "rawType": "int64",
         "type": "integer"
        },
        {
         "name": "match_id",
         "rawType": "int64",
         "type": "integer"
        },
        {
         "name": "inning",
         "rawType": "int64",
         "type": "integer"
        },
        {
         "name": "batting_team",
         "rawType": "object",
         "type": "string"
        },
        {
         "name": "bowling_team",
         "rawType": "object",
         "type": "string"
        },
        {
         "name": "over",
         "rawType": "int64",
         "type": "integer"
        },
        {
         "name": "ball",
         "rawType": "int64",
         "type": "integer"
        },
        {
         "name": "batsman",
         "rawType": "object",
         "type": "string"
        },
        {
         "name": "non_striker",
         "rawType": "object",
         "type": "string"
        },
        {
         "name": "bowler",
         "rawType": "object",
         "type": "string"
        },
        {
         "name": "is_super_over",
         "rawType": "int64",
         "type": "integer"
        },
        {
         "name": "wide_runs",
         "rawType": "int64",
         "type": "integer"
        },
        {
         "name": "bye_runs",
         "rawType": "int64",
         "type": "integer"
        },
        {
         "name": "legbye_runs",
         "rawType": "int64",
         "type": "integer"
        },
        {
         "name": "noball_runs",
         "rawType": "int64",
         "type": "integer"
        },
        {
         "name": "penalty_runs",
         "rawType": "int64",
         "type": "integer"
        },
        {
         "name": "batsman_runs",
         "rawType": "int64",
         "type": "integer"
        },
        {
         "name": "extra_runs",
         "rawType": "int64",
         "type": "integer"
        },
        {
         "name": "total_runs",
         "rawType": "int64",
         "type": "integer"
        },
        {
         "name": "player_dismissed",
         "rawType": "object",
         "type": "unknown"
        },
        {
         "name": "dismissal_kind",
         "rawType": "object",
         "type": "unknown"
        },
        {
         "name": "fielder",
         "rawType": "object",
         "type": "unknown"
        }
       ],
       "ref": "c071a667-292d-430d-bdc5-60a323e4ee81",
       "rows": [
        [
         "0",
         "1",
         "1",
         "Sunrisers Hyderabad",
         "Royal Challengers Bangalore",
         "1",
         "1",
         "DA Warner",
         "S Dhawan",
         "TS Mills",
         "0",
         "0",
         "0",
         "0",
         "0",
         "0",
         "0",
         "0",
         "0",
         null,
         null,
         null
        ],
        [
         "1",
         "1",
         "1",
         "Sunrisers Hyderabad",
         "Royal Challengers Bangalore",
         "1",
         "2",
         "DA Warner",
         "S Dhawan",
         "TS Mills",
         "0",
         "0",
         "0",
         "0",
         "0",
         "0",
         "0",
         "0",
         "0",
         null,
         null,
         null
        ],
        [
         "2",
         "1",
         "1",
         "Sunrisers Hyderabad",
         "Royal Challengers Bangalore",
         "1",
         "3",
         "DA Warner",
         "S Dhawan",
         "TS Mills",
         "0",
         "0",
         "0",
         "0",
         "0",
         "0",
         "4",
         "0",
         "4",
         null,
         null,
         null
        ],
        [
         "3",
         "1",
         "1",
         "Sunrisers Hyderabad",
         "Royal Challengers Bangalore",
         "1",
         "4",
         "DA Warner",
         "S Dhawan",
         "TS Mills",
         "0",
         "0",
         "0",
         "0",
         "0",
         "0",
         "0",
         "0",
         "0",
         null,
         null,
         null
        ],
        [
         "4",
         "1",
         "1",
         "Sunrisers Hyderabad",
         "Royal Challengers Bangalore",
         "1",
         "5",
         "DA Warner",
         "S Dhawan",
         "TS Mills",
         "0",
         "2",
         "0",
         "0",
         "0",
         "0",
         "0",
         "2",
         "2",
         null,
         null,
         null
        ],
        [
         "5",
         "1",
         "1",
         "Sunrisers Hyderabad",
         "Royal Challengers Bangalore",
         "1",
         "6",
         "S Dhawan",
         "DA Warner",
         "TS Mills",
         "0",
         "0",
         "0",
         "0",
         "0",
         "0",
         "0",
         "0",
         "0",
         null,
         null,
         null
        ],
        [
         "6",
         "1",
         "1",
         "Sunrisers Hyderabad",
         "Royal Challengers Bangalore",
         "1",
         "7",
         "S Dhawan",
         "DA Warner",
         "TS Mills",
         "0",
         "0",
         "0",
         "1",
         "0",
         "0",
         "0",
         "1",
         "1",
         null,
         null,
         null
        ],
        [
         "7",
         "1",
         "1",
         "Sunrisers Hyderabad",
         "Royal Challengers Bangalore",
         "2",
         "1",
         "S Dhawan",
         "DA Warner",
         "A Choudhary",
         "0",
         "0",
         "0",
         "0",
         "0",
         "0",
         "1",
         "0",
         "1",
         null,
         null,
         null
        ],
        [
         "8",
         "1",
         "1",
         "Sunrisers Hyderabad",
         "Royal Challengers Bangalore",
         "2",
         "2",
         "DA Warner",
         "S Dhawan",
         "A Choudhary",
         "0",
         "0",
         "0",
         "0",
         "0",
         "0",
         "4",
         "0",
         "4",
         null,
         null,
         null
        ],
        [
         "9",
         "1",
         "1",
         "Sunrisers Hyderabad",
         "Royal Challengers Bangalore",
         "2",
         "3",
         "DA Warner",
         "S Dhawan",
         "A Choudhary",
         "0",
         "0",
         "0",
         "0",
         "1",
         "0",
         "0",
         "1",
         "1",
         null,
         null,
         null
        ],
        [
         "10",
         "1",
         "1",
         "Sunrisers Hyderabad",
         "Royal Challengers Bangalore",
         "2",
         "4",
         "DA Warner",
         "S Dhawan",
         "A Choudhary",
         "0",
         "0",
         "0",
         "0",
         "0",
         "0",
         "6",
         "0",
         "6",
         null,
         null,
         null
        ],
        [
         "11",
         "1",
         "1",
         "Sunrisers Hyderabad",
         "Royal Challengers Bangalore",
         "2",
         "5",
         "DA Warner",
         "S Dhawan",
         "A Choudhary",
         "0",
         "0",
         "0",
         "0",
         "0",
         "0",
         "0",
         "0",
         "0",
         "DA Warner",
         "caught",
         "Mandeep Singh"
        ],
        [
         "12",
         "1",
         "1",
         "Sunrisers Hyderabad",
         "Royal Challengers Bangalore",
         "2",
         "6",
         "MC Henriques",
         "S Dhawan",
         "A Choudhary",
         "0",
         "0",
         "0",
         "0",
         "0",
         "0",
         "0",
         "0",
         "0",
         null,
         null,
         null
        ],
        [
         "13",
         "1",
         "1",
         "Sunrisers Hyderabad",
         "Royal Challengers Bangalore",
         "2",
         "7",
         "MC Henriques",
         "S Dhawan",
         "A Choudhary",
         "0",
         "0",
         "0",
         "0",
         "0",
         "0",
         "4",
         "0",
         "4",
         null,
         null,
         null
        ],
        [
         "14",
         "1",
         "1",
         "Sunrisers Hyderabad",
         "Royal Challengers Bangalore",
         "3",
         "1",
         "S Dhawan",
         "MC Henriques",
         "TS Mills",
         "0",
         "0",
         "0",
         "0",
         "0",
         "0",
         "1",
         "0",
         "1",
         null,
         null,
         null
        ],
        [
         "15",
         "1",
         "1",
         "Sunrisers Hyderabad",
         "Royal Challengers Bangalore",
         "3",
         "2",
         "MC Henriques",
         "S Dhawan",
         "TS Mills",
         "0",
         "0",
         "0",
         "0",
         "0",
         "0",
         "0",
         "0",
         "0",
         null,
         null,
         null
        ],
        [
         "16",
         "1",
         "1",
         "Sunrisers Hyderabad",
         "Royal Challengers Bangalore",
         "3",
         "3",
         "MC Henriques",
         "S Dhawan",
         "TS Mills",
         "0",
         "0",
         "0",
         "0",
         "0",
         "0",
         "0",
         "0",
         "0",
         null,
         null,
         null
        ],
        [
         "17",
         "1",
         "1",
         "Sunrisers Hyderabad",
         "Royal Challengers Bangalore",
         "3",
         "4",
         "MC Henriques",
         "S Dhawan",
         "TS Mills",
         "0",
         "0",
         "0",
         "0",
         "0",
         "0",
         "3",
         "0",
         "3",
         null,
         null,
         null
        ],
        [
         "18",
         "1",
         "1",
         "Sunrisers Hyderabad",
         "Royal Challengers Bangalore",
         "3",
         "5",
         "S Dhawan",
         "MC Henriques",
         "TS Mills",
         "0",
         "0",
         "0",
         "0",
         "0",
         "0",
         "1",
         "0",
         "1",
         null,
         null,
         null
        ],
        [
         "19",
         "1",
         "1",
         "Sunrisers Hyderabad",
         "Royal Challengers Bangalore",
         "3",
         "6",
         "MC Henriques",
         "S Dhawan",
         "TS Mills",
         "0",
         "0",
         "0",
         "0",
         "0",
         "0",
         "1",
         "0",
         "1",
         null,
         null,
         null
        ],
        [
         "20",
         "1",
         "1",
         "Sunrisers Hyderabad",
         "Royal Challengers Bangalore",
         "4",
         "1",
         "MC Henriques",
         "S Dhawan",
         "YS Chahal",
         "0",
         "0",
         "0",
         "0",
         "0",
         "0",
         "0",
         "0",
         "0",
         null,
         null,
         null
        ],
        [
         "21",
         "1",
         "1",
         "Sunrisers Hyderabad",
         "Royal Challengers Bangalore",
         "4",
         "2",
         "MC Henriques",
         "S Dhawan",
         "YS Chahal",
         "0",
         "0",
         "0",
         "0",
         "0",
         "0",
         "1",
         "0",
         "1",
         null,
         null,
         null
        ],
        [
         "22",
         "1",
         "1",
         "Sunrisers Hyderabad",
         "Royal Challengers Bangalore",
         "4",
         "3",
         "S Dhawan",
         "MC Henriques",
         "YS Chahal",
         "0",
         "0",
         "0",
         "0",
         "0",
         "0",
         "0",
         "0",
         "0",
         null,
         null,
         null
        ],
        [
         "23",
         "1",
         "1",
         "Sunrisers Hyderabad",
         "Royal Challengers Bangalore",
         "4",
         "4",
         "S Dhawan",
         "MC Henriques",
         "YS Chahal",
         "0",
         "0",
         "0",
         "0",
         "0",
         "0",
         "1",
         "0",
         "1",
         null,
         null,
         null
        ],
        [
         "24",
         "1",
         "1",
         "Sunrisers Hyderabad",
         "Royal Challengers Bangalore",
         "4",
         "5",
         "MC Henriques",
         "S Dhawan",
         "YS Chahal",
         "0",
         "0",
         "0",
         "0",
         "0",
         "0",
         "1",
         "0",
         "1",
         null,
         null,
         null
        ],
        [
         "25",
         "1",
         "1",
         "Sunrisers Hyderabad",
         "Royal Challengers Bangalore",
         "4",
         "6",
         "S Dhawan",
         "MC Henriques",
         "YS Chahal",
         "0",
         "0",
         "0",
         "0",
         "0",
         "0",
         "1",
         "0",
         "1",
         null,
         null,
         null
        ],
        [
         "26",
         "1",
         "1",
         "Sunrisers Hyderabad",
         "Royal Challengers Bangalore",
         "5",
         "1",
         "S Dhawan",
         "MC Henriques",
         "S Aravind",
         "0",
         "0",
         "0",
         "0",
         "0",
         "0",
         "1",
         "0",
         "1",
         null,
         null,
         null
        ],
        [
         "27",
         "1",
         "1",
         "Sunrisers Hyderabad",
         "Royal Challengers Bangalore",
         "5",
         "2",
         "MC Henriques",
         "S Dhawan",
         "S Aravind",
         "0",
         "0",
         "0",
         "0",
         "0",
         "0",
         "1",
         "0",
         "1",
         null,
         null,
         null
        ],
        [
         "28",
         "1",
         "1",
         "Sunrisers Hyderabad",
         "Royal Challengers Bangalore",
         "5",
         "3",
         "S Dhawan",
         "MC Henriques",
         "S Aravind",
         "0",
         "0",
         "0",
         "0",
         "0",
         "0",
         "1",
         "0",
         "1",
         null,
         null,
         null
        ],
        [
         "29",
         "1",
         "1",
         "Sunrisers Hyderabad",
         "Royal Challengers Bangalore",
         "5",
         "4",
         "MC Henriques",
         "S Dhawan",
         "S Aravind",
         "0",
         "0",
         "0",
         "0",
         "0",
         "0",
         "2",
         "0",
         "2",
         null,
         null,
         null
        ],
        [
         "30",
         "1",
         "1",
         "Sunrisers Hyderabad",
         "Royal Challengers Bangalore",
         "5",
         "5",
         "MC Henriques",
         "S Dhawan",
         "S Aravind",
         "0",
         "0",
         "0",
         "0",
         "0",
         "0",
         "4",
         "0",
         "4",
         null,
         null,
         null
        ],
        [
         "31",
         "1",
         "1",
         "Sunrisers Hyderabad",
         "Royal Challengers Bangalore",
         "5",
         "6",
         "MC Henriques",
         "S Dhawan",
         "S Aravind",
         "0",
         "0",
         "0",
         "0",
         "0",
         "0",
         "0",
         "0",
         "0",
         null,
         null,
         null
        ],
        [
         "32",
         "1",
         "1",
         "Sunrisers Hyderabad",
         "Royal Challengers Bangalore",
         "6",
         "1",
         "S Dhawan",
         "MC Henriques",
         "SR Watson",
         "0",
         "0",
         "0",
         "0",
         "0",
         "0",
         "4",
         "0",
         "4",
         null,
         null,
         null
        ],
        [
         "33",
         "1",
         "1",
         "Sunrisers Hyderabad",
         "Royal Challengers Bangalore",
         "6",
         "2",
         "S Dhawan",
         "MC Henriques",
         "SR Watson",
         "0",
         "0",
         "0",
         "0",
         "0",
         "0",
         "4",
         "0",
         "4",
         null,
         null,
         null
        ],
        [
         "34",
         "1",
         "1",
         "Sunrisers Hyderabad",
         "Royal Challengers Bangalore",
         "6",
         "3",
         "S Dhawan",
         "MC Henriques",
         "SR Watson",
         "0",
         "0",
         "0",
         "0",
         "0",
         "0",
         "0",
         "0",
         "0",
         null,
         null,
         null
        ],
        [
         "35",
         "1",
         "1",
         "Sunrisers Hyderabad",
         "Royal Challengers Bangalore",
         "6",
         "4",
         "S Dhawan",
         "MC Henriques",
         "SR Watson",
         "0",
         "0",
         "0",
         "0",
         "0",
         "0",
         "4",
         "0",
         "4",
         null,
         null,
         null
        ],
        [
         "36",
         "1",
         "1",
         "Sunrisers Hyderabad",
         "Royal Challengers Bangalore",
         "6",
         "5",
         "S Dhawan",
         "MC Henriques",
         "SR Watson",
         "0",
         "0",
         "0",
         "0",
         "0",
         "0",
         "4",
         "0",
         "4",
         null,
         null,
         null
        ],
        [
         "37",
         "1",
         "1",
         "Sunrisers Hyderabad",
         "Royal Challengers Bangalore",
         "6",
         "6",
         "S Dhawan",
         "MC Henriques",
         "SR Watson",
         "0",
         "0",
         "0",
         "0",
         "0",
         "0",
         "1",
         "0",
         "1",
         null,
         null,
         null
        ],
        [
         "38",
         "1",
         "1",
         "Sunrisers Hyderabad",
         "Royal Challengers Bangalore",
         "7",
         "1",
         "S Dhawan",
         "MC Henriques",
         "YS Chahal",
         "0",
         "0",
         "0",
         "0",
         "0",
         "0",
         "1",
         "0",
         "1",
         null,
         null,
         null
        ],
        [
         "39",
         "1",
         "1",
         "Sunrisers Hyderabad",
         "Royal Challengers Bangalore",
         "7",
         "2",
         "MC Henriques",
         "S Dhawan",
         "YS Chahal",
         "0",
         "0",
         "0",
         "0",
         "0",
         "0",
         "0",
         "0",
         "0",
         null,
         null,
         null
        ],
        [
         "40",
         "1",
         "1",
         "Sunrisers Hyderabad",
         "Royal Challengers Bangalore",
         "7",
         "3",
         "MC Henriques",
         "S Dhawan",
         "YS Chahal",
         "0",
         "0",
         "0",
         "0",
         "0",
         "0",
         "1",
         "0",
         "1",
         null,
         null,
         null
        ],
        [
         "41",
         "1",
         "1",
         "Sunrisers Hyderabad",
         "Royal Challengers Bangalore",
         "7",
         "4",
         "S Dhawan",
         "MC Henriques",
         "YS Chahal",
         "0",
         "0",
         "0",
         "0",
         "0",
         "0",
         "1",
         "0",
         "1",
         null,
         null,
         null
        ],
        [
         "42",
         "1",
         "1",
         "Sunrisers Hyderabad",
         "Royal Challengers Bangalore",
         "7",
         "5",
         "MC Henriques",
         "S Dhawan",
         "YS Chahal",
         "0",
         "0",
         "0",
         "0",
         "0",
         "0",
         "1",
         "0",
         "1",
         null,
         null,
         null
        ],
        [
         "43",
         "1",
         "1",
         "Sunrisers Hyderabad",
         "Royal Challengers Bangalore",
         "7",
         "6",
         "S Dhawan",
         "MC Henriques",
         "YS Chahal",
         "0",
         "0",
         "0",
         "0",
         "0",
         "0",
         "1",
         "0",
         "1",
         null,
         null,
         null
        ],
        [
         "44",
         "1",
         "1",
         "Sunrisers Hyderabad",
         "Royal Challengers Bangalore",
         "8",
         "1",
         "S Dhawan",
         "MC Henriques",
         "TM Head",
         "0",
         "0",
         "0",
         "0",
         "0",
         "0",
         "1",
         "0",
         "1",
         null,
         null,
         null
        ],
        [
         "45",
         "1",
         "1",
         "Sunrisers Hyderabad",
         "Royal Challengers Bangalore",
         "8",
         "2",
         "MC Henriques",
         "S Dhawan",
         "TM Head",
         "0",
         "0",
         "0",
         "0",
         "0",
         "0",
         "1",
         "0",
         "1",
         null,
         null,
         null
        ],
        [
         "46",
         "1",
         "1",
         "Sunrisers Hyderabad",
         "Royal Challengers Bangalore",
         "8",
         "3",
         "S Dhawan",
         "MC Henriques",
         "TM Head",
         "0",
         "0",
         "0",
         "0",
         "0",
         "0",
         "1",
         "0",
         "1",
         null,
         null,
         null
        ],
        [
         "47",
         "1",
         "1",
         "Sunrisers Hyderabad",
         "Royal Challengers Bangalore",
         "8",
         "4",
         "MC Henriques",
         "S Dhawan",
         "TM Head",
         "0",
         "0",
         "0",
         "0",
         "0",
         "0",
         "6",
         "0",
         "6",
         null,
         null,
         null
        ],
        [
         "48",
         "1",
         "1",
         "Sunrisers Hyderabad",
         "Royal Challengers Bangalore",
         "8",
         "5",
         "MC Henriques",
         "S Dhawan",
         "TM Head",
         "0",
         "0",
         "0",
         "0",
         "0",
         "0",
         "1",
         "0",
         "1",
         null,
         null,
         null
        ],
        [
         "49",
         "1",
         "1",
         "Sunrisers Hyderabad",
         "Royal Challengers Bangalore",
         "8",
         "6",
         "S Dhawan",
         "MC Henriques",
         "TM Head",
         "0",
         "0",
         "0",
         "0",
         "0",
         "0",
         "1",
         "0",
         "1",
         null,
         null,
         null
        ]
       ],
       "shape": {
        "columns": 21,
        "rows": 179078
       }
      },
      "text/html": [
       "<div>\n",
       "<style scoped>\n",
       "    .dataframe tbody tr th:only-of-type {\n",
       "        vertical-align: middle;\n",
       "    }\n",
       "\n",
       "    .dataframe tbody tr th {\n",
       "        vertical-align: top;\n",
       "    }\n",
       "\n",
       "    .dataframe thead th {\n",
       "        text-align: right;\n",
       "    }\n",
       "</style>\n",
       "<table border=\"1\" class=\"dataframe\">\n",
       "  <thead>\n",
       "    <tr style=\"text-align: right;\">\n",
       "      <th></th>\n",
       "      <th>match_id</th>\n",
       "      <th>inning</th>\n",
       "      <th>batting_team</th>\n",
       "      <th>bowling_team</th>\n",
       "      <th>over</th>\n",
       "      <th>ball</th>\n",
       "      <th>batsman</th>\n",
       "      <th>non_striker</th>\n",
       "      <th>bowler</th>\n",
       "      <th>is_super_over</th>\n",
       "      <th>...</th>\n",
       "      <th>bye_runs</th>\n",
       "      <th>legbye_runs</th>\n",
       "      <th>noball_runs</th>\n",
       "      <th>penalty_runs</th>\n",
       "      <th>batsman_runs</th>\n",
       "      <th>extra_runs</th>\n",
       "      <th>total_runs</th>\n",
       "      <th>player_dismissed</th>\n",
       "      <th>dismissal_kind</th>\n",
       "      <th>fielder</th>\n",
       "    </tr>\n",
       "  </thead>\n",
       "  <tbody>\n",
       "    <tr>\n",
       "      <th>0</th>\n",
       "      <td>1</td>\n",
       "      <td>1</td>\n",
       "      <td>Sunrisers Hyderabad</td>\n",
       "      <td>Royal Challengers Bangalore</td>\n",
       "      <td>1</td>\n",
       "      <td>1</td>\n",
       "      <td>DA Warner</td>\n",
       "      <td>S Dhawan</td>\n",
       "      <td>TS Mills</td>\n",
       "      <td>0</td>\n",
       "      <td>...</td>\n",
       "      <td>0</td>\n",
       "      <td>0</td>\n",
       "      <td>0</td>\n",
       "      <td>0</td>\n",
       "      <td>0</td>\n",
       "      <td>0</td>\n",
       "      <td>0</td>\n",
       "      <td>NaN</td>\n",
       "      <td>NaN</td>\n",
       "      <td>NaN</td>\n",
       "    </tr>\n",
       "    <tr>\n",
       "      <th>1</th>\n",
       "      <td>1</td>\n",
       "      <td>1</td>\n",
       "      <td>Sunrisers Hyderabad</td>\n",
       "      <td>Royal Challengers Bangalore</td>\n",
       "      <td>1</td>\n",
       "      <td>2</td>\n",
       "      <td>DA Warner</td>\n",
       "      <td>S Dhawan</td>\n",
       "      <td>TS Mills</td>\n",
       "      <td>0</td>\n",
       "      <td>...</td>\n",
       "      <td>0</td>\n",
       "      <td>0</td>\n",
       "      <td>0</td>\n",
       "      <td>0</td>\n",
       "      <td>0</td>\n",
       "      <td>0</td>\n",
       "      <td>0</td>\n",
       "      <td>NaN</td>\n",
       "      <td>NaN</td>\n",
       "      <td>NaN</td>\n",
       "    </tr>\n",
       "    <tr>\n",
       "      <th>2</th>\n",
       "      <td>1</td>\n",
       "      <td>1</td>\n",
       "      <td>Sunrisers Hyderabad</td>\n",
       "      <td>Royal Challengers Bangalore</td>\n",
       "      <td>1</td>\n",
       "      <td>3</td>\n",
       "      <td>DA Warner</td>\n",
       "      <td>S Dhawan</td>\n",
       "      <td>TS Mills</td>\n",
       "      <td>0</td>\n",
       "      <td>...</td>\n",
       "      <td>0</td>\n",
       "      <td>0</td>\n",
       "      <td>0</td>\n",
       "      <td>0</td>\n",
       "      <td>4</td>\n",
       "      <td>0</td>\n",
       "      <td>4</td>\n",
       "      <td>NaN</td>\n",
       "      <td>NaN</td>\n",
       "      <td>NaN</td>\n",
       "    </tr>\n",
       "    <tr>\n",
       "      <th>3</th>\n",
       "      <td>1</td>\n",
       "      <td>1</td>\n",
       "      <td>Sunrisers Hyderabad</td>\n",
       "      <td>Royal Challengers Bangalore</td>\n",
       "      <td>1</td>\n",
       "      <td>4</td>\n",
       "      <td>DA Warner</td>\n",
       "      <td>S Dhawan</td>\n",
       "      <td>TS Mills</td>\n",
       "      <td>0</td>\n",
       "      <td>...</td>\n",
       "      <td>0</td>\n",
       "      <td>0</td>\n",
       "      <td>0</td>\n",
       "      <td>0</td>\n",
       "      <td>0</td>\n",
       "      <td>0</td>\n",
       "      <td>0</td>\n",
       "      <td>NaN</td>\n",
       "      <td>NaN</td>\n",
       "      <td>NaN</td>\n",
       "    </tr>\n",
       "    <tr>\n",
       "      <th>4</th>\n",
       "      <td>1</td>\n",
       "      <td>1</td>\n",
       "      <td>Sunrisers Hyderabad</td>\n",
       "      <td>Royal Challengers Bangalore</td>\n",
       "      <td>1</td>\n",
       "      <td>5</td>\n",
       "      <td>DA Warner</td>\n",
       "      <td>S Dhawan</td>\n",
       "      <td>TS Mills</td>\n",
       "      <td>0</td>\n",
       "      <td>...</td>\n",
       "      <td>0</td>\n",
       "      <td>0</td>\n",
       "      <td>0</td>\n",
       "      <td>0</td>\n",
       "      <td>0</td>\n",
       "      <td>2</td>\n",
       "      <td>2</td>\n",
       "      <td>NaN</td>\n",
       "      <td>NaN</td>\n",
       "      <td>NaN</td>\n",
       "    </tr>\n",
       "    <tr>\n",
       "      <th>...</th>\n",
       "      <td>...</td>\n",
       "      <td>...</td>\n",
       "      <td>...</td>\n",
       "      <td>...</td>\n",
       "      <td>...</td>\n",
       "      <td>...</td>\n",
       "      <td>...</td>\n",
       "      <td>...</td>\n",
       "      <td>...</td>\n",
       "      <td>...</td>\n",
       "      <td>...</td>\n",
       "      <td>...</td>\n",
       "      <td>...</td>\n",
       "      <td>...</td>\n",
       "      <td>...</td>\n",
       "      <td>...</td>\n",
       "      <td>...</td>\n",
       "      <td>...</td>\n",
       "      <td>...</td>\n",
       "      <td>...</td>\n",
       "      <td>...</td>\n",
       "    </tr>\n",
       "    <tr>\n",
       "      <th>179073</th>\n",
       "      <td>11415</td>\n",
       "      <td>2</td>\n",
       "      <td>Chennai Super Kings</td>\n",
       "      <td>Mumbai Indians</td>\n",
       "      <td>20</td>\n",
       "      <td>2</td>\n",
       "      <td>RA Jadeja</td>\n",
       "      <td>SR Watson</td>\n",
       "      <td>SL Malinga</td>\n",
       "      <td>0</td>\n",
       "      <td>...</td>\n",
       "      <td>0</td>\n",
       "      <td>0</td>\n",
       "      <td>0</td>\n",
       "      <td>0</td>\n",
       "      <td>1</td>\n",
       "      <td>0</td>\n",
       "      <td>1</td>\n",
       "      <td>NaN</td>\n",
       "      <td>NaN</td>\n",
       "      <td>NaN</td>\n",
       "    </tr>\n",
       "    <tr>\n",
       "      <th>179074</th>\n",
       "      <td>11415</td>\n",
       "      <td>2</td>\n",
       "      <td>Chennai Super Kings</td>\n",
       "      <td>Mumbai Indians</td>\n",
       "      <td>20</td>\n",
       "      <td>3</td>\n",
       "      <td>SR Watson</td>\n",
       "      <td>RA Jadeja</td>\n",
       "      <td>SL Malinga</td>\n",
       "      <td>0</td>\n",
       "      <td>...</td>\n",
       "      <td>0</td>\n",
       "      <td>0</td>\n",
       "      <td>0</td>\n",
       "      <td>0</td>\n",
       "      <td>2</td>\n",
       "      <td>0</td>\n",
       "      <td>2</td>\n",
       "      <td>NaN</td>\n",
       "      <td>NaN</td>\n",
       "      <td>NaN</td>\n",
       "    </tr>\n",
       "    <tr>\n",
       "      <th>179075</th>\n",
       "      <td>11415</td>\n",
       "      <td>2</td>\n",
       "      <td>Chennai Super Kings</td>\n",
       "      <td>Mumbai Indians</td>\n",
       "      <td>20</td>\n",
       "      <td>4</td>\n",
       "      <td>SR Watson</td>\n",
       "      <td>RA Jadeja</td>\n",
       "      <td>SL Malinga</td>\n",
       "      <td>0</td>\n",
       "      <td>...</td>\n",
       "      <td>0</td>\n",
       "      <td>0</td>\n",
       "      <td>0</td>\n",
       "      <td>0</td>\n",
       "      <td>1</td>\n",
       "      <td>0</td>\n",
       "      <td>1</td>\n",
       "      <td>SR Watson</td>\n",
       "      <td>run out</td>\n",
       "      <td>KH Pandya</td>\n",
       "    </tr>\n",
       "    <tr>\n",
       "      <th>179076</th>\n",
       "      <td>11415</td>\n",
       "      <td>2</td>\n",
       "      <td>Chennai Super Kings</td>\n",
       "      <td>Mumbai Indians</td>\n",
       "      <td>20</td>\n",
       "      <td>5</td>\n",
       "      <td>SN Thakur</td>\n",
       "      <td>RA Jadeja</td>\n",
       "      <td>SL Malinga</td>\n",
       "      <td>0</td>\n",
       "      <td>...</td>\n",
       "      <td>0</td>\n",
       "      <td>0</td>\n",
       "      <td>0</td>\n",
       "      <td>0</td>\n",
       "      <td>2</td>\n",
       "      <td>0</td>\n",
       "      <td>2</td>\n",
       "      <td>NaN</td>\n",
       "      <td>NaN</td>\n",
       "      <td>NaN</td>\n",
       "    </tr>\n",
       "    <tr>\n",
       "      <th>179077</th>\n",
       "      <td>11415</td>\n",
       "      <td>2</td>\n",
       "      <td>Chennai Super Kings</td>\n",
       "      <td>Mumbai Indians</td>\n",
       "      <td>20</td>\n",
       "      <td>6</td>\n",
       "      <td>SN Thakur</td>\n",
       "      <td>RA Jadeja</td>\n",
       "      <td>SL Malinga</td>\n",
       "      <td>0</td>\n",
       "      <td>...</td>\n",
       "      <td>0</td>\n",
       "      <td>0</td>\n",
       "      <td>0</td>\n",
       "      <td>0</td>\n",
       "      <td>0</td>\n",
       "      <td>0</td>\n",
       "      <td>0</td>\n",
       "      <td>SN Thakur</td>\n",
       "      <td>lbw</td>\n",
       "      <td>NaN</td>\n",
       "    </tr>\n",
       "  </tbody>\n",
       "</table>\n",
       "<p>179078 rows × 21 columns</p>\n",
       "</div>"
      ],
      "text/plain": [
       "        match_id  inning         batting_team                 bowling_team  \\\n",
       "0              1       1  Sunrisers Hyderabad  Royal Challengers Bangalore   \n",
       "1              1       1  Sunrisers Hyderabad  Royal Challengers Bangalore   \n",
       "2              1       1  Sunrisers Hyderabad  Royal Challengers Bangalore   \n",
       "3              1       1  Sunrisers Hyderabad  Royal Challengers Bangalore   \n",
       "4              1       1  Sunrisers Hyderabad  Royal Challengers Bangalore   \n",
       "...          ...     ...                  ...                          ...   \n",
       "179073     11415       2  Chennai Super Kings               Mumbai Indians   \n",
       "179074     11415       2  Chennai Super Kings               Mumbai Indians   \n",
       "179075     11415       2  Chennai Super Kings               Mumbai Indians   \n",
       "179076     11415       2  Chennai Super Kings               Mumbai Indians   \n",
       "179077     11415       2  Chennai Super Kings               Mumbai Indians   \n",
       "\n",
       "        over  ball    batsman non_striker      bowler  is_super_over  ...  \\\n",
       "0          1     1  DA Warner    S Dhawan    TS Mills              0  ...   \n",
       "1          1     2  DA Warner    S Dhawan    TS Mills              0  ...   \n",
       "2          1     3  DA Warner    S Dhawan    TS Mills              0  ...   \n",
       "3          1     4  DA Warner    S Dhawan    TS Mills              0  ...   \n",
       "4          1     5  DA Warner    S Dhawan    TS Mills              0  ...   \n",
       "...      ...   ...        ...         ...         ...            ...  ...   \n",
       "179073    20     2  RA Jadeja   SR Watson  SL Malinga              0  ...   \n",
       "179074    20     3  SR Watson   RA Jadeja  SL Malinga              0  ...   \n",
       "179075    20     4  SR Watson   RA Jadeja  SL Malinga              0  ...   \n",
       "179076    20     5  SN Thakur   RA Jadeja  SL Malinga              0  ...   \n",
       "179077    20     6  SN Thakur   RA Jadeja  SL Malinga              0  ...   \n",
       "\n",
       "        bye_runs  legbye_runs  noball_runs  penalty_runs  batsman_runs  \\\n",
       "0              0            0            0             0             0   \n",
       "1              0            0            0             0             0   \n",
       "2              0            0            0             0             4   \n",
       "3              0            0            0             0             0   \n",
       "4              0            0            0             0             0   \n",
       "...          ...          ...          ...           ...           ...   \n",
       "179073         0            0            0             0             1   \n",
       "179074         0            0            0             0             2   \n",
       "179075         0            0            0             0             1   \n",
       "179076         0            0            0             0             2   \n",
       "179077         0            0            0             0             0   \n",
       "\n",
       "        extra_runs  total_runs  player_dismissed dismissal_kind    fielder  \n",
       "0                0           0               NaN            NaN        NaN  \n",
       "1                0           0               NaN            NaN        NaN  \n",
       "2                0           4               NaN            NaN        NaN  \n",
       "3                0           0               NaN            NaN        NaN  \n",
       "4                2           2               NaN            NaN        NaN  \n",
       "...            ...         ...               ...            ...        ...  \n",
       "179073           0           1               NaN            NaN        NaN  \n",
       "179074           0           2               NaN            NaN        NaN  \n",
       "179075           0           1         SR Watson        run out  KH Pandya  \n",
       "179076           0           2               NaN            NaN        NaN  \n",
       "179077           0           0         SN Thakur            lbw        NaN  \n",
       "\n",
       "[179078 rows x 21 columns]"
      ]
     },
     "execution_count": 6,
     "metadata": {},
     "output_type": "execute_result"
    }
   ],
   "source": [
    "delivery "
   ]
  },
  {
   "cell_type": "code",
   "execution_count": 7,
   "id": "8845b3e9",
   "metadata": {},
   "outputs": [
    {
     "data": {
      "application/vnd.microsoft.datawrangler.viewer.v0+json": {
       "columns": [
        {
         "name": "index",
         "rawType": "int64",
         "type": "integer"
        },
        {
         "name": "match_id",
         "rawType": "int64",
         "type": "integer"
        },
        {
         "name": "inning",
         "rawType": "int64",
         "type": "integer"
        },
        {
         "name": "batting_team",
         "rawType": "object",
         "type": "string"
        },
        {
         "name": "bowling_team",
         "rawType": "object",
         "type": "string"
        },
        {
         "name": "over",
         "rawType": "int64",
         "type": "integer"
        },
        {
         "name": "ball",
         "rawType": "int64",
         "type": "integer"
        },
        {
         "name": "batsman",
         "rawType": "object",
         "type": "string"
        },
        {
         "name": "non_striker",
         "rawType": "object",
         "type": "string"
        },
        {
         "name": "bowler",
         "rawType": "object",
         "type": "string"
        },
        {
         "name": "is_super_over",
         "rawType": "int64",
         "type": "integer"
        },
        {
         "name": "wide_runs",
         "rawType": "int64",
         "type": "integer"
        },
        {
         "name": "bye_runs",
         "rawType": "int64",
         "type": "integer"
        },
        {
         "name": "legbye_runs",
         "rawType": "int64",
         "type": "integer"
        },
        {
         "name": "noball_runs",
         "rawType": "int64",
         "type": "integer"
        },
        {
         "name": "penalty_runs",
         "rawType": "int64",
         "type": "integer"
        },
        {
         "name": "batsman_runs",
         "rawType": "int64",
         "type": "integer"
        },
        {
         "name": "extra_runs",
         "rawType": "int64",
         "type": "integer"
        },
        {
         "name": "total_runs",
         "rawType": "int64",
         "type": "integer"
        },
        {
         "name": "player_dismissed",
         "rawType": "object",
         "type": "unknown"
        },
        {
         "name": "dismissal_kind",
         "rawType": "object",
         "type": "unknown"
        },
        {
         "name": "fielder",
         "rawType": "object",
         "type": "unknown"
        },
        {
         "name": "id",
         "rawType": "int64",
         "type": "integer"
        },
        {
         "name": "season",
         "rawType": "int64",
         "type": "integer"
        },
        {
         "name": "city",
         "rawType": "object",
         "type": "string"
        },
        {
         "name": "date",
         "rawType": "object",
         "type": "string"
        },
        {
         "name": "team1",
         "rawType": "object",
         "type": "string"
        },
        {
         "name": "team2",
         "rawType": "object",
         "type": "string"
        },
        {
         "name": "toss_winner",
         "rawType": "object",
         "type": "string"
        },
        {
         "name": "toss_decision",
         "rawType": "object",
         "type": "string"
        },
        {
         "name": "result",
         "rawType": "object",
         "type": "string"
        },
        {
         "name": "dl_applied",
         "rawType": "int64",
         "type": "integer"
        },
        {
         "name": "winner",
         "rawType": "object",
         "type": "string"
        },
        {
         "name": "win_by_runs",
         "rawType": "int64",
         "type": "integer"
        },
        {
         "name": "win_by_wickets",
         "rawType": "int64",
         "type": "integer"
        },
        {
         "name": "player_of_match",
         "rawType": "object",
         "type": "string"
        },
        {
         "name": "venue",
         "rawType": "object",
         "type": "string"
        },
        {
         "name": "umpire1",
         "rawType": "object",
         "type": "string"
        },
        {
         "name": "umpire2",
         "rawType": "object",
         "type": "string"
        },
        {
         "name": "umpire3",
         "rawType": "float64",
         "type": "float"
        }
       ],
       "ref": "a0e45086-a597-4af6-8bb0-25e91cb33bd9",
       "rows": [
        [
         "0",
         "1",
         "1",
         "Sunrisers Hyderabad",
         "Royal Challengers Bangalore",
         "1",
         "1",
         "DA Warner",
         "S Dhawan",
         "TS Mills",
         "0",
         "0",
         "0",
         "0",
         "0",
         "0",
         "0",
         "0",
         "0",
         null,
         null,
         null,
         "1",
         "2017",
         "Hyderabad",
         "2017-04-05",
         "Sunrisers Hyderabad",
         "Royal Challengers Bangalore",
         "Royal Challengers Bangalore",
         "field",
         "normal",
         "0",
         "Sunrisers Hyderabad",
         "35",
         "0",
         "Yuvraj Singh",
         "Rajiv Gandhi International Stadium, Uppal",
         "AY Dandekar",
         "NJ Llong",
         null
        ],
        [
         "1",
         "1",
         "1",
         "Sunrisers Hyderabad",
         "Royal Challengers Bangalore",
         "1",
         "2",
         "DA Warner",
         "S Dhawan",
         "TS Mills",
         "0",
         "0",
         "0",
         "0",
         "0",
         "0",
         "0",
         "0",
         "0",
         null,
         null,
         null,
         "1",
         "2017",
         "Hyderabad",
         "2017-04-05",
         "Sunrisers Hyderabad",
         "Royal Challengers Bangalore",
         "Royal Challengers Bangalore",
         "field",
         "normal",
         "0",
         "Sunrisers Hyderabad",
         "35",
         "0",
         "Yuvraj Singh",
         "Rajiv Gandhi International Stadium, Uppal",
         "AY Dandekar",
         "NJ Llong",
         null
        ],
        [
         "2",
         "1",
         "1",
         "Sunrisers Hyderabad",
         "Royal Challengers Bangalore",
         "1",
         "3",
         "DA Warner",
         "S Dhawan",
         "TS Mills",
         "0",
         "0",
         "0",
         "0",
         "0",
         "0",
         "4",
         "0",
         "4",
         null,
         null,
         null,
         "1",
         "2017",
         "Hyderabad",
         "2017-04-05",
         "Sunrisers Hyderabad",
         "Royal Challengers Bangalore",
         "Royal Challengers Bangalore",
         "field",
         "normal",
         "0",
         "Sunrisers Hyderabad",
         "35",
         "0",
         "Yuvraj Singh",
         "Rajiv Gandhi International Stadium, Uppal",
         "AY Dandekar",
         "NJ Llong",
         null
        ],
        [
         "3",
         "1",
         "1",
         "Sunrisers Hyderabad",
         "Royal Challengers Bangalore",
         "1",
         "4",
         "DA Warner",
         "S Dhawan",
         "TS Mills",
         "0",
         "0",
         "0",
         "0",
         "0",
         "0",
         "0",
         "0",
         "0",
         null,
         null,
         null,
         "1",
         "2017",
         "Hyderabad",
         "2017-04-05",
         "Sunrisers Hyderabad",
         "Royal Challengers Bangalore",
         "Royal Challengers Bangalore",
         "field",
         "normal",
         "0",
         "Sunrisers Hyderabad",
         "35",
         "0",
         "Yuvraj Singh",
         "Rajiv Gandhi International Stadium, Uppal",
         "AY Dandekar",
         "NJ Llong",
         null
        ],
        [
         "4",
         "1",
         "1",
         "Sunrisers Hyderabad",
         "Royal Challengers Bangalore",
         "1",
         "5",
         "DA Warner",
         "S Dhawan",
         "TS Mills",
         "0",
         "2",
         "0",
         "0",
         "0",
         "0",
         "0",
         "2",
         "2",
         null,
         null,
         null,
         "1",
         "2017",
         "Hyderabad",
         "2017-04-05",
         "Sunrisers Hyderabad",
         "Royal Challengers Bangalore",
         "Royal Challengers Bangalore",
         "field",
         "normal",
         "0",
         "Sunrisers Hyderabad",
         "35",
         "0",
         "Yuvraj Singh",
         "Rajiv Gandhi International Stadium, Uppal",
         "AY Dandekar",
         "NJ Llong",
         null
        ]
       ],
       "shape": {
        "columns": 39,
        "rows": 5
       }
      },
      "text/html": [
       "<div>\n",
       "<style scoped>\n",
       "    .dataframe tbody tr th:only-of-type {\n",
       "        vertical-align: middle;\n",
       "    }\n",
       "\n",
       "    .dataframe tbody tr th {\n",
       "        vertical-align: top;\n",
       "    }\n",
       "\n",
       "    .dataframe thead th {\n",
       "        text-align: right;\n",
       "    }\n",
       "</style>\n",
       "<table border=\"1\" class=\"dataframe\">\n",
       "  <thead>\n",
       "    <tr style=\"text-align: right;\">\n",
       "      <th></th>\n",
       "      <th>match_id</th>\n",
       "      <th>inning</th>\n",
       "      <th>batting_team</th>\n",
       "      <th>bowling_team</th>\n",
       "      <th>over</th>\n",
       "      <th>ball</th>\n",
       "      <th>batsman</th>\n",
       "      <th>non_striker</th>\n",
       "      <th>bowler</th>\n",
       "      <th>is_super_over</th>\n",
       "      <th>...</th>\n",
       "      <th>result</th>\n",
       "      <th>dl_applied</th>\n",
       "      <th>winner</th>\n",
       "      <th>win_by_runs</th>\n",
       "      <th>win_by_wickets</th>\n",
       "      <th>player_of_match</th>\n",
       "      <th>venue</th>\n",
       "      <th>umpire1</th>\n",
       "      <th>umpire2</th>\n",
       "      <th>umpire3</th>\n",
       "    </tr>\n",
       "  </thead>\n",
       "  <tbody>\n",
       "    <tr>\n",
       "      <th>0</th>\n",
       "      <td>1</td>\n",
       "      <td>1</td>\n",
       "      <td>Sunrisers Hyderabad</td>\n",
       "      <td>Royal Challengers Bangalore</td>\n",
       "      <td>1</td>\n",
       "      <td>1</td>\n",
       "      <td>DA Warner</td>\n",
       "      <td>S Dhawan</td>\n",
       "      <td>TS Mills</td>\n",
       "      <td>0</td>\n",
       "      <td>...</td>\n",
       "      <td>normal</td>\n",
       "      <td>0</td>\n",
       "      <td>Sunrisers Hyderabad</td>\n",
       "      <td>35</td>\n",
       "      <td>0</td>\n",
       "      <td>Yuvraj Singh</td>\n",
       "      <td>Rajiv Gandhi International Stadium, Uppal</td>\n",
       "      <td>AY Dandekar</td>\n",
       "      <td>NJ Llong</td>\n",
       "      <td>NaN</td>\n",
       "    </tr>\n",
       "    <tr>\n",
       "      <th>1</th>\n",
       "      <td>1</td>\n",
       "      <td>1</td>\n",
       "      <td>Sunrisers Hyderabad</td>\n",
       "      <td>Royal Challengers Bangalore</td>\n",
       "      <td>1</td>\n",
       "      <td>2</td>\n",
       "      <td>DA Warner</td>\n",
       "      <td>S Dhawan</td>\n",
       "      <td>TS Mills</td>\n",
       "      <td>0</td>\n",
       "      <td>...</td>\n",
       "      <td>normal</td>\n",
       "      <td>0</td>\n",
       "      <td>Sunrisers Hyderabad</td>\n",
       "      <td>35</td>\n",
       "      <td>0</td>\n",
       "      <td>Yuvraj Singh</td>\n",
       "      <td>Rajiv Gandhi International Stadium, Uppal</td>\n",
       "      <td>AY Dandekar</td>\n",
       "      <td>NJ Llong</td>\n",
       "      <td>NaN</td>\n",
       "    </tr>\n",
       "    <tr>\n",
       "      <th>2</th>\n",
       "      <td>1</td>\n",
       "      <td>1</td>\n",
       "      <td>Sunrisers Hyderabad</td>\n",
       "      <td>Royal Challengers Bangalore</td>\n",
       "      <td>1</td>\n",
       "      <td>3</td>\n",
       "      <td>DA Warner</td>\n",
       "      <td>S Dhawan</td>\n",
       "      <td>TS Mills</td>\n",
       "      <td>0</td>\n",
       "      <td>...</td>\n",
       "      <td>normal</td>\n",
       "      <td>0</td>\n",
       "      <td>Sunrisers Hyderabad</td>\n",
       "      <td>35</td>\n",
       "      <td>0</td>\n",
       "      <td>Yuvraj Singh</td>\n",
       "      <td>Rajiv Gandhi International Stadium, Uppal</td>\n",
       "      <td>AY Dandekar</td>\n",
       "      <td>NJ Llong</td>\n",
       "      <td>NaN</td>\n",
       "    </tr>\n",
       "    <tr>\n",
       "      <th>3</th>\n",
       "      <td>1</td>\n",
       "      <td>1</td>\n",
       "      <td>Sunrisers Hyderabad</td>\n",
       "      <td>Royal Challengers Bangalore</td>\n",
       "      <td>1</td>\n",
       "      <td>4</td>\n",
       "      <td>DA Warner</td>\n",
       "      <td>S Dhawan</td>\n",
       "      <td>TS Mills</td>\n",
       "      <td>0</td>\n",
       "      <td>...</td>\n",
       "      <td>normal</td>\n",
       "      <td>0</td>\n",
       "      <td>Sunrisers Hyderabad</td>\n",
       "      <td>35</td>\n",
       "      <td>0</td>\n",
       "      <td>Yuvraj Singh</td>\n",
       "      <td>Rajiv Gandhi International Stadium, Uppal</td>\n",
       "      <td>AY Dandekar</td>\n",
       "      <td>NJ Llong</td>\n",
       "      <td>NaN</td>\n",
       "    </tr>\n",
       "    <tr>\n",
       "      <th>4</th>\n",
       "      <td>1</td>\n",
       "      <td>1</td>\n",
       "      <td>Sunrisers Hyderabad</td>\n",
       "      <td>Royal Challengers Bangalore</td>\n",
       "      <td>1</td>\n",
       "      <td>5</td>\n",
       "      <td>DA Warner</td>\n",
       "      <td>S Dhawan</td>\n",
       "      <td>TS Mills</td>\n",
       "      <td>0</td>\n",
       "      <td>...</td>\n",
       "      <td>normal</td>\n",
       "      <td>0</td>\n",
       "      <td>Sunrisers Hyderabad</td>\n",
       "      <td>35</td>\n",
       "      <td>0</td>\n",
       "      <td>Yuvraj Singh</td>\n",
       "      <td>Rajiv Gandhi International Stadium, Uppal</td>\n",
       "      <td>AY Dandekar</td>\n",
       "      <td>NJ Llong</td>\n",
       "      <td>NaN</td>\n",
       "    </tr>\n",
       "  </tbody>\n",
       "</table>\n",
       "<p>5 rows × 39 columns</p>\n",
       "</div>"
      ],
      "text/plain": [
       "   match_id  inning         batting_team                 bowling_team  over  \\\n",
       "0         1       1  Sunrisers Hyderabad  Royal Challengers Bangalore     1   \n",
       "1         1       1  Sunrisers Hyderabad  Royal Challengers Bangalore     1   \n",
       "2         1       1  Sunrisers Hyderabad  Royal Challengers Bangalore     1   \n",
       "3         1       1  Sunrisers Hyderabad  Royal Challengers Bangalore     1   \n",
       "4         1       1  Sunrisers Hyderabad  Royal Challengers Bangalore     1   \n",
       "\n",
       "   ball    batsman non_striker    bowler  is_super_over  ...  result  \\\n",
       "0     1  DA Warner    S Dhawan  TS Mills              0  ...  normal   \n",
       "1     2  DA Warner    S Dhawan  TS Mills              0  ...  normal   \n",
       "2     3  DA Warner    S Dhawan  TS Mills              0  ...  normal   \n",
       "3     4  DA Warner    S Dhawan  TS Mills              0  ...  normal   \n",
       "4     5  DA Warner    S Dhawan  TS Mills              0  ...  normal   \n",
       "\n",
       "   dl_applied               winner  win_by_runs  win_by_wickets  \\\n",
       "0           0  Sunrisers Hyderabad           35               0   \n",
       "1           0  Sunrisers Hyderabad           35               0   \n",
       "2           0  Sunrisers Hyderabad           35               0   \n",
       "3           0  Sunrisers Hyderabad           35               0   \n",
       "4           0  Sunrisers Hyderabad           35               0   \n",
       "\n",
       "   player_of_match                                      venue      umpire1  \\\n",
       "0     Yuvraj Singh  Rajiv Gandhi International Stadium, Uppal  AY Dandekar   \n",
       "1     Yuvraj Singh  Rajiv Gandhi International Stadium, Uppal  AY Dandekar   \n",
       "2     Yuvraj Singh  Rajiv Gandhi International Stadium, Uppal  AY Dandekar   \n",
       "3     Yuvraj Singh  Rajiv Gandhi International Stadium, Uppal  AY Dandekar   \n",
       "4     Yuvraj Singh  Rajiv Gandhi International Stadium, Uppal  AY Dandekar   \n",
       "\n",
       "    umpire2 umpire3  \n",
       "0  NJ Llong     NaN  \n",
       "1  NJ Llong     NaN  \n",
       "2  NJ Llong     NaN  \n",
       "3  NJ Llong     NaN  \n",
       "4  NJ Llong     NaN  \n",
       "\n",
       "[5 rows x 39 columns]"
      ]
     },
     "execution_count": 7,
     "metadata": {},
     "output_type": "execute_result"
    }
   ],
   "source": [
    "ipl = pd.merge(delivery, match, left_on='match_id', right_on='id')\n",
    "ipl.head()"
   ]
  },
  {
   "cell_type": "markdown",
   "id": "cd4e6d13",
   "metadata": {},
   "source": [
    "# 1. scatteplot "
   ]
  },
  {
   "cell_type": "code",
   "execution_count": null,
   "id": "d94619d1",
   "metadata": {},
   "outputs": [
    {
     "data": {
      "application/vnd.microsoft.datawrangler.viewer.v0+json": {
       "columns": [
        {
         "name": "index",
         "rawType": "int64",
         "type": "integer"
        },
        {
         "name": "batsman",
         "rawType": "object",
         "type": "string"
        },
        {
         "name": "batsman_runs",
         "rawType": "int64",
         "type": "integer"
        },
        {
         "name": "ball",
         "rawType": "int64",
         "type": "integer"
        },
        {
         "name": "batsman_avg",
         "rawType": "float64",
         "type": "float"
        },
        {
         "name": "batsman_sr",
         "rawType": "float64",
         "type": "float"
        }
       ],
       "ref": "16fd907c-7953-46aa-a9f9-6d9c9a38118b",
       "rows": [
        [
         "0",
         "AB de Villiers",
         "3486",
         "2402",
         "8.70774354704413",
         "145.12905911740216"
        ],
        [
         "1",
         "AC Gilchrist",
         "2069",
         "1555",
         "7.983279742765273",
         "133.05466237942122"
        ],
        [
         "2",
         "AJ Finch",
         "1604",
         "1270",
         "7.577952755905512",
         "126.2992125984252"
        ],
        [
         "3",
         "AM Rahane",
         "3057",
         "2602",
         "7.049192928516526",
         "117.48654880860876"
        ],
        [
         "4",
         "AT Rayudu",
         "2416",
         "1964",
         "7.380855397148677",
         "123.0142566191446"
        ],
        [
         "5",
         "BB McCullum",
         "2755",
         "2181",
         "7.579092159559835",
         "126.31820265933058"
        ],
        [
         "6",
         "BJ Hodge",
         "1400",
         "1153",
         "7.285342584562012",
         "121.42237640936686"
        ],
        [
         "7",
         "CH Gayle",
         "3651",
         "2532",
         "8.651658767772512",
         "144.19431279620852"
        ],
        [
         "8",
         "DA Miller",
         "1563",
         "1135",
         "8.262555066079296",
         "137.7092511013216"
        ],
        [
         "9",
         "DA Warner",
         "4014",
         "2902",
         "8.299104066161268",
         "138.3184011026878"
        ],
        [
         "10",
         "DJ Bravo",
         "1262",
         "1032",
         "7.337209302325581",
         "122.28682170542635"
        ],
        [
         "11",
         "DJ Hussey",
         "1322",
         "1101",
         "7.204359673024523",
         "120.07266121707538"
        ],
        [
         "12",
         "DPMD Jayawardene",
         "1808",
         "1522",
         "7.127463863337714",
         "118.7910643889619"
        ],
        [
         "13",
         "DR Smith",
         "2385",
         "1803",
         "7.936772046589018",
         "132.27953410981698"
        ],
        [
         "14",
         "F du Plessis",
         "1295",
         "1043",
         "7.449664429530201",
         "124.16107382550337"
        ],
        [
         "15",
         "G Gambhir",
         "4132",
         "3433",
         "7.22167200699097",
         "120.36120011651616"
        ],
        [
         "16",
         "GJ Maxwell",
         "1229",
         "780",
         "9.453846153846154",
         "157.56410256410257"
        ],
        [
         "17",
         "JH Kallis",
         "2427",
         "2291",
         "6.356176342208643",
         "105.93627237014405"
        ],
        [
         "18",
         "JP Duminy",
         "1993",
         "1634",
         "7.318237454100368",
         "121.97062423500613"
        ],
        [
         "19",
         "KA Pollard",
         "2354",
         "1674",
         "8.437275985663083",
         "140.62126642771804"
        ],
        [
         "20",
         "KC Sangakkara",
         "1687",
         "1424",
         "7.10814606741573",
         "118.4691011235955"
        ],
        [
         "21",
         "KD Karthik",
         "2903",
         "2360",
         "7.3805084745762715",
         "123.00847457627117"
        ],
        [
         "22",
         "KK Nair",
         "1158",
         "929",
         "7.479009687836383",
         "124.65016146393972"
        ],
        [
         "23",
         "M Vijay",
         "2511",
         "2092",
         "7.201720841300191",
         "120.02868068833652"
        ],
        [
         "24",
         "MEK Hussey",
         "1977",
         "1648",
         "7.197815533980582",
         "119.96359223300972"
        ],
        [
         "25",
         "MK Pandey",
         "2223",
         "1901",
         "7.016307206733298",
         "116.93845344555498"
        ],
        [
         "26",
         "MK Tiwary",
         "1648",
         "1444",
         "6.847645429362881",
         "114.12742382271468"
        ],
        [
         "27",
         "MS Dhoni",
         "3560",
         "2680",
         "7.970149253731343",
         "132.8358208955224"
        ],
        [
         "28",
         "NV Ojha",
         "1553",
         "1356",
         "6.871681415929204",
         "114.52802359882006"
        ],
        [
         "29",
         "PA Patel",
         "2322",
         "2060",
         "6.763106796116506",
         "112.71844660194175"
        ],
        [
         "30",
         "R Dravid",
         "2174",
         "1918",
         "6.800834202294056",
         "113.34723670490095"
        ],
        [
         "31",
         "RA Jadeja",
         "1732",
         "1458",
         "7.127572016460905",
         "118.79286694101509"
        ],
        [
         "32",
         "RG Sharma",
         "4207",
         "3274",
         "7.709835064141723",
         "128.49725106902872"
        ],
        [
         "33",
         "RV Uthappa",
         "3778",
         "2960",
         "7.658108108108109",
         "127.63513513513513"
        ],
        [
         "34",
         "S Badrinath",
         "1441",
         "1245",
         "6.944578313253012",
         "115.74297188755021"
        ],
        [
         "35",
         "S Dhawan",
         "3561",
         "3005",
         "7.110149750415974",
         "118.50249584026622"
        ],
        [
         "36",
         "SC Ganguly",
         "1349",
         "1326",
         "6.104072398190045",
         "101.73453996983409"
        ],
        [
         "37",
         "SE Marsh",
         "2489",
         "1913",
         "7.806586513329849",
         "130.10977522216413"
        ],
        [
         "38",
         "SK Raina",
         "4548",
         "3369",
         "8.09973285841496",
         "134.99554764024933"
        ],
        [
         "39",
         "SPD Smith",
         "1713",
         "1333",
         "7.7104276069017255",
         "128.50712678169543"
        ],
        [
         "40",
         "SR Tendulkar",
         "2334",
         "2044",
         "6.851272015655577",
         "114.18786692759295"
        ],
        [
         "41",
         "SR Watson",
         "2628",
         "1949",
         "8.090302719343253",
         "134.83837865572087"
        ],
        [
         "42",
         "SS Tiwary",
         "1276",
         "1111",
         "6.891089108910892",
         "114.85148514851484"
        ],
        [
         "43",
         "SV Samson",
         "1426",
         "1165",
         "7.344206008583692",
         "122.40343347639484"
        ],
        [
         "44",
         "TM Dilshan",
         "1153",
         "1047",
         "6.607449856733524",
         "110.12416427889207"
        ],
        [
         "45",
         "V Kohli",
         "4423",
         "3494",
         "7.595306239267315",
         "126.58843732112193"
        ],
        [
         "46",
         "V Sehwag",
         "2728",
         "1833",
         "8.92962356792144",
         "148.82705946535734"
        ],
        [
         "47",
         "WP Saha",
         "1557",
         "1219",
         "7.663658736669402",
         "127.72764561115667"
        ],
        [
         "48",
         "YK Pathan",
         "2922",
         "2076",
         "8.445086705202312",
         "140.75144508670522"
        ],
        [
         "49",
         "Yuvraj Singh",
         "2591",
         "2050",
         "7.583414634146341",
         "126.39024390243902"
        ]
       ],
       "shape": {
        "columns": 5,
        "rows": 50
       }
      },
      "text/html": [
       "<div>\n",
       "<style scoped>\n",
       "    .dataframe tbody tr th:only-of-type {\n",
       "        vertical-align: middle;\n",
       "    }\n",
       "\n",
       "    .dataframe tbody tr th {\n",
       "        vertical-align: top;\n",
       "    }\n",
       "\n",
       "    .dataframe thead th {\n",
       "        text-align: right;\n",
       "    }\n",
       "</style>\n",
       "<table border=\"1\" class=\"dataframe\">\n",
       "  <thead>\n",
       "    <tr style=\"text-align: right;\">\n",
       "      <th></th>\n",
       "      <th>batsman</th>\n",
       "      <th>batsman_runs</th>\n",
       "      <th>ball</th>\n",
       "      <th>batsman_avg</th>\n",
       "      <th>batsman_sr</th>\n",
       "    </tr>\n",
       "  </thead>\n",
       "  <tbody>\n",
       "    <tr>\n",
       "      <th>0</th>\n",
       "      <td>AB de Villiers</td>\n",
       "      <td>3486</td>\n",
       "      <td>2402</td>\n",
       "      <td>8.707744</td>\n",
       "      <td>145.129059</td>\n",
       "    </tr>\n",
       "    <tr>\n",
       "      <th>1</th>\n",
       "      <td>AC Gilchrist</td>\n",
       "      <td>2069</td>\n",
       "      <td>1555</td>\n",
       "      <td>7.983280</td>\n",
       "      <td>133.054662</td>\n",
       "    </tr>\n",
       "    <tr>\n",
       "      <th>2</th>\n",
       "      <td>AJ Finch</td>\n",
       "      <td>1604</td>\n",
       "      <td>1270</td>\n",
       "      <td>7.577953</td>\n",
       "      <td>126.299213</td>\n",
       "    </tr>\n",
       "    <tr>\n",
       "      <th>3</th>\n",
       "      <td>AM Rahane</td>\n",
       "      <td>3057</td>\n",
       "      <td>2602</td>\n",
       "      <td>7.049193</td>\n",
       "      <td>117.486549</td>\n",
       "    </tr>\n",
       "    <tr>\n",
       "      <th>4</th>\n",
       "      <td>AT Rayudu</td>\n",
       "      <td>2416</td>\n",
       "      <td>1964</td>\n",
       "      <td>7.380855</td>\n",
       "      <td>123.014257</td>\n",
       "    </tr>\n",
       "    <tr>\n",
       "      <th>5</th>\n",
       "      <td>BB McCullum</td>\n",
       "      <td>2755</td>\n",
       "      <td>2181</td>\n",
       "      <td>7.579092</td>\n",
       "      <td>126.318203</td>\n",
       "    </tr>\n",
       "    <tr>\n",
       "      <th>6</th>\n",
       "      <td>BJ Hodge</td>\n",
       "      <td>1400</td>\n",
       "      <td>1153</td>\n",
       "      <td>7.285343</td>\n",
       "      <td>121.422376</td>\n",
       "    </tr>\n",
       "    <tr>\n",
       "      <th>7</th>\n",
       "      <td>CH Gayle</td>\n",
       "      <td>3651</td>\n",
       "      <td>2532</td>\n",
       "      <td>8.651659</td>\n",
       "      <td>144.194313</td>\n",
       "    </tr>\n",
       "    <tr>\n",
       "      <th>8</th>\n",
       "      <td>DA Miller</td>\n",
       "      <td>1563</td>\n",
       "      <td>1135</td>\n",
       "      <td>8.262555</td>\n",
       "      <td>137.709251</td>\n",
       "    </tr>\n",
       "    <tr>\n",
       "      <th>9</th>\n",
       "      <td>DA Warner</td>\n",
       "      <td>4014</td>\n",
       "      <td>2902</td>\n",
       "      <td>8.299104</td>\n",
       "      <td>138.318401</td>\n",
       "    </tr>\n",
       "    <tr>\n",
       "      <th>10</th>\n",
       "      <td>DJ Bravo</td>\n",
       "      <td>1262</td>\n",
       "      <td>1032</td>\n",
       "      <td>7.337209</td>\n",
       "      <td>122.286822</td>\n",
       "    </tr>\n",
       "    <tr>\n",
       "      <th>11</th>\n",
       "      <td>DJ Hussey</td>\n",
       "      <td>1322</td>\n",
       "      <td>1101</td>\n",
       "      <td>7.204360</td>\n",
       "      <td>120.072661</td>\n",
       "    </tr>\n",
       "    <tr>\n",
       "      <th>12</th>\n",
       "      <td>DPMD Jayawardene</td>\n",
       "      <td>1808</td>\n",
       "      <td>1522</td>\n",
       "      <td>7.127464</td>\n",
       "      <td>118.791064</td>\n",
       "    </tr>\n",
       "    <tr>\n",
       "      <th>13</th>\n",
       "      <td>DR Smith</td>\n",
       "      <td>2385</td>\n",
       "      <td>1803</td>\n",
       "      <td>7.936772</td>\n",
       "      <td>132.279534</td>\n",
       "    </tr>\n",
       "    <tr>\n",
       "      <th>14</th>\n",
       "      <td>F du Plessis</td>\n",
       "      <td>1295</td>\n",
       "      <td>1043</td>\n",
       "      <td>7.449664</td>\n",
       "      <td>124.161074</td>\n",
       "    </tr>\n",
       "    <tr>\n",
       "      <th>15</th>\n",
       "      <td>G Gambhir</td>\n",
       "      <td>4132</td>\n",
       "      <td>3433</td>\n",
       "      <td>7.221672</td>\n",
       "      <td>120.361200</td>\n",
       "    </tr>\n",
       "    <tr>\n",
       "      <th>16</th>\n",
       "      <td>GJ Maxwell</td>\n",
       "      <td>1229</td>\n",
       "      <td>780</td>\n",
       "      <td>9.453846</td>\n",
       "      <td>157.564103</td>\n",
       "    </tr>\n",
       "    <tr>\n",
       "      <th>17</th>\n",
       "      <td>JH Kallis</td>\n",
       "      <td>2427</td>\n",
       "      <td>2291</td>\n",
       "      <td>6.356176</td>\n",
       "      <td>105.936272</td>\n",
       "    </tr>\n",
       "    <tr>\n",
       "      <th>18</th>\n",
       "      <td>JP Duminy</td>\n",
       "      <td>1993</td>\n",
       "      <td>1634</td>\n",
       "      <td>7.318237</td>\n",
       "      <td>121.970624</td>\n",
       "    </tr>\n",
       "    <tr>\n",
       "      <th>19</th>\n",
       "      <td>KA Pollard</td>\n",
       "      <td>2354</td>\n",
       "      <td>1674</td>\n",
       "      <td>8.437276</td>\n",
       "      <td>140.621266</td>\n",
       "    </tr>\n",
       "    <tr>\n",
       "      <th>20</th>\n",
       "      <td>KC Sangakkara</td>\n",
       "      <td>1687</td>\n",
       "      <td>1424</td>\n",
       "      <td>7.108146</td>\n",
       "      <td>118.469101</td>\n",
       "    </tr>\n",
       "    <tr>\n",
       "      <th>21</th>\n",
       "      <td>KD Karthik</td>\n",
       "      <td>2903</td>\n",
       "      <td>2360</td>\n",
       "      <td>7.380508</td>\n",
       "      <td>123.008475</td>\n",
       "    </tr>\n",
       "    <tr>\n",
       "      <th>22</th>\n",
       "      <td>KK Nair</td>\n",
       "      <td>1158</td>\n",
       "      <td>929</td>\n",
       "      <td>7.479010</td>\n",
       "      <td>124.650161</td>\n",
       "    </tr>\n",
       "    <tr>\n",
       "      <th>23</th>\n",
       "      <td>M Vijay</td>\n",
       "      <td>2511</td>\n",
       "      <td>2092</td>\n",
       "      <td>7.201721</td>\n",
       "      <td>120.028681</td>\n",
       "    </tr>\n",
       "    <tr>\n",
       "      <th>24</th>\n",
       "      <td>MEK Hussey</td>\n",
       "      <td>1977</td>\n",
       "      <td>1648</td>\n",
       "      <td>7.197816</td>\n",
       "      <td>119.963592</td>\n",
       "    </tr>\n",
       "    <tr>\n",
       "      <th>25</th>\n",
       "      <td>MK Pandey</td>\n",
       "      <td>2223</td>\n",
       "      <td>1901</td>\n",
       "      <td>7.016307</td>\n",
       "      <td>116.938453</td>\n",
       "    </tr>\n",
       "    <tr>\n",
       "      <th>26</th>\n",
       "      <td>MK Tiwary</td>\n",
       "      <td>1648</td>\n",
       "      <td>1444</td>\n",
       "      <td>6.847645</td>\n",
       "      <td>114.127424</td>\n",
       "    </tr>\n",
       "    <tr>\n",
       "      <th>27</th>\n",
       "      <td>MS Dhoni</td>\n",
       "      <td>3560</td>\n",
       "      <td>2680</td>\n",
       "      <td>7.970149</td>\n",
       "      <td>132.835821</td>\n",
       "    </tr>\n",
       "    <tr>\n",
       "      <th>28</th>\n",
       "      <td>NV Ojha</td>\n",
       "      <td>1553</td>\n",
       "      <td>1356</td>\n",
       "      <td>6.871681</td>\n",
       "      <td>114.528024</td>\n",
       "    </tr>\n",
       "    <tr>\n",
       "      <th>29</th>\n",
       "      <td>PA Patel</td>\n",
       "      <td>2322</td>\n",
       "      <td>2060</td>\n",
       "      <td>6.763107</td>\n",
       "      <td>112.718447</td>\n",
       "    </tr>\n",
       "    <tr>\n",
       "      <th>30</th>\n",
       "      <td>R Dravid</td>\n",
       "      <td>2174</td>\n",
       "      <td>1918</td>\n",
       "      <td>6.800834</td>\n",
       "      <td>113.347237</td>\n",
       "    </tr>\n",
       "    <tr>\n",
       "      <th>31</th>\n",
       "      <td>RA Jadeja</td>\n",
       "      <td>1732</td>\n",
       "      <td>1458</td>\n",
       "      <td>7.127572</td>\n",
       "      <td>118.792867</td>\n",
       "    </tr>\n",
       "    <tr>\n",
       "      <th>32</th>\n",
       "      <td>RG Sharma</td>\n",
       "      <td>4207</td>\n",
       "      <td>3274</td>\n",
       "      <td>7.709835</td>\n",
       "      <td>128.497251</td>\n",
       "    </tr>\n",
       "    <tr>\n",
       "      <th>33</th>\n",
       "      <td>RV Uthappa</td>\n",
       "      <td>3778</td>\n",
       "      <td>2960</td>\n",
       "      <td>7.658108</td>\n",
       "      <td>127.635135</td>\n",
       "    </tr>\n",
       "    <tr>\n",
       "      <th>34</th>\n",
       "      <td>S Badrinath</td>\n",
       "      <td>1441</td>\n",
       "      <td>1245</td>\n",
       "      <td>6.944578</td>\n",
       "      <td>115.742972</td>\n",
       "    </tr>\n",
       "    <tr>\n",
       "      <th>35</th>\n",
       "      <td>S Dhawan</td>\n",
       "      <td>3561</td>\n",
       "      <td>3005</td>\n",
       "      <td>7.110150</td>\n",
       "      <td>118.502496</td>\n",
       "    </tr>\n",
       "    <tr>\n",
       "      <th>36</th>\n",
       "      <td>SC Ganguly</td>\n",
       "      <td>1349</td>\n",
       "      <td>1326</td>\n",
       "      <td>6.104072</td>\n",
       "      <td>101.734540</td>\n",
       "    </tr>\n",
       "    <tr>\n",
       "      <th>37</th>\n",
       "      <td>SE Marsh</td>\n",
       "      <td>2489</td>\n",
       "      <td>1913</td>\n",
       "      <td>7.806587</td>\n",
       "      <td>130.109775</td>\n",
       "    </tr>\n",
       "    <tr>\n",
       "      <th>38</th>\n",
       "      <td>SK Raina</td>\n",
       "      <td>4548</td>\n",
       "      <td>3369</td>\n",
       "      <td>8.099733</td>\n",
       "      <td>134.995548</td>\n",
       "    </tr>\n",
       "    <tr>\n",
       "      <th>39</th>\n",
       "      <td>SPD Smith</td>\n",
       "      <td>1713</td>\n",
       "      <td>1333</td>\n",
       "      <td>7.710428</td>\n",
       "      <td>128.507127</td>\n",
       "    </tr>\n",
       "    <tr>\n",
       "      <th>40</th>\n",
       "      <td>SR Tendulkar</td>\n",
       "      <td>2334</td>\n",
       "      <td>2044</td>\n",
       "      <td>6.851272</td>\n",
       "      <td>114.187867</td>\n",
       "    </tr>\n",
       "    <tr>\n",
       "      <th>41</th>\n",
       "      <td>SR Watson</td>\n",
       "      <td>2628</td>\n",
       "      <td>1949</td>\n",
       "      <td>8.090303</td>\n",
       "      <td>134.838379</td>\n",
       "    </tr>\n",
       "    <tr>\n",
       "      <th>42</th>\n",
       "      <td>SS Tiwary</td>\n",
       "      <td>1276</td>\n",
       "      <td>1111</td>\n",
       "      <td>6.891089</td>\n",
       "      <td>114.851485</td>\n",
       "    </tr>\n",
       "    <tr>\n",
       "      <th>43</th>\n",
       "      <td>SV Samson</td>\n",
       "      <td>1426</td>\n",
       "      <td>1165</td>\n",
       "      <td>7.344206</td>\n",
       "      <td>122.403433</td>\n",
       "    </tr>\n",
       "    <tr>\n",
       "      <th>44</th>\n",
       "      <td>TM Dilshan</td>\n",
       "      <td>1153</td>\n",
       "      <td>1047</td>\n",
       "      <td>6.607450</td>\n",
       "      <td>110.124164</td>\n",
       "    </tr>\n",
       "    <tr>\n",
       "      <th>45</th>\n",
       "      <td>V Kohli</td>\n",
       "      <td>4423</td>\n",
       "      <td>3494</td>\n",
       "      <td>7.595306</td>\n",
       "      <td>126.588437</td>\n",
       "    </tr>\n",
       "    <tr>\n",
       "      <th>46</th>\n",
       "      <td>V Sehwag</td>\n",
       "      <td>2728</td>\n",
       "      <td>1833</td>\n",
       "      <td>8.929624</td>\n",
       "      <td>148.827059</td>\n",
       "    </tr>\n",
       "    <tr>\n",
       "      <th>47</th>\n",
       "      <td>WP Saha</td>\n",
       "      <td>1557</td>\n",
       "      <td>1219</td>\n",
       "      <td>7.663659</td>\n",
       "      <td>127.727646</td>\n",
       "    </tr>\n",
       "    <tr>\n",
       "      <th>48</th>\n",
       "      <td>YK Pathan</td>\n",
       "      <td>2922</td>\n",
       "      <td>2076</td>\n",
       "      <td>8.445087</td>\n",
       "      <td>140.751445</td>\n",
       "    </tr>\n",
       "    <tr>\n",
       "      <th>49</th>\n",
       "      <td>Yuvraj Singh</td>\n",
       "      <td>2591</td>\n",
       "      <td>2050</td>\n",
       "      <td>7.583415</td>\n",
       "      <td>126.390244</td>\n",
       "    </tr>\n",
       "  </tbody>\n",
       "</table>\n",
       "</div>"
      ],
      "text/plain": [
       "             batsman  batsman_runs  ball  batsman_avg  batsman_sr\n",
       "0     AB de Villiers          3486  2402     8.707744  145.129059\n",
       "1       AC Gilchrist          2069  1555     7.983280  133.054662\n",
       "2           AJ Finch          1604  1270     7.577953  126.299213\n",
       "3          AM Rahane          3057  2602     7.049193  117.486549\n",
       "4          AT Rayudu          2416  1964     7.380855  123.014257\n",
       "5        BB McCullum          2755  2181     7.579092  126.318203\n",
       "6           BJ Hodge          1400  1153     7.285343  121.422376\n",
       "7           CH Gayle          3651  2532     8.651659  144.194313\n",
       "8          DA Miller          1563  1135     8.262555  137.709251\n",
       "9          DA Warner          4014  2902     8.299104  138.318401\n",
       "10          DJ Bravo          1262  1032     7.337209  122.286822\n",
       "11         DJ Hussey          1322  1101     7.204360  120.072661\n",
       "12  DPMD Jayawardene          1808  1522     7.127464  118.791064\n",
       "13          DR Smith          2385  1803     7.936772  132.279534\n",
       "14      F du Plessis          1295  1043     7.449664  124.161074\n",
       "15         G Gambhir          4132  3433     7.221672  120.361200\n",
       "16        GJ Maxwell          1229   780     9.453846  157.564103\n",
       "17         JH Kallis          2427  2291     6.356176  105.936272\n",
       "18         JP Duminy          1993  1634     7.318237  121.970624\n",
       "19        KA Pollard          2354  1674     8.437276  140.621266\n",
       "20     KC Sangakkara          1687  1424     7.108146  118.469101\n",
       "21        KD Karthik          2903  2360     7.380508  123.008475\n",
       "22           KK Nair          1158   929     7.479010  124.650161\n",
       "23           M Vijay          2511  2092     7.201721  120.028681\n",
       "24        MEK Hussey          1977  1648     7.197816  119.963592\n",
       "25         MK Pandey          2223  1901     7.016307  116.938453\n",
       "26         MK Tiwary          1648  1444     6.847645  114.127424\n",
       "27          MS Dhoni          3560  2680     7.970149  132.835821\n",
       "28           NV Ojha          1553  1356     6.871681  114.528024\n",
       "29          PA Patel          2322  2060     6.763107  112.718447\n",
       "30          R Dravid          2174  1918     6.800834  113.347237\n",
       "31         RA Jadeja          1732  1458     7.127572  118.792867\n",
       "32         RG Sharma          4207  3274     7.709835  128.497251\n",
       "33        RV Uthappa          3778  2960     7.658108  127.635135\n",
       "34       S Badrinath          1441  1245     6.944578  115.742972\n",
       "35          S Dhawan          3561  3005     7.110150  118.502496\n",
       "36        SC Ganguly          1349  1326     6.104072  101.734540\n",
       "37          SE Marsh          2489  1913     7.806587  130.109775\n",
       "38          SK Raina          4548  3369     8.099733  134.995548\n",
       "39         SPD Smith          1713  1333     7.710428  128.507127\n",
       "40      SR Tendulkar          2334  2044     6.851272  114.187867\n",
       "41         SR Watson          2628  1949     8.090303  134.838379\n",
       "42         SS Tiwary          1276  1111     6.891089  114.851485\n",
       "43         SV Samson          1426  1165     7.344206  122.403433\n",
       "44        TM Dilshan          1153  1047     6.607450  110.124164\n",
       "45           V Kohli          4423  3494     7.595306  126.588437\n",
       "46          V Sehwag          2728  1833     8.929624  148.827059\n",
       "47           WP Saha          1557  1219     7.663659  127.727646\n",
       "48         YK Pathan          2922  2076     8.445087  140.751445\n",
       "49      Yuvraj Singh          2591  2050     7.583415  126.390244"
      ]
     },
     "execution_count": 51,
     "metadata": {},
     "output_type": "execute_result"
    }
   ],
   "source": [
    "# Scatter plots are drawn between two continuous variables\n",
    "# Problem: Plot a scatter plot between Batsman Avg (X-axis) and Batsman SR (Y-axis)\n",
    "# for the top 50 batsmen in IPL (all time)\n",
    "\n",
    "# Get top 50 batsmen based on total runs\n",
    "top50 = ipl.groupby('batsman')['batsman_runs'].sum().sort_values(ascending=False).reset_index().head(50)\n",
    "\n",
    "# Filter IPL data for only those top 50 batsmen\n",
    "newipl = ipl[ipl['batsman'].isin(top50['batsman'])]\n",
    "\n",
    "# Aggregate runs and balls faced\n",
    "newipl = newipl.groupby('batsman').agg({'batsman_runs': 'sum', 'ball': 'count'}).reset_index()\n",
    "\n",
    "# Calculate batting average (runs per over faced)\n",
    "newipl['batsman_avg'] = newipl['batsman_runs'] / (newipl['ball'] / 6)\n",
    "\n",
    "# Calculate strike rate\n",
    "newipl['batsman_sr'] = (newipl['batsman_runs'] / newipl['ball']) * 100\n",
    "\n",
    "newipl\n"
   ]
  },
  {
   "cell_type": "code",
   "execution_count": 45,
   "id": "e2d0ae52",
   "metadata": {},
   "outputs": [],
   "source": [
    "# Filter out only dismissals (exclude 'not out' entries like 'retired hurt', 'not out', etc.)\n",
    "dismissals = ipl[ipl['batsman'].isin(top50['batsman']) & ipl['dismissal_kind'].notna()]\n",
    "outs = dismissals.groupby('batsman').size().reset_index(name='outs')\n",
    "\n",
    "# Merge runs and outs\n",
    "newipl = newipl.merge(outs, on='batsman', how='left')\n",
    "newipl['outs'] = newipl['outs'].fillna(1)  # assume at least 1 out if no data\n",
    "\n",
    "# Actual batting average\n",
    "newipl['batsman_avg'] = newipl['batsman_runs'] / newipl['outs']\n"
   ]
  },
  {
   "cell_type": "code",
   "execution_count": 24,
   "id": "28cc7d32",
   "metadata": {},
   "outputs": [
    {
     "data": {
      "application/vnd.plotly.v1+json": {
       "config": {
        "linkText": "Export to plot.ly",
        "plotlyServerURL": "https://plot.ly",
        "showLink": false
       },
       "data": [
        {
         "marker": {
          "color": "lime"
         },
         "mode": "markers",
         "type": "scatter",
         "x": {
          "bdata": "goGBgYGBRECU11BeQzk7QJZ7GmG5pztAv/RLv/TLQEB00UUXXXQ7QM3MzMzMjDtApze96U1vPkCJiIiIiEhEQN7d3d3dXUFALS0tLS2tQ0DtJbSX0F43QD801ofG+jpAAAAAAABAPEAcx3Ecx3E9QKRBGqRBmkBAh2nugr+KP0AUrkfhepQ4QIQiFKEIRTtAq6qqqqrCRECysbGxsbE7QNcOzLUDczhA1tHmfYrLN0D7zkZ9Z6M4QH/pl37plztAJ3ZiJ3YCQ0ADe8fUwN48QOaeRljuaTxAPc/zPM/zQEBixIgRI0Y1QL1T13JwszVAYO+YGtg7PECivIbyGso2QJti1PC3KT9AiT6gOvbWPEBVVVVVVQU+QMdxHMdxfEBAtJfQXkL7OEBXaqVWaiVDQJBxQcYFGUFA4XoUrkchQUD57VJPxm9AQOvq6urq6j5Aa8qasqasPUDtG9a+Ye05QB+D8zE4HzxA0zRN0zSNQUD2obE+NNY7QG7btm3btjhAhA8++OCDPUApXI/C9eg5QA==",
          "dtype": "f8"
         },
         "y": {
          "bdata": "xg+WQCEkYkDxfVHLv6FgQGUymUwmk19AeTidnSNfXUCRPpiU6cBeQM7Ur25dlF9ASTUQNwhbXkAeHXjPNwZiQIGaXS+yNmFAvmGCVzBKYUC0JW1JW5JeQK/BO3umBF5AyOeHzKCyXUD5eITx8YhgQNQxlwhPCl9A5O8X5x0XXkAhDdIgDbJjQLJ68uLre1pAm4MctR5+XkDbpCFq4ZNhQAIXuMAFnl1AqPvy2IrAXkBmL9Q+nClfQKibhufVAV5ANd3Bfqv9XUCKXgqfDzxdQJ3SP7YniFxAoXJ2C7+aYECyHH4jy6FcQMfQdAf7LVxATuFMIDlWXEBSb/tUvrJdQCTsEnvpD2BAinzWDaboX0AJuPXZjO9cQHIUUOQooF1AtALvswJvWUBlo1NHg0NgQGOPuYbb32BA2MnxYToQYEDAgAEDBoxcQIp/ef/T2mBAqXmQu362XECOzqTa0ZleQBBLu07yh1tAu30C9ailX0DTcWlFd5piQLy/5b6R7l9AcQSR1guYYUAZnI/B+ZhfQA==",
          "dtype": "f8"
         }
        }
       ],
       "layout": {
        "font": {
         "color": "white"
        },
        "paper_bgcolor": "black",
        "plot_bgcolor": "black",
        "template": {
         "data": {
          "bar": [
           {
            "error_x": {
             "color": "#2a3f5f"
            },
            "error_y": {
             "color": "#2a3f5f"
            },
            "marker": {
             "line": {
              "color": "#E5ECF6",
              "width": 0.5
             },
             "pattern": {
              "fillmode": "overlay",
              "size": 10,
              "solidity": 0.2
             }
            },
            "type": "bar"
           }
          ],
          "barpolar": [
           {
            "marker": {
             "line": {
              "color": "#E5ECF6",
              "width": 0.5
             },
             "pattern": {
              "fillmode": "overlay",
              "size": 10,
              "solidity": 0.2
             }
            },
            "type": "barpolar"
           }
          ],
          "carpet": [
           {
            "aaxis": {
             "endlinecolor": "#2a3f5f",
             "gridcolor": "white",
             "linecolor": "white",
             "minorgridcolor": "white",
             "startlinecolor": "#2a3f5f"
            },
            "baxis": {
             "endlinecolor": "#2a3f5f",
             "gridcolor": "white",
             "linecolor": "white",
             "minorgridcolor": "white",
             "startlinecolor": "#2a3f5f"
            },
            "type": "carpet"
           }
          ],
          "choropleth": [
           {
            "colorbar": {
             "outlinewidth": 0,
             "ticks": ""
            },
            "type": "choropleth"
           }
          ],
          "contour": [
           {
            "colorbar": {
             "outlinewidth": 0,
             "ticks": ""
            },
            "colorscale": [
             [
              0,
              "#0d0887"
             ],
             [
              0.1111111111111111,
              "#46039f"
             ],
             [
              0.2222222222222222,
              "#7201a8"
             ],
             [
              0.3333333333333333,
              "#9c179e"
             ],
             [
              0.4444444444444444,
              "#bd3786"
             ],
             [
              0.5555555555555556,
              "#d8576b"
             ],
             [
              0.6666666666666666,
              "#ed7953"
             ],
             [
              0.7777777777777778,
              "#fb9f3a"
             ],
             [
              0.8888888888888888,
              "#fdca26"
             ],
             [
              1,
              "#f0f921"
             ]
            ],
            "type": "contour"
           }
          ],
          "contourcarpet": [
           {
            "colorbar": {
             "outlinewidth": 0,
             "ticks": ""
            },
            "type": "contourcarpet"
           }
          ],
          "heatmap": [
           {
            "colorbar": {
             "outlinewidth": 0,
             "ticks": ""
            },
            "colorscale": [
             [
              0,
              "#0d0887"
             ],
             [
              0.1111111111111111,
              "#46039f"
             ],
             [
              0.2222222222222222,
              "#7201a8"
             ],
             [
              0.3333333333333333,
              "#9c179e"
             ],
             [
              0.4444444444444444,
              "#bd3786"
             ],
             [
              0.5555555555555556,
              "#d8576b"
             ],
             [
              0.6666666666666666,
              "#ed7953"
             ],
             [
              0.7777777777777778,
              "#fb9f3a"
             ],
             [
              0.8888888888888888,
              "#fdca26"
             ],
             [
              1,
              "#f0f921"
             ]
            ],
            "type": "heatmap"
           }
          ],
          "histogram": [
           {
            "marker": {
             "pattern": {
              "fillmode": "overlay",
              "size": 10,
              "solidity": 0.2
             }
            },
            "type": "histogram"
           }
          ],
          "histogram2d": [
           {
            "colorbar": {
             "outlinewidth": 0,
             "ticks": ""
            },
            "colorscale": [
             [
              0,
              "#0d0887"
             ],
             [
              0.1111111111111111,
              "#46039f"
             ],
             [
              0.2222222222222222,
              "#7201a8"
             ],
             [
              0.3333333333333333,
              "#9c179e"
             ],
             [
              0.4444444444444444,
              "#bd3786"
             ],
             [
              0.5555555555555556,
              "#d8576b"
             ],
             [
              0.6666666666666666,
              "#ed7953"
             ],
             [
              0.7777777777777778,
              "#fb9f3a"
             ],
             [
              0.8888888888888888,
              "#fdca26"
             ],
             [
              1,
              "#f0f921"
             ]
            ],
            "type": "histogram2d"
           }
          ],
          "histogram2dcontour": [
           {
            "colorbar": {
             "outlinewidth": 0,
             "ticks": ""
            },
            "colorscale": [
             [
              0,
              "#0d0887"
             ],
             [
              0.1111111111111111,
              "#46039f"
             ],
             [
              0.2222222222222222,
              "#7201a8"
             ],
             [
              0.3333333333333333,
              "#9c179e"
             ],
             [
              0.4444444444444444,
              "#bd3786"
             ],
             [
              0.5555555555555556,
              "#d8576b"
             ],
             [
              0.6666666666666666,
              "#ed7953"
             ],
             [
              0.7777777777777778,
              "#fb9f3a"
             ],
             [
              0.8888888888888888,
              "#fdca26"
             ],
             [
              1,
              "#f0f921"
             ]
            ],
            "type": "histogram2dcontour"
           }
          ],
          "mesh3d": [
           {
            "colorbar": {
             "outlinewidth": 0,
             "ticks": ""
            },
            "type": "mesh3d"
           }
          ],
          "parcoords": [
           {
            "line": {
             "colorbar": {
              "outlinewidth": 0,
              "ticks": ""
             }
            },
            "type": "parcoords"
           }
          ],
          "pie": [
           {
            "automargin": true,
            "type": "pie"
           }
          ],
          "scatter": [
           {
            "fillpattern": {
             "fillmode": "overlay",
             "size": 10,
             "solidity": 0.2
            },
            "type": "scatter"
           }
          ],
          "scatter3d": [
           {
            "line": {
             "colorbar": {
              "outlinewidth": 0,
              "ticks": ""
             }
            },
            "marker": {
             "colorbar": {
              "outlinewidth": 0,
              "ticks": ""
             }
            },
            "type": "scatter3d"
           }
          ],
          "scattercarpet": [
           {
            "marker": {
             "colorbar": {
              "outlinewidth": 0,
              "ticks": ""
             }
            },
            "type": "scattercarpet"
           }
          ],
          "scattergeo": [
           {
            "marker": {
             "colorbar": {
              "outlinewidth": 0,
              "ticks": ""
             }
            },
            "type": "scattergeo"
           }
          ],
          "scattergl": [
           {
            "marker": {
             "colorbar": {
              "outlinewidth": 0,
              "ticks": ""
             }
            },
            "type": "scattergl"
           }
          ],
          "scattermap": [
           {
            "marker": {
             "colorbar": {
              "outlinewidth": 0,
              "ticks": ""
             }
            },
            "type": "scattermap"
           }
          ],
          "scattermapbox": [
           {
            "marker": {
             "colorbar": {
              "outlinewidth": 0,
              "ticks": ""
             }
            },
            "type": "scattermapbox"
           }
          ],
          "scatterpolar": [
           {
            "marker": {
             "colorbar": {
              "outlinewidth": 0,
              "ticks": ""
             }
            },
            "type": "scatterpolar"
           }
          ],
          "scatterpolargl": [
           {
            "marker": {
             "colorbar": {
              "outlinewidth": 0,
              "ticks": ""
             }
            },
            "type": "scatterpolargl"
           }
          ],
          "scatterternary": [
           {
            "marker": {
             "colorbar": {
              "outlinewidth": 0,
              "ticks": ""
             }
            },
            "type": "scatterternary"
           }
          ],
          "surface": [
           {
            "colorbar": {
             "outlinewidth": 0,
             "ticks": ""
            },
            "colorscale": [
             [
              0,
              "#0d0887"
             ],
             [
              0.1111111111111111,
              "#46039f"
             ],
             [
              0.2222222222222222,
              "#7201a8"
             ],
             [
              0.3333333333333333,
              "#9c179e"
             ],
             [
              0.4444444444444444,
              "#bd3786"
             ],
             [
              0.5555555555555556,
              "#d8576b"
             ],
             [
              0.6666666666666666,
              "#ed7953"
             ],
             [
              0.7777777777777778,
              "#fb9f3a"
             ],
             [
              0.8888888888888888,
              "#fdca26"
             ],
             [
              1,
              "#f0f921"
             ]
            ],
            "type": "surface"
           }
          ],
          "table": [
           {
            "cells": {
             "fill": {
              "color": "#EBF0F8"
             },
             "line": {
              "color": "white"
             }
            },
            "header": {
             "fill": {
              "color": "#C8D4E3"
             },
             "line": {
              "color": "white"
             }
            },
            "type": "table"
           }
          ]
         },
         "layout": {
          "annotationdefaults": {
           "arrowcolor": "#2a3f5f",
           "arrowhead": 0,
           "arrowwidth": 1
          },
          "autotypenumbers": "strict",
          "coloraxis": {
           "colorbar": {
            "outlinewidth": 0,
            "ticks": ""
           }
          },
          "colorscale": {
           "diverging": [
            [
             0,
             "#8e0152"
            ],
            [
             0.1,
             "#c51b7d"
            ],
            [
             0.2,
             "#de77ae"
            ],
            [
             0.3,
             "#f1b6da"
            ],
            [
             0.4,
             "#fde0ef"
            ],
            [
             0.5,
             "#f7f7f7"
            ],
            [
             0.6,
             "#e6f5d0"
            ],
            [
             0.7,
             "#b8e186"
            ],
            [
             0.8,
             "#7fbc41"
            ],
            [
             0.9,
             "#4d9221"
            ],
            [
             1,
             "#276419"
            ]
           ],
           "sequential": [
            [
             0,
             "#0d0887"
            ],
            [
             0.1111111111111111,
             "#46039f"
            ],
            [
             0.2222222222222222,
             "#7201a8"
            ],
            [
             0.3333333333333333,
             "#9c179e"
            ],
            [
             0.4444444444444444,
             "#bd3786"
            ],
            [
             0.5555555555555556,
             "#d8576b"
            ],
            [
             0.6666666666666666,
             "#ed7953"
            ],
            [
             0.7777777777777778,
             "#fb9f3a"
            ],
            [
             0.8888888888888888,
             "#fdca26"
            ],
            [
             1,
             "#f0f921"
            ]
           ],
           "sequentialminus": [
            [
             0,
             "#0d0887"
            ],
            [
             0.1111111111111111,
             "#46039f"
            ],
            [
             0.2222222222222222,
             "#7201a8"
            ],
            [
             0.3333333333333333,
             "#9c179e"
            ],
            [
             0.4444444444444444,
             "#bd3786"
            ],
            [
             0.5555555555555556,
             "#d8576b"
            ],
            [
             0.6666666666666666,
             "#ed7953"
            ],
            [
             0.7777777777777778,
             "#fb9f3a"
            ],
            [
             0.8888888888888888,
             "#fdca26"
            ],
            [
             1,
             "#f0f921"
            ]
           ]
          },
          "colorway": [
           "#636efa",
           "#EF553B",
           "#00cc96",
           "#ab63fa",
           "#FFA15A",
           "#19d3f3",
           "#FF6692",
           "#B6E880",
           "#FF97FF",
           "#FECB52"
          ],
          "font": {
           "color": "#2a3f5f"
          },
          "geo": {
           "bgcolor": "white",
           "lakecolor": "white",
           "landcolor": "#E5ECF6",
           "showlakes": true,
           "showland": true,
           "subunitcolor": "white"
          },
          "hoverlabel": {
           "align": "left"
          },
          "hovermode": "closest",
          "mapbox": {
           "style": "light"
          },
          "paper_bgcolor": "white",
          "plot_bgcolor": "#E5ECF6",
          "polar": {
           "angularaxis": {
            "gridcolor": "white",
            "linecolor": "white",
            "ticks": ""
           },
           "bgcolor": "#E5ECF6",
           "radialaxis": {
            "gridcolor": "white",
            "linecolor": "white",
            "ticks": ""
           }
          },
          "scene": {
           "xaxis": {
            "backgroundcolor": "#E5ECF6",
            "gridcolor": "white",
            "gridwidth": 2,
            "linecolor": "white",
            "showbackground": true,
            "ticks": "",
            "zerolinecolor": "white"
           },
           "yaxis": {
            "backgroundcolor": "#E5ECF6",
            "gridcolor": "white",
            "gridwidth": 2,
            "linecolor": "white",
            "showbackground": true,
            "ticks": "",
            "zerolinecolor": "white"
           },
           "zaxis": {
            "backgroundcolor": "#E5ECF6",
            "gridcolor": "white",
            "gridwidth": 2,
            "linecolor": "white",
            "showbackground": true,
            "ticks": "",
            "zerolinecolor": "white"
           }
          },
          "shapedefaults": {
           "line": {
            "color": "#2a3f5f"
           }
          },
          "ternary": {
           "aaxis": {
            "gridcolor": "white",
            "linecolor": "white",
            "ticks": ""
           },
           "baxis": {
            "gridcolor": "white",
            "linecolor": "white",
            "ticks": ""
           },
           "bgcolor": "#E5ECF6",
           "caxis": {
            "gridcolor": "white",
            "linecolor": "white",
            "ticks": ""
           }
          },
          "title": {
           "x": 0.05
          },
          "xaxis": {
           "automargin": true,
           "gridcolor": "white",
           "linecolor": "white",
           "ticks": "",
           "title": {
            "standoff": 15
           },
           "zerolinecolor": "white",
           "zerolinewidth": 2
          },
          "yaxis": {
           "automargin": true,
           "gridcolor": "white",
           "linecolor": "white",
           "ticks": "",
           "title": {
            "standoff": 15
           },
           "zerolinecolor": "white",
           "zerolinewidth": 2
          }
         }
        },
        "title": {
         "text": "Batsman Average vs Batsman Strike Rate"
        },
        "xaxis": {
         "color": "white",
         "title": {
          "text": "Batsman Average"
         }
        },
        "yaxis": {
         "color": "white",
         "title": {
          "text": "Batsman Strike Rate"
         }
        }
       }
      }
     },
     "metadata": {},
     "output_type": "display_data"
    }
   ],
   "source": [
    "import plotly.graph_objs as go\n",
    "import plotly.offline as pyo\n",
    "\n",
    "trace = go.Scatter(\n",
    "    x=newipl['batsman_avg'],\n",
    "    y=newipl['batsman_sr'],\n",
    "    mode='markers',\n",
    "    marker=dict(color='lime')  # Bright color for visibility on dark\n",
    ")\n",
    "data = [trace]\n",
    "layout = go.Layout(\n",
    "    title='Batsman Average vs Batsman Strike Rate',\n",
    "    xaxis=dict(title='Batsman Average', color='white'),\n",
    "    yaxis=dict(title='Batsman Strike Rate', color='white'),\n",
    "    plot_bgcolor='black',\n",
    "    paper_bgcolor='black',\n",
    "    font=dict(color='white')\n",
    ")\n",
    "\n",
    "fig = go.Figure(data=trace, layout=layout)\n",
    "pyo.iplot(fig, filename='batsman_avg_vs_sr.html')\n"
   ]
  },
  {
   "cell_type": "markdown",
   "id": "f1a84016",
   "metadata": {},
   "source": [
    "# 2. line chart\n",
    "it's an extension of scatter plot.usually used to show a time series data"
   ]
  },
  {
   "cell_type": "code",
   "execution_count": 29,
   "id": "703c4d04",
   "metadata": {},
   "outputs": [
    {
     "data": {
      "application/vnd.microsoft.datawrangler.viewer.v0+json": {
       "columns": [
        {
         "name": "index",
         "rawType": "int64",
         "type": "integer"
        },
        {
         "name": "season",
         "rawType": "int64",
         "type": "integer"
        },
        {
         "name": "batsman_runs",
         "rawType": "int64",
         "type": "integer"
        }
       ],
       "ref": "91d5f15c-f3c0-4bee-8599-e7ab36932cda",
       "rows": [
        [
         "0",
         "2008",
         "95"
        ],
        [
         "1",
         "2009",
         "465"
        ],
        [
         "2",
         "2010",
         "111"
        ],
        [
         "3",
         "2011",
         "312"
        ],
        [
         "4",
         "2012",
         "319"
        ],
        [
         "5",
         "2013",
         "373"
        ],
        [
         "6",
         "2014",
         "395"
        ],
        [
         "7",
         "2015",
         "513"
        ],
        [
         "8",
         "2016",
         "687"
        ],
        [
         "9",
         "2017",
         "216"
        ]
       ],
       "shape": {
        "columns": 2,
        "rows": 10
       }
      },
      "text/html": [
       "<div>\n",
       "<style scoped>\n",
       "    .dataframe tbody tr th:only-of-type {\n",
       "        vertical-align: middle;\n",
       "    }\n",
       "\n",
       "    .dataframe tbody tr th {\n",
       "        vertical-align: top;\n",
       "    }\n",
       "\n",
       "    .dataframe thead th {\n",
       "        text-align: right;\n",
       "    }\n",
       "</style>\n",
       "<table border=\"1\" class=\"dataframe\">\n",
       "  <thead>\n",
       "    <tr style=\"text-align: right;\">\n",
       "      <th></th>\n",
       "      <th>season</th>\n",
       "      <th>batsman_runs</th>\n",
       "    </tr>\n",
       "  </thead>\n",
       "  <tbody>\n",
       "    <tr>\n",
       "      <th>0</th>\n",
       "      <td>2008</td>\n",
       "      <td>95</td>\n",
       "    </tr>\n",
       "    <tr>\n",
       "      <th>1</th>\n",
       "      <td>2009</td>\n",
       "      <td>465</td>\n",
       "    </tr>\n",
       "    <tr>\n",
       "      <th>2</th>\n",
       "      <td>2010</td>\n",
       "      <td>111</td>\n",
       "    </tr>\n",
       "    <tr>\n",
       "      <th>3</th>\n",
       "      <td>2011</td>\n",
       "      <td>312</td>\n",
       "    </tr>\n",
       "    <tr>\n",
       "      <th>4</th>\n",
       "      <td>2012</td>\n",
       "      <td>319</td>\n",
       "    </tr>\n",
       "    <tr>\n",
       "      <th>5</th>\n",
       "      <td>2013</td>\n",
       "      <td>373</td>\n",
       "    </tr>\n",
       "    <tr>\n",
       "      <th>6</th>\n",
       "      <td>2014</td>\n",
       "      <td>395</td>\n",
       "    </tr>\n",
       "    <tr>\n",
       "      <th>7</th>\n",
       "      <td>2015</td>\n",
       "      <td>513</td>\n",
       "    </tr>\n",
       "    <tr>\n",
       "      <th>8</th>\n",
       "      <td>2016</td>\n",
       "      <td>687</td>\n",
       "    </tr>\n",
       "    <tr>\n",
       "      <th>9</th>\n",
       "      <td>2017</td>\n",
       "      <td>216</td>\n",
       "    </tr>\n",
       "  </tbody>\n",
       "</table>\n",
       "</div>"
      ],
      "text/plain": [
       "   season  batsman_runs\n",
       "0    2008            95\n",
       "1    2009           465\n",
       "2    2010           111\n",
       "3    2011           312\n",
       "4    2012           319\n",
       "5    2013           373\n",
       "6    2014           395\n",
       "7    2015           513\n",
       "8    2016           687\n",
       "9    2017           216"
      ]
     },
     "execution_count": 29,
     "metadata": {},
     "output_type": "execute_result"
    }
   ],
   "source": [
    "# year by year batsman performance\n",
    "single = ipl[ipl['batsman']=='V Kohli']\n",
    "performance = single.groupby(['season'])['batsman_runs'].sum().reset_index()\n",
    "performance\n",
    "\n",
    "single1 = ipl[ipl['batsman']=='AB de Villiers']\n",
    "performance1 = single1.groupby(['season'])['batsman_runs'].sum().reset_index()  \n",
    "performance1"
   ]
  },
  {
   "cell_type": "code",
   "execution_count": 30,
   "id": "d5712183",
   "metadata": {},
   "outputs": [
    {
     "data": {
      "application/vnd.plotly.v1+json": {
       "config": {
        "linkText": "Export to plot.ly",
        "plotlyServerURL": "https://plot.ly",
        "showLink": false
       },
       "data": [
        {
         "marker": {
          "color": "#25cbe2"
         },
         "mode": "lines+markers",
         "name": "V Kohli",
         "type": "scatter",
         "x": {
          "bdata": "2AfZB9oH2wfcB90H3gffB+AH4Qc=",
          "dtype": "i2"
         },
         "y": {
          "bdata": "pQD2ADMBLQJsAX8CZwH5Ac0DNAE=",
          "dtype": "i2"
         }
        },
        {
         "marker": {
          "color": "#2d7bf0"
         },
         "mode": "lines+markers",
         "name": "AB de Villiers",
         "type": "scatter",
         "x": {
          "bdata": "2AfZB9oH2wfcB90H3gffB+AH4Qc=",
          "dtype": "i2"
         },
         "y": {
          "bdata": "XwDRAW8AOAE/AXUBiwEBAq8C2AA=",
          "dtype": "i2"
         }
        }
       ],
       "layout": {
        "font": {
         "color": "white"
        },
        "paper_bgcolor": "black",
        "plot_bgcolor": "black",
        "template": {
         "data": {
          "bar": [
           {
            "error_x": {
             "color": "#2a3f5f"
            },
            "error_y": {
             "color": "#2a3f5f"
            },
            "marker": {
             "line": {
              "color": "#E5ECF6",
              "width": 0.5
             },
             "pattern": {
              "fillmode": "overlay",
              "size": 10,
              "solidity": 0.2
             }
            },
            "type": "bar"
           }
          ],
          "barpolar": [
           {
            "marker": {
             "line": {
              "color": "#E5ECF6",
              "width": 0.5
             },
             "pattern": {
              "fillmode": "overlay",
              "size": 10,
              "solidity": 0.2
             }
            },
            "type": "barpolar"
           }
          ],
          "carpet": [
           {
            "aaxis": {
             "endlinecolor": "#2a3f5f",
             "gridcolor": "white",
             "linecolor": "white",
             "minorgridcolor": "white",
             "startlinecolor": "#2a3f5f"
            },
            "baxis": {
             "endlinecolor": "#2a3f5f",
             "gridcolor": "white",
             "linecolor": "white",
             "minorgridcolor": "white",
             "startlinecolor": "#2a3f5f"
            },
            "type": "carpet"
           }
          ],
          "choropleth": [
           {
            "colorbar": {
             "outlinewidth": 0,
             "ticks": ""
            },
            "type": "choropleth"
           }
          ],
          "contour": [
           {
            "colorbar": {
             "outlinewidth": 0,
             "ticks": ""
            },
            "colorscale": [
             [
              0,
              "#0d0887"
             ],
             [
              0.1111111111111111,
              "#46039f"
             ],
             [
              0.2222222222222222,
              "#7201a8"
             ],
             [
              0.3333333333333333,
              "#9c179e"
             ],
             [
              0.4444444444444444,
              "#bd3786"
             ],
             [
              0.5555555555555556,
              "#d8576b"
             ],
             [
              0.6666666666666666,
              "#ed7953"
             ],
             [
              0.7777777777777778,
              "#fb9f3a"
             ],
             [
              0.8888888888888888,
              "#fdca26"
             ],
             [
              1,
              "#f0f921"
             ]
            ],
            "type": "contour"
           }
          ],
          "contourcarpet": [
           {
            "colorbar": {
             "outlinewidth": 0,
             "ticks": ""
            },
            "type": "contourcarpet"
           }
          ],
          "heatmap": [
           {
            "colorbar": {
             "outlinewidth": 0,
             "ticks": ""
            },
            "colorscale": [
             [
              0,
              "#0d0887"
             ],
             [
              0.1111111111111111,
              "#46039f"
             ],
             [
              0.2222222222222222,
              "#7201a8"
             ],
             [
              0.3333333333333333,
              "#9c179e"
             ],
             [
              0.4444444444444444,
              "#bd3786"
             ],
             [
              0.5555555555555556,
              "#d8576b"
             ],
             [
              0.6666666666666666,
              "#ed7953"
             ],
             [
              0.7777777777777778,
              "#fb9f3a"
             ],
             [
              0.8888888888888888,
              "#fdca26"
             ],
             [
              1,
              "#f0f921"
             ]
            ],
            "type": "heatmap"
           }
          ],
          "histogram": [
           {
            "marker": {
             "pattern": {
              "fillmode": "overlay",
              "size": 10,
              "solidity": 0.2
             }
            },
            "type": "histogram"
           }
          ],
          "histogram2d": [
           {
            "colorbar": {
             "outlinewidth": 0,
             "ticks": ""
            },
            "colorscale": [
             [
              0,
              "#0d0887"
             ],
             [
              0.1111111111111111,
              "#46039f"
             ],
             [
              0.2222222222222222,
              "#7201a8"
             ],
             [
              0.3333333333333333,
              "#9c179e"
             ],
             [
              0.4444444444444444,
              "#bd3786"
             ],
             [
              0.5555555555555556,
              "#d8576b"
             ],
             [
              0.6666666666666666,
              "#ed7953"
             ],
             [
              0.7777777777777778,
              "#fb9f3a"
             ],
             [
              0.8888888888888888,
              "#fdca26"
             ],
             [
              1,
              "#f0f921"
             ]
            ],
            "type": "histogram2d"
           }
          ],
          "histogram2dcontour": [
           {
            "colorbar": {
             "outlinewidth": 0,
             "ticks": ""
            },
            "colorscale": [
             [
              0,
              "#0d0887"
             ],
             [
              0.1111111111111111,
              "#46039f"
             ],
             [
              0.2222222222222222,
              "#7201a8"
             ],
             [
              0.3333333333333333,
              "#9c179e"
             ],
             [
              0.4444444444444444,
              "#bd3786"
             ],
             [
              0.5555555555555556,
              "#d8576b"
             ],
             [
              0.6666666666666666,
              "#ed7953"
             ],
             [
              0.7777777777777778,
              "#fb9f3a"
             ],
             [
              0.8888888888888888,
              "#fdca26"
             ],
             [
              1,
              "#f0f921"
             ]
            ],
            "type": "histogram2dcontour"
           }
          ],
          "mesh3d": [
           {
            "colorbar": {
             "outlinewidth": 0,
             "ticks": ""
            },
            "type": "mesh3d"
           }
          ],
          "parcoords": [
           {
            "line": {
             "colorbar": {
              "outlinewidth": 0,
              "ticks": ""
             }
            },
            "type": "parcoords"
           }
          ],
          "pie": [
           {
            "automargin": true,
            "type": "pie"
           }
          ],
          "scatter": [
           {
            "fillpattern": {
             "fillmode": "overlay",
             "size": 10,
             "solidity": 0.2
            },
            "type": "scatter"
           }
          ],
          "scatter3d": [
           {
            "line": {
             "colorbar": {
              "outlinewidth": 0,
              "ticks": ""
             }
            },
            "marker": {
             "colorbar": {
              "outlinewidth": 0,
              "ticks": ""
             }
            },
            "type": "scatter3d"
           }
          ],
          "scattercarpet": [
           {
            "marker": {
             "colorbar": {
              "outlinewidth": 0,
              "ticks": ""
             }
            },
            "type": "scattercarpet"
           }
          ],
          "scattergeo": [
           {
            "marker": {
             "colorbar": {
              "outlinewidth": 0,
              "ticks": ""
             }
            },
            "type": "scattergeo"
           }
          ],
          "scattergl": [
           {
            "marker": {
             "colorbar": {
              "outlinewidth": 0,
              "ticks": ""
             }
            },
            "type": "scattergl"
           }
          ],
          "scattermap": [
           {
            "marker": {
             "colorbar": {
              "outlinewidth": 0,
              "ticks": ""
             }
            },
            "type": "scattermap"
           }
          ],
          "scattermapbox": [
           {
            "marker": {
             "colorbar": {
              "outlinewidth": 0,
              "ticks": ""
             }
            },
            "type": "scattermapbox"
           }
          ],
          "scatterpolar": [
           {
            "marker": {
             "colorbar": {
              "outlinewidth": 0,
              "ticks": ""
             }
            },
            "type": "scatterpolar"
           }
          ],
          "scatterpolargl": [
           {
            "marker": {
             "colorbar": {
              "outlinewidth": 0,
              "ticks": ""
             }
            },
            "type": "scatterpolargl"
           }
          ],
          "scatterternary": [
           {
            "marker": {
             "colorbar": {
              "outlinewidth": 0,
              "ticks": ""
             }
            },
            "type": "scatterternary"
           }
          ],
          "surface": [
           {
            "colorbar": {
             "outlinewidth": 0,
             "ticks": ""
            },
            "colorscale": [
             [
              0,
              "#0d0887"
             ],
             [
              0.1111111111111111,
              "#46039f"
             ],
             [
              0.2222222222222222,
              "#7201a8"
             ],
             [
              0.3333333333333333,
              "#9c179e"
             ],
             [
              0.4444444444444444,
              "#bd3786"
             ],
             [
              0.5555555555555556,
              "#d8576b"
             ],
             [
              0.6666666666666666,
              "#ed7953"
             ],
             [
              0.7777777777777778,
              "#fb9f3a"
             ],
             [
              0.8888888888888888,
              "#fdca26"
             ],
             [
              1,
              "#f0f921"
             ]
            ],
            "type": "surface"
           }
          ],
          "table": [
           {
            "cells": {
             "fill": {
              "color": "#EBF0F8"
             },
             "line": {
              "color": "white"
             }
            },
            "header": {
             "fill": {
              "color": "#C8D4E3"
             },
             "line": {
              "color": "white"
             }
            },
            "type": "table"
           }
          ]
         },
         "layout": {
          "annotationdefaults": {
           "arrowcolor": "#2a3f5f",
           "arrowhead": 0,
           "arrowwidth": 1
          },
          "autotypenumbers": "strict",
          "coloraxis": {
           "colorbar": {
            "outlinewidth": 0,
            "ticks": ""
           }
          },
          "colorscale": {
           "diverging": [
            [
             0,
             "#8e0152"
            ],
            [
             0.1,
             "#c51b7d"
            ],
            [
             0.2,
             "#de77ae"
            ],
            [
             0.3,
             "#f1b6da"
            ],
            [
             0.4,
             "#fde0ef"
            ],
            [
             0.5,
             "#f7f7f7"
            ],
            [
             0.6,
             "#e6f5d0"
            ],
            [
             0.7,
             "#b8e186"
            ],
            [
             0.8,
             "#7fbc41"
            ],
            [
             0.9,
             "#4d9221"
            ],
            [
             1,
             "#276419"
            ]
           ],
           "sequential": [
            [
             0,
             "#0d0887"
            ],
            [
             0.1111111111111111,
             "#46039f"
            ],
            [
             0.2222222222222222,
             "#7201a8"
            ],
            [
             0.3333333333333333,
             "#9c179e"
            ],
            [
             0.4444444444444444,
             "#bd3786"
            ],
            [
             0.5555555555555556,
             "#d8576b"
            ],
            [
             0.6666666666666666,
             "#ed7953"
            ],
            [
             0.7777777777777778,
             "#fb9f3a"
            ],
            [
             0.8888888888888888,
             "#fdca26"
            ],
            [
             1,
             "#f0f921"
            ]
           ],
           "sequentialminus": [
            [
             0,
             "#0d0887"
            ],
            [
             0.1111111111111111,
             "#46039f"
            ],
            [
             0.2222222222222222,
             "#7201a8"
            ],
            [
             0.3333333333333333,
             "#9c179e"
            ],
            [
             0.4444444444444444,
             "#bd3786"
            ],
            [
             0.5555555555555556,
             "#d8576b"
            ],
            [
             0.6666666666666666,
             "#ed7953"
            ],
            [
             0.7777777777777778,
             "#fb9f3a"
            ],
            [
             0.8888888888888888,
             "#fdca26"
            ],
            [
             1,
             "#f0f921"
            ]
           ]
          },
          "colorway": [
           "#636efa",
           "#EF553B",
           "#00cc96",
           "#ab63fa",
           "#FFA15A",
           "#19d3f3",
           "#FF6692",
           "#B6E880",
           "#FF97FF",
           "#FECB52"
          ],
          "font": {
           "color": "#2a3f5f"
          },
          "geo": {
           "bgcolor": "white",
           "lakecolor": "white",
           "landcolor": "#E5ECF6",
           "showlakes": true,
           "showland": true,
           "subunitcolor": "white"
          },
          "hoverlabel": {
           "align": "left"
          },
          "hovermode": "closest",
          "mapbox": {
           "style": "light"
          },
          "paper_bgcolor": "white",
          "plot_bgcolor": "#E5ECF6",
          "polar": {
           "angularaxis": {
            "gridcolor": "white",
            "linecolor": "white",
            "ticks": ""
           },
           "bgcolor": "#E5ECF6",
           "radialaxis": {
            "gridcolor": "white",
            "linecolor": "white",
            "ticks": ""
           }
          },
          "scene": {
           "xaxis": {
            "backgroundcolor": "#E5ECF6",
            "gridcolor": "white",
            "gridwidth": 2,
            "linecolor": "white",
            "showbackground": true,
            "ticks": "",
            "zerolinecolor": "white"
           },
           "yaxis": {
            "backgroundcolor": "#E5ECF6",
            "gridcolor": "white",
            "gridwidth": 2,
            "linecolor": "white",
            "showbackground": true,
            "ticks": "",
            "zerolinecolor": "white"
           },
           "zaxis": {
            "backgroundcolor": "#E5ECF6",
            "gridcolor": "white",
            "gridwidth": 2,
            "linecolor": "white",
            "showbackground": true,
            "ticks": "",
            "zerolinecolor": "white"
           }
          },
          "shapedefaults": {
           "line": {
            "color": "#2a3f5f"
           }
          },
          "ternary": {
           "aaxis": {
            "gridcolor": "white",
            "linecolor": "white",
            "ticks": ""
           },
           "baxis": {
            "gridcolor": "white",
            "linecolor": "white",
            "ticks": ""
           },
           "bgcolor": "#E5ECF6",
           "caxis": {
            "gridcolor": "white",
            "linecolor": "white",
            "ticks": ""
           }
          },
          "title": {
           "x": 0.05
          },
          "xaxis": {
           "automargin": true,
           "gridcolor": "white",
           "linecolor": "white",
           "ticks": "",
           "title": {
            "standoff": 15
           },
           "zerolinecolor": "white",
           "zerolinewidth": 2
          },
          "yaxis": {
           "automargin": true,
           "gridcolor": "white",
           "linecolor": "white",
           "ticks": "",
           "title": {
            "standoff": 15
           },
           "zerolinecolor": "white",
           "zerolinewidth": 2
          }
         }
        },
        "title": {
         "text": "V Kohli Performance in IPL"
        },
        "xaxis": {
         "color": "white",
         "title": {
          "text": "Season"
         }
        },
        "yaxis": {
         "color": "white",
         "title": {
          "text": "Runs Scored"
         }
        }
       }
      }
     },
     "metadata": {},
     "output_type": "display_data"
    }
   ],
   "source": [
    "import plotly.graph_objs as go\n",
    "import plotly.offline as pyo\n",
    "\n",
    "# Create the trace\n",
    "trace = go.Scatter(\n",
    "    x=performance['season'],\n",
    "    y=performance['batsman_runs'],\n",
    "    mode='lines+markers',\n",
    "    name='V Kohli',\n",
    "    marker={'color': '#25cbe2'}\n",
    ")\n",
    "\n",
    "# Create the second trace for AB de Villiers\n",
    "trace1 = go.Scatter(\n",
    "    x=performance1['season'],\n",
    "    y=performance1['batsman_runs'],\n",
    "    mode='lines+markers',\n",
    "    name='AB de Villiers',\n",
    "    marker={'color': \"#2d7bf0\"}\n",
    ")\n",
    "# Combine the traces into a data list\n",
    "\n",
    "data = [trace,trace1]\n",
    "\n",
    "# Define the layout with curly braces\n",
    "layout = go.Layout(\n",
    "    title='V Kohli Performance in IPL',\n",
    "    xaxis={'title': 'Season', 'color': 'white'},\n",
    "    yaxis={'title': 'Runs Scored', 'color': 'white'},\n",
    "    plot_bgcolor='black',\n",
    "    paper_bgcolor='black',\n",
    "    font={'color': 'white'}\n",
    ")\n",
    "\n",
    "# Build and show the figure\n",
    "fig = go.Figure(data=data, layout=layout)\n",
    "pyo.iplot(fig, filename='kohli_performance.html')\n"
   ]
  },
  {
   "cell_type": "code",
   "execution_count": 32,
   "id": "c1e6933e",
   "metadata": {},
   "outputs": [
    {
     "data": {
      "application/vnd.plotly.v1+json": {
       "config": {
        "linkText": "Export to plot.ly",
        "plotlyServerURL": "https://plot.ly",
        "showLink": false
       },
       "data": [
        {
         "mode": "lines+markers",
         "name": "V Kohli",
         "type": "scatter",
         "x": {
          "bdata": "2AfZB9oH2wfcB90H3gffB+AH4Qc=",
          "dtype": "i2"
         },
         "y": {
          "bdata": "pQD2ADMBLQJsAX8CZwH5Ac0DNAE=",
          "dtype": "i2"
         }
        },
        {
         "mode": "lines+markers",
         "name": "AJ Finch",
         "type": "scatter",
         "x": {
          "bdata": "2gfbB9wH3QfeB98H4AfhBw==",
          "dtype": "i2"
         },
         "y": {
          "bdata": "FQAvADcAyAE1ARcAiQEsAQ==",
          "dtype": "i2"
         }
        },
        {
         "mode": "lines+markers",
         "name": "AC Gilchrist",
         "type": "scatter",
         "x": {
          "bdata": "2AfZB9oH2wfcB90H",
          "dtype": "i2"
         },
         "y": {
          "bdata": "tAHvASEBfwGsACYB",
          "dtype": "i2"
         }
        },
        {
         "mode": "lines+markers",
         "name": "AB de Villiers",
         "type": "scatter",
         "x": {
          "bdata": "2AfZB9oH2wfcB90H3gffB+AH4Qc=",
          "dtype": "i2"
         },
         "y": {
          "bdata": "XwDRAW8AOAE/AXUBiwEBAq8C2AA=",
          "dtype": "i2"
         }
        }
       ],
       "layout": {
        "font": {
         "color": "white"
        },
        "paper_bgcolor": "black",
        "plot_bgcolor": "black",
        "template": {
         "data": {
          "bar": [
           {
            "error_x": {
             "color": "#2a3f5f"
            },
            "error_y": {
             "color": "#2a3f5f"
            },
            "marker": {
             "line": {
              "color": "#E5ECF6",
              "width": 0.5
             },
             "pattern": {
              "fillmode": "overlay",
              "size": 10,
              "solidity": 0.2
             }
            },
            "type": "bar"
           }
          ],
          "barpolar": [
           {
            "marker": {
             "line": {
              "color": "#E5ECF6",
              "width": 0.5
             },
             "pattern": {
              "fillmode": "overlay",
              "size": 10,
              "solidity": 0.2
             }
            },
            "type": "barpolar"
           }
          ],
          "carpet": [
           {
            "aaxis": {
             "endlinecolor": "#2a3f5f",
             "gridcolor": "white",
             "linecolor": "white",
             "minorgridcolor": "white",
             "startlinecolor": "#2a3f5f"
            },
            "baxis": {
             "endlinecolor": "#2a3f5f",
             "gridcolor": "white",
             "linecolor": "white",
             "minorgridcolor": "white",
             "startlinecolor": "#2a3f5f"
            },
            "type": "carpet"
           }
          ],
          "choropleth": [
           {
            "colorbar": {
             "outlinewidth": 0,
             "ticks": ""
            },
            "type": "choropleth"
           }
          ],
          "contour": [
           {
            "colorbar": {
             "outlinewidth": 0,
             "ticks": ""
            },
            "colorscale": [
             [
              0,
              "#0d0887"
             ],
             [
              0.1111111111111111,
              "#46039f"
             ],
             [
              0.2222222222222222,
              "#7201a8"
             ],
             [
              0.3333333333333333,
              "#9c179e"
             ],
             [
              0.4444444444444444,
              "#bd3786"
             ],
             [
              0.5555555555555556,
              "#d8576b"
             ],
             [
              0.6666666666666666,
              "#ed7953"
             ],
             [
              0.7777777777777778,
              "#fb9f3a"
             ],
             [
              0.8888888888888888,
              "#fdca26"
             ],
             [
              1,
              "#f0f921"
             ]
            ],
            "type": "contour"
           }
          ],
          "contourcarpet": [
           {
            "colorbar": {
             "outlinewidth": 0,
             "ticks": ""
            },
            "type": "contourcarpet"
           }
          ],
          "heatmap": [
           {
            "colorbar": {
             "outlinewidth": 0,
             "ticks": ""
            },
            "colorscale": [
             [
              0,
              "#0d0887"
             ],
             [
              0.1111111111111111,
              "#46039f"
             ],
             [
              0.2222222222222222,
              "#7201a8"
             ],
             [
              0.3333333333333333,
              "#9c179e"
             ],
             [
              0.4444444444444444,
              "#bd3786"
             ],
             [
              0.5555555555555556,
              "#d8576b"
             ],
             [
              0.6666666666666666,
              "#ed7953"
             ],
             [
              0.7777777777777778,
              "#fb9f3a"
             ],
             [
              0.8888888888888888,
              "#fdca26"
             ],
             [
              1,
              "#f0f921"
             ]
            ],
            "type": "heatmap"
           }
          ],
          "histogram": [
           {
            "marker": {
             "pattern": {
              "fillmode": "overlay",
              "size": 10,
              "solidity": 0.2
             }
            },
            "type": "histogram"
           }
          ],
          "histogram2d": [
           {
            "colorbar": {
             "outlinewidth": 0,
             "ticks": ""
            },
            "colorscale": [
             [
              0,
              "#0d0887"
             ],
             [
              0.1111111111111111,
              "#46039f"
             ],
             [
              0.2222222222222222,
              "#7201a8"
             ],
             [
              0.3333333333333333,
              "#9c179e"
             ],
             [
              0.4444444444444444,
              "#bd3786"
             ],
             [
              0.5555555555555556,
              "#d8576b"
             ],
             [
              0.6666666666666666,
              "#ed7953"
             ],
             [
              0.7777777777777778,
              "#fb9f3a"
             ],
             [
              0.8888888888888888,
              "#fdca26"
             ],
             [
              1,
              "#f0f921"
             ]
            ],
            "type": "histogram2d"
           }
          ],
          "histogram2dcontour": [
           {
            "colorbar": {
             "outlinewidth": 0,
             "ticks": ""
            },
            "colorscale": [
             [
              0,
              "#0d0887"
             ],
             [
              0.1111111111111111,
              "#46039f"
             ],
             [
              0.2222222222222222,
              "#7201a8"
             ],
             [
              0.3333333333333333,
              "#9c179e"
             ],
             [
              0.4444444444444444,
              "#bd3786"
             ],
             [
              0.5555555555555556,
              "#d8576b"
             ],
             [
              0.6666666666666666,
              "#ed7953"
             ],
             [
              0.7777777777777778,
              "#fb9f3a"
             ],
             [
              0.8888888888888888,
              "#fdca26"
             ],
             [
              1,
              "#f0f921"
             ]
            ],
            "type": "histogram2dcontour"
           }
          ],
          "mesh3d": [
           {
            "colorbar": {
             "outlinewidth": 0,
             "ticks": ""
            },
            "type": "mesh3d"
           }
          ],
          "parcoords": [
           {
            "line": {
             "colorbar": {
              "outlinewidth": 0,
              "ticks": ""
             }
            },
            "type": "parcoords"
           }
          ],
          "pie": [
           {
            "automargin": true,
            "type": "pie"
           }
          ],
          "scatter": [
           {
            "fillpattern": {
             "fillmode": "overlay",
             "size": 10,
             "solidity": 0.2
            },
            "type": "scatter"
           }
          ],
          "scatter3d": [
           {
            "line": {
             "colorbar": {
              "outlinewidth": 0,
              "ticks": ""
             }
            },
            "marker": {
             "colorbar": {
              "outlinewidth": 0,
              "ticks": ""
             }
            },
            "type": "scatter3d"
           }
          ],
          "scattercarpet": [
           {
            "marker": {
             "colorbar": {
              "outlinewidth": 0,
              "ticks": ""
             }
            },
            "type": "scattercarpet"
           }
          ],
          "scattergeo": [
           {
            "marker": {
             "colorbar": {
              "outlinewidth": 0,
              "ticks": ""
             }
            },
            "type": "scattergeo"
           }
          ],
          "scattergl": [
           {
            "marker": {
             "colorbar": {
              "outlinewidth": 0,
              "ticks": ""
             }
            },
            "type": "scattergl"
           }
          ],
          "scattermap": [
           {
            "marker": {
             "colorbar": {
              "outlinewidth": 0,
              "ticks": ""
             }
            },
            "type": "scattermap"
           }
          ],
          "scattermapbox": [
           {
            "marker": {
             "colorbar": {
              "outlinewidth": 0,
              "ticks": ""
             }
            },
            "type": "scattermapbox"
           }
          ],
          "scatterpolar": [
           {
            "marker": {
             "colorbar": {
              "outlinewidth": 0,
              "ticks": ""
             }
            },
            "type": "scatterpolar"
           }
          ],
          "scatterpolargl": [
           {
            "marker": {
             "colorbar": {
              "outlinewidth": 0,
              "ticks": ""
             }
            },
            "type": "scatterpolargl"
           }
          ],
          "scatterternary": [
           {
            "marker": {
             "colorbar": {
              "outlinewidth": 0,
              "ticks": ""
             }
            },
            "type": "scatterternary"
           }
          ],
          "surface": [
           {
            "colorbar": {
             "outlinewidth": 0,
             "ticks": ""
            },
            "colorscale": [
             [
              0,
              "#0d0887"
             ],
             [
              0.1111111111111111,
              "#46039f"
             ],
             [
              0.2222222222222222,
              "#7201a8"
             ],
             [
              0.3333333333333333,
              "#9c179e"
             ],
             [
              0.4444444444444444,
              "#bd3786"
             ],
             [
              0.5555555555555556,
              "#d8576b"
             ],
             [
              0.6666666666666666,
              "#ed7953"
             ],
             [
              0.7777777777777778,
              "#fb9f3a"
             ],
             [
              0.8888888888888888,
              "#fdca26"
             ],
             [
              1,
              "#f0f921"
             ]
            ],
            "type": "surface"
           }
          ],
          "table": [
           {
            "cells": {
             "fill": {
              "color": "#EBF0F8"
             },
             "line": {
              "color": "white"
             }
            },
            "header": {
             "fill": {
              "color": "#C8D4E3"
             },
             "line": {
              "color": "white"
             }
            },
            "type": "table"
           }
          ]
         },
         "layout": {
          "annotationdefaults": {
           "arrowcolor": "#2a3f5f",
           "arrowhead": 0,
           "arrowwidth": 1
          },
          "autotypenumbers": "strict",
          "coloraxis": {
           "colorbar": {
            "outlinewidth": 0,
            "ticks": ""
           }
          },
          "colorscale": {
           "diverging": [
            [
             0,
             "#8e0152"
            ],
            [
             0.1,
             "#c51b7d"
            ],
            [
             0.2,
             "#de77ae"
            ],
            [
             0.3,
             "#f1b6da"
            ],
            [
             0.4,
             "#fde0ef"
            ],
            [
             0.5,
             "#f7f7f7"
            ],
            [
             0.6,
             "#e6f5d0"
            ],
            [
             0.7,
             "#b8e186"
            ],
            [
             0.8,
             "#7fbc41"
            ],
            [
             0.9,
             "#4d9221"
            ],
            [
             1,
             "#276419"
            ]
           ],
           "sequential": [
            [
             0,
             "#0d0887"
            ],
            [
             0.1111111111111111,
             "#46039f"
            ],
            [
             0.2222222222222222,
             "#7201a8"
            ],
            [
             0.3333333333333333,
             "#9c179e"
            ],
            [
             0.4444444444444444,
             "#bd3786"
            ],
            [
             0.5555555555555556,
             "#d8576b"
            ],
            [
             0.6666666666666666,
             "#ed7953"
            ],
            [
             0.7777777777777778,
             "#fb9f3a"
            ],
            [
             0.8888888888888888,
             "#fdca26"
            ],
            [
             1,
             "#f0f921"
            ]
           ],
           "sequentialminus": [
            [
             0,
             "#0d0887"
            ],
            [
             0.1111111111111111,
             "#46039f"
            ],
            [
             0.2222222222222222,
             "#7201a8"
            ],
            [
             0.3333333333333333,
             "#9c179e"
            ],
            [
             0.4444444444444444,
             "#bd3786"
            ],
            [
             0.5555555555555556,
             "#d8576b"
            ],
            [
             0.6666666666666666,
             "#ed7953"
            ],
            [
             0.7777777777777778,
             "#fb9f3a"
            ],
            [
             0.8888888888888888,
             "#fdca26"
            ],
            [
             1,
             "#f0f921"
            ]
           ]
          },
          "colorway": [
           "#636efa",
           "#EF553B",
           "#00cc96",
           "#ab63fa",
           "#FFA15A",
           "#19d3f3",
           "#FF6692",
           "#B6E880",
           "#FF97FF",
           "#FECB52"
          ],
          "font": {
           "color": "#2a3f5f"
          },
          "geo": {
           "bgcolor": "white",
           "lakecolor": "white",
           "landcolor": "#E5ECF6",
           "showlakes": true,
           "showland": true,
           "subunitcolor": "white"
          },
          "hoverlabel": {
           "align": "left"
          },
          "hovermode": "closest",
          "mapbox": {
           "style": "light"
          },
          "paper_bgcolor": "white",
          "plot_bgcolor": "#E5ECF6",
          "polar": {
           "angularaxis": {
            "gridcolor": "white",
            "linecolor": "white",
            "ticks": ""
           },
           "bgcolor": "#E5ECF6",
           "radialaxis": {
            "gridcolor": "white",
            "linecolor": "white",
            "ticks": ""
           }
          },
          "scene": {
           "xaxis": {
            "backgroundcolor": "#E5ECF6",
            "gridcolor": "white",
            "gridwidth": 2,
            "linecolor": "white",
            "showbackground": true,
            "ticks": "",
            "zerolinecolor": "white"
           },
           "yaxis": {
            "backgroundcolor": "#E5ECF6",
            "gridcolor": "white",
            "gridwidth": 2,
            "linecolor": "white",
            "showbackground": true,
            "ticks": "",
            "zerolinecolor": "white"
           },
           "zaxis": {
            "backgroundcolor": "#E5ECF6",
            "gridcolor": "white",
            "gridwidth": 2,
            "linecolor": "white",
            "showbackground": true,
            "ticks": "",
            "zerolinecolor": "white"
           }
          },
          "shapedefaults": {
           "line": {
            "color": "#2a3f5f"
           }
          },
          "ternary": {
           "aaxis": {
            "gridcolor": "white",
            "linecolor": "white",
            "ticks": ""
           },
           "baxis": {
            "gridcolor": "white",
            "linecolor": "white",
            "ticks": ""
           },
           "bgcolor": "#E5ECF6",
           "caxis": {
            "gridcolor": "white",
            "linecolor": "white",
            "ticks": ""
           }
          },
          "title": {
           "x": 0.05
          },
          "xaxis": {
           "automargin": true,
           "gridcolor": "white",
           "linecolor": "white",
           "ticks": "",
           "title": {
            "standoff": 15
           },
           "zerolinecolor": "white",
           "zerolinewidth": 2
          },
          "yaxis": {
           "automargin": true,
           "gridcolor": "white",
           "linecolor": "white",
           "ticks": "",
           "title": {
            "standoff": 15
           },
           "zerolinecolor": "white",
           "zerolinewidth": 2
          }
         }
        },
        "title": {
         "text": "Batsman Performance in IPL"
        },
        "xaxis": {
         "color": "white",
         "title": {
          "text": "Season"
         }
        },
        "yaxis": {
         "color": "white",
         "title": {
          "text": "Runs Scored"
         }
        }
       }
      }
     },
     "metadata": {},
     "output_type": "display_data"
    }
   ],
   "source": [
    "# multiple line chart\n",
    "def batsman_chart(*name):\n",
    "    data = []\n",
    "    for n in name:\n",
    "        single = ipl[ipl['batsman'] == n]\n",
    "        performance = single.groupby(['season'])['batsman_runs'].sum().reset_index()\n",
    "        trace = go.Scatter(\n",
    "            x=performance['season'],\n",
    "            y=performance['batsman_runs'],\n",
    "            mode='lines+markers',\n",
    "            name=n\n",
    "        )\n",
    "        data.append(trace)\n",
    "        \n",
    "    layout = go.Layout(\n",
    "        title='Batsman Performance in IPL',\n",
    "        xaxis={'title': 'Season', 'color': 'white'},\n",
    "        yaxis={'title': 'Runs Scored', 'color': 'white'},\n",
    "        plot_bgcolor='black',\n",
    "        paper_bgcolor='black',\n",
    "        font={'color': 'white'}\n",
    "    )\n",
    "    fig = go.Figure(data=data, layout=layout)\n",
    "    pyo.iplot(fig, filename='batsman_performance.html')\n",
    "batsman_chart('V Kohli', 'AJ Finch', 'AC Gilchrist', 'AB de Villiers')\n"
   ]
  },
  {
   "cell_type": "markdown",
   "id": "034f7156",
   "metadata": {},
   "source": [
    "# 3. Bar chart\n",
    "used to show relation between one categorical and 1 numerical data"
   ]
  },
  {
   "cell_type": "code",
   "execution_count": 35,
   "id": "20c620d7",
   "metadata": {},
   "outputs": [
    {
     "data": {
      "application/vnd.microsoft.datawrangler.viewer.v0+json": {
       "columns": [
        {
         "name": "index",
         "rawType": "int64",
         "type": "integer"
        },
        {
         "name": "batsman",
         "rawType": "object",
         "type": "string"
        },
        {
         "name": "batsman_runs",
         "rawType": "int64",
         "type": "integer"
        }
       ],
       "ref": "72b62188-daac-48b0-af42-dfcb40da709f",
       "rows": [
        [
         "8",
         "SK Raina",
         "4548"
        ],
        [
         "9",
         "V Kohli",
         "4423"
        ],
        [
         "5",
         "RG Sharma",
         "4207"
        ],
        [
         "3",
         "G Gambhir",
         "4132"
        ],
        [
         "2",
         "DA Warner",
         "4014"
        ],
        [
         "6",
         "RV Uthappa",
         "3778"
        ],
        [
         "1",
         "CH Gayle",
         "3651"
        ],
        [
         "7",
         "S Dhawan",
         "3561"
        ],
        [
         "4",
         "MS Dhoni",
         "3560"
        ],
        [
         "0",
         "AB de Villiers",
         "3486"
        ]
       ],
       "shape": {
        "columns": 2,
        "rows": 10
       }
      },
      "text/html": [
       "<div>\n",
       "<style scoped>\n",
       "    .dataframe tbody tr th:only-of-type {\n",
       "        vertical-align: middle;\n",
       "    }\n",
       "\n",
       "    .dataframe tbody tr th {\n",
       "        vertical-align: top;\n",
       "    }\n",
       "\n",
       "    .dataframe thead th {\n",
       "        text-align: right;\n",
       "    }\n",
       "</style>\n",
       "<table border=\"1\" class=\"dataframe\">\n",
       "  <thead>\n",
       "    <tr style=\"text-align: right;\">\n",
       "      <th></th>\n",
       "      <th>batsman</th>\n",
       "      <th>batsman_runs</th>\n",
       "    </tr>\n",
       "  </thead>\n",
       "  <tbody>\n",
       "    <tr>\n",
       "      <th>8</th>\n",
       "      <td>SK Raina</td>\n",
       "      <td>4548</td>\n",
       "    </tr>\n",
       "    <tr>\n",
       "      <th>9</th>\n",
       "      <td>V Kohli</td>\n",
       "      <td>4423</td>\n",
       "    </tr>\n",
       "    <tr>\n",
       "      <th>5</th>\n",
       "      <td>RG Sharma</td>\n",
       "      <td>4207</td>\n",
       "    </tr>\n",
       "    <tr>\n",
       "      <th>3</th>\n",
       "      <td>G Gambhir</td>\n",
       "      <td>4132</td>\n",
       "    </tr>\n",
       "    <tr>\n",
       "      <th>2</th>\n",
       "      <td>DA Warner</td>\n",
       "      <td>4014</td>\n",
       "    </tr>\n",
       "    <tr>\n",
       "      <th>6</th>\n",
       "      <td>RV Uthappa</td>\n",
       "      <td>3778</td>\n",
       "    </tr>\n",
       "    <tr>\n",
       "      <th>1</th>\n",
       "      <td>CH Gayle</td>\n",
       "      <td>3651</td>\n",
       "    </tr>\n",
       "    <tr>\n",
       "      <th>7</th>\n",
       "      <td>S Dhawan</td>\n",
       "      <td>3561</td>\n",
       "    </tr>\n",
       "    <tr>\n",
       "      <th>4</th>\n",
       "      <td>MS Dhoni</td>\n",
       "      <td>3560</td>\n",
       "    </tr>\n",
       "    <tr>\n",
       "      <th>0</th>\n",
       "      <td>AB de Villiers</td>\n",
       "      <td>3486</td>\n",
       "    </tr>\n",
       "  </tbody>\n",
       "</table>\n",
       "</div>"
      ],
      "text/plain": [
       "          batsman  batsman_runs\n",
       "8        SK Raina          4548\n",
       "9         V Kohli          4423\n",
       "5       RG Sharma          4207\n",
       "3       G Gambhir          4132\n",
       "2       DA Warner          4014\n",
       "6      RV Uthappa          3778\n",
       "1        CH Gayle          3651\n",
       "7        S Dhawan          3561\n",
       "4        MS Dhoni          3560\n",
       "0  AB de Villiers          3486"
      ]
     },
     "execution_count": 35,
     "metadata": {},
     "output_type": "execute_result"
    }
   ],
   "source": [
    "top10 = ipl.groupby('batsman')['batsman_runs'].sum().sort_values(ascending=False).reset_index().head(10)\n",
    "top10 = ipl[ipl['batsman'].isin(top10['batsman'])]\n",
    "top10_score = top10.groupby('batsman')['batsman_runs'].sum().reset_index()\n",
    "top10_score = top10_score.sort_values(by='batsman_runs', ascending=False)\n",
    "top10_score"
   ]
  },
  {
   "cell_type": "code",
   "execution_count": 36,
   "id": "eee2a163",
   "metadata": {},
   "outputs": [
    {
     "data": {
      "application/vnd.plotly.v1+json": {
       "config": {
        "linkText": "Export to plot.ly",
        "plotlyServerURL": "https://plot.ly",
        "showLink": false
       },
       "data": [
        {
         "marker": {
          "color": "lime",
          "line": {
           "color": "black",
           "width": 1.5
          }
         },
         "text": {
          "bdata": "AAAAAADEsUAAAAAAAEexQAAAAAAAb7BAAAAAAAAksEAAAAAAAFyvQAAAAAAAhK1AAAAAAACGrEAAAAAAANKrQAAAAAAA0KtAAAAAAAA8q0A=",
          "dtype": "f8"
         },
         "type": "bar",
         "x": [
          "SK Raina",
          "V Kohli",
          "RG Sharma",
          "G Gambhir",
          "DA Warner",
          "RV Uthappa",
          "CH Gayle",
          "S Dhawan",
          "MS Dhoni",
          "AB de Villiers"
         ],
         "y": {
          "bdata": "xBFHEW8QJBCuD8IOQw7pDegNng0=",
          "dtype": "i2"
         }
        }
       ],
       "layout": {
        "font": {
         "color": "white"
        },
        "paper_bgcolor": "black",
        "plot_bgcolor": "black",
        "template": {
         "data": {
          "bar": [
           {
            "error_x": {
             "color": "#2a3f5f"
            },
            "error_y": {
             "color": "#2a3f5f"
            },
            "marker": {
             "line": {
              "color": "#E5ECF6",
              "width": 0.5
             },
             "pattern": {
              "fillmode": "overlay",
              "size": 10,
              "solidity": 0.2
             }
            },
            "type": "bar"
           }
          ],
          "barpolar": [
           {
            "marker": {
             "line": {
              "color": "#E5ECF6",
              "width": 0.5
             },
             "pattern": {
              "fillmode": "overlay",
              "size": 10,
              "solidity": 0.2
             }
            },
            "type": "barpolar"
           }
          ],
          "carpet": [
           {
            "aaxis": {
             "endlinecolor": "#2a3f5f",
             "gridcolor": "white",
             "linecolor": "white",
             "minorgridcolor": "white",
             "startlinecolor": "#2a3f5f"
            },
            "baxis": {
             "endlinecolor": "#2a3f5f",
             "gridcolor": "white",
             "linecolor": "white",
             "minorgridcolor": "white",
             "startlinecolor": "#2a3f5f"
            },
            "type": "carpet"
           }
          ],
          "choropleth": [
           {
            "colorbar": {
             "outlinewidth": 0,
             "ticks": ""
            },
            "type": "choropleth"
           }
          ],
          "contour": [
           {
            "colorbar": {
             "outlinewidth": 0,
             "ticks": ""
            },
            "colorscale": [
             [
              0,
              "#0d0887"
             ],
             [
              0.1111111111111111,
              "#46039f"
             ],
             [
              0.2222222222222222,
              "#7201a8"
             ],
             [
              0.3333333333333333,
              "#9c179e"
             ],
             [
              0.4444444444444444,
              "#bd3786"
             ],
             [
              0.5555555555555556,
              "#d8576b"
             ],
             [
              0.6666666666666666,
              "#ed7953"
             ],
             [
              0.7777777777777778,
              "#fb9f3a"
             ],
             [
              0.8888888888888888,
              "#fdca26"
             ],
             [
              1,
              "#f0f921"
             ]
            ],
            "type": "contour"
           }
          ],
          "contourcarpet": [
           {
            "colorbar": {
             "outlinewidth": 0,
             "ticks": ""
            },
            "type": "contourcarpet"
           }
          ],
          "heatmap": [
           {
            "colorbar": {
             "outlinewidth": 0,
             "ticks": ""
            },
            "colorscale": [
             [
              0,
              "#0d0887"
             ],
             [
              0.1111111111111111,
              "#46039f"
             ],
             [
              0.2222222222222222,
              "#7201a8"
             ],
             [
              0.3333333333333333,
              "#9c179e"
             ],
             [
              0.4444444444444444,
              "#bd3786"
             ],
             [
              0.5555555555555556,
              "#d8576b"
             ],
             [
              0.6666666666666666,
              "#ed7953"
             ],
             [
              0.7777777777777778,
              "#fb9f3a"
             ],
             [
              0.8888888888888888,
              "#fdca26"
             ],
             [
              1,
              "#f0f921"
             ]
            ],
            "type": "heatmap"
           }
          ],
          "histogram": [
           {
            "marker": {
             "pattern": {
              "fillmode": "overlay",
              "size": 10,
              "solidity": 0.2
             }
            },
            "type": "histogram"
           }
          ],
          "histogram2d": [
           {
            "colorbar": {
             "outlinewidth": 0,
             "ticks": ""
            },
            "colorscale": [
             [
              0,
              "#0d0887"
             ],
             [
              0.1111111111111111,
              "#46039f"
             ],
             [
              0.2222222222222222,
              "#7201a8"
             ],
             [
              0.3333333333333333,
              "#9c179e"
             ],
             [
              0.4444444444444444,
              "#bd3786"
             ],
             [
              0.5555555555555556,
              "#d8576b"
             ],
             [
              0.6666666666666666,
              "#ed7953"
             ],
             [
              0.7777777777777778,
              "#fb9f3a"
             ],
             [
              0.8888888888888888,
              "#fdca26"
             ],
             [
              1,
              "#f0f921"
             ]
            ],
            "type": "histogram2d"
           }
          ],
          "histogram2dcontour": [
           {
            "colorbar": {
             "outlinewidth": 0,
             "ticks": ""
            },
            "colorscale": [
             [
              0,
              "#0d0887"
             ],
             [
              0.1111111111111111,
              "#46039f"
             ],
             [
              0.2222222222222222,
              "#7201a8"
             ],
             [
              0.3333333333333333,
              "#9c179e"
             ],
             [
              0.4444444444444444,
              "#bd3786"
             ],
             [
              0.5555555555555556,
              "#d8576b"
             ],
             [
              0.6666666666666666,
              "#ed7953"
             ],
             [
              0.7777777777777778,
              "#fb9f3a"
             ],
             [
              0.8888888888888888,
              "#fdca26"
             ],
             [
              1,
              "#f0f921"
             ]
            ],
            "type": "histogram2dcontour"
           }
          ],
          "mesh3d": [
           {
            "colorbar": {
             "outlinewidth": 0,
             "ticks": ""
            },
            "type": "mesh3d"
           }
          ],
          "parcoords": [
           {
            "line": {
             "colorbar": {
              "outlinewidth": 0,
              "ticks": ""
             }
            },
            "type": "parcoords"
           }
          ],
          "pie": [
           {
            "automargin": true,
            "type": "pie"
           }
          ],
          "scatter": [
           {
            "fillpattern": {
             "fillmode": "overlay",
             "size": 10,
             "solidity": 0.2
            },
            "type": "scatter"
           }
          ],
          "scatter3d": [
           {
            "line": {
             "colorbar": {
              "outlinewidth": 0,
              "ticks": ""
             }
            },
            "marker": {
             "colorbar": {
              "outlinewidth": 0,
              "ticks": ""
             }
            },
            "type": "scatter3d"
           }
          ],
          "scattercarpet": [
           {
            "marker": {
             "colorbar": {
              "outlinewidth": 0,
              "ticks": ""
             }
            },
            "type": "scattercarpet"
           }
          ],
          "scattergeo": [
           {
            "marker": {
             "colorbar": {
              "outlinewidth": 0,
              "ticks": ""
             }
            },
            "type": "scattergeo"
           }
          ],
          "scattergl": [
           {
            "marker": {
             "colorbar": {
              "outlinewidth": 0,
              "ticks": ""
             }
            },
            "type": "scattergl"
           }
          ],
          "scattermap": [
           {
            "marker": {
             "colorbar": {
              "outlinewidth": 0,
              "ticks": ""
             }
            },
            "type": "scattermap"
           }
          ],
          "scattermapbox": [
           {
            "marker": {
             "colorbar": {
              "outlinewidth": 0,
              "ticks": ""
             }
            },
            "type": "scattermapbox"
           }
          ],
          "scatterpolar": [
           {
            "marker": {
             "colorbar": {
              "outlinewidth": 0,
              "ticks": ""
             }
            },
            "type": "scatterpolar"
           }
          ],
          "scatterpolargl": [
           {
            "marker": {
             "colorbar": {
              "outlinewidth": 0,
              "ticks": ""
             }
            },
            "type": "scatterpolargl"
           }
          ],
          "scatterternary": [
           {
            "marker": {
             "colorbar": {
              "outlinewidth": 0,
              "ticks": ""
             }
            },
            "type": "scatterternary"
           }
          ],
          "surface": [
           {
            "colorbar": {
             "outlinewidth": 0,
             "ticks": ""
            },
            "colorscale": [
             [
              0,
              "#0d0887"
             ],
             [
              0.1111111111111111,
              "#46039f"
             ],
             [
              0.2222222222222222,
              "#7201a8"
             ],
             [
              0.3333333333333333,
              "#9c179e"
             ],
             [
              0.4444444444444444,
              "#bd3786"
             ],
             [
              0.5555555555555556,
              "#d8576b"
             ],
             [
              0.6666666666666666,
              "#ed7953"
             ],
             [
              0.7777777777777778,
              "#fb9f3a"
             ],
             [
              0.8888888888888888,
              "#fdca26"
             ],
             [
              1,
              "#f0f921"
             ]
            ],
            "type": "surface"
           }
          ],
          "table": [
           {
            "cells": {
             "fill": {
              "color": "#EBF0F8"
             },
             "line": {
              "color": "white"
             }
            },
            "header": {
             "fill": {
              "color": "#C8D4E3"
             },
             "line": {
              "color": "white"
             }
            },
            "type": "table"
           }
          ]
         },
         "layout": {
          "annotationdefaults": {
           "arrowcolor": "#2a3f5f",
           "arrowhead": 0,
           "arrowwidth": 1
          },
          "autotypenumbers": "strict",
          "coloraxis": {
           "colorbar": {
            "outlinewidth": 0,
            "ticks": ""
           }
          },
          "colorscale": {
           "diverging": [
            [
             0,
             "#8e0152"
            ],
            [
             0.1,
             "#c51b7d"
            ],
            [
             0.2,
             "#de77ae"
            ],
            [
             0.3,
             "#f1b6da"
            ],
            [
             0.4,
             "#fde0ef"
            ],
            [
             0.5,
             "#f7f7f7"
            ],
            [
             0.6,
             "#e6f5d0"
            ],
            [
             0.7,
             "#b8e186"
            ],
            [
             0.8,
             "#7fbc41"
            ],
            [
             0.9,
             "#4d9221"
            ],
            [
             1,
             "#276419"
            ]
           ],
           "sequential": [
            [
             0,
             "#0d0887"
            ],
            [
             0.1111111111111111,
             "#46039f"
            ],
            [
             0.2222222222222222,
             "#7201a8"
            ],
            [
             0.3333333333333333,
             "#9c179e"
            ],
            [
             0.4444444444444444,
             "#bd3786"
            ],
            [
             0.5555555555555556,
             "#d8576b"
            ],
            [
             0.6666666666666666,
             "#ed7953"
            ],
            [
             0.7777777777777778,
             "#fb9f3a"
            ],
            [
             0.8888888888888888,
             "#fdca26"
            ],
            [
             1,
             "#f0f921"
            ]
           ],
           "sequentialminus": [
            [
             0,
             "#0d0887"
            ],
            [
             0.1111111111111111,
             "#46039f"
            ],
            [
             0.2222222222222222,
             "#7201a8"
            ],
            [
             0.3333333333333333,
             "#9c179e"
            ],
            [
             0.4444444444444444,
             "#bd3786"
            ],
            [
             0.5555555555555556,
             "#d8576b"
            ],
            [
             0.6666666666666666,
             "#ed7953"
            ],
            [
             0.7777777777777778,
             "#fb9f3a"
            ],
            [
             0.8888888888888888,
             "#fdca26"
            ],
            [
             1,
             "#f0f921"
            ]
           ]
          },
          "colorway": [
           "#636efa",
           "#EF553B",
           "#00cc96",
           "#ab63fa",
           "#FFA15A",
           "#19d3f3",
           "#FF6692",
           "#B6E880",
           "#FF97FF",
           "#FECB52"
          ],
          "font": {
           "color": "#2a3f5f"
          },
          "geo": {
           "bgcolor": "white",
           "lakecolor": "white",
           "landcolor": "#E5ECF6",
           "showlakes": true,
           "showland": true,
           "subunitcolor": "white"
          },
          "hoverlabel": {
           "align": "left"
          },
          "hovermode": "closest",
          "mapbox": {
           "style": "light"
          },
          "paper_bgcolor": "white",
          "plot_bgcolor": "#E5ECF6",
          "polar": {
           "angularaxis": {
            "gridcolor": "white",
            "linecolor": "white",
            "ticks": ""
           },
           "bgcolor": "#E5ECF6",
           "radialaxis": {
            "gridcolor": "white",
            "linecolor": "white",
            "ticks": ""
           }
          },
          "scene": {
           "xaxis": {
            "backgroundcolor": "#E5ECF6",
            "gridcolor": "white",
            "gridwidth": 2,
            "linecolor": "white",
            "showbackground": true,
            "ticks": "",
            "zerolinecolor": "white"
           },
           "yaxis": {
            "backgroundcolor": "#E5ECF6",
            "gridcolor": "white",
            "gridwidth": 2,
            "linecolor": "white",
            "showbackground": true,
            "ticks": "",
            "zerolinecolor": "white"
           },
           "zaxis": {
            "backgroundcolor": "#E5ECF6",
            "gridcolor": "white",
            "gridwidth": 2,
            "linecolor": "white",
            "showbackground": true,
            "ticks": "",
            "zerolinecolor": "white"
           }
          },
          "shapedefaults": {
           "line": {
            "color": "#2a3f5f"
           }
          },
          "ternary": {
           "aaxis": {
            "gridcolor": "white",
            "linecolor": "white",
            "ticks": ""
           },
           "baxis": {
            "gridcolor": "white",
            "linecolor": "white",
            "ticks": ""
           },
           "bgcolor": "#E5ECF6",
           "caxis": {
            "gridcolor": "white",
            "linecolor": "white",
            "ticks": ""
           }
          },
          "title": {
           "x": 0.05
          },
          "xaxis": {
           "automargin": true,
           "gridcolor": "white",
           "linecolor": "white",
           "ticks": "",
           "title": {
            "standoff": 15
           },
           "zerolinecolor": "white",
           "zerolinewidth": 2
          },
          "yaxis": {
           "automargin": true,
           "gridcolor": "white",
           "linecolor": "white",
           "ticks": "",
           "title": {
            "standoff": 15
           },
           "zerolinecolor": "white",
           "zerolinewidth": 2
          }
         }
        },
        "title": {
         "text": "Top 10 Batsmen in IPL"
        },
        "xaxis": {
         "color": "white",
         "title": {
          "text": "Batsman"
         }
        },
        "yaxis": {
         "color": "white",
         "title": {
          "text": "Total Runs Scored"
         }
        }
       }
      }
     },
     "metadata": {},
     "output_type": "display_data"
    }
   ],
   "source": [
    "trace = go.Bar(\n",
    "    x=top10_score['batsman'],\n",
    "    y=top10_score['batsman_runs'],\n",
    "    marker={'color': 'lime', 'line': {'width': 1.5, 'color': 'black'}},\n",
    "    text=top10_score['batsman_runs'],\n",
    ")\n",
    "data = [trace]\n",
    "layout = go.Layout(\n",
    "    title='Top 10 Batsmen in IPL',\n",
    "    xaxis={'title': 'Batsman', 'color': 'white'},\n",
    "    yaxis={'title': 'Total Runs Scored', 'color': 'white'},\n",
    "    plot_bgcolor='black',\n",
    "    paper_bgcolor='black',\n",
    "    font={'color': 'white'}\n",
    ")\n",
    "fig = go.Figure(data=data, layout=layout)\n",
    "pyo.iplot(fig, filename='top10_batsmen.html')"
   ]
  },
  {
   "cell_type": "markdown",
   "id": "c73ddb92",
   "metadata": {},
   "source": [
    "# there are 2 types of bar graph\n",
    "1. nested bar graph\n",
    "2. stacked bar graph\n",
    "3. overlayed bar graph"
   ]
  },
  {
   "cell_type": "code",
   "execution_count": 38,
   "id": "0e95756a",
   "metadata": {},
   "outputs": [
    {
     "data": {
      "application/vnd.microsoft.datawrangler.viewer.v0+json": {
       "columns": [
        {
         "name": "index",
         "rawType": "int64",
         "type": "integer"
        },
        {
         "name": "batsman",
         "rawType": "object",
         "type": "string"
        },
        {
         "name": "inning1_runs",
         "rawType": "int64",
         "type": "integer"
        },
        {
         "name": "inning2_runs",
         "rawType": "int64",
         "type": "integer"
        }
       ],
       "ref": "71f51a8f-1596-4fc7-b4c4-0205a9cfbaa9",
       "rows": [
        [
         "0",
         "AB de Villiers",
         "2128",
         "1345"
        ],
        [
         "1",
         "CH Gayle",
         "2003",
         "1623"
        ],
        [
         "2",
         "DA Warner",
         "2118",
         "1896"
        ],
        [
         "3",
         "G Gambhir",
         "1699",
         "2433"
        ],
        [
         "4",
         "MS Dhoni",
         "2232",
         "1328"
        ],
        [
         "5",
         "RG Sharma",
         "2344",
         "1863"
        ],
        [
         "6",
         "RV Uthappa",
         "1516",
         "2262"
        ],
        [
         "7",
         "S Dhawan",
         "2262",
         "1299"
        ],
        [
         "8",
         "SK Raina",
         "2647",
         "1893"
        ],
        [
         "9",
         "V Kohli",
         "2391",
         "2027"
        ]
       ],
       "shape": {
        "columns": 3,
        "rows": 10
       }
      },
      "text/html": [
       "<div>\n",
       "<style scoped>\n",
       "    .dataframe tbody tr th:only-of-type {\n",
       "        vertical-align: middle;\n",
       "    }\n",
       "\n",
       "    .dataframe tbody tr th {\n",
       "        vertical-align: top;\n",
       "    }\n",
       "\n",
       "    .dataframe thead th {\n",
       "        text-align: right;\n",
       "    }\n",
       "</style>\n",
       "<table border=\"1\" class=\"dataframe\">\n",
       "  <thead>\n",
       "    <tr style=\"text-align: right;\">\n",
       "      <th></th>\n",
       "      <th>batsman</th>\n",
       "      <th>inning1_runs</th>\n",
       "      <th>inning2_runs</th>\n",
       "    </tr>\n",
       "  </thead>\n",
       "  <tbody>\n",
       "    <tr>\n",
       "      <th>0</th>\n",
       "      <td>AB de Villiers</td>\n",
       "      <td>2128</td>\n",
       "      <td>1345</td>\n",
       "    </tr>\n",
       "    <tr>\n",
       "      <th>1</th>\n",
       "      <td>CH Gayle</td>\n",
       "      <td>2003</td>\n",
       "      <td>1623</td>\n",
       "    </tr>\n",
       "    <tr>\n",
       "      <th>2</th>\n",
       "      <td>DA Warner</td>\n",
       "      <td>2118</td>\n",
       "      <td>1896</td>\n",
       "    </tr>\n",
       "    <tr>\n",
       "      <th>3</th>\n",
       "      <td>G Gambhir</td>\n",
       "      <td>1699</td>\n",
       "      <td>2433</td>\n",
       "    </tr>\n",
       "    <tr>\n",
       "      <th>4</th>\n",
       "      <td>MS Dhoni</td>\n",
       "      <td>2232</td>\n",
       "      <td>1328</td>\n",
       "    </tr>\n",
       "    <tr>\n",
       "      <th>5</th>\n",
       "      <td>RG Sharma</td>\n",
       "      <td>2344</td>\n",
       "      <td>1863</td>\n",
       "    </tr>\n",
       "    <tr>\n",
       "      <th>6</th>\n",
       "      <td>RV Uthappa</td>\n",
       "      <td>1516</td>\n",
       "      <td>2262</td>\n",
       "    </tr>\n",
       "    <tr>\n",
       "      <th>7</th>\n",
       "      <td>S Dhawan</td>\n",
       "      <td>2262</td>\n",
       "      <td>1299</td>\n",
       "    </tr>\n",
       "    <tr>\n",
       "      <th>8</th>\n",
       "      <td>SK Raina</td>\n",
       "      <td>2647</td>\n",
       "      <td>1893</td>\n",
       "    </tr>\n",
       "    <tr>\n",
       "      <th>9</th>\n",
       "      <td>V Kohli</td>\n",
       "      <td>2391</td>\n",
       "      <td>2027</td>\n",
       "    </tr>\n",
       "  </tbody>\n",
       "</table>\n",
       "</div>"
      ],
      "text/plain": [
       "          batsman  inning1_runs  inning2_runs\n",
       "0  AB de Villiers          2128          1345\n",
       "1        CH Gayle          2003          1623\n",
       "2       DA Warner          2118          1896\n",
       "3       G Gambhir          1699          2433\n",
       "4        MS Dhoni          2232          1328\n",
       "5       RG Sharma          2344          1863\n",
       "6      RV Uthappa          1516          2262\n",
       "7        S Dhawan          2262          1299\n",
       "8        SK Raina          2647          1893\n",
       "9         V Kohli          2391          2027"
      ]
     },
     "execution_count": 38,
     "metadata": {},
     "output_type": "execute_result"
    }
   ],
   "source": [
    "iw = top10.groupby(['batsman', 'inning'])['batsman_runs'].sum().reset_index()\n",
    "\n",
    "# Make explicit copies to avoid SettingWithCopyWarning\n",
    "inning1 = iw[iw['inning'] == 1].copy()\n",
    "inning2 = iw[iw['inning'] == 2].copy()\n",
    "\n",
    "inning1.rename(columns={'batsman_runs': 'inning1_runs'}, inplace=True)\n",
    "inning2.rename(columns={'batsman_runs': 'inning2_runs'}, inplace=True)\n",
    "\n",
    "final = inning1.merge(inning2, on='batsman')[['batsman', 'inning1_runs', 'inning2_runs']]\n",
    "final\n"
   ]
  },
  {
   "cell_type": "code",
   "execution_count": 39,
   "id": "ea0ab0ac",
   "metadata": {},
   "outputs": [
    {
     "data": {
      "application/vnd.plotly.v1+json": {
       "config": {
        "linkText": "Export to plot.ly",
        "plotlyServerURL": "https://plot.ly",
        "showLink": false
       },
       "data": [
        {
         "marker": {
          "color": "lime",
          "line": {
           "color": "black",
           "width": 1.5
          }
         },
         "name": "Inning 1",
         "text": {
          "bdata": "AAAAAACgoEAAAAAAAEyfQAAAAAAAjKBAAAAAAACMmkAAAAAAAHChQAAAAAAAUKJAAAAAAACwl0AAAAAAAKyhQAAAAAAArqRAAAAAAACuokA=",
          "dtype": "f8"
         },
         "type": "bar",
         "x": [
          "AB de Villiers",
          "CH Gayle",
          "DA Warner",
          "G Gambhir",
          "MS Dhoni",
          "RG Sharma",
          "RV Uthappa",
          "S Dhawan",
          "SK Raina",
          "V Kohli"
         ],
         "y": {
          "bdata": "UAjTB0YIowa4CCgJ7AXWCFcKVwk=",
          "dtype": "i2"
         }
        },
        {
         "marker": {
          "color": "orange",
          "line": {
           "color": "black",
           "width": 1.5
          }
         },
         "name": "Inning 2",
         "text": {
          "bdata": "AAAAAAAElUAAAAAAAFyZQAAAAAAAoJ1AAAAAAAACo0AAAAAAAMCUQAAAAAAAHJ1AAAAAAACsoUAAAAAAAEyUQAAAAAAAlJ1AAAAAAACsn0A=",
          "dtype": "f8"
         },
         "type": "bar",
         "x": [
          "AB de Villiers",
          "CH Gayle",
          "DA Warner",
          "G Gambhir",
          "MS Dhoni",
          "RG Sharma",
          "RV Uthappa",
          "S Dhawan",
          "SK Raina",
          "V Kohli"
         ],
         "y": {
          "bdata": "QQVXBmgHgQkwBUcH1ggTBWUH6wc=",
          "dtype": "i2"
         }
        }
       ],
       "layout": {
        "barmode": "group",
        "font": {
         "color": "white"
        },
        "paper_bgcolor": "black",
        "plot_bgcolor": "black",
        "template": {
         "data": {
          "bar": [
           {
            "error_x": {
             "color": "#2a3f5f"
            },
            "error_y": {
             "color": "#2a3f5f"
            },
            "marker": {
             "line": {
              "color": "#E5ECF6",
              "width": 0.5
             },
             "pattern": {
              "fillmode": "overlay",
              "size": 10,
              "solidity": 0.2
             }
            },
            "type": "bar"
           }
          ],
          "barpolar": [
           {
            "marker": {
             "line": {
              "color": "#E5ECF6",
              "width": 0.5
             },
             "pattern": {
              "fillmode": "overlay",
              "size": 10,
              "solidity": 0.2
             }
            },
            "type": "barpolar"
           }
          ],
          "carpet": [
           {
            "aaxis": {
             "endlinecolor": "#2a3f5f",
             "gridcolor": "white",
             "linecolor": "white",
             "minorgridcolor": "white",
             "startlinecolor": "#2a3f5f"
            },
            "baxis": {
             "endlinecolor": "#2a3f5f",
             "gridcolor": "white",
             "linecolor": "white",
             "minorgridcolor": "white",
             "startlinecolor": "#2a3f5f"
            },
            "type": "carpet"
           }
          ],
          "choropleth": [
           {
            "colorbar": {
             "outlinewidth": 0,
             "ticks": ""
            },
            "type": "choropleth"
           }
          ],
          "contour": [
           {
            "colorbar": {
             "outlinewidth": 0,
             "ticks": ""
            },
            "colorscale": [
             [
              0,
              "#0d0887"
             ],
             [
              0.1111111111111111,
              "#46039f"
             ],
             [
              0.2222222222222222,
              "#7201a8"
             ],
             [
              0.3333333333333333,
              "#9c179e"
             ],
             [
              0.4444444444444444,
              "#bd3786"
             ],
             [
              0.5555555555555556,
              "#d8576b"
             ],
             [
              0.6666666666666666,
              "#ed7953"
             ],
             [
              0.7777777777777778,
              "#fb9f3a"
             ],
             [
              0.8888888888888888,
              "#fdca26"
             ],
             [
              1,
              "#f0f921"
             ]
            ],
            "type": "contour"
           }
          ],
          "contourcarpet": [
           {
            "colorbar": {
             "outlinewidth": 0,
             "ticks": ""
            },
            "type": "contourcarpet"
           }
          ],
          "heatmap": [
           {
            "colorbar": {
             "outlinewidth": 0,
             "ticks": ""
            },
            "colorscale": [
             [
              0,
              "#0d0887"
             ],
             [
              0.1111111111111111,
              "#46039f"
             ],
             [
              0.2222222222222222,
              "#7201a8"
             ],
             [
              0.3333333333333333,
              "#9c179e"
             ],
             [
              0.4444444444444444,
              "#bd3786"
             ],
             [
              0.5555555555555556,
              "#d8576b"
             ],
             [
              0.6666666666666666,
              "#ed7953"
             ],
             [
              0.7777777777777778,
              "#fb9f3a"
             ],
             [
              0.8888888888888888,
              "#fdca26"
             ],
             [
              1,
              "#f0f921"
             ]
            ],
            "type": "heatmap"
           }
          ],
          "histogram": [
           {
            "marker": {
             "pattern": {
              "fillmode": "overlay",
              "size": 10,
              "solidity": 0.2
             }
            },
            "type": "histogram"
           }
          ],
          "histogram2d": [
           {
            "colorbar": {
             "outlinewidth": 0,
             "ticks": ""
            },
            "colorscale": [
             [
              0,
              "#0d0887"
             ],
             [
              0.1111111111111111,
              "#46039f"
             ],
             [
              0.2222222222222222,
              "#7201a8"
             ],
             [
              0.3333333333333333,
              "#9c179e"
             ],
             [
              0.4444444444444444,
              "#bd3786"
             ],
             [
              0.5555555555555556,
              "#d8576b"
             ],
             [
              0.6666666666666666,
              "#ed7953"
             ],
             [
              0.7777777777777778,
              "#fb9f3a"
             ],
             [
              0.8888888888888888,
              "#fdca26"
             ],
             [
              1,
              "#f0f921"
             ]
            ],
            "type": "histogram2d"
           }
          ],
          "histogram2dcontour": [
           {
            "colorbar": {
             "outlinewidth": 0,
             "ticks": ""
            },
            "colorscale": [
             [
              0,
              "#0d0887"
             ],
             [
              0.1111111111111111,
              "#46039f"
             ],
             [
              0.2222222222222222,
              "#7201a8"
             ],
             [
              0.3333333333333333,
              "#9c179e"
             ],
             [
              0.4444444444444444,
              "#bd3786"
             ],
             [
              0.5555555555555556,
              "#d8576b"
             ],
             [
              0.6666666666666666,
              "#ed7953"
             ],
             [
              0.7777777777777778,
              "#fb9f3a"
             ],
             [
              0.8888888888888888,
              "#fdca26"
             ],
             [
              1,
              "#f0f921"
             ]
            ],
            "type": "histogram2dcontour"
           }
          ],
          "mesh3d": [
           {
            "colorbar": {
             "outlinewidth": 0,
             "ticks": ""
            },
            "type": "mesh3d"
           }
          ],
          "parcoords": [
           {
            "line": {
             "colorbar": {
              "outlinewidth": 0,
              "ticks": ""
             }
            },
            "type": "parcoords"
           }
          ],
          "pie": [
           {
            "automargin": true,
            "type": "pie"
           }
          ],
          "scatter": [
           {
            "fillpattern": {
             "fillmode": "overlay",
             "size": 10,
             "solidity": 0.2
            },
            "type": "scatter"
           }
          ],
          "scatter3d": [
           {
            "line": {
             "colorbar": {
              "outlinewidth": 0,
              "ticks": ""
             }
            },
            "marker": {
             "colorbar": {
              "outlinewidth": 0,
              "ticks": ""
             }
            },
            "type": "scatter3d"
           }
          ],
          "scattercarpet": [
           {
            "marker": {
             "colorbar": {
              "outlinewidth": 0,
              "ticks": ""
             }
            },
            "type": "scattercarpet"
           }
          ],
          "scattergeo": [
           {
            "marker": {
             "colorbar": {
              "outlinewidth": 0,
              "ticks": ""
             }
            },
            "type": "scattergeo"
           }
          ],
          "scattergl": [
           {
            "marker": {
             "colorbar": {
              "outlinewidth": 0,
              "ticks": ""
             }
            },
            "type": "scattergl"
           }
          ],
          "scattermap": [
           {
            "marker": {
             "colorbar": {
              "outlinewidth": 0,
              "ticks": ""
             }
            },
            "type": "scattermap"
           }
          ],
          "scattermapbox": [
           {
            "marker": {
             "colorbar": {
              "outlinewidth": 0,
              "ticks": ""
             }
            },
            "type": "scattermapbox"
           }
          ],
          "scatterpolar": [
           {
            "marker": {
             "colorbar": {
              "outlinewidth": 0,
              "ticks": ""
             }
            },
            "type": "scatterpolar"
           }
          ],
          "scatterpolargl": [
           {
            "marker": {
             "colorbar": {
              "outlinewidth": 0,
              "ticks": ""
             }
            },
            "type": "scatterpolargl"
           }
          ],
          "scatterternary": [
           {
            "marker": {
             "colorbar": {
              "outlinewidth": 0,
              "ticks": ""
             }
            },
            "type": "scatterternary"
           }
          ],
          "surface": [
           {
            "colorbar": {
             "outlinewidth": 0,
             "ticks": ""
            },
            "colorscale": [
             [
              0,
              "#0d0887"
             ],
             [
              0.1111111111111111,
              "#46039f"
             ],
             [
              0.2222222222222222,
              "#7201a8"
             ],
             [
              0.3333333333333333,
              "#9c179e"
             ],
             [
              0.4444444444444444,
              "#bd3786"
             ],
             [
              0.5555555555555556,
              "#d8576b"
             ],
             [
              0.6666666666666666,
              "#ed7953"
             ],
             [
              0.7777777777777778,
              "#fb9f3a"
             ],
             [
              0.8888888888888888,
              "#fdca26"
             ],
             [
              1,
              "#f0f921"
             ]
            ],
            "type": "surface"
           }
          ],
          "table": [
           {
            "cells": {
             "fill": {
              "color": "#EBF0F8"
             },
             "line": {
              "color": "white"
             }
            },
            "header": {
             "fill": {
              "color": "#C8D4E3"
             },
             "line": {
              "color": "white"
             }
            },
            "type": "table"
           }
          ]
         },
         "layout": {
          "annotationdefaults": {
           "arrowcolor": "#2a3f5f",
           "arrowhead": 0,
           "arrowwidth": 1
          },
          "autotypenumbers": "strict",
          "coloraxis": {
           "colorbar": {
            "outlinewidth": 0,
            "ticks": ""
           }
          },
          "colorscale": {
           "diverging": [
            [
             0,
             "#8e0152"
            ],
            [
             0.1,
             "#c51b7d"
            ],
            [
             0.2,
             "#de77ae"
            ],
            [
             0.3,
             "#f1b6da"
            ],
            [
             0.4,
             "#fde0ef"
            ],
            [
             0.5,
             "#f7f7f7"
            ],
            [
             0.6,
             "#e6f5d0"
            ],
            [
             0.7,
             "#b8e186"
            ],
            [
             0.8,
             "#7fbc41"
            ],
            [
             0.9,
             "#4d9221"
            ],
            [
             1,
             "#276419"
            ]
           ],
           "sequential": [
            [
             0,
             "#0d0887"
            ],
            [
             0.1111111111111111,
             "#46039f"
            ],
            [
             0.2222222222222222,
             "#7201a8"
            ],
            [
             0.3333333333333333,
             "#9c179e"
            ],
            [
             0.4444444444444444,
             "#bd3786"
            ],
            [
             0.5555555555555556,
             "#d8576b"
            ],
            [
             0.6666666666666666,
             "#ed7953"
            ],
            [
             0.7777777777777778,
             "#fb9f3a"
            ],
            [
             0.8888888888888888,
             "#fdca26"
            ],
            [
             1,
             "#f0f921"
            ]
           ],
           "sequentialminus": [
            [
             0,
             "#0d0887"
            ],
            [
             0.1111111111111111,
             "#46039f"
            ],
            [
             0.2222222222222222,
             "#7201a8"
            ],
            [
             0.3333333333333333,
             "#9c179e"
            ],
            [
             0.4444444444444444,
             "#bd3786"
            ],
            [
             0.5555555555555556,
             "#d8576b"
            ],
            [
             0.6666666666666666,
             "#ed7953"
            ],
            [
             0.7777777777777778,
             "#fb9f3a"
            ],
            [
             0.8888888888888888,
             "#fdca26"
            ],
            [
             1,
             "#f0f921"
            ]
           ]
          },
          "colorway": [
           "#636efa",
           "#EF553B",
           "#00cc96",
           "#ab63fa",
           "#FFA15A",
           "#19d3f3",
           "#FF6692",
           "#B6E880",
           "#FF97FF",
           "#FECB52"
          ],
          "font": {
           "color": "#2a3f5f"
          },
          "geo": {
           "bgcolor": "white",
           "lakecolor": "white",
           "landcolor": "#E5ECF6",
           "showlakes": true,
           "showland": true,
           "subunitcolor": "white"
          },
          "hoverlabel": {
           "align": "left"
          },
          "hovermode": "closest",
          "mapbox": {
           "style": "light"
          },
          "paper_bgcolor": "white",
          "plot_bgcolor": "#E5ECF6",
          "polar": {
           "angularaxis": {
            "gridcolor": "white",
            "linecolor": "white",
            "ticks": ""
           },
           "bgcolor": "#E5ECF6",
           "radialaxis": {
            "gridcolor": "white",
            "linecolor": "white",
            "ticks": ""
           }
          },
          "scene": {
           "xaxis": {
            "backgroundcolor": "#E5ECF6",
            "gridcolor": "white",
            "gridwidth": 2,
            "linecolor": "white",
            "showbackground": true,
            "ticks": "",
            "zerolinecolor": "white"
           },
           "yaxis": {
            "backgroundcolor": "#E5ECF6",
            "gridcolor": "white",
            "gridwidth": 2,
            "linecolor": "white",
            "showbackground": true,
            "ticks": "",
            "zerolinecolor": "white"
           },
           "zaxis": {
            "backgroundcolor": "#E5ECF6",
            "gridcolor": "white",
            "gridwidth": 2,
            "linecolor": "white",
            "showbackground": true,
            "ticks": "",
            "zerolinecolor": "white"
           }
          },
          "shapedefaults": {
           "line": {
            "color": "#2a3f5f"
           }
          },
          "ternary": {
           "aaxis": {
            "gridcolor": "white",
            "linecolor": "white",
            "ticks": ""
           },
           "baxis": {
            "gridcolor": "white",
            "linecolor": "white",
            "ticks": ""
           },
           "bgcolor": "#E5ECF6",
           "caxis": {
            "gridcolor": "white",
            "linecolor": "white",
            "ticks": ""
           }
          },
          "title": {
           "x": 0.05
          },
          "xaxis": {
           "automargin": true,
           "gridcolor": "white",
           "linecolor": "white",
           "ticks": "",
           "title": {
            "standoff": 15
           },
           "zerolinecolor": "white",
           "zerolinewidth": 2
          },
          "yaxis": {
           "automargin": true,
           "gridcolor": "white",
           "linecolor": "white",
           "ticks": "",
           "title": {
            "standoff": 15
           },
           "zerolinecolor": "white",
           "zerolinewidth": 2
          }
         }
        },
        "title": {
         "text": "Top 10 Batsmen Performance"
        },
        "xaxis": {
         "color": "white",
         "title": {
          "text": "Batsman"
         }
        },
        "yaxis": {
         "color": "white",
         "title": {
          "text": "Runs Scored"
         }
        }
       }
      }
     },
     "metadata": {},
     "output_type": "display_data"
    }
   ],
   "source": [
    "trace1 = go.Bar(\n",
    "    x=final['batsman'],\n",
    "    y=final['inning1_runs'],\n",
    "    name='Inning 1',\n",
    "    marker={'color': 'lime', 'line': {'width': 1.5, 'color': 'black'}},\n",
    "    text=final['inning1_runs'],\n",
    ")\n",
    "trace2 = go.Bar(\n",
    "    x=final['batsman'],\n",
    "    y=final['inning2_runs'],\n",
    "    name='Inning 2',\n",
    "    marker={'color': 'orange', 'line': {'width': 1.5, 'color': 'black'}},\n",
    "    text=final['inning2_runs'],\n",
    ")\n",
    "data = [trace1, trace2]\n",
    "layout = go.Layout(\n",
    "    title='Top 10 Batsmen Performance',\n",
    "    xaxis={'title': 'Batsman', 'color': 'white'},\n",
    "    yaxis={'title': 'Runs Scored', 'color': 'white'},\n",
    "    barmode='group',\n",
    "    plot_bgcolor='black',\n",
    "    paper_bgcolor='black',\n",
    "    font={'color': 'white'}\n",
    ")\n",
    "fig = go.Figure(data=data, layout=layout)\n",
    "pyo.iplot(fig, filename='top10_batsmen_innings.html')"
   ]
  },
  {
   "cell_type": "code",
   "execution_count": 41,
   "id": "abb63d9c",
   "metadata": {},
   "outputs": [
    {
     "data": {
      "application/vnd.plotly.v1+json": {
       "config": {
        "linkText": "Export to plot.ly",
        "plotlyServerURL": "https://plot.ly",
        "showLink": false
       },
       "data": [
        {
         "marker": {
          "color": "lime",
          "line": {
           "color": "black",
           "width": 1.5
          }
         },
         "name": "Inning 1",
         "text": {
          "bdata": "AAAAAACgoEAAAAAAAEyfQAAAAAAAjKBAAAAAAACMmkAAAAAAAHChQAAAAAAAUKJAAAAAAACwl0AAAAAAAKyhQAAAAAAArqRAAAAAAACuokA=",
          "dtype": "f8"
         },
         "type": "bar",
         "x": [
          "AB de Villiers",
          "CH Gayle",
          "DA Warner",
          "G Gambhir",
          "MS Dhoni",
          "RG Sharma",
          "RV Uthappa",
          "S Dhawan",
          "SK Raina",
          "V Kohli"
         ],
         "y": {
          "bdata": "UAjTB0YIowa4CCgJ7AXWCFcKVwk=",
          "dtype": "i2"
         }
        },
        {
         "marker": {
          "color": "orange",
          "line": {
           "color": "black",
           "width": 1.5
          }
         },
         "name": "Inning 2",
         "text": {
          "bdata": "AAAAAAAElUAAAAAAAFyZQAAAAAAAoJ1AAAAAAAACo0AAAAAAAMCUQAAAAAAAHJ1AAAAAAACsoUAAAAAAAEyUQAAAAAAAlJ1AAAAAAACsn0A=",
          "dtype": "f8"
         },
         "type": "bar",
         "x": [
          "AB de Villiers",
          "CH Gayle",
          "DA Warner",
          "G Gambhir",
          "MS Dhoni",
          "RG Sharma",
          "RV Uthappa",
          "S Dhawan",
          "SK Raina",
          "V Kohli"
         ],
         "y": {
          "bdata": "QQVXBmgHgQkwBUcH1ggTBWUH6wc=",
          "dtype": "i2"
         }
        }
       ],
       "layout": {
        "barmode": "stack",
        "font": {
         "color": "white"
        },
        "paper_bgcolor": "black",
        "plot_bgcolor": "black",
        "template": {
         "data": {
          "bar": [
           {
            "error_x": {
             "color": "#2a3f5f"
            },
            "error_y": {
             "color": "#2a3f5f"
            },
            "marker": {
             "line": {
              "color": "#E5ECF6",
              "width": 0.5
             },
             "pattern": {
              "fillmode": "overlay",
              "size": 10,
              "solidity": 0.2
             }
            },
            "type": "bar"
           }
          ],
          "barpolar": [
           {
            "marker": {
             "line": {
              "color": "#E5ECF6",
              "width": 0.5
             },
             "pattern": {
              "fillmode": "overlay",
              "size": 10,
              "solidity": 0.2
             }
            },
            "type": "barpolar"
           }
          ],
          "carpet": [
           {
            "aaxis": {
             "endlinecolor": "#2a3f5f",
             "gridcolor": "white",
             "linecolor": "white",
             "minorgridcolor": "white",
             "startlinecolor": "#2a3f5f"
            },
            "baxis": {
             "endlinecolor": "#2a3f5f",
             "gridcolor": "white",
             "linecolor": "white",
             "minorgridcolor": "white",
             "startlinecolor": "#2a3f5f"
            },
            "type": "carpet"
           }
          ],
          "choropleth": [
           {
            "colorbar": {
             "outlinewidth": 0,
             "ticks": ""
            },
            "type": "choropleth"
           }
          ],
          "contour": [
           {
            "colorbar": {
             "outlinewidth": 0,
             "ticks": ""
            },
            "colorscale": [
             [
              0,
              "#0d0887"
             ],
             [
              0.1111111111111111,
              "#46039f"
             ],
             [
              0.2222222222222222,
              "#7201a8"
             ],
             [
              0.3333333333333333,
              "#9c179e"
             ],
             [
              0.4444444444444444,
              "#bd3786"
             ],
             [
              0.5555555555555556,
              "#d8576b"
             ],
             [
              0.6666666666666666,
              "#ed7953"
             ],
             [
              0.7777777777777778,
              "#fb9f3a"
             ],
             [
              0.8888888888888888,
              "#fdca26"
             ],
             [
              1,
              "#f0f921"
             ]
            ],
            "type": "contour"
           }
          ],
          "contourcarpet": [
           {
            "colorbar": {
             "outlinewidth": 0,
             "ticks": ""
            },
            "type": "contourcarpet"
           }
          ],
          "heatmap": [
           {
            "colorbar": {
             "outlinewidth": 0,
             "ticks": ""
            },
            "colorscale": [
             [
              0,
              "#0d0887"
             ],
             [
              0.1111111111111111,
              "#46039f"
             ],
             [
              0.2222222222222222,
              "#7201a8"
             ],
             [
              0.3333333333333333,
              "#9c179e"
             ],
             [
              0.4444444444444444,
              "#bd3786"
             ],
             [
              0.5555555555555556,
              "#d8576b"
             ],
             [
              0.6666666666666666,
              "#ed7953"
             ],
             [
              0.7777777777777778,
              "#fb9f3a"
             ],
             [
              0.8888888888888888,
              "#fdca26"
             ],
             [
              1,
              "#f0f921"
             ]
            ],
            "type": "heatmap"
           }
          ],
          "histogram": [
           {
            "marker": {
             "pattern": {
              "fillmode": "overlay",
              "size": 10,
              "solidity": 0.2
             }
            },
            "type": "histogram"
           }
          ],
          "histogram2d": [
           {
            "colorbar": {
             "outlinewidth": 0,
             "ticks": ""
            },
            "colorscale": [
             [
              0,
              "#0d0887"
             ],
             [
              0.1111111111111111,
              "#46039f"
             ],
             [
              0.2222222222222222,
              "#7201a8"
             ],
             [
              0.3333333333333333,
              "#9c179e"
             ],
             [
              0.4444444444444444,
              "#bd3786"
             ],
             [
              0.5555555555555556,
              "#d8576b"
             ],
             [
              0.6666666666666666,
              "#ed7953"
             ],
             [
              0.7777777777777778,
              "#fb9f3a"
             ],
             [
              0.8888888888888888,
              "#fdca26"
             ],
             [
              1,
              "#f0f921"
             ]
            ],
            "type": "histogram2d"
           }
          ],
          "histogram2dcontour": [
           {
            "colorbar": {
             "outlinewidth": 0,
             "ticks": ""
            },
            "colorscale": [
             [
              0,
              "#0d0887"
             ],
             [
              0.1111111111111111,
              "#46039f"
             ],
             [
              0.2222222222222222,
              "#7201a8"
             ],
             [
              0.3333333333333333,
              "#9c179e"
             ],
             [
              0.4444444444444444,
              "#bd3786"
             ],
             [
              0.5555555555555556,
              "#d8576b"
             ],
             [
              0.6666666666666666,
              "#ed7953"
             ],
             [
              0.7777777777777778,
              "#fb9f3a"
             ],
             [
              0.8888888888888888,
              "#fdca26"
             ],
             [
              1,
              "#f0f921"
             ]
            ],
            "type": "histogram2dcontour"
           }
          ],
          "mesh3d": [
           {
            "colorbar": {
             "outlinewidth": 0,
             "ticks": ""
            },
            "type": "mesh3d"
           }
          ],
          "parcoords": [
           {
            "line": {
             "colorbar": {
              "outlinewidth": 0,
              "ticks": ""
             }
            },
            "type": "parcoords"
           }
          ],
          "pie": [
           {
            "automargin": true,
            "type": "pie"
           }
          ],
          "scatter": [
           {
            "fillpattern": {
             "fillmode": "overlay",
             "size": 10,
             "solidity": 0.2
            },
            "type": "scatter"
           }
          ],
          "scatter3d": [
           {
            "line": {
             "colorbar": {
              "outlinewidth": 0,
              "ticks": ""
             }
            },
            "marker": {
             "colorbar": {
              "outlinewidth": 0,
              "ticks": ""
             }
            },
            "type": "scatter3d"
           }
          ],
          "scattercarpet": [
           {
            "marker": {
             "colorbar": {
              "outlinewidth": 0,
              "ticks": ""
             }
            },
            "type": "scattercarpet"
           }
          ],
          "scattergeo": [
           {
            "marker": {
             "colorbar": {
              "outlinewidth": 0,
              "ticks": ""
             }
            },
            "type": "scattergeo"
           }
          ],
          "scattergl": [
           {
            "marker": {
             "colorbar": {
              "outlinewidth": 0,
              "ticks": ""
             }
            },
            "type": "scattergl"
           }
          ],
          "scattermap": [
           {
            "marker": {
             "colorbar": {
              "outlinewidth": 0,
              "ticks": ""
             }
            },
            "type": "scattermap"
           }
          ],
          "scattermapbox": [
           {
            "marker": {
             "colorbar": {
              "outlinewidth": 0,
              "ticks": ""
             }
            },
            "type": "scattermapbox"
           }
          ],
          "scatterpolar": [
           {
            "marker": {
             "colorbar": {
              "outlinewidth": 0,
              "ticks": ""
             }
            },
            "type": "scatterpolar"
           }
          ],
          "scatterpolargl": [
           {
            "marker": {
             "colorbar": {
              "outlinewidth": 0,
              "ticks": ""
             }
            },
            "type": "scatterpolargl"
           }
          ],
          "scatterternary": [
           {
            "marker": {
             "colorbar": {
              "outlinewidth": 0,
              "ticks": ""
             }
            },
            "type": "scatterternary"
           }
          ],
          "surface": [
           {
            "colorbar": {
             "outlinewidth": 0,
             "ticks": ""
            },
            "colorscale": [
             [
              0,
              "#0d0887"
             ],
             [
              0.1111111111111111,
              "#46039f"
             ],
             [
              0.2222222222222222,
              "#7201a8"
             ],
             [
              0.3333333333333333,
              "#9c179e"
             ],
             [
              0.4444444444444444,
              "#bd3786"
             ],
             [
              0.5555555555555556,
              "#d8576b"
             ],
             [
              0.6666666666666666,
              "#ed7953"
             ],
             [
              0.7777777777777778,
              "#fb9f3a"
             ],
             [
              0.8888888888888888,
              "#fdca26"
             ],
             [
              1,
              "#f0f921"
             ]
            ],
            "type": "surface"
           }
          ],
          "table": [
           {
            "cells": {
             "fill": {
              "color": "#EBF0F8"
             },
             "line": {
              "color": "white"
             }
            },
            "header": {
             "fill": {
              "color": "#C8D4E3"
             },
             "line": {
              "color": "white"
             }
            },
            "type": "table"
           }
          ]
         },
         "layout": {
          "annotationdefaults": {
           "arrowcolor": "#2a3f5f",
           "arrowhead": 0,
           "arrowwidth": 1
          },
          "autotypenumbers": "strict",
          "coloraxis": {
           "colorbar": {
            "outlinewidth": 0,
            "ticks": ""
           }
          },
          "colorscale": {
           "diverging": [
            [
             0,
             "#8e0152"
            ],
            [
             0.1,
             "#c51b7d"
            ],
            [
             0.2,
             "#de77ae"
            ],
            [
             0.3,
             "#f1b6da"
            ],
            [
             0.4,
             "#fde0ef"
            ],
            [
             0.5,
             "#f7f7f7"
            ],
            [
             0.6,
             "#e6f5d0"
            ],
            [
             0.7,
             "#b8e186"
            ],
            [
             0.8,
             "#7fbc41"
            ],
            [
             0.9,
             "#4d9221"
            ],
            [
             1,
             "#276419"
            ]
           ],
           "sequential": [
            [
             0,
             "#0d0887"
            ],
            [
             0.1111111111111111,
             "#46039f"
            ],
            [
             0.2222222222222222,
             "#7201a8"
            ],
            [
             0.3333333333333333,
             "#9c179e"
            ],
            [
             0.4444444444444444,
             "#bd3786"
            ],
            [
             0.5555555555555556,
             "#d8576b"
            ],
            [
             0.6666666666666666,
             "#ed7953"
            ],
            [
             0.7777777777777778,
             "#fb9f3a"
            ],
            [
             0.8888888888888888,
             "#fdca26"
            ],
            [
             1,
             "#f0f921"
            ]
           ],
           "sequentialminus": [
            [
             0,
             "#0d0887"
            ],
            [
             0.1111111111111111,
             "#46039f"
            ],
            [
             0.2222222222222222,
             "#7201a8"
            ],
            [
             0.3333333333333333,
             "#9c179e"
            ],
            [
             0.4444444444444444,
             "#bd3786"
            ],
            [
             0.5555555555555556,
             "#d8576b"
            ],
            [
             0.6666666666666666,
             "#ed7953"
            ],
            [
             0.7777777777777778,
             "#fb9f3a"
            ],
            [
             0.8888888888888888,
             "#fdca26"
            ],
            [
             1,
             "#f0f921"
            ]
           ]
          },
          "colorway": [
           "#636efa",
           "#EF553B",
           "#00cc96",
           "#ab63fa",
           "#FFA15A",
           "#19d3f3",
           "#FF6692",
           "#B6E880",
           "#FF97FF",
           "#FECB52"
          ],
          "font": {
           "color": "#2a3f5f"
          },
          "geo": {
           "bgcolor": "white",
           "lakecolor": "white",
           "landcolor": "#E5ECF6",
           "showlakes": true,
           "showland": true,
           "subunitcolor": "white"
          },
          "hoverlabel": {
           "align": "left"
          },
          "hovermode": "closest",
          "mapbox": {
           "style": "light"
          },
          "paper_bgcolor": "white",
          "plot_bgcolor": "#E5ECF6",
          "polar": {
           "angularaxis": {
            "gridcolor": "white",
            "linecolor": "white",
            "ticks": ""
           },
           "bgcolor": "#E5ECF6",
           "radialaxis": {
            "gridcolor": "white",
            "linecolor": "white",
            "ticks": ""
           }
          },
          "scene": {
           "xaxis": {
            "backgroundcolor": "#E5ECF6",
            "gridcolor": "white",
            "gridwidth": 2,
            "linecolor": "white",
            "showbackground": true,
            "ticks": "",
            "zerolinecolor": "white"
           },
           "yaxis": {
            "backgroundcolor": "#E5ECF6",
            "gridcolor": "white",
            "gridwidth": 2,
            "linecolor": "white",
            "showbackground": true,
            "ticks": "",
            "zerolinecolor": "white"
           },
           "zaxis": {
            "backgroundcolor": "#E5ECF6",
            "gridcolor": "white",
            "gridwidth": 2,
            "linecolor": "white",
            "showbackground": true,
            "ticks": "",
            "zerolinecolor": "white"
           }
          },
          "shapedefaults": {
           "line": {
            "color": "#2a3f5f"
           }
          },
          "ternary": {
           "aaxis": {
            "gridcolor": "white",
            "linecolor": "white",
            "ticks": ""
           },
           "baxis": {
            "gridcolor": "white",
            "linecolor": "white",
            "ticks": ""
           },
           "bgcolor": "#E5ECF6",
           "caxis": {
            "gridcolor": "white",
            "linecolor": "white",
            "ticks": ""
           }
          },
          "title": {
           "x": 0.05
          },
          "xaxis": {
           "automargin": true,
           "gridcolor": "white",
           "linecolor": "white",
           "ticks": "",
           "title": {
            "standoff": 15
           },
           "zerolinecolor": "white",
           "zerolinewidth": 2
          },
          "yaxis": {
           "automargin": true,
           "gridcolor": "white",
           "linecolor": "white",
           "ticks": "",
           "title": {
            "standoff": 15
           },
           "zerolinecolor": "white",
           "zerolinewidth": 2
          }
         }
        },
        "title": {
         "text": "Stacked Bar Graph - Top 10 Batsmen Performance"
        },
        "xaxis": {
         "color": "white",
         "title": {
          "text": "Batsman"
         }
        },
        "yaxis": {
         "color": "white",
         "title": {
          "text": "Total Runs (Inning 1 + Inning 2)"
         }
        }
       }
      }
     },
     "metadata": {},
     "output_type": "display_data"
    }
   ],
   "source": [
    "layout_stacked = go.Layout(\n",
    "    title='Stacked Bar Graph - Top 10 Batsmen Performance',\n",
    "    xaxis={'title': 'Batsman', 'color': 'white'},\n",
    "    yaxis={'title': 'Total Runs (Inning 1 + Inning 2)', 'color': 'white'},\n",
    "    barmode='stack',\n",
    "    plot_bgcolor='black',\n",
    "    paper_bgcolor='black',\n",
    "    font={'color': 'white'}\n",
    ")\n",
    "\n",
    "fig_stacked = go.Figure(data=[trace1, trace2], layout=layout_stacked)\n",
    "pyo.iplot(fig_stacked, filename='stacked_bar_graph.html')\n"
   ]
  },
  {
   "cell_type": "code",
   "execution_count": 42,
   "id": "564aa4ec",
   "metadata": {},
   "outputs": [
    {
     "data": {
      "application/vnd.plotly.v1+json": {
       "config": {
        "linkText": "Export to plot.ly",
        "plotlyServerURL": "https://plot.ly",
        "showLink": false
       },
       "data": [
        {
         "marker": {
          "color": "lime"
         },
         "name": "Inning 1",
         "opacity": 0.6,
         "type": "bar",
         "x": [
          "AB de Villiers",
          "CH Gayle",
          "DA Warner",
          "G Gambhir",
          "MS Dhoni",
          "RG Sharma",
          "RV Uthappa",
          "S Dhawan",
          "SK Raina",
          "V Kohli"
         ],
         "y": {
          "bdata": "UAjTB0YIowa4CCgJ7AXWCFcKVwk=",
          "dtype": "i2"
         }
        },
        {
         "marker": {
          "color": "orange"
         },
         "name": "Inning 2",
         "opacity": 0.6,
         "type": "bar",
         "x": [
          "AB de Villiers",
          "CH Gayle",
          "DA Warner",
          "G Gambhir",
          "MS Dhoni",
          "RG Sharma",
          "RV Uthappa",
          "S Dhawan",
          "SK Raina",
          "V Kohli"
         ],
         "y": {
          "bdata": "QQVXBmgHgQkwBUcH1ggTBWUH6wc=",
          "dtype": "i2"
         }
        }
       ],
       "layout": {
        "barmode": "overlay",
        "font": {
         "color": "white"
        },
        "paper_bgcolor": "black",
        "plot_bgcolor": "black",
        "template": {
         "data": {
          "bar": [
           {
            "error_x": {
             "color": "#2a3f5f"
            },
            "error_y": {
             "color": "#2a3f5f"
            },
            "marker": {
             "line": {
              "color": "#E5ECF6",
              "width": 0.5
             },
             "pattern": {
              "fillmode": "overlay",
              "size": 10,
              "solidity": 0.2
             }
            },
            "type": "bar"
           }
          ],
          "barpolar": [
           {
            "marker": {
             "line": {
              "color": "#E5ECF6",
              "width": 0.5
             },
             "pattern": {
              "fillmode": "overlay",
              "size": 10,
              "solidity": 0.2
             }
            },
            "type": "barpolar"
           }
          ],
          "carpet": [
           {
            "aaxis": {
             "endlinecolor": "#2a3f5f",
             "gridcolor": "white",
             "linecolor": "white",
             "minorgridcolor": "white",
             "startlinecolor": "#2a3f5f"
            },
            "baxis": {
             "endlinecolor": "#2a3f5f",
             "gridcolor": "white",
             "linecolor": "white",
             "minorgridcolor": "white",
             "startlinecolor": "#2a3f5f"
            },
            "type": "carpet"
           }
          ],
          "choropleth": [
           {
            "colorbar": {
             "outlinewidth": 0,
             "ticks": ""
            },
            "type": "choropleth"
           }
          ],
          "contour": [
           {
            "colorbar": {
             "outlinewidth": 0,
             "ticks": ""
            },
            "colorscale": [
             [
              0,
              "#0d0887"
             ],
             [
              0.1111111111111111,
              "#46039f"
             ],
             [
              0.2222222222222222,
              "#7201a8"
             ],
             [
              0.3333333333333333,
              "#9c179e"
             ],
             [
              0.4444444444444444,
              "#bd3786"
             ],
             [
              0.5555555555555556,
              "#d8576b"
             ],
             [
              0.6666666666666666,
              "#ed7953"
             ],
             [
              0.7777777777777778,
              "#fb9f3a"
             ],
             [
              0.8888888888888888,
              "#fdca26"
             ],
             [
              1,
              "#f0f921"
             ]
            ],
            "type": "contour"
           }
          ],
          "contourcarpet": [
           {
            "colorbar": {
             "outlinewidth": 0,
             "ticks": ""
            },
            "type": "contourcarpet"
           }
          ],
          "heatmap": [
           {
            "colorbar": {
             "outlinewidth": 0,
             "ticks": ""
            },
            "colorscale": [
             [
              0,
              "#0d0887"
             ],
             [
              0.1111111111111111,
              "#46039f"
             ],
             [
              0.2222222222222222,
              "#7201a8"
             ],
             [
              0.3333333333333333,
              "#9c179e"
             ],
             [
              0.4444444444444444,
              "#bd3786"
             ],
             [
              0.5555555555555556,
              "#d8576b"
             ],
             [
              0.6666666666666666,
              "#ed7953"
             ],
             [
              0.7777777777777778,
              "#fb9f3a"
             ],
             [
              0.8888888888888888,
              "#fdca26"
             ],
             [
              1,
              "#f0f921"
             ]
            ],
            "type": "heatmap"
           }
          ],
          "histogram": [
           {
            "marker": {
             "pattern": {
              "fillmode": "overlay",
              "size": 10,
              "solidity": 0.2
             }
            },
            "type": "histogram"
           }
          ],
          "histogram2d": [
           {
            "colorbar": {
             "outlinewidth": 0,
             "ticks": ""
            },
            "colorscale": [
             [
              0,
              "#0d0887"
             ],
             [
              0.1111111111111111,
              "#46039f"
             ],
             [
              0.2222222222222222,
              "#7201a8"
             ],
             [
              0.3333333333333333,
              "#9c179e"
             ],
             [
              0.4444444444444444,
              "#bd3786"
             ],
             [
              0.5555555555555556,
              "#d8576b"
             ],
             [
              0.6666666666666666,
              "#ed7953"
             ],
             [
              0.7777777777777778,
              "#fb9f3a"
             ],
             [
              0.8888888888888888,
              "#fdca26"
             ],
             [
              1,
              "#f0f921"
             ]
            ],
            "type": "histogram2d"
           }
          ],
          "histogram2dcontour": [
           {
            "colorbar": {
             "outlinewidth": 0,
             "ticks": ""
            },
            "colorscale": [
             [
              0,
              "#0d0887"
             ],
             [
              0.1111111111111111,
              "#46039f"
             ],
             [
              0.2222222222222222,
              "#7201a8"
             ],
             [
              0.3333333333333333,
              "#9c179e"
             ],
             [
              0.4444444444444444,
              "#bd3786"
             ],
             [
              0.5555555555555556,
              "#d8576b"
             ],
             [
              0.6666666666666666,
              "#ed7953"
             ],
             [
              0.7777777777777778,
              "#fb9f3a"
             ],
             [
              0.8888888888888888,
              "#fdca26"
             ],
             [
              1,
              "#f0f921"
             ]
            ],
            "type": "histogram2dcontour"
           }
          ],
          "mesh3d": [
           {
            "colorbar": {
             "outlinewidth": 0,
             "ticks": ""
            },
            "type": "mesh3d"
           }
          ],
          "parcoords": [
           {
            "line": {
             "colorbar": {
              "outlinewidth": 0,
              "ticks": ""
             }
            },
            "type": "parcoords"
           }
          ],
          "pie": [
           {
            "automargin": true,
            "type": "pie"
           }
          ],
          "scatter": [
           {
            "fillpattern": {
             "fillmode": "overlay",
             "size": 10,
             "solidity": 0.2
            },
            "type": "scatter"
           }
          ],
          "scatter3d": [
           {
            "line": {
             "colorbar": {
              "outlinewidth": 0,
              "ticks": ""
             }
            },
            "marker": {
             "colorbar": {
              "outlinewidth": 0,
              "ticks": ""
             }
            },
            "type": "scatter3d"
           }
          ],
          "scattercarpet": [
           {
            "marker": {
             "colorbar": {
              "outlinewidth": 0,
              "ticks": ""
             }
            },
            "type": "scattercarpet"
           }
          ],
          "scattergeo": [
           {
            "marker": {
             "colorbar": {
              "outlinewidth": 0,
              "ticks": ""
             }
            },
            "type": "scattergeo"
           }
          ],
          "scattergl": [
           {
            "marker": {
             "colorbar": {
              "outlinewidth": 0,
              "ticks": ""
             }
            },
            "type": "scattergl"
           }
          ],
          "scattermap": [
           {
            "marker": {
             "colorbar": {
              "outlinewidth": 0,
              "ticks": ""
             }
            },
            "type": "scattermap"
           }
          ],
          "scattermapbox": [
           {
            "marker": {
             "colorbar": {
              "outlinewidth": 0,
              "ticks": ""
             }
            },
            "type": "scattermapbox"
           }
          ],
          "scatterpolar": [
           {
            "marker": {
             "colorbar": {
              "outlinewidth": 0,
              "ticks": ""
             }
            },
            "type": "scatterpolar"
           }
          ],
          "scatterpolargl": [
           {
            "marker": {
             "colorbar": {
              "outlinewidth": 0,
              "ticks": ""
             }
            },
            "type": "scatterpolargl"
           }
          ],
          "scatterternary": [
           {
            "marker": {
             "colorbar": {
              "outlinewidth": 0,
              "ticks": ""
             }
            },
            "type": "scatterternary"
           }
          ],
          "surface": [
           {
            "colorbar": {
             "outlinewidth": 0,
             "ticks": ""
            },
            "colorscale": [
             [
              0,
              "#0d0887"
             ],
             [
              0.1111111111111111,
              "#46039f"
             ],
             [
              0.2222222222222222,
              "#7201a8"
             ],
             [
              0.3333333333333333,
              "#9c179e"
             ],
             [
              0.4444444444444444,
              "#bd3786"
             ],
             [
              0.5555555555555556,
              "#d8576b"
             ],
             [
              0.6666666666666666,
              "#ed7953"
             ],
             [
              0.7777777777777778,
              "#fb9f3a"
             ],
             [
              0.8888888888888888,
              "#fdca26"
             ],
             [
              1,
              "#f0f921"
             ]
            ],
            "type": "surface"
           }
          ],
          "table": [
           {
            "cells": {
             "fill": {
              "color": "#EBF0F8"
             },
             "line": {
              "color": "white"
             }
            },
            "header": {
             "fill": {
              "color": "#C8D4E3"
             },
             "line": {
              "color": "white"
             }
            },
            "type": "table"
           }
          ]
         },
         "layout": {
          "annotationdefaults": {
           "arrowcolor": "#2a3f5f",
           "arrowhead": 0,
           "arrowwidth": 1
          },
          "autotypenumbers": "strict",
          "coloraxis": {
           "colorbar": {
            "outlinewidth": 0,
            "ticks": ""
           }
          },
          "colorscale": {
           "diverging": [
            [
             0,
             "#8e0152"
            ],
            [
             0.1,
             "#c51b7d"
            ],
            [
             0.2,
             "#de77ae"
            ],
            [
             0.3,
             "#f1b6da"
            ],
            [
             0.4,
             "#fde0ef"
            ],
            [
             0.5,
             "#f7f7f7"
            ],
            [
             0.6,
             "#e6f5d0"
            ],
            [
             0.7,
             "#b8e186"
            ],
            [
             0.8,
             "#7fbc41"
            ],
            [
             0.9,
             "#4d9221"
            ],
            [
             1,
             "#276419"
            ]
           ],
           "sequential": [
            [
             0,
             "#0d0887"
            ],
            [
             0.1111111111111111,
             "#46039f"
            ],
            [
             0.2222222222222222,
             "#7201a8"
            ],
            [
             0.3333333333333333,
             "#9c179e"
            ],
            [
             0.4444444444444444,
             "#bd3786"
            ],
            [
             0.5555555555555556,
             "#d8576b"
            ],
            [
             0.6666666666666666,
             "#ed7953"
            ],
            [
             0.7777777777777778,
             "#fb9f3a"
            ],
            [
             0.8888888888888888,
             "#fdca26"
            ],
            [
             1,
             "#f0f921"
            ]
           ],
           "sequentialminus": [
            [
             0,
             "#0d0887"
            ],
            [
             0.1111111111111111,
             "#46039f"
            ],
            [
             0.2222222222222222,
             "#7201a8"
            ],
            [
             0.3333333333333333,
             "#9c179e"
            ],
            [
             0.4444444444444444,
             "#bd3786"
            ],
            [
             0.5555555555555556,
             "#d8576b"
            ],
            [
             0.6666666666666666,
             "#ed7953"
            ],
            [
             0.7777777777777778,
             "#fb9f3a"
            ],
            [
             0.8888888888888888,
             "#fdca26"
            ],
            [
             1,
             "#f0f921"
            ]
           ]
          },
          "colorway": [
           "#636efa",
           "#EF553B",
           "#00cc96",
           "#ab63fa",
           "#FFA15A",
           "#19d3f3",
           "#FF6692",
           "#B6E880",
           "#FF97FF",
           "#FECB52"
          ],
          "font": {
           "color": "#2a3f5f"
          },
          "geo": {
           "bgcolor": "white",
           "lakecolor": "white",
           "landcolor": "#E5ECF6",
           "showlakes": true,
           "showland": true,
           "subunitcolor": "white"
          },
          "hoverlabel": {
           "align": "left"
          },
          "hovermode": "closest",
          "mapbox": {
           "style": "light"
          },
          "paper_bgcolor": "white",
          "plot_bgcolor": "#E5ECF6",
          "polar": {
           "angularaxis": {
            "gridcolor": "white",
            "linecolor": "white",
            "ticks": ""
           },
           "bgcolor": "#E5ECF6",
           "radialaxis": {
            "gridcolor": "white",
            "linecolor": "white",
            "ticks": ""
           }
          },
          "scene": {
           "xaxis": {
            "backgroundcolor": "#E5ECF6",
            "gridcolor": "white",
            "gridwidth": 2,
            "linecolor": "white",
            "showbackground": true,
            "ticks": "",
            "zerolinecolor": "white"
           },
           "yaxis": {
            "backgroundcolor": "#E5ECF6",
            "gridcolor": "white",
            "gridwidth": 2,
            "linecolor": "white",
            "showbackground": true,
            "ticks": "",
            "zerolinecolor": "white"
           },
           "zaxis": {
            "backgroundcolor": "#E5ECF6",
            "gridcolor": "white",
            "gridwidth": 2,
            "linecolor": "white",
            "showbackground": true,
            "ticks": "",
            "zerolinecolor": "white"
           }
          },
          "shapedefaults": {
           "line": {
            "color": "#2a3f5f"
           }
          },
          "ternary": {
           "aaxis": {
            "gridcolor": "white",
            "linecolor": "white",
            "ticks": ""
           },
           "baxis": {
            "gridcolor": "white",
            "linecolor": "white",
            "ticks": ""
           },
           "bgcolor": "#E5ECF6",
           "caxis": {
            "gridcolor": "white",
            "linecolor": "white",
            "ticks": ""
           }
          },
          "title": {
           "x": 0.05
          },
          "xaxis": {
           "automargin": true,
           "gridcolor": "white",
           "linecolor": "white",
           "ticks": "",
           "title": {
            "standoff": 15
           },
           "zerolinecolor": "white",
           "zerolinewidth": 2
          },
          "yaxis": {
           "automargin": true,
           "gridcolor": "white",
           "linecolor": "white",
           "ticks": "",
           "title": {
            "standoff": 15
           },
           "zerolinecolor": "white",
           "zerolinewidth": 2
          }
         }
        },
        "title": {
         "text": "Overlayed Bar Graph - Top 10 Batsmen Performance"
        },
        "xaxis": {
         "color": "white",
         "title": {
          "text": "Batsman"
         }
        },
        "yaxis": {
         "color": "white",
         "title": {
          "text": "Runs Scored"
         }
        }
       }
      }
     },
     "metadata": {},
     "output_type": "display_data"
    }
   ],
   "source": [
    "trace1_overlay = go.Bar(\n",
    "    x=final['batsman'],\n",
    "    y=final['inning1_runs'],\n",
    "    name='Inning 1',\n",
    "    marker={'color': 'lime'},\n",
    "    opacity=0.6\n",
    ")\n",
    "\n",
    "trace2_overlay = go.Bar(\n",
    "    x=final['batsman'],\n",
    "    y=final['inning2_runs'],\n",
    "    name='Inning 2',\n",
    "    marker={'color': 'orange'},\n",
    "    opacity=0.6\n",
    ")\n",
    "\n",
    "layout_overlay = go.Layout(\n",
    "    title='Overlayed Bar Graph - Top 10 Batsmen Performance',\n",
    "    xaxis={'title': 'Batsman', 'color': 'white'},\n",
    "    yaxis={'title': 'Runs Scored', 'color': 'white'},\n",
    "    barmode='overlay',\n",
    "    plot_bgcolor='black',\n",
    "    paper_bgcolor='black',\n",
    "    font={'color': 'white'}\n",
    ")\n",
    "\n",
    "fig_overlay = go.Figure(data=[trace1_overlay, trace2_overlay], layout=layout_overlay)\n",
    "pyo.iplot(fig_overlay, filename='overlayed_bar_graph.html')\n"
   ]
  },
  {
   "cell_type": "markdown",
   "id": "7a3a3209",
   "metadata": {},
   "source": [
    "# 4. bubble plot\n",
    "again an extension of scatter plot.with some additional informations"
   ]
  },
  {
   "cell_type": "code",
   "execution_count": 55,
   "id": "9dbebe4b",
   "metadata": {},
   "outputs": [
    {
     "data": {
      "application/vnd.plotly.v1+json": {
       "config": {
        "linkText": "Export to plot.ly",
        "plotlyServerURL": "https://plot.ly",
        "showLink": false
       },
       "data": [
        {
         "marker": {
          "color": "deepskyblue",
          "line": {
           "color": "black",
           "width": 2
          },
          "size": {
           "bdata": "mpmZmZlJckDNzMzMzOxnQJqZmZmZyWdAAAAAAAAAZkAAAAAAAABmQJqZmZmZuWVANDMzMzNzZUDNzMzMzHxkQJqZmZmZWWRANDMzMzNjY0A=",
           "dtype": "f8"
          },
          "sizemode": "area",
          "sizeref": 0.0532
         },
         "mode": "markers+text",
         "text": [
          "CH Gayle",
          "SK Raina",
          "RG Sharma",
          "DA Warner",
          "V Kohli",
          "AB de Villiers",
          "MS Dhoni",
          "YK Pathan",
          "KA Pollard",
          "Yuvraj Singh"
         ],
         "textposition": "top center",
         "type": "scatter",
         "x": {
          "bdata": "HXjPN6ZNIUAsdWovEDMgQMoryADf1h5Ay4YMKySZIEAPCHP1l2EeQOcEuVxdaiFASA9Uzm7hH0DndJVn4uMgQIt/U6Pi3yBAVapWpWpVHkA=",
          "dtype": "f8"
         },
         "y": {
          "bdata": "CgGuAK0AoACgAJ4AnACVAJQAjQA=",
          "dtype": "i2"
         }
        }
       ],
       "layout": {
        "font": {
         "color": "white"
        },
        "paper_bgcolor": "black",
        "plot_bgcolor": "black",
        "template": {
         "data": {
          "bar": [
           {
            "error_x": {
             "color": "#2a3f5f"
            },
            "error_y": {
             "color": "#2a3f5f"
            },
            "marker": {
             "line": {
              "color": "#E5ECF6",
              "width": 0.5
             },
             "pattern": {
              "fillmode": "overlay",
              "size": 10,
              "solidity": 0.2
             }
            },
            "type": "bar"
           }
          ],
          "barpolar": [
           {
            "marker": {
             "line": {
              "color": "#E5ECF6",
              "width": 0.5
             },
             "pattern": {
              "fillmode": "overlay",
              "size": 10,
              "solidity": 0.2
             }
            },
            "type": "barpolar"
           }
          ],
          "carpet": [
           {
            "aaxis": {
             "endlinecolor": "#2a3f5f",
             "gridcolor": "white",
             "linecolor": "white",
             "minorgridcolor": "white",
             "startlinecolor": "#2a3f5f"
            },
            "baxis": {
             "endlinecolor": "#2a3f5f",
             "gridcolor": "white",
             "linecolor": "white",
             "minorgridcolor": "white",
             "startlinecolor": "#2a3f5f"
            },
            "type": "carpet"
           }
          ],
          "choropleth": [
           {
            "colorbar": {
             "outlinewidth": 0,
             "ticks": ""
            },
            "type": "choropleth"
           }
          ],
          "contour": [
           {
            "colorbar": {
             "outlinewidth": 0,
             "ticks": ""
            },
            "colorscale": [
             [
              0,
              "#0d0887"
             ],
             [
              0.1111111111111111,
              "#46039f"
             ],
             [
              0.2222222222222222,
              "#7201a8"
             ],
             [
              0.3333333333333333,
              "#9c179e"
             ],
             [
              0.4444444444444444,
              "#bd3786"
             ],
             [
              0.5555555555555556,
              "#d8576b"
             ],
             [
              0.6666666666666666,
              "#ed7953"
             ],
             [
              0.7777777777777778,
              "#fb9f3a"
             ],
             [
              0.8888888888888888,
              "#fdca26"
             ],
             [
              1,
              "#f0f921"
             ]
            ],
            "type": "contour"
           }
          ],
          "contourcarpet": [
           {
            "colorbar": {
             "outlinewidth": 0,
             "ticks": ""
            },
            "type": "contourcarpet"
           }
          ],
          "heatmap": [
           {
            "colorbar": {
             "outlinewidth": 0,
             "ticks": ""
            },
            "colorscale": [
             [
              0,
              "#0d0887"
             ],
             [
              0.1111111111111111,
              "#46039f"
             ],
             [
              0.2222222222222222,
              "#7201a8"
             ],
             [
              0.3333333333333333,
              "#9c179e"
             ],
             [
              0.4444444444444444,
              "#bd3786"
             ],
             [
              0.5555555555555556,
              "#d8576b"
             ],
             [
              0.6666666666666666,
              "#ed7953"
             ],
             [
              0.7777777777777778,
              "#fb9f3a"
             ],
             [
              0.8888888888888888,
              "#fdca26"
             ],
             [
              1,
              "#f0f921"
             ]
            ],
            "type": "heatmap"
           }
          ],
          "histogram": [
           {
            "marker": {
             "pattern": {
              "fillmode": "overlay",
              "size": 10,
              "solidity": 0.2
             }
            },
            "type": "histogram"
           }
          ],
          "histogram2d": [
           {
            "colorbar": {
             "outlinewidth": 0,
             "ticks": ""
            },
            "colorscale": [
             [
              0,
              "#0d0887"
             ],
             [
              0.1111111111111111,
              "#46039f"
             ],
             [
              0.2222222222222222,
              "#7201a8"
             ],
             [
              0.3333333333333333,
              "#9c179e"
             ],
             [
              0.4444444444444444,
              "#bd3786"
             ],
             [
              0.5555555555555556,
              "#d8576b"
             ],
             [
              0.6666666666666666,
              "#ed7953"
             ],
             [
              0.7777777777777778,
              "#fb9f3a"
             ],
             [
              0.8888888888888888,
              "#fdca26"
             ],
             [
              1,
              "#f0f921"
             ]
            ],
            "type": "histogram2d"
           }
          ],
          "histogram2dcontour": [
           {
            "colorbar": {
             "outlinewidth": 0,
             "ticks": ""
            },
            "colorscale": [
             [
              0,
              "#0d0887"
             ],
             [
              0.1111111111111111,
              "#46039f"
             ],
             [
              0.2222222222222222,
              "#7201a8"
             ],
             [
              0.3333333333333333,
              "#9c179e"
             ],
             [
              0.4444444444444444,
              "#bd3786"
             ],
             [
              0.5555555555555556,
              "#d8576b"
             ],
             [
              0.6666666666666666,
              "#ed7953"
             ],
             [
              0.7777777777777778,
              "#fb9f3a"
             ],
             [
              0.8888888888888888,
              "#fdca26"
             ],
             [
              1,
              "#f0f921"
             ]
            ],
            "type": "histogram2dcontour"
           }
          ],
          "mesh3d": [
           {
            "colorbar": {
             "outlinewidth": 0,
             "ticks": ""
            },
            "type": "mesh3d"
           }
          ],
          "parcoords": [
           {
            "line": {
             "colorbar": {
              "outlinewidth": 0,
              "ticks": ""
             }
            },
            "type": "parcoords"
           }
          ],
          "pie": [
           {
            "automargin": true,
            "type": "pie"
           }
          ],
          "scatter": [
           {
            "fillpattern": {
             "fillmode": "overlay",
             "size": 10,
             "solidity": 0.2
            },
            "type": "scatter"
           }
          ],
          "scatter3d": [
           {
            "line": {
             "colorbar": {
              "outlinewidth": 0,
              "ticks": ""
             }
            },
            "marker": {
             "colorbar": {
              "outlinewidth": 0,
              "ticks": ""
             }
            },
            "type": "scatter3d"
           }
          ],
          "scattercarpet": [
           {
            "marker": {
             "colorbar": {
              "outlinewidth": 0,
              "ticks": ""
             }
            },
            "type": "scattercarpet"
           }
          ],
          "scattergeo": [
           {
            "marker": {
             "colorbar": {
              "outlinewidth": 0,
              "ticks": ""
             }
            },
            "type": "scattergeo"
           }
          ],
          "scattergl": [
           {
            "marker": {
             "colorbar": {
              "outlinewidth": 0,
              "ticks": ""
             }
            },
            "type": "scattergl"
           }
          ],
          "scattermap": [
           {
            "marker": {
             "colorbar": {
              "outlinewidth": 0,
              "ticks": ""
             }
            },
            "type": "scattermap"
           }
          ],
          "scattermapbox": [
           {
            "marker": {
             "colorbar": {
              "outlinewidth": 0,
              "ticks": ""
             }
            },
            "type": "scattermapbox"
           }
          ],
          "scatterpolar": [
           {
            "marker": {
             "colorbar": {
              "outlinewidth": 0,
              "ticks": ""
             }
            },
            "type": "scatterpolar"
           }
          ],
          "scatterpolargl": [
           {
            "marker": {
             "colorbar": {
              "outlinewidth": 0,
              "ticks": ""
             }
            },
            "type": "scatterpolargl"
           }
          ],
          "scatterternary": [
           {
            "marker": {
             "colorbar": {
              "outlinewidth": 0,
              "ticks": ""
             }
            },
            "type": "scatterternary"
           }
          ],
          "surface": [
           {
            "colorbar": {
             "outlinewidth": 0,
             "ticks": ""
            },
            "colorscale": [
             [
              0,
              "#0d0887"
             ],
             [
              0.1111111111111111,
              "#46039f"
             ],
             [
              0.2222222222222222,
              "#7201a8"
             ],
             [
              0.3333333333333333,
              "#9c179e"
             ],
             [
              0.4444444444444444,
              "#bd3786"
             ],
             [
              0.5555555555555556,
              "#d8576b"
             ],
             [
              0.6666666666666666,
              "#ed7953"
             ],
             [
              0.7777777777777778,
              "#fb9f3a"
             ],
             [
              0.8888888888888888,
              "#fdca26"
             ],
             [
              1,
              "#f0f921"
             ]
            ],
            "type": "surface"
           }
          ],
          "table": [
           {
            "cells": {
             "fill": {
              "color": "#EBF0F8"
             },
             "line": {
              "color": "white"
             }
            },
            "header": {
             "fill": {
              "color": "#C8D4E3"
             },
             "line": {
              "color": "white"
             }
            },
            "type": "table"
           }
          ]
         },
         "layout": {
          "annotationdefaults": {
           "arrowcolor": "#2a3f5f",
           "arrowhead": 0,
           "arrowwidth": 1
          },
          "autotypenumbers": "strict",
          "coloraxis": {
           "colorbar": {
            "outlinewidth": 0,
            "ticks": ""
           }
          },
          "colorscale": {
           "diverging": [
            [
             0,
             "#8e0152"
            ],
            [
             0.1,
             "#c51b7d"
            ],
            [
             0.2,
             "#de77ae"
            ],
            [
             0.3,
             "#f1b6da"
            ],
            [
             0.4,
             "#fde0ef"
            ],
            [
             0.5,
             "#f7f7f7"
            ],
            [
             0.6,
             "#e6f5d0"
            ],
            [
             0.7,
             "#b8e186"
            ],
            [
             0.8,
             "#7fbc41"
            ],
            [
             0.9,
             "#4d9221"
            ],
            [
             1,
             "#276419"
            ]
           ],
           "sequential": [
            [
             0,
             "#0d0887"
            ],
            [
             0.1111111111111111,
             "#46039f"
            ],
            [
             0.2222222222222222,
             "#7201a8"
            ],
            [
             0.3333333333333333,
             "#9c179e"
            ],
            [
             0.4444444444444444,
             "#bd3786"
            ],
            [
             0.5555555555555556,
             "#d8576b"
            ],
            [
             0.6666666666666666,
             "#ed7953"
            ],
            [
             0.7777777777777778,
             "#fb9f3a"
            ],
            [
             0.8888888888888888,
             "#fdca26"
            ],
            [
             1,
             "#f0f921"
            ]
           ],
           "sequentialminus": [
            [
             0,
             "#0d0887"
            ],
            [
             0.1111111111111111,
             "#46039f"
            ],
            [
             0.2222222222222222,
             "#7201a8"
            ],
            [
             0.3333333333333333,
             "#9c179e"
            ],
            [
             0.4444444444444444,
             "#bd3786"
            ],
            [
             0.5555555555555556,
             "#d8576b"
            ],
            [
             0.6666666666666666,
             "#ed7953"
            ],
            [
             0.7777777777777778,
             "#fb9f3a"
            ],
            [
             0.8888888888888888,
             "#fdca26"
            ],
            [
             1,
             "#f0f921"
            ]
           ]
          },
          "colorway": [
           "#636efa",
           "#EF553B",
           "#00cc96",
           "#ab63fa",
           "#FFA15A",
           "#19d3f3",
           "#FF6692",
           "#B6E880",
           "#FF97FF",
           "#FECB52"
          ],
          "font": {
           "color": "#2a3f5f"
          },
          "geo": {
           "bgcolor": "white",
           "lakecolor": "white",
           "landcolor": "#E5ECF6",
           "showlakes": true,
           "showland": true,
           "subunitcolor": "white"
          },
          "hoverlabel": {
           "align": "left"
          },
          "hovermode": "closest",
          "mapbox": {
           "style": "light"
          },
          "paper_bgcolor": "white",
          "plot_bgcolor": "#E5ECF6",
          "polar": {
           "angularaxis": {
            "gridcolor": "white",
            "linecolor": "white",
            "ticks": ""
           },
           "bgcolor": "#E5ECF6",
           "radialaxis": {
            "gridcolor": "white",
            "linecolor": "white",
            "ticks": ""
           }
          },
          "scene": {
           "xaxis": {
            "backgroundcolor": "#E5ECF6",
            "gridcolor": "white",
            "gridwidth": 2,
            "linecolor": "white",
            "showbackground": true,
            "ticks": "",
            "zerolinecolor": "white"
           },
           "yaxis": {
            "backgroundcolor": "#E5ECF6",
            "gridcolor": "white",
            "gridwidth": 2,
            "linecolor": "white",
            "showbackground": true,
            "ticks": "",
            "zerolinecolor": "white"
           },
           "zaxis": {
            "backgroundcolor": "#E5ECF6",
            "gridcolor": "white",
            "gridwidth": 2,
            "linecolor": "white",
            "showbackground": true,
            "ticks": "",
            "zerolinecolor": "white"
           }
          },
          "shapedefaults": {
           "line": {
            "color": "#2a3f5f"
           }
          },
          "ternary": {
           "aaxis": {
            "gridcolor": "white",
            "linecolor": "white",
            "ticks": ""
           },
           "baxis": {
            "gridcolor": "white",
            "linecolor": "white",
            "ticks": ""
           },
           "bgcolor": "#E5ECF6",
           "caxis": {
            "gridcolor": "white",
            "linecolor": "white",
            "ticks": ""
           }
          },
          "title": {
           "x": 0.05
          },
          "xaxis": {
           "automargin": true,
           "gridcolor": "white",
           "linecolor": "white",
           "ticks": "",
           "title": {
            "standoff": 15
           },
           "zerolinecolor": "white",
           "zerolinewidth": 2
          },
          "yaxis": {
           "automargin": true,
           "gridcolor": "white",
           "linecolor": "white",
           "ticks": "",
           "title": {
            "standoff": 15
           },
           "zerolinecolor": "white",
           "zerolinewidth": 2
          }
         }
        },
        "title": {
         "text": "Top 10 Batsmen with Most Sixes vs Batting Average"
        },
        "xaxis": {
         "color": "white",
         "title": {
          "text": "Batting Average"
         }
        },
        "yaxis": {
         "color": "white",
         "title": {
          "text": "Number of Sixes"
         }
        }
       }
      }
     },
     "metadata": {},
     "output_type": "display_data"
    }
   ],
   "source": [
    "import plotly.graph_objs as go\n",
    "import plotly.offline as pyo\n",
    "\n",
    "# Calculate total sixes\n",
    "sixes_df = ipl[ipl['batsman_runs'] == 6]\n",
    "six = sixes_df.groupby('batsman')['batsman_runs'].count().reset_index()\n",
    "six = six.sort_values(by='batsman_runs', ascending=False).head(10)\n",
    "\n",
    "# Calculate batsman averages from full ipl data\n",
    "avg_df = ipl.groupby('batsman').agg({'batsman_runs': 'sum', 'ball': 'count'}).reset_index()\n",
    "avg_df['batsman_avg'] = avg_df['batsman_runs'] / (avg_df['ball'] / 6)\n",
    "\n",
    "# Merge average with sixes\n",
    "merged = pd.merge(six, avg_df[['batsman', 'batsman_avg']], on='batsman')\n",
    "\n",
    "# Bubble plot\n",
    "trace = go.Scatter(\n",
    "    x=merged['batsman_avg'],\n",
    "    y=merged['batsman_runs'],\n",
    "    mode='markers+text',\n",
    "    text=merged['batsman'],\n",
    "    textposition='top center',\n",
    "    marker=dict(\n",
    "        size=merged['batsman_runs'] * 1.1,  # Scale bubble size\n",
    "        color='deepskyblue',\n",
    "        line=dict(width=2, color='black'),\n",
    "        sizemode='area',\n",
    "        sizeref=2.*max(merged['batsman_runs'])/(100**2),\n",
    "    )\n",
    ")\n",
    "\n",
    "layout = go.Layout(\n",
    "    title='Top 10 Batsmen with Most Sixes vs Batting Average',\n",
    "    xaxis=dict(title='Batting Average', color='white'),\n",
    "    yaxis=dict(title='Number of Sixes', color='white'),\n",
    "    plot_bgcolor='black',\n",
    "    paper_bgcolor='black',\n",
    "    font=dict(color='white'),\n",
    ")\n",
    "\n",
    "fig = go.Figure(data=[trace], layout=layout)\n",
    "pyo.iplot(fig, filename='bubble_chart_most_sixes.html')\n"
   ]
  },
  {
   "cell_type": "markdown",
   "id": "242a036c",
   "metadata": {},
   "source": [
    "# 5. box plot\n",
    "a box and whisker plot - also called a box plot - displays the five-number summary of a set of data\n",
    " "
   ]
  },
  {
   "cell_type": "code",
   "execution_count": 57,
   "id": "c02002db",
   "metadata": {},
   "outputs": [
    {
     "data": {
      "application/vnd.microsoft.datawrangler.viewer.v0+json": {
       "columns": [
        {
         "name": "index",
         "rawType": "int64",
         "type": "integer"
        },
        {
         "name": "match_id",
         "rawType": "int64",
         "type": "integer"
        },
        {
         "name": "total_runs",
         "rawType": "int64",
         "type": "integer"
        },
        {
         "name": "season",
         "rawType": "int64",
         "type": "integer"
        }
       ],
       "ref": "567d5a01-6371-44cf-a8e1-7261af03c8eb",
       "rows": [
        [
         "0",
         "1",
         "379",
         "2017"
        ],
        [
         "1",
         "2",
         "371",
         "2017"
        ],
        [
         "2",
         "3",
         "367",
         "2017"
        ],
        [
         "3",
         "4",
         "327",
         "2017"
        ],
        [
         "4",
         "5",
         "299",
         "2017"
        ],
        [
         "5",
         "6",
         "275",
         "2017"
        ],
        [
         "6",
         "7",
         "358",
         "2017"
        ],
        [
         "7",
         "8",
         "298",
         "2017"
        ],
        [
         "8",
         "9",
         "313",
         "2017"
        ],
        [
         "9",
         "10",
         "317",
         "2017"
        ],
        [
         "10",
         "11",
         "341",
         "2017"
        ],
        [
         "11",
         "12",
         "287",
         "2017"
        ],
        [
         "12",
         "13",
         "343",
         "2017"
        ],
        [
         "13",
         "14",
         "327",
         "2017"
        ],
        [
         "14",
         "15",
         "325",
         "2017"
        ],
        [
         "15",
         "16",
         "353",
         "2017"
        ],
        [
         "16",
         "17",
         "295",
         "2017"
        ],
        [
         "17",
         "18",
         "337",
         "2017"
        ],
        [
         "18",
         "19",
         "313",
         "2017"
        ],
        [
         "19",
         "20",
         "405",
         "2017"
        ],
        [
         "20",
         "21",
         "367",
         "2017"
        ],
        [
         "21",
         "22",
         "397",
         "2017"
        ],
        [
         "22",
         "23",
         "375",
         "2017"
        ],
        [
         "23",
         "24",
         "270",
         "2017"
        ],
        [
         "24",
         "25",
         "355",
         "2017"
        ],
        [
         "25",
         "26",
         "350",
         "2017"
        ],
        [
         "26",
         "27",
         "180",
         "2017"
        ],
        [
         "27",
         "28",
         "317",
         "2017"
        ],
        [
         "28",
         "29",
         "366",
         "2017"
        ],
        [
         "29",
         "30",
         "269",
         "2017"
        ],
        [
         "30",
         "31",
         "321",
         "2017"
        ],
        [
         "31",
         "32",
         "388",
         "2017"
        ],
        [
         "32",
         "33",
         "253",
         "2017"
        ],
        [
         "33",
         "34",
         "323",
         "2017"
        ],
        [
         "34",
         "35",
         "135",
         "2017"
        ],
        [
         "35",
         "36",
         "370",
         "2017"
        ],
        [
         "36",
         "37",
         "327",
         "2017"
        ],
        [
         "37",
         "38",
         "328",
         "2017"
        ],
        [
         "38",
         "39",
         "374",
         "2017"
        ],
        [
         "39",
         "40",
         "313",
         "2017"
        ],
        [
         "40",
         "41",
         "422",
         "2017"
        ],
        [
         "41",
         "42",
         "257",
         "2017"
        ],
        [
         "42",
         "43",
         "284",
         "2017"
        ],
        [
         "43",
         "44",
         "278",
         "2017"
        ],
        [
         "44",
         "45",
         "317",
         "2017"
        ],
        [
         "45",
         "46",
         "381",
         "2017"
        ],
        [
         "46",
         "47",
         "278",
         "2017"
        ],
        [
         "47",
         "48",
         "320",
         "2017"
        ],
        [
         "48",
         "49",
         "392",
         "2017"
        ],
        [
         "49",
         "50",
         "453",
         "2017"
        ]
       ],
       "shape": {
        "columns": 3,
        "rows": 636
       }
      },
      "text/html": [
       "<div>\n",
       "<style scoped>\n",
       "    .dataframe tbody tr th:only-of-type {\n",
       "        vertical-align: middle;\n",
       "    }\n",
       "\n",
       "    .dataframe tbody tr th {\n",
       "        vertical-align: top;\n",
       "    }\n",
       "\n",
       "    .dataframe thead th {\n",
       "        text-align: right;\n",
       "    }\n",
       "</style>\n",
       "<table border=\"1\" class=\"dataframe\">\n",
       "  <thead>\n",
       "    <tr style=\"text-align: right;\">\n",
       "      <th></th>\n",
       "      <th>match_id</th>\n",
       "      <th>total_runs</th>\n",
       "      <th>season</th>\n",
       "    </tr>\n",
       "  </thead>\n",
       "  <tbody>\n",
       "    <tr>\n",
       "      <th>0</th>\n",
       "      <td>1</td>\n",
       "      <td>379</td>\n",
       "      <td>2017</td>\n",
       "    </tr>\n",
       "    <tr>\n",
       "      <th>1</th>\n",
       "      <td>2</td>\n",
       "      <td>371</td>\n",
       "      <td>2017</td>\n",
       "    </tr>\n",
       "    <tr>\n",
       "      <th>2</th>\n",
       "      <td>3</td>\n",
       "      <td>367</td>\n",
       "      <td>2017</td>\n",
       "    </tr>\n",
       "    <tr>\n",
       "      <th>3</th>\n",
       "      <td>4</td>\n",
       "      <td>327</td>\n",
       "      <td>2017</td>\n",
       "    </tr>\n",
       "    <tr>\n",
       "      <th>4</th>\n",
       "      <td>5</td>\n",
       "      <td>299</td>\n",
       "      <td>2017</td>\n",
       "    </tr>\n",
       "    <tr>\n",
       "      <th>...</th>\n",
       "      <td>...</td>\n",
       "      <td>...</td>\n",
       "      <td>...</td>\n",
       "    </tr>\n",
       "    <tr>\n",
       "      <th>631</th>\n",
       "      <td>632</td>\n",
       "      <td>277</td>\n",
       "      <td>2016</td>\n",
       "    </tr>\n",
       "    <tr>\n",
       "      <th>632</th>\n",
       "      <td>633</td>\n",
       "      <td>317</td>\n",
       "      <td>2016</td>\n",
       "    </tr>\n",
       "    <tr>\n",
       "      <th>633</th>\n",
       "      <td>634</td>\n",
       "      <td>302</td>\n",
       "      <td>2016</td>\n",
       "    </tr>\n",
       "    <tr>\n",
       "      <th>634</th>\n",
       "      <td>635</td>\n",
       "      <td>325</td>\n",
       "      <td>2016</td>\n",
       "    </tr>\n",
       "    <tr>\n",
       "      <th>635</th>\n",
       "      <td>636</td>\n",
       "      <td>408</td>\n",
       "      <td>2016</td>\n",
       "    </tr>\n",
       "  </tbody>\n",
       "</table>\n",
       "<p>636 rows × 3 columns</p>\n",
       "</div>"
      ],
      "text/plain": [
       "     match_id  total_runs  season\n",
       "0           1         379    2017\n",
       "1           2         371    2017\n",
       "2           3         367    2017\n",
       "3           4         327    2017\n",
       "4           5         299    2017\n",
       "..        ...         ...     ...\n",
       "631       632         277    2016\n",
       "632       633         317    2016\n",
       "633       634         302    2016\n",
       "634       635         325    2016\n",
       "635       636         408    2016\n",
       "\n",
       "[636 rows x 3 columns]"
      ]
     },
     "execution_count": 57,
     "metadata": {},
     "output_type": "execute_result"
    }
   ],
   "source": [
    "match_aggregate = ipl.groupby('match_id')['total_runs'].sum().reset_index()\n",
    "season_wise = match_aggregate.merge(match,left_on='match_id', right_on='id')[['match_id', 'total_runs', 'season']]\n",
    "season_wise"
   ]
  },
  {
   "cell_type": "code",
   "execution_count": 58,
   "id": "d73e0a9b",
   "metadata": {},
   "outputs": [
    {
     "data": {
      "application/vnd.plotly.v1+json": {
       "config": {
        "linkText": "Export to plot.ly",
        "plotlyServerURL": "https://plot.ly",
        "showLink": false
       },
       "data": [
        {
         "name": "all seasons",
         "type": "box",
         "x": {
          "bdata": "ewFzAW8BRwErARMBZgEqATkBPQFVAR8BVwFHAUUBYQEnAVEBOQGVAW8BjQF3AQ4BYwFeAbQAPQFuAQ0BQQGEAf0AQwGHAHIBRwFIAXYBOQGmAQEBHAEWAT0BfQEWAUABiAHFAUkBOAFRAZcAOAEwAbAA2gABATABvwEFAUsB3gBOAR0BmgGvASoBEQErATUBQAFXARMBdAFLAVsBVQFQAVsBJwHbAP0AJAHPAHcB/QAZAfgAWAGBATsBHwHzADoBkQF4AYcA1ABJAUsBzAA4ASkBeQHuAGEBYwGcATUBXQEjAScBFwHkAEcBNwG/AKIAzQAKAe0AWAFxAU0BVQFEASsB+wBOARoBIgEaAesAKgEiAR8BGgEbATQBMwErARYBWAE3AQ8B1ABnAeoAUQEZASoB+AAXAV0B8QBOAQUBIAHzACoBRgELAR4BeQENAcsA0ABLAUgBMwEnARgBNwGkASABDwFdARsBlwERAVIBuQB3AU4BLgEyAUwBIwE3ATIBTwFpASsBRwFdAVEBLwE6AUcBQwE1AVIBbQHVASUBlAFLATwBMgE2AVwBcgE4ARUBQgHfADcBIQFHARoBBgHhAGABRQEJAYMBFwEMAU0B9gCoADoBMAEWAUMBwgDhAD0BLwEbAX0BKwE9AT8BbgFZAUsBeQGmAAoBQAHyAAIBVgFAAVoBsQEzAdwAAwFBAR4BywAXAb0AUAEUAe8AHwE3AScBGQE+ASgBKwEnAWIBRQGvAEQB/QDvAEkBEQH6ACkBTgFnAcIABAE3AcMAEgFhASUB7QALAToBOAABAWEBYAEnAUcBYAHjAMUA5gBfASYBOAEyATYBGAEgAd0AbwGdAecADAE/ATcBCgFLAbkAiQFwAfsAfAE7AUkBJQFsAUcB/QBMASYBUwFQAXkBMQFNAS8ByQAXAWcBHQFBAe8ANgElATcBWwFuATMB+wA7ARsB/QA3AVEB5QAnAYABWAE+ARQB+ADzAJkB/gAeAe4A/wBFATIBUAFmAX4BAQE2AeYARQEfAccAJwENAXYBFQE4ASUB5QBFAUsBOAH6ACYBNgFKAeMADwH8APoA8wDwAEYBcwFzAYwBTwFBAT8BKwEiAUoBggE5AVgBWAEjAQMBEQFlAWUBCQGhAF4B2gBoAUMBNQETAXEBJAECAWoB5AAOAecAHQHxAGoBTQEvAT4BgAH5ADwBMgG8AAYBUAELAU4BEQEdASMBmwEMAecATQGAAQUBOgERASoBbAEbAY0A8QD7ACMB+wBGAUkBBgFSATQBOQFKAWcBYwFBAaIB7ABsAbsAPQErAX0BPQEpAWQBoAEbAVQBGAEgAUsBSQFBATYBOwFoAXYBSwFWAToBQQHqAIABKgFdAawBjwFSASsBKgF1AWQBcgFQAVIBSQFOAU4BAgF0AUoBOgE5AZABJQGTARUBTwFXAQgBJgEfAcIAGAFJAcgACgHtAG4B4gBqAUEBbAEQASsBMQE6AYsBPQFvAUABrwEuAW0B7wC+AFEB2gAIAYUBvQDjAF0BIQEXAWsB9wDFAEMBmQF3AUcB4AAgASIBMQF/AR8BFwFVARABZQE+ASEBagFCAWEB1ABXAWABhwFZAXUBHQFAAXYBKwFBAUgB/wCCAWEBDQFCAV0BDgEwASgB+wBgAakAZwFMAXEBxQBLAfkAPwFZAVkBQAEVAT0BLgFFAZgB",
          "dtype": "i2"
         }
        }
       ],
       "layout": {
        "font": {
         "color": "white"
        },
        "paper_bgcolor": "black",
        "plot_bgcolor": "black",
        "template": {
         "data": {
          "bar": [
           {
            "error_x": {
             "color": "#2a3f5f"
            },
            "error_y": {
             "color": "#2a3f5f"
            },
            "marker": {
             "line": {
              "color": "#E5ECF6",
              "width": 0.5
             },
             "pattern": {
              "fillmode": "overlay",
              "size": 10,
              "solidity": 0.2
             }
            },
            "type": "bar"
           }
          ],
          "barpolar": [
           {
            "marker": {
             "line": {
              "color": "#E5ECF6",
              "width": 0.5
             },
             "pattern": {
              "fillmode": "overlay",
              "size": 10,
              "solidity": 0.2
             }
            },
            "type": "barpolar"
           }
          ],
          "carpet": [
           {
            "aaxis": {
             "endlinecolor": "#2a3f5f",
             "gridcolor": "white",
             "linecolor": "white",
             "minorgridcolor": "white",
             "startlinecolor": "#2a3f5f"
            },
            "baxis": {
             "endlinecolor": "#2a3f5f",
             "gridcolor": "white",
             "linecolor": "white",
             "minorgridcolor": "white",
             "startlinecolor": "#2a3f5f"
            },
            "type": "carpet"
           }
          ],
          "choropleth": [
           {
            "colorbar": {
             "outlinewidth": 0,
             "ticks": ""
            },
            "type": "choropleth"
           }
          ],
          "contour": [
           {
            "colorbar": {
             "outlinewidth": 0,
             "ticks": ""
            },
            "colorscale": [
             [
              0,
              "#0d0887"
             ],
             [
              0.1111111111111111,
              "#46039f"
             ],
             [
              0.2222222222222222,
              "#7201a8"
             ],
             [
              0.3333333333333333,
              "#9c179e"
             ],
             [
              0.4444444444444444,
              "#bd3786"
             ],
             [
              0.5555555555555556,
              "#d8576b"
             ],
             [
              0.6666666666666666,
              "#ed7953"
             ],
             [
              0.7777777777777778,
              "#fb9f3a"
             ],
             [
              0.8888888888888888,
              "#fdca26"
             ],
             [
              1,
              "#f0f921"
             ]
            ],
            "type": "contour"
           }
          ],
          "contourcarpet": [
           {
            "colorbar": {
             "outlinewidth": 0,
             "ticks": ""
            },
            "type": "contourcarpet"
           }
          ],
          "heatmap": [
           {
            "colorbar": {
             "outlinewidth": 0,
             "ticks": ""
            },
            "colorscale": [
             [
              0,
              "#0d0887"
             ],
             [
              0.1111111111111111,
              "#46039f"
             ],
             [
              0.2222222222222222,
              "#7201a8"
             ],
             [
              0.3333333333333333,
              "#9c179e"
             ],
             [
              0.4444444444444444,
              "#bd3786"
             ],
             [
              0.5555555555555556,
              "#d8576b"
             ],
             [
              0.6666666666666666,
              "#ed7953"
             ],
             [
              0.7777777777777778,
              "#fb9f3a"
             ],
             [
              0.8888888888888888,
              "#fdca26"
             ],
             [
              1,
              "#f0f921"
             ]
            ],
            "type": "heatmap"
           }
          ],
          "histogram": [
           {
            "marker": {
             "pattern": {
              "fillmode": "overlay",
              "size": 10,
              "solidity": 0.2
             }
            },
            "type": "histogram"
           }
          ],
          "histogram2d": [
           {
            "colorbar": {
             "outlinewidth": 0,
             "ticks": ""
            },
            "colorscale": [
             [
              0,
              "#0d0887"
             ],
             [
              0.1111111111111111,
              "#46039f"
             ],
             [
              0.2222222222222222,
              "#7201a8"
             ],
             [
              0.3333333333333333,
              "#9c179e"
             ],
             [
              0.4444444444444444,
              "#bd3786"
             ],
             [
              0.5555555555555556,
              "#d8576b"
             ],
             [
              0.6666666666666666,
              "#ed7953"
             ],
             [
              0.7777777777777778,
              "#fb9f3a"
             ],
             [
              0.8888888888888888,
              "#fdca26"
             ],
             [
              1,
              "#f0f921"
             ]
            ],
            "type": "histogram2d"
           }
          ],
          "histogram2dcontour": [
           {
            "colorbar": {
             "outlinewidth": 0,
             "ticks": ""
            },
            "colorscale": [
             [
              0,
              "#0d0887"
             ],
             [
              0.1111111111111111,
              "#46039f"
             ],
             [
              0.2222222222222222,
              "#7201a8"
             ],
             [
              0.3333333333333333,
              "#9c179e"
             ],
             [
              0.4444444444444444,
              "#bd3786"
             ],
             [
              0.5555555555555556,
              "#d8576b"
             ],
             [
              0.6666666666666666,
              "#ed7953"
             ],
             [
              0.7777777777777778,
              "#fb9f3a"
             ],
             [
              0.8888888888888888,
              "#fdca26"
             ],
             [
              1,
              "#f0f921"
             ]
            ],
            "type": "histogram2dcontour"
           }
          ],
          "mesh3d": [
           {
            "colorbar": {
             "outlinewidth": 0,
             "ticks": ""
            },
            "type": "mesh3d"
           }
          ],
          "parcoords": [
           {
            "line": {
             "colorbar": {
              "outlinewidth": 0,
              "ticks": ""
             }
            },
            "type": "parcoords"
           }
          ],
          "pie": [
           {
            "automargin": true,
            "type": "pie"
           }
          ],
          "scatter": [
           {
            "fillpattern": {
             "fillmode": "overlay",
             "size": 10,
             "solidity": 0.2
            },
            "type": "scatter"
           }
          ],
          "scatter3d": [
           {
            "line": {
             "colorbar": {
              "outlinewidth": 0,
              "ticks": ""
             }
            },
            "marker": {
             "colorbar": {
              "outlinewidth": 0,
              "ticks": ""
             }
            },
            "type": "scatter3d"
           }
          ],
          "scattercarpet": [
           {
            "marker": {
             "colorbar": {
              "outlinewidth": 0,
              "ticks": ""
             }
            },
            "type": "scattercarpet"
           }
          ],
          "scattergeo": [
           {
            "marker": {
             "colorbar": {
              "outlinewidth": 0,
              "ticks": ""
             }
            },
            "type": "scattergeo"
           }
          ],
          "scattergl": [
           {
            "marker": {
             "colorbar": {
              "outlinewidth": 0,
              "ticks": ""
             }
            },
            "type": "scattergl"
           }
          ],
          "scattermap": [
           {
            "marker": {
             "colorbar": {
              "outlinewidth": 0,
              "ticks": ""
             }
            },
            "type": "scattermap"
           }
          ],
          "scattermapbox": [
           {
            "marker": {
             "colorbar": {
              "outlinewidth": 0,
              "ticks": ""
             }
            },
            "type": "scattermapbox"
           }
          ],
          "scatterpolar": [
           {
            "marker": {
             "colorbar": {
              "outlinewidth": 0,
              "ticks": ""
             }
            },
            "type": "scatterpolar"
           }
          ],
          "scatterpolargl": [
           {
            "marker": {
             "colorbar": {
              "outlinewidth": 0,
              "ticks": ""
             }
            },
            "type": "scatterpolargl"
           }
          ],
          "scatterternary": [
           {
            "marker": {
             "colorbar": {
              "outlinewidth": 0,
              "ticks": ""
             }
            },
            "type": "scatterternary"
           }
          ],
          "surface": [
           {
            "colorbar": {
             "outlinewidth": 0,
             "ticks": ""
            },
            "colorscale": [
             [
              0,
              "#0d0887"
             ],
             [
              0.1111111111111111,
              "#46039f"
             ],
             [
              0.2222222222222222,
              "#7201a8"
             ],
             [
              0.3333333333333333,
              "#9c179e"
             ],
             [
              0.4444444444444444,
              "#bd3786"
             ],
             [
              0.5555555555555556,
              "#d8576b"
             ],
             [
              0.6666666666666666,
              "#ed7953"
             ],
             [
              0.7777777777777778,
              "#fb9f3a"
             ],
             [
              0.8888888888888888,
              "#fdca26"
             ],
             [
              1,
              "#f0f921"
             ]
            ],
            "type": "surface"
           }
          ],
          "table": [
           {
            "cells": {
             "fill": {
              "color": "#EBF0F8"
             },
             "line": {
              "color": "white"
             }
            },
            "header": {
             "fill": {
              "color": "#C8D4E3"
             },
             "line": {
              "color": "white"
             }
            },
            "type": "table"
           }
          ]
         },
         "layout": {
          "annotationdefaults": {
           "arrowcolor": "#2a3f5f",
           "arrowhead": 0,
           "arrowwidth": 1
          },
          "autotypenumbers": "strict",
          "coloraxis": {
           "colorbar": {
            "outlinewidth": 0,
            "ticks": ""
           }
          },
          "colorscale": {
           "diverging": [
            [
             0,
             "#8e0152"
            ],
            [
             0.1,
             "#c51b7d"
            ],
            [
             0.2,
             "#de77ae"
            ],
            [
             0.3,
             "#f1b6da"
            ],
            [
             0.4,
             "#fde0ef"
            ],
            [
             0.5,
             "#f7f7f7"
            ],
            [
             0.6,
             "#e6f5d0"
            ],
            [
             0.7,
             "#b8e186"
            ],
            [
             0.8,
             "#7fbc41"
            ],
            [
             0.9,
             "#4d9221"
            ],
            [
             1,
             "#276419"
            ]
           ],
           "sequential": [
            [
             0,
             "#0d0887"
            ],
            [
             0.1111111111111111,
             "#46039f"
            ],
            [
             0.2222222222222222,
             "#7201a8"
            ],
            [
             0.3333333333333333,
             "#9c179e"
            ],
            [
             0.4444444444444444,
             "#bd3786"
            ],
            [
             0.5555555555555556,
             "#d8576b"
            ],
            [
             0.6666666666666666,
             "#ed7953"
            ],
            [
             0.7777777777777778,
             "#fb9f3a"
            ],
            [
             0.8888888888888888,
             "#fdca26"
            ],
            [
             1,
             "#f0f921"
            ]
           ],
           "sequentialminus": [
            [
             0,
             "#0d0887"
            ],
            [
             0.1111111111111111,
             "#46039f"
            ],
            [
             0.2222222222222222,
             "#7201a8"
            ],
            [
             0.3333333333333333,
             "#9c179e"
            ],
            [
             0.4444444444444444,
             "#bd3786"
            ],
            [
             0.5555555555555556,
             "#d8576b"
            ],
            [
             0.6666666666666666,
             "#ed7953"
            ],
            [
             0.7777777777777778,
             "#fb9f3a"
            ],
            [
             0.8888888888888888,
             "#fdca26"
            ],
            [
             1,
             "#f0f921"
            ]
           ]
          },
          "colorway": [
           "#636efa",
           "#EF553B",
           "#00cc96",
           "#ab63fa",
           "#FFA15A",
           "#19d3f3",
           "#FF6692",
           "#B6E880",
           "#FF97FF",
           "#FECB52"
          ],
          "font": {
           "color": "#2a3f5f"
          },
          "geo": {
           "bgcolor": "white",
           "lakecolor": "white",
           "landcolor": "#E5ECF6",
           "showlakes": true,
           "showland": true,
           "subunitcolor": "white"
          },
          "hoverlabel": {
           "align": "left"
          },
          "hovermode": "closest",
          "mapbox": {
           "style": "light"
          },
          "paper_bgcolor": "white",
          "plot_bgcolor": "#E5ECF6",
          "polar": {
           "angularaxis": {
            "gridcolor": "white",
            "linecolor": "white",
            "ticks": ""
           },
           "bgcolor": "#E5ECF6",
           "radialaxis": {
            "gridcolor": "white",
            "linecolor": "white",
            "ticks": ""
           }
          },
          "scene": {
           "xaxis": {
            "backgroundcolor": "#E5ECF6",
            "gridcolor": "white",
            "gridwidth": 2,
            "linecolor": "white",
            "showbackground": true,
            "ticks": "",
            "zerolinecolor": "white"
           },
           "yaxis": {
            "backgroundcolor": "#E5ECF6",
            "gridcolor": "white",
            "gridwidth": 2,
            "linecolor": "white",
            "showbackground": true,
            "ticks": "",
            "zerolinecolor": "white"
           },
           "zaxis": {
            "backgroundcolor": "#E5ECF6",
            "gridcolor": "white",
            "gridwidth": 2,
            "linecolor": "white",
            "showbackground": true,
            "ticks": "",
            "zerolinecolor": "white"
           }
          },
          "shapedefaults": {
           "line": {
            "color": "#2a3f5f"
           }
          },
          "ternary": {
           "aaxis": {
            "gridcolor": "white",
            "linecolor": "white",
            "ticks": ""
           },
           "baxis": {
            "gridcolor": "white",
            "linecolor": "white",
            "ticks": ""
           },
           "bgcolor": "#E5ECF6",
           "caxis": {
            "gridcolor": "white",
            "linecolor": "white",
            "ticks": ""
           }
          },
          "title": {
           "x": 0.05
          },
          "xaxis": {
           "automargin": true,
           "gridcolor": "white",
           "linecolor": "white",
           "ticks": "",
           "title": {
            "standoff": 15
           },
           "zerolinecolor": "white",
           "zerolinewidth": 2
          },
          "yaxis": {
           "automargin": true,
           "gridcolor": "white",
           "linecolor": "white",
           "ticks": "",
           "title": {
            "standoff": 15
           },
           "zerolinecolor": "white",
           "zerolinewidth": 2
          }
         }
        },
        "title": {
         "text": "Box Plot of Total Runs Scored in IPL Matches"
        },
        "xaxis": {
         "color": "white",
         "title": {
          "text": "Total Runs"
         }
        },
        "yaxis": {
         "color": "white",
         "title": {
          "text": "Matches"
         }
        }
       }
      }
     },
     "metadata": {},
     "output_type": "display_data"
    }
   ],
   "source": [
    "trace = go.Box(x=season_wise['total_runs'],name='all seasons')\n",
    "\n",
    "data = [trace]\n",
    "layout = go.Layout(\n",
    "    title='Box Plot of Total Runs Scored in IPL Matches',\n",
    "    xaxis=dict(title='Total Runs', color='white'),\n",
    "    yaxis=dict(title='Matches', color='white'),\n",
    "    plot_bgcolor='black',\n",
    "    paper_bgcolor='black',\n",
    "    font=dict(color='white')\n",
    ")\n",
    "fig = go.Figure(data=data, layout=layout)\n",
    "pyo.iplot(fig, filename='box_plot_total_runs.html')"
   ]
  },
  {
   "cell_type": "markdown",
   "id": "02269d5e",
   "metadata": {},
   "source": [
    "# 6. histogram\n",
    "a histogram plot is a plot that lets you discover, and show, the underlying frequency distribution(shape) of a set of continuous data.\n"
   ]
  },
  {
   "cell_type": "code",
   "execution_count": 60,
   "id": "c7c3f180",
   "metadata": {},
   "outputs": [
    {
     "data": {
      "application/vnd.plotly.v1+json": {
       "config": {
        "linkText": "Export to plot.ly",
        "plotlyServerURL": "https://plot.ly",
        "showLink": false
       },
       "data": [
        {
         "marker": {
          "color": "skyblue",
          "line": {
           "color": "black",
           "width": 1
          }
         },
         "type": "histogram",
         "x": {
          "bdata": "GAEEADUAGQA+ACMAVAEiABMAKQACAM4DBAAFAEUADADZAAkAswAqABoAewCeDXgAFQgUALUATwDUAhQAPgIHAAoAMQBEBjUAkQGgAvELJAAHACIAVwBTAQwAXgIGAMIAMQBwCScAAAA/AFcABwAhAIQBTAAYAZ4ABAB8ACMABgA8AQMAwwp9AAQAfAABABIAeAXBABcAKAAcALsADwAeAAAAfgAVAIABhgFDDrcBCQJiAAMACAAQAAgAywOpAF8ALgAEAAMAIQB/AAoAGwauDwwAMAF3ARUAqgDuBG8AdQEqBVwAAQAnACcBDgB5AAYACwAEAAEAEAcTAFEJWgASAKQBDQCmAFYDGAAOAA8FBAC3ACQQFgDjAgQAGAGXAs0EDwBWAQIAdgOWAUECLwAfAxIAFAAHAC0AAAB+BEwAEgBYAD8BFwCZATAAHQAKAAYAzwMQAlwCBQBqACoAAwBHAXsJGQA7ABIAGgAmAMkHDwKhAQgAJADaADcADAAyCQoAMwAPAJcGVwvgAQ0AdACGBNUCfQMFAAIA6QObAT0BJACAAAMADAAUAAAAJAAiAFEALgEBAGoANwQoAJUB+QMAAAMBcQBJAAICfgAUAAsANwDPCb0DAQAuAxgAYADJA30A7QAOALkHsQCXAGIAvQAWAT8ArwhwBlMEJwBwAKEApwCjAOEAHgPoDWMAFgCKAVgEAgB1AAIAAwBAAAIALgC1AYwAAAAUAAEAGgCoATQAFwARBnkA+gEFAH8AVAFhAQEAEwASCaQA+QHLAE0AGAABAAMCEABcAAYAEgAHABEA1gLnAFYBEwCZAH4InwADADMADgFCABMAIwAwAcQGhwEDAFMAnwACAG8QdQAgAGcARgE0AAAANAJDABQANQBJABMCAgAEAFsAMgDCDgsAiAA7AA0AoQUZAOkNDgAJAAAAAAAaACUAWwACAHABIgAfAAMAkQAPAKcBYAIxABwABgCDAAIARQVjAAEAuQkFAMQRKgDGAFgACQDxAJMACgCxAAcAxADxACYADwGxBh4JRAonAwYA/AQAA/4CkgXiABcAiQDBABoAUQD0AQUAAQACADQAJAAAACsADAALAAsAHwAMAAUACgA2AKQCgQTNAAgASwAIAAAABwAsAX8AXgAnAEcRAACoCmUAHQAuAAQABwACABoBDwATAIIAOAA/ABUGUQAJAAoAEwAdAdkDAABqCw8AwAAvAAMAHwp1AA==",
          "dtype": "i2"
         },
         "xbins": {
          "end": 100,
          "size": 10,
          "start": 0
         }
        }
       ],
       "layout": {
        "font": {
         "color": "white"
        },
        "paper_bgcolor": "black",
        "plot_bgcolor": "black",
        "template": {
         "data": {
          "bar": [
           {
            "error_x": {
             "color": "#2a3f5f"
            },
            "error_y": {
             "color": "#2a3f5f"
            },
            "marker": {
             "line": {
              "color": "#E5ECF6",
              "width": 0.5
             },
             "pattern": {
              "fillmode": "overlay",
              "size": 10,
              "solidity": 0.2
             }
            },
            "type": "bar"
           }
          ],
          "barpolar": [
           {
            "marker": {
             "line": {
              "color": "#E5ECF6",
              "width": 0.5
             },
             "pattern": {
              "fillmode": "overlay",
              "size": 10,
              "solidity": 0.2
             }
            },
            "type": "barpolar"
           }
          ],
          "carpet": [
           {
            "aaxis": {
             "endlinecolor": "#2a3f5f",
             "gridcolor": "white",
             "linecolor": "white",
             "minorgridcolor": "white",
             "startlinecolor": "#2a3f5f"
            },
            "baxis": {
             "endlinecolor": "#2a3f5f",
             "gridcolor": "white",
             "linecolor": "white",
             "minorgridcolor": "white",
             "startlinecolor": "#2a3f5f"
            },
            "type": "carpet"
           }
          ],
          "choropleth": [
           {
            "colorbar": {
             "outlinewidth": 0,
             "ticks": ""
            },
            "type": "choropleth"
           }
          ],
          "contour": [
           {
            "colorbar": {
             "outlinewidth": 0,
             "ticks": ""
            },
            "colorscale": [
             [
              0,
              "#0d0887"
             ],
             [
              0.1111111111111111,
              "#46039f"
             ],
             [
              0.2222222222222222,
              "#7201a8"
             ],
             [
              0.3333333333333333,
              "#9c179e"
             ],
             [
              0.4444444444444444,
              "#bd3786"
             ],
             [
              0.5555555555555556,
              "#d8576b"
             ],
             [
              0.6666666666666666,
              "#ed7953"
             ],
             [
              0.7777777777777778,
              "#fb9f3a"
             ],
             [
              0.8888888888888888,
              "#fdca26"
             ],
             [
              1,
              "#f0f921"
             ]
            ],
            "type": "contour"
           }
          ],
          "contourcarpet": [
           {
            "colorbar": {
             "outlinewidth": 0,
             "ticks": ""
            },
            "type": "contourcarpet"
           }
          ],
          "heatmap": [
           {
            "colorbar": {
             "outlinewidth": 0,
             "ticks": ""
            },
            "colorscale": [
             [
              0,
              "#0d0887"
             ],
             [
              0.1111111111111111,
              "#46039f"
             ],
             [
              0.2222222222222222,
              "#7201a8"
             ],
             [
              0.3333333333333333,
              "#9c179e"
             ],
             [
              0.4444444444444444,
              "#bd3786"
             ],
             [
              0.5555555555555556,
              "#d8576b"
             ],
             [
              0.6666666666666666,
              "#ed7953"
             ],
             [
              0.7777777777777778,
              "#fb9f3a"
             ],
             [
              0.8888888888888888,
              "#fdca26"
             ],
             [
              1,
              "#f0f921"
             ]
            ],
            "type": "heatmap"
           }
          ],
          "histogram": [
           {
            "marker": {
             "pattern": {
              "fillmode": "overlay",
              "size": 10,
              "solidity": 0.2
             }
            },
            "type": "histogram"
           }
          ],
          "histogram2d": [
           {
            "colorbar": {
             "outlinewidth": 0,
             "ticks": ""
            },
            "colorscale": [
             [
              0,
              "#0d0887"
             ],
             [
              0.1111111111111111,
              "#46039f"
             ],
             [
              0.2222222222222222,
              "#7201a8"
             ],
             [
              0.3333333333333333,
              "#9c179e"
             ],
             [
              0.4444444444444444,
              "#bd3786"
             ],
             [
              0.5555555555555556,
              "#d8576b"
             ],
             [
              0.6666666666666666,
              "#ed7953"
             ],
             [
              0.7777777777777778,
              "#fb9f3a"
             ],
             [
              0.8888888888888888,
              "#fdca26"
             ],
             [
              1,
              "#f0f921"
             ]
            ],
            "type": "histogram2d"
           }
          ],
          "histogram2dcontour": [
           {
            "colorbar": {
             "outlinewidth": 0,
             "ticks": ""
            },
            "colorscale": [
             [
              0,
              "#0d0887"
             ],
             [
              0.1111111111111111,
              "#46039f"
             ],
             [
              0.2222222222222222,
              "#7201a8"
             ],
             [
              0.3333333333333333,
              "#9c179e"
             ],
             [
              0.4444444444444444,
              "#bd3786"
             ],
             [
              0.5555555555555556,
              "#d8576b"
             ],
             [
              0.6666666666666666,
              "#ed7953"
             ],
             [
              0.7777777777777778,
              "#fb9f3a"
             ],
             [
              0.8888888888888888,
              "#fdca26"
             ],
             [
              1,
              "#f0f921"
             ]
            ],
            "type": "histogram2dcontour"
           }
          ],
          "mesh3d": [
           {
            "colorbar": {
             "outlinewidth": 0,
             "ticks": ""
            },
            "type": "mesh3d"
           }
          ],
          "parcoords": [
           {
            "line": {
             "colorbar": {
              "outlinewidth": 0,
              "ticks": ""
             }
            },
            "type": "parcoords"
           }
          ],
          "pie": [
           {
            "automargin": true,
            "type": "pie"
           }
          ],
          "scatter": [
           {
            "fillpattern": {
             "fillmode": "overlay",
             "size": 10,
             "solidity": 0.2
            },
            "type": "scatter"
           }
          ],
          "scatter3d": [
           {
            "line": {
             "colorbar": {
              "outlinewidth": 0,
              "ticks": ""
             }
            },
            "marker": {
             "colorbar": {
              "outlinewidth": 0,
              "ticks": ""
             }
            },
            "type": "scatter3d"
           }
          ],
          "scattercarpet": [
           {
            "marker": {
             "colorbar": {
              "outlinewidth": 0,
              "ticks": ""
             }
            },
            "type": "scattercarpet"
           }
          ],
          "scattergeo": [
           {
            "marker": {
             "colorbar": {
              "outlinewidth": 0,
              "ticks": ""
             }
            },
            "type": "scattergeo"
           }
          ],
          "scattergl": [
           {
            "marker": {
             "colorbar": {
              "outlinewidth": 0,
              "ticks": ""
             }
            },
            "type": "scattergl"
           }
          ],
          "scattermap": [
           {
            "marker": {
             "colorbar": {
              "outlinewidth": 0,
              "ticks": ""
             }
            },
            "type": "scattermap"
           }
          ],
          "scattermapbox": [
           {
            "marker": {
             "colorbar": {
              "outlinewidth": 0,
              "ticks": ""
             }
            },
            "type": "scattermapbox"
           }
          ],
          "scatterpolar": [
           {
            "marker": {
             "colorbar": {
              "outlinewidth": 0,
              "ticks": ""
             }
            },
            "type": "scatterpolar"
           }
          ],
          "scatterpolargl": [
           {
            "marker": {
             "colorbar": {
              "outlinewidth": 0,
              "ticks": ""
             }
            },
            "type": "scatterpolargl"
           }
          ],
          "scatterternary": [
           {
            "marker": {
             "colorbar": {
              "outlinewidth": 0,
              "ticks": ""
             }
            },
            "type": "scatterternary"
           }
          ],
          "surface": [
           {
            "colorbar": {
             "outlinewidth": 0,
             "ticks": ""
            },
            "colorscale": [
             [
              0,
              "#0d0887"
             ],
             [
              0.1111111111111111,
              "#46039f"
             ],
             [
              0.2222222222222222,
              "#7201a8"
             ],
             [
              0.3333333333333333,
              "#9c179e"
             ],
             [
              0.4444444444444444,
              "#bd3786"
             ],
             [
              0.5555555555555556,
              "#d8576b"
             ],
             [
              0.6666666666666666,
              "#ed7953"
             ],
             [
              0.7777777777777778,
              "#fb9f3a"
             ],
             [
              0.8888888888888888,
              "#fdca26"
             ],
             [
              1,
              "#f0f921"
             ]
            ],
            "type": "surface"
           }
          ],
          "table": [
           {
            "cells": {
             "fill": {
              "color": "#EBF0F8"
             },
             "line": {
              "color": "white"
             }
            },
            "header": {
             "fill": {
              "color": "#C8D4E3"
             },
             "line": {
              "color": "white"
             }
            },
            "type": "table"
           }
          ]
         },
         "layout": {
          "annotationdefaults": {
           "arrowcolor": "#2a3f5f",
           "arrowhead": 0,
           "arrowwidth": 1
          },
          "autotypenumbers": "strict",
          "coloraxis": {
           "colorbar": {
            "outlinewidth": 0,
            "ticks": ""
           }
          },
          "colorscale": {
           "diverging": [
            [
             0,
             "#8e0152"
            ],
            [
             0.1,
             "#c51b7d"
            ],
            [
             0.2,
             "#de77ae"
            ],
            [
             0.3,
             "#f1b6da"
            ],
            [
             0.4,
             "#fde0ef"
            ],
            [
             0.5,
             "#f7f7f7"
            ],
            [
             0.6,
             "#e6f5d0"
            ],
            [
             0.7,
             "#b8e186"
            ],
            [
             0.8,
             "#7fbc41"
            ],
            [
             0.9,
             "#4d9221"
            ],
            [
             1,
             "#276419"
            ]
           ],
           "sequential": [
            [
             0,
             "#0d0887"
            ],
            [
             0.1111111111111111,
             "#46039f"
            ],
            [
             0.2222222222222222,
             "#7201a8"
            ],
            [
             0.3333333333333333,
             "#9c179e"
            ],
            [
             0.4444444444444444,
             "#bd3786"
            ],
            [
             0.5555555555555556,
             "#d8576b"
            ],
            [
             0.6666666666666666,
             "#ed7953"
            ],
            [
             0.7777777777777778,
             "#fb9f3a"
            ],
            [
             0.8888888888888888,
             "#fdca26"
            ],
            [
             1,
             "#f0f921"
            ]
           ],
           "sequentialminus": [
            [
             0,
             "#0d0887"
            ],
            [
             0.1111111111111111,
             "#46039f"
            ],
            [
             0.2222222222222222,
             "#7201a8"
            ],
            [
             0.3333333333333333,
             "#9c179e"
            ],
            [
             0.4444444444444444,
             "#bd3786"
            ],
            [
             0.5555555555555556,
             "#d8576b"
            ],
            [
             0.6666666666666666,
             "#ed7953"
            ],
            [
             0.7777777777777778,
             "#fb9f3a"
            ],
            [
             0.8888888888888888,
             "#fdca26"
            ],
            [
             1,
             "#f0f921"
            ]
           ]
          },
          "colorway": [
           "#636efa",
           "#EF553B",
           "#00cc96",
           "#ab63fa",
           "#FFA15A",
           "#19d3f3",
           "#FF6692",
           "#B6E880",
           "#FF97FF",
           "#FECB52"
          ],
          "font": {
           "color": "#2a3f5f"
          },
          "geo": {
           "bgcolor": "white",
           "lakecolor": "white",
           "landcolor": "#E5ECF6",
           "showlakes": true,
           "showland": true,
           "subunitcolor": "white"
          },
          "hoverlabel": {
           "align": "left"
          },
          "hovermode": "closest",
          "mapbox": {
           "style": "light"
          },
          "paper_bgcolor": "white",
          "plot_bgcolor": "#E5ECF6",
          "polar": {
           "angularaxis": {
            "gridcolor": "white",
            "linecolor": "white",
            "ticks": ""
           },
           "bgcolor": "#E5ECF6",
           "radialaxis": {
            "gridcolor": "white",
            "linecolor": "white",
            "ticks": ""
           }
          },
          "scene": {
           "xaxis": {
            "backgroundcolor": "#E5ECF6",
            "gridcolor": "white",
            "gridwidth": 2,
            "linecolor": "white",
            "showbackground": true,
            "ticks": "",
            "zerolinecolor": "white"
           },
           "yaxis": {
            "backgroundcolor": "#E5ECF6",
            "gridcolor": "white",
            "gridwidth": 2,
            "linecolor": "white",
            "showbackground": true,
            "ticks": "",
            "zerolinecolor": "white"
           },
           "zaxis": {
            "backgroundcolor": "#E5ECF6",
            "gridcolor": "white",
            "gridwidth": 2,
            "linecolor": "white",
            "showbackground": true,
            "ticks": "",
            "zerolinecolor": "white"
           }
          },
          "shapedefaults": {
           "line": {
            "color": "#2a3f5f"
           }
          },
          "ternary": {
           "aaxis": {
            "gridcolor": "white",
            "linecolor": "white",
            "ticks": ""
           },
           "baxis": {
            "gridcolor": "white",
            "linecolor": "white",
            "ticks": ""
           },
           "bgcolor": "#E5ECF6",
           "caxis": {
            "gridcolor": "white",
            "linecolor": "white",
            "ticks": ""
           }
          },
          "title": {
           "x": 0.05
          },
          "xaxis": {
           "automargin": true,
           "gridcolor": "white",
           "linecolor": "white",
           "ticks": "",
           "title": {
            "standoff": 15
           },
           "zerolinecolor": "white",
           "zerolinewidth": 2
          },
          "yaxis": {
           "automargin": true,
           "gridcolor": "white",
           "linecolor": "white",
           "ticks": "",
           "title": {
            "standoff": 15
           },
           "zerolinecolor": "white",
           "zerolinewidth": 2
          }
         }
        },
        "title": {
         "text": "Histogram of Total Runs by Batsmen"
        },
        "xaxis": {
         "color": "white",
         "title": {
          "text": "Total Runs Scored (Grouped in 10s)"
         }
        },
        "yaxis": {
         "color": "white",
         "title": {
          "text": "Number of Batsmen"
         }
        }
       }
      }
     },
     "metadata": {},
     "output_type": "display_data"
    }
   ],
   "source": [
    "import plotly.graph_objs as go\n",
    "import plotly.offline as pyo\n",
    "\n",
    "# Calculate total runs by each batsman\n",
    "batsman_scores = ipl.groupby('batsman')['batsman_runs'].sum()\n",
    "\n",
    "# Create histogram directly from total runs\n",
    "trace = go.Histogram(\n",
    "    x=batsman_scores,\n",
    "    xbins=dict(\n",
    "        start=0,\n",
    "        end=100,\n",
    "        size=10  # bin size = 10\n",
    "    ),\n",
    "    marker=dict(color='skyblue', line=dict(color='black', width=1)),\n",
    ")\n",
    "\n",
    "layout = go.Layout(\n",
    "    title='Histogram of Total Runs by Batsmen',\n",
    "    xaxis=dict(title='Total Runs Scored (Grouped in 10s)', color='white'),\n",
    "    yaxis=dict(title='Number of Batsmen', color='white'),\n",
    "    plot_bgcolor='black',\n",
    "    paper_bgcolor='black',\n",
    "    font=dict(color='white')\n",
    ")\n",
    "\n",
    "fig = go.Figure(data=[trace], layout=layout)\n",
    "pyo.iplot(fig, filename='batsman_runs_histogram.html')\n"
   ]
  },
  {
   "cell_type": "markdown",
   "id": "6ec954f2",
   "metadata": {},
   "source": [
    "# 7. distplot\n"
   ]
  },
  {
   "cell_type": "code",
   "execution_count": 64,
   "id": "604cea80",
   "metadata": {},
   "outputs": [
    {
     "data": {
      "application/vnd.plotly.v1+json": {
       "config": {
        "linkText": "Export to plot.ly",
        "plotlyServerURL": "https://plot.ly",
        "showLink": false
       },
       "data": [
        {
         "autobinx": false,
         "histnorm": "probability density",
         "legendgroup": "Batsman Avg",
         "marker": {
          "color": "skyblue"
         },
         "name": "Batsman Avg",
         "opacity": 0.7,
         "type": "histogram",
         "x": [
          8.571428571428571,
          3.4285714285714284,
          4.24,
          7.5,
          6.526315789473684,
          4.285714285714286,
          5.340314136125655,
          7.846153846153847,
          4.956521739130435,
          3.9047619047619047,
          1.2,
          7.482714468629962,
          3.4285714285714284,
          3.75,
          4.704545454545455,
          6.545454545454546,
          5.972477064220183,
          4.5,
          6.7124999999999995,
          5.8604651162790695,
          3.1199999999999997,
          7.16504854368932,
          8.70774354704413,
          7.912087912087912,
          7.983279742765273,
          6.315789473684211,
          7.594405594405595,
          6,
          7.252086811352254,
          4.285714285714286,
          9.84,
          3.5,
          4.285714285714286,
          4.8196721311475414,
          7.577952755905512,
          10.6,
          6.555858310626704,
          6.857142857142857,
          7.049192928516526,
          8,
          5.25,
          8.869565217391305,
          6.779220779220779,
          7.136842105263158,
          6,
          7.3603238866396765,
          2.7692307692307696,
          6.767441860465116,
          7.35,
          7.380855397148677,
          9,
          0,
          5.478260869565218,
          7.565217391304348,
          4.666666666666667,
          4.604651162790698,
          7.485530546623794,
          8,
          6.5625,
          5.925,
          2.6666666666666665,
          7.294117647058823,
          5.526315789473684,
          5.142857142857142,
          8.352422907488986,
          3,
          7.579092159559835,
          6.4655172413793105,
          6,
          10.62857142857143,
          2,
          9.818181818181818,
          7.285342584562012,
          7.931506849315069,
          5.111111111111111,
          6.666666666666667,
          5.6,
          9.048387096774192,
          4.285714285714286,
          5.806451612903225,
          0,
          8.217391304347826,
          4.846153846153847,
          8.86153846153846,
          5.806451612903225,
          8.651658767772512,
          9.578181818181818,
          7.550724637681159,
          4.9411764705882355,
          3.5999999999999996,
          3.2,
          4,
          5.333333333333333,
          7.5271317829457365,
          6.417721518987342,
          10.178571428571427,
          5.872340425531915,
          8,
          2.25,
          8.25,
          8.106382978723405,
          4.615384615384616,
          8.262555066079296,
          8.299104066161268,
          8,
          6.831460674157303,
          6.923076923076923,
          5.478260869565217,
          7.183098591549295,
          7.337209302325581,
          6.466019417475728,
          8.079422382671481,
          7.204359673024523,
          5.465346534653466,
          2,
          4.333333333333333,
          7.051792828685259,
          14,
          6.1525423728813555,
          7.199999999999999,
          7.333333333333333,
          1.8461538461538463,
          6,
          7.127463863337714,
          4.384615384615385,
          7.936772046589018,
          5.346534653465347,
          5.684210526315789,
          7.17948717948718,
          6,
          6.186335403726709,
          7.067586206896552,
          9.6,
          6.461538461538462,
          7.449664429530201,
          4.8,
          6.134078212290503,
          7.22167200699097,
          6,
          6.416787264833574,
          4.8,
          5.201238390092879,
          7.206521739130435,
          9.453846153846154,
          5.625,
          7.328571428571429,
          2.4,
          6.351254480286738,
          7.96078431372549,
          8.282296650717702,
          7.421052631578948,
          8.111675126903553,
          9,
          4.615384615384616,
          10.5,
          4.576271186440677,
          0,
          7.00507614213198,
          4.56,
          4.319999999999999,
          6.13953488372093,
          7.5058823529411764,
          5.75,
          6.741758241758242,
          8.727272727272727,
          6.444444444444445,
          4.615384615384616,
          3,
          8.21629213483146,
          8.448,
          7.776824034334764,
          2.307692307692308,
          5.781818181818182,
          5.478260869565217,
          4.5,
          6.349514563106796,
          6.356176342208643,
          5.555555555555555,
          8.634146341463415,
          6.352941176470588,
          6.239999999999999,
          7.125,
          7.318237454100368,
          7.788177339901477,
          7.968152866242038,
          4.363636363636364,
          7.2,
          5.472803347280334,
          4.852941176470588,
          8,
          8.437275985663083,
          6.666666666666667,
          5.773584905660377,
          5,
          7.10814606741573,
          7.3805084745762715,
          9.201277955271566,
          9.75,
          9.942857142857143,
          7.479009687836383,
          7.347972972972973,
          7.833333333333333,
          10,
          3,
          7.923482849604222,
          7.587692307692308,
          6.673684210526316,
          5.538461538461538,
          9.846153846153847,
          3.5999999999999996,
          4.235294117647059,
          5.454545454545455,
          0,
          4.319999999999999,
          5.513513513513513,
          6.845070422535211,
          7.219123505976095,
          6,
          10.095238095238095,
          7.373576309794988,
          8.88888888888889,
          6.787709497206704,
          7.204250295159387,
          0,
          6.023255813953488,
          6.220183486238532,
          5.615384615384615,
          6.345679012345679,
          8.129032258064516,
          4,
          3.473684210526316,
          4.714285714285714,
          7.201720841300191,
          7.656,
          3,
          7.057803468208093,
          6.545454545454546,
          5.877551020408164,
          7.560468140442133,
          5.597014925373134,
          6.676056338028169,
          6.461538461538462,
          7.197815533980582,
          8.564516129032258,
          5.770700636942675,
          6.125,
          7.930069930069931,
          8.424242424242424,
          8.4,
          7.016307206733298,
          6.847645429362881,
          7.916567342073897,
          5.707317073170732,
          6.461538461538462,
          5.551724137931035,
          7.4222222222222225,
          7.191176470588235,
          6.7164179104477615,
          6.496607869742198,
          7.970149253731343,
          7.815789473684211,
          4,
          7.433962264150943,
          7.113006396588486,
          6,
          8.560975609756097,
          1,
          3,
          4.571428571428571,
          4,
          6,
          7.385915492957746,
          5.874125874125874,
          0,
          5.714285714285714,
          6,
          6.782608695652174,
          7.803680981595091,
          5.886792452830188,
          4.181818181818182,
          6.871681415929204,
          5.854838709677419,
          7.496296296296296,
          2.142857142857143,
          5.404255319148936,
          6.315789473684211,
          7.457746478873239,
          2,
          8.76923076923077,
          6.763106796116506,
          5.892215568862276,
          7.013888888888889,
          7.660377358490566,
          8.25,
          4,
          3,
          6.616702355460386,
          2.1333333333333333,
          5.690721649484535,
          3,
          2.769230769230769,
          3.5,
          5.1,
          7.6961130742049475,
          5.634146341463414,
          7.075862068965517,
          6.705882352941176,
          6.8,
          6.800834202294056,
          5.359550561797753,
          3,
          5.884615384615385,
          6.864406779661016,
          5.142857142857142,
          4.956521739130435,
          8.75,
          6.4,
          7.127572016460905,
          8.530909090909091,
          9,
          6.72972972972973,
          6.625,
          6,
          7.709835064141723,
          6.267857142857142,
          6,
          5.885714285714286,
          8.218487394957984,
          4,
          0,
          8.881889763779528,
          6.28125,
          6.666666666666667,
          6.235294117647059,
          5.615384615384615,
          6.8076923076923075,
          1.5,
          12,
          4.232558139534884,
          5.660377358490566,
          7.658108108108109,
          7.333333333333333,
          6.743801652892562,
          6,
          3.1199999999999997,
          6.944578313253012,
          4.545454545454546,
          7.110149750415974,
          3.111111111111111,
          4.153846153846154,
          0,
          0,
          2.197183098591549,
          7.655172413793104,
          6.658536585365854,
          3,
          7.09967845659164,
          3.5789473684210527,
          4.894736842105264,
          4.5,
          7.565217391304348,
          6.923076923076923,
          7.210227272727273,
          7.615866388308977,
          5.06896551724138,
          5.6,
          2.25,
          5.865671641791045,
          4,
          6.104072398190045,
          6.456521739130435,
          3,
          7.806586513329849,
          6,
          8.09973285841496,
          4.131147540983607,
          5.424657534246576,
          5.126213592233009,
          3.8571428571428568,
          7.570680628272251,
          7.603448275862069,
          3.5294117647058822,
          10.310679611650485,
          4.666666666666667,
          6.87719298245614,
          5.561538461538461,
          7.354838709677419,
          8.424870466321243,
          7.7104276069017255,
          6.851272015655577,
          8.090302719343253,
          7.3923664122137405,
          5.142857142857142,
          6.891089108910892,
          8.041884816753926,
          7.424878836833602,
          7.344206008583692,
          7.838150289017341,
          5.307692307692308,
          7.754716981132075,
          6.732558139534883,
          4.333333333333333,
          10.565217391304348,
          7.4812967581047385,
          10,
          1,
          1.5,
          6.367346938775511,
          6.967741935483871,
          0,
          8.32258064516129,
          3.5999999999999996,
          4.125,
          3.3,
          7.153846153846154,
          3.7894736842105265,
          3.75,
          2.0689655172413794,
          9,
          6.909710391822828,
          6.607449856733524,
          8.14569536423841,
          4.363636363636364,
          7.627118644067796,
          4.363636363636364,
          0,
          2.8,
          5.732484076433121,
          7.257142857142857,
          5.936842105263158,
          12.31578947368421,
          7.595306239267315,
          0,
          8.92962356792144,
          7.87012987012987,
          6.6923076923076925,
          4.928571428571428,
          8,
          6,
          6,
          6.243542435424355,
          3.214285714285714,
          4.384615384615385,
          6.046511627906977,
          4.421052631578948,
          4.725,
          7.663658736669402,
          6.657534246575342,
          4.5,
          3.5294117647058822,
          6.333333333333333,
          6.3099630996309966,
          6.832369942196532,
          0,
          8.445086705202312,
          3.103448275862069,
          6.295081967213115,
          4.208955223880597,
          2.571428571428571,
          7.583414634146341,
          4.9787234042553195
         ],
         "xaxis": "x",
         "xbins": {
          "end": 14,
          "size": 1,
          "start": 0
         },
         "yaxis": "y"
        },
        {
         "legendgroup": "Batsman Avg",
         "marker": {
          "color": "skyblue"
         },
         "mode": "lines",
         "name": "Batsman Avg",
         "showlegend": false,
         "type": "scatter",
         "x": [
          0,
          0.028,
          0.056,
          0.084,
          0.112,
          0.14,
          0.168,
          0.196,
          0.224,
          0.252,
          0.28,
          0.308,
          0.336,
          0.364,
          0.392,
          0.42,
          0.448,
          0.476,
          0.504,
          0.532,
          0.56,
          0.588,
          0.616,
          0.644,
          0.672,
          0.7,
          0.728,
          0.756,
          0.784,
          0.812,
          0.84,
          0.868,
          0.896,
          0.924,
          0.952,
          0.98,
          1.008,
          1.036,
          1.064,
          1.092,
          1.12,
          1.148,
          1.176,
          1.204,
          1.232,
          1.26,
          1.288,
          1.316,
          1.344,
          1.372,
          1.4,
          1.428,
          1.456,
          1.484,
          1.512,
          1.54,
          1.568,
          1.596,
          1.624,
          1.652,
          1.68,
          1.708,
          1.736,
          1.764,
          1.792,
          1.82,
          1.848,
          1.876,
          1.904,
          1.932,
          1.96,
          1.988,
          2.016,
          2.044,
          2.072,
          2.1,
          2.128,
          2.156,
          2.184,
          2.212,
          2.24,
          2.268,
          2.296,
          2.324,
          2.352,
          2.38,
          2.408,
          2.436,
          2.464,
          2.492,
          2.52,
          2.548,
          2.576,
          2.604,
          2.632,
          2.66,
          2.688,
          2.716,
          2.744,
          2.772,
          2.8,
          2.828,
          2.856,
          2.884,
          2.912,
          2.94,
          2.968,
          2.996,
          3.024,
          3.052,
          3.08,
          3.108,
          3.136,
          3.164,
          3.192,
          3.22,
          3.248,
          3.276,
          3.304,
          3.332,
          3.36,
          3.388,
          3.416,
          3.444,
          3.472,
          3.5,
          3.528,
          3.556,
          3.584,
          3.612,
          3.64,
          3.668,
          3.696,
          3.724,
          3.752,
          3.78,
          3.808,
          3.836,
          3.864,
          3.892,
          3.92,
          3.948,
          3.976,
          4.004,
          4.032,
          4.06,
          4.088,
          4.116,
          4.144,
          4.172,
          4.2,
          4.228,
          4.256,
          4.284,
          4.312,
          4.34,
          4.368,
          4.396,
          4.424,
          4.452,
          4.48,
          4.508,
          4.536,
          4.564,
          4.592,
          4.62,
          4.648,
          4.676,
          4.704,
          4.732,
          4.76,
          4.788,
          4.816,
          4.844,
          4.872,
          4.9,
          4.928,
          4.956,
          4.984,
          5.012,
          5.04,
          5.068,
          5.096,
          5.124,
          5.152,
          5.18,
          5.208,
          5.236,
          5.264,
          5.292,
          5.32,
          5.348,
          5.376,
          5.404,
          5.432,
          5.46,
          5.488,
          5.516,
          5.544,
          5.572,
          5.6,
          5.628,
          5.656,
          5.684,
          5.712,
          5.74,
          5.768,
          5.796,
          5.824,
          5.852,
          5.88,
          5.908,
          5.936,
          5.964,
          5.992,
          6.02,
          6.048,
          6.076,
          6.104,
          6.132,
          6.16,
          6.188,
          6.216,
          6.244,
          6.272,
          6.3,
          6.328,
          6.356,
          6.384,
          6.412,
          6.44,
          6.468,
          6.496,
          6.524,
          6.552,
          6.58,
          6.608,
          6.636,
          6.664,
          6.692,
          6.72,
          6.748,
          6.776,
          6.804,
          6.832,
          6.86,
          6.888,
          6.916,
          6.944,
          6.972,
          7,
          7.028,
          7.056,
          7.084,
          7.112,
          7.14,
          7.168,
          7.196,
          7.224,
          7.252,
          7.28,
          7.308,
          7.336,
          7.364,
          7.392,
          7.42,
          7.448,
          7.476,
          7.504,
          7.532,
          7.56,
          7.588,
          7.616,
          7.644,
          7.672,
          7.7,
          7.728,
          7.756,
          7.784,
          7.812,
          7.84,
          7.868,
          7.896,
          7.924,
          7.952,
          7.98,
          8.008,
          8.036,
          8.064,
          8.092,
          8.12,
          8.148,
          8.176,
          8.204,
          8.232,
          8.26,
          8.288,
          8.316,
          8.344,
          8.372,
          8.4,
          8.428,
          8.456,
          8.484,
          8.512,
          8.54,
          8.568,
          8.596,
          8.624,
          8.652,
          8.68,
          8.708,
          8.736,
          8.764,
          8.792,
          8.82,
          8.848,
          8.876,
          8.904,
          8.932,
          8.96,
          8.988,
          9.016,
          9.044,
          9.072,
          9.1,
          9.128,
          9.156,
          9.184,
          9.212,
          9.24,
          9.268,
          9.296,
          9.324,
          9.352,
          9.38,
          9.408,
          9.436,
          9.464,
          9.492,
          9.52,
          9.548,
          9.576,
          9.604,
          9.632,
          9.66,
          9.688,
          9.716,
          9.744,
          9.772,
          9.8,
          9.828,
          9.856,
          9.884,
          9.912,
          9.94,
          9.968,
          9.996,
          10.024,
          10.052,
          10.08,
          10.108,
          10.136,
          10.164,
          10.192,
          10.22,
          10.248,
          10.276,
          10.304,
          10.332,
          10.36,
          10.388,
          10.416,
          10.444,
          10.472,
          10.5,
          10.528,
          10.556,
          10.584,
          10.612,
          10.64,
          10.668,
          10.696,
          10.724,
          10.752,
          10.78,
          10.808,
          10.836,
          10.864,
          10.892,
          10.92,
          10.948,
          10.976,
          11.004,
          11.032,
          11.06,
          11.088,
          11.116,
          11.144,
          11.172,
          11.2,
          11.228,
          11.256,
          11.284,
          11.312,
          11.34,
          11.368,
          11.396,
          11.424,
          11.452,
          11.48,
          11.508,
          11.536,
          11.564,
          11.592,
          11.62,
          11.648,
          11.676,
          11.704,
          11.732,
          11.76,
          11.788,
          11.816,
          11.844,
          11.872,
          11.9,
          11.928,
          11.956,
          11.984,
          12.012,
          12.04,
          12.068,
          12.096,
          12.124,
          12.152,
          12.18,
          12.208,
          12.236,
          12.264,
          12.292,
          12.32,
          12.348,
          12.376,
          12.404,
          12.432,
          12.46,
          12.488,
          12.516,
          12.544,
          12.572,
          12.6,
          12.628,
          12.656,
          12.684,
          12.712,
          12.74,
          12.768,
          12.796,
          12.824,
          12.852,
          12.88,
          12.908,
          12.936,
          12.964,
          12.992,
          13.02,
          13.048,
          13.076,
          13.104,
          13.132,
          13.16,
          13.188,
          13.216,
          13.244,
          13.272,
          13.3,
          13.328,
          13.356,
          13.384,
          13.412,
          13.44,
          13.468,
          13.496,
          13.524,
          13.552,
          13.58,
          13.608,
          13.636,
          13.664,
          13.692,
          13.72,
          13.748,
          13.776,
          13.804,
          13.832,
          13.86,
          13.888,
          13.916,
          13.944,
          13.972
         ],
         "xaxis": "x",
         "y": {
          "bdata": "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",
          "dtype": "f8"
         },
         "yaxis": "y"
        },
        {
         "legendgroup": "Batsman Avg",
         "marker": {
          "color": "skyblue",
          "symbol": "line-ns-open"
         },
         "mode": "markers",
         "name": "Batsman Avg",
         "showlegend": false,
         "type": "scatter",
         "x": [
          8.571428571428571,
          3.4285714285714284,
          4.24,
          7.5,
          6.526315789473684,
          4.285714285714286,
          5.340314136125655,
          7.846153846153847,
          4.956521739130435,
          3.9047619047619047,
          1.2,
          7.482714468629962,
          3.4285714285714284,
          3.75,
          4.704545454545455,
          6.545454545454546,
          5.972477064220183,
          4.5,
          6.7124999999999995,
          5.8604651162790695,
          3.1199999999999997,
          7.16504854368932,
          8.70774354704413,
          7.912087912087912,
          7.983279742765273,
          6.315789473684211,
          7.594405594405595,
          6,
          7.252086811352254,
          4.285714285714286,
          9.84,
          3.5,
          4.285714285714286,
          4.8196721311475414,
          7.577952755905512,
          10.6,
          6.555858310626704,
          6.857142857142857,
          7.049192928516526,
          8,
          5.25,
          8.869565217391305,
          6.779220779220779,
          7.136842105263158,
          6,
          7.3603238866396765,
          2.7692307692307696,
          6.767441860465116,
          7.35,
          7.380855397148677,
          9,
          0,
          5.478260869565218,
          7.565217391304348,
          4.666666666666667,
          4.604651162790698,
          7.485530546623794,
          8,
          6.5625,
          5.925,
          2.6666666666666665,
          7.294117647058823,
          5.526315789473684,
          5.142857142857142,
          8.352422907488986,
          3,
          7.579092159559835,
          6.4655172413793105,
          6,
          10.62857142857143,
          2,
          9.818181818181818,
          7.285342584562012,
          7.931506849315069,
          5.111111111111111,
          6.666666666666667,
          5.6,
          9.048387096774192,
          4.285714285714286,
          5.806451612903225,
          0,
          8.217391304347826,
          4.846153846153847,
          8.86153846153846,
          5.806451612903225,
          8.651658767772512,
          9.578181818181818,
          7.550724637681159,
          4.9411764705882355,
          3.5999999999999996,
          3.2,
          4,
          5.333333333333333,
          7.5271317829457365,
          6.417721518987342,
          10.178571428571427,
          5.872340425531915,
          8,
          2.25,
          8.25,
          8.106382978723405,
          4.615384615384616,
          8.262555066079296,
          8.299104066161268,
          8,
          6.831460674157303,
          6.923076923076923,
          5.478260869565217,
          7.183098591549295,
          7.337209302325581,
          6.466019417475728,
          8.079422382671481,
          7.204359673024523,
          5.465346534653466,
          2,
          4.333333333333333,
          7.051792828685259,
          14,
          6.1525423728813555,
          7.199999999999999,
          7.333333333333333,
          1.8461538461538463,
          6,
          7.127463863337714,
          4.384615384615385,
          7.936772046589018,
          5.346534653465347,
          5.684210526315789,
          7.17948717948718,
          6,
          6.186335403726709,
          7.067586206896552,
          9.6,
          6.461538461538462,
          7.449664429530201,
          4.8,
          6.134078212290503,
          7.22167200699097,
          6,
          6.416787264833574,
          4.8,
          5.201238390092879,
          7.206521739130435,
          9.453846153846154,
          5.625,
          7.328571428571429,
          2.4,
          6.351254480286738,
          7.96078431372549,
          8.282296650717702,
          7.421052631578948,
          8.111675126903553,
          9,
          4.615384615384616,
          10.5,
          4.576271186440677,
          0,
          7.00507614213198,
          4.56,
          4.319999999999999,
          6.13953488372093,
          7.5058823529411764,
          5.75,
          6.741758241758242,
          8.727272727272727,
          6.444444444444445,
          4.615384615384616,
          3,
          8.21629213483146,
          8.448,
          7.776824034334764,
          2.307692307692308,
          5.781818181818182,
          5.478260869565217,
          4.5,
          6.349514563106796,
          6.356176342208643,
          5.555555555555555,
          8.634146341463415,
          6.352941176470588,
          6.239999999999999,
          7.125,
          7.318237454100368,
          7.788177339901477,
          7.968152866242038,
          4.363636363636364,
          7.2,
          5.472803347280334,
          4.852941176470588,
          8,
          8.437275985663083,
          6.666666666666667,
          5.773584905660377,
          5,
          7.10814606741573,
          7.3805084745762715,
          9.201277955271566,
          9.75,
          9.942857142857143,
          7.479009687836383,
          7.347972972972973,
          7.833333333333333,
          10,
          3,
          7.923482849604222,
          7.587692307692308,
          6.673684210526316,
          5.538461538461538,
          9.846153846153847,
          3.5999999999999996,
          4.235294117647059,
          5.454545454545455,
          0,
          4.319999999999999,
          5.513513513513513,
          6.845070422535211,
          7.219123505976095,
          6,
          10.095238095238095,
          7.373576309794988,
          8.88888888888889,
          6.787709497206704,
          7.204250295159387,
          0,
          6.023255813953488,
          6.220183486238532,
          5.615384615384615,
          6.345679012345679,
          8.129032258064516,
          4,
          3.473684210526316,
          4.714285714285714,
          7.201720841300191,
          7.656,
          3,
          7.057803468208093,
          6.545454545454546,
          5.877551020408164,
          7.560468140442133,
          5.597014925373134,
          6.676056338028169,
          6.461538461538462,
          7.197815533980582,
          8.564516129032258,
          5.770700636942675,
          6.125,
          7.930069930069931,
          8.424242424242424,
          8.4,
          7.016307206733298,
          6.847645429362881,
          7.916567342073897,
          5.707317073170732,
          6.461538461538462,
          5.551724137931035,
          7.4222222222222225,
          7.191176470588235,
          6.7164179104477615,
          6.496607869742198,
          7.970149253731343,
          7.815789473684211,
          4,
          7.433962264150943,
          7.113006396588486,
          6,
          8.560975609756097,
          1,
          3,
          4.571428571428571,
          4,
          6,
          7.385915492957746,
          5.874125874125874,
          0,
          5.714285714285714,
          6,
          6.782608695652174,
          7.803680981595091,
          5.886792452830188,
          4.181818181818182,
          6.871681415929204,
          5.854838709677419,
          7.496296296296296,
          2.142857142857143,
          5.404255319148936,
          6.315789473684211,
          7.457746478873239,
          2,
          8.76923076923077,
          6.763106796116506,
          5.892215568862276,
          7.013888888888889,
          7.660377358490566,
          8.25,
          4,
          3,
          6.616702355460386,
          2.1333333333333333,
          5.690721649484535,
          3,
          2.769230769230769,
          3.5,
          5.1,
          7.6961130742049475,
          5.634146341463414,
          7.075862068965517,
          6.705882352941176,
          6.8,
          6.800834202294056,
          5.359550561797753,
          3,
          5.884615384615385,
          6.864406779661016,
          5.142857142857142,
          4.956521739130435,
          8.75,
          6.4,
          7.127572016460905,
          8.530909090909091,
          9,
          6.72972972972973,
          6.625,
          6,
          7.709835064141723,
          6.267857142857142,
          6,
          5.885714285714286,
          8.218487394957984,
          4,
          0,
          8.881889763779528,
          6.28125,
          6.666666666666667,
          6.235294117647059,
          5.615384615384615,
          6.8076923076923075,
          1.5,
          12,
          4.232558139534884,
          5.660377358490566,
          7.658108108108109,
          7.333333333333333,
          6.743801652892562,
          6,
          3.1199999999999997,
          6.944578313253012,
          4.545454545454546,
          7.110149750415974,
          3.111111111111111,
          4.153846153846154,
          0,
          0,
          2.197183098591549,
          7.655172413793104,
          6.658536585365854,
          3,
          7.09967845659164,
          3.5789473684210527,
          4.894736842105264,
          4.5,
          7.565217391304348,
          6.923076923076923,
          7.210227272727273,
          7.615866388308977,
          5.06896551724138,
          5.6,
          2.25,
          5.865671641791045,
          4,
          6.104072398190045,
          6.456521739130435,
          3,
          7.806586513329849,
          6,
          8.09973285841496,
          4.131147540983607,
          5.424657534246576,
          5.126213592233009,
          3.8571428571428568,
          7.570680628272251,
          7.603448275862069,
          3.5294117647058822,
          10.310679611650485,
          4.666666666666667,
          6.87719298245614,
          5.561538461538461,
          7.354838709677419,
          8.424870466321243,
          7.7104276069017255,
          6.851272015655577,
          8.090302719343253,
          7.3923664122137405,
          5.142857142857142,
          6.891089108910892,
          8.041884816753926,
          7.424878836833602,
          7.344206008583692,
          7.838150289017341,
          5.307692307692308,
          7.754716981132075,
          6.732558139534883,
          4.333333333333333,
          10.565217391304348,
          7.4812967581047385,
          10,
          1,
          1.5,
          6.367346938775511,
          6.967741935483871,
          0,
          8.32258064516129,
          3.5999999999999996,
          4.125,
          3.3,
          7.153846153846154,
          3.7894736842105265,
          3.75,
          2.0689655172413794,
          9,
          6.909710391822828,
          6.607449856733524,
          8.14569536423841,
          4.363636363636364,
          7.627118644067796,
          4.363636363636364,
          0,
          2.8,
          5.732484076433121,
          7.257142857142857,
          5.936842105263158,
          12.31578947368421,
          7.595306239267315,
          0,
          8.92962356792144,
          7.87012987012987,
          6.6923076923076925,
          4.928571428571428,
          8,
          6,
          6,
          6.243542435424355,
          3.214285714285714,
          4.384615384615385,
          6.046511627906977,
          4.421052631578948,
          4.725,
          7.663658736669402,
          6.657534246575342,
          4.5,
          3.5294117647058822,
          6.333333333333333,
          6.3099630996309966,
          6.832369942196532,
          0,
          8.445086705202312,
          3.103448275862069,
          6.295081967213115,
          4.208955223880597,
          2.571428571428571,
          7.583414634146341,
          4.9787234042553195
         ],
         "xaxis": "x",
         "y": [
          "Batsman Avg",
          "Batsman Avg",
          "Batsman Avg",
          "Batsman Avg",
          "Batsman Avg",
          "Batsman Avg",
          "Batsman Avg",
          "Batsman Avg",
          "Batsman Avg",
          "Batsman Avg",
          "Batsman Avg",
          "Batsman Avg",
          "Batsman Avg",
          "Batsman Avg",
          "Batsman Avg",
          "Batsman Avg",
          "Batsman Avg",
          "Batsman Avg",
          "Batsman Avg",
          "Batsman Avg",
          "Batsman Avg",
          "Batsman Avg",
          "Batsman Avg",
          "Batsman Avg",
          "Batsman Avg",
          "Batsman Avg",
          "Batsman Avg",
          "Batsman Avg",
          "Batsman Avg",
          "Batsman Avg",
          "Batsman Avg",
          "Batsman Avg",
          "Batsman Avg",
          "Batsman Avg",
          "Batsman Avg",
          "Batsman Avg",
          "Batsman Avg",
          "Batsman Avg",
          "Batsman Avg",
          "Batsman Avg",
          "Batsman Avg",
          "Batsman Avg",
          "Batsman Avg",
          "Batsman Avg",
          "Batsman Avg",
          "Batsman Avg",
          "Batsman Avg",
          "Batsman Avg",
          "Batsman Avg",
          "Batsman Avg",
          "Batsman Avg",
          "Batsman Avg",
          "Batsman Avg",
          "Batsman Avg",
          "Batsman Avg",
          "Batsman Avg",
          "Batsman Avg",
          "Batsman Avg",
          "Batsman Avg",
          "Batsman Avg",
          "Batsman Avg",
          "Batsman Avg",
          "Batsman Avg",
          "Batsman Avg",
          "Batsman Avg",
          "Batsman Avg",
          "Batsman Avg",
          "Batsman Avg",
          "Batsman Avg",
          "Batsman Avg",
          "Batsman Avg",
          "Batsman Avg",
          "Batsman Avg",
          "Batsman Avg",
          "Batsman Avg",
          "Batsman Avg",
          "Batsman Avg",
          "Batsman Avg",
          "Batsman Avg",
          "Batsman Avg",
          "Batsman Avg",
          "Batsman Avg",
          "Batsman Avg",
          "Batsman Avg",
          "Batsman Avg",
          "Batsman Avg",
          "Batsman Avg",
          "Batsman Avg",
          "Batsman Avg",
          "Batsman Avg",
          "Batsman Avg",
          "Batsman Avg",
          "Batsman Avg",
          "Batsman Avg",
          "Batsman Avg",
          "Batsman Avg",
          "Batsman Avg",
          "Batsman Avg",
          "Batsman Avg",
          "Batsman Avg",
          "Batsman Avg",
          "Batsman Avg",
          "Batsman Avg",
          "Batsman Avg",
          "Batsman Avg",
          "Batsman Avg",
          "Batsman Avg",
          "Batsman Avg",
          "Batsman Avg",
          "Batsman Avg",
          "Batsman Avg",
          "Batsman Avg",
          "Batsman Avg",
          "Batsman Avg",
          "Batsman Avg",
          "Batsman Avg",
          "Batsman Avg",
          "Batsman Avg",
          "Batsman Avg",
          "Batsman Avg",
          "Batsman Avg",
          "Batsman Avg",
          "Batsman Avg",
          "Batsman Avg",
          "Batsman Avg",
          "Batsman Avg",
          "Batsman Avg",
          "Batsman Avg",
          "Batsman Avg",
          "Batsman Avg",
          "Batsman Avg",
          "Batsman Avg",
          "Batsman Avg",
          "Batsman Avg",
          "Batsman Avg",
          "Batsman Avg",
          "Batsman Avg",
          "Batsman Avg",
          "Batsman Avg",
          "Batsman Avg",
          "Batsman Avg",
          "Batsman Avg",
          "Batsman Avg",
          "Batsman Avg",
          "Batsman Avg",
          "Batsman Avg",
          "Batsman Avg",
          "Batsman Avg",
          "Batsman Avg",
          "Batsman Avg",
          "Batsman Avg",
          "Batsman Avg",
          "Batsman Avg",
          "Batsman Avg",
          "Batsman Avg",
          "Batsman Avg",
          "Batsman Avg",
          "Batsman Avg",
          "Batsman Avg",
          "Batsman Avg",
          "Batsman Avg",
          "Batsman Avg",
          "Batsman Avg",
          "Batsman Avg",
          "Batsman Avg",
          "Batsman Avg",
          "Batsman Avg",
          "Batsman Avg",
          "Batsman Avg",
          "Batsman Avg",
          "Batsman Avg",
          "Batsman Avg",
          "Batsman Avg",
          "Batsman Avg",
          "Batsman Avg",
          "Batsman Avg",
          "Batsman Avg",
          "Batsman Avg",
          "Batsman Avg",
          "Batsman Avg",
          "Batsman Avg",
          "Batsman Avg",
          "Batsman Avg",
          "Batsman Avg",
          "Batsman Avg",
          "Batsman Avg",
          "Batsman Avg",
          "Batsman Avg",
          "Batsman Avg",
          "Batsman Avg",
          "Batsman Avg",
          "Batsman Avg",
          "Batsman Avg",
          "Batsman Avg",
          "Batsman Avg",
          "Batsman Avg",
          "Batsman Avg",
          "Batsman Avg",
          "Batsman Avg",
          "Batsman Avg",
          "Batsman Avg",
          "Batsman Avg",
          "Batsman Avg",
          "Batsman Avg",
          "Batsman Avg",
          "Batsman Avg",
          "Batsman Avg",
          "Batsman Avg",
          "Batsman Avg",
          "Batsman Avg",
          "Batsman Avg",
          "Batsman Avg",
          "Batsman Avg",
          "Batsman Avg",
          "Batsman Avg",
          "Batsman Avg",
          "Batsman Avg",
          "Batsman Avg",
          "Batsman Avg",
          "Batsman Avg",
          "Batsman Avg",
          "Batsman Avg",
          "Batsman Avg",
          "Batsman Avg",
          "Batsman Avg",
          "Batsman Avg",
          "Batsman Avg",
          "Batsman Avg",
          "Batsman Avg",
          "Batsman Avg",
          "Batsman Avg",
          "Batsman Avg",
          "Batsman Avg",
          "Batsman Avg",
          "Batsman Avg",
          "Batsman Avg",
          "Batsman Avg",
          "Batsman Avg",
          "Batsman Avg",
          "Batsman Avg",
          "Batsman Avg",
          "Batsman Avg",
          "Batsman Avg",
          "Batsman Avg",
          "Batsman Avg",
          "Batsman Avg",
          "Batsman Avg",
          "Batsman Avg",
          "Batsman Avg",
          "Batsman Avg",
          "Batsman Avg",
          "Batsman Avg",
          "Batsman Avg",
          "Batsman Avg",
          "Batsman Avg",
          "Batsman Avg",
          "Batsman Avg",
          "Batsman Avg",
          "Batsman Avg",
          "Batsman Avg",
          "Batsman Avg",
          "Batsman Avg",
          "Batsman Avg",
          "Batsman Avg",
          "Batsman Avg",
          "Batsman Avg",
          "Batsman Avg",
          "Batsman Avg",
          "Batsman Avg",
          "Batsman Avg",
          "Batsman Avg",
          "Batsman Avg",
          "Batsman Avg",
          "Batsman Avg",
          "Batsman Avg",
          "Batsman Avg",
          "Batsman Avg",
          "Batsman Avg",
          "Batsman Avg",
          "Batsman Avg",
          "Batsman Avg",
          "Batsman Avg",
          "Batsman Avg",
          "Batsman Avg",
          "Batsman Avg",
          "Batsman Avg",
          "Batsman Avg",
          "Batsman Avg",
          "Batsman Avg",
          "Batsman Avg",
          "Batsman Avg",
          "Batsman Avg",
          "Batsman Avg",
          "Batsman Avg",
          "Batsman Avg",
          "Batsman Avg",
          "Batsman Avg",
          "Batsman Avg",
          "Batsman Avg",
          "Batsman Avg",
          "Batsman Avg",
          "Batsman Avg",
          "Batsman Avg",
          "Batsman Avg",
          "Batsman Avg",
          "Batsman Avg",
          "Batsman Avg",
          "Batsman Avg",
          "Batsman Avg",
          "Batsman Avg",
          "Batsman Avg",
          "Batsman Avg",
          "Batsman Avg",
          "Batsman Avg",
          "Batsman Avg",
          "Batsman Avg",
          "Batsman Avg",
          "Batsman Avg",
          "Batsman Avg",
          "Batsman Avg",
          "Batsman Avg",
          "Batsman Avg",
          "Batsman Avg",
          "Batsman Avg",
          "Batsman Avg",
          "Batsman Avg",
          "Batsman Avg",
          "Batsman Avg",
          "Batsman Avg",
          "Batsman Avg",
          "Batsman Avg",
          "Batsman Avg",
          "Batsman Avg",
          "Batsman Avg",
          "Batsman Avg",
          "Batsman Avg",
          "Batsman Avg",
          "Batsman Avg",
          "Batsman Avg",
          "Batsman Avg",
          "Batsman Avg",
          "Batsman Avg",
          "Batsman Avg",
          "Batsman Avg",
          "Batsman Avg",
          "Batsman Avg",
          "Batsman Avg",
          "Batsman Avg",
          "Batsman Avg",
          "Batsman Avg",
          "Batsman Avg",
          "Batsman Avg",
          "Batsman Avg",
          "Batsman Avg",
          "Batsman Avg",
          "Batsman Avg",
          "Batsman Avg",
          "Batsman Avg",
          "Batsman Avg",
          "Batsman Avg",
          "Batsman Avg",
          "Batsman Avg",
          "Batsman Avg",
          "Batsman Avg",
          "Batsman Avg",
          "Batsman Avg",
          "Batsman Avg",
          "Batsman Avg",
          "Batsman Avg",
          "Batsman Avg",
          "Batsman Avg",
          "Batsman Avg",
          "Batsman Avg",
          "Batsman Avg",
          "Batsman Avg",
          "Batsman Avg",
          "Batsman Avg",
          "Batsman Avg",
          "Batsman Avg",
          "Batsman Avg",
          "Batsman Avg",
          "Batsman Avg",
          "Batsman Avg",
          "Batsman Avg",
          "Batsman Avg",
          "Batsman Avg",
          "Batsman Avg",
          "Batsman Avg",
          "Batsman Avg",
          "Batsman Avg",
          "Batsman Avg",
          "Batsman Avg",
          "Batsman Avg",
          "Batsman Avg",
          "Batsman Avg",
          "Batsman Avg",
          "Batsman Avg",
          "Batsman Avg",
          "Batsman Avg",
          "Batsman Avg",
          "Batsman Avg",
          "Batsman Avg",
          "Batsman Avg",
          "Batsman Avg",
          "Batsman Avg",
          "Batsman Avg",
          "Batsman Avg",
          "Batsman Avg",
          "Batsman Avg",
          "Batsman Avg",
          "Batsman Avg",
          "Batsman Avg",
          "Batsman Avg",
          "Batsman Avg",
          "Batsman Avg",
          "Batsman Avg",
          "Batsman Avg",
          "Batsman Avg",
          "Batsman Avg",
          "Batsman Avg",
          "Batsman Avg",
          "Batsman Avg",
          "Batsman Avg",
          "Batsman Avg",
          "Batsman Avg",
          "Batsman Avg",
          "Batsman Avg",
          "Batsman Avg",
          "Batsman Avg",
          "Batsman Avg",
          "Batsman Avg",
          "Batsman Avg",
          "Batsman Avg",
          "Batsman Avg",
          "Batsman Avg",
          "Batsman Avg",
          "Batsman Avg",
          "Batsman Avg",
          "Batsman Avg",
          "Batsman Avg",
          "Batsman Avg",
          "Batsman Avg",
          "Batsman Avg",
          "Batsman Avg",
          "Batsman Avg",
          "Batsman Avg",
          "Batsman Avg",
          "Batsman Avg",
          "Batsman Avg",
          "Batsman Avg",
          "Batsman Avg",
          "Batsman Avg",
          "Batsman Avg",
          "Batsman Avg",
          "Batsman Avg",
          "Batsman Avg",
          "Batsman Avg",
          "Batsman Avg",
          "Batsman Avg",
          "Batsman Avg",
          "Batsman Avg"
         ],
         "yaxis": "y2"
        }
       ],
       "layout": {
        "barmode": "overlay",
        "font": {
         "color": "white"
        },
        "hovermode": "closest",
        "legend": {
         "traceorder": "reversed"
        },
        "paper_bgcolor": "black",
        "plot_bgcolor": "black",
        "template": {
         "data": {
          "bar": [
           {
            "error_x": {
             "color": "#2a3f5f"
            },
            "error_y": {
             "color": "#2a3f5f"
            },
            "marker": {
             "line": {
              "color": "#E5ECF6",
              "width": 0.5
             },
             "pattern": {
              "fillmode": "overlay",
              "size": 10,
              "solidity": 0.2
             }
            },
            "type": "bar"
           }
          ],
          "barpolar": [
           {
            "marker": {
             "line": {
              "color": "#E5ECF6",
              "width": 0.5
             },
             "pattern": {
              "fillmode": "overlay",
              "size": 10,
              "solidity": 0.2
             }
            },
            "type": "barpolar"
           }
          ],
          "carpet": [
           {
            "aaxis": {
             "endlinecolor": "#2a3f5f",
             "gridcolor": "white",
             "linecolor": "white",
             "minorgridcolor": "white",
             "startlinecolor": "#2a3f5f"
            },
            "baxis": {
             "endlinecolor": "#2a3f5f",
             "gridcolor": "white",
             "linecolor": "white",
             "minorgridcolor": "white",
             "startlinecolor": "#2a3f5f"
            },
            "type": "carpet"
           }
          ],
          "choropleth": [
           {
            "colorbar": {
             "outlinewidth": 0,
             "ticks": ""
            },
            "type": "choropleth"
           }
          ],
          "contour": [
           {
            "colorbar": {
             "outlinewidth": 0,
             "ticks": ""
            },
            "colorscale": [
             [
              0,
              "#0d0887"
             ],
             [
              0.1111111111111111,
              "#46039f"
             ],
             [
              0.2222222222222222,
              "#7201a8"
             ],
             [
              0.3333333333333333,
              "#9c179e"
             ],
             [
              0.4444444444444444,
              "#bd3786"
             ],
             [
              0.5555555555555556,
              "#d8576b"
             ],
             [
              0.6666666666666666,
              "#ed7953"
             ],
             [
              0.7777777777777778,
              "#fb9f3a"
             ],
             [
              0.8888888888888888,
              "#fdca26"
             ],
             [
              1,
              "#f0f921"
             ]
            ],
            "type": "contour"
           }
          ],
          "contourcarpet": [
           {
            "colorbar": {
             "outlinewidth": 0,
             "ticks": ""
            },
            "type": "contourcarpet"
           }
          ],
          "heatmap": [
           {
            "colorbar": {
             "outlinewidth": 0,
             "ticks": ""
            },
            "colorscale": [
             [
              0,
              "#0d0887"
             ],
             [
              0.1111111111111111,
              "#46039f"
             ],
             [
              0.2222222222222222,
              "#7201a8"
             ],
             [
              0.3333333333333333,
              "#9c179e"
             ],
             [
              0.4444444444444444,
              "#bd3786"
             ],
             [
              0.5555555555555556,
              "#d8576b"
             ],
             [
              0.6666666666666666,
              "#ed7953"
             ],
             [
              0.7777777777777778,
              "#fb9f3a"
             ],
             [
              0.8888888888888888,
              "#fdca26"
             ],
             [
              1,
              "#f0f921"
             ]
            ],
            "type": "heatmap"
           }
          ],
          "histogram": [
           {
            "marker": {
             "pattern": {
              "fillmode": "overlay",
              "size": 10,
              "solidity": 0.2
             }
            },
            "type": "histogram"
           }
          ],
          "histogram2d": [
           {
            "colorbar": {
             "outlinewidth": 0,
             "ticks": ""
            },
            "colorscale": [
             [
              0,
              "#0d0887"
             ],
             [
              0.1111111111111111,
              "#46039f"
             ],
             [
              0.2222222222222222,
              "#7201a8"
             ],
             [
              0.3333333333333333,
              "#9c179e"
             ],
             [
              0.4444444444444444,
              "#bd3786"
             ],
             [
              0.5555555555555556,
              "#d8576b"
             ],
             [
              0.6666666666666666,
              "#ed7953"
             ],
             [
              0.7777777777777778,
              "#fb9f3a"
             ],
             [
              0.8888888888888888,
              "#fdca26"
             ],
             [
              1,
              "#f0f921"
             ]
            ],
            "type": "histogram2d"
           }
          ],
          "histogram2dcontour": [
           {
            "colorbar": {
             "outlinewidth": 0,
             "ticks": ""
            },
            "colorscale": [
             [
              0,
              "#0d0887"
             ],
             [
              0.1111111111111111,
              "#46039f"
             ],
             [
              0.2222222222222222,
              "#7201a8"
             ],
             [
              0.3333333333333333,
              "#9c179e"
             ],
             [
              0.4444444444444444,
              "#bd3786"
             ],
             [
              0.5555555555555556,
              "#d8576b"
             ],
             [
              0.6666666666666666,
              "#ed7953"
             ],
             [
              0.7777777777777778,
              "#fb9f3a"
             ],
             [
              0.8888888888888888,
              "#fdca26"
             ],
             [
              1,
              "#f0f921"
             ]
            ],
            "type": "histogram2dcontour"
           }
          ],
          "mesh3d": [
           {
            "colorbar": {
             "outlinewidth": 0,
             "ticks": ""
            },
            "type": "mesh3d"
           }
          ],
          "parcoords": [
           {
            "line": {
             "colorbar": {
              "outlinewidth": 0,
              "ticks": ""
             }
            },
            "type": "parcoords"
           }
          ],
          "pie": [
           {
            "automargin": true,
            "type": "pie"
           }
          ],
          "scatter": [
           {
            "fillpattern": {
             "fillmode": "overlay",
             "size": 10,
             "solidity": 0.2
            },
            "type": "scatter"
           }
          ],
          "scatter3d": [
           {
            "line": {
             "colorbar": {
              "outlinewidth": 0,
              "ticks": ""
             }
            },
            "marker": {
             "colorbar": {
              "outlinewidth": 0,
              "ticks": ""
             }
            },
            "type": "scatter3d"
           }
          ],
          "scattercarpet": [
           {
            "marker": {
             "colorbar": {
              "outlinewidth": 0,
              "ticks": ""
             }
            },
            "type": "scattercarpet"
           }
          ],
          "scattergeo": [
           {
            "marker": {
             "colorbar": {
              "outlinewidth": 0,
              "ticks": ""
             }
            },
            "type": "scattergeo"
           }
          ],
          "scattergl": [
           {
            "marker": {
             "colorbar": {
              "outlinewidth": 0,
              "ticks": ""
             }
            },
            "type": "scattergl"
           }
          ],
          "scattermap": [
           {
            "marker": {
             "colorbar": {
              "outlinewidth": 0,
              "ticks": ""
             }
            },
            "type": "scattermap"
           }
          ],
          "scattermapbox": [
           {
            "marker": {
             "colorbar": {
              "outlinewidth": 0,
              "ticks": ""
             }
            },
            "type": "scattermapbox"
           }
          ],
          "scatterpolar": [
           {
            "marker": {
             "colorbar": {
              "outlinewidth": 0,
              "ticks": ""
             }
            },
            "type": "scatterpolar"
           }
          ],
          "scatterpolargl": [
           {
            "marker": {
             "colorbar": {
              "outlinewidth": 0,
              "ticks": ""
             }
            },
            "type": "scatterpolargl"
           }
          ],
          "scatterternary": [
           {
            "marker": {
             "colorbar": {
              "outlinewidth": 0,
              "ticks": ""
             }
            },
            "type": "scatterternary"
           }
          ],
          "surface": [
           {
            "colorbar": {
             "outlinewidth": 0,
             "ticks": ""
            },
            "colorscale": [
             [
              0,
              "#0d0887"
             ],
             [
              0.1111111111111111,
              "#46039f"
             ],
             [
              0.2222222222222222,
              "#7201a8"
             ],
             [
              0.3333333333333333,
              "#9c179e"
             ],
             [
              0.4444444444444444,
              "#bd3786"
             ],
             [
              0.5555555555555556,
              "#d8576b"
             ],
             [
              0.6666666666666666,
              "#ed7953"
             ],
             [
              0.7777777777777778,
              "#fb9f3a"
             ],
             [
              0.8888888888888888,
              "#fdca26"
             ],
             [
              1,
              "#f0f921"
             ]
            ],
            "type": "surface"
           }
          ],
          "table": [
           {
            "cells": {
             "fill": {
              "color": "#EBF0F8"
             },
             "line": {
              "color": "white"
             }
            },
            "header": {
             "fill": {
              "color": "#C8D4E3"
             },
             "line": {
              "color": "white"
             }
            },
            "type": "table"
           }
          ]
         },
         "layout": {
          "annotationdefaults": {
           "arrowcolor": "#2a3f5f",
           "arrowhead": 0,
           "arrowwidth": 1
          },
          "autotypenumbers": "strict",
          "coloraxis": {
           "colorbar": {
            "outlinewidth": 0,
            "ticks": ""
           }
          },
          "colorscale": {
           "diverging": [
            [
             0,
             "#8e0152"
            ],
            [
             0.1,
             "#c51b7d"
            ],
            [
             0.2,
             "#de77ae"
            ],
            [
             0.3,
             "#f1b6da"
            ],
            [
             0.4,
             "#fde0ef"
            ],
            [
             0.5,
             "#f7f7f7"
            ],
            [
             0.6,
             "#e6f5d0"
            ],
            [
             0.7,
             "#b8e186"
            ],
            [
             0.8,
             "#7fbc41"
            ],
            [
             0.9,
             "#4d9221"
            ],
            [
             1,
             "#276419"
            ]
           ],
           "sequential": [
            [
             0,
             "#0d0887"
            ],
            [
             0.1111111111111111,
             "#46039f"
            ],
            [
             0.2222222222222222,
             "#7201a8"
            ],
            [
             0.3333333333333333,
             "#9c179e"
            ],
            [
             0.4444444444444444,
             "#bd3786"
            ],
            [
             0.5555555555555556,
             "#d8576b"
            ],
            [
             0.6666666666666666,
             "#ed7953"
            ],
            [
             0.7777777777777778,
             "#fb9f3a"
            ],
            [
             0.8888888888888888,
             "#fdca26"
            ],
            [
             1,
             "#f0f921"
            ]
           ],
           "sequentialminus": [
            [
             0,
             "#0d0887"
            ],
            [
             0.1111111111111111,
             "#46039f"
            ],
            [
             0.2222222222222222,
             "#7201a8"
            ],
            [
             0.3333333333333333,
             "#9c179e"
            ],
            [
             0.4444444444444444,
             "#bd3786"
            ],
            [
             0.5555555555555556,
             "#d8576b"
            ],
            [
             0.6666666666666666,
             "#ed7953"
            ],
            [
             0.7777777777777778,
             "#fb9f3a"
            ],
            [
             0.8888888888888888,
             "#fdca26"
            ],
            [
             1,
             "#f0f921"
            ]
           ]
          },
          "colorway": [
           "#636efa",
           "#EF553B",
           "#00cc96",
           "#ab63fa",
           "#FFA15A",
           "#19d3f3",
           "#FF6692",
           "#B6E880",
           "#FF97FF",
           "#FECB52"
          ],
          "font": {
           "color": "#2a3f5f"
          },
          "geo": {
           "bgcolor": "white",
           "lakecolor": "white",
           "landcolor": "#E5ECF6",
           "showlakes": true,
           "showland": true,
           "subunitcolor": "white"
          },
          "hoverlabel": {
           "align": "left"
          },
          "hovermode": "closest",
          "mapbox": {
           "style": "light"
          },
          "paper_bgcolor": "white",
          "plot_bgcolor": "#E5ECF6",
          "polar": {
           "angularaxis": {
            "gridcolor": "white",
            "linecolor": "white",
            "ticks": ""
           },
           "bgcolor": "#E5ECF6",
           "radialaxis": {
            "gridcolor": "white",
            "linecolor": "white",
            "ticks": ""
           }
          },
          "scene": {
           "xaxis": {
            "backgroundcolor": "#E5ECF6",
            "gridcolor": "white",
            "gridwidth": 2,
            "linecolor": "white",
            "showbackground": true,
            "ticks": "",
            "zerolinecolor": "white"
           },
           "yaxis": {
            "backgroundcolor": "#E5ECF6",
            "gridcolor": "white",
            "gridwidth": 2,
            "linecolor": "white",
            "showbackground": true,
            "ticks": "",
            "zerolinecolor": "white"
           },
           "zaxis": {
            "backgroundcolor": "#E5ECF6",
            "gridcolor": "white",
            "gridwidth": 2,
            "linecolor": "white",
            "showbackground": true,
            "ticks": "",
            "zerolinecolor": "white"
           }
          },
          "shapedefaults": {
           "line": {
            "color": "#2a3f5f"
           }
          },
          "ternary": {
           "aaxis": {
            "gridcolor": "white",
            "linecolor": "white",
            "ticks": ""
           },
           "baxis": {
            "gridcolor": "white",
            "linecolor": "white",
            "ticks": ""
           },
           "bgcolor": "#E5ECF6",
           "caxis": {
            "gridcolor": "white",
            "linecolor": "white",
            "ticks": ""
           }
          },
          "title": {
           "x": 0.05
          },
          "xaxis": {
           "automargin": true,
           "gridcolor": "white",
           "linecolor": "white",
           "ticks": "",
           "title": {
            "standoff": 15
           },
           "zerolinecolor": "white",
           "zerolinewidth": 2
          },
          "yaxis": {
           "automargin": true,
           "gridcolor": "white",
           "linecolor": "white",
           "ticks": "",
           "title": {
            "standoff": 15
           },
           "zerolinecolor": "white",
           "zerolinewidth": 2
          }
         }
        },
        "title": {
         "text": "Distribution of Batsman Averages in IPL"
        },
        "xaxis": {
         "anchor": "y2",
         "color": "white",
         "domain": [
          0,
          1
         ],
         "title": {
          "text": "Batsman Average"
         },
         "zeroline": false
        },
        "yaxis": {
         "anchor": "free",
         "color": "white",
         "domain": [
          0.35,
          1
         ],
         "position": 0,
         "title": {
          "text": "Density"
         }
        },
        "yaxis2": {
         "anchor": "x",
         "domain": [
          0,
          0.25
         ],
         "dtick": 1,
         "showticklabels": false
        }
       }
      }
     },
     "metadata": {},
     "output_type": "display_data"
    }
   ],
   "source": [
    "import plotly.figure_factory as ff\n",
    "import plotly.offline as pyo\n",
    "\n",
    "# Calculate total runs and balls for each batsman\n",
    "newipl = ipl.groupby('batsman').agg({'batsman_runs': 'sum', 'ball': 'count'}).reset_index()\n",
    "\n",
    "# Compute batting average: runs / (balls / 6)\n",
    "newipl['batsman_avg'] = newipl['batsman_runs'] / (newipl['ball'] / 6)\n",
    "\n",
    "# Extract average list for plotting\n",
    "avg_data = newipl['batsman_avg'].dropna().tolist()\n",
    "\n",
    "# Create the distplot\n",
    "fig = ff.create_distplot(\n",
    "    [avg_data],                 # Data\n",
    "    group_labels=['Batsman Avg'],\n",
    "    colors=['skyblue'],\n",
    "    show_rug=True,\n",
    "    curve_type='kde'\n",
    ")\n",
    "\n",
    "# Customize layout with x-axis label\n",
    "fig.update_layout(\n",
    "    title='Distribution of Batsman Averages in IPL',\n",
    "    xaxis=dict(\n",
    "        title='Batsman Average',\n",
    "        color='white'\n",
    "    ),\n",
    "    yaxis=dict(\n",
    "        title='Density',\n",
    "        color='white'\n",
    "    ),\n",
    "    plot_bgcolor='black',\n",
    "    paper_bgcolor='black',\n",
    "    font=dict(color='white')\n",
    ")\n",
    "\n",
    "# Display the plot\n",
    "pyo.iplot(fig, filename='batsman_average_distplot.html')\n"
   ]
  },
  {
   "cell_type": "markdown",
   "id": "108b472e",
   "metadata": {},
   "source": [
    "# 8. heatmaps\n",
    "a heat maps is a graphical representation of data ehere the individual values contained in a matrix is a represented as colors."
   ]
  },
  {
   "cell_type": "code",
   "execution_count": 74,
   "id": "361e191b",
   "metadata": {},
   "outputs": [
    {
     "data": {
      "application/vnd.plotly.v1+json": {
       "config": {
        "plotlyServerURL": "https://plot.ly"
       },
       "data": [
        {
         "colorbar": {
          "title": {
           "text": "Sixes Count"
          }
         },
         "colorscale": [
          [
           0,
           "#440154"
          ],
          [
           0.1111111111111111,
           "#482878"
          ],
          [
           0.2222222222222222,
           "#3e4989"
          ],
          [
           0.3333333333333333,
           "#31688e"
          ],
          [
           0.4444444444444444,
           "#26828e"
          ],
          [
           0.5555555555555556,
           "#1f9e89"
          ],
          [
           0.6666666666666666,
           "#35b779"
          ],
          [
           0.7777777777777778,
           "#6ece58"
          ],
          [
           0.8888888888888888,
           "#b5de2b"
          ],
          [
           1,
           "#fde725"
          ]
         ],
         "type": "heatmap",
         "x": [
          "Chennai Super Kings",
          "Chennai Super Kings",
          "Chennai Super Kings",
          "Chennai Super Kings",
          "Chennai Super Kings",
          "Chennai Super Kings",
          "Chennai Super Kings",
          "Chennai Super Kings",
          "Chennai Super Kings",
          "Chennai Super Kings",
          "Chennai Super Kings",
          "Chennai Super Kings",
          "Chennai Super Kings",
          "Chennai Super Kings",
          "Chennai Super Kings",
          "Chennai Super Kings",
          "Chennai Super Kings",
          "Chennai Super Kings",
          "Chennai Super Kings",
          "Chennai Super Kings",
          "Deccan Chargers",
          "Deccan Chargers",
          "Deccan Chargers",
          "Deccan Chargers",
          "Deccan Chargers",
          "Deccan Chargers",
          "Deccan Chargers",
          "Deccan Chargers",
          "Deccan Chargers",
          "Deccan Chargers",
          "Deccan Chargers",
          "Deccan Chargers",
          "Deccan Chargers",
          "Deccan Chargers",
          "Deccan Chargers",
          "Deccan Chargers",
          "Deccan Chargers",
          "Deccan Chargers",
          "Deccan Chargers",
          "Deccan Chargers",
          "Delhi Daredevils",
          "Delhi Daredevils",
          "Delhi Daredevils",
          "Delhi Daredevils",
          "Delhi Daredevils",
          "Delhi Daredevils",
          "Delhi Daredevils",
          "Delhi Daredevils",
          "Delhi Daredevils",
          "Delhi Daredevils",
          "Delhi Daredevils",
          "Delhi Daredevils",
          "Delhi Daredevils",
          "Delhi Daredevils",
          "Delhi Daredevils",
          "Delhi Daredevils",
          "Delhi Daredevils",
          "Delhi Daredevils",
          "Delhi Daredevils",
          "Delhi Daredevils",
          "Gujarat Lions",
          "Gujarat Lions",
          "Gujarat Lions",
          "Gujarat Lions",
          "Gujarat Lions",
          "Gujarat Lions",
          "Gujarat Lions",
          "Gujarat Lions",
          "Gujarat Lions",
          "Gujarat Lions",
          "Gujarat Lions",
          "Gujarat Lions",
          "Gujarat Lions",
          "Gujarat Lions",
          "Gujarat Lions",
          "Gujarat Lions",
          "Gujarat Lions",
          "Gujarat Lions",
          "Gujarat Lions",
          "Gujarat Lions",
          "Kings XI Punjab",
          "Kings XI Punjab",
          "Kings XI Punjab",
          "Kings XI Punjab",
          "Kings XI Punjab",
          "Kings XI Punjab",
          "Kings XI Punjab",
          "Kings XI Punjab",
          "Kings XI Punjab",
          "Kings XI Punjab",
          "Kings XI Punjab",
          "Kings XI Punjab",
          "Kings XI Punjab",
          "Kings XI Punjab",
          "Kings XI Punjab",
          "Kings XI Punjab",
          "Kings XI Punjab",
          "Kings XI Punjab",
          "Kings XI Punjab",
          "Kings XI Punjab",
          "Kochi Tuskers Kerala",
          "Kochi Tuskers Kerala",
          "Kochi Tuskers Kerala",
          "Kochi Tuskers Kerala",
          "Kochi Tuskers Kerala",
          "Kochi Tuskers Kerala",
          "Kochi Tuskers Kerala",
          "Kochi Tuskers Kerala",
          "Kochi Tuskers Kerala",
          "Kochi Tuskers Kerala",
          "Kochi Tuskers Kerala",
          "Kochi Tuskers Kerala",
          "Kochi Tuskers Kerala",
          "Kochi Tuskers Kerala",
          "Kochi Tuskers Kerala",
          "Kochi Tuskers Kerala",
          "Kochi Tuskers Kerala",
          "Kochi Tuskers Kerala",
          "Kochi Tuskers Kerala",
          "Kolkata Knight Riders",
          "Kolkata Knight Riders",
          "Kolkata Knight Riders",
          "Kolkata Knight Riders",
          "Kolkata Knight Riders",
          "Kolkata Knight Riders",
          "Kolkata Knight Riders",
          "Kolkata Knight Riders",
          "Kolkata Knight Riders",
          "Kolkata Knight Riders",
          "Kolkata Knight Riders",
          "Kolkata Knight Riders",
          "Kolkata Knight Riders",
          "Kolkata Knight Riders",
          "Kolkata Knight Riders",
          "Kolkata Knight Riders",
          "Kolkata Knight Riders",
          "Kolkata Knight Riders",
          "Kolkata Knight Riders",
          "Kolkata Knight Riders",
          "Mumbai Indians",
          "Mumbai Indians",
          "Mumbai Indians",
          "Mumbai Indians",
          "Mumbai Indians",
          "Mumbai Indians",
          "Mumbai Indians",
          "Mumbai Indians",
          "Mumbai Indians",
          "Mumbai Indians",
          "Mumbai Indians",
          "Mumbai Indians",
          "Mumbai Indians",
          "Mumbai Indians",
          "Mumbai Indians",
          "Mumbai Indians",
          "Mumbai Indians",
          "Mumbai Indians",
          "Mumbai Indians",
          "Mumbai Indians",
          "Pune Warriors",
          "Pune Warriors",
          "Pune Warriors",
          "Pune Warriors",
          "Pune Warriors",
          "Pune Warriors",
          "Pune Warriors",
          "Pune Warriors",
          "Pune Warriors",
          "Pune Warriors",
          "Pune Warriors",
          "Pune Warriors",
          "Pune Warriors",
          "Pune Warriors",
          "Pune Warriors",
          "Pune Warriors",
          "Pune Warriors",
          "Pune Warriors",
          "Pune Warriors",
          "Pune Warriors",
          "Rajasthan Royals",
          "Rajasthan Royals",
          "Rajasthan Royals",
          "Rajasthan Royals",
          "Rajasthan Royals",
          "Rajasthan Royals",
          "Rajasthan Royals",
          "Rajasthan Royals",
          "Rajasthan Royals",
          "Rajasthan Royals",
          "Rajasthan Royals",
          "Rajasthan Royals",
          "Rajasthan Royals",
          "Rajasthan Royals",
          "Rajasthan Royals",
          "Rajasthan Royals",
          "Rajasthan Royals",
          "Rajasthan Royals",
          "Rajasthan Royals",
          "Rajasthan Royals",
          "Rising Pune Supergiant",
          "Rising Pune Supergiant",
          "Rising Pune Supergiant",
          "Rising Pune Supergiant",
          "Rising Pune Supergiant",
          "Rising Pune Supergiant",
          "Rising Pune Supergiant",
          "Rising Pune Supergiant",
          "Rising Pune Supergiant",
          "Rising Pune Supergiant",
          "Rising Pune Supergiant",
          "Rising Pune Supergiant",
          "Rising Pune Supergiant",
          "Rising Pune Supergiant",
          "Rising Pune Supergiant",
          "Rising Pune Supergiant",
          "Rising Pune Supergiant",
          "Rising Pune Supergiant",
          "Rising Pune Supergiants",
          "Rising Pune Supergiants",
          "Rising Pune Supergiants",
          "Rising Pune Supergiants",
          "Rising Pune Supergiants",
          "Rising Pune Supergiants",
          "Rising Pune Supergiants",
          "Rising Pune Supergiants",
          "Rising Pune Supergiants",
          "Rising Pune Supergiants",
          "Rising Pune Supergiants",
          "Rising Pune Supergiants",
          "Rising Pune Supergiants",
          "Rising Pune Supergiants",
          "Rising Pune Supergiants",
          "Rising Pune Supergiants",
          "Rising Pune Supergiants",
          "Rising Pune Supergiants",
          "Rising Pune Supergiants",
          "Royal Challengers Bangalore",
          "Royal Challengers Bangalore",
          "Royal Challengers Bangalore",
          "Royal Challengers Bangalore",
          "Royal Challengers Bangalore",
          "Royal Challengers Bangalore",
          "Royal Challengers Bangalore",
          "Royal Challengers Bangalore",
          "Royal Challengers Bangalore",
          "Royal Challengers Bangalore",
          "Royal Challengers Bangalore",
          "Royal Challengers Bangalore",
          "Royal Challengers Bangalore",
          "Royal Challengers Bangalore",
          "Royal Challengers Bangalore",
          "Royal Challengers Bangalore",
          "Royal Challengers Bangalore",
          "Royal Challengers Bangalore",
          "Royal Challengers Bangalore",
          "Royal Challengers Bangalore",
          "Sunrisers Hyderabad",
          "Sunrisers Hyderabad",
          "Sunrisers Hyderabad",
          "Sunrisers Hyderabad",
          "Sunrisers Hyderabad",
          "Sunrisers Hyderabad",
          "Sunrisers Hyderabad",
          "Sunrisers Hyderabad",
          "Sunrisers Hyderabad",
          "Sunrisers Hyderabad",
          "Sunrisers Hyderabad",
          "Sunrisers Hyderabad",
          "Sunrisers Hyderabad",
          "Sunrisers Hyderabad",
          "Sunrisers Hyderabad",
          "Sunrisers Hyderabad",
          "Sunrisers Hyderabad",
          "Sunrisers Hyderabad",
          "Sunrisers Hyderabad",
          "Sunrisers Hyderabad"
         ],
         "y": {
          "bdata": "AQIDBAUGBwgJCgsMDQ4PEBESExQBAgMEBQYHCAkKCwwNDg8QERITFAECAwQFBgcICQoLDA0ODxAREhMUAQIDBAUGBwgJCgsMDQ4PEBESExQBAgMEBQYHCAkKCwwNDg8QERITFAECAwQFBgcICQoLDA0ODxESExQBAgMEBQYHCAkKCwwNDg8QERITFAECAwQFBgcICQoLDA0ODxAREhMUAQIDBAUGBwgJCgsMDQ4PEBESExQBAgMEBQYHCAkKCwwNDg8QERITFAEDBAUGBwkKCwwNDg8QERITFAIDBAUGBwgJCgsMDQ4PEBESExQBAgMEBQYHCAkKCwwNDg8QERITFAECAwQFBgcICQoLDA0ODxAREhMU",
          "dtype": "i1"
         },
         "z": {
          "bdata": "BRElIikrFhkXFyQkIy0rLjM6NkQDFQsRGxYLDREODxoXFhQVJiUXEw4THikdGxQaIBgiJiUjHCs4LDsyBAYOCQsMCgYLCAUHBQgFBQcJCQQKExskHicTIyQdJSYvKTM7Jzk1PAIEAwMDAwICAQMBAwIDBAMEBQIKDRwjGSIaGRsVIiAqHygyNzQtIgkRFhwrMhIXIxYhMTMyNUI8VkhZBQYGBwcDBQoJBg0FCg0NEA0MEhMMBw0VFxgPGBQaHiEnJiIlLSIlGgECBQgGAQMIAwIHBAUFAgIOCwIBAQUFBAMBAQICAQEHBgYJAgkUHCgrKB0SIi8kLyQzNTZHPVJKRwMMEAgRCg0TDwwLCxMSIRYSJSoc",
          "dtype": "i1"
         }
        }
       ],
       "layout": {
        "font": {
         "color": "white"
        },
        "height": 1200,
        "paper_bgcolor": "black",
        "plot_bgcolor": "black",
        "template": {
         "data": {
          "bar": [
           {
            "error_x": {
             "color": "#2a3f5f"
            },
            "error_y": {
             "color": "#2a3f5f"
            },
            "marker": {
             "line": {
              "color": "#E5ECF6",
              "width": 0.5
             },
             "pattern": {
              "fillmode": "overlay",
              "size": 10,
              "solidity": 0.2
             }
            },
            "type": "bar"
           }
          ],
          "barpolar": [
           {
            "marker": {
             "line": {
              "color": "#E5ECF6",
              "width": 0.5
             },
             "pattern": {
              "fillmode": "overlay",
              "size": 10,
              "solidity": 0.2
             }
            },
            "type": "barpolar"
           }
          ],
          "carpet": [
           {
            "aaxis": {
             "endlinecolor": "#2a3f5f",
             "gridcolor": "white",
             "linecolor": "white",
             "minorgridcolor": "white",
             "startlinecolor": "#2a3f5f"
            },
            "baxis": {
             "endlinecolor": "#2a3f5f",
             "gridcolor": "white",
             "linecolor": "white",
             "minorgridcolor": "white",
             "startlinecolor": "#2a3f5f"
            },
            "type": "carpet"
           }
          ],
          "choropleth": [
           {
            "colorbar": {
             "outlinewidth": 0,
             "ticks": ""
            },
            "type": "choropleth"
           }
          ],
          "contour": [
           {
            "colorbar": {
             "outlinewidth": 0,
             "ticks": ""
            },
            "colorscale": [
             [
              0,
              "#0d0887"
             ],
             [
              0.1111111111111111,
              "#46039f"
             ],
             [
              0.2222222222222222,
              "#7201a8"
             ],
             [
              0.3333333333333333,
              "#9c179e"
             ],
             [
              0.4444444444444444,
              "#bd3786"
             ],
             [
              0.5555555555555556,
              "#d8576b"
             ],
             [
              0.6666666666666666,
              "#ed7953"
             ],
             [
              0.7777777777777778,
              "#fb9f3a"
             ],
             [
              0.8888888888888888,
              "#fdca26"
             ],
             [
              1,
              "#f0f921"
             ]
            ],
            "type": "contour"
           }
          ],
          "contourcarpet": [
           {
            "colorbar": {
             "outlinewidth": 0,
             "ticks": ""
            },
            "type": "contourcarpet"
           }
          ],
          "heatmap": [
           {
            "colorbar": {
             "outlinewidth": 0,
             "ticks": ""
            },
            "colorscale": [
             [
              0,
              "#0d0887"
             ],
             [
              0.1111111111111111,
              "#46039f"
             ],
             [
              0.2222222222222222,
              "#7201a8"
             ],
             [
              0.3333333333333333,
              "#9c179e"
             ],
             [
              0.4444444444444444,
              "#bd3786"
             ],
             [
              0.5555555555555556,
              "#d8576b"
             ],
             [
              0.6666666666666666,
              "#ed7953"
             ],
             [
              0.7777777777777778,
              "#fb9f3a"
             ],
             [
              0.8888888888888888,
              "#fdca26"
             ],
             [
              1,
              "#f0f921"
             ]
            ],
            "type": "heatmap"
           }
          ],
          "histogram": [
           {
            "marker": {
             "pattern": {
              "fillmode": "overlay",
              "size": 10,
              "solidity": 0.2
             }
            },
            "type": "histogram"
           }
          ],
          "histogram2d": [
           {
            "colorbar": {
             "outlinewidth": 0,
             "ticks": ""
            },
            "colorscale": [
             [
              0,
              "#0d0887"
             ],
             [
              0.1111111111111111,
              "#46039f"
             ],
             [
              0.2222222222222222,
              "#7201a8"
             ],
             [
              0.3333333333333333,
              "#9c179e"
             ],
             [
              0.4444444444444444,
              "#bd3786"
             ],
             [
              0.5555555555555556,
              "#d8576b"
             ],
             [
              0.6666666666666666,
              "#ed7953"
             ],
             [
              0.7777777777777778,
              "#fb9f3a"
             ],
             [
              0.8888888888888888,
              "#fdca26"
             ],
             [
              1,
              "#f0f921"
             ]
            ],
            "type": "histogram2d"
           }
          ],
          "histogram2dcontour": [
           {
            "colorbar": {
             "outlinewidth": 0,
             "ticks": ""
            },
            "colorscale": [
             [
              0,
              "#0d0887"
             ],
             [
              0.1111111111111111,
              "#46039f"
             ],
             [
              0.2222222222222222,
              "#7201a8"
             ],
             [
              0.3333333333333333,
              "#9c179e"
             ],
             [
              0.4444444444444444,
              "#bd3786"
             ],
             [
              0.5555555555555556,
              "#d8576b"
             ],
             [
              0.6666666666666666,
              "#ed7953"
             ],
             [
              0.7777777777777778,
              "#fb9f3a"
             ],
             [
              0.8888888888888888,
              "#fdca26"
             ],
             [
              1,
              "#f0f921"
             ]
            ],
            "type": "histogram2dcontour"
           }
          ],
          "mesh3d": [
           {
            "colorbar": {
             "outlinewidth": 0,
             "ticks": ""
            },
            "type": "mesh3d"
           }
          ],
          "parcoords": [
           {
            "line": {
             "colorbar": {
              "outlinewidth": 0,
              "ticks": ""
             }
            },
            "type": "parcoords"
           }
          ],
          "pie": [
           {
            "automargin": true,
            "type": "pie"
           }
          ],
          "scatter": [
           {
            "fillpattern": {
             "fillmode": "overlay",
             "size": 10,
             "solidity": 0.2
            },
            "type": "scatter"
           }
          ],
          "scatter3d": [
           {
            "line": {
             "colorbar": {
              "outlinewidth": 0,
              "ticks": ""
             }
            },
            "marker": {
             "colorbar": {
              "outlinewidth": 0,
              "ticks": ""
             }
            },
            "type": "scatter3d"
           }
          ],
          "scattercarpet": [
           {
            "marker": {
             "colorbar": {
              "outlinewidth": 0,
              "ticks": ""
             }
            },
            "type": "scattercarpet"
           }
          ],
          "scattergeo": [
           {
            "marker": {
             "colorbar": {
              "outlinewidth": 0,
              "ticks": ""
             }
            },
            "type": "scattergeo"
           }
          ],
          "scattergl": [
           {
            "marker": {
             "colorbar": {
              "outlinewidth": 0,
              "ticks": ""
             }
            },
            "type": "scattergl"
           }
          ],
          "scattermap": [
           {
            "marker": {
             "colorbar": {
              "outlinewidth": 0,
              "ticks": ""
             }
            },
            "type": "scattermap"
           }
          ],
          "scattermapbox": [
           {
            "marker": {
             "colorbar": {
              "outlinewidth": 0,
              "ticks": ""
             }
            },
            "type": "scattermapbox"
           }
          ],
          "scatterpolar": [
           {
            "marker": {
             "colorbar": {
              "outlinewidth": 0,
              "ticks": ""
             }
            },
            "type": "scatterpolar"
           }
          ],
          "scatterpolargl": [
           {
            "marker": {
             "colorbar": {
              "outlinewidth": 0,
              "ticks": ""
             }
            },
            "type": "scatterpolargl"
           }
          ],
          "scatterternary": [
           {
            "marker": {
             "colorbar": {
              "outlinewidth": 0,
              "ticks": ""
             }
            },
            "type": "scatterternary"
           }
          ],
          "surface": [
           {
            "colorbar": {
             "outlinewidth": 0,
             "ticks": ""
            },
            "colorscale": [
             [
              0,
              "#0d0887"
             ],
             [
              0.1111111111111111,
              "#46039f"
             ],
             [
              0.2222222222222222,
              "#7201a8"
             ],
             [
              0.3333333333333333,
              "#9c179e"
             ],
             [
              0.4444444444444444,
              "#bd3786"
             ],
             [
              0.5555555555555556,
              "#d8576b"
             ],
             [
              0.6666666666666666,
              "#ed7953"
             ],
             [
              0.7777777777777778,
              "#fb9f3a"
             ],
             [
              0.8888888888888888,
              "#fdca26"
             ],
             [
              1,
              "#f0f921"
             ]
            ],
            "type": "surface"
           }
          ],
          "table": [
           {
            "cells": {
             "fill": {
              "color": "#EBF0F8"
             },
             "line": {
              "color": "white"
             }
            },
            "header": {
             "fill": {
              "color": "#C8D4E3"
             },
             "line": {
              "color": "white"
             }
            },
            "type": "table"
           }
          ]
         },
         "layout": {
          "annotationdefaults": {
           "arrowcolor": "#2a3f5f",
           "arrowhead": 0,
           "arrowwidth": 1
          },
          "autotypenumbers": "strict",
          "coloraxis": {
           "colorbar": {
            "outlinewidth": 0,
            "ticks": ""
           }
          },
          "colorscale": {
           "diverging": [
            [
             0,
             "#8e0152"
            ],
            [
             0.1,
             "#c51b7d"
            ],
            [
             0.2,
             "#de77ae"
            ],
            [
             0.3,
             "#f1b6da"
            ],
            [
             0.4,
             "#fde0ef"
            ],
            [
             0.5,
             "#f7f7f7"
            ],
            [
             0.6,
             "#e6f5d0"
            ],
            [
             0.7,
             "#b8e186"
            ],
            [
             0.8,
             "#7fbc41"
            ],
            [
             0.9,
             "#4d9221"
            ],
            [
             1,
             "#276419"
            ]
           ],
           "sequential": [
            [
             0,
             "#0d0887"
            ],
            [
             0.1111111111111111,
             "#46039f"
            ],
            [
             0.2222222222222222,
             "#7201a8"
            ],
            [
             0.3333333333333333,
             "#9c179e"
            ],
            [
             0.4444444444444444,
             "#bd3786"
            ],
            [
             0.5555555555555556,
             "#d8576b"
            ],
            [
             0.6666666666666666,
             "#ed7953"
            ],
            [
             0.7777777777777778,
             "#fb9f3a"
            ],
            [
             0.8888888888888888,
             "#fdca26"
            ],
            [
             1,
             "#f0f921"
            ]
           ],
           "sequentialminus": [
            [
             0,
             "#0d0887"
            ],
            [
             0.1111111111111111,
             "#46039f"
            ],
            [
             0.2222222222222222,
             "#7201a8"
            ],
            [
             0.3333333333333333,
             "#9c179e"
            ],
            [
             0.4444444444444444,
             "#bd3786"
            ],
            [
             0.5555555555555556,
             "#d8576b"
            ],
            [
             0.6666666666666666,
             "#ed7953"
            ],
            [
             0.7777777777777778,
             "#fb9f3a"
            ],
            [
             0.8888888888888888,
             "#fdca26"
            ],
            [
             1,
             "#f0f921"
            ]
           ]
          },
          "colorway": [
           "#636efa",
           "#EF553B",
           "#00cc96",
           "#ab63fa",
           "#FFA15A",
           "#19d3f3",
           "#FF6692",
           "#B6E880",
           "#FF97FF",
           "#FECB52"
          ],
          "font": {
           "color": "#2a3f5f"
          },
          "geo": {
           "bgcolor": "white",
           "lakecolor": "white",
           "landcolor": "#E5ECF6",
           "showlakes": true,
           "showland": true,
           "subunitcolor": "white"
          },
          "hoverlabel": {
           "align": "left"
          },
          "hovermode": "closest",
          "mapbox": {
           "style": "light"
          },
          "paper_bgcolor": "white",
          "plot_bgcolor": "#E5ECF6",
          "polar": {
           "angularaxis": {
            "gridcolor": "white",
            "linecolor": "white",
            "ticks": ""
           },
           "bgcolor": "#E5ECF6",
           "radialaxis": {
            "gridcolor": "white",
            "linecolor": "white",
            "ticks": ""
           }
          },
          "scene": {
           "xaxis": {
            "backgroundcolor": "#E5ECF6",
            "gridcolor": "white",
            "gridwidth": 2,
            "linecolor": "white",
            "showbackground": true,
            "ticks": "",
            "zerolinecolor": "white"
           },
           "yaxis": {
            "backgroundcolor": "#E5ECF6",
            "gridcolor": "white",
            "gridwidth": 2,
            "linecolor": "white",
            "showbackground": true,
            "ticks": "",
            "zerolinecolor": "white"
           },
           "zaxis": {
            "backgroundcolor": "#E5ECF6",
            "gridcolor": "white",
            "gridwidth": 2,
            "linecolor": "white",
            "showbackground": true,
            "ticks": "",
            "zerolinecolor": "white"
           }
          },
          "shapedefaults": {
           "line": {
            "color": "#2a3f5f"
           }
          },
          "ternary": {
           "aaxis": {
            "gridcolor": "white",
            "linecolor": "white",
            "ticks": ""
           },
           "baxis": {
            "gridcolor": "white",
            "linecolor": "white",
            "ticks": ""
           },
           "bgcolor": "#E5ECF6",
           "caxis": {
            "gridcolor": "white",
            "linecolor": "white",
            "ticks": ""
           }
          },
          "title": {
           "x": 0.05
          },
          "xaxis": {
           "automargin": true,
           "gridcolor": "white",
           "linecolor": "white",
           "ticks": "",
           "title": {
            "standoff": 15
           },
           "zerolinecolor": "white",
           "zerolinewidth": 2
          },
          "yaxis": {
           "automargin": true,
           "gridcolor": "white",
           "linecolor": "white",
           "ticks": "",
           "title": {
            "standoff": 15
           },
           "zerolinecolor": "white",
           "zerolinewidth": 2
          }
         }
        },
        "title": {
         "text": "Heatmap of Sixes Hit by Teams in IPL by Over"
        },
        "width": 1200,
        "xaxis": {
         "color": "white",
         "title": {
          "text": "Batting Team"
         }
        },
        "yaxis": {
         "color": "white",
         "tickmode": "linear",
         "title": {
          "text": "Over"
         }
        }
       }
      }
     },
     "metadata": {},
     "output_type": "display_data"
    }
   ],
   "source": [
    "import plotly.graph_objects as go\n",
    "import pandas as pd\n",
    "\n",
    "# Filter the data where batsman runs is 6 (indicating a six)\n",
    "six = ipl[ipl['batsman_runs'] == 6]\n",
    "\n",
    "# Group by 'batting_team' and 'over', and count the number of sixes hit in each over\n",
    "heatmap_data = six.groupby(['batting_team', 'over'])['batsman_runs'].count().reset_index()\n",
    "\n",
    "# Ensure the 'over' column is treated as an integer\n",
    "heatmap_data['over'] = heatmap_data['over'].astype(int)\n",
    "\n",
    "# Create the heatmap\n",
    "fig = go.Figure(data=go.Heatmap(\n",
    "    z=heatmap_data['batsman_runs'],  # The number of sixes hit\n",
    "    x=heatmap_data['batting_team'],  # Batting team names\n",
    "    y=heatmap_data['over'],          # Over numbers\n",
    "    colorscale='Viridis',            # Color scale\n",
    "    colorbar=dict(title='Sixes Count'),\n",
    "))\n",
    "\n",
    "# Update layout for dark background, labels, and figure size\n",
    "fig.update_layout(\n",
    "    title='Heatmap of Sixes Hit by Teams in IPL by Over',\n",
    "    xaxis=dict(title='Batting Team', color='white'),\n",
    "    yaxis=dict(title='Over', tickmode='linear', color='white'),\n",
    "    plot_bgcolor='black',\n",
    "    paper_bgcolor='black',\n",
    "    font=dict(color='white'),\n",
    "    width=1200,  # Set width for long figure\n",
    "    height=1200,  # Set height to keep it readable\n",
    ")\n",
    "\n",
    "# Show the heatmap\n",
    "fig.show()\n"
   ]
  },
  {
   "cell_type": "code",
   "execution_count": 84,
   "id": "ac790aa2",
   "metadata": {},
   "outputs": [
    {
     "data": {
      "application/vnd.plotly.v1+json": {
       "config": {
        "plotlyServerURL": "https://plot.ly"
       },
       "data": [
        {
         "colorbar": {
          "title": {
           "text": "Sixes Count"
          }
         },
         "colorscale": [
          [
           0,
           "#440154"
          ],
          [
           0.1111111111111111,
           "#482878"
          ],
          [
           0.2222222222222222,
           "#3e4989"
          ],
          [
           0.3333333333333333,
           "#31688e"
          ],
          [
           0.4444444444444444,
           "#26828e"
          ],
          [
           0.5555555555555556,
           "#1f9e89"
          ],
          [
           0.6666666666666666,
           "#35b779"
          ],
          [
           0.7777777777777778,
           "#6ece58"
          ],
          [
           0.8888888888888888,
           "#b5de2b"
          ],
          [
           1,
           "#fde725"
          ]
         ],
         "type": "heatmap",
         "x": [
          "Chennai Super Kings",
          "Chennai Super Kings",
          "Chennai Super Kings",
          "Chennai Super Kings",
          "Chennai Super Kings",
          "Chennai Super Kings",
          "Chennai Super Kings",
          "Chennai Super Kings",
          "Chennai Super Kings",
          "Chennai Super Kings",
          "Chennai Super Kings",
          "Chennai Super Kings",
          "Chennai Super Kings",
          "Chennai Super Kings",
          "Chennai Super Kings",
          "Chennai Super Kings",
          "Chennai Super Kings",
          "Chennai Super Kings",
          "Chennai Super Kings",
          "Chennai Super Kings",
          "Deccan Chargers",
          "Deccan Chargers",
          "Deccan Chargers",
          "Deccan Chargers",
          "Deccan Chargers",
          "Deccan Chargers",
          "Deccan Chargers",
          "Deccan Chargers",
          "Deccan Chargers",
          "Deccan Chargers",
          "Deccan Chargers",
          "Deccan Chargers",
          "Deccan Chargers",
          "Deccan Chargers",
          "Deccan Chargers",
          "Deccan Chargers",
          "Deccan Chargers",
          "Deccan Chargers",
          "Deccan Chargers",
          "Deccan Chargers",
          "Delhi Daredevils",
          "Delhi Daredevils",
          "Delhi Daredevils",
          "Delhi Daredevils",
          "Delhi Daredevils",
          "Delhi Daredevils",
          "Delhi Daredevils",
          "Delhi Daredevils",
          "Delhi Daredevils",
          "Delhi Daredevils",
          "Delhi Daredevils",
          "Delhi Daredevils",
          "Delhi Daredevils",
          "Delhi Daredevils",
          "Delhi Daredevils",
          "Delhi Daredevils",
          "Delhi Daredevils",
          "Delhi Daredevils",
          "Delhi Daredevils",
          "Delhi Daredevils",
          "Gujarat Lions",
          "Gujarat Lions",
          "Gujarat Lions",
          "Gujarat Lions",
          "Gujarat Lions",
          "Gujarat Lions",
          "Gujarat Lions",
          "Gujarat Lions",
          "Gujarat Lions",
          "Gujarat Lions",
          "Gujarat Lions",
          "Gujarat Lions",
          "Gujarat Lions",
          "Gujarat Lions",
          "Gujarat Lions",
          "Gujarat Lions",
          "Gujarat Lions",
          "Gujarat Lions",
          "Gujarat Lions",
          "Gujarat Lions",
          "Kings XI Punjab",
          "Kings XI Punjab",
          "Kings XI Punjab",
          "Kings XI Punjab",
          "Kings XI Punjab",
          "Kings XI Punjab",
          "Kings XI Punjab",
          "Kings XI Punjab",
          "Kings XI Punjab",
          "Kings XI Punjab",
          "Kings XI Punjab",
          "Kings XI Punjab",
          "Kings XI Punjab",
          "Kings XI Punjab",
          "Kings XI Punjab",
          "Kings XI Punjab",
          "Kings XI Punjab",
          "Kings XI Punjab",
          "Kings XI Punjab",
          "Kings XI Punjab",
          "Kochi Tuskers Kerala",
          "Kochi Tuskers Kerala",
          "Kochi Tuskers Kerala",
          "Kochi Tuskers Kerala",
          "Kochi Tuskers Kerala",
          "Kochi Tuskers Kerala",
          "Kochi Tuskers Kerala",
          "Kochi Tuskers Kerala",
          "Kochi Tuskers Kerala",
          "Kochi Tuskers Kerala",
          "Kochi Tuskers Kerala",
          "Kochi Tuskers Kerala",
          "Kochi Tuskers Kerala",
          "Kochi Tuskers Kerala",
          "Kochi Tuskers Kerala",
          "Kochi Tuskers Kerala",
          "Kochi Tuskers Kerala",
          "Kochi Tuskers Kerala",
          "Kochi Tuskers Kerala",
          "Kolkata Knight Riders",
          "Kolkata Knight Riders",
          "Kolkata Knight Riders",
          "Kolkata Knight Riders",
          "Kolkata Knight Riders",
          "Kolkata Knight Riders",
          "Kolkata Knight Riders",
          "Kolkata Knight Riders",
          "Kolkata Knight Riders",
          "Kolkata Knight Riders",
          "Kolkata Knight Riders",
          "Kolkata Knight Riders",
          "Kolkata Knight Riders",
          "Kolkata Knight Riders",
          "Kolkata Knight Riders",
          "Kolkata Knight Riders",
          "Kolkata Knight Riders",
          "Kolkata Knight Riders",
          "Kolkata Knight Riders",
          "Kolkata Knight Riders",
          "Mumbai Indians",
          "Mumbai Indians",
          "Mumbai Indians",
          "Mumbai Indians",
          "Mumbai Indians",
          "Mumbai Indians",
          "Mumbai Indians",
          "Mumbai Indians",
          "Mumbai Indians",
          "Mumbai Indians",
          "Mumbai Indians",
          "Mumbai Indians",
          "Mumbai Indians",
          "Mumbai Indians",
          "Mumbai Indians",
          "Mumbai Indians",
          "Mumbai Indians",
          "Mumbai Indians",
          "Mumbai Indians",
          "Mumbai Indians",
          "Pune Warriors",
          "Pune Warriors",
          "Pune Warriors",
          "Pune Warriors",
          "Pune Warriors",
          "Pune Warriors",
          "Pune Warriors",
          "Pune Warriors",
          "Pune Warriors",
          "Pune Warriors",
          "Pune Warriors",
          "Pune Warriors",
          "Pune Warriors",
          "Pune Warriors",
          "Pune Warriors",
          "Pune Warriors",
          "Pune Warriors",
          "Pune Warriors",
          "Pune Warriors",
          "Pune Warriors",
          "Rajasthan Royals",
          "Rajasthan Royals",
          "Rajasthan Royals",
          "Rajasthan Royals",
          "Rajasthan Royals",
          "Rajasthan Royals",
          "Rajasthan Royals",
          "Rajasthan Royals",
          "Rajasthan Royals",
          "Rajasthan Royals",
          "Rajasthan Royals",
          "Rajasthan Royals",
          "Rajasthan Royals",
          "Rajasthan Royals",
          "Rajasthan Royals",
          "Rajasthan Royals",
          "Rajasthan Royals",
          "Rajasthan Royals",
          "Rajasthan Royals",
          "Rajasthan Royals",
          "Rising Pune Supergiant",
          "Rising Pune Supergiant",
          "Rising Pune Supergiant",
          "Rising Pune Supergiant",
          "Rising Pune Supergiant",
          "Rising Pune Supergiant",
          "Rising Pune Supergiant",
          "Rising Pune Supergiant",
          "Rising Pune Supergiant",
          "Rising Pune Supergiant",
          "Rising Pune Supergiant",
          "Rising Pune Supergiant",
          "Rising Pune Supergiant",
          "Rising Pune Supergiant",
          "Rising Pune Supergiant",
          "Rising Pune Supergiant",
          "Rising Pune Supergiant",
          "Rising Pune Supergiant",
          "Rising Pune Supergiants",
          "Rising Pune Supergiants",
          "Rising Pune Supergiants",
          "Rising Pune Supergiants",
          "Rising Pune Supergiants",
          "Rising Pune Supergiants",
          "Rising Pune Supergiants",
          "Rising Pune Supergiants",
          "Rising Pune Supergiants",
          "Rising Pune Supergiants",
          "Rising Pune Supergiants",
          "Rising Pune Supergiants",
          "Rising Pune Supergiants",
          "Rising Pune Supergiants",
          "Rising Pune Supergiants",
          "Rising Pune Supergiants",
          "Rising Pune Supergiants",
          "Rising Pune Supergiants",
          "Rising Pune Supergiants",
          "Royal Challengers Bangalore",
          "Royal Challengers Bangalore",
          "Royal Challengers Bangalore",
          "Royal Challengers Bangalore",
          "Royal Challengers Bangalore",
          "Royal Challengers Bangalore",
          "Royal Challengers Bangalore",
          "Royal Challengers Bangalore",
          "Royal Challengers Bangalore",
          "Royal Challengers Bangalore",
          "Royal Challengers Bangalore",
          "Royal Challengers Bangalore",
          "Royal Challengers Bangalore",
          "Royal Challengers Bangalore",
          "Royal Challengers Bangalore",
          "Royal Challengers Bangalore",
          "Royal Challengers Bangalore",
          "Royal Challengers Bangalore",
          "Royal Challengers Bangalore",
          "Royal Challengers Bangalore",
          "Sunrisers Hyderabad",
          "Sunrisers Hyderabad",
          "Sunrisers Hyderabad",
          "Sunrisers Hyderabad",
          "Sunrisers Hyderabad",
          "Sunrisers Hyderabad",
          "Sunrisers Hyderabad",
          "Sunrisers Hyderabad",
          "Sunrisers Hyderabad",
          "Sunrisers Hyderabad",
          "Sunrisers Hyderabad",
          "Sunrisers Hyderabad",
          "Sunrisers Hyderabad",
          "Sunrisers Hyderabad",
          "Sunrisers Hyderabad",
          "Sunrisers Hyderabad",
          "Sunrisers Hyderabad",
          "Sunrisers Hyderabad",
          "Sunrisers Hyderabad",
          "Sunrisers Hyderabad"
         ],
         "xaxis": "x",
         "y": {
          "bdata": "AQIDBAUGBwgJCgsMDQ4PEBESExQBAgMEBQYHCAkKCwwNDg8QERITFAECAwQFBgcICQoLDA0ODxAREhMUAQIDBAUGBwgJCgsMDQ4PEBESExQBAgMEBQYHCAkKCwwNDg8QERITFAECAwQFBgcICQoLDA0ODxESExQBAgMEBQYHCAkKCwwNDg8QERITFAECAwQFBgcICQoLDA0ODxAREhMUAQIDBAUGBwgJCgsMDQ4PEBESExQBAgMEBQYHCAkKCwwNDg8QERITFAEDBAUGBwkKCwwNDg8QERITFAIDBAUGBwgJCgsMDQ4PEBESExQBAgMEBQYHCAkKCwwNDg8QERITFAECAwQFBgcICQoLDA0ODxAREhMU",
          "dtype": "i1"
         },
         "yaxis": "y",
         "z": {
          "bdata": "BRElIikrFhkXFyQkIy0rLjM6NkQDFQsRGxYLDREODxoXFhQVJiUXEw4THikdGxQaIBgiJiUjHCs4LDsyBAYOCQsMCgYLCAUHBQgFBQcJCQQKExskHicTIyQdJSYvKTM7Jzk1PAIEAwMDAwICAQMBAwIDBAMEBQIKDRwjGSIaGRsVIiAqHygyNzQtIgkRFhwrMhIXIxYhMTMyNUI8VkhZBQYGBwcDBQoJBg0FCg0NEA0MEhMMBw0VFxgPGBQaHiEnJiIlLSIlGgECBQgGAQMIAwIHBAUFAgIOCwIBAQUFBAMBAQICAQEHBgYJAgkUHCgrKB0SIi8kLyQzNTZHPVJKRwMMEAgRCg0TDwwLCxMSIRYSJSoc",
          "dtype": "i1"
         }
        },
        {
         "colorbar": {
          "title": {
           "text": "Dot Balls Count"
          }
         },
         "colorscale": [
          [
           0,
           "#00224e"
          ],
          [
           0.1111111111111111,
           "#123570"
          ],
          [
           0.2222222222222222,
           "#3b496c"
          ],
          [
           0.3333333333333333,
           "#575d6d"
          ],
          [
           0.4444444444444444,
           "#707173"
          ],
          [
           0.5555555555555556,
           "#8a8678"
          ],
          [
           0.6666666666666666,
           "#a59c74"
          ],
          [
           0.7777777777777778,
           "#c3b369"
          ],
          [
           0.8888888888888888,
           "#e1cc55"
          ],
          [
           1,
           "#fee838"
          ]
         ],
         "type": "heatmap",
         "x": [
          "Chennai Super Kings",
          "Chennai Super Kings",
          "Chennai Super Kings",
          "Chennai Super Kings",
          "Chennai Super Kings",
          "Chennai Super Kings",
          "Chennai Super Kings",
          "Chennai Super Kings",
          "Chennai Super Kings",
          "Chennai Super Kings",
          "Chennai Super Kings",
          "Chennai Super Kings",
          "Chennai Super Kings",
          "Chennai Super Kings",
          "Chennai Super Kings",
          "Chennai Super Kings",
          "Chennai Super Kings",
          "Chennai Super Kings",
          "Chennai Super Kings",
          "Chennai Super Kings",
          "Deccan Chargers",
          "Deccan Chargers",
          "Deccan Chargers",
          "Deccan Chargers",
          "Deccan Chargers",
          "Deccan Chargers",
          "Deccan Chargers",
          "Deccan Chargers",
          "Deccan Chargers",
          "Deccan Chargers",
          "Deccan Chargers",
          "Deccan Chargers",
          "Deccan Chargers",
          "Deccan Chargers",
          "Deccan Chargers",
          "Deccan Chargers",
          "Deccan Chargers",
          "Deccan Chargers",
          "Deccan Chargers",
          "Deccan Chargers",
          "Delhi Daredevils",
          "Delhi Daredevils",
          "Delhi Daredevils",
          "Delhi Daredevils",
          "Delhi Daredevils",
          "Delhi Daredevils",
          "Delhi Daredevils",
          "Delhi Daredevils",
          "Delhi Daredevils",
          "Delhi Daredevils",
          "Delhi Daredevils",
          "Delhi Daredevils",
          "Delhi Daredevils",
          "Delhi Daredevils",
          "Delhi Daredevils",
          "Delhi Daredevils",
          "Delhi Daredevils",
          "Delhi Daredevils",
          "Delhi Daredevils",
          "Delhi Daredevils",
          "Gujarat Lions",
          "Gujarat Lions",
          "Gujarat Lions",
          "Gujarat Lions",
          "Gujarat Lions",
          "Gujarat Lions",
          "Gujarat Lions",
          "Gujarat Lions",
          "Gujarat Lions",
          "Gujarat Lions",
          "Gujarat Lions",
          "Gujarat Lions",
          "Gujarat Lions",
          "Gujarat Lions",
          "Gujarat Lions",
          "Gujarat Lions",
          "Gujarat Lions",
          "Gujarat Lions",
          "Gujarat Lions",
          "Gujarat Lions",
          "Kings XI Punjab",
          "Kings XI Punjab",
          "Kings XI Punjab",
          "Kings XI Punjab",
          "Kings XI Punjab",
          "Kings XI Punjab",
          "Kings XI Punjab",
          "Kings XI Punjab",
          "Kings XI Punjab",
          "Kings XI Punjab",
          "Kings XI Punjab",
          "Kings XI Punjab",
          "Kings XI Punjab",
          "Kings XI Punjab",
          "Kings XI Punjab",
          "Kings XI Punjab",
          "Kings XI Punjab",
          "Kings XI Punjab",
          "Kings XI Punjab",
          "Kings XI Punjab",
          "Kochi Tuskers Kerala",
          "Kochi Tuskers Kerala",
          "Kochi Tuskers Kerala",
          "Kochi Tuskers Kerala",
          "Kochi Tuskers Kerala",
          "Kochi Tuskers Kerala",
          "Kochi Tuskers Kerala",
          "Kochi Tuskers Kerala",
          "Kochi Tuskers Kerala",
          "Kochi Tuskers Kerala",
          "Kochi Tuskers Kerala",
          "Kochi Tuskers Kerala",
          "Kochi Tuskers Kerala",
          "Kochi Tuskers Kerala",
          "Kochi Tuskers Kerala",
          "Kochi Tuskers Kerala",
          "Kochi Tuskers Kerala",
          "Kochi Tuskers Kerala",
          "Kochi Tuskers Kerala",
          "Kochi Tuskers Kerala",
          "Kolkata Knight Riders",
          "Kolkata Knight Riders",
          "Kolkata Knight Riders",
          "Kolkata Knight Riders",
          "Kolkata Knight Riders",
          "Kolkata Knight Riders",
          "Kolkata Knight Riders",
          "Kolkata Knight Riders",
          "Kolkata Knight Riders",
          "Kolkata Knight Riders",
          "Kolkata Knight Riders",
          "Kolkata Knight Riders",
          "Kolkata Knight Riders",
          "Kolkata Knight Riders",
          "Kolkata Knight Riders",
          "Kolkata Knight Riders",
          "Kolkata Knight Riders",
          "Kolkata Knight Riders",
          "Kolkata Knight Riders",
          "Kolkata Knight Riders",
          "Mumbai Indians",
          "Mumbai Indians",
          "Mumbai Indians",
          "Mumbai Indians",
          "Mumbai Indians",
          "Mumbai Indians",
          "Mumbai Indians",
          "Mumbai Indians",
          "Mumbai Indians",
          "Mumbai Indians",
          "Mumbai Indians",
          "Mumbai Indians",
          "Mumbai Indians",
          "Mumbai Indians",
          "Mumbai Indians",
          "Mumbai Indians",
          "Mumbai Indians",
          "Mumbai Indians",
          "Mumbai Indians",
          "Mumbai Indians",
          "Pune Warriors",
          "Pune Warriors",
          "Pune Warriors",
          "Pune Warriors",
          "Pune Warriors",
          "Pune Warriors",
          "Pune Warriors",
          "Pune Warriors",
          "Pune Warriors",
          "Pune Warriors",
          "Pune Warriors",
          "Pune Warriors",
          "Pune Warriors",
          "Pune Warriors",
          "Pune Warriors",
          "Pune Warriors",
          "Pune Warriors",
          "Pune Warriors",
          "Pune Warriors",
          "Pune Warriors",
          "Rajasthan Royals",
          "Rajasthan Royals",
          "Rajasthan Royals",
          "Rajasthan Royals",
          "Rajasthan Royals",
          "Rajasthan Royals",
          "Rajasthan Royals",
          "Rajasthan Royals",
          "Rajasthan Royals",
          "Rajasthan Royals",
          "Rajasthan Royals",
          "Rajasthan Royals",
          "Rajasthan Royals",
          "Rajasthan Royals",
          "Rajasthan Royals",
          "Rajasthan Royals",
          "Rajasthan Royals",
          "Rajasthan Royals",
          "Rajasthan Royals",
          "Rajasthan Royals",
          "Rising Pune Supergiant",
          "Rising Pune Supergiant",
          "Rising Pune Supergiant",
          "Rising Pune Supergiant",
          "Rising Pune Supergiant",
          "Rising Pune Supergiant",
          "Rising Pune Supergiant",
          "Rising Pune Supergiant",
          "Rising Pune Supergiant",
          "Rising Pune Supergiant",
          "Rising Pune Supergiant",
          "Rising Pune Supergiant",
          "Rising Pune Supergiant",
          "Rising Pune Supergiant",
          "Rising Pune Supergiant",
          "Rising Pune Supergiant",
          "Rising Pune Supergiant",
          "Rising Pune Supergiant",
          "Rising Pune Supergiant",
          "Rising Pune Supergiant",
          "Rising Pune Supergiants",
          "Rising Pune Supergiants",
          "Rising Pune Supergiants",
          "Rising Pune Supergiants",
          "Rising Pune Supergiants",
          "Rising Pune Supergiants",
          "Rising Pune Supergiants",
          "Rising Pune Supergiants",
          "Rising Pune Supergiants",
          "Rising Pune Supergiants",
          "Rising Pune Supergiants",
          "Rising Pune Supergiants",
          "Rising Pune Supergiants",
          "Rising Pune Supergiants",
          "Rising Pune Supergiants",
          "Rising Pune Supergiants",
          "Rising Pune Supergiants",
          "Rising Pune Supergiants",
          "Rising Pune Supergiants",
          "Rising Pune Supergiants",
          "Royal Challengers Bangalore",
          "Royal Challengers Bangalore",
          "Royal Challengers Bangalore",
          "Royal Challengers Bangalore",
          "Royal Challengers Bangalore",
          "Royal Challengers Bangalore",
          "Royal Challengers Bangalore",
          "Royal Challengers Bangalore",
          "Royal Challengers Bangalore",
          "Royal Challengers Bangalore",
          "Royal Challengers Bangalore",
          "Royal Challengers Bangalore",
          "Royal Challengers Bangalore",
          "Royal Challengers Bangalore",
          "Royal Challengers Bangalore",
          "Royal Challengers Bangalore",
          "Royal Challengers Bangalore",
          "Royal Challengers Bangalore",
          "Royal Challengers Bangalore",
          "Royal Challengers Bangalore",
          "Sunrisers Hyderabad",
          "Sunrisers Hyderabad",
          "Sunrisers Hyderabad",
          "Sunrisers Hyderabad",
          "Sunrisers Hyderabad",
          "Sunrisers Hyderabad",
          "Sunrisers Hyderabad",
          "Sunrisers Hyderabad",
          "Sunrisers Hyderabad",
          "Sunrisers Hyderabad",
          "Sunrisers Hyderabad",
          "Sunrisers Hyderabad",
          "Sunrisers Hyderabad",
          "Sunrisers Hyderabad",
          "Sunrisers Hyderabad",
          "Sunrisers Hyderabad",
          "Sunrisers Hyderabad",
          "Sunrisers Hyderabad",
          "Sunrisers Hyderabad",
          "Sunrisers Hyderabad"
         ],
         "xaxis": "x2",
         "y": {
          "bdata": "AQIDBAUGBwgJCgsMDQ4PEBESExQBAgMEBQYHCAkKCwwNDg8QERITFAECAwQFBgcICQoLDA0ODxAREhMUAQIDBAUGBwgJCgsMDQ4PEBESExQBAgMEBQYHCAkKCwwNDg8QERITFAECAwQFBgcICQoLDA0ODxAREhMUAQIDBAUGBwgJCgsMDQ4PEBESExQBAgMEBQYHCAkKCwwNDg8QERITFAECAwQFBgcICQoLDA0ODxAREhMUAQIDBAUGBwgJCgsMDQ4PEBESExQBAgMEBQYHCAkKCwwNDg8QERITFAECAwQFBgcICQoLDA0ODxAREhMUAQIDBAUGBwgJCgsMDQ4PEBESExQBAgMEBQYHCAkKCwwNDg8QERITFA==",
          "dtype": "i1"
         },
         "yaxis": "y2",
         "z": {
          "bdata": "DALOAbABpQF4AXcBRwEwAQkBGAEdAREBAgEPAf0A4wDfAOIA1ADGABYBCAHmAPYA6ADjAMEAtQCrALYAngCaALIAkgCdAJAAhACKAIsAewAmAuEB4wGzAbQByAFcAUsBOQFCAUABIwE3AToBPwEQATkB/gDwALkAcwBkAEsAWgBRAEsARAAyAEoAPgA7AEcAPAA2ADQANQA6AD4AMQAlADQCFwLYAagBsQG6AWwBZAFfAU0BPAE6AS8BIAEiAR4BAgEjARAB+QA6ADcAKgApAC8AKgAsACgAJwAiAB8AEwAfACcAEwAgABcAGQASABEAPgL4AfQBwQGsAboBdgFNAVsBRgE5ATQBPAE0ASIBFAH7AOEA4QDNAHgCcAIUAvsB9QHDAZQBfQF2AWIBYwFHAV8BVQE1AUUBOwEpAREBBQGpAJ8AhACOAI8AkACBAHMAcwBvAHkAYwBxAGEAbwBQAHEAVQBdAFEA3wGxAZABcgFcAU8BPgEiARoB5wAOAfIACgH1AAYB5ADSAN0A0ACRAD8ALAAmACQAJAAlACIAIwArAB4AIQAcACEAHwAgAB0AHQAiABwAHAA5ADAAJwAqACYAIgAhABgAGAAjABoAFAAWABoAGwAbABcAFAAXAA8ASgI9Au8B6QHdAcIBhgFWAVkBTAEvASgBJQEjAR0BJgEdAQkB5gDeAA0BAgHXANYA2wDGAL4AtgCxALMAnACRAKcApACAAJAAnQCAAIIAdQA=",
          "dtype": "i2"
         }
        }
       ],
       "layout": {
        "annotations": [
         {
          "font": {
           "size": 16
          },
          "showarrow": false,
          "text": "Sixes Hit by Teams in IPL by Over",
          "x": 0.225,
          "xanchor": "center",
          "xref": "paper",
          "y": 1,
          "yanchor": "bottom",
          "yref": "paper"
         },
         {
          "font": {
           "size": 16
          },
          "showarrow": false,
          "text": "Dot Balls by Teams in IPL by Over",
          "x": 0.775,
          "xanchor": "center",
          "xref": "paper",
          "y": 1,
          "yanchor": "bottom",
          "yref": "paper"
         }
        ],
        "font": {
         "color": "white"
        },
        "height": 900,
        "paper_bgcolor": "black",
        "plot_bgcolor": "black",
        "template": {
         "data": {
          "bar": [
           {
            "error_x": {
             "color": "#2a3f5f"
            },
            "error_y": {
             "color": "#2a3f5f"
            },
            "marker": {
             "line": {
              "color": "#E5ECF6",
              "width": 0.5
             },
             "pattern": {
              "fillmode": "overlay",
              "size": 10,
              "solidity": 0.2
             }
            },
            "type": "bar"
           }
          ],
          "barpolar": [
           {
            "marker": {
             "line": {
              "color": "#E5ECF6",
              "width": 0.5
             },
             "pattern": {
              "fillmode": "overlay",
              "size": 10,
              "solidity": 0.2
             }
            },
            "type": "barpolar"
           }
          ],
          "carpet": [
           {
            "aaxis": {
             "endlinecolor": "#2a3f5f",
             "gridcolor": "white",
             "linecolor": "white",
             "minorgridcolor": "white",
             "startlinecolor": "#2a3f5f"
            },
            "baxis": {
             "endlinecolor": "#2a3f5f",
             "gridcolor": "white",
             "linecolor": "white",
             "minorgridcolor": "white",
             "startlinecolor": "#2a3f5f"
            },
            "type": "carpet"
           }
          ],
          "choropleth": [
           {
            "colorbar": {
             "outlinewidth": 0,
             "ticks": ""
            },
            "type": "choropleth"
           }
          ],
          "contour": [
           {
            "colorbar": {
             "outlinewidth": 0,
             "ticks": ""
            },
            "colorscale": [
             [
              0,
              "#0d0887"
             ],
             [
              0.1111111111111111,
              "#46039f"
             ],
             [
              0.2222222222222222,
              "#7201a8"
             ],
             [
              0.3333333333333333,
              "#9c179e"
             ],
             [
              0.4444444444444444,
              "#bd3786"
             ],
             [
              0.5555555555555556,
              "#d8576b"
             ],
             [
              0.6666666666666666,
              "#ed7953"
             ],
             [
              0.7777777777777778,
              "#fb9f3a"
             ],
             [
              0.8888888888888888,
              "#fdca26"
             ],
             [
              1,
              "#f0f921"
             ]
            ],
            "type": "contour"
           }
          ],
          "contourcarpet": [
           {
            "colorbar": {
             "outlinewidth": 0,
             "ticks": ""
            },
            "type": "contourcarpet"
           }
          ],
          "heatmap": [
           {
            "colorbar": {
             "outlinewidth": 0,
             "ticks": ""
            },
            "colorscale": [
             [
              0,
              "#0d0887"
             ],
             [
              0.1111111111111111,
              "#46039f"
             ],
             [
              0.2222222222222222,
              "#7201a8"
             ],
             [
              0.3333333333333333,
              "#9c179e"
             ],
             [
              0.4444444444444444,
              "#bd3786"
             ],
             [
              0.5555555555555556,
              "#d8576b"
             ],
             [
              0.6666666666666666,
              "#ed7953"
             ],
             [
              0.7777777777777778,
              "#fb9f3a"
             ],
             [
              0.8888888888888888,
              "#fdca26"
             ],
             [
              1,
              "#f0f921"
             ]
            ],
            "type": "heatmap"
           }
          ],
          "histogram": [
           {
            "marker": {
             "pattern": {
              "fillmode": "overlay",
              "size": 10,
              "solidity": 0.2
             }
            },
            "type": "histogram"
           }
          ],
          "histogram2d": [
           {
            "colorbar": {
             "outlinewidth": 0,
             "ticks": ""
            },
            "colorscale": [
             [
              0,
              "#0d0887"
             ],
             [
              0.1111111111111111,
              "#46039f"
             ],
             [
              0.2222222222222222,
              "#7201a8"
             ],
             [
              0.3333333333333333,
              "#9c179e"
             ],
             [
              0.4444444444444444,
              "#bd3786"
             ],
             [
              0.5555555555555556,
              "#d8576b"
             ],
             [
              0.6666666666666666,
              "#ed7953"
             ],
             [
              0.7777777777777778,
              "#fb9f3a"
             ],
             [
              0.8888888888888888,
              "#fdca26"
             ],
             [
              1,
              "#f0f921"
             ]
            ],
            "type": "histogram2d"
           }
          ],
          "histogram2dcontour": [
           {
            "colorbar": {
             "outlinewidth": 0,
             "ticks": ""
            },
            "colorscale": [
             [
              0,
              "#0d0887"
             ],
             [
              0.1111111111111111,
              "#46039f"
             ],
             [
              0.2222222222222222,
              "#7201a8"
             ],
             [
              0.3333333333333333,
              "#9c179e"
             ],
             [
              0.4444444444444444,
              "#bd3786"
             ],
             [
              0.5555555555555556,
              "#d8576b"
             ],
             [
              0.6666666666666666,
              "#ed7953"
             ],
             [
              0.7777777777777778,
              "#fb9f3a"
             ],
             [
              0.8888888888888888,
              "#fdca26"
             ],
             [
              1,
              "#f0f921"
             ]
            ],
            "type": "histogram2dcontour"
           }
          ],
          "mesh3d": [
           {
            "colorbar": {
             "outlinewidth": 0,
             "ticks": ""
            },
            "type": "mesh3d"
           }
          ],
          "parcoords": [
           {
            "line": {
             "colorbar": {
              "outlinewidth": 0,
              "ticks": ""
             }
            },
            "type": "parcoords"
           }
          ],
          "pie": [
           {
            "automargin": true,
            "type": "pie"
           }
          ],
          "scatter": [
           {
            "fillpattern": {
             "fillmode": "overlay",
             "size": 10,
             "solidity": 0.2
            },
            "type": "scatter"
           }
          ],
          "scatter3d": [
           {
            "line": {
             "colorbar": {
              "outlinewidth": 0,
              "ticks": ""
             }
            },
            "marker": {
             "colorbar": {
              "outlinewidth": 0,
              "ticks": ""
             }
            },
            "type": "scatter3d"
           }
          ],
          "scattercarpet": [
           {
            "marker": {
             "colorbar": {
              "outlinewidth": 0,
              "ticks": ""
             }
            },
            "type": "scattercarpet"
           }
          ],
          "scattergeo": [
           {
            "marker": {
             "colorbar": {
              "outlinewidth": 0,
              "ticks": ""
             }
            },
            "type": "scattergeo"
           }
          ],
          "scattergl": [
           {
            "marker": {
             "colorbar": {
              "outlinewidth": 0,
              "ticks": ""
             }
            },
            "type": "scattergl"
           }
          ],
          "scattermap": [
           {
            "marker": {
             "colorbar": {
              "outlinewidth": 0,
              "ticks": ""
             }
            },
            "type": "scattermap"
           }
          ],
          "scattermapbox": [
           {
            "marker": {
             "colorbar": {
              "outlinewidth": 0,
              "ticks": ""
             }
            },
            "type": "scattermapbox"
           }
          ],
          "scatterpolar": [
           {
            "marker": {
             "colorbar": {
              "outlinewidth": 0,
              "ticks": ""
             }
            },
            "type": "scatterpolar"
           }
          ],
          "scatterpolargl": [
           {
            "marker": {
             "colorbar": {
              "outlinewidth": 0,
              "ticks": ""
             }
            },
            "type": "scatterpolargl"
           }
          ],
          "scatterternary": [
           {
            "marker": {
             "colorbar": {
              "outlinewidth": 0,
              "ticks": ""
             }
            },
            "type": "scatterternary"
           }
          ],
          "surface": [
           {
            "colorbar": {
             "outlinewidth": 0,
             "ticks": ""
            },
            "colorscale": [
             [
              0,
              "#0d0887"
             ],
             [
              0.1111111111111111,
              "#46039f"
             ],
             [
              0.2222222222222222,
              "#7201a8"
             ],
             [
              0.3333333333333333,
              "#9c179e"
             ],
             [
              0.4444444444444444,
              "#bd3786"
             ],
             [
              0.5555555555555556,
              "#d8576b"
             ],
             [
              0.6666666666666666,
              "#ed7953"
             ],
             [
              0.7777777777777778,
              "#fb9f3a"
             ],
             [
              0.8888888888888888,
              "#fdca26"
             ],
             [
              1,
              "#f0f921"
             ]
            ],
            "type": "surface"
           }
          ],
          "table": [
           {
            "cells": {
             "fill": {
              "color": "#EBF0F8"
             },
             "line": {
              "color": "white"
             }
            },
            "header": {
             "fill": {
              "color": "#C8D4E3"
             },
             "line": {
              "color": "white"
             }
            },
            "type": "table"
           }
          ]
         },
         "layout": {
          "annotationdefaults": {
           "arrowcolor": "#2a3f5f",
           "arrowhead": 0,
           "arrowwidth": 1
          },
          "autotypenumbers": "strict",
          "coloraxis": {
           "colorbar": {
            "outlinewidth": 0,
            "ticks": ""
           }
          },
          "colorscale": {
           "diverging": [
            [
             0,
             "#8e0152"
            ],
            [
             0.1,
             "#c51b7d"
            ],
            [
             0.2,
             "#de77ae"
            ],
            [
             0.3,
             "#f1b6da"
            ],
            [
             0.4,
             "#fde0ef"
            ],
            [
             0.5,
             "#f7f7f7"
            ],
            [
             0.6,
             "#e6f5d0"
            ],
            [
             0.7,
             "#b8e186"
            ],
            [
             0.8,
             "#7fbc41"
            ],
            [
             0.9,
             "#4d9221"
            ],
            [
             1,
             "#276419"
            ]
           ],
           "sequential": [
            [
             0,
             "#0d0887"
            ],
            [
             0.1111111111111111,
             "#46039f"
            ],
            [
             0.2222222222222222,
             "#7201a8"
            ],
            [
             0.3333333333333333,
             "#9c179e"
            ],
            [
             0.4444444444444444,
             "#bd3786"
            ],
            [
             0.5555555555555556,
             "#d8576b"
            ],
            [
             0.6666666666666666,
             "#ed7953"
            ],
            [
             0.7777777777777778,
             "#fb9f3a"
            ],
            [
             0.8888888888888888,
             "#fdca26"
            ],
            [
             1,
             "#f0f921"
            ]
           ],
           "sequentialminus": [
            [
             0,
             "#0d0887"
            ],
            [
             0.1111111111111111,
             "#46039f"
            ],
            [
             0.2222222222222222,
             "#7201a8"
            ],
            [
             0.3333333333333333,
             "#9c179e"
            ],
            [
             0.4444444444444444,
             "#bd3786"
            ],
            [
             0.5555555555555556,
             "#d8576b"
            ],
            [
             0.6666666666666666,
             "#ed7953"
            ],
            [
             0.7777777777777778,
             "#fb9f3a"
            ],
            [
             0.8888888888888888,
             "#fdca26"
            ],
            [
             1,
             "#f0f921"
            ]
           ]
          },
          "colorway": [
           "#636efa",
           "#EF553B",
           "#00cc96",
           "#ab63fa",
           "#FFA15A",
           "#19d3f3",
           "#FF6692",
           "#B6E880",
           "#FF97FF",
           "#FECB52"
          ],
          "font": {
           "color": "#2a3f5f"
          },
          "geo": {
           "bgcolor": "white",
           "lakecolor": "white",
           "landcolor": "#E5ECF6",
           "showlakes": true,
           "showland": true,
           "subunitcolor": "white"
          },
          "hoverlabel": {
           "align": "left"
          },
          "hovermode": "closest",
          "mapbox": {
           "style": "light"
          },
          "paper_bgcolor": "white",
          "plot_bgcolor": "#E5ECF6",
          "polar": {
           "angularaxis": {
            "gridcolor": "white",
            "linecolor": "white",
            "ticks": ""
           },
           "bgcolor": "#E5ECF6",
           "radialaxis": {
            "gridcolor": "white",
            "linecolor": "white",
            "ticks": ""
           }
          },
          "scene": {
           "xaxis": {
            "backgroundcolor": "#E5ECF6",
            "gridcolor": "white",
            "gridwidth": 2,
            "linecolor": "white",
            "showbackground": true,
            "ticks": "",
            "zerolinecolor": "white"
           },
           "yaxis": {
            "backgroundcolor": "#E5ECF6",
            "gridcolor": "white",
            "gridwidth": 2,
            "linecolor": "white",
            "showbackground": true,
            "ticks": "",
            "zerolinecolor": "white"
           },
           "zaxis": {
            "backgroundcolor": "#E5ECF6",
            "gridcolor": "white",
            "gridwidth": 2,
            "linecolor": "white",
            "showbackground": true,
            "ticks": "",
            "zerolinecolor": "white"
           }
          },
          "shapedefaults": {
           "line": {
            "color": "#2a3f5f"
           }
          },
          "ternary": {
           "aaxis": {
            "gridcolor": "white",
            "linecolor": "white",
            "ticks": ""
           },
           "baxis": {
            "gridcolor": "white",
            "linecolor": "white",
            "ticks": ""
           },
           "bgcolor": "#E5ECF6",
           "caxis": {
            "gridcolor": "white",
            "linecolor": "white",
            "ticks": ""
           }
          },
          "title": {
           "x": 0.05
          },
          "xaxis": {
           "automargin": true,
           "gridcolor": "white",
           "linecolor": "white",
           "ticks": "",
           "title": {
            "standoff": 15
           },
           "zerolinecolor": "white",
           "zerolinewidth": 2
          },
          "yaxis": {
           "automargin": true,
           "gridcolor": "white",
           "linecolor": "white",
           "ticks": "",
           "title": {
            "standoff": 15
           },
           "zerolinecolor": "white",
           "zerolinewidth": 2
          }
         }
        },
        "title": {
         "text": "Comparison of Sixes and Dot Balls in IPL by Over"
        },
        "width": 1200,
        "xaxis": {
         "anchor": "y",
         "color": "white",
         "domain": [
          0,
          0.45
         ],
         "title": {
          "text": "Batting Team"
         }
        },
        "xaxis2": {
         "anchor": "y2",
         "domain": [
          0.55,
          1
         ]
        },
        "yaxis": {
         "anchor": "x",
         "color": "white",
         "domain": [
          0,
          1
         ],
         "tickmode": "linear",
         "title": {
          "text": "Over"
         }
        },
        "yaxis2": {
         "anchor": "x2",
         "domain": [
          0,
          1
         ],
         "matches": "y",
         "showticklabels": false
        }
       }
      }
     },
     "metadata": {},
     "output_type": "display_data"
    }
   ],
   "source": [
    "import plotly.graph_objects as go\n",
    "from plotly.subplots import make_subplots\n",
    "import pandas as pd\n",
    "\n",
    "# Filter the data for sixes (batsman_runs == 6) and dot balls (batsman_runs == 0)\n",
    "six = ipl[ipl['batsman_runs'] == 6]\n",
    "dot = ipl[ipl['batsman_runs'] == 0]\n",
    "\n",
    "# Group by 'batting_team' and 'over' for both sixes and dot balls\n",
    "heatmap_data_six = six.groupby(['batting_team', 'over'])['batsman_runs'].count().reset_index()\n",
    "heatmap_data_dot = dot.groupby(['batting_team', 'over'])['batsman_runs'].count().reset_index()\n",
    "\n",
    "# Ensure the 'over' column is treated as an integer\n",
    "heatmap_data_six['over'] = heatmap_data_six['over'].astype(int)\n",
    "heatmap_data_dot['over'] = heatmap_data_dot['over'].astype(int)\n",
    "\n",
    "# Create subplot with two heatmaps side by side\n",
    "fig = make_subplots(\n",
    "    rows=1, cols=2,  # 1 row, 2 columns\n",
    "    subplot_titles=[\"Sixes Hit by Teams in IPL by Over\", \"Dot Balls by Teams in IPL by Over\"],\n",
    "    shared_yaxes=True  # Share y-axis between the two plots\n",
    ")\n",
    "\n",
    "# Heatmap for Sixes\n",
    "fig.add_trace(\n",
    "    go.Heatmap(\n",
    "        z=heatmap_data_six['batsman_runs'],  # Number of sixes hit\n",
    "        x=heatmap_data_six['batting_team'],  # Batting team names\n",
    "        y=heatmap_data_six['over'],          # Over numbers\n",
    "        colorscale='Viridis',                # Color scale\n",
    "        colorbar=dict(title='Sixes Count'),\n",
    "    ),\n",
    "    row=1, col=1  # First subplot (left side)\n",
    ")\n",
    "\n",
    "# Heatmap for Dot Balls\n",
    "fig.add_trace(\n",
    "    go.Heatmap(\n",
    "        z=heatmap_data_dot['batsman_runs'],  # Number of dot balls\n",
    "        x=heatmap_data_dot['batting_team'],  # Batting team names\n",
    "        y=heatmap_data_dot['over'],          # Over numbers\n",
    "        colorscale='Cividis',                # Different color scale for variety\n",
    "        colorbar=dict(title='Dot Balls Count'),\n",
    "    ),\n",
    "    row=1, col=2  # Second subplot (right side)\n",
    ")\n",
    "\n",
    "# Update layout for dark background, labels, and figure size\n",
    "fig.update_layout(\n",
    "    title='Comparison of Sixes and Dot Balls in IPL by Over',\n",
    "    xaxis=dict(title='Batting Team', color='white'),\n",
    "    yaxis=dict(title='Over', tickmode='linear', color='white'),\n",
    "    plot_bgcolor='black',\n",
    "    paper_bgcolor='black',\n",
    "    font=dict(color='white'),\n",
    "    width=1200,  # Width for the figure\n",
    "    height=900,  # Height for the figure\n",
    ")\n",
    "\n",
    "# Show the plot\n",
    "fig.show()\n"
   ]
  }
 ],
 "metadata": {
  "kernelspec": {
   "display_name": ".venv",
   "language": "python",
   "name": "python3"
  },
  "language_info": {
   "codemirror_mode": {
    "name": "ipython",
    "version": 3
   },
   "file_extension": ".py",
   "mimetype": "text/x-python",
   "name": "python",
   "nbconvert_exporter": "python",
   "pygments_lexer": "ipython3",
   "version": "3.12.10"
  }
 },
 "nbformat": 4,
 "nbformat_minor": 5
}
