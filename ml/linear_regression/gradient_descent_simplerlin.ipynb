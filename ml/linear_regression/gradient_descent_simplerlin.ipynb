{
 "cells": [
  {
   "cell_type": "markdown",
   "id": "b4484656",
   "metadata": {},
   "source": [
    "#### for more details visit because we are discountinue on vs code :- https://colab.research.google.com/drive/19-8P65aXLIgNfvXQf1o2ewRD---qSq8G?usp=sharing\n"
   ]
  }
 ],
 "metadata": {
  "language_info": {
   "name": "python"
  }
 },
 "nbformat": 4,
 "nbformat_minor": 5
}
