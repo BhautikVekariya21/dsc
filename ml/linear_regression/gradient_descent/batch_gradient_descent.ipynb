{
 "cells": [
  {
   "cell_type": "markdown",
   "id": "81faad21",
   "metadata": {},
   "source": [
    "#### for more details visit because we are discountinue on vs code :- https://colab.research.google.com/drive/11Fku0Twra6M24HMdQqjKBhQveK6QsxRm?usp=sharing"
   ]
  }
 ],
 "metadata": {
  "language_info": {
   "name": "python"
  }
 },
 "nbformat": 4,
 "nbformat_minor": 5
}
