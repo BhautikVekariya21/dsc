{
 "cells": [
  {
   "cell_type": "code",
   "execution_count": 79,
   "id": "0e5b1227",
   "metadata": {},
   "outputs": [],
   "source": [
    "import numpy as np\n",
    "import pandas as pd\n",
    "import seaborn as sns\n",
    "import matplotlib.pyplot as plt"
   ]
  },
  {
   "cell_type": "code",
   "execution_count": 80,
   "id": "f978e99d",
   "metadata": {},
   "outputs": [
    {
     "data": {
      "application/vnd.microsoft.datawrangler.viewer.v0+json": {
       "columns": [
        {
         "name": "index",
         "rawType": "int64",
         "type": "integer"
        },
        {
         "name": "cgpa",
         "rawType": "float64",
         "type": "float"
        },
        {
         "name": "package",
         "rawType": "float64",
         "type": "float"
        }
       ],
       "ref": "81248c49-54e9-4a0f-b30c-c03052f2b12c",
       "rows": [
        [
         "0",
         "7.85",
         "9.72"
        ],
        [
         "1",
         "9.12",
         "7.89"
        ],
        [
         "2",
         "6.54",
         "5.14"
        ],
        [
         "3",
         "8.99",
         "15.3"
        ],
        [
         "4",
         "7.01",
         "6.62"
        ],
        [
         "5",
         "9.56",
         "22.78"
        ],
        [
         "6",
         "6.23",
         "4.29"
        ],
        [
         "7",
         "8.3",
         "13.45"
        ],
        [
         "8",
         "7.67",
         "8.7"
        ],
        [
         "9",
         "9.34",
         "21.56"
        ],
        [
         "10",
         "6.09",
         "2.85"
        ],
        [
         "11",
         "8.52",
         "14.1"
        ],
        [
         "12",
         "7.21",
         "7.39"
        ],
        [
         "13",
         "9.68",
         "23.67"
        ],
        [
         "14",
         "6.99",
         "6.59"
        ],
        [
         "15",
         "8.84",
         "14.49"
        ],
        [
         "16",
         "7.45",
         "8.36"
        ],
        [
         "17",
         "9.0",
         "7.84"
        ],
        [
         "18",
         "6.67",
         "5.88"
        ],
        [
         "19",
         "8.15",
         "11.76"
        ],
        [
         "20",
         "9.49",
         "22.08"
        ],
        [
         "21",
         "6.38",
         "4.63"
        ],
        [
         "22",
         "7.79",
         "9.54"
        ],
        [
         "23",
         "8.93",
         "15.33"
        ],
        [
         "24",
         "9.71",
         "23.51"
        ],
        [
         "25",
         "6.03",
         "2.82"
        ],
        [
         "26",
         "7.33",
         "7.8"
        ],
        [
         "27",
         "8.61",
         "13.81"
        ],
        [
         "28",
         "9.22",
         "20.46"
        ],
        [
         "29",
         "7.1",
         "6.91"
        ],
        [
         "30",
         "6.88",
         "6.63"
        ],
        [
         "31",
         "9.59",
         "22.61"
        ],
        [
         "32",
         "7.96",
         "10.05"
        ],
        [
         "33",
         "6.5",
         "4.98"
        ],
        [
         "34",
         "8.41",
         "14.06"
        ],
        [
         "35",
         "9.16",
         "19.6"
        ],
        [
         "36",
         "6.15",
         "4.02"
        ],
        [
         "37",
         "7.07",
         "7.18"
        ],
        [
         "38",
         "7.6",
         "8.47"
        ],
        [
         "39",
         "8.78",
         "14.57"
        ],
        [
         "40",
         "9.37",
         "21.59"
        ],
        [
         "41",
         "6.75",
         "5.79"
        ],
        [
         "42",
         "7.28",
         "7.62"
        ],
        [
         "43",
         "8.05",
         "10.72"
        ],
        [
         "44",
         "9.81",
         "24.79"
        ],
        [
         "45",
         "6.42",
         "4.69"
        ],
        [
         "46",
         "7.54",
         "8.54"
        ],
        [
         "47",
         "8.82",
         "14.41"
        ],
        [
         "48",
         "9.09",
         "19.64"
        ],
        [
         "49",
         "6.95",
         "6.46"
        ]
       ],
       "shape": {
        "columns": 2,
        "rows": 101
       }
      },
      "text/html": [
       "<div>\n",
       "<style scoped>\n",
       "    .dataframe tbody tr th:only-of-type {\n",
       "        vertical-align: middle;\n",
       "    }\n",
       "\n",
       "    .dataframe tbody tr th {\n",
       "        vertical-align: top;\n",
       "    }\n",
       "\n",
       "    .dataframe thead th {\n",
       "        text-align: right;\n",
       "    }\n",
       "</style>\n",
       "<table border=\"1\" class=\"dataframe\">\n",
       "  <thead>\n",
       "    <tr style=\"text-align: right;\">\n",
       "      <th></th>\n",
       "      <th>cgpa</th>\n",
       "      <th>package</th>\n",
       "    </tr>\n",
       "  </thead>\n",
       "  <tbody>\n",
       "    <tr>\n",
       "      <th>0</th>\n",
       "      <td>7.85</td>\n",
       "      <td>9.72</td>\n",
       "    </tr>\n",
       "    <tr>\n",
       "      <th>1</th>\n",
       "      <td>9.12</td>\n",
       "      <td>7.89</td>\n",
       "    </tr>\n",
       "    <tr>\n",
       "      <th>2</th>\n",
       "      <td>6.54</td>\n",
       "      <td>5.14</td>\n",
       "    </tr>\n",
       "    <tr>\n",
       "      <th>3</th>\n",
       "      <td>8.99</td>\n",
       "      <td>15.30</td>\n",
       "    </tr>\n",
       "    <tr>\n",
       "      <th>4</th>\n",
       "      <td>7.01</td>\n",
       "      <td>6.62</td>\n",
       "    </tr>\n",
       "    <tr>\n",
       "      <th>...</th>\n",
       "      <td>...</td>\n",
       "      <td>...</td>\n",
       "    </tr>\n",
       "    <tr>\n",
       "      <th>96</th>\n",
       "      <td>9.07</td>\n",
       "      <td>19.40</td>\n",
       "    </tr>\n",
       "    <tr>\n",
       "      <th>97</th>\n",
       "      <td>6.92</td>\n",
       "      <td>6.36</td>\n",
       "    </tr>\n",
       "    <tr>\n",
       "      <th>98</th>\n",
       "      <td>7.81</td>\n",
       "      <td>9.61</td>\n",
       "    </tr>\n",
       "    <tr>\n",
       "      <th>99</th>\n",
       "      <td>8.38</td>\n",
       "      <td>13.62</td>\n",
       "    </tr>\n",
       "    <tr>\n",
       "      <th>100</th>\n",
       "      <td>9.52</td>\n",
       "      <td>22.46</td>\n",
       "    </tr>\n",
       "  </tbody>\n",
       "</table>\n",
       "<p>101 rows × 2 columns</p>\n",
       "</div>"
      ],
      "text/plain": [
       "     cgpa  package\n",
       "0    7.85     9.72\n",
       "1    9.12     7.89\n",
       "2    6.54     5.14\n",
       "3    8.99    15.30\n",
       "4    7.01     6.62\n",
       "..    ...      ...\n",
       "96   9.07    19.40\n",
       "97   6.92     6.36\n",
       "98   7.81     9.61\n",
       "99   8.38    13.62\n",
       "100  9.52    22.46\n",
       "\n",
       "[101 rows x 2 columns]"
      ]
     },
     "execution_count": 80,
     "metadata": {},
     "output_type": "execute_result"
    }
   ],
   "source": [
    "pls = pd.read_csv('placement.csv')\n",
    "pls"
   ]
  },
  {
   "cell_type": "code",
   "execution_count": 81,
   "id": "d2ebeb15",
   "metadata": {},
   "outputs": [
    {
     "data": {
      "text/plain": [
       "<Axes: xlabel='cgpa', ylabel='package'>"
      ]
     },
     "execution_count": 81,
     "metadata": {},
     "output_type": "execute_result"
    },
    {
     "data": {
      "image/png": "[encoded data removed]",
      "text/plain": [
       "<Figure size 640x480 with 1 Axes>"
      ]
     },
     "metadata": {},
     "output_type": "display_data"
    }
   ],
   "source": [
    "sns.scatterplot(x='cgpa', y='package', data=pls)"
   ]
  },
  {
   "cell_type": "code",
   "execution_count": 82,
   "id": "dd06143a",
   "metadata": {},
   "outputs": [],
   "source": [
    "x = pls.iloc[:,0:1]\n",
    "y = pls.iloc[:,-1]"
   ]
  },
  {
   "cell_type": "code",
   "execution_count": 83,
   "id": "43576ff7",
   "metadata": {},
   "outputs": [
    {
     "data": {
      "application/vnd.microsoft.datawrangler.viewer.v0+json": {
       "columns": [
        {
         "name": "index",
         "rawType": "int64",
         "type": "integer"
        },
        {
         "name": "cgpa",
         "rawType": "float64",
         "type": "float"
        }
       ],
       "ref": "36366f2b-0682-4e14-8762-0df6cd610ee2",
       "rows": [
        [
         "0",
         "7.85"
        ],
        [
         "1",
         "9.12"
        ],
        [
         "2",
         "6.54"
        ],
        [
         "3",
         "8.99"
        ],
        [
         "4",
         "7.01"
        ],
        [
         "5",
         "9.56"
        ],
        [
         "6",
         "6.23"
        ],
        [
         "7",
         "8.3"
        ],
        [
         "8",
         "7.67"
        ],
        [
         "9",
         "9.34"
        ],
        [
         "10",
         "6.09"
        ],
        [
         "11",
         "8.52"
        ],
        [
         "12",
         "7.21"
        ],
        [
         "13",
         "9.68"
        ],
        [
         "14",
         "6.99"
        ],
        [
         "15",
         "8.84"
        ],
        [
         "16",
         "7.45"
        ],
        [
         "17",
         "9.0"
        ],
        [
         "18",
         "6.67"
        ],
        [
         "19",
         "8.15"
        ],
        [
         "20",
         "9.49"
        ],
        [
         "21",
         "6.38"
        ],
        [
         "22",
         "7.79"
        ],
        [
         "23",
         "8.93"
        ],
        [
         "24",
         "9.71"
        ],
        [
         "25",
         "6.03"
        ],
        [
         "26",
         "7.33"
        ],
        [
         "27",
         "8.61"
        ],
        [
         "28",
         "9.22"
        ],
        [
         "29",
         "7.1"
        ],
        [
         "30",
         "6.88"
        ],
        [
         "31",
         "9.59"
        ],
        [
         "32",
         "7.96"
        ],
        [
         "33",
         "6.5"
        ],
        [
         "34",
         "8.41"
        ],
        [
         "35",
         "9.16"
        ],
        [
         "36",
         "6.15"
        ],
        [
         "37",
         "7.07"
        ],
        [
         "38",
         "7.6"
        ],
        [
         "39",
         "8.78"
        ],
        [
         "40",
         "9.37"
        ],
        [
         "41",
         "6.75"
        ],
        [
         "42",
         "7.28"
        ],
        [
         "43",
         "8.05"
        ],
        [
         "44",
         "9.81"
        ],
        [
         "45",
         "6.42"
        ],
        [
         "46",
         "7.54"
        ],
        [
         "47",
         "8.82"
        ],
        [
         "48",
         "9.09"
        ],
        [
         "49",
         "6.95"
        ]
       ],
       "shape": {
        "columns": 1,
        "rows": 101
       }
      },
      "text/html": [
       "<div>\n",
       "<style scoped>\n",
       "    .dataframe tbody tr th:only-of-type {\n",
       "        vertical-align: middle;\n",
       "    }\n",
       "\n",
       "    .dataframe tbody tr th {\n",
       "        vertical-align: top;\n",
       "    }\n",
       "\n",
       "    .dataframe thead th {\n",
       "        text-align: right;\n",
       "    }\n",
       "</style>\n",
       "<table border=\"1\" class=\"dataframe\">\n",
       "  <thead>\n",
       "    <tr style=\"text-align: right;\">\n",
       "      <th></th>\n",
       "      <th>cgpa</th>\n",
       "    </tr>\n",
       "  </thead>\n",
       "  <tbody>\n",
       "    <tr>\n",
       "      <th>0</th>\n",
       "      <td>7.85</td>\n",
       "    </tr>\n",
       "    <tr>\n",
       "      <th>1</th>\n",
       "      <td>9.12</td>\n",
       "    </tr>\n",
       "    <tr>\n",
       "      <th>2</th>\n",
       "      <td>6.54</td>\n",
       "    </tr>\n",
       "    <tr>\n",
       "      <th>3</th>\n",
       "      <td>8.99</td>\n",
       "    </tr>\n",
       "    <tr>\n",
       "      <th>4</th>\n",
       "      <td>7.01</td>\n",
       "    </tr>\n",
       "    <tr>\n",
       "      <th>...</th>\n",
       "      <td>...</td>\n",
       "    </tr>\n",
       "    <tr>\n",
       "      <th>96</th>\n",
       "      <td>9.07</td>\n",
       "    </tr>\n",
       "    <tr>\n",
       "      <th>97</th>\n",
       "      <td>6.92</td>\n",
       "    </tr>\n",
       "    <tr>\n",
       "      <th>98</th>\n",
       "      <td>7.81</td>\n",
       "    </tr>\n",
       "    <tr>\n",
       "      <th>99</th>\n",
       "      <td>8.38</td>\n",
       "    </tr>\n",
       "    <tr>\n",
       "      <th>100</th>\n",
       "      <td>9.52</td>\n",
       "    </tr>\n",
       "  </tbody>\n",
       "</table>\n",
       "<p>101 rows × 1 columns</p>\n",
       "</div>"
      ],
      "text/plain": [
       "     cgpa\n",
       "0    7.85\n",
       "1    9.12\n",
       "2    6.54\n",
       "3    8.99\n",
       "4    7.01\n",
       "..    ...\n",
       "96   9.07\n",
       "97   6.92\n",
       "98   7.81\n",
       "99   8.38\n",
       "100  9.52\n",
       "\n",
       "[101 rows x 1 columns]"
      ]
     },
     "execution_count": 83,
     "metadata": {},
     "output_type": "execute_result"
    }
   ],
   "source": [
    "x"
   ]
  },
  {
   "cell_type": "code",
   "execution_count": 84,
   "id": "85743039",
   "metadata": {},
   "outputs": [
    {
     "data": {
      "application/vnd.microsoft.datawrangler.viewer.v0+json": {
       "columns": [
        {
         "name": "index",
         "rawType": "int64",
         "type": "integer"
        },
        {
         "name": "package",
         "rawType": "float64",
         "type": "float"
        }
       ],
       "ref": "f8387d47-f6c0-4352-8532-733b18723012",
       "rows": [
        [
         "0",
         "9.72"
        ],
        [
         "1",
         "7.89"
        ],
        [
         "2",
         "5.14"
        ],
        [
         "3",
         "15.3"
        ],
        [
         "4",
         "6.62"
        ],
        [
         "5",
         "22.78"
        ],
        [
         "6",
         "4.29"
        ],
        [
         "7",
         "13.45"
        ],
        [
         "8",
         "8.7"
        ],
        [
         "9",
         "21.56"
        ],
        [
         "10",
         "2.85"
        ],
        [
         "11",
         "14.1"
        ],
        [
         "12",
         "7.39"
        ],
        [
         "13",
         "23.67"
        ],
        [
         "14",
         "6.59"
        ],
        [
         "15",
         "14.49"
        ],
        [
         "16",
         "8.36"
        ],
        [
         "17",
         "7.84"
        ],
        [
         "18",
         "5.88"
        ],
        [
         "19",
         "11.76"
        ],
        [
         "20",
         "22.08"
        ],
        [
         "21",
         "4.63"
        ],
        [
         "22",
         "9.54"
        ],
        [
         "23",
         "15.33"
        ],
        [
         "24",
         "23.51"
        ],
        [
         "25",
         "2.82"
        ],
        [
         "26",
         "7.8"
        ],
        [
         "27",
         "13.81"
        ],
        [
         "28",
         "20.46"
        ],
        [
         "29",
         "6.91"
        ],
        [
         "30",
         "6.63"
        ],
        [
         "31",
         "22.61"
        ],
        [
         "32",
         "10.05"
        ],
        [
         "33",
         "4.98"
        ],
        [
         "34",
         "14.06"
        ],
        [
         "35",
         "19.6"
        ],
        [
         "36",
         "4.02"
        ],
        [
         "37",
         "7.18"
        ],
        [
         "38",
         "8.47"
        ],
        [
         "39",
         "14.57"
        ],
        [
         "40",
         "21.59"
        ],
        [
         "41",
         "5.79"
        ],
        [
         "42",
         "7.62"
        ],
        [
         "43",
         "10.72"
        ],
        [
         "44",
         "24.79"
        ],
        [
         "45",
         "4.69"
        ],
        [
         "46",
         "8.54"
        ],
        [
         "47",
         "14.41"
        ],
        [
         "48",
         "19.64"
        ],
        [
         "49",
         "6.46"
        ]
       ],
       "shape": {
        "columns": 1,
        "rows": 101
       }
      },
      "text/plain": [
       "0       9.72\n",
       "1       7.89\n",
       "2       5.14\n",
       "3      15.30\n",
       "4       6.62\n",
       "       ...  \n",
       "96     19.40\n",
       "97      6.36\n",
       "98      9.61\n",
       "99     13.62\n",
       "100    22.46\n",
       "Name: package, Length: 101, dtype: float64"
      ]
     },
     "execution_count": 84,
     "metadata": {},
     "output_type": "execute_result"
    }
   ],
   "source": [
    "y"
   ]
  },
  {
   "cell_type": "code",
   "execution_count": 85,
   "id": "ef67d803",
   "metadata": {},
   "outputs": [],
   "source": [
    "from sklearn.linear_model import LinearRegression\n",
    "from sklearn.model_selection import train_test_split\n",
    "\n",
    "X_train,X_test,y_train,y_test = train_test_split(x,y,test_size=0.2,random_state=0)\n"
   ]
  },
  {
   "cell_type": "code",
   "execution_count": 86,
   "id": "1792c0a9",
   "metadata": {},
   "outputs": [],
   "source": [
    "lr = LinearRegression()"
   ]
  },
  {
   "cell_type": "code",
   "execution_count": 87,
   "id": "d0f4b35e",
   "metadata": {},
   "outputs": [
    {
     "data": {
      "text/html": [
       "<style>#sk-container-id-5 {\n",
       "  /* Definition of color scheme common for light and dark mode */\n",
       "  --sklearn-color-text: #000;\n",
       "  --sklearn-color-text-muted: #666;\n",
       "  --sklearn-color-line: gray;\n",
       "  /* Definition of color scheme for unfitted estimators */\n",
       "  --sklearn-color-unfitted-level-0: #fff5e6;\n",
       "  --sklearn-color-unfitted-level-1: #f6e4d2;\n",
       "  --sklearn-color-unfitted-level-2: #ffe0b3;\n",
       "  --sklearn-color-unfitted-level-3: chocolate;\n",
       "  /* Definition of color scheme for fitted estimators */\n",
       "  --sklearn-color-fitted-level-0: #f0f8ff;\n",
       "  --sklearn-color-fitted-level-1: #d4ebff;\n",
       "  --sklearn-color-fitted-level-2: #b3dbfd;\n",
       "  --sklearn-color-fitted-level-3: cornflowerblue;\n",
       "\n",
       "  /* Specific color for light theme */\n",
       "  --sklearn-color-text-on-default-background: var(--sg-text-color, var(--theme-code-foreground, var(--jp-content-font-color1, black)));\n",
       "  --sklearn-color-background: var(--sg-background-color, var(--theme-background, var(--jp-layout-color0, white)));\n",
       "  --sklearn-color-border-box: var(--sg-text-color, var(--theme-code-foreground, var(--jp-content-font-color1, black)));\n",
       "  --sklearn-color-icon: #696969;\n",
       "\n",
       "  @media (prefers-color-scheme: dark) {\n",
       "    /* Redefinition of color scheme for dark theme */\n",
       "    --sklearn-color-text-on-default-background: var(--sg-text-color, var(--theme-code-foreground, var(--jp-content-font-color1, white)));\n",
       "    --sklearn-color-background: var(--sg-background-color, var(--theme-background, var(--jp-layout-color0, #111)));\n",
       "    --sklearn-color-border-box: var(--sg-text-color, var(--theme-code-foreground, var(--jp-content-font-color1, white)));\n",
       "    --sklearn-color-icon: #878787;\n",
       "  }\n",
       "}\n",
       "\n",
       "#sk-container-id-5 {\n",
       "  color: var(--sklearn-color-text);\n",
       "}\n",
       "\n",
       "#sk-container-id-5 pre {\n",
       "  padding: 0;\n",
       "}\n",
       "\n",
       "#sk-container-id-5 input.sk-hidden--visually {\n",
       "  border: 0;\n",
       "  clip: rect(1px 1px 1px 1px);\n",
       "  clip: rect(1px, 1px, 1px, 1px);\n",
       "  height: 1px;\n",
       "  margin: -1px;\n",
       "  overflow: hidden;\n",
       "  padding: 0;\n",
       "  position: absolute;\n",
       "  width: 1px;\n",
       "}\n",
       "\n",
       "#sk-container-id-5 div.sk-dashed-wrapped {\n",
       "  border: 1px dashed var(--sklearn-color-line);\n",
       "  margin: 0 0.4em 0.5em 0.4em;\n",
       "  box-sizing: border-box;\n",
       "  padding-bottom: 0.4em;\n",
       "  background-color: var(--sklearn-color-background);\n",
       "}\n",
       "\n",
       "#sk-container-id-5 div.sk-container {\n",
       "  /* jupyter's `normalize.less` sets `[hidden] { display: none; }`\n",
       "     but bootstrap.min.css set `[hidden] { display: none !important; }`\n",
       "     so we also need the `!important` here to be able to override the\n",
       "     default hidden behavior on the sphinx rendered scikit-learn.org.\n",
       "     See: https://github.com/scikit-learn/scikit-learn/issues/21755 */\n",
       "  display: inline-block !important;\n",
       "  position: relative;\n",
       "}\n",
       "\n",
       "#sk-container-id-5 div.sk-text-repr-fallback {\n",
       "  display: none;\n",
       "}\n",
       "\n",
       "div.sk-parallel-item,\n",
       "div.sk-serial,\n",
       "div.sk-item {\n",
       "  /* draw centered vertical line to link estimators */\n",
       "  background-image: linear-gradient(var(--sklearn-color-text-on-default-background), var(--sklearn-color-text-on-default-background));\n",
       "  background-size: 2px 100%;\n",
       "  background-repeat: no-repeat;\n",
       "  background-position: center center;\n",
       "}\n",
       "\n",
       "/* Parallel-specific style estimator block */\n",
       "\n",
       "#sk-container-id-5 div.sk-parallel-item::after {\n",
       "  content: \"\";\n",
       "  width: 100%;\n",
       "  border-bottom: 2px solid var(--sklearn-color-text-on-default-background);\n",
       "  flex-grow: 1;\n",
       "}\n",
       "\n",
       "#sk-container-id-5 div.sk-parallel {\n",
       "  display: flex;\n",
       "  align-items: stretch;\n",
       "  justify-content: center;\n",
       "  background-color: var(--sklearn-color-background);\n",
       "  position: relative;\n",
       "}\n",
       "\n",
       "#sk-container-id-5 div.sk-parallel-item {\n",
       "  display: flex;\n",
       "  flex-direction: column;\n",
       "}\n",
       "\n",
       "#sk-container-id-5 div.sk-parallel-item:first-child::after {\n",
       "  align-self: flex-end;\n",
       "  width: 50%;\n",
       "}\n",
       "\n",
       "#sk-container-id-5 div.sk-parallel-item:last-child::after {\n",
       "  align-self: flex-start;\n",
       "  width: 50%;\n",
       "}\n",
       "\n",
       "#sk-container-id-5 div.sk-parallel-item:only-child::after {\n",
       "  width: 0;\n",
       "}\n",
       "\n",
       "/* Serial-specific style estimator block */\n",
       "\n",
       "#sk-container-id-5 div.sk-serial {\n",
       "  display: flex;\n",
       "  flex-direction: column;\n",
       "  align-items: center;\n",
       "  background-color: var(--sklearn-color-background);\n",
       "  padding-right: 1em;\n",
       "  padding-left: 1em;\n",
       "}\n",
       "\n",
       "\n",
       "/* Toggleable style: style used for estimator/Pipeline/ColumnTransformer box that is\n",
       "clickable and can be expanded/collapsed.\n",
       "- Pipeline and ColumnTransformer use this feature and define the default style\n",
       "- Estimators will overwrite some part of the style using the `sk-estimator` class\n",
       "*/\n",
       "\n",
       "/* Pipeline and ColumnTransformer style (default) */\n",
       "\n",
       "#sk-container-id-5 div.sk-toggleable {\n",
       "  /* Default theme specific background. It is overwritten whether we have a\n",
       "  specific estimator or a Pipeline/ColumnTransformer */\n",
       "  background-color: var(--sklearn-color-background);\n",
       "}\n",
       "\n",
       "/* Toggleable label */\n",
       "#sk-container-id-5 label.sk-toggleable__label {\n",
       "  cursor: pointer;\n",
       "  display: flex;\n",
       "  width: 100%;\n",
       "  margin-bottom: 0;\n",
       "  padding: 0.5em;\n",
       "  box-sizing: border-box;\n",
       "  text-align: center;\n",
       "  align-items: start;\n",
       "  justify-content: space-between;\n",
       "  gap: 0.5em;\n",
       "}\n",
       "\n",
       "#sk-container-id-5 label.sk-toggleable__label .caption {\n",
       "  font-size: 0.6rem;\n",
       "  font-weight: lighter;\n",
       "  color: var(--sklearn-color-text-muted);\n",
       "}\n",
       "\n",
       "#sk-container-id-5 label.sk-toggleable__label-arrow:before {\n",
       "  /* Arrow on the left of the label */\n",
       "  content: \"▸\";\n",
       "  float: left;\n",
       "  margin-right: 0.25em;\n",
       "  color: var(--sklearn-color-icon);\n",
       "}\n",
       "\n",
       "#sk-container-id-5 label.sk-toggleable__label-arrow:hover:before {\n",
       "  color: var(--sklearn-color-text);\n",
       "}\n",
       "\n",
       "/* Toggleable content - dropdown */\n",
       "\n",
       "#sk-container-id-5 div.sk-toggleable__content {\n",
       "  display: none;\n",
       "  text-align: left;\n",
       "  /* unfitted */\n",
       "  background-color: var(--sklearn-color-unfitted-level-0);\n",
       "}\n",
       "\n",
       "#sk-container-id-5 div.sk-toggleable__content.fitted {\n",
       "  /* fitted */\n",
       "  background-color: var(--sklearn-color-fitted-level-0);\n",
       "}\n",
       "\n",
       "#sk-container-id-5 div.sk-toggleable__content pre {\n",
       "  margin: 0.2em;\n",
       "  border-radius: 0.25em;\n",
       "  color: var(--sklearn-color-text);\n",
       "  /* unfitted */\n",
       "  background-color: var(--sklearn-color-unfitted-level-0);\n",
       "}\n",
       "\n",
       "#sk-container-id-5 div.sk-toggleable__content.fitted pre {\n",
       "  /* unfitted */\n",
       "  background-color: var(--sklearn-color-fitted-level-0);\n",
       "}\n",
       "\n",
       "#sk-container-id-5 input.sk-toggleable__control:checked~div.sk-toggleable__content {\n",
       "  /* Expand drop-down */\n",
       "  display: block;\n",
       "  width: 100%;\n",
       "  overflow: visible;\n",
       "}\n",
       "\n",
       "#sk-container-id-5 input.sk-toggleable__control:checked~label.sk-toggleable__label-arrow:before {\n",
       "  content: \"▾\";\n",
       "}\n",
       "\n",
       "/* Pipeline/ColumnTransformer-specific style */\n",
       "\n",
       "#sk-container-id-5 div.sk-label input.sk-toggleable__control:checked~label.sk-toggleable__label {\n",
       "  color: var(--sklearn-color-text);\n",
       "  background-color: var(--sklearn-color-unfitted-level-2);\n",
       "}\n",
       "\n",
       "#sk-container-id-5 div.sk-label.fitted input.sk-toggleable__control:checked~label.sk-toggleable__label {\n",
       "  background-color: var(--sklearn-color-fitted-level-2);\n",
       "}\n",
       "\n",
       "/* Estimator-specific style */\n",
       "\n",
       "/* Colorize estimator box */\n",
       "#sk-container-id-5 div.sk-estimator input.sk-toggleable__control:checked~label.sk-toggleable__label {\n",
       "  /* unfitted */\n",
       "  background-color: var(--sklearn-color-unfitted-level-2);\n",
       "}\n",
       "\n",
       "#sk-container-id-5 div.sk-estimator.fitted input.sk-toggleable__control:checked~label.sk-toggleable__label {\n",
       "  /* fitted */\n",
       "  background-color: var(--sklearn-color-fitted-level-2);\n",
       "}\n",
       "\n",
       "#sk-container-id-5 div.sk-label label.sk-toggleable__label,\n",
       "#sk-container-id-5 div.sk-label label {\n",
       "  /* The background is the default theme color */\n",
       "  color: var(--sklearn-color-text-on-default-background);\n",
       "}\n",
       "\n",
       "/* On hover, darken the color of the background */\n",
       "#sk-container-id-5 div.sk-label:hover label.sk-toggleable__label {\n",
       "  color: var(--sklearn-color-text);\n",
       "  background-color: var(--sklearn-color-unfitted-level-2);\n",
       "}\n",
       "\n",
       "/* Label box, darken color on hover, fitted */\n",
       "#sk-container-id-5 div.sk-label.fitted:hover label.sk-toggleable__label.fitted {\n",
       "  color: var(--sklearn-color-text);\n",
       "  background-color: var(--sklearn-color-fitted-level-2);\n",
       "}\n",
       "\n",
       "/* Estimator label */\n",
       "\n",
       "#sk-container-id-5 div.sk-label label {\n",
       "  font-family: monospace;\n",
       "  font-weight: bold;\n",
       "  display: inline-block;\n",
       "  line-height: 1.2em;\n",
       "}\n",
       "\n",
       "#sk-container-id-5 div.sk-label-container {\n",
       "  text-align: center;\n",
       "}\n",
       "\n",
       "/* Estimator-specific */\n",
       "#sk-container-id-5 div.sk-estimator {\n",
       "  font-family: monospace;\n",
       "  border: 1px dotted var(--sklearn-color-border-box);\n",
       "  border-radius: 0.25em;\n",
       "  box-sizing: border-box;\n",
       "  margin-bottom: 0.5em;\n",
       "  /* unfitted */\n",
       "  background-color: var(--sklearn-color-unfitted-level-0);\n",
       "}\n",
       "\n",
       "#sk-container-id-5 div.sk-estimator.fitted {\n",
       "  /* fitted */\n",
       "  background-color: var(--sklearn-color-fitted-level-0);\n",
       "}\n",
       "\n",
       "/* on hover */\n",
       "#sk-container-id-5 div.sk-estimator:hover {\n",
       "  /* unfitted */\n",
       "  background-color: var(--sklearn-color-unfitted-level-2);\n",
       "}\n",
       "\n",
       "#sk-container-id-5 div.sk-estimator.fitted:hover {\n",
       "  /* fitted */\n",
       "  background-color: var(--sklearn-color-fitted-level-2);\n",
       "}\n",
       "\n",
       "/* Specification for estimator info (e.g. \"i\" and \"?\") */\n",
       "\n",
       "/* Common style for \"i\" and \"?\" */\n",
       "\n",
       ".sk-estimator-doc-link,\n",
       "a:link.sk-estimator-doc-link,\n",
       "a:visited.sk-estimator-doc-link {\n",
       "  float: right;\n",
       "  font-size: smaller;\n",
       "  line-height: 1em;\n",
       "  font-family: monospace;\n",
       "  background-color: var(--sklearn-color-background);\n",
       "  border-radius: 1em;\n",
       "  height: 1em;\n",
       "  width: 1em;\n",
       "  text-decoration: none !important;\n",
       "  margin-left: 0.5em;\n",
       "  text-align: center;\n",
       "  /* unfitted */\n",
       "  border: var(--sklearn-color-unfitted-level-1) 1pt solid;\n",
       "  color: var(--sklearn-color-unfitted-level-1);\n",
       "}\n",
       "\n",
       ".sk-estimator-doc-link.fitted,\n",
       "a:link.sk-estimator-doc-link.fitted,\n",
       "a:visited.sk-estimator-doc-link.fitted {\n",
       "  /* fitted */\n",
       "  border: var(--sklearn-color-fitted-level-1) 1pt solid;\n",
       "  color: var(--sklearn-color-fitted-level-1);\n",
       "}\n",
       "\n",
       "/* On hover */\n",
       "div.sk-estimator:hover .sk-estimator-doc-link:hover,\n",
       ".sk-estimator-doc-link:hover,\n",
       "div.sk-label-container:hover .sk-estimator-doc-link:hover,\n",
       ".sk-estimator-doc-link:hover {\n",
       "  /* unfitted */\n",
       "  background-color: var(--sklearn-color-unfitted-level-3);\n",
       "  color: var(--sklearn-color-background);\n",
       "  text-decoration: none;\n",
       "}\n",
       "\n",
       "div.sk-estimator.fitted:hover .sk-estimator-doc-link.fitted:hover,\n",
       ".sk-estimator-doc-link.fitted:hover,\n",
       "div.sk-label-container:hover .sk-estimator-doc-link.fitted:hover,\n",
       ".sk-estimator-doc-link.fitted:hover {\n",
       "  /* fitted */\n",
       "  background-color: var(--sklearn-color-fitted-level-3);\n",
       "  color: var(--sklearn-color-background);\n",
       "  text-decoration: none;\n",
       "}\n",
       "\n",
       "/* Span, style for the box shown on hovering the info icon */\n",
       ".sk-estimator-doc-link span {\n",
       "  display: none;\n",
       "  z-index: 9999;\n",
       "  position: relative;\n",
       "  font-weight: normal;\n",
       "  right: .2ex;\n",
       "  padding: .5ex;\n",
       "  margin: .5ex;\n",
       "  width: min-content;\n",
       "  min-width: 20ex;\n",
       "  max-width: 50ex;\n",
       "  color: var(--sklearn-color-text);\n",
       "  box-shadow: 2pt 2pt 4pt #999;\n",
       "  /* unfitted */\n",
       "  background: var(--sklearn-color-unfitted-level-0);\n",
       "  border: .5pt solid var(--sklearn-color-unfitted-level-3);\n",
       "}\n",
       "\n",
       ".sk-estimator-doc-link.fitted span {\n",
       "  /* fitted */\n",
       "  background: var(--sklearn-color-fitted-level-0);\n",
       "  border: var(--sklearn-color-fitted-level-3);\n",
       "}\n",
       "\n",
       ".sk-estimator-doc-link:hover span {\n",
       "  display: block;\n",
       "}\n",
       "\n",
       "/* \"?\"-specific style due to the `<a>` HTML tag */\n",
       "\n",
       "#sk-container-id-5 a.estimator_doc_link {\n",
       "  float: right;\n",
       "  font-size: 1rem;\n",
       "  line-height: 1em;\n",
       "  font-family: monospace;\n",
       "  background-color: var(--sklearn-color-background);\n",
       "  border-radius: 1rem;\n",
       "  height: 1rem;\n",
       "  width: 1rem;\n",
       "  text-decoration: none;\n",
       "  /* unfitted */\n",
       "  color: var(--sklearn-color-unfitted-level-1);\n",
       "  border: var(--sklearn-color-unfitted-level-1) 1pt solid;\n",
       "}\n",
       "\n",
       "#sk-container-id-5 a.estimator_doc_link.fitted {\n",
       "  /* fitted */\n",
       "  border: var(--sklearn-color-fitted-level-1) 1pt solid;\n",
       "  color: var(--sklearn-color-fitted-level-1);\n",
       "}\n",
       "\n",
       "/* On hover */\n",
       "#sk-container-id-5 a.estimator_doc_link:hover {\n",
       "  /* unfitted */\n",
       "  background-color: var(--sklearn-color-unfitted-level-3);\n",
       "  color: var(--sklearn-color-background);\n",
       "  text-decoration: none;\n",
       "}\n",
       "\n",
       "#sk-container-id-5 a.estimator_doc_link.fitted:hover {\n",
       "  /* fitted */\n",
       "  background-color: var(--sklearn-color-fitted-level-3);\n",
       "}\n",
       "\n",
       ".estimator-table summary {\n",
       "    padding: .5rem;\n",
       "    font-family: monospace;\n",
       "    cursor: pointer;\n",
       "}\n",
       "\n",
       ".estimator-table details[open] {\n",
       "    padding-left: 0.1rem;\n",
       "    padding-right: 0.1rem;\n",
       "    padding-bottom: 0.3rem;\n",
       "}\n",
       "\n",
       ".estimator-table .parameters-table {\n",
       "    margin-left: auto !important;\n",
       "    margin-right: auto !important;\n",
       "}\n",
       "\n",
       ".estimator-table .parameters-table tr:nth-child(odd) {\n",
       "    background-color: #fff;\n",
       "}\n",
       "\n",
       ".estimator-table .parameters-table tr:nth-child(even) {\n",
       "    background-color: #f6f6f6;\n",
       "}\n",
       "\n",
       ".estimator-table .parameters-table tr:hover {\n",
       "    background-color: #e0e0e0;\n",
       "}\n",
       "\n",
       ".estimator-table table td {\n",
       "    border: 1px solid rgba(106, 105, 104, 0.232);\n",
       "}\n",
       "\n",
       ".user-set td {\n",
       "    color:rgb(255, 94, 0);\n",
       "    text-align: left;\n",
       "}\n",
       "\n",
       ".user-set td.value pre {\n",
       "    color:rgb(255, 94, 0) !important;\n",
       "    background-color: transparent !important;\n",
       "}\n",
       "\n",
       ".default td {\n",
       "    color: black;\n",
       "    text-align: left;\n",
       "}\n",
       "\n",
       ".user-set td i,\n",
       ".default td i {\n",
       "    color: black;\n",
       "}\n",
       "\n",
       ".copy-paste-icon {\n",
       "    background-image: url(data:image/svg+xml;base64,PHN2ZyB4bWxucz0iaHR0cDovL3d3dy53My5vcmcvMjAwMC9zdmciIHZpZXdCb3g9IjAgMCA0NDggNTEyIj48IS0tIUZvbnQgQXdlc29tZSBGcmVlIDYuNy4yIGJ5IEBmb250YXdlc29tZSAtIGh0dHBzOi8vZm9udGF3ZXNvbWUuY29tIExpY2Vuc2UgLSBodHRwczovL2ZvbnRhd2Vzb21lLmNvbS9saWNlbnNlL2ZyZWUgQ29weXJpZ2h0IDIwMjUgRm9udGljb25zLCBJbmMuLS0+PHBhdGggZD0iTTIwOCAwTDMzMi4xIDBjMTIuNyAwIDI0LjkgNS4xIDMzLjkgMTQuMWw2Ny45IDY3LjljOSA5IDE0LjEgMjEuMiAxNC4xIDMzLjlMNDQ4IDMzNmMwIDI2LjUtMjEuNSA0OC00OCA0OGwtMTkyIDBjLTI2LjUgMC00OC0yMS41LTQ4LTQ4bDAtMjg4YzAtMjYuNSAyMS41LTQ4IDQ4LTQ4ek00OCAxMjhsODAgMCAwIDY0LTY0IDAgMCAyNTYgMTkyIDAgMC0zMiA2NCAwIDAgNDhjMCAyNi41LTIxLjUgNDgtNDggNDhMNDggNTEyYy0yNi41IDAtNDgtMjEuNS00OC00OEwwIDE3NmMwLTI2LjUgMjEuNS00OCA0OC00OHoiLz48L3N2Zz4=);\n",
       "    background-repeat: no-repeat;\n",
       "    background-size: 14px 14px;\n",
       "    background-position: 0;\n",
       "    display: inline-block;\n",
       "    width: 14px;\n",
       "    height: 14px;\n",
       "    cursor: pointer;\n",
       "}\n",
       "</style><body><div id=\"sk-container-id-5\" class=\"sk-top-container\"><div class=\"sk-text-repr-fallback\"><pre>LinearRegression()</pre><b>In a Jupyter environment, please rerun this cell to show the HTML representation or trust the notebook. <br />On GitHub, the HTML representation is unable to render, please try loading this page with nbviewer.org.</b></div><div class=\"sk-container\" hidden><div class=\"sk-item\"><div class=\"sk-estimator fitted sk-toggleable\"><input class=\"sk-toggleable__control sk-hidden--visually\" id=\"sk-estimator-id-5\" type=\"checkbox\" checked><label for=\"sk-estimator-id-5\" class=\"sk-toggleable__label fitted sk-toggleable__label-arrow\"><div><div>LinearRegression</div></div><div><a class=\"sk-estimator-doc-link fitted\" rel=\"noreferrer\" target=\"_blank\" href=\"https://scikit-learn.org/1.7/modules/generated/sklearn.linear_model.LinearRegression.html\">?<span>Documentation for LinearRegression</span></a><span class=\"sk-estimator-doc-link fitted\">i<span>Fitted</span></span></div></label><div class=\"sk-toggleable__content fitted\" data-param-prefix=\"\">\n",
       "        <div class=\"estimator-table\">\n",
       "            <details>\n",
       "                <summary>Parameters</summary>\n",
       "                <table class=\"parameters-table\">\n",
       "                  <tbody>\n",
       "                    \n",
       "        <tr class=\"default\">\n",
       "            <td><i class=\"copy-paste-icon\"\n",
       "                 onclick=\"copyToClipboard('fit_intercept',\n",
       "                          this.parentElement.nextElementSibling)\"\n",
       "            ></i></td>\n",
       "            <td class=\"param\">fit_intercept&nbsp;</td>\n",
       "            <td class=\"value\">True</td>\n",
       "        </tr>\n",
       "    \n",
       "\n",
       "        <tr class=\"default\">\n",
       "            <td><i class=\"copy-paste-icon\"\n",
       "                 onclick=\"copyToClipboard('copy_X',\n",
       "                          this.parentElement.nextElementSibling)\"\n",
       "            ></i></td>\n",
       "            <td class=\"param\">copy_X&nbsp;</td>\n",
       "            <td class=\"value\">True</td>\n",
       "        </tr>\n",
       "    \n",
       "\n",
       "        <tr class=\"default\">\n",
       "            <td><i class=\"copy-paste-icon\"\n",
       "                 onclick=\"copyToClipboard('tol',\n",
       "                          this.parentElement.nextElementSibling)\"\n",
       "            ></i></td>\n",
       "            <td class=\"param\">tol&nbsp;</td>\n",
       "            <td class=\"value\">1e-06</td>\n",
       "        </tr>\n",
       "    \n",
       "\n",
       "        <tr class=\"default\">\n",
       "            <td><i class=\"copy-paste-icon\"\n",
       "                 onclick=\"copyToClipboard('n_jobs',\n",
       "                          this.parentElement.nextElementSibling)\"\n",
       "            ></i></td>\n",
       "            <td class=\"param\">n_jobs&nbsp;</td>\n",
       "            <td class=\"value\">None</td>\n",
       "        </tr>\n",
       "    \n",
       "\n",
       "        <tr class=\"default\">\n",
       "            <td><i class=\"copy-paste-icon\"\n",
       "                 onclick=\"copyToClipboard('positive',\n",
       "                          this.parentElement.nextElementSibling)\"\n",
       "            ></i></td>\n",
       "            <td class=\"param\">positive&nbsp;</td>\n",
       "            <td class=\"value\">False</td>\n",
       "        </tr>\n",
       "    \n",
       "                  </tbody>\n",
       "                </table>\n",
       "            </details>\n",
       "        </div>\n",
       "    </div></div></div></div></div><script>function copyToClipboard(text, element) {\n",
       "    // Get the parameter prefix from the closest toggleable content\n",
       "    const toggleableContent = element.closest('.sk-toggleable__content');\n",
       "    const paramPrefix = toggleableContent ? toggleableContent.dataset.paramPrefix : '';\n",
       "    const fullParamName = paramPrefix ? `${paramPrefix}${text}` : text;\n",
       "\n",
       "    const originalStyle = element.style;\n",
       "    const computedStyle = window.getComputedStyle(element);\n",
       "    const originalWidth = computedStyle.width;\n",
       "    const originalHTML = element.innerHTML.replace('Copied!', '');\n",
       "\n",
       "    navigator.clipboard.writeText(fullParamName)\n",
       "        .then(() => {\n",
       "            element.style.width = originalWidth;\n",
       "            element.style.color = 'green';\n",
       "            element.innerHTML = \"Copied!\";\n",
       "\n",
       "            setTimeout(() => {\n",
       "                element.innerHTML = originalHTML;\n",
       "                element.style = originalStyle;\n",
       "            }, 2000);\n",
       "        })\n",
       "        .catch(err => {\n",
       "            console.error('Failed to copy:', err);\n",
       "            element.style.color = 'red';\n",
       "            element.innerHTML = \"Failed!\";\n",
       "            setTimeout(() => {\n",
       "                element.innerHTML = originalHTML;\n",
       "                element.style = originalStyle;\n",
       "            }, 2000);\n",
       "        });\n",
       "    return false;\n",
       "}\n",
       "\n",
       "document.querySelectorAll('.fa-regular.fa-copy').forEach(function(element) {\n",
       "    const toggleableContent = element.closest('.sk-toggleable__content');\n",
       "    const paramPrefix = toggleableContent ? toggleableContent.dataset.paramPrefix : '';\n",
       "    const paramName = element.parentElement.nextElementSibling.textContent.trim();\n",
       "    const fullParamName = paramPrefix ? `${paramPrefix}${paramName}` : paramName;\n",
       "\n",
       "    element.setAttribute('title', fullParamName);\n",
       "});\n",
       "</script></body>"
      ],
      "text/plain": [
       "LinearRegression()"
      ]
     },
     "execution_count": 87,
     "metadata": {},
     "output_type": "execute_result"
    }
   ],
   "source": [
    "lr.fit(X_train,y_train)"
   ]
  },
  {
   "cell_type": "code",
   "execution_count": 88,
   "id": "192b8934",
   "metadata": {},
   "outputs": [
    {
     "data": {
      "application/vnd.microsoft.datawrangler.viewer.v0+json": {
       "columns": [
        {
         "name": "index",
         "rawType": "int64",
         "type": "integer"
        },
        {
         "name": "cgpa",
         "rawType": "float64",
         "type": "float"
        }
       ],
       "ref": "610d06ba-aece-4cfb-8c83-9ff7c668e726",
       "rows": [
        [
         "26",
         "7.33"
        ],
        [
         "86",
         "7.13"
        ],
        [
         "2",
         "6.54"
        ],
        [
         "55",
         "8.57"
        ],
        [
         "75",
         "8.88"
        ],
        [
         "94",
         "7.3"
        ],
        [
         "16",
         "7.45"
        ],
        [
         "73",
         "6.06"
        ],
        [
         "54",
         "7.19"
        ],
        [
         "96",
         "9.07"
        ],
        [
         "53",
         "6.29"
        ],
        [
         "93",
         "6.25"
        ],
        [
         "78",
         "7.41"
        ],
        [
         "13",
         "9.68"
        ],
        [
         "7",
         "8.3"
        ],
        [
         "30",
         "6.88"
        ],
        [
         "22",
         "7.79"
        ],
        [
         "24",
         "9.71"
        ],
        [
         "33",
         "6.5"
        ],
        [
         "8",
         "7.67"
        ],
        [
         "43",
         "8.05"
        ]
       ],
       "shape": {
        "columns": 1,
        "rows": 21
       }
      },
      "text/html": [
       "<div>\n",
       "<style scoped>\n",
       "    .dataframe tbody tr th:only-of-type {\n",
       "        vertical-align: middle;\n",
       "    }\n",
       "\n",
       "    .dataframe tbody tr th {\n",
       "        vertical-align: top;\n",
       "    }\n",
       "\n",
       "    .dataframe thead th {\n",
       "        text-align: right;\n",
       "    }\n",
       "</style>\n",
       "<table border=\"1\" class=\"dataframe\">\n",
       "  <thead>\n",
       "    <tr style=\"text-align: right;\">\n",
       "      <th></th>\n",
       "      <th>cgpa</th>\n",
       "    </tr>\n",
       "  </thead>\n",
       "  <tbody>\n",
       "    <tr>\n",
       "      <th>26</th>\n",
       "      <td>7.33</td>\n",
       "    </tr>\n",
       "    <tr>\n",
       "      <th>86</th>\n",
       "      <td>7.13</td>\n",
       "    </tr>\n",
       "    <tr>\n",
       "      <th>2</th>\n",
       "      <td>6.54</td>\n",
       "    </tr>\n",
       "    <tr>\n",
       "      <th>55</th>\n",
       "      <td>8.57</td>\n",
       "    </tr>\n",
       "    <tr>\n",
       "      <th>75</th>\n",
       "      <td>8.88</td>\n",
       "    </tr>\n",
       "    <tr>\n",
       "      <th>94</th>\n",
       "      <td>7.30</td>\n",
       "    </tr>\n",
       "    <tr>\n",
       "      <th>16</th>\n",
       "      <td>7.45</td>\n",
       "    </tr>\n",
       "    <tr>\n",
       "      <th>73</th>\n",
       "      <td>6.06</td>\n",
       "    </tr>\n",
       "    <tr>\n",
       "      <th>54</th>\n",
       "      <td>7.19</td>\n",
       "    </tr>\n",
       "    <tr>\n",
       "      <th>96</th>\n",
       "      <td>9.07</td>\n",
       "    </tr>\n",
       "    <tr>\n",
       "      <th>53</th>\n",
       "      <td>6.29</td>\n",
       "    </tr>\n",
       "    <tr>\n",
       "      <th>93</th>\n",
       "      <td>6.25</td>\n",
       "    </tr>\n",
       "    <tr>\n",
       "      <th>78</th>\n",
       "      <td>7.41</td>\n",
       "    </tr>\n",
       "    <tr>\n",
       "      <th>13</th>\n",
       "      <td>9.68</td>\n",
       "    </tr>\n",
       "    <tr>\n",
       "      <th>7</th>\n",
       "      <td>8.30</td>\n",
       "    </tr>\n",
       "    <tr>\n",
       "      <th>30</th>\n",
       "      <td>6.88</td>\n",
       "    </tr>\n",
       "    <tr>\n",
       "      <th>22</th>\n",
       "      <td>7.79</td>\n",
       "    </tr>\n",
       "    <tr>\n",
       "      <th>24</th>\n",
       "      <td>9.71</td>\n",
       "    </tr>\n",
       "    <tr>\n",
       "      <th>33</th>\n",
       "      <td>6.50</td>\n",
       "    </tr>\n",
       "    <tr>\n",
       "      <th>8</th>\n",
       "      <td>7.67</td>\n",
       "    </tr>\n",
       "    <tr>\n",
       "      <th>43</th>\n",
       "      <td>8.05</td>\n",
       "    </tr>\n",
       "  </tbody>\n",
       "</table>\n",
       "</div>"
      ],
      "text/plain": [
       "    cgpa\n",
       "26  7.33\n",
       "86  7.13\n",
       "2   6.54\n",
       "55  8.57\n",
       "75  8.88\n",
       "94  7.30\n",
       "16  7.45\n",
       "73  6.06\n",
       "54  7.19\n",
       "96  9.07\n",
       "53  6.29\n",
       "93  6.25\n",
       "78  7.41\n",
       "13  9.68\n",
       "7   8.30\n",
       "30  6.88\n",
       "22  7.79\n",
       "24  9.71\n",
       "33  6.50\n",
       "8   7.67\n",
       "43  8.05"
      ]
     },
     "execution_count": 88,
     "metadata": {},
     "output_type": "execute_result"
    }
   ],
   "source": [
    "X_test"
   ]
  },
  {
   "cell_type": "code",
   "execution_count": 89,
   "id": "9b32c699",
   "metadata": {},
   "outputs": [
    {
     "data": {
      "application/vnd.microsoft.datawrangler.viewer.v0+json": {
       "columns": [
        {
         "name": "index",
         "rawType": "int64",
         "type": "integer"
        },
        {
         "name": "package",
         "rawType": "float64",
         "type": "float"
        }
       ],
       "ref": "b6620ab9-2bc9-44bc-88dd-acf714723d1c",
       "rows": [
        [
         "26",
         "7.8"
        ],
        [
         "86",
         "7.29"
        ],
        [
         "2",
         "5.14"
        ],
        [
         "55",
         "13.78"
        ],
        [
         "75",
         "14.52"
        ],
        [
         "94",
         "7.68"
        ],
        [
         "16",
         "8.36"
        ],
        [
         "73",
         "2.82"
        ],
        [
         "54",
         "7.36"
        ],
        [
         "96",
         "19.4"
        ],
        [
         "53",
         "4.46"
        ],
        [
         "93",
         "4.32"
        ],
        [
         "78",
         "8.2"
        ],
        [
         "13",
         "23.67"
        ],
        [
         "7",
         "13.45"
        ],
        [
         "30",
         "6.63"
        ],
        [
         "22",
         "9.54"
        ],
        [
         "24",
         "23.51"
        ],
        [
         "33",
         "4.98"
        ],
        [
         "8",
         "8.7"
        ],
        [
         "43",
         "10.72"
        ]
       ],
       "shape": {
        "columns": 1,
        "rows": 21
       }
      },
      "text/plain": [
       "26     7.80\n",
       "86     7.29\n",
       "2      5.14\n",
       "55    13.78\n",
       "75    14.52\n",
       "94     7.68\n",
       "16     8.36\n",
       "73     2.82\n",
       "54     7.36\n",
       "96    19.40\n",
       "53     4.46\n",
       "93     4.32\n",
       "78     8.20\n",
       "13    23.67\n",
       "7     13.45\n",
       "30     6.63\n",
       "22     9.54\n",
       "24    23.51\n",
       "33     4.98\n",
       "8      8.70\n",
       "43    10.72\n",
       "Name: package, dtype: float64"
      ]
     },
     "execution_count": 89,
     "metadata": {},
     "output_type": "execute_result"
    }
   ],
   "source": [
    "y_test"
   ]
  },
  {
   "cell_type": "code",
   "execution_count": 90,
   "id": "7396f28c",
   "metadata": {},
   "outputs": [
    {
     "data": {
      "text/plain": [
       "[<matplotlib.lines.Line2D at 0x1ae53563c50>]"
      ]
     },
     "execution_count": 90,
     "metadata": {},
     "output_type": "execute_result"
    },
    {
     "data": {
      "image/png": "[encoded data removed]",
      "text/plain": [
       "<Figure size 640x480 with 1 Axes>"
      ]
     },
     "metadata": {},
     "output_type": "display_data"
    }
   ],
   "source": [
    "sns.scatterplot(x='cgpa', y='package', data=pls)\n",
    "plt.plot(X_train,lr.predict(X_train),color='purple')"
   ]
  },
  {
   "cell_type": "code",
   "execution_count": 91,
   "id": "01e08d0f",
   "metadata": {},
   "outputs": [
    {
     "name": "stdout",
     "output_type": "stream",
     "text": [
      "value of m is: [5.38549765]\n",
      "value of c is: -31.053012350377823\n"
     ]
    }
   ],
   "source": [
    "m = lr.coef_\n",
    "c = lr.intercept_\n",
    "print('value of m is:',m)\n",
    "print('value of c is:',c)"
   ]
  },
  {
   "cell_type": "code",
   "execution_count": 92,
   "id": "d301e48d",
   "metadata": {},
   "outputs": [
    {
     "data": {
      "text/plain": [
       "array([ 8.42268545,  7.34558591,  4.1681423 , 15.10070253, 16.77020681,\n",
       "        8.26112052,  9.06894516,  1.58310343,  7.66871577, 17.79345136,\n",
       "        2.82176789,  2.60634798,  8.85352526, 21.07860493, 13.64661817,\n",
       "        5.9992115 , 10.90001437, 21.24016986,  3.95272239, 10.25375465,\n",
       "       12.30024376])"
      ]
     },
     "execution_count": 92,
     "metadata": {},
     "output_type": "execute_result"
    }
   ],
   "source": [
    "# y = mx + c\n",
    "\n",
    "y_pred = lr.predict(X_test)\n",
    "y_pred"
   ]
  },
  {
   "cell_type": "code",
   "execution_count": 93,
   "id": "3e34d756",
   "metadata": {},
   "outputs": [
    {
     "name": "stdout",
     "output_type": "stream",
     "text": [
      "[8.42268545]\n",
      "[7.34558591]\n"
     ]
    }
   ],
   "source": [
    "print(m * 7.33 + c)\n",
    "print(m * 7.13 + c)"
   ]
  },
  {
   "cell_type": "code",
   "execution_count": 94,
   "id": "d1fa2b5f",
   "metadata": {},
   "outputs": [
    {
     "name": "stdout",
     "output_type": "stream",
     "text": [
      "MAE: 1.1846950815428048\n",
      "MSE: 1.874157945954488\n",
      "RMSE: 1.3689988845702132\n",
      "R2 Score: 0.9446980754315499\n",
      "RMSE: 0.17341924136868173\n",
      "Adjusted r2 score 0.9417874478226842\n"
     ]
    }
   ],
   "source": [
    "from sklearn.metrics import r2_score,mean_squared_error,mean_absolute_error,mean_squared_log_error\n",
    "print('MAE:',mean_absolute_error(y_test,y_pred))\n",
    "print('MSE:',mean_squared_error(y_test,y_pred))\n",
    "print('RMSE:',np.sqrt(mean_squared_error(y_test,y_pred)))\n",
    "print('R2 Score:',r2_score(y_test,y_pred))\n",
    "print('RMSE:',np.sqrt(mean_squared_log_error(y_test,y_pred)))\n",
    "print('Adjusted r2 score',1-(1-r2_score(y_test,y_pred))*(len(y_test)-1)/(len(y_test)-x.shape[1]-1))"
   ]
  },
  {
   "cell_type": "code",
   "execution_count": 95,
   "id": "4bc13e7b",
   "metadata": {},
   "outputs": [
    {
     "name": "stdout",
     "output_type": "stream",
     "text": [
      "Sample of new_df2 with IQ column:\n",
      "   cgpa     iq  package\n",
      "0  7.85   9.52     9.72\n",
      "1  9.12   7.79     7.89\n",
      "2  6.54   4.14     5.14\n",
      "3  8.99  16.40    15.30\n",
      "4  7.01   7.02     6.62\n"
     ]
    }
   ],
   "source": [
    "# Create new DataFrame and add IQ column\n",
    "new_df2 = pls.copy()  # Replace pls with df (or provide pls if different)\n",
    "n_rows = len(new_df2)  # Dynamically get number of rows\n",
    "new_df2['iq'] = new_df2['package'] + np.round(np.random.randint(-12, 12, n_rows) / 10, 2)  # Round noise to 2 decimals\n",
    "new_df2 = new_df2[['cgpa', 'iq', 'package']]  # Reorder columns\n",
    "\n",
    "# Verify IQ column (check rounding)\n",
    "print(\"Sample of new_df2 with IQ column:\")\n",
    "print(new_df2.head())"
   ]
  },
  {
   "cell_type": "code",
   "execution_count": 96,
   "id": "2a87dc22",
   "metadata": {},
   "outputs": [
    {
     "data": {
      "application/vnd.microsoft.datawrangler.viewer.v0+json": {
       "columns": [
        {
         "name": "index",
         "rawType": "int64",
         "type": "integer"
        },
        {
         "name": "cgpa",
         "rawType": "float64",
         "type": "float"
        },
        {
         "name": "iq",
         "rawType": "float64",
         "type": "float"
        },
        {
         "name": "package",
         "rawType": "float64",
         "type": "float"
        }
       ],
       "ref": "d9c53840-f0a4-4a88-ba05-ffa77f6c9fca",
       "rows": [
        [
         "0",
         "7.85",
         "9.520000000000001",
         "9.72"
        ],
        [
         "1",
         "9.12",
         "7.79",
         "7.89"
        ],
        [
         "2",
         "6.54",
         "4.14",
         "5.14"
        ],
        [
         "3",
         "8.99",
         "16.400000000000002",
         "15.3"
        ],
        [
         "4",
         "7.01",
         "7.0200000000000005",
         "6.62"
        ],
        [
         "5",
         "9.56",
         "21.580000000000002",
         "22.78"
        ],
        [
         "6",
         "6.23",
         "5.09",
         "4.29"
        ],
        [
         "7",
         "8.3",
         "13.35",
         "13.45"
        ],
        [
         "8",
         "7.67",
         "8.399999999999999",
         "8.7"
        ],
        [
         "9",
         "9.34",
         "21.459999999999997",
         "21.56"
        ],
        [
         "10",
         "6.09",
         "2.65",
         "2.85"
        ],
        [
         "11",
         "8.52",
         "13.9",
         "14.1"
        ],
        [
         "12",
         "7.21",
         "8.29",
         "7.39"
        ],
        [
         "13",
         "9.68",
         "22.57",
         "23.67"
        ],
        [
         "14",
         "6.99",
         "7.59",
         "6.59"
        ],
        [
         "15",
         "8.84",
         "15.09",
         "14.49"
        ],
        [
         "16",
         "7.45",
         "9.36",
         "8.36"
        ],
        [
         "17",
         "9.0",
         "7.24",
         "7.84"
        ],
        [
         "18",
         "6.67",
         "5.28",
         "5.88"
        ],
        [
         "19",
         "8.15",
         "11.26",
         "11.76"
        ],
        [
         "20",
         "9.49",
         "22.279999999999998",
         "22.08"
        ],
        [
         "21",
         "6.38",
         "3.63",
         "4.63"
        ],
        [
         "22",
         "7.79",
         "9.639999999999999",
         "9.54"
        ],
        [
         "23",
         "8.93",
         "16.43",
         "15.33"
        ],
        [
         "24",
         "9.71",
         "22.51",
         "23.51"
        ],
        [
         "25",
         "6.03",
         "3.7199999999999998",
         "2.82"
        ],
        [
         "26",
         "7.33",
         "8.0",
         "7.8"
        ],
        [
         "27",
         "8.61",
         "12.91",
         "13.81"
        ],
        [
         "28",
         "9.22",
         "21.560000000000002",
         "20.46"
        ],
        [
         "29",
         "7.1",
         "7.91",
         "6.91"
        ],
        [
         "30",
         "6.88",
         "7.33",
         "6.63"
        ],
        [
         "31",
         "9.59",
         "21.91",
         "22.61"
        ],
        [
         "32",
         "7.96",
         "9.25",
         "10.05"
        ],
        [
         "33",
         "6.5",
         "5.180000000000001",
         "4.98"
        ],
        [
         "34",
         "8.41",
         "13.360000000000001",
         "14.06"
        ],
        [
         "35",
         "9.16",
         "18.900000000000002",
         "19.6"
        ],
        [
         "36",
         "6.15",
         "4.319999999999999",
         "4.02"
        ],
        [
         "37",
         "7.07",
         "7.9799999999999995",
         "7.18"
        ],
        [
         "38",
         "7.6",
         "7.970000000000001",
         "8.47"
        ],
        [
         "39",
         "8.78",
         "14.870000000000001",
         "14.57"
        ],
        [
         "40",
         "9.37",
         "20.59",
         "21.59"
        ],
        [
         "41",
         "6.75",
         "4.99",
         "5.79"
        ],
        [
         "42",
         "7.28",
         "8.22",
         "7.62"
        ],
        [
         "43",
         "8.05",
         "10.020000000000001",
         "10.72"
        ],
        [
         "44",
         "9.81",
         "25.59",
         "24.79"
        ],
        [
         "45",
         "6.42",
         "3.6900000000000004",
         "4.69"
        ],
        [
         "46",
         "7.54",
         "8.84",
         "8.54"
        ],
        [
         "47",
         "8.82",
         "13.61",
         "14.41"
        ],
        [
         "48",
         "9.09",
         "19.34",
         "19.64"
        ],
        [
         "49",
         "6.95",
         "5.26",
         "6.46"
        ]
       ],
       "shape": {
        "columns": 3,
        "rows": 101
       }
      },
      "text/html": [
       "<div>\n",
       "<style scoped>\n",
       "    .dataframe tbody tr th:only-of-type {\n",
       "        vertical-align: middle;\n",
       "    }\n",
       "\n",
       "    .dataframe tbody tr th {\n",
       "        vertical-align: top;\n",
       "    }\n",
       "\n",
       "    .dataframe thead th {\n",
       "        text-align: right;\n",
       "    }\n",
       "</style>\n",
       "<table border=\"1\" class=\"dataframe\">\n",
       "  <thead>\n",
       "    <tr style=\"text-align: right;\">\n",
       "      <th></th>\n",
       "      <th>cgpa</th>\n",
       "      <th>iq</th>\n",
       "      <th>package</th>\n",
       "    </tr>\n",
       "  </thead>\n",
       "  <tbody>\n",
       "    <tr>\n",
       "      <th>0</th>\n",
       "      <td>7.85</td>\n",
       "      <td>9.52</td>\n",
       "      <td>9.72</td>\n",
       "    </tr>\n",
       "    <tr>\n",
       "      <th>1</th>\n",
       "      <td>9.12</td>\n",
       "      <td>7.79</td>\n",
       "      <td>7.89</td>\n",
       "    </tr>\n",
       "    <tr>\n",
       "      <th>2</th>\n",
       "      <td>6.54</td>\n",
       "      <td>4.14</td>\n",
       "      <td>5.14</td>\n",
       "    </tr>\n",
       "    <tr>\n",
       "      <th>3</th>\n",
       "      <td>8.99</td>\n",
       "      <td>16.40</td>\n",
       "      <td>15.30</td>\n",
       "    </tr>\n",
       "    <tr>\n",
       "      <th>4</th>\n",
       "      <td>7.01</td>\n",
       "      <td>7.02</td>\n",
       "      <td>6.62</td>\n",
       "    </tr>\n",
       "    <tr>\n",
       "      <th>...</th>\n",
       "      <td>...</td>\n",
       "      <td>...</td>\n",
       "      <td>...</td>\n",
       "    </tr>\n",
       "    <tr>\n",
       "      <th>96</th>\n",
       "      <td>9.07</td>\n",
       "      <td>19.80</td>\n",
       "      <td>19.40</td>\n",
       "    </tr>\n",
       "    <tr>\n",
       "      <th>97</th>\n",
       "      <td>6.92</td>\n",
       "      <td>7.46</td>\n",
       "      <td>6.36</td>\n",
       "    </tr>\n",
       "    <tr>\n",
       "      <th>98</th>\n",
       "      <td>7.81</td>\n",
       "      <td>9.01</td>\n",
       "      <td>9.61</td>\n",
       "    </tr>\n",
       "    <tr>\n",
       "      <th>99</th>\n",
       "      <td>8.38</td>\n",
       "      <td>13.62</td>\n",
       "      <td>13.62</td>\n",
       "    </tr>\n",
       "    <tr>\n",
       "      <th>100</th>\n",
       "      <td>9.52</td>\n",
       "      <td>22.36</td>\n",
       "      <td>22.46</td>\n",
       "    </tr>\n",
       "  </tbody>\n",
       "</table>\n",
       "<p>101 rows × 3 columns</p>\n",
       "</div>"
      ],
      "text/plain": [
       "     cgpa     iq  package\n",
       "0    7.85   9.52     9.72\n",
       "1    9.12   7.79     7.89\n",
       "2    6.54   4.14     5.14\n",
       "3    8.99  16.40    15.30\n",
       "4    7.01   7.02     6.62\n",
       "..    ...    ...      ...\n",
       "96   9.07  19.80    19.40\n",
       "97   6.92   7.46     6.36\n",
       "98   7.81   9.01     9.61\n",
       "99   8.38  13.62    13.62\n",
       "100  9.52  22.36    22.46\n",
       "\n",
       "[101 rows x 3 columns]"
      ]
     },
     "execution_count": 96,
     "metadata": {},
     "output_type": "execute_result"
    }
   ],
   "source": [
    "new_df2"
   ]
  },
  {
   "cell_type": "code",
   "execution_count": 97,
   "id": "91eb31a3",
   "metadata": {},
   "outputs": [],
   "source": [
    "X2 = new_df2.iloc[:,0:2]\n",
    "y2 = new_df2.iloc[:,-1]"
   ]
  },
  {
   "cell_type": "code",
   "execution_count": 100,
   "id": "4dcd9765",
   "metadata": {},
   "outputs": [],
   "source": [
    "X2_train,X2_test,y2_train,y2_test = train_test_split(X2,y2,test_size=0.2,random_state=2)"
   ]
  },
  {
   "cell_type": "code",
   "execution_count": 101,
   "id": "53d76f97",
   "metadata": {},
   "outputs": [],
   "source": [
    "lr = LinearRegression()\n",
    "lr.fit(X2_train,y2_train)\n",
    "y2_pred = lr.predict(X2_test)"
   ]
  },
  {
   "cell_type": "code",
   "execution_count": 103,
   "id": "8a0c5b09",
   "metadata": {},
   "outputs": [
    {
     "name": "stdout",
     "output_type": "stream",
     "text": [
      "Before random iq\n",
      "MAE 0.7563189395490089\n",
      "MSE 0.7255430598778986\n",
      "RMSE 0.8517881543423216\n",
      "R2 Score 0.985571999236144\n",
      "Adjusted r2 score 0.9848126307748885\n",
      "--------------------------------------------------------------------------------------------------------------------------------------------\n",
      "After random iq\n",
      "MAE 0.7563189395490089\n",
      "MSE 0.7255430598778986\n",
      "RMSE 0.8517881543423216\n",
      "R2 Score 0.985571999236144\n",
      "Adjusted r2 score 0.98396888804016\n"
     ]
    }
   ],
   "source": [
    "print('Before random iq')\n",
    "print(\"MAE\",mean_absolute_error(y_test,y_pred))\n",
    "print(\"MSE\",mean_squared_error(y_test,y_pred))\n",
    "print(\"RMSE\",np.sqrt(mean_squared_error(y_test,y_pred)))\n",
    "print(\"R2 Score\",r2_score(y_test,y_pred))\n",
    "print('Adjusted r2 score',1-(1-r2_score(y_test,y_pred))*(len(y_test)-1)/(len(y_test)-x.shape[1]-1))\n",
    "print('--'*70)\n",
    "print('After random iq')\n",
    "print(\"MAE\",mean_absolute_error(y2_test,y2_pred))\n",
    "print(\"MSE\",mean_squared_error(y2_test,y2_pred))\n",
    "print(\"RMSE\",np.sqrt(mean_squared_error(y2_test,y2_pred)))\n",
    "print(\"R2 Score\",r2_score(y2_test,y2_pred))\n",
    "print('Adjusted r2 score',1-(1-r2_score(y2_test,y2_pred))*(len(y2_test)-1)/(len(y2_test)-X2.shape[1]-1))"
   ]
  }
 ],
 "metadata": {
  "kernelspec": {
   "display_name": ".venv",
   "language": "python",
   "name": "python3"
  },
  "language_info": {
   "codemirror_mode": {
    "name": "ipython",
    "version": 3
   },
   "file_extension": ".py",
   "mimetype": "text/x-python",
   "name": "python",
   "nbconvert_exporter": "python",
   "pygments_lexer": "ipython3",
   "version": "3.13.5"
  }
 },
 "nbformat": 4,
 "nbformat_minor": 5
}
