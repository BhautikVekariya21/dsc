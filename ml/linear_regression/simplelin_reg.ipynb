{
 "cells": [
  {
   "cell_type": "code",
   "execution_count": 2,
   "id": "0e5b1227",
   "metadata": {},
   "outputs": [],
   "source": [
    "import numpy as np\n",
    "import pandas as pd\n",
    "import seaborn as sns\n",
    "import matplotlib.pyplot as plt"
   ]
  },
  {
   "cell_type": "code",
   "execution_count": 26,
   "id": "f978e99d",
   "metadata": {},
   "outputs": [
    {
     "data": {
      "application/vnd.microsoft.datawrangler.viewer.v0+json": {
       "columns": [
        {
         "name": "index",
         "rawType": "int64",
         "type": "integer"
        },
        {
         "name": "cgpa",
         "rawType": "float64",
         "type": "float"
        },
        {
         "name": "package",
         "rawType": "float64",
         "type": "float"
        }
       ],
       "ref": "389119df-d957-4f6d-8df6-abe345565f8f",
       "rows": [
        [
         "0",
         "7.85",
         "9.72"
        ],
        [
         "1",
         "9.12",
         "7.89"
        ],
        [
         "2",
         "6.54",
         "5.14"
        ],
        [
         "3",
         "8.99",
         "15.3"
        ],
        [
         "4",
         "7.01",
         "6.62"
        ],
        [
         "5",
         "9.56",
         "22.78"
        ],
        [
         "6",
         "6.23",
         "4.29"
        ],
        [
         "7",
         "8.3",
         "13.45"
        ],
        [
         "8",
         "7.67",
         "8.7"
        ],
        [
         "9",
         "9.34",
         "21.56"
        ],
        [
         "10",
         "6.09",
         "2.85"
        ],
        [
         "11",
         "8.52",
         "14.1"
        ],
        [
         "12",
         "7.21",
         "7.39"
        ],
        [
         "13",
         "9.68",
         "23.67"
        ],
        [
         "14",
         "6.99",
         "6.59"
        ],
        [
         "15",
         "8.84",
         "14.49"
        ],
        [
         "16",
         "7.45",
         "8.36"
        ],
        [
         "17",
         "9.0",
         "7.84"
        ],
        [
         "18",
         "6.67",
         "5.88"
        ],
        [
         "19",
         "8.15",
         "11.76"
        ],
        [
         "20",
         "9.49",
         "22.08"
        ],
        [
         "21",
         "6.38",
         "4.63"
        ],
        [
         "22",
         "7.79",
         "9.54"
        ],
        [
         "23",
         "8.93",
         "15.33"
        ],
        [
         "24",
         "9.71",
         "23.51"
        ],
        [
         "25",
         "6.03",
         "2.82"
        ],
        [
         "26",
         "7.33",
         "7.8"
        ],
        [
         "27",
         "8.61",
         "13.81"
        ],
        [
         "28",
         "9.22",
         "20.46"
        ],
        [
         "29",
         "7.1",
         "6.91"
        ],
        [
         "30",
         "6.88",
         "6.63"
        ],
        [
         "31",
         "9.59",
         "22.61"
        ],
        [
         "32",
         "7.96",
         "10.05"
        ],
        [
         "33",
         "6.5",
         "4.98"
        ],
        [
         "34",
         "8.41",
         "14.06"
        ],
        [
         "35",
         "9.16",
         "19.6"
        ],
        [
         "36",
         "6.15",
         "4.02"
        ],
        [
         "37",
         "7.07",
         "7.18"
        ],
        [
         "38",
         "7.6",
         "8.47"
        ],
        [
         "39",
         "8.78",
         "14.57"
        ],
        [
         "40",
         "9.37",
         "21.59"
        ],
        [
         "41",
         "6.75",
         "5.79"
        ],
        [
         "42",
         "7.28",
         "7.62"
        ],
        [
         "43",
         "8.05",
         "10.72"
        ],
        [
         "44",
         "9.81",
         "24.79"
        ],
        [
         "45",
         "6.42",
         "4.69"
        ],
        [
         "46",
         "7.54",
         "8.54"
        ],
        [
         "47",
         "8.82",
         "14.41"
        ],
        [
         "48",
         "9.09",
         "19.64"
        ],
        [
         "49",
         "6.95",
         "6.46"
        ]
       ],
       "shape": {
        "columns": 2,
        "rows": 101
       }
      },
      "text/html": [
       "<div>\n",
       "<style scoped>\n",
       "    .dataframe tbody tr th:only-of-type {\n",
       "        vertical-align: middle;\n",
       "    }\n",
       "\n",
       "    .dataframe tbody tr th {\n",
       "        vertical-align: top;\n",
       "    }\n",
       "\n",
       "    .dataframe thead th {\n",
       "        text-align: right;\n",
       "    }\n",
       "</style>\n",
       "<table border=\"1\" class=\"dataframe\">\n",
       "  <thead>\n",
       "    <tr style=\"text-align: right;\">\n",
       "      <th></th>\n",
       "      <th>cgpa</th>\n",
       "      <th>package</th>\n",
       "    </tr>\n",
       "  </thead>\n",
       "  <tbody>\n",
       "    <tr>\n",
       "      <th>0</th>\n",
       "      <td>7.85</td>\n",
       "      <td>9.72</td>\n",
       "    </tr>\n",
       "    <tr>\n",
       "      <th>1</th>\n",
       "      <td>9.12</td>\n",
       "      <td>7.89</td>\n",
       "    </tr>\n",
       "    <tr>\n",
       "      <th>2</th>\n",
       "      <td>6.54</td>\n",
       "      <td>5.14</td>\n",
       "    </tr>\n",
       "    <tr>\n",
       "      <th>3</th>\n",
       "      <td>8.99</td>\n",
       "      <td>15.30</td>\n",
       "    </tr>\n",
       "    <tr>\n",
       "      <th>4</th>\n",
       "      <td>7.01</td>\n",
       "      <td>6.62</td>\n",
       "    </tr>\n",
       "    <tr>\n",
       "      <th>...</th>\n",
       "      <td>...</td>\n",
       "      <td>...</td>\n",
       "    </tr>\n",
       "    <tr>\n",
       "      <th>96</th>\n",
       "      <td>9.07</td>\n",
       "      <td>19.40</td>\n",
       "    </tr>\n",
       "    <tr>\n",
       "      <th>97</th>\n",
       "      <td>6.92</td>\n",
       "      <td>6.36</td>\n",
       "    </tr>\n",
       "    <tr>\n",
       "      <th>98</th>\n",
       "      <td>7.81</td>\n",
       "      <td>9.61</td>\n",
       "    </tr>\n",
       "    <tr>\n",
       "      <th>99</th>\n",
       "      <td>8.38</td>\n",
       "      <td>13.62</td>\n",
       "    </tr>\n",
       "    <tr>\n",
       "      <th>100</th>\n",
       "      <td>9.52</td>\n",
       "      <td>22.46</td>\n",
       "    </tr>\n",
       "  </tbody>\n",
       "</table>\n",
       "<p>101 rows × 2 columns</p>\n",
       "</div>"
      ],
      "text/plain": [
       "     cgpa  package\n",
       "0    7.85     9.72\n",
       "1    9.12     7.89\n",
       "2    6.54     5.14\n",
       "3    8.99    15.30\n",
       "4    7.01     6.62\n",
       "..    ...      ...\n",
       "96   9.07    19.40\n",
       "97   6.92     6.36\n",
       "98   7.81     9.61\n",
       "99   8.38    13.62\n",
       "100  9.52    22.46\n",
       "\n",
       "[101 rows x 2 columns]"
      ]
     },
     "execution_count": 26,
     "metadata": {},
     "output_type": "execute_result"
    }
   ],
   "source": [
    "pls = pd.read_csv('placement.csv')\n",
    "pls"
   ]
  },
  {
   "cell_type": "code",
   "execution_count": 27,
   "id": "d2ebeb15",
   "metadata": {},
   "outputs": [
    {
     "data": {
      "text/plain": [
       "<Axes: xlabel='cgpa', ylabel='package'>"
      ]
     },
     "execution_count": 27,
     "metadata": {},
     "output_type": "execute_result"
    },
    {
     "data": {
      "image/png": "[encoded data removed]",
      "text/plain": [
       "<Figure size 640x480 with 1 Axes>"
      ]
     },
     "metadata": {},
     "output_type": "display_data"
    }
   ],
   "source": [
    "sns.scatterplot(x='cgpa', y='package', data=pls)"
   ]
  },
  {
   "cell_type": "code",
   "execution_count": 28,
   "id": "dd06143a",
   "metadata": {},
   "outputs": [],
   "source": [
    "x = pls.iloc[:,0:1]\n",
    "y = pls.iloc[:,-1]"
   ]
  },
  {
   "cell_type": "code",
   "execution_count": 29,
   "id": "43576ff7",
   "metadata": {},
   "outputs": [
    {
     "data": {
      "application/vnd.microsoft.datawrangler.viewer.v0+json": {
       "columns": [
        {
         "name": "index",
         "rawType": "int64",
         "type": "integer"
        },
        {
         "name": "cgpa",
         "rawType": "float64",
         "type": "float"
        }
       ],
       "ref": "20c9c82b-98e5-471f-9e84-0218b291c81f",
       "rows": [
        [
         "0",
         "7.85"
        ],
        [
         "1",
         "9.12"
        ],
        [
         "2",
         "6.54"
        ],
        [
         "3",
         "8.99"
        ],
        [
         "4",
         "7.01"
        ],
        [
         "5",
         "9.56"
        ],
        [
         "6",
         "6.23"
        ],
        [
         "7",
         "8.3"
        ],
        [
         "8",
         "7.67"
        ],
        [
         "9",
         "9.34"
        ],
        [
         "10",
         "6.09"
        ],
        [
         "11",
         "8.52"
        ],
        [
         "12",
         "7.21"
        ],
        [
         "13",
         "9.68"
        ],
        [
         "14",
         "6.99"
        ],
        [
         "15",
         "8.84"
        ],
        [
         "16",
         "7.45"
        ],
        [
         "17",
         "9.0"
        ],
        [
         "18",
         "6.67"
        ],
        [
         "19",
         "8.15"
        ],
        [
         "20",
         "9.49"
        ],
        [
         "21",
         "6.38"
        ],
        [
         "22",
         "7.79"
        ],
        [
         "23",
         "8.93"
        ],
        [
         "24",
         "9.71"
        ],
        [
         "25",
         "6.03"
        ],
        [
         "26",
         "7.33"
        ],
        [
         "27",
         "8.61"
        ],
        [
         "28",
         "9.22"
        ],
        [
         "29",
         "7.1"
        ],
        [
         "30",
         "6.88"
        ],
        [
         "31",
         "9.59"
        ],
        [
         "32",
         "7.96"
        ],
        [
         "33",
         "6.5"
        ],
        [
         "34",
         "8.41"
        ],
        [
         "35",
         "9.16"
        ],
        [
         "36",
         "6.15"
        ],
        [
         "37",
         "7.07"
        ],
        [
         "38",
         "7.6"
        ],
        [
         "39",
         "8.78"
        ],
        [
         "40",
         "9.37"
        ],
        [
         "41",
         "6.75"
        ],
        [
         "42",
         "7.28"
        ],
        [
         "43",
         "8.05"
        ],
        [
         "44",
         "9.81"
        ],
        [
         "45",
         "6.42"
        ],
        [
         "46",
         "7.54"
        ],
        [
         "47",
         "8.82"
        ],
        [
         "48",
         "9.09"
        ],
        [
         "49",
         "6.95"
        ]
       ],
       "shape": {
        "columns": 1,
        "rows": 101
       }
      },
      "text/html": [
       "<div>\n",
       "<style scoped>\n",
       "    .dataframe tbody tr th:only-of-type {\n",
       "        vertical-align: middle;\n",
       "    }\n",
       "\n",
       "    .dataframe tbody tr th {\n",
       "        vertical-align: top;\n",
       "    }\n",
       "\n",
       "    .dataframe thead th {\n",
       "        text-align: right;\n",
       "    }\n",
       "</style>\n",
       "<table border=\"1\" class=\"dataframe\">\n",
       "  <thead>\n",
       "    <tr style=\"text-align: right;\">\n",
       "      <th></th>\n",
       "      <th>cgpa</th>\n",
       "    </tr>\n",
       "  </thead>\n",
       "  <tbody>\n",
       "    <tr>\n",
       "      <th>0</th>\n",
       "      <td>7.85</td>\n",
       "    </tr>\n",
       "    <tr>\n",
       "      <th>1</th>\n",
       "      <td>9.12</td>\n",
       "    </tr>\n",
       "    <tr>\n",
       "      <th>2</th>\n",
       "      <td>6.54</td>\n",
       "    </tr>\n",
       "    <tr>\n",
       "      <th>3</th>\n",
       "      <td>8.99</td>\n",
       "    </tr>\n",
       "    <tr>\n",
       "      <th>4</th>\n",
       "      <td>7.01</td>\n",
       "    </tr>\n",
       "    <tr>\n",
       "      <th>...</th>\n",
       "      <td>...</td>\n",
       "    </tr>\n",
       "    <tr>\n",
       "      <th>96</th>\n",
       "      <td>9.07</td>\n",
       "    </tr>\n",
       "    <tr>\n",
       "      <th>97</th>\n",
       "      <td>6.92</td>\n",
       "    </tr>\n",
       "    <tr>\n",
       "      <th>98</th>\n",
       "      <td>7.81</td>\n",
       "    </tr>\n",
       "    <tr>\n",
       "      <th>99</th>\n",
       "      <td>8.38</td>\n",
       "    </tr>\n",
       "    <tr>\n",
       "      <th>100</th>\n",
       "      <td>9.52</td>\n",
       "    </tr>\n",
       "  </tbody>\n",
       "</table>\n",
       "<p>101 rows × 1 columns</p>\n",
       "</div>"
      ],
      "text/plain": [
       "     cgpa\n",
       "0    7.85\n",
       "1    9.12\n",
       "2    6.54\n",
       "3    8.99\n",
       "4    7.01\n",
       "..    ...\n",
       "96   9.07\n",
       "97   6.92\n",
       "98   7.81\n",
       "99   8.38\n",
       "100  9.52\n",
       "\n",
       "[101 rows x 1 columns]"
      ]
     },
     "execution_count": 29,
     "metadata": {},
     "output_type": "execute_result"
    }
   ],
   "source": [
    "x"
   ]
  },
  {
   "cell_type": "code",
   "execution_count": 31,
   "id": "85743039",
   "metadata": {},
   "outputs": [
    {
     "data": {
      "application/vnd.microsoft.datawrangler.viewer.v0+json": {
       "columns": [
        {
         "name": "index",
         "rawType": "int64",
         "type": "integer"
        },
        {
         "name": "package",
         "rawType": "float64",
         "type": "float"
        }
       ],
       "ref": "4b0cb2cf-2f1f-4037-b6a4-9f2852c26f41",
       "rows": [
        [
         "0",
         "9.72"
        ],
        [
         "1",
         "7.89"
        ],
        [
         "2",
         "5.14"
        ],
        [
         "3",
         "15.3"
        ],
        [
         "4",
         "6.62"
        ],
        [
         "5",
         "22.78"
        ],
        [
         "6",
         "4.29"
        ],
        [
         "7",
         "13.45"
        ],
        [
         "8",
         "8.7"
        ],
        [
         "9",
         "21.56"
        ],
        [
         "10",
         "2.85"
        ],
        [
         "11",
         "14.1"
        ],
        [
         "12",
         "7.39"
        ],
        [
         "13",
         "23.67"
        ],
        [
         "14",
         "6.59"
        ],
        [
         "15",
         "14.49"
        ],
        [
         "16",
         "8.36"
        ],
        [
         "17",
         "7.84"
        ],
        [
         "18",
         "5.88"
        ],
        [
         "19",
         "11.76"
        ],
        [
         "20",
         "22.08"
        ],
        [
         "21",
         "4.63"
        ],
        [
         "22",
         "9.54"
        ],
        [
         "23",
         "15.33"
        ],
        [
         "24",
         "23.51"
        ],
        [
         "25",
         "2.82"
        ],
        [
         "26",
         "7.8"
        ],
        [
         "27",
         "13.81"
        ],
        [
         "28",
         "20.46"
        ],
        [
         "29",
         "6.91"
        ],
        [
         "30",
         "6.63"
        ],
        [
         "31",
         "22.61"
        ],
        [
         "32",
         "10.05"
        ],
        [
         "33",
         "4.98"
        ],
        [
         "34",
         "14.06"
        ],
        [
         "35",
         "19.6"
        ],
        [
         "36",
         "4.02"
        ],
        [
         "37",
         "7.18"
        ],
        [
         "38",
         "8.47"
        ],
        [
         "39",
         "14.57"
        ],
        [
         "40",
         "21.59"
        ],
        [
         "41",
         "5.79"
        ],
        [
         "42",
         "7.62"
        ],
        [
         "43",
         "10.72"
        ],
        [
         "44",
         "24.79"
        ],
        [
         "45",
         "4.69"
        ],
        [
         "46",
         "8.54"
        ],
        [
         "47",
         "14.41"
        ],
        [
         "48",
         "19.64"
        ],
        [
         "49",
         "6.46"
        ]
       ],
       "shape": {
        "columns": 1,
        "rows": 101
       }
      },
      "text/plain": [
       "0       9.72\n",
       "1       7.89\n",
       "2       5.14\n",
       "3      15.30\n",
       "4       6.62\n",
       "       ...  \n",
       "96     19.40\n",
       "97      6.36\n",
       "98      9.61\n",
       "99     13.62\n",
       "100    22.46\n",
       "Name: package, Length: 101, dtype: float64"
      ]
     },
     "execution_count": 31,
     "metadata": {},
     "output_type": "execute_result"
    }
   ],
   "source": [
    "y"
   ]
  },
  {
   "cell_type": "code",
   "execution_count": 32,
   "id": "ef67d803",
   "metadata": {},
   "outputs": [],
   "source": [
    "from sklearn.linear_model import LinearRegression\n",
    "from sklearn.model_selection import train_test_split\n",
    "\n",
    "X_train,X_test,y_train,y_test = train_test_split(x,y,test_size = 0.2,random_state = 41)"
   ]
  },
  {
   "cell_type": "code",
   "execution_count": 33,
   "id": "1792c0a9",
   "metadata": {},
   "outputs": [],
   "source": [
    "lr = LinearRegression()"
   ]
  },
  {
   "cell_type": "code",
   "execution_count": 34,
   "id": "d0f4b35e",
   "metadata": {},
   "outputs": [
    {
     "data": {
      "text/html": [
       "<style>#sk-container-id-2 {\n",
       "  /* Definition of color scheme common for light and dark mode */\n",
       "  --sklearn-color-text: #000;\n",
       "  --sklearn-color-text-muted: #666;\n",
       "  --sklearn-color-line: gray;\n",
       "  /* Definition of color scheme for unfitted estimators */\n",
       "  --sklearn-color-unfitted-level-0: #fff5e6;\n",
       "  --sklearn-color-unfitted-level-1: #f6e4d2;\n",
       "  --sklearn-color-unfitted-level-2: #ffe0b3;\n",
       "  --sklearn-color-unfitted-level-3: chocolate;\n",
       "  /* Definition of color scheme for fitted estimators */\n",
       "  --sklearn-color-fitted-level-0: #f0f8ff;\n",
       "  --sklearn-color-fitted-level-1: #d4ebff;\n",
       "  --sklearn-color-fitted-level-2: #b3dbfd;\n",
       "  --sklearn-color-fitted-level-3: cornflowerblue;\n",
       "\n",
       "  /* Specific color for light theme */\n",
       "  --sklearn-color-text-on-default-background: var(--sg-text-color, var(--theme-code-foreground, var(--jp-content-font-color1, black)));\n",
       "  --sklearn-color-background: var(--sg-background-color, var(--theme-background, var(--jp-layout-color0, white)));\n",
       "  --sklearn-color-border-box: var(--sg-text-color, var(--theme-code-foreground, var(--jp-content-font-color1, black)));\n",
       "  --sklearn-color-icon: #696969;\n",
       "\n",
       "  @media (prefers-color-scheme: dark) {\n",
       "    /* Redefinition of color scheme for dark theme */\n",
       "    --sklearn-color-text-on-default-background: var(--sg-text-color, var(--theme-code-foreground, var(--jp-content-font-color1, white)));\n",
       "    --sklearn-color-background: var(--sg-background-color, var(--theme-background, var(--jp-layout-color0, #111)));\n",
       "    --sklearn-color-border-box: var(--sg-text-color, var(--theme-code-foreground, var(--jp-content-font-color1, white)));\n",
       "    --sklearn-color-icon: #878787;\n",
       "  }\n",
       "}\n",
       "\n",
       "#sk-container-id-2 {\n",
       "  color: var(--sklearn-color-text);\n",
       "}\n",
       "\n",
       "#sk-container-id-2 pre {\n",
       "  padding: 0;\n",
       "}\n",
       "\n",
       "#sk-container-id-2 input.sk-hidden--visually {\n",
       "  border: 0;\n",
       "  clip: rect(1px 1px 1px 1px);\n",
       "  clip: rect(1px, 1px, 1px, 1px);\n",
       "  height: 1px;\n",
       "  margin: -1px;\n",
       "  overflow: hidden;\n",
       "  padding: 0;\n",
       "  position: absolute;\n",
       "  width: 1px;\n",
       "}\n",
       "\n",
       "#sk-container-id-2 div.sk-dashed-wrapped {\n",
       "  border: 1px dashed var(--sklearn-color-line);\n",
       "  margin: 0 0.4em 0.5em 0.4em;\n",
       "  box-sizing: border-box;\n",
       "  padding-bottom: 0.4em;\n",
       "  background-color: var(--sklearn-color-background);\n",
       "}\n",
       "\n",
       "#sk-container-id-2 div.sk-container {\n",
       "  /* jupyter's `normalize.less` sets `[hidden] { display: none; }`\n",
       "     but bootstrap.min.css set `[hidden] { display: none !important; }`\n",
       "     so we also need the `!important` here to be able to override the\n",
       "     default hidden behavior on the sphinx rendered scikit-learn.org.\n",
       "     See: https://github.com/scikit-learn/scikit-learn/issues/21755 */\n",
       "  display: inline-block !important;\n",
       "  position: relative;\n",
       "}\n",
       "\n",
       "#sk-container-id-2 div.sk-text-repr-fallback {\n",
       "  display: none;\n",
       "}\n",
       "\n",
       "div.sk-parallel-item,\n",
       "div.sk-serial,\n",
       "div.sk-item {\n",
       "  /* draw centered vertical line to link estimators */\n",
       "  background-image: linear-gradient(var(--sklearn-color-text-on-default-background), var(--sklearn-color-text-on-default-background));\n",
       "  background-size: 2px 100%;\n",
       "  background-repeat: no-repeat;\n",
       "  background-position: center center;\n",
       "}\n",
       "\n",
       "/* Parallel-specific style estimator block */\n",
       "\n",
       "#sk-container-id-2 div.sk-parallel-item::after {\n",
       "  content: \"\";\n",
       "  width: 100%;\n",
       "  border-bottom: 2px solid var(--sklearn-color-text-on-default-background);\n",
       "  flex-grow: 1;\n",
       "}\n",
       "\n",
       "#sk-container-id-2 div.sk-parallel {\n",
       "  display: flex;\n",
       "  align-items: stretch;\n",
       "  justify-content: center;\n",
       "  background-color: var(--sklearn-color-background);\n",
       "  position: relative;\n",
       "}\n",
       "\n",
       "#sk-container-id-2 div.sk-parallel-item {\n",
       "  display: flex;\n",
       "  flex-direction: column;\n",
       "}\n",
       "\n",
       "#sk-container-id-2 div.sk-parallel-item:first-child::after {\n",
       "  align-self: flex-end;\n",
       "  width: 50%;\n",
       "}\n",
       "\n",
       "#sk-container-id-2 div.sk-parallel-item:last-child::after {\n",
       "  align-self: flex-start;\n",
       "  width: 50%;\n",
       "}\n",
       "\n",
       "#sk-container-id-2 div.sk-parallel-item:only-child::after {\n",
       "  width: 0;\n",
       "}\n",
       "\n",
       "/* Serial-specific style estimator block */\n",
       "\n",
       "#sk-container-id-2 div.sk-serial {\n",
       "  display: flex;\n",
       "  flex-direction: column;\n",
       "  align-items: center;\n",
       "  background-color: var(--sklearn-color-background);\n",
       "  padding-right: 1em;\n",
       "  padding-left: 1em;\n",
       "}\n",
       "\n",
       "\n",
       "/* Toggleable style: style used for estimator/Pipeline/ColumnTransformer box that is\n",
       "clickable and can be expanded/collapsed.\n",
       "- Pipeline and ColumnTransformer use this feature and define the default style\n",
       "- Estimators will overwrite some part of the style using the `sk-estimator` class\n",
       "*/\n",
       "\n",
       "/* Pipeline and ColumnTransformer style (default) */\n",
       "\n",
       "#sk-container-id-2 div.sk-toggleable {\n",
       "  /* Default theme specific background. It is overwritten whether we have a\n",
       "  specific estimator or a Pipeline/ColumnTransformer */\n",
       "  background-color: var(--sklearn-color-background);\n",
       "}\n",
       "\n",
       "/* Toggleable label */\n",
       "#sk-container-id-2 label.sk-toggleable__label {\n",
       "  cursor: pointer;\n",
       "  display: flex;\n",
       "  width: 100%;\n",
       "  margin-bottom: 0;\n",
       "  padding: 0.5em;\n",
       "  box-sizing: border-box;\n",
       "  text-align: center;\n",
       "  align-items: start;\n",
       "  justify-content: space-between;\n",
       "  gap: 0.5em;\n",
       "}\n",
       "\n",
       "#sk-container-id-2 label.sk-toggleable__label .caption {\n",
       "  font-size: 0.6rem;\n",
       "  font-weight: lighter;\n",
       "  color: var(--sklearn-color-text-muted);\n",
       "}\n",
       "\n",
       "#sk-container-id-2 label.sk-toggleable__label-arrow:before {\n",
       "  /* Arrow on the left of the label */\n",
       "  content: \"▸\";\n",
       "  float: left;\n",
       "  margin-right: 0.25em;\n",
       "  color: var(--sklearn-color-icon);\n",
       "}\n",
       "\n",
       "#sk-container-id-2 label.sk-toggleable__label-arrow:hover:before {\n",
       "  color: var(--sklearn-color-text);\n",
       "}\n",
       "\n",
       "/* Toggleable content - dropdown */\n",
       "\n",
       "#sk-container-id-2 div.sk-toggleable__content {\n",
       "  display: none;\n",
       "  text-align: left;\n",
       "  /* unfitted */\n",
       "  background-color: var(--sklearn-color-unfitted-level-0);\n",
       "}\n",
       "\n",
       "#sk-container-id-2 div.sk-toggleable__content.fitted {\n",
       "  /* fitted */\n",
       "  background-color: var(--sklearn-color-fitted-level-0);\n",
       "}\n",
       "\n",
       "#sk-container-id-2 div.sk-toggleable__content pre {\n",
       "  margin: 0.2em;\n",
       "  border-radius: 0.25em;\n",
       "  color: var(--sklearn-color-text);\n",
       "  /* unfitted */\n",
       "  background-color: var(--sklearn-color-unfitted-level-0);\n",
       "}\n",
       "\n",
       "#sk-container-id-2 div.sk-toggleable__content.fitted pre {\n",
       "  /* unfitted */\n",
       "  background-color: var(--sklearn-color-fitted-level-0);\n",
       "}\n",
       "\n",
       "#sk-container-id-2 input.sk-toggleable__control:checked~div.sk-toggleable__content {\n",
       "  /* Expand drop-down */\n",
       "  display: block;\n",
       "  width: 100%;\n",
       "  overflow: visible;\n",
       "}\n",
       "\n",
       "#sk-container-id-2 input.sk-toggleable__control:checked~label.sk-toggleable__label-arrow:before {\n",
       "  content: \"▾\";\n",
       "}\n",
       "\n",
       "/* Pipeline/ColumnTransformer-specific style */\n",
       "\n",
       "#sk-container-id-2 div.sk-label input.sk-toggleable__control:checked~label.sk-toggleable__label {\n",
       "  color: var(--sklearn-color-text);\n",
       "  background-color: var(--sklearn-color-unfitted-level-2);\n",
       "}\n",
       "\n",
       "#sk-container-id-2 div.sk-label.fitted input.sk-toggleable__control:checked~label.sk-toggleable__label {\n",
       "  background-color: var(--sklearn-color-fitted-level-2);\n",
       "}\n",
       "\n",
       "/* Estimator-specific style */\n",
       "\n",
       "/* Colorize estimator box */\n",
       "#sk-container-id-2 div.sk-estimator input.sk-toggleable__control:checked~label.sk-toggleable__label {\n",
       "  /* unfitted */\n",
       "  background-color: var(--sklearn-color-unfitted-level-2);\n",
       "}\n",
       "\n",
       "#sk-container-id-2 div.sk-estimator.fitted input.sk-toggleable__control:checked~label.sk-toggleable__label {\n",
       "  /* fitted */\n",
       "  background-color: var(--sklearn-color-fitted-level-2);\n",
       "}\n",
       "\n",
       "#sk-container-id-2 div.sk-label label.sk-toggleable__label,\n",
       "#sk-container-id-2 div.sk-label label {\n",
       "  /* The background is the default theme color */\n",
       "  color: var(--sklearn-color-text-on-default-background);\n",
       "}\n",
       "\n",
       "/* On hover, darken the color of the background */\n",
       "#sk-container-id-2 div.sk-label:hover label.sk-toggleable__label {\n",
       "  color: var(--sklearn-color-text);\n",
       "  background-color: var(--sklearn-color-unfitted-level-2);\n",
       "}\n",
       "\n",
       "/* Label box, darken color on hover, fitted */\n",
       "#sk-container-id-2 div.sk-label.fitted:hover label.sk-toggleable__label.fitted {\n",
       "  color: var(--sklearn-color-text);\n",
       "  background-color: var(--sklearn-color-fitted-level-2);\n",
       "}\n",
       "\n",
       "/* Estimator label */\n",
       "\n",
       "#sk-container-id-2 div.sk-label label {\n",
       "  font-family: monospace;\n",
       "  font-weight: bold;\n",
       "  display: inline-block;\n",
       "  line-height: 1.2em;\n",
       "}\n",
       "\n",
       "#sk-container-id-2 div.sk-label-container {\n",
       "  text-align: center;\n",
       "}\n",
       "\n",
       "/* Estimator-specific */\n",
       "#sk-container-id-2 div.sk-estimator {\n",
       "  font-family: monospace;\n",
       "  border: 1px dotted var(--sklearn-color-border-box);\n",
       "  border-radius: 0.25em;\n",
       "  box-sizing: border-box;\n",
       "  margin-bottom: 0.5em;\n",
       "  /* unfitted */\n",
       "  background-color: var(--sklearn-color-unfitted-level-0);\n",
       "}\n",
       "\n",
       "#sk-container-id-2 div.sk-estimator.fitted {\n",
       "  /* fitted */\n",
       "  background-color: var(--sklearn-color-fitted-level-0);\n",
       "}\n",
       "\n",
       "/* on hover */\n",
       "#sk-container-id-2 div.sk-estimator:hover {\n",
       "  /* unfitted */\n",
       "  background-color: var(--sklearn-color-unfitted-level-2);\n",
       "}\n",
       "\n",
       "#sk-container-id-2 div.sk-estimator.fitted:hover {\n",
       "  /* fitted */\n",
       "  background-color: var(--sklearn-color-fitted-level-2);\n",
       "}\n",
       "\n",
       "/* Specification for estimator info (e.g. \"i\" and \"?\") */\n",
       "\n",
       "/* Common style for \"i\" and \"?\" */\n",
       "\n",
       ".sk-estimator-doc-link,\n",
       "a:link.sk-estimator-doc-link,\n",
       "a:visited.sk-estimator-doc-link {\n",
       "  float: right;\n",
       "  font-size: smaller;\n",
       "  line-height: 1em;\n",
       "  font-family: monospace;\n",
       "  background-color: var(--sklearn-color-background);\n",
       "  border-radius: 1em;\n",
       "  height: 1em;\n",
       "  width: 1em;\n",
       "  text-decoration: none !important;\n",
       "  margin-left: 0.5em;\n",
       "  text-align: center;\n",
       "  /* unfitted */\n",
       "  border: var(--sklearn-color-unfitted-level-1) 1pt solid;\n",
       "  color: var(--sklearn-color-unfitted-level-1);\n",
       "}\n",
       "\n",
       ".sk-estimator-doc-link.fitted,\n",
       "a:link.sk-estimator-doc-link.fitted,\n",
       "a:visited.sk-estimator-doc-link.fitted {\n",
       "  /* fitted */\n",
       "  border: var(--sklearn-color-fitted-level-1) 1pt solid;\n",
       "  color: var(--sklearn-color-fitted-level-1);\n",
       "}\n",
       "\n",
       "/* On hover */\n",
       "div.sk-estimator:hover .sk-estimator-doc-link:hover,\n",
       ".sk-estimator-doc-link:hover,\n",
       "div.sk-label-container:hover .sk-estimator-doc-link:hover,\n",
       ".sk-estimator-doc-link:hover {\n",
       "  /* unfitted */\n",
       "  background-color: var(--sklearn-color-unfitted-level-3);\n",
       "  color: var(--sklearn-color-background);\n",
       "  text-decoration: none;\n",
       "}\n",
       "\n",
       "div.sk-estimator.fitted:hover .sk-estimator-doc-link.fitted:hover,\n",
       ".sk-estimator-doc-link.fitted:hover,\n",
       "div.sk-label-container:hover .sk-estimator-doc-link.fitted:hover,\n",
       ".sk-estimator-doc-link.fitted:hover {\n",
       "  /* fitted */\n",
       "  background-color: var(--sklearn-color-fitted-level-3);\n",
       "  color: var(--sklearn-color-background);\n",
       "  text-decoration: none;\n",
       "}\n",
       "\n",
       "/* Span, style for the box shown on hovering the info icon */\n",
       ".sk-estimator-doc-link span {\n",
       "  display: none;\n",
       "  z-index: 9999;\n",
       "  position: relative;\n",
       "  font-weight: normal;\n",
       "  right: .2ex;\n",
       "  padding: .5ex;\n",
       "  margin: .5ex;\n",
       "  width: min-content;\n",
       "  min-width: 20ex;\n",
       "  max-width: 50ex;\n",
       "  color: var(--sklearn-color-text);\n",
       "  box-shadow: 2pt 2pt 4pt #999;\n",
       "  /* unfitted */\n",
       "  background: var(--sklearn-color-unfitted-level-0);\n",
       "  border: .5pt solid var(--sklearn-color-unfitted-level-3);\n",
       "}\n",
       "\n",
       ".sk-estimator-doc-link.fitted span {\n",
       "  /* fitted */\n",
       "  background: var(--sklearn-color-fitted-level-0);\n",
       "  border: var(--sklearn-color-fitted-level-3);\n",
       "}\n",
       "\n",
       ".sk-estimator-doc-link:hover span {\n",
       "  display: block;\n",
       "}\n",
       "\n",
       "/* \"?\"-specific style due to the `<a>` HTML tag */\n",
       "\n",
       "#sk-container-id-2 a.estimator_doc_link {\n",
       "  float: right;\n",
       "  font-size: 1rem;\n",
       "  line-height: 1em;\n",
       "  font-family: monospace;\n",
       "  background-color: var(--sklearn-color-background);\n",
       "  border-radius: 1rem;\n",
       "  height: 1rem;\n",
       "  width: 1rem;\n",
       "  text-decoration: none;\n",
       "  /* unfitted */\n",
       "  color: var(--sklearn-color-unfitted-level-1);\n",
       "  border: var(--sklearn-color-unfitted-level-1) 1pt solid;\n",
       "}\n",
       "\n",
       "#sk-container-id-2 a.estimator_doc_link.fitted {\n",
       "  /* fitted */\n",
       "  border: var(--sklearn-color-fitted-level-1) 1pt solid;\n",
       "  color: var(--sklearn-color-fitted-level-1);\n",
       "}\n",
       "\n",
       "/* On hover */\n",
       "#sk-container-id-2 a.estimator_doc_link:hover {\n",
       "  /* unfitted */\n",
       "  background-color: var(--sklearn-color-unfitted-level-3);\n",
       "  color: var(--sklearn-color-background);\n",
       "  text-decoration: none;\n",
       "}\n",
       "\n",
       "#sk-container-id-2 a.estimator_doc_link.fitted:hover {\n",
       "  /* fitted */\n",
       "  background-color: var(--sklearn-color-fitted-level-3);\n",
       "}\n",
       "\n",
       ".estimator-table summary {\n",
       "    padding: .5rem;\n",
       "    font-family: monospace;\n",
       "    cursor: pointer;\n",
       "}\n",
       "\n",
       ".estimator-table details[open] {\n",
       "    padding-left: 0.1rem;\n",
       "    padding-right: 0.1rem;\n",
       "    padding-bottom: 0.3rem;\n",
       "}\n",
       "\n",
       ".estimator-table .parameters-table {\n",
       "    margin-left: auto !important;\n",
       "    margin-right: auto !important;\n",
       "}\n",
       "\n",
       ".estimator-table .parameters-table tr:nth-child(odd) {\n",
       "    background-color: #fff;\n",
       "}\n",
       "\n",
       ".estimator-table .parameters-table tr:nth-child(even) {\n",
       "    background-color: #f6f6f6;\n",
       "}\n",
       "\n",
       ".estimator-table .parameters-table tr:hover {\n",
       "    background-color: #e0e0e0;\n",
       "}\n",
       "\n",
       ".estimator-table table td {\n",
       "    border: 1px solid rgba(106, 105, 104, 0.232);\n",
       "}\n",
       "\n",
       ".user-set td {\n",
       "    color:rgb(255, 94, 0);\n",
       "    text-align: left;\n",
       "}\n",
       "\n",
       ".user-set td.value pre {\n",
       "    color:rgb(255, 94, 0) !important;\n",
       "    background-color: transparent !important;\n",
       "}\n",
       "\n",
       ".default td {\n",
       "    color: black;\n",
       "    text-align: left;\n",
       "}\n",
       "\n",
       ".user-set td i,\n",
       ".default td i {\n",
       "    color: black;\n",
       "}\n",
       "\n",
       ".copy-paste-icon {\n",
       "    background-image: url(data:image/svg+xml;base64,PHN2ZyB4bWxucz0iaHR0cDovL3d3dy53My5vcmcvMjAwMC9zdmciIHZpZXdCb3g9IjAgMCA0NDggNTEyIj48IS0tIUZvbnQgQXdlc29tZSBGcmVlIDYuNy4yIGJ5IEBmb250YXdlc29tZSAtIGh0dHBzOi8vZm9udGF3ZXNvbWUuY29tIExpY2Vuc2UgLSBodHRwczovL2ZvbnRhd2Vzb21lLmNvbS9saWNlbnNlL2ZyZWUgQ29weXJpZ2h0IDIwMjUgRm9udGljb25zLCBJbmMuLS0+PHBhdGggZD0iTTIwOCAwTDMzMi4xIDBjMTIuNyAwIDI0LjkgNS4xIDMzLjkgMTQuMWw2Ny45IDY3LjljOSA5IDE0LjEgMjEuMiAxNC4xIDMzLjlMNDQ4IDMzNmMwIDI2LjUtMjEuNSA0OC00OCA0OGwtMTkyIDBjLTI2LjUgMC00OC0yMS41LTQ4LTQ4bDAtMjg4YzAtMjYuNSAyMS41LTQ4IDQ4LTQ4ek00OCAxMjhsODAgMCAwIDY0LTY0IDAgMCAyNTYgMTkyIDAgMC0zMiA2NCAwIDAgNDhjMCAyNi41LTIxLjUgNDgtNDggNDhMNDggNTEyYy0yNi41IDAtNDgtMjEuNS00OC00OEwwIDE3NmMwLTI2LjUgMjEuNS00OCA0OC00OHoiLz48L3N2Zz4=);\n",
       "    background-repeat: no-repeat;\n",
       "    background-size: 14px 14px;\n",
       "    background-position: 0;\n",
       "    display: inline-block;\n",
       "    width: 14px;\n",
       "    height: 14px;\n",
       "    cursor: pointer;\n",
       "}\n",
       "</style><body><div id=\"sk-container-id-2\" class=\"sk-top-container\"><div class=\"sk-text-repr-fallback\"><pre>LinearRegression()</pre><b>In a Jupyter environment, please rerun this cell to show the HTML representation or trust the notebook. <br />On GitHub, the HTML representation is unable to render, please try loading this page with nbviewer.org.</b></div><div class=\"sk-container\" hidden><div class=\"sk-item\"><div class=\"sk-estimator fitted sk-toggleable\"><input class=\"sk-toggleable__control sk-hidden--visually\" id=\"sk-estimator-id-2\" type=\"checkbox\" checked><label for=\"sk-estimator-id-2\" class=\"sk-toggleable__label fitted sk-toggleable__label-arrow\"><div><div>LinearRegression</div></div><div><a class=\"sk-estimator-doc-link fitted\" rel=\"noreferrer\" target=\"_blank\" href=\"https://scikit-learn.org/1.7/modules/generated/sklearn.linear_model.LinearRegression.html\">?<span>Documentation for LinearRegression</span></a><span class=\"sk-estimator-doc-link fitted\">i<span>Fitted</span></span></div></label><div class=\"sk-toggleable__content fitted\" data-param-prefix=\"\">\n",
       "        <div class=\"estimator-table\">\n",
       "            <details>\n",
       "                <summary>Parameters</summary>\n",
       "                <table class=\"parameters-table\">\n",
       "                  <tbody>\n",
       "                    \n",
       "        <tr class=\"default\">\n",
       "            <td><i class=\"copy-paste-icon\"\n",
       "                 onclick=\"copyToClipboard('fit_intercept',\n",
       "                          this.parentElement.nextElementSibling)\"\n",
       "            ></i></td>\n",
       "            <td class=\"param\">fit_intercept&nbsp;</td>\n",
       "            <td class=\"value\">True</td>\n",
       "        </tr>\n",
       "    \n",
       "\n",
       "        <tr class=\"default\">\n",
       "            <td><i class=\"copy-paste-icon\"\n",
       "                 onclick=\"copyToClipboard('copy_X',\n",
       "                          this.parentElement.nextElementSibling)\"\n",
       "            ></i></td>\n",
       "            <td class=\"param\">copy_X&nbsp;</td>\n",
       "            <td class=\"value\">True</td>\n",
       "        </tr>\n",
       "    \n",
       "\n",
       "        <tr class=\"default\">\n",
       "            <td><i class=\"copy-paste-icon\"\n",
       "                 onclick=\"copyToClipboard('tol',\n",
       "                          this.parentElement.nextElementSibling)\"\n",
       "            ></i></td>\n",
       "            <td class=\"param\">tol&nbsp;</td>\n",
       "            <td class=\"value\">1e-06</td>\n",
       "        </tr>\n",
       "    \n",
       "\n",
       "        <tr class=\"default\">\n",
       "            <td><i class=\"copy-paste-icon\"\n",
       "                 onclick=\"copyToClipboard('n_jobs',\n",
       "                          this.parentElement.nextElementSibling)\"\n",
       "            ></i></td>\n",
       "            <td class=\"param\">n_jobs&nbsp;</td>\n",
       "            <td class=\"value\">None</td>\n",
       "        </tr>\n",
       "    \n",
       "\n",
       "        <tr class=\"default\">\n",
       "            <td><i class=\"copy-paste-icon\"\n",
       "                 onclick=\"copyToClipboard('positive',\n",
       "                          this.parentElement.nextElementSibling)\"\n",
       "            ></i></td>\n",
       "            <td class=\"param\">positive&nbsp;</td>\n",
       "            <td class=\"value\">False</td>\n",
       "        </tr>\n",
       "    \n",
       "                  </tbody>\n",
       "                </table>\n",
       "            </details>\n",
       "        </div>\n",
       "    </div></div></div></div></div><script>function copyToClipboard(text, element) {\n",
       "    // Get the parameter prefix from the closest toggleable content\n",
       "    const toggleableContent = element.closest('.sk-toggleable__content');\n",
       "    const paramPrefix = toggleableContent ? toggleableContent.dataset.paramPrefix : '';\n",
       "    const fullParamName = paramPrefix ? `${paramPrefix}${text}` : text;\n",
       "\n",
       "    const originalStyle = element.style;\n",
       "    const computedStyle = window.getComputedStyle(element);\n",
       "    const originalWidth = computedStyle.width;\n",
       "    const originalHTML = element.innerHTML.replace('Copied!', '');\n",
       "\n",
       "    navigator.clipboard.writeText(fullParamName)\n",
       "        .then(() => {\n",
       "            element.style.width = originalWidth;\n",
       "            element.style.color = 'green';\n",
       "            element.innerHTML = \"Copied!\";\n",
       "\n",
       "            setTimeout(() => {\n",
       "                element.innerHTML = originalHTML;\n",
       "                element.style = originalStyle;\n",
       "            }, 2000);\n",
       "        })\n",
       "        .catch(err => {\n",
       "            console.error('Failed to copy:', err);\n",
       "            element.style.color = 'red';\n",
       "            element.innerHTML = \"Failed!\";\n",
       "            setTimeout(() => {\n",
       "                element.innerHTML = originalHTML;\n",
       "                element.style = originalStyle;\n",
       "            }, 2000);\n",
       "        });\n",
       "    return false;\n",
       "}\n",
       "\n",
       "document.querySelectorAll('.fa-regular.fa-copy').forEach(function(element) {\n",
       "    const toggleableContent = element.closest('.sk-toggleable__content');\n",
       "    const paramPrefix = toggleableContent ? toggleableContent.dataset.paramPrefix : '';\n",
       "    const paramName = element.parentElement.nextElementSibling.textContent.trim();\n",
       "    const fullParamName = paramPrefix ? `${paramPrefix}${paramName}` : paramName;\n",
       "\n",
       "    element.setAttribute('title', fullParamName);\n",
       "});\n",
       "</script></body>"
      ],
      "text/plain": [
       "LinearRegression()"
      ]
     },
     "execution_count": 34,
     "metadata": {},
     "output_type": "execute_result"
    }
   ],
   "source": [
    "lr.fit(X_train,y_train)"
   ]
  },
  {
   "cell_type": "code",
   "execution_count": 46,
   "id": "192b8934",
   "metadata": {},
   "outputs": [
    {
     "data": {
      "application/vnd.microsoft.datawrangler.viewer.v0+json": {
       "columns": [
        {
         "name": "index",
         "rawType": "int64",
         "type": "integer"
        },
        {
         "name": "cgpa",
         "rawType": "float64",
         "type": "float"
        }
       ],
       "ref": "11dbe1bb-0f06-474a-bad5-f90d04b72104",
       "rows": [
        [
         "90",
         "7.93"
        ],
        [
         "68",
         "9.66"
        ],
        [
         "6",
         "6.23"
        ],
        [
         "62",
         "7.37"
        ],
        [
         "0",
         "7.85"
        ],
        [
         "40",
         "9.37"
        ],
        [
         "49",
         "6.95"
        ],
        [
         "94",
         "7.3"
        ],
        [
         "60",
         "9.77"
        ],
        [
         "63",
         "8.69"
        ],
        [
         "69",
         "6.45"
        ],
        [
         "32",
         "7.96"
        ],
        [
         "27",
         "8.61"
        ],
        [
         "25",
         "6.03"
        ],
        [
         "48",
         "9.09"
        ],
        [
         "2",
         "6.54"
        ],
        [
         "33",
         "6.5"
        ],
        [
         "97",
         "6.92"
        ],
        [
         "37",
         "7.07"
        ],
        [
         "16",
         "7.45"
        ],
        [
         "79",
         "8.5"
        ]
       ],
       "shape": {
        "columns": 1,
        "rows": 21
       }
      },
      "text/html": [
       "<div>\n",
       "<style scoped>\n",
       "    .dataframe tbody tr th:only-of-type {\n",
       "        vertical-align: middle;\n",
       "    }\n",
       "\n",
       "    .dataframe tbody tr th {\n",
       "        vertical-align: top;\n",
       "    }\n",
       "\n",
       "    .dataframe thead th {\n",
       "        text-align: right;\n",
       "    }\n",
       "</style>\n",
       "<table border=\"1\" class=\"dataframe\">\n",
       "  <thead>\n",
       "    <tr style=\"text-align: right;\">\n",
       "      <th></th>\n",
       "      <th>cgpa</th>\n",
       "    </tr>\n",
       "  </thead>\n",
       "  <tbody>\n",
       "    <tr>\n",
       "      <th>90</th>\n",
       "      <td>7.93</td>\n",
       "    </tr>\n",
       "    <tr>\n",
       "      <th>68</th>\n",
       "      <td>9.66</td>\n",
       "    </tr>\n",
       "    <tr>\n",
       "      <th>6</th>\n",
       "      <td>6.23</td>\n",
       "    </tr>\n",
       "    <tr>\n",
       "      <th>62</th>\n",
       "      <td>7.37</td>\n",
       "    </tr>\n",
       "    <tr>\n",
       "      <th>0</th>\n",
       "      <td>7.85</td>\n",
       "    </tr>\n",
       "    <tr>\n",
       "      <th>40</th>\n",
       "      <td>9.37</td>\n",
       "    </tr>\n",
       "    <tr>\n",
       "      <th>49</th>\n",
       "      <td>6.95</td>\n",
       "    </tr>\n",
       "    <tr>\n",
       "      <th>94</th>\n",
       "      <td>7.30</td>\n",
       "    </tr>\n",
       "    <tr>\n",
       "      <th>60</th>\n",
       "      <td>9.77</td>\n",
       "    </tr>\n",
       "    <tr>\n",
       "      <th>63</th>\n",
       "      <td>8.69</td>\n",
       "    </tr>\n",
       "    <tr>\n",
       "      <th>69</th>\n",
       "      <td>6.45</td>\n",
       "    </tr>\n",
       "    <tr>\n",
       "      <th>32</th>\n",
       "      <td>7.96</td>\n",
       "    </tr>\n",
       "    <tr>\n",
       "      <th>27</th>\n",
       "      <td>8.61</td>\n",
       "    </tr>\n",
       "    <tr>\n",
       "      <th>25</th>\n",
       "      <td>6.03</td>\n",
       "    </tr>\n",
       "    <tr>\n",
       "      <th>48</th>\n",
       "      <td>9.09</td>\n",
       "    </tr>\n",
       "    <tr>\n",
       "      <th>2</th>\n",
       "      <td>6.54</td>\n",
       "    </tr>\n",
       "    <tr>\n",
       "      <th>33</th>\n",
       "      <td>6.50</td>\n",
       "    </tr>\n",
       "    <tr>\n",
       "      <th>97</th>\n",
       "      <td>6.92</td>\n",
       "    </tr>\n",
       "    <tr>\n",
       "      <th>37</th>\n",
       "      <td>7.07</td>\n",
       "    </tr>\n",
       "    <tr>\n",
       "      <th>16</th>\n",
       "      <td>7.45</td>\n",
       "    </tr>\n",
       "    <tr>\n",
       "      <th>79</th>\n",
       "      <td>8.50</td>\n",
       "    </tr>\n",
       "  </tbody>\n",
       "</table>\n",
       "</div>"
      ],
      "text/plain": [
       "    cgpa\n",
       "90  7.93\n",
       "68  9.66\n",
       "6   6.23\n",
       "62  7.37\n",
       "0   7.85\n",
       "40  9.37\n",
       "49  6.95\n",
       "94  7.30\n",
       "60  9.77\n",
       "63  8.69\n",
       "69  6.45\n",
       "32  7.96\n",
       "27  8.61\n",
       "25  6.03\n",
       "48  9.09\n",
       "2   6.54\n",
       "33  6.50\n",
       "97  6.92\n",
       "37  7.07\n",
       "16  7.45\n",
       "79  8.50"
      ]
     },
     "execution_count": 46,
     "metadata": {},
     "output_type": "execute_result"
    }
   ],
   "source": [
    "X_test"
   ]
  },
  {
   "cell_type": "code",
   "execution_count": 12,
   "id": "9b32c699",
   "metadata": {},
   "outputs": [
    {
     "data": {
      "application/vnd.microsoft.datawrangler.viewer.v0+json": {
       "columns": [
        {
         "name": "index",
         "rawType": "int64",
         "type": "integer"
        },
        {
         "name": "package",
         "rawType": "float64",
         "type": "float"
        }
       ],
       "ref": "ab383dfa-187b-45b9-87c1-318cbf179bfc",
       "rows": [
        [
         "90",
         "9.96"
        ],
        [
         "68",
         "23.4"
        ],
        [
         "6",
         "4.29"
        ],
        [
         "62",
         "7.95"
        ],
        [
         "0",
         "9.72"
        ],
        [
         "40",
         "21.59"
        ],
        [
         "49",
         "6.46"
        ],
        [
         "94",
         "7.68"
        ],
        [
         "60",
         "24.09"
        ],
        [
         "63",
         "13.89"
        ],
        [
         "69",
         "4.72"
        ],
        [
         "32",
         "10.05"
        ],
        [
         "27",
         "13.81"
        ],
        [
         "25",
         "2.82"
        ],
        [
         "48",
         "19.64"
        ],
        [
         "2",
         "5.14"
        ],
        [
         "33",
         "4.98"
        ],
        [
         "97",
         "6.36"
        ],
        [
         "37",
         "7.18"
        ],
        [
         "16",
         "8.36"
        ],
        [
         "79",
         "13.73"
        ]
       ],
       "shape": {
        "columns": 1,
        "rows": 21
       }
      },
      "text/plain": [
       "90     9.96\n",
       "68    23.40\n",
       "6      4.29\n",
       "62     7.95\n",
       "0      9.72\n",
       "40    21.59\n",
       "49     6.46\n",
       "94     7.68\n",
       "60    24.09\n",
       "63    13.89\n",
       "69     4.72\n",
       "32    10.05\n",
       "27    13.81\n",
       "25     2.82\n",
       "48    19.64\n",
       "2      5.14\n",
       "33     4.98\n",
       "97     6.36\n",
       "37     7.18\n",
       "16     8.36\n",
       "79    13.73\n",
       "Name: package, dtype: float64"
      ]
     },
     "execution_count": 12,
     "metadata": {},
     "output_type": "execute_result"
    }
   ],
   "source": [
    "y_test"
   ]
  },
  {
   "cell_type": "code",
   "execution_count": 36,
   "id": "7396f28c",
   "metadata": {},
   "outputs": [
    {
     "data": {
      "text/plain": [
       "[<matplotlib.lines.Line2D at 0x21c7ed4e0d0>]"
      ]
     },
     "execution_count": 36,
     "metadata": {},
     "output_type": "execute_result"
    },
    {
     "data": {
      "image/png": "[encoded data removed]",
      "text/plain": [
       "<Figure size 640x480 with 1 Axes>"
      ]
     },
     "metadata": {},
     "output_type": "display_data"
    }
   ],
   "source": [
    "sns.scatterplot(x='cgpa', y='package', data=pls)\n",
    "plt.plot(X_train,lr.predict(X_train),color='purple')"
   ]
  },
  {
   "cell_type": "code",
   "execution_count": 14,
   "id": "01e08d0f",
   "metadata": {},
   "outputs": [
    {
     "name": "stdout",
     "output_type": "stream",
     "text": [
      "value of m is: [5.35231358]\n",
      "value of c is: -30.807027789725762\n"
     ]
    }
   ],
   "source": [
    "m = lr.coef_\n",
    "c = lr.intercept_\n",
    "print('value of m is:',m)\n",
    "print('value of c is:',c)"
   ]
  },
  {
   "cell_type": "code",
   "execution_count": 15,
   "id": "d301e48d",
   "metadata": {},
   "outputs": [
    {
     "data": {
      "text/plain": [
       "array([11.6368189 , 20.89632139,  2.53788581,  8.6395233 , 11.20863381,\n",
       "       19.34415046,  6.39155159,  8.26486134, 21.48507589, 15.70457722,\n",
       "        3.7153948 , 11.79738831, 15.27639213,  1.4674231 , 17.84550265,\n",
       "        4.19710302,  3.98301048,  6.23098218,  7.03382922,  9.06770838,\n",
       "       14.68763764])"
      ]
     },
     "execution_count": 15,
     "metadata": {},
     "output_type": "execute_result"
    }
   ],
   "source": [
    "# y = mx + c\n",
    "\n",
    "y_pred = lr.predict(X_test)\n",
    "y_pred"
   ]
  },
  {
   "cell_type": "code",
   "execution_count": 16,
   "id": "3e34d756",
   "metadata": {},
   "outputs": [
    {
     "name": "stdout",
     "output_type": "stream",
     "text": [
      "[11.6368189]\n",
      "[20.89632139]\n"
     ]
    }
   ],
   "source": [
    "print(m * 7.93 + c)\n",
    "print(m * 9.66 + c)"
   ]
  },
  {
   "cell_type": "code",
   "execution_count": 17,
   "id": "d1fa2b5f",
   "metadata": {},
   "outputs": [
    {
     "name": "stdout",
     "output_type": "stream",
     "text": [
      "MAE: 1.2702528778448223\n",
      "MSE: 2.13866558563387\n",
      "RMSE: 1.4624177192696586\n",
      "R2 Score: 0.9467826372440624\n",
      "RMSE: 0.16830236562704057\n",
      "Adjusted r2 score 0.9439817234148026\n"
     ]
    }
   ],
   "source": [
    "from sklearn.metrics import r2_score,mean_squared_error,mean_absolute_error,mean_squared_log_error\n",
    "print('MAE:',mean_absolute_error(y_test,y_pred))\n",
    "print('MSE:',mean_squared_error(y_test,y_pred))\n",
    "print('RMSE:',np.sqrt(mean_squared_error(y_test,y_pred)))\n",
    "print('R2 Score:',r2_score(y_test,y_pred))\n",
    "print('RMSE:',np.sqrt(mean_squared_log_error(y_test,y_pred)))\n",
    "print('Adjusted r2 score',1-(1-r2_score(y_test,y_pred))*(len(y_test)-1)/(len(y_test)-x.shape[1]-1))"
   ]
  },
  {
   "cell_type": "code",
   "execution_count": 18,
   "id": "4bc13e7b",
   "metadata": {},
   "outputs": [
    {
     "name": "stdout",
     "output_type": "stream",
     "text": [
      "Sample of new_df2 with IQ column:\n",
      "   cgpa     iq  package\n",
      "0  7.85   9.22     9.72\n",
      "1  9.12   7.39     7.89\n",
      "2  6.54   5.14     5.14\n",
      "3  8.99  15.80    15.30\n",
      "4  7.01   6.42     6.62\n"
     ]
    }
   ],
   "source": [
    "# Create new DataFrame and add IQ column\n",
    "new_df2 = pls.copy()  # Replace pls with df (or provide pls if different)\n",
    "n_rows = len(new_df2)  # Dynamically get number of rows\n",
    "new_df2['iq'] = new_df2['package'] + np.round(np.random.randint(-12, 12, n_rows) / 10, 2)  # Round noise to 2 decimals\n",
    "new_df2 = new_df2[['cgpa', 'iq', 'package']]  # Reorder columns\n",
    "\n",
    "# Verify IQ column (check rounding)\n",
    "print(\"Sample of new_df2 with IQ column:\")\n",
    "print(new_df2.head())"
   ]
  },
  {
   "cell_type": "code",
   "execution_count": 19,
   "id": "2a87dc22",
   "metadata": {},
   "outputs": [
    {
     "data": {
      "application/vnd.microsoft.datawrangler.viewer.v0+json": {
       "columns": [
        {
         "name": "index",
         "rawType": "int64",
         "type": "integer"
        },
        {
         "name": "cgpa",
         "rawType": "float64",
         "type": "float"
        },
        {
         "name": "iq",
         "rawType": "float64",
         "type": "float"
        },
        {
         "name": "package",
         "rawType": "float64",
         "type": "float"
        }
       ],
       "ref": "6e3fa9f6-51be-44c7-b9c7-1d848c739aea",
       "rows": [
        [
         "0",
         "7.85",
         "9.22",
         "9.72"
        ],
        [
         "1",
         "9.12",
         "7.39",
         "7.89"
        ],
        [
         "2",
         "6.54",
         "5.14",
         "5.14"
        ],
        [
         "3",
         "8.99",
         "15.8",
         "15.3"
        ],
        [
         "4",
         "7.01",
         "6.42",
         "6.62"
        ],
        [
         "5",
         "9.56",
         "21.68",
         "22.78"
        ],
        [
         "6",
         "6.23",
         "3.89",
         "4.29"
        ],
        [
         "7",
         "8.3",
         "12.45",
         "13.45"
        ],
        [
         "8",
         "7.67",
         "8.299999999999999",
         "8.7"
        ],
        [
         "9",
         "9.34",
         "20.66",
         "21.56"
        ],
        [
         "10",
         "6.09",
         "3.0500000000000003",
         "2.85"
        ],
        [
         "11",
         "8.52",
         "14.4",
         "14.1"
        ],
        [
         "12",
         "7.21",
         "7.59",
         "7.39"
        ],
        [
         "13",
         "9.68",
         "23.07",
         "23.67"
        ],
        [
         "14",
         "6.99",
         "6.59",
         "6.59"
        ],
        [
         "15",
         "8.84",
         "13.790000000000001",
         "14.49"
        ],
        [
         "16",
         "7.45",
         "9.26",
         "8.36"
        ],
        [
         "17",
         "9.0",
         "6.84",
         "7.84"
        ],
        [
         "18",
         "6.67",
         "5.28",
         "5.88"
        ],
        [
         "19",
         "8.15",
         "11.26",
         "11.76"
        ],
        [
         "20",
         "9.49",
         "20.979999999999997",
         "22.08"
        ],
        [
         "21",
         "6.38",
         "4.43",
         "4.63"
        ],
        [
         "22",
         "7.79",
         "10.139999999999999",
         "9.54"
        ],
        [
         "23",
         "8.93",
         "15.73",
         "15.33"
        ],
        [
         "24",
         "9.71",
         "22.51",
         "23.51"
        ],
        [
         "25",
         "6.03",
         "3.32",
         "2.82"
        ],
        [
         "26",
         "7.33",
         "7.3",
         "7.8"
        ],
        [
         "27",
         "8.61",
         "12.91",
         "13.81"
        ],
        [
         "28",
         "9.22",
         "19.46",
         "20.46"
        ],
        [
         "29",
         "7.1",
         "6.91",
         "6.91"
        ],
        [
         "30",
         "6.88",
         "6.43",
         "6.63"
        ],
        [
         "31",
         "9.59",
         "22.009999999999998",
         "22.61"
        ],
        [
         "32",
         "7.96",
         "10.15",
         "10.05"
        ],
        [
         "33",
         "6.5",
         "4.48",
         "4.98"
        ],
        [
         "34",
         "8.41",
         "13.860000000000001",
         "14.06"
        ],
        [
         "35",
         "9.16",
         "20.400000000000002",
         "19.6"
        ],
        [
         "36",
         "6.15",
         "3.9199999999999995",
         "4.02"
        ],
        [
         "37",
         "7.07",
         "7.58",
         "7.18"
        ],
        [
         "38",
         "7.6",
         "8.270000000000001",
         "8.47"
        ],
        [
         "39",
         "8.78",
         "15.47",
         "14.57"
        ],
        [
         "40",
         "9.37",
         "21.99",
         "21.59"
        ],
        [
         "41",
         "6.75",
         "5.19",
         "5.79"
        ],
        [
         "42",
         "7.28",
         "7.92",
         "7.62"
        ],
        [
         "43",
         "8.05",
         "11.82",
         "10.72"
        ],
        [
         "44",
         "9.81",
         "23.689999999999998",
         "24.79"
        ],
        [
         "45",
         "6.42",
         "4.29",
         "4.69"
        ],
        [
         "46",
         "7.54",
         "9.44",
         "8.54"
        ],
        [
         "47",
         "8.82",
         "13.21",
         "14.41"
        ],
        [
         "48",
         "9.09",
         "18.84",
         "19.64"
        ],
        [
         "49",
         "6.95",
         "7.46",
         "6.46"
        ]
       ],
       "shape": {
        "columns": 3,
        "rows": 101
       }
      },
      "text/html": [
       "<div>\n",
       "<style scoped>\n",
       "    .dataframe tbody tr th:only-of-type {\n",
       "        vertical-align: middle;\n",
       "    }\n",
       "\n",
       "    .dataframe tbody tr th {\n",
       "        vertical-align: top;\n",
       "    }\n",
       "\n",
       "    .dataframe thead th {\n",
       "        text-align: right;\n",
       "    }\n",
       "</style>\n",
       "<table border=\"1\" class=\"dataframe\">\n",
       "  <thead>\n",
       "    <tr style=\"text-align: right;\">\n",
       "      <th></th>\n",
       "      <th>cgpa</th>\n",
       "      <th>iq</th>\n",
       "      <th>package</th>\n",
       "    </tr>\n",
       "  </thead>\n",
       "  <tbody>\n",
       "    <tr>\n",
       "      <th>0</th>\n",
       "      <td>7.85</td>\n",
       "      <td>9.22</td>\n",
       "      <td>9.72</td>\n",
       "    </tr>\n",
       "    <tr>\n",
       "      <th>1</th>\n",
       "      <td>9.12</td>\n",
       "      <td>7.39</td>\n",
       "      <td>7.89</td>\n",
       "    </tr>\n",
       "    <tr>\n",
       "      <th>2</th>\n",
       "      <td>6.54</td>\n",
       "      <td>5.14</td>\n",
       "      <td>5.14</td>\n",
       "    </tr>\n",
       "    <tr>\n",
       "      <th>3</th>\n",
       "      <td>8.99</td>\n",
       "      <td>15.80</td>\n",
       "      <td>15.30</td>\n",
       "    </tr>\n",
       "    <tr>\n",
       "      <th>4</th>\n",
       "      <td>7.01</td>\n",
       "      <td>6.42</td>\n",
       "      <td>6.62</td>\n",
       "    </tr>\n",
       "    <tr>\n",
       "      <th>...</th>\n",
       "      <td>...</td>\n",
       "      <td>...</td>\n",
       "      <td>...</td>\n",
       "    </tr>\n",
       "    <tr>\n",
       "      <th>96</th>\n",
       "      <td>9.07</td>\n",
       "      <td>20.20</td>\n",
       "      <td>19.40</td>\n",
       "    </tr>\n",
       "    <tr>\n",
       "      <th>97</th>\n",
       "      <td>6.92</td>\n",
       "      <td>6.76</td>\n",
       "      <td>6.36</td>\n",
       "    </tr>\n",
       "    <tr>\n",
       "      <th>98</th>\n",
       "      <td>7.81</td>\n",
       "      <td>10.41</td>\n",
       "      <td>9.61</td>\n",
       "    </tr>\n",
       "    <tr>\n",
       "      <th>99</th>\n",
       "      <td>8.38</td>\n",
       "      <td>13.22</td>\n",
       "      <td>13.62</td>\n",
       "    </tr>\n",
       "    <tr>\n",
       "      <th>100</th>\n",
       "      <td>9.52</td>\n",
       "      <td>23.46</td>\n",
       "      <td>22.46</td>\n",
       "    </tr>\n",
       "  </tbody>\n",
       "</table>\n",
       "<p>101 rows × 3 columns</p>\n",
       "</div>"
      ],
      "text/plain": [
       "     cgpa     iq  package\n",
       "0    7.85   9.22     9.72\n",
       "1    9.12   7.39     7.89\n",
       "2    6.54   5.14     5.14\n",
       "3    8.99  15.80    15.30\n",
       "4    7.01   6.42     6.62\n",
       "..    ...    ...      ...\n",
       "96   9.07  20.20    19.40\n",
       "97   6.92   6.76     6.36\n",
       "98   7.81  10.41     9.61\n",
       "99   8.38  13.22    13.62\n",
       "100  9.52  23.46    22.46\n",
       "\n",
       "[101 rows x 3 columns]"
      ]
     },
     "execution_count": 19,
     "metadata": {},
     "output_type": "execute_result"
    }
   ],
   "source": [
    "new_df2"
   ]
  },
  {
   "cell_type": "code",
   "execution_count": 20,
   "id": "91eb31a3",
   "metadata": {},
   "outputs": [],
   "source": [
    "X2 = new_df2.iloc[:,0:2]\n",
    "y2 = new_df2.iloc[:,-1]"
   ]
  },
  {
   "cell_type": "code",
   "execution_count": 21,
   "id": "4dcd9765",
   "metadata": {},
   "outputs": [],
   "source": [
    "X2_train,X2_test,y2_train,y2_test = train_test_split(X2,y2,test_size=0.2,random_state=2)"
   ]
  },
  {
   "cell_type": "code",
   "execution_count": 22,
   "id": "53d76f97",
   "metadata": {},
   "outputs": [],
   "source": [
    "lr = LinearRegression()\n",
    "lr.fit(X2_train,y2_train)\n",
    "y2_pred = lr.predict(X2_test)"
   ]
  },
  {
   "cell_type": "code",
   "execution_count": 23,
   "id": "8a0c5b09",
   "metadata": {},
   "outputs": [
    {
     "name": "stdout",
     "output_type": "stream",
     "text": [
      "Before random iq\n",
      "MAE 1.2702528778448223\n",
      "MSE 2.13866558563387\n",
      "RMSE 1.4624177192696586\n",
      "R2 Score 0.9467826372440624\n",
      "Adjusted r2 score 0.9439817234148026\n",
      "--------------------------------------------------------------------------------------------------------------------------------------------\n",
      "After random iq\n",
      "MAE 0.46871912686858364\n",
      "MSE 0.32064267895294446\n",
      "RMSE 0.566253193326929\n",
      "R2 Score 0.9936237653246432\n",
      "Adjusted r2 score 0.9929152948051592\n"
     ]
    }
   ],
   "source": [
    "print('Before random iq')\n",
    "print(\"MAE\",mean_absolute_error(y_test,y_pred))\n",
    "print(\"MSE\",mean_squared_error(y_test,y_pred))\n",
    "print(\"RMSE\",np.sqrt(mean_squared_error(y_test,y_pred)))\n",
    "print(\"R2 Score\",r2_score(y_test,y_pred))\n",
    "print('Adjusted r2 score',1-(1-r2_score(y_test,y_pred))*(len(y_test)-1)/(len(y_test)-x.shape[1]-1))\n",
    "print('--'*70)\n",
    "print('After random iq')\n",
    "print(\"MAE\",mean_absolute_error(y2_test,y2_pred))\n",
    "print(\"MSE\",mean_squared_error(y2_test,y2_pred))\n",
    "print(\"RMSE\",np.sqrt(mean_squared_error(y2_test,y2_pred)))\n",
    "print(\"R2 Score\",r2_score(y2_test,y2_pred))\n",
    "print('Adjusted r2 score',1-(1-r2_score(y2_test,y2_pred))*(len(y2_test)-1)/(len(y2_test)-X2.shape[1]-1))"
   ]
  }
 ],
 "metadata": {
  "kernelspec": {
   "display_name": ".venv",
   "language": "python",
   "name": "python3"
  },
  "language_info": {
   "codemirror_mode": {
    "name": "ipython",
    "version": 3
   },
   "file_extension": ".py",
   "mimetype": "text/x-python",
   "name": "python",
   "nbconvert_exporter": "python",
   "pygments_lexer": "ipython3",
   "version": "3.13.5"
  }
 },
 "nbformat": 4,
 "nbformat_minor": 5
}
