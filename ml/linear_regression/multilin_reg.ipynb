{
 "cells": [
  {
   "cell_type": "code",
   "execution_count": 1,
   "id": "ba346695",
   "metadata": {},
   "outputs": [],
   "source": [
    "import numpy as np\n",
    "import pandas as pd\n",
    "import seaborn as sns\n",
    "import matplotlib.pyplot as plt\n",
    "\n",
    "from sklearn.datasets import make_regression    \n",
    "from sklearn.linear_model import LinearRegression\n",
    "from sklearn.model_selection import train_test_split\n",
    "from sklearn.metrics import mean_squared_error, r2_score, mean_absolute_error, mean_squared_log_error, mean_squared_error"
   ]
  },
  {
   "cell_type": "code",
   "execution_count": 4,
   "id": "412b19d4",
   "metadata": {},
   "outputs": [],
   "source": [
    "# Generate the dataset\n",
    "X, y = make_regression(n_samples=100, n_features=2, n_informative=2, n_targets=1, noise=10, random_state=48)\n",
    "\n",
    "# Create a DataFrame\n",
    "df = pd.DataFrame(X, columns=['feature1', 'feature2'])  # Create DataFrame from X\n",
    "df['target'] = y  # Add y as a column"
   ]
  },
  {
   "cell_type": "code",
   "execution_count": 5,
   "id": "61f6c63b",
   "metadata": {},
   "outputs": [
    {
     "data": {
      "text/plain": [
       "(100, 3)"
      ]
     },
     "execution_count": 5,
     "metadata": {},
     "output_type": "execute_result"
    }
   ],
   "source": [
    "df.shape"
   ]
  },
  {
   "cell_type": "code",
   "execution_count": 6,
   "id": "757dbc32",
   "metadata": {},
   "outputs": [
    {
     "data": {
      "application/vnd.microsoft.datawrangler.viewer.v0+json": {
       "columns": [
        {
         "name": "index",
         "rawType": "int64",
         "type": "integer"
        },
        {
         "name": "feature1",
         "rawType": "float64",
         "type": "float"
        },
        {
         "name": "feature2",
         "rawType": "float64",
         "type": "float"
        },
        {
         "name": "target",
         "rawType": "float64",
         "type": "float"
        }
       ],
       "ref": "92861858-e8c0-49c3-8aef-ae0000b31c68",
       "rows": [
        [
         "0",
         "-0.9936313199284519",
         "-1.0634008054805224",
         "-125.78800565491842"
        ],
        [
         "1",
         "0.7864377652920803",
         "-0.16145081587650867",
         "23.188586217718864"
        ],
        [
         "2",
         "0.41945130664950453",
         "-0.002650489419327569",
         "23.776907054391568"
        ],
        [
         "3",
         "0.8619661465879214",
         "-0.7507590785507245",
         "11.905001787516213"
        ],
        [
         "4",
         "0.6416370747736448",
         "0.17621880835873302",
         "46.675774435784334"
        ]
       ],
       "shape": {
        "columns": 3,
        "rows": 5
       }
      },
      "text/html": [
       "<div>\n",
       "<style scoped>\n",
       "    .dataframe tbody tr th:only-of-type {\n",
       "        vertical-align: middle;\n",
       "    }\n",
       "\n",
       "    .dataframe tbody tr th {\n",
       "        vertical-align: top;\n",
       "    }\n",
       "\n",
       "    .dataframe thead th {\n",
       "        text-align: right;\n",
       "    }\n",
       "</style>\n",
       "<table border=\"1\" class=\"dataframe\">\n",
       "  <thead>\n",
       "    <tr style=\"text-align: right;\">\n",
       "      <th></th>\n",
       "      <th>feature1</th>\n",
       "      <th>feature2</th>\n",
       "      <th>target</th>\n",
       "    </tr>\n",
       "  </thead>\n",
       "  <tbody>\n",
       "    <tr>\n",
       "      <th>0</th>\n",
       "      <td>-0.993631</td>\n",
       "      <td>-1.063401</td>\n",
       "      <td>-125.788006</td>\n",
       "    </tr>\n",
       "    <tr>\n",
       "      <th>1</th>\n",
       "      <td>0.786438</td>\n",
       "      <td>-0.161451</td>\n",
       "      <td>23.188586</td>\n",
       "    </tr>\n",
       "    <tr>\n",
       "      <th>2</th>\n",
       "      <td>0.419451</td>\n",
       "      <td>-0.002650</td>\n",
       "      <td>23.776907</td>\n",
       "    </tr>\n",
       "    <tr>\n",
       "      <th>3</th>\n",
       "      <td>0.861966</td>\n",
       "      <td>-0.750759</td>\n",
       "      <td>11.905002</td>\n",
       "    </tr>\n",
       "    <tr>\n",
       "      <th>4</th>\n",
       "      <td>0.641637</td>\n",
       "      <td>0.176219</td>\n",
       "      <td>46.675774</td>\n",
       "    </tr>\n",
       "  </tbody>\n",
       "</table>\n",
       "</div>"
      ],
      "text/plain": [
       "   feature1  feature2      target\n",
       "0 -0.993631 -1.063401 -125.788006\n",
       "1  0.786438 -0.161451   23.188586\n",
       "2  0.419451 -0.002650   23.776907\n",
       "3  0.861966 -0.750759   11.905002\n",
       "4  0.641637  0.176219   46.675774"
      ]
     },
     "execution_count": 6,
     "metadata": {},
     "output_type": "execute_result"
    }
   ],
   "source": [
    "df.head()"
   ]
  },
  {
   "cell_type": "code",
   "execution_count": 6,
   "id": "18ec8d9b",
   "metadata": {},
   "outputs": [],
   "source": [
    "#for more details visit google colab\n",
    "# https://colab.research.google.com/drive/1_OVwmqU91yVAWmKNROcrL8EA78R49Rmq?usp=sharing"
   ]
  }
 ],
 "metadata": {
  "kernelspec": {
   "display_name": ".venv",
   "language": "python",
   "name": "python3"
  },
  "language_info": {
   "codemirror_mode": {
    "name": "ipython",
    "version": 3
   },
   "file_extension": ".py",
   "mimetype": "text/x-python",
   "name": "python",
   "nbconvert_exporter": "python",
   "pygments_lexer": "ipython3",
   "version": "3.13.5"
  }
 },
 "nbformat": 4,
 "nbformat_minor": 5
}
