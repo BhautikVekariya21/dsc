{
 "cells": [
  {
   "cell_type": "markdown",
   "id": "96f21e51",
   "metadata": {},
   "source": [
    "`Question: 1` A company wants to estimate the average time spent by customers on their website per session. They collect a random sample of 100 customers and find that the sample mean time spent is 4.5 minutes with a sample standard deviation of 1.2 minutes. Calculate a 99% confidence interval for the true population mean time spent on the website per session.\n",
    "\n",
    "\n",
    "`Question 2:` A car manufacturer is interested in estimating the mean gas mileage of their new SUV. A sample of 25 SUVs is taken, and their mean gas mileage is found to be 28.6 miles per gallon with a standard deviation of 2.8 miles per gallon. Calculate a 95% confidence interval for the true mean gas mileage of the SUV."
   ]
  },
  {
   "cell_type": "markdown",
   "id": "19218791",
   "metadata": {},
   "source": [
    "`Question -3:` Dataset - India temperature dataset.\n",
    "\n",
    "Data link: https://drive.google.com/file/d/1whb8Rjdk9TBKOwVi8NwZD1Tc8Tdv7iEc/view?usp=share_link\n",
    "\n",
    "Kaggle Link : (Just take IND data for this question, have to apply filtering). https://www.kaggle.com/datasets/berkeleyearth/climate-change-earth-surface-temperature-data\n",
    "\n",
    "A climate research organization wants to estimate the average temperature of a certain country. They collect temperature data for 2613 days but due to certain limitations, they only have information about the average temperature for 2508 days. The organization assumes that the population follows a normal distribution and wants to estimate the population mean temperature with a 95% confidence interval.\n",
    "\n",
    "* Standard deviation is assumed as given data standard deviation. z Procedure\n",
    "* Standard deviation is not given. Apply t Procedure"
   ]
  },
  {
   "cell_type": "markdown",
   "id": "a8253aa0",
   "metadata": {},
   "source": [
    "`Question 4:` BMW Dataset : https://drive.google.com/file/d/18amVv1WKKHEmwyvVy0RuXp4A6xrGOelc/view?usp=share_link\n",
    "\n",
    "* Task 1:\n",
    "The sales manager of a used car company wants to know what is the average selling price of all the used bmw cars.\n",
    "The analyst can collect only a sample of sales of 500 cars in the area. Since this estimate is going to be used by the company to strategize sales of his company, the sample mean should be a good approximation of all the account.\n",
    "What level of confidence is the sales manager going to be satisfied with? What +/- interval number is going to be acceptable?\n",
    "\n",
    "* Task 2:\n",
    "In addition to the price of the car, the manager also wants to now know the average mileage that the car has been driven. But the manager does not have the population standard deviation for the mileage. But the mileage data is available only from the 25 cars that they have sold so far.\n",
    "How do the analyst approach this problem to calculate 95% confidence interval, with only 25 samples?\n",
    "\n",
    "* Task 3:\n",
    "The manager is not happy with both the intervals (intervals from task 1 and 2) as the interval for the confidence is very high. The manager now asks the analyst to estimate the average price of the car (similar to task 1) but within a bound of 750 from the mean with 95% condidence level. How many sample does the analyst have to collect to arrive at this confidence interval level?\n",
    "\n",
    "* Task 4:\n",
    "Conversely, after the analyst started collecting the data, after a week he was only able to collect for 420 samples, though he needs 540 samples for Bound of 1,000, if he has to do the analysis now, what is the best interval he can acheive for 95% confidence levels?"
   ]
  },
  {
   "cell_type": "code",
   "execution_count": 1,
   "id": "20e7a525",
   "metadata": {},
   "outputs": [
    {
     "name": "stdout",
     "output_type": "stream",
     "text": [
      "<class 'pandas.core.frame.DataFrame'>\n",
      "RangeIndex: 10781 entries, 0 to 10780\n",
      "Data columns (total 9 columns):\n",
      " #   Column        Non-Null Count  Dtype  \n",
      "---  ------        --------------  -----  \n",
      " 0   model         10781 non-null  object \n",
      " 1   year          10781 non-null  int64  \n",
      " 2   price         10781 non-null  int64  \n",
      " 3   transmission  10781 non-null  object \n",
      " 4   mileage       10781 non-null  int64  \n",
      " 5   fuelType      10781 non-null  object \n",
      " 6   tax           10781 non-null  int64  \n",
      " 7   mpg           10781 non-null  float64\n",
      " 8   engineSize    10781 non-null  float64\n",
      "dtypes: float64(2), int64(4), object(3)\n",
      "memory usage: 758.2+ KB\n"
     ]
    }
   ],
   "source": [
    "import numpy as np \n",
    "import pandas as pd \n",
    "bmw = pd.read_csv('bmw.csv')\n",
    "bmw.info()"
   ]
  },
  {
   "cell_type": "markdown",
   "id": "e2019186",
   "metadata": {},
   "source": [
    "#### Task 1:\n",
    "To determine the level of confidence the sales manager is going to be satisfied with, we need to consider the level of risk he is willing to take. For example, if the sales manager is willing to take a risk of being incorrect 5% of the time, he would want a 95% confidence interval.\n",
    "\n",
    "To calculate the interval estimate, we need to calculate the mean and standard deviation of the sample, as well as the sample size, and the level of confidence."
   ]
  },
  {
   "cell_type": "code",
   "execution_count": 2,
   "id": "d385c23c",
   "metadata": {},
   "outputs": [
    {
     "name": "stdout",
     "output_type": "stream",
     "text": [
      "95% confidence interval for the average selling price of all used BMW cars based on the sample of 1000 cars: (22010.57, 24011.76)\n"
     ]
    }
   ],
   "source": [
    "import pandas as pd\n",
    "import numpy as np\n",
    "from scipy.stats import norm\n",
    "\n",
    "# load the dataset\n",
    "df = bmw\n",
    "\n",
    "# take a sample of 500 cars\n",
    "sample_size = 500\n",
    "sample = df.sample(n=sample_size, random_state=42)\n",
    "\n",
    "# calculate sample mean and standard deviation\n",
    "sample_mean = sample['price'].mean()\n",
    "population_std = df['price'].std(ddof=1)  # use ddof=1 for sample standard deviation\n",
    "\n",
    "# set the desired level of confidence\n",
    "confidence_level = 0.95\n",
    "\n",
    "# calculate the critical value for the confidence level\n",
    "z_critical = norm.ppf(1 - (1 - confidence_level)/2)\n",
    "# 1 - (1 - confidence_level)/2 -> 1 - (0.05)/2 -> 1 - 0.025 -> 0.975\n",
    "\n",
    "\n",
    "# calculate the margin of error\n",
    "margin_of_error = z_critical * population_std / np.sqrt(sample_size)\n",
    "\n",
    "# calculate the confidence interval\n",
    "lower_bound = sample_mean - margin_of_error\n",
    "upper_bound = sample_mean + margin_of_error\n",
    "\n",
    "# print the results\n",
    "print(f\"95% confidence interval for the average selling price of all used BMW cars based on the sample of 1000 cars: ({lower_bound:.2f}, {upper_bound:.2f})\")\n"
   ]
  },
  {
   "cell_type": "markdown",
   "id": "56e3c55a",
   "metadata": {},
   "source": [
    "#### Task 2:\n",
    "\n",
    "For question 2, we want to calculate the 95% confidence interval for the average mileage of BMW cars sold by the used car company. We have only 25 sample data points for mileage, and we do not know the population standard deviation.\n",
    "\n",
    "Since we do not know the population standard deviation, we will use the t-distribution instead of the z-distribution. We will use the t-distribution with 24 degrees of freedom (n-1) to calculate the critical value for the 95% confidence level.\n",
    "\n",
    "First, we calculate the sample mean and sample standard deviation of the 25 sample data points for mileage:"
   ]
  },
  {
   "cell_type": "code",
   "execution_count": 3,
   "id": "6a2d6ef1",
   "metadata": {},
   "outputs": [
    {
     "name": "stdout",
     "output_type": "stream",
     "text": [
      "95% confidence interval for average mileage of BMW cars sold:\n",
      "Lower bound: 17957.233417853342\n",
      "Upper bound: 32340.12658214666\n"
     ]
    }
   ],
   "source": [
    "import pandas as pd\n",
    "import numpy as np\n",
    "from scipy.stats import t\n",
    "\n",
    "# load BMW dataset\n",
    "bmw = bmw\n",
    "\n",
    "# select 25 sample data points for mileage\n",
    "mileage_sample = bmw['mileage'].sample(n=25, random_state=1)\n",
    "\n",
    "# calculate sample mean and sample standard deviation\n",
    "sample_mean = np.mean(mileage_sample)\n",
    "sample_std = np.std(mileage_sample, ddof=1)\n",
    "\n",
    "\n",
    "# Next, we calculate the t-critical value for the 95% confidence level using the t-distribution with 24 degrees of freedom:\n",
    "\n",
    "# calculate t-critical value for 95% confidence level\n",
    "t_critical = t.ppf(0.975, df=24)\n",
    "\n",
    "# calculate margin of error\n",
    "margin_of_error = t_critical * (sample_std / np.sqrt(25))\n",
    "\n",
    "# calculate lower and upper bounds of confidence interval\n",
    "lower_bound = sample_mean - margin_of_error\n",
    "upper_bound = sample_mean + margin_of_error\n",
    "\n",
    "print(\"95% confidence interval for average mileage of BMW cars sold:\")\n",
    "print(\"Lower bound:\", lower_bound)\n",
    "print(\"Upper bound:\", upper_bound)\n"
   ]
  },
  {
   "cell_type": "markdown",
   "id": "2016cd3e",
   "metadata": {},
   "source": [
    "#### Task 3:\n",
    "\n",
    "To calculate the required sample size for price estimation with in 750 margin, we need to use the following formula:\n",
    "\n",
    "### The size of the sample is affected by parameters such as:\n",
    "- Bound that we need our interval to be within. This is represented by B. In question 3, B = 750\n",
    "- The confidence level (1−𝛼). In question 3 this is 95%\n",
    "- What is the estimate of variance (of standard deviation) of the population?\n",
    "\n",
    "##### The minimum number of required samples to estimate the population mean μ is:\n",
    "\n",
    "$$ n = \\dfrac{Z^2 _{\\alpha / 2} \\sigma^2}{B^2} $$\n",
    "\n",
    "Where,\n",
    "n = sample size\n",
    "z = z-score for the desired confidence level (95%)\n",
    "std = standard deviation of the population (unknown in this case)\n",
    "B = margin of error (750)\n",
    "\n",
    "To calculate the sample size, we need to estimate the standard deviation. We can use the standard deviation of the sample as an estimate for the population standard deviation.\n",
    "\n",
    "First, let's calculate the sample standard deviation:"
   ]
  },
  {
   "cell_type": "code",
   "execution_count": 4,
   "id": "c9f75935",
   "metadata": {},
   "outputs": [
    {
     "name": "stdout",
     "output_type": "stream",
     "text": [
      "11174.227647286505\n"
     ]
    }
   ],
   "source": [
    "import pandas as pd\n",
    "import numpy as np\n",
    "\n",
    "df = bmw\n",
    "samples_mean = []\n",
    "stds =[]\n",
    "for i in range(500):\n",
    "    sample = df['price'].sample(n=50)\n",
    "    samples_mean.append(sample.mean())\n",
    "    stds.append(sample.std())\n",
    "\n",
    "sample_std = np.mean(stds)\n",
    "print(sample_std)\n"
   ]
  },
  {
   "cell_type": "code",
   "execution_count": 5,
   "id": "3f506a96",
   "metadata": {},
   "outputs": [
    {
     "name": "stdout",
     "output_type": "stream",
     "text": [
      "852.7243896000332\n"
     ]
    }
   ],
   "source": [
    "import scipy.stats as stats\n",
    "\n",
    "z = stats.norm.ppf(0.975) # for 95% confidence level\n",
    "B = 750\n",
    "\n",
    "n = ((z*sample_std)/B)**2\n",
    "print(n)"
   ]
  },
  {
   "cell_type": "markdown",
   "id": "bed30c1d",
   "metadata": {},
   "source": [
    "#### Task 4:\n",
    "Conversely, after the analyst started collecting the data, after a week he was only able to collect for 420 samples, though he needs 857 samples for B of 750(from question 3), if he has to do the analysis now, what is the best interval he can acheive for 95% confidence levels?\n",
    "\n",
    "\n",
    "This is converse senario to the question 3. From the formula for the sample size determination we can come up with the formula for calculating the bounds:\n",
    "\n",
    "$$ n = \\dfrac{Z^2 _{\\alpha / 2} \\sigma^2}{B^2} $$\n",
    "\n",
    "$$ B = Z _{\\alpha / 2} \\dfrac{\\sigma}{\\sqrt n} $$"
   ]
  },
  {
   "cell_type": "code",
   "execution_count": 6,
   "id": "52591881",
   "metadata": {},
   "outputs": [
    {
     "name": "stdout",
     "output_type": "stream",
     "text": [
      "1061.1113784764611\n"
     ]
    }
   ],
   "source": [
    "sample_std = df['price'].sample(n=420).std()\n",
    "\n",
    "z = 1.96\n",
    "B = z * sample_std/np.sqrt(420)\n",
    "print(B)"
   ]
  }
 ],
 "metadata": {
  "kernelspec": {
   "display_name": ".venv",
   "language": "python",
   "name": "python3"
  },
  "language_info": {
   "codemirror_mode": {
    "name": "ipython",
    "version": 3
   },
   "file_extension": ".py",
   "mimetype": "text/x-python",
   "name": "python",
   "nbconvert_exporter": "python",
   "pygments_lexer": "ipython3",
   "version": "3.13.5"
  }
 },
 "nbformat": 4,
 "nbformat_minor": 5
}
