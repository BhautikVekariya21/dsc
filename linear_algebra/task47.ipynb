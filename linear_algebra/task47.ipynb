{
 "cells": [
  {
   "cell_type": "markdown",
   "id": "8ec9ecbc",
   "metadata": {},
   "source": [
    "### Q1. Given the vectors A = [1, 2, 3] and B = [4, 5, 6], calculate the element-wise product of the two vectors."
   ]
  },
  {
   "cell_type": "code",
   "execution_count": 2,
   "id": "a3a33bfb",
   "metadata": {},
   "outputs": [
    {
     "name": "stdout",
     "output_type": "stream",
     "text": [
      "[ 4 10 18]\n"
     ]
    }
   ],
   "source": [
    "import numpy as np \n",
    "a = np.array([1,2,3])\n",
    "b = np.array([4,5,6])\n",
    "print(a*b)"
   ]
  },
  {
   "cell_type": "markdown",
   "id": "4620ae42",
   "metadata": {},
   "source": [
    "### Q2. Find the magnitude of the vector C = [2, -3, 1]."
   ]
  },
  {
   "cell_type": "code",
   "execution_count": 4,
   "id": "a1f0b320",
   "metadata": {},
   "outputs": [
    {
     "name": "stdout",
     "output_type": "stream",
     "text": [
      "3.7416573867739413\n",
      "3.7416573867739413\n"
     ]
    }
   ],
   "source": [
    "import numpy as np \n",
    "c = np.array([1,2,3])\n",
    "print(np.linalg.norm(c))\n",
    "\n",
    "print(np.sqrt(np.sum(c**2)))"
   ]
  },
  {
   "cell_type": "markdown",
   "id": "bd3bda46",
   "metadata": {},
   "source": [
    "### Q3. Given the vectors D = [1, 2, 3] and E = [4, 5, 6], calculate the cosine of the angle between them."
   ]
  },
  {
   "cell_type": "code",
   "execution_count": 5,
   "id": "dc64d7ec",
   "metadata": {},
   "outputs": [
    {
     "name": "stdout",
     "output_type": "stream",
     "text": [
      "0.9746318461970762\n"
     ]
    }
   ],
   "source": [
    "import numpy as np \n",
    "d = np.array([1,2,3])\n",
    "e = np.array([4,5,6])\n",
    "print(np.dot(d,e)/(np.linalg.norm(d)*np.linalg.norm(e)))"
   ]
  },
  {
   "cell_type": "markdown",
   "id": "1a6ad62d",
   "metadata": {},
   "source": [
    "### Q4. Given the vectors F = [1, 2, 3] and G = [4, 5, 6], calculate the cross product of the two vectors."
   ]
  },
  {
   "cell_type": "code",
   "execution_count": 9,
   "id": "631e4c8b",
   "metadata": {},
   "outputs": [
    {
     "name": "stdout",
     "output_type": "stream",
     "text": [
      "[-3  6 -3]\n"
     ]
    }
   ],
   "source": [
    "import numpy as np \n",
    "a = np.array([1,2,3])\n",
    "b = np.array([4,5,6])\n",
    "print(np.cross(a,b))"
   ]
  },
  {
   "cell_type": "markdown",
   "id": "8588dca8",
   "metadata": {},
   "source": [
    "### Q5. Given the vector H = [2, 4, 6], shift the vector +1 unit in each dimension"
   ]
  },
  {
   "cell_type": "code",
   "execution_count": 11,
   "id": "79d17b7b",
   "metadata": {},
   "outputs": [
    {
     "name": "stdout",
     "output_type": "stream",
     "text": [
      "[3 5 7]\n"
     ]
    }
   ],
   "source": [
    "import numpy as np \n",
    "h = np.array([2,4,6])\n",
    "print(h+1)"
   ]
  },
  {
   "cell_type": "markdown",
   "id": "7e45775f",
   "metadata": {},
   "source": [
    "### Q6. Given the vectors I = [1, 2, 3] and J = [4, 5, 6], calculate the projection of vector I onto vector J."
   ]
  },
  {
   "cell_type": "code",
   "execution_count": null,
   "id": "13041ae6",
   "metadata": {},
   "outputs": [],
   "source": [
    "import numpy as np \n",
    "a = np.array([1,2,3])\n",
    "b = np.array([4,5,6])\n",
    "print(np.cross(a,b))\n",
    "\n",
    "print(a@b)"
   ]
  },
  {
   "cell_type": "markdown",
   "id": "8bf922ee",
   "metadata": {},
   "source": [
    "### Q7. Consider the 2D - position vector a = (1, 3). If b is the point (5, 4), find the vector `ab` and the vector sum `a + ab`. Provide a sketch plot."
   ]
  },
  {
   "cell_type": "code",
   "execution_count": 16,
   "id": "46b710c4",
   "metadata": {},
   "outputs": [
    {
     "name": "stdout",
     "output_type": "stream",
     "text": [
      "Vector ab: [4 1]\n",
      "Vector sum a + ab: [5 4]\n"
     ]
    },
    {
     "data": {
      "image/png": "[encoded data removed]",
      "text/plain": [
       "<Figure size 600x600 with 1 Axes>"
      ]
     },
     "metadata": {},
     "output_type": "display_data"
    }
   ],
   "source": [
    "import numpy as np\n",
    "import matplotlib.pyplot as plt\n",
    "import seaborn as sns\n",
    "\n",
    "# Apply seaborn styling\n",
    "sns.set_theme(style=\"whitegrid\")\n",
    "\n",
    "a = np.array([1, 3])\n",
    "b = np.array([5, 4])\n",
    "\n",
    "# Calculate vector ab\n",
    "ab = b - a\n",
    "print(\"Vector ab:\", ab)\n",
    "\n",
    "# Calculate vector sum a + ab\n",
    "a_plus_ab = a + ab\n",
    "print(\"Vector sum a + ab:\", a_plus_ab)\n",
    "\n",
    "origin = np.array([0, 0])\n",
    "\n",
    "plt.figure(figsize=(6,6))\n",
    "\n",
    "# Plot vectors\n",
    "plt.quiver(*origin, a[0], a[1], angles='xy', scale_units='xy', scale=1, color='r', label='a')\n",
    "plt.scatter(b[0], b[1], color='b', label='b')\n",
    "plt.quiver(*a, ab[0], ab[1], angles='xy', scale_units='xy', scale=1, color='g', label='ab')\n",
    "plt.quiver(*origin, a_plus_ab[0], a_plus_ab[1], angles='xy', scale_units='xy', scale=1, color='m', label='a+ab')\n",
    "\n",
    "plt.xlim(-1, 7)\n",
    "plt.ylim(-1, 7)\n",
    "plt.xlabel('x')\n",
    "plt.ylabel('y')\n",
    "plt.legend()\n",
    "plt.show()\n"
   ]
  },
  {
   "cell_type": "markdown",
   "id": "5c37da90",
   "metadata": {},
   "source": [
    "Note: Search for quiver, to plot an arrow.\n",
    "\n",
    "### Q8. Given two 2D vectors `u` and `v` where `u = [-1, 4]` and `v = [3, -2]`, find the dot product `u . v`, the angle between `u` and `v`, and the projection of `u` onto `v`."
   ]
  },
  {
   "cell_type": "code",
   "execution_count": null,
   "id": "c96cf668",
   "metadata": {},
   "outputs": [
    {
     "name": "stdout",
     "output_type": "stream",
     "text": [
      "-11\n",
      "-0.7399400733959438\n",
      "[-2.53846154  1.69230769]\n"
     ]
    }
   ],
   "source": [
    "import seaborn as sns\n",
    "import numpy as np\n",
    "\n",
    "u = np.array([-1,4])\n",
    "v = np.array([3,-2])\n",
    "\n",
    "print(np.dot(u,v))\n",
    "print(np.dot(u,v)/(np.linalg.norm(u)*np.linalg.norm(v)))\n",
    "\n",
    "scalar = np.dot(u, v) / (np.linalg.norm(v) ** 2)\n",
    "projection = scalar * v\n",
    "\n",
    "print(projection)\n",
    "\n"
   ]
  },
  {
   "cell_type": "markdown",
   "id": "af30b58d",
   "metadata": {},
   "source": [
    "### Q9. Given a hyperplane defined by the equation 3x - 2y + z = 1, find two different points that lie on this hyperplane."
   ]
  },
  {
   "cell_type": "code",
   "execution_count": 17,
   "id": "a379b017",
   "metadata": {},
   "outputs": [
    {
     "name": "stdout",
     "output_type": "stream",
     "text": [
      "Point 1: (0, 0, 1)\n",
      "Point 2: (1, 1, 0)\n"
     ]
    }
   ],
   "source": [
    "# Hyperplane: 3x - 2y + z = 1\n",
    "\n",
    "# Example 1\n",
    "x1 = 0\n",
    "y1 = 0\n",
    "z1 = 1 - (3 * x1 - 2 * y1)\n",
    "print(\"Point 1:\", (x1, y1, z1))\n",
    "\n",
    "# Example 2\n",
    "x2 = 1\n",
    "y2 = 1\n",
    "z2 = 1 - (3 * x2 - 2 * y2)\n",
    "print(\"Point 2:\", (x2, y2, z2))\n"
   ]
  },
  {
   "cell_type": "markdown",
   "id": "79606fb3",
   "metadata": {},
   "source": [
    "### Q10. Find a nearest point from a given array of points to a point P1.\n",
    "P1 - (3,9,3)\n",
    "\n",
    "Array of points :\n",
    "```\n",
    "[[1, 8, 5],\n",
    "[8, 8, 2],\n",
    "[7, 9, 1],\n",
    "[5, 6, 3],\n",
    "[9, 1, 2],\n",
    "[6, 5, 9],\n",
    "[5, 8, 6],\n",
    "[3, 4, 8],\n",
    "[6, 8, 4],\n",
    "[7, 2, 7]]\n",
    "```"
   ]
  },
  {
   "cell_type": "code",
   "execution_count": 18,
   "id": "34882747",
   "metadata": {},
   "outputs": [
    {
     "name": "stdout",
     "output_type": "stream",
     "text": [
      "Nearest point to P1: [1 8 5]\n",
      "Distance: 3.0\n"
     ]
    }
   ],
   "source": [
    "import numpy as np\n",
    "\n",
    "# Given point\n",
    "P1 = np.array([3, 9, 3])\n",
    "\n",
    "# Array of points\n",
    "points = np.array([\n",
    "    [1, 8, 5],\n",
    "    [8, 8, 2],\n",
    "    [7, 9, 1],\n",
    "    [5, 6, 3],\n",
    "    [9, 1, 2],\n",
    "    [6, 5, 9],\n",
    "    [5, 8, 6],\n",
    "    [3, 4, 8],\n",
    "    [6, 8, 4],\n",
    "    [7, 2, 7]\n",
    "])\n",
    "\n",
    "# Compute distances to P1\n",
    "distances = np.linalg.norm(points - P1, axis=1)\n",
    "\n",
    "# Find index of the nearest point\n",
    "nearest_index = np.argmin(distances)\n",
    "\n",
    "# Nearest point\n",
    "nearest_point = points[nearest_index]\n",
    "\n",
    "print(\"Nearest point to P1:\", nearest_point)\n",
    "print(\"Distance:\", distances[nearest_index])\n"
   ]
  }
 ],
 "metadata": {
  "kernelspec": {
   "display_name": ".venv",
   "language": "python",
   "name": "python3"
  },
  "language_info": {
   "codemirror_mode": {
    "name": "ipython",
    "version": 3
   },
   "file_extension": ".py",
   "mimetype": "text/x-python",
   "name": "python",
   "nbconvert_exporter": "python",
   "pygments_lexer": "ipython3",
   "version": "3.13.5"
  }
 },
 "nbformat": 4,
 "nbformat_minor": 5
}
