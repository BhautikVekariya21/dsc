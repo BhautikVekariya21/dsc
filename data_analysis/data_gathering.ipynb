{
 "cells": [
  {
   "cell_type": "code",
   "execution_count": null,
   "id": "9eb9f2cf",
   "metadata": {},
   "outputs": [],
   "source": [
    "import pandas as pd\n",
    "import requests\n",
    "import os\n",
    "\n",
    "# Container for DataFrames\n",
    "all_dataframes = []\n",
    "\n",
    "# Loop over pages\n",
    "for i in range(1, 500):\n",
    "    url = f\"https://api.nasa.gov/insight_weather/?api_key=DEMO_KEY&feedtype=json&ver=1.0\"\n",
    "    headers = {\"accept\": \"application/json\"}\n",
    "    response = requests.get(url, headers=headers)\n",
    "\n",
    "    if response.status_code == 200:\n",
    "        data = response.json().get('results', [])\n",
    "        if data:\n",
    "            temp_df = pd.DataFrame(data)[[\n",
    "                'adult', 'genre_ids', 'id', 'original_language',\n",
    "                'original_title', 'overview', 'popularity', 'release_date',\n",
    "                'title', 'video', 'vote_average', 'vote_count'\n",
    "            ]]\n",
    "            all_dataframes.append(temp_df)\n",
    "        else:\n",
    "            print(f\"No results found on page {i}\")\n",
    "    else:\n",
    "        print(f\"Failed to fetch page {i} - Status code: {response.status_code}\")\n",
    "\n",
    "# Combine all dataframes\n",
    "df = pd.concat(all_dataframes, ignore_index=True)\n",
    "\n",
    "# Optional: save to CSV\n",
    "df.to_csv(\"top_rated_movies.csv\", index=False)\n",
    "print(\"Data saved to top_rated_movies.csv\")\n"
   ]
  }
 ],
 "metadata": {
  "kernelspec": {
   "display_name": "Python 3",
   "language": "python",
   "name": "python3"
  },
  "language_info": {
   "codemirror_mode": {
    "name": "ipython",
    "version": 3
   },
   "file_extension": ".py",
   "mimetype": "text/x-python",
   "name": "python",
   "nbconvert_exporter": "python",
   "pygments_lexer": "ipython3",
   "version": "3.13.2"
  }
 },
 "nbformat": 4,
 "nbformat_minor": 5
}
