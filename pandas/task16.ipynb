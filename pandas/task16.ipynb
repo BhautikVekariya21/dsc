{
 "cells": [
  {
   "cell_type": "markdown",
   "id": "8e2c6fde",
   "metadata": {},
   "source": [
    "### `Q-1:` Write a program to create an empty series."
   ]
  },
  {
   "cell_type": "code",
   "execution_count": 2,
   "id": "308a53a4",
   "metadata": {},
   "outputs": [
    {
     "data": {
      "application/vnd.microsoft.datawrangler.viewer.v0+json": {
       "columns": [
        {
         "name": "index",
         "rawType": "int64",
         "type": "integer"
        },
        {
         "name": "0",
         "rawType": "object",
         "type": "string"
        }
       ],
       "ref": "ad2c0646-1c49-4342-9d7e-1b741e0cd73a",
       "rows": [],
       "shape": {
        "columns": 1,
        "rows": 0
       }
      },
      "text/plain": [
       "Series([], dtype: object)"
      ]
     },
     "execution_count": 2,
     "metadata": {},
     "output_type": "execute_result"
    }
   ],
   "source": [
    "import pandas as pd\n",
    "import numpy as np\n",
    "\n",
    "es = pd.Series()\n",
    "es"
   ]
  },
  {
   "cell_type": "markdown",
   "id": "222cc3d6",
   "metadata": {},
   "source": [
    "### `Q-2:` Write a Pandas program to add, subtract, multiple and divide two Pandas Series."
   ]
  },
  {
   "cell_type": "code",
   "execution_count": 3,
   "id": "5f03dba1",
   "metadata": {},
   "outputs": [
    {
     "name": "stdout",
     "output_type": "stream",
     "text": [
      "Series 1:\n",
      "0    10\n",
      "1    20\n",
      "2    30\n",
      "3    40\n",
      "4    50\n",
      "dtype: int64\n",
      "\n",
      "Series 2:\n",
      "0    1\n",
      "1    2\n",
      "2    3\n",
      "3    4\n",
      "4    5\n",
      "dtype: int64\n",
      "\n",
      "Addition:\n",
      "0    11\n",
      "1    22\n",
      "2    33\n",
      "3    44\n",
      "4    55\n",
      "dtype: int64\n",
      "\n",
      "Subtraction:\n",
      "0     9\n",
      "1    18\n",
      "2    27\n",
      "3    36\n",
      "4    45\n",
      "dtype: int64\n",
      "\n",
      "Multiplication:\n",
      "0     10\n",
      "1     40\n",
      "2     90\n",
      "3    160\n",
      "4    250\n",
      "dtype: int64\n",
      "\n",
      "Division:\n",
      "0    10.0\n",
      "1    10.0\n",
      "2    10.0\n",
      "3    10.0\n",
      "4    10.0\n",
      "dtype: float64\n"
     ]
    }
   ],
   "source": [
    "import pandas as pd\n",
    "\n",
    "# Creating two Series\n",
    "series1 = pd.Series([10, 20, 30, 40, 50])\n",
    "series2 = pd.Series([1, 2, 3, 4, 5])\n",
    "\n",
    "# Addition\n",
    "addition = series1 + series2\n",
    "\n",
    "# Subtraction\n",
    "subtraction = series1 - series2\n",
    "\n",
    "# Multiplication\n",
    "multiplication = series1 * series2\n",
    "\n",
    "# Division\n",
    "division = series1 / series2\n",
    "\n",
    "# Display the results\n",
    "print(\"Series 1:\")\n",
    "print(series1)\n",
    "\n",
    "print(\"\\nSeries 2:\")\n",
    "print(series2)\n",
    "\n",
    "print(\"\\nAddition:\")\n",
    "print(addition)\n",
    "\n",
    "print(\"\\nSubtraction:\")\n",
    "print(subtraction)\n",
    "\n",
    "print(\"\\nMultiplication:\")\n",
    "print(multiplication)\n",
    "\n",
    "print(\"\\nDivision:\")\n",
    "print(division)\n"
   ]
  },
  {
   "cell_type": "markdown",
   "id": "3ec9b830",
   "metadata": {},
   "source": [
    "### `Q-3` Write a Pandas program to compare the elements of the two Pandas Series.\n",
    "Sample Series: [2, 4, 6, 8, 10], [1, 3, 5, 7, 10]"
   ]
  },
  {
   "cell_type": "code",
   "execution_count": 4,
   "id": "ba56d826",
   "metadata": {},
   "outputs": [
    {
     "name": "stdout",
     "output_type": "stream",
     "text": [
      "Series 1:\n",
      "0     2\n",
      "1     4\n",
      "2     6\n",
      "3     8\n",
      "4    10\n",
      "dtype: int64\n",
      "\n",
      "Series 2:\n",
      "0     1\n",
      "1     3\n",
      "2     5\n",
      "3     7\n",
      "4    10\n",
      "dtype: int64\n",
      "\n",
      "Element-wise Comparison:\n",
      "\n",
      "Equal:\n",
      "0    False\n",
      "1    False\n",
      "2    False\n",
      "3    False\n",
      "4     True\n",
      "dtype: bool\n",
      "\n",
      "Greater than:\n",
      "0     True\n",
      "1     True\n",
      "2     True\n",
      "3     True\n",
      "4    False\n",
      "dtype: bool\n",
      "\n",
      "Less than:\n",
      "0    False\n",
      "1    False\n",
      "2    False\n",
      "3    False\n",
      "4    False\n",
      "dtype: bool\n"
     ]
    }
   ],
   "source": [
    "import pandas as pd\n",
    "\n",
    "# Define the two Series\n",
    "series1 = pd.Series([2, 4, 6, 8, 10])\n",
    "series2 = pd.Series([1, 3, 5, 7, 10])\n",
    "\n",
    "# Compare the elements\n",
    "print(\"Series 1:\")\n",
    "print(series1)\n",
    "\n",
    "print(\"\\nSeries 2:\")\n",
    "print(series2)\n",
    "\n",
    "print(\"\\nElement-wise Comparison:\")\n",
    "\n",
    "# Equal\n",
    "print(\"\\nEqual:\")\n",
    "print(series1 == series2)\n",
    "\n",
    "# Greater than\n",
    "print(\"\\nGreater than:\")\n",
    "print(series1 > series2)\n",
    "\n",
    "# Less than\n",
    "print(\"\\nLess than:\")\n",
    "print(series1 < series2)\n"
   ]
  },
  {
   "cell_type": "markdown",
   "id": "b6c2615a",
   "metadata": {},
   "source": [
    "### `Q-5.`Write a function to change the data type of given a column or a Series. Function takes series and data type as input, returns the converted series.\n",
    "```\n",
    "series = pd.Series([1,2,'Python', 2.0, True, 100])\n",
    "change to float type data\n",
    "```\n",
    "Note: Read about pd.to_numeric()"
   ]
  },
  {
   "cell_type": "code",
   "execution_count": 5,
   "id": "ee5bc1b3",
   "metadata": {},
   "outputs": [
    {
     "name": "stdout",
     "output_type": "stream",
     "text": [
      "0      1.0\n",
      "1      2.0\n",
      "2      NaN\n",
      "3      2.0\n",
      "4      1.0\n",
      "5    100.0\n",
      "dtype: float64\n"
     ]
    }
   ],
   "source": [
    "import pandas as pd\n",
    "\n",
    "def change_dtype(series, dtype):\n",
    "    \"\"\"\n",
    "    Convert a Pandas Series to the specified data type using pd.to_numeric for numeric types.\n",
    "    \n",
    "    Parameters:\n",
    "    series (pd.Series): Input Pandas Series\n",
    "    dtype: Desired data type (e.g., float, int)\n",
    "    \n",
    "    Returns:\n",
    "    pd.Series: Series with converted data type\n",
    "    \"\"\"\n",
    "    try:\n",
    "        if dtype in [float, int]:\n",
    "            # Use pd.to_numeric to handle conversion to numeric types, coercing errors to NaN\n",
    "            return pd.to_numeric(series, errors='coerce').astype(dtype)\n",
    "        else:\n",
    "            # For non-numeric types, use astype directly\n",
    "            return series.astype(dtype)\n",
    "    except Exception as e:\n",
    "        print(f\"Error converting to {dtype}: {e}\")\n",
    "        return series\n",
    "\n",
    "# Example usage\n",
    "series = pd.Series([1, 2, 'Python', 2.0, True, 100])\n",
    "converted_series = change_dtype(series, float)\n",
    "print(converted_series)"
   ]
  },
  {
   "cell_type": "markdown",
   "id": "107b9b59",
   "metadata": {},
   "source": [
    "Download data - https://drive.google.com/file/d/1LRhXwbEodeWXtzPhJCX0X9Lf_BECzvqb/view?usp=share_link\n",
    "All Batsman runs series in IPL 2008 to 2022.\n",
    "\n",
    "Below questions are based on this data."
   ]
  },
  {
   "cell_type": "markdown",
   "id": "ff3eb919",
   "metadata": {},
   "source": [
    "### `Q-6` Find top 10 most run getter from the series."
   ]
  },
  {
   "cell_type": "code",
   "execution_count": 8,
   "id": "8b82c091",
   "metadata": {},
   "outputs": [
    {
     "name": "stdout",
     "output_type": "stream",
     "text": [
      "                batsman_run\n",
      "batter                     \n",
      "V Kohli                6634\n",
      "S Dhawan               6244\n",
      "DA Warner              5883\n",
      "RG Sharma              5881\n",
      "SK Raina               5536\n",
      "AB de Villiers         5181\n",
      "CH Gayle               4997\n",
      "MS Dhoni               4978\n",
      "RV Uthappa             4954\n",
      "KD Karthik             4377\n"
     ]
    }
   ],
   "source": [
    "import pandas as pd\n",
    "\n",
    "# Load the data\n",
    "runs = pd.read_csv('batsman_runs_series.csv', index_col='batter')\n",
    "\n",
    "# Sort in-place\n",
    "runs.sort_values(by='batsman_run', ascending=False, inplace=True)\n",
    "\n",
    "# Display top 10\n",
    "print(runs.head(10))\n"
   ]
  },
  {
   "cell_type": "markdown",
   "id": "b51152f5",
   "metadata": {},
   "source": [
    "### `Q-7` No of players having runs above 3000"
   ]
  },
  {
   "cell_type": "code",
   "execution_count": 9,
   "id": "0ce09ae3",
   "metadata": {},
   "outputs": [
    {
     "name": "stdout",
     "output_type": "stream",
     "text": [
      "batsman_run    20\n",
      "dtype: int64\n"
     ]
    }
   ],
   "source": [
    "import pandas as pd\n",
    "\n",
    "# Load the data\n",
    "runs = pd.read_csv('batsman_runs_series.csv', index_col='batter')\n",
    "\n",
    "# Filter players who scored more than 3000 runs\n",
    "filtered_runs = runs[runs['batsman_run'] > 3000].count()\n",
    "\n",
    "# Display result\n",
    "print(filtered_runs)"
   ]
  },
  {
   "cell_type": "markdown",
   "id": "9249d8a6",
   "metadata": {},
   "source": [
    "### `Q-8` No of players having runs above mean value?"
   ]
  },
  {
   "cell_type": "code",
   "execution_count": null,
   "id": "403b75a8",
   "metadata": {},
   "outputs": [
    {
     "name": "stdout",
     "output_type": "stream",
     "text": [
      "128\n"
     ]
    }
   ],
   "source": [
    "import pandas as pd\n",
    "import numpy as np\n",
    "# Load the data\n",
    "runs = pd.read_csv('batsman_runs_series.csv', index_col='batter')\n",
    "above_mean = (runs['batsman_run'] > runs['batsman_run'].mean()).sum()\n",
    "print(above_mean)"
   ]
  },
  {
   "cell_type": "code",
   "execution_count": 12,
   "id": "9f496bf7",
   "metadata": {},
   "outputs": [
    {
     "data": {
      "text/plain": [
       "np.float64(464.42809917355373)"
      ]
     },
     "execution_count": 12,
     "metadata": {},
     "output_type": "execute_result"
    }
   ],
   "source": [
    "\n",
    "runs['batsman_run'].mean()"
   ]
  },
  {
   "cell_type": "markdown",
   "id": "f90fb04b",
   "metadata": {},
   "source": [
    "Download data - https://drive.google.com/file/d/1QZuZ5bypUInfVvarHACLAi8tXXHvb8xd/view?usp=share_link\n",
    "\n",
    "file name - items.csv\n",
    "\n"
   ]
  },
  {
   "cell_type": "markdown",
   "id": "6f5bbc3c",
   "metadata": {},
   "source": [
    "### `Q-9`\n",
    "    i. Read `items.csv` making `item_name` as index.\n",
    "    ii. Show no of nan values\n",
    "    ii. Item price is given in $, so convert it to rupees without currency symbol.\n",
    "    iii. Make data type of newly made series as float.\n",
    "    iv. Fill nan with mean of the series\n",
    "\n",
    "\n",
    "How csv file looks\n",
    "\n",
    "```\n",
    "item_name\titem_price\n",
    "Chips and Fresh Tomato Salsa\t$2.39\n",
    "Izze\t$3.39\n",
    "Nantucket Nectar\t$3.39\n",
    "Chips and Tomatillo-Green Chili Salsa\t$2.39\n",
    "Chicken Bowl\t$16.98\n",
    "\n",
    "```"
   ]
  },
  {
   "cell_type": "code",
   "execution_count": 19,
   "id": "6efda08e",
   "metadata": {},
   "outputs": [
    {
     "data": {
      "application/vnd.microsoft.datawrangler.viewer.v0+json": {
       "columns": [
        {
         "name": "item_name",
         "rawType": "object",
         "type": "string"
        },
        {
         "name": "item_price",
         "rawType": "object",
         "type": "unknown"
        }
       ],
       "ref": "ea8129b7-7154-4a23-8c46-6b1e26804f7d",
       "rows": [
        [
         "Chips and Fresh Tomato Salsa",
         "$2.39 "
        ],
        [
         "Izze",
         "$3.39 "
        ],
        [
         "Nantucket Nectar",
         "$3.39 "
        ],
        [
         "Chips and Tomatillo-Green Chili Salsa",
         "$2.39 "
        ],
        [
         "Chicken Bowl",
         "$16.98 "
        ],
        [
         "Chicken Bowl",
         "$10.98 "
        ],
        [
         "Side of Chips",
         null
        ],
        [
         "Steak Burrito",
         "$11.75 "
        ],
        [
         "Steak Soft Tacos",
         null
        ],
        [
         "Steak Burrito",
         "$9.25 "
        ],
        [
         "Chips and Guacamole",
         "$4.45 "
        ],
        [
         "Chicken Crispy Tacos",
         "$8.75 "
        ],
        [
         "Chicken Soft Tacos",
         "$8.75 "
        ],
        [
         "Chicken Bowl",
         "$11.25 "
        ],
        [
         "Chips and Guacamole",
         "$4.45 "
        ],
        [
         "Chips and Tomatillo-Green Chili Salsa",
         "$2.39 "
        ],
        [
         "Chicken Burrito",
         "$8.49 "
        ],
        [
         "Chicken Burrito",
         "$8.49 "
        ],
        [
         "Canned Soda",
         "$2.18 "
        ],
        [
         "Chicken Bowl",
         "$8.75 "
        ],
        [
         "Chips and Guacamole",
         "$4.45 "
        ],
        [
         "Barbacoa Burrito",
         "$8.99 "
        ],
        [
         "Nantucket Nectar",
         "$3.39 "
        ],
        [
         "Chicken Burrito",
         "$10.98 "
        ],
        [
         "Izze",
         "$3.39 "
        ],
        [
         "Chips and Fresh Tomato Salsa",
         "$2.39 "
        ],
        [
         "Chicken Bowl",
         "$8.49 "
        ],
        [
         "Carnitas Burrito",
         "$8.99 "
        ],
        [
         "Canned Soda",
         "$1.09 "
        ],
        [
         "Chicken Burrito",
         "$8.49 "
        ],
        [
         "Chips and Tomatillo-Green Chili Salsa",
         "$2.39 "
        ],
        [
         "Steak Burrito",
         "$8.99 "
        ],
        [
         "Side of Chips",
         "$1.69 "
        ],
        [
         "Carnitas Bowl",
         "$8.99 "
        ],
        [
         "Bottled Water",
         "$1.09 "
        ],
        [
         "Chicken Soft Tacos",
         "$8.75 "
        ],
        [
         "Chicken Soft Tacos",
         "$8.75 "
        ],
        [
         "Chips and Guacamole",
         "$4.45 "
        ],
        [
         "Chips and Tomatillo Green Chili Salsa",
         "$2.95 "
        ],
        [
         "Barbacoa Bowl",
         "$11.75 "
        ],
        [
         "Chips",
         null
        ],
        [
         "Chips and Guacamole",
         "$4.45 "
        ],
        [
         "Chicken Bowl",
         "$11.25 "
        ],
        [
         "Steak Burrito",
         "$11.75 "
        ],
        [
         "Chicken Salad Bowl",
         "$8.75 "
        ],
        [
         "Chicken Burrito",
         "$10.98 "
        ],
        [
         "Steak Burrito",
         "$8.99 "
        ],
        [
         "Izze",
         "$3.39 "
        ],
        [
         "Steak Burrito",
         "$8.99 "
        ],
        [
         "Chips and Guacamole",
         "$3.99 "
        ]
       ],
       "shape": {
        "columns": 1,
        "rows": 4622
       }
      },
      "text/html": [
       "<div>\n",
       "<style scoped>\n",
       "    .dataframe tbody tr th:only-of-type {\n",
       "        vertical-align: middle;\n",
       "    }\n",
       "\n",
       "    .dataframe tbody tr th {\n",
       "        vertical-align: top;\n",
       "    }\n",
       "\n",
       "    .dataframe thead th {\n",
       "        text-align: right;\n",
       "    }\n",
       "</style>\n",
       "<table border=\"1\" class=\"dataframe\">\n",
       "  <thead>\n",
       "    <tr style=\"text-align: right;\">\n",
       "      <th></th>\n",
       "      <th>item_price</th>\n",
       "    </tr>\n",
       "    <tr>\n",
       "      <th>item_name</th>\n",
       "      <th></th>\n",
       "    </tr>\n",
       "  </thead>\n",
       "  <tbody>\n",
       "    <tr>\n",
       "      <th>Chips and Fresh Tomato Salsa</th>\n",
       "      <td>$2.39</td>\n",
       "    </tr>\n",
       "    <tr>\n",
       "      <th>Izze</th>\n",
       "      <td>$3.39</td>\n",
       "    </tr>\n",
       "    <tr>\n",
       "      <th>Nantucket Nectar</th>\n",
       "      <td>$3.39</td>\n",
       "    </tr>\n",
       "    <tr>\n",
       "      <th>Chips and Tomatillo-Green Chili Salsa</th>\n",
       "      <td>$2.39</td>\n",
       "    </tr>\n",
       "    <tr>\n",
       "      <th>Chicken Bowl</th>\n",
       "      <td>$16.98</td>\n",
       "    </tr>\n",
       "    <tr>\n",
       "      <th>...</th>\n",
       "      <td>...</td>\n",
       "    </tr>\n",
       "    <tr>\n",
       "      <th>Steak Burrito</th>\n",
       "      <td>$11.75</td>\n",
       "    </tr>\n",
       "    <tr>\n",
       "      <th>Steak Burrito</th>\n",
       "      <td>$11.75</td>\n",
       "    </tr>\n",
       "    <tr>\n",
       "      <th>Chicken Salad Bowl</th>\n",
       "      <td>$11.25</td>\n",
       "    </tr>\n",
       "    <tr>\n",
       "      <th>Chicken Salad Bowl</th>\n",
       "      <td>$8.75</td>\n",
       "    </tr>\n",
       "    <tr>\n",
       "      <th>Chicken Salad Bowl</th>\n",
       "      <td>$8.75</td>\n",
       "    </tr>\n",
       "  </tbody>\n",
       "</table>\n",
       "<p>4622 rows × 1 columns</p>\n",
       "</div>"
      ],
      "text/plain": [
       "                                      item_price\n",
       "item_name                                       \n",
       "Chips and Fresh Tomato Salsa              $2.39 \n",
       "Izze                                      $3.39 \n",
       "Nantucket Nectar                          $3.39 \n",
       "Chips and Tomatillo-Green Chili Salsa     $2.39 \n",
       "Chicken Bowl                             $16.98 \n",
       "...                                          ...\n",
       "Steak Burrito                            $11.75 \n",
       "Steak Burrito                            $11.75 \n",
       "Chicken Salad Bowl                       $11.25 \n",
       "Chicken Salad Bowl                        $8.75 \n",
       "Chicken Salad Bowl                        $8.75 \n",
       "\n",
       "[4622 rows x 1 columns]"
      ]
     },
     "execution_count": 19,
     "metadata": {},
     "output_type": "execute_result"
    }
   ],
   "source": [
    "import pandas as pd\n",
    "\n",
    "# i. Read `items.csv` making `item_name` as index\n",
    "items = pd.read_csv('items.csv', index_col='item_name')\n",
    "items"
   ]
  },
  {
   "cell_type": "code",
   "execution_count": 22,
   "id": "8f8b500d",
   "metadata": {},
   "outputs": [
    {
     "data": {
      "application/vnd.microsoft.datawrangler.viewer.v0+json": {
       "columns": [
        {
         "name": "index",
         "rawType": "object",
         "type": "string"
        },
        {
         "name": "0",
         "rawType": "int64",
         "type": "integer"
        }
       ],
       "ref": "0d1ffa5f-ac10-411f-aa22-ec1d1bf1a855",
       "rows": [
        [
         "item_price",
         "50"
        ]
       ],
       "shape": {
        "columns": 1,
        "rows": 1
       }
      },
      "text/plain": [
       "item_price    50\n",
       "dtype: int64"
      ]
     },
     "execution_count": 22,
     "metadata": {},
     "output_type": "execute_result"
    }
   ],
   "source": [
    "\n",
    "# ii. Show number of NaN values\n",
    "na = items.isna().sum()\n",
    "na  "
   ]
  },
  {
   "cell_type": "code",
   "execution_count": 23,
   "id": "39ae3e47",
   "metadata": {},
   "outputs": [
    {
     "data": {
      "application/vnd.microsoft.datawrangler.viewer.v0+json": {
       "columns": [
        {
         "name": "item_name",
         "rawType": "object",
         "type": "string"
        },
        {
         "name": "item_price",
         "rawType": "object",
         "type": "unknown"
        }
       ],
       "ref": "f45bd179-025e-48a2-8754-c7e4093d3d52",
       "rows": [
        [
         "Chips and Fresh Tomato Salsa",
         "2.39 "
        ],
        [
         "Izze",
         "3.39 "
        ],
        [
         "Nantucket Nectar",
         "3.39 "
        ],
        [
         "Chips and Tomatillo-Green Chili Salsa",
         "2.39 "
        ],
        [
         "Chicken Bowl",
         "16.98 "
        ],
        [
         "Chicken Bowl",
         "10.98 "
        ],
        [
         "Side of Chips",
         null
        ],
        [
         "Steak Burrito",
         "11.75 "
        ],
        [
         "Steak Soft Tacos",
         null
        ],
        [
         "Steak Burrito",
         "9.25 "
        ],
        [
         "Chips and Guacamole",
         "4.45 "
        ],
        [
         "Chicken Crispy Tacos",
         "8.75 "
        ],
        [
         "Chicken Soft Tacos",
         "8.75 "
        ],
        [
         "Chicken Bowl",
         "11.25 "
        ],
        [
         "Chips and Guacamole",
         "4.45 "
        ],
        [
         "Chips and Tomatillo-Green Chili Salsa",
         "2.39 "
        ],
        [
         "Chicken Burrito",
         "8.49 "
        ],
        [
         "Chicken Burrito",
         "8.49 "
        ],
        [
         "Canned Soda",
         "2.18 "
        ],
        [
         "Chicken Bowl",
         "8.75 "
        ],
        [
         "Chips and Guacamole",
         "4.45 "
        ],
        [
         "Barbacoa Burrito",
         "8.99 "
        ],
        [
         "Nantucket Nectar",
         "3.39 "
        ],
        [
         "Chicken Burrito",
         "10.98 "
        ],
        [
         "Izze",
         "3.39 "
        ],
        [
         "Chips and Fresh Tomato Salsa",
         "2.39 "
        ],
        [
         "Chicken Bowl",
         "8.49 "
        ],
        [
         "Carnitas Burrito",
         "8.99 "
        ],
        [
         "Canned Soda",
         "1.09 "
        ],
        [
         "Chicken Burrito",
         "8.49 "
        ],
        [
         "Chips and Tomatillo-Green Chili Salsa",
         "2.39 "
        ],
        [
         "Steak Burrito",
         "8.99 "
        ],
        [
         "Side of Chips",
         "1.69 "
        ],
        [
         "Carnitas Bowl",
         "8.99 "
        ],
        [
         "Bottled Water",
         "1.09 "
        ],
        [
         "Chicken Soft Tacos",
         "8.75 "
        ],
        [
         "Chicken Soft Tacos",
         "8.75 "
        ],
        [
         "Chips and Guacamole",
         "4.45 "
        ],
        [
         "Chips and Tomatillo Green Chili Salsa",
         "2.95 "
        ],
        [
         "Barbacoa Bowl",
         "11.75 "
        ],
        [
         "Chips",
         null
        ],
        [
         "Chips and Guacamole",
         "4.45 "
        ],
        [
         "Chicken Bowl",
         "11.25 "
        ],
        [
         "Steak Burrito",
         "11.75 "
        ],
        [
         "Chicken Salad Bowl",
         "8.75 "
        ],
        [
         "Chicken Burrito",
         "10.98 "
        ],
        [
         "Steak Burrito",
         "8.99 "
        ],
        [
         "Izze",
         "3.39 "
        ],
        [
         "Steak Burrito",
         "8.99 "
        ],
        [
         "Chips and Guacamole",
         "3.99 "
        ]
       ],
       "shape": {
        "columns": 1,
        "rows": 4622
       }
      },
      "text/html": [
       "<div>\n",
       "<style scoped>\n",
       "    .dataframe tbody tr th:only-of-type {\n",
       "        vertical-align: middle;\n",
       "    }\n",
       "\n",
       "    .dataframe tbody tr th {\n",
       "        vertical-align: top;\n",
       "    }\n",
       "\n",
       "    .dataframe thead th {\n",
       "        text-align: right;\n",
       "    }\n",
       "</style>\n",
       "<table border=\"1\" class=\"dataframe\">\n",
       "  <thead>\n",
       "    <tr style=\"text-align: right;\">\n",
       "      <th></th>\n",
       "      <th>item_price</th>\n",
       "    </tr>\n",
       "    <tr>\n",
       "      <th>item_name</th>\n",
       "      <th></th>\n",
       "    </tr>\n",
       "  </thead>\n",
       "  <tbody>\n",
       "    <tr>\n",
       "      <th>Chips and Fresh Tomato Salsa</th>\n",
       "      <td>2.39</td>\n",
       "    </tr>\n",
       "    <tr>\n",
       "      <th>Izze</th>\n",
       "      <td>3.39</td>\n",
       "    </tr>\n",
       "    <tr>\n",
       "      <th>Nantucket Nectar</th>\n",
       "      <td>3.39</td>\n",
       "    </tr>\n",
       "    <tr>\n",
       "      <th>Chips and Tomatillo-Green Chili Salsa</th>\n",
       "      <td>2.39</td>\n",
       "    </tr>\n",
       "    <tr>\n",
       "      <th>Chicken Bowl</th>\n",
       "      <td>16.98</td>\n",
       "    </tr>\n",
       "    <tr>\n",
       "      <th>...</th>\n",
       "      <td>...</td>\n",
       "    </tr>\n",
       "    <tr>\n",
       "      <th>Steak Burrito</th>\n",
       "      <td>11.75</td>\n",
       "    </tr>\n",
       "    <tr>\n",
       "      <th>Steak Burrito</th>\n",
       "      <td>11.75</td>\n",
       "    </tr>\n",
       "    <tr>\n",
       "      <th>Chicken Salad Bowl</th>\n",
       "      <td>11.25</td>\n",
       "    </tr>\n",
       "    <tr>\n",
       "      <th>Chicken Salad Bowl</th>\n",
       "      <td>8.75</td>\n",
       "    </tr>\n",
       "    <tr>\n",
       "      <th>Chicken Salad Bowl</th>\n",
       "      <td>8.75</td>\n",
       "    </tr>\n",
       "  </tbody>\n",
       "</table>\n",
       "<p>4622 rows × 1 columns</p>\n",
       "</div>"
      ],
      "text/plain": [
       "                                      item_price\n",
       "item_name                                       \n",
       "Chips and Fresh Tomato Salsa               2.39 \n",
       "Izze                                       3.39 \n",
       "Nantucket Nectar                           3.39 \n",
       "Chips and Tomatillo-Green Chili Salsa      2.39 \n",
       "Chicken Bowl                              16.98 \n",
       "...                                          ...\n",
       "Steak Burrito                             11.75 \n",
       "Steak Burrito                             11.75 \n",
       "Chicken Salad Bowl                        11.25 \n",
       "Chicken Salad Bowl                         8.75 \n",
       "Chicken Salad Bowl                         8.75 \n",
       "\n",
       "[4622 rows x 1 columns]"
      ]
     },
     "execution_count": 23,
     "metadata": {},
     "output_type": "execute_result"
    }
   ],
   "source": [
    "# iii. Remove '$' symbol and convert to float\n",
    "items['item_price'] = items['item_price'].str.replace('$', '', regex=False)\n",
    "items"
   ]
  },
  {
   "cell_type": "code",
   "execution_count": 24,
   "id": "9ee7371d",
   "metadata": {},
   "outputs": [
    {
     "data": {
      "application/vnd.microsoft.datawrangler.viewer.v0+json": {
       "columns": [
        {
         "name": "item_name",
         "rawType": "object",
         "type": "string"
        },
        {
         "name": "item_price",
         "rawType": "float64",
         "type": "float"
        }
       ],
       "ref": "cc72c6d0-2578-4104-bffd-aaf127681329",
       "rows": [
        [
         "Chips and Fresh Tomato Salsa",
         "2.39"
        ],
        [
         "Izze",
         "3.39"
        ],
        [
         "Nantucket Nectar",
         "3.39"
        ],
        [
         "Chips and Tomatillo-Green Chili Salsa",
         "2.39"
        ],
        [
         "Chicken Bowl",
         "16.98"
        ],
        [
         "Chicken Bowl",
         "10.98"
        ],
        [
         "Side of Chips",
         null
        ],
        [
         "Steak Burrito",
         "11.75"
        ],
        [
         "Steak Soft Tacos",
         null
        ],
        [
         "Steak Burrito",
         "9.25"
        ],
        [
         "Chips and Guacamole",
         "4.45"
        ],
        [
         "Chicken Crispy Tacos",
         "8.75"
        ],
        [
         "Chicken Soft Tacos",
         "8.75"
        ],
        [
         "Chicken Bowl",
         "11.25"
        ],
        [
         "Chips and Guacamole",
         "4.45"
        ],
        [
         "Chips and Tomatillo-Green Chili Salsa",
         "2.39"
        ],
        [
         "Chicken Burrito",
         "8.49"
        ],
        [
         "Chicken Burrito",
         "8.49"
        ],
        [
         "Canned Soda",
         "2.18"
        ],
        [
         "Chicken Bowl",
         "8.75"
        ],
        [
         "Chips and Guacamole",
         "4.45"
        ],
        [
         "Barbacoa Burrito",
         "8.99"
        ],
        [
         "Nantucket Nectar",
         "3.39"
        ],
        [
         "Chicken Burrito",
         "10.98"
        ],
        [
         "Izze",
         "3.39"
        ],
        [
         "Chips and Fresh Tomato Salsa",
         "2.39"
        ],
        [
         "Chicken Bowl",
         "8.49"
        ],
        [
         "Carnitas Burrito",
         "8.99"
        ],
        [
         "Canned Soda",
         "1.09"
        ],
        [
         "Chicken Burrito",
         "8.49"
        ],
        [
         "Chips and Tomatillo-Green Chili Salsa",
         "2.39"
        ],
        [
         "Steak Burrito",
         "8.99"
        ],
        [
         "Side of Chips",
         "1.69"
        ],
        [
         "Carnitas Bowl",
         "8.99"
        ],
        [
         "Bottled Water",
         "1.09"
        ],
        [
         "Chicken Soft Tacos",
         "8.75"
        ],
        [
         "Chicken Soft Tacos",
         "8.75"
        ],
        [
         "Chips and Guacamole",
         "4.45"
        ],
        [
         "Chips and Tomatillo Green Chili Salsa",
         "2.95"
        ],
        [
         "Barbacoa Bowl",
         "11.75"
        ],
        [
         "Chips",
         null
        ],
        [
         "Chips and Guacamole",
         "4.45"
        ],
        [
         "Chicken Bowl",
         "11.25"
        ],
        [
         "Steak Burrito",
         "11.75"
        ],
        [
         "Chicken Salad Bowl",
         "8.75"
        ],
        [
         "Chicken Burrito",
         "10.98"
        ],
        [
         "Steak Burrito",
         "8.99"
        ],
        [
         "Izze",
         "3.39"
        ],
        [
         "Steak Burrito",
         "8.99"
        ],
        [
         "Chips and Guacamole",
         "3.99"
        ]
       ],
       "shape": {
        "columns": 1,
        "rows": 4622
       }
      },
      "text/html": [
       "<div>\n",
       "<style scoped>\n",
       "    .dataframe tbody tr th:only-of-type {\n",
       "        vertical-align: middle;\n",
       "    }\n",
       "\n",
       "    .dataframe tbody tr th {\n",
       "        vertical-align: top;\n",
       "    }\n",
       "\n",
       "    .dataframe thead th {\n",
       "        text-align: right;\n",
       "    }\n",
       "</style>\n",
       "<table border=\"1\" class=\"dataframe\">\n",
       "  <thead>\n",
       "    <tr style=\"text-align: right;\">\n",
       "      <th></th>\n",
       "      <th>item_price</th>\n",
       "    </tr>\n",
       "    <tr>\n",
       "      <th>item_name</th>\n",
       "      <th></th>\n",
       "    </tr>\n",
       "  </thead>\n",
       "  <tbody>\n",
       "    <tr>\n",
       "      <th>Chips and Fresh Tomato Salsa</th>\n",
       "      <td>2.39</td>\n",
       "    </tr>\n",
       "    <tr>\n",
       "      <th>Izze</th>\n",
       "      <td>3.39</td>\n",
       "    </tr>\n",
       "    <tr>\n",
       "      <th>Nantucket Nectar</th>\n",
       "      <td>3.39</td>\n",
       "    </tr>\n",
       "    <tr>\n",
       "      <th>Chips and Tomatillo-Green Chili Salsa</th>\n",
       "      <td>2.39</td>\n",
       "    </tr>\n",
       "    <tr>\n",
       "      <th>Chicken Bowl</th>\n",
       "      <td>16.98</td>\n",
       "    </tr>\n",
       "    <tr>\n",
       "      <th>...</th>\n",
       "      <td>...</td>\n",
       "    </tr>\n",
       "    <tr>\n",
       "      <th>Steak Burrito</th>\n",
       "      <td>11.75</td>\n",
       "    </tr>\n",
       "    <tr>\n",
       "      <th>Steak Burrito</th>\n",
       "      <td>11.75</td>\n",
       "    </tr>\n",
       "    <tr>\n",
       "      <th>Chicken Salad Bowl</th>\n",
       "      <td>11.25</td>\n",
       "    </tr>\n",
       "    <tr>\n",
       "      <th>Chicken Salad Bowl</th>\n",
       "      <td>8.75</td>\n",
       "    </tr>\n",
       "    <tr>\n",
       "      <th>Chicken Salad Bowl</th>\n",
       "      <td>8.75</td>\n",
       "    </tr>\n",
       "  </tbody>\n",
       "</table>\n",
       "<p>4622 rows × 1 columns</p>\n",
       "</div>"
      ],
      "text/plain": [
       "                                       item_price\n",
       "item_name                                        \n",
       "Chips and Fresh Tomato Salsa                 2.39\n",
       "Izze                                         3.39\n",
       "Nantucket Nectar                             3.39\n",
       "Chips and Tomatillo-Green Chili Salsa        2.39\n",
       "Chicken Bowl                                16.98\n",
       "...                                           ...\n",
       "Steak Burrito                               11.75\n",
       "Steak Burrito                               11.75\n",
       "Chicken Salad Bowl                          11.25\n",
       "Chicken Salad Bowl                           8.75\n",
       "Chicken Salad Bowl                           8.75\n",
       "\n",
       "[4622 rows x 1 columns]"
      ]
     },
     "execution_count": 24,
     "metadata": {},
     "output_type": "execute_result"
    }
   ],
   "source": [
    "# iv. Convert data type to float\n",
    "items['item_price'] = items['item_price'].astype(float)\n",
    "items"
   ]
  },
  {
   "cell_type": "code",
   "execution_count": 26,
   "id": "4108c0f4",
   "metadata": {},
   "outputs": [
    {
     "data": {
      "application/vnd.microsoft.datawrangler.viewer.v0+json": {
       "columns": [
        {
         "name": "item_name",
         "rawType": "object",
         "type": "string"
        },
        {
         "name": "item_price",
         "rawType": "float64",
         "type": "float"
        }
       ],
       "ref": "28a13bda-a8fe-4e04-ab53-b42dcb529f31",
       "rows": [
        [
         "Chips and Fresh Tomato Salsa",
         "2.39"
        ],
        [
         "Izze",
         "3.39"
        ],
        [
         "Nantucket Nectar",
         "3.39"
        ],
        [
         "Chips and Tomatillo-Green Chili Salsa",
         "2.39"
        ],
        [
         "Chicken Bowl",
         "16.98"
        ],
        [
         "Chicken Bowl",
         "10.98"
        ],
        [
         "Side of Chips",
         "7.463031496062992"
        ],
        [
         "Steak Burrito",
         "11.75"
        ],
        [
         "Steak Soft Tacos",
         "7.463031496062992"
        ],
        [
         "Steak Burrito",
         "9.25"
        ],
        [
         "Chips and Guacamole",
         "4.45"
        ],
        [
         "Chicken Crispy Tacos",
         "8.75"
        ],
        [
         "Chicken Soft Tacos",
         "8.75"
        ],
        [
         "Chicken Bowl",
         "11.25"
        ],
        [
         "Chips and Guacamole",
         "4.45"
        ],
        [
         "Chips and Tomatillo-Green Chili Salsa",
         "2.39"
        ],
        [
         "Chicken Burrito",
         "8.49"
        ],
        [
         "Chicken Burrito",
         "8.49"
        ],
        [
         "Canned Soda",
         "2.18"
        ],
        [
         "Chicken Bowl",
         "8.75"
        ],
        [
         "Chips and Guacamole",
         "4.45"
        ],
        [
         "Barbacoa Burrito",
         "8.99"
        ],
        [
         "Nantucket Nectar",
         "3.39"
        ],
        [
         "Chicken Burrito",
         "10.98"
        ],
        [
         "Izze",
         "3.39"
        ],
        [
         "Chips and Fresh Tomato Salsa",
         "2.39"
        ],
        [
         "Chicken Bowl",
         "8.49"
        ],
        [
         "Carnitas Burrito",
         "8.99"
        ],
        [
         "Canned Soda",
         "1.09"
        ],
        [
         "Chicken Burrito",
         "8.49"
        ],
        [
         "Chips and Tomatillo-Green Chili Salsa",
         "2.39"
        ],
        [
         "Steak Burrito",
         "8.99"
        ],
        [
         "Side of Chips",
         "1.69"
        ],
        [
         "Carnitas Bowl",
         "8.99"
        ],
        [
         "Bottled Water",
         "1.09"
        ],
        [
         "Chicken Soft Tacos",
         "8.75"
        ],
        [
         "Chicken Soft Tacos",
         "8.75"
        ],
        [
         "Chips and Guacamole",
         "4.45"
        ],
        [
         "Chips and Tomatillo Green Chili Salsa",
         "2.95"
        ],
        [
         "Barbacoa Bowl",
         "11.75"
        ],
        [
         "Chips",
         "7.463031496062992"
        ],
        [
         "Chips and Guacamole",
         "4.45"
        ],
        [
         "Chicken Bowl",
         "11.25"
        ],
        [
         "Steak Burrito",
         "11.75"
        ],
        [
         "Chicken Salad Bowl",
         "8.75"
        ],
        [
         "Chicken Burrito",
         "10.98"
        ],
        [
         "Steak Burrito",
         "8.99"
        ],
        [
         "Izze",
         "3.39"
        ],
        [
         "Steak Burrito",
         "8.99"
        ],
        [
         "Chips and Guacamole",
         "3.99"
        ]
       ],
       "shape": {
        "columns": 1,
        "rows": 4622
       }
      },
      "text/html": [
       "<div>\n",
       "<style scoped>\n",
       "    .dataframe tbody tr th:only-of-type {\n",
       "        vertical-align: middle;\n",
       "    }\n",
       "\n",
       "    .dataframe tbody tr th {\n",
       "        vertical-align: top;\n",
       "    }\n",
       "\n",
       "    .dataframe thead th {\n",
       "        text-align: right;\n",
       "    }\n",
       "</style>\n",
       "<table border=\"1\" class=\"dataframe\">\n",
       "  <thead>\n",
       "    <tr style=\"text-align: right;\">\n",
       "      <th></th>\n",
       "      <th>item_price</th>\n",
       "    </tr>\n",
       "    <tr>\n",
       "      <th>item_name</th>\n",
       "      <th></th>\n",
       "    </tr>\n",
       "  </thead>\n",
       "  <tbody>\n",
       "    <tr>\n",
       "      <th>Chips and Fresh Tomato Salsa</th>\n",
       "      <td>2.39</td>\n",
       "    </tr>\n",
       "    <tr>\n",
       "      <th>Izze</th>\n",
       "      <td>3.39</td>\n",
       "    </tr>\n",
       "    <tr>\n",
       "      <th>Nantucket Nectar</th>\n",
       "      <td>3.39</td>\n",
       "    </tr>\n",
       "    <tr>\n",
       "      <th>Chips and Tomatillo-Green Chili Salsa</th>\n",
       "      <td>2.39</td>\n",
       "    </tr>\n",
       "    <tr>\n",
       "      <th>Chicken Bowl</th>\n",
       "      <td>16.98</td>\n",
       "    </tr>\n",
       "    <tr>\n",
       "      <th>...</th>\n",
       "      <td>...</td>\n",
       "    </tr>\n",
       "    <tr>\n",
       "      <th>Steak Burrito</th>\n",
       "      <td>11.75</td>\n",
       "    </tr>\n",
       "    <tr>\n",
       "      <th>Steak Burrito</th>\n",
       "      <td>11.75</td>\n",
       "    </tr>\n",
       "    <tr>\n",
       "      <th>Chicken Salad Bowl</th>\n",
       "      <td>11.25</td>\n",
       "    </tr>\n",
       "    <tr>\n",
       "      <th>Chicken Salad Bowl</th>\n",
       "      <td>8.75</td>\n",
       "    </tr>\n",
       "    <tr>\n",
       "      <th>Chicken Salad Bowl</th>\n",
       "      <td>8.75</td>\n",
       "    </tr>\n",
       "  </tbody>\n",
       "</table>\n",
       "<p>4622 rows × 1 columns</p>\n",
       "</div>"
      ],
      "text/plain": [
       "                                       item_price\n",
       "item_name                                        \n",
       "Chips and Fresh Tomato Salsa                 2.39\n",
       "Izze                                         3.39\n",
       "Nantucket Nectar                             3.39\n",
       "Chips and Tomatillo-Green Chili Salsa        2.39\n",
       "Chicken Bowl                                16.98\n",
       "...                                           ...\n",
       "Steak Burrito                               11.75\n",
       "Steak Burrito                               11.75\n",
       "Chicken Salad Bowl                          11.25\n",
       "Chicken Salad Bowl                           8.75\n",
       "Chicken Salad Bowl                           8.75\n",
       "\n",
       "[4622 rows x 1 columns]"
      ]
     },
     "execution_count": 26,
     "metadata": {},
     "output_type": "execute_result"
    }
   ],
   "source": [
    "# v. Fill NaN with mean of the series\n",
    "mean_price = items['item_price'].mean()\n",
    "items['item_price'] = items['item_price'].fillna(mean_price)\n",
    "items"
   ]
  }
 ],
 "metadata": {
  "kernelspec": {
   "display_name": ".venv",
   "language": "python",
   "name": "python3"
  },
  "language_info": {
   "codemirror_mode": {
    "name": "ipython",
    "version": 3
   },
   "file_extension": ".py",
   "mimetype": "text/x-python",
   "name": "python",
   "nbconvert_exporter": "python",
   "pygments_lexer": "ipython3",
   "version": "3.13.5"
  }
 },
 "nbformat": 4,
 "nbformat_minor": 5
}
