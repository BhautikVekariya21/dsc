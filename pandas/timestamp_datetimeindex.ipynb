{
 "cells": [
  {
   "cell_type": "code",
   "execution_count": 1,
   "metadata": {},
   "outputs": [],
   "source": [
    "import numpy as np\n",
    "import pandas as pd"
   ]
  },
  {
   "cell_type": "markdown",
   "metadata": {},
   "source": [
    "### Timestamp Object\n",
    "\n",
    "Time stamps reference particular moments in time (e.g., Oct 24th, 2025 at 7:00pm)"
   ]
  },
  {
   "cell_type": "markdown",
   "metadata": {},
   "source": [
    "### Creating Timestamp objects"
   ]
  },
  {
   "cell_type": "code",
   "execution_count": 2,
   "metadata": {},
   "outputs": [
    {
     "data": {
      "text/plain": [
       "pandas._libs.tslibs.timestamps.Timestamp"
      ]
     },
     "execution_count": 2,
     "metadata": {},
     "output_type": "execute_result"
    }
   ],
   "source": [
    "# creating a timestamp\n",
    "type(pd.Timestamp('2032/1/5'))"
   ]
  },
  {
   "cell_type": "code",
   "execution_count": 3,
   "metadata": {},
   "outputs": [
    {
     "data": {
      "text/plain": [
       "Timestamp('2023-01-05 00:00:00')"
      ]
     },
     "execution_count": 3,
     "metadata": {},
     "output_type": "execute_result"
    }
   ],
   "source": [
    "#variations\n",
    "pd.Timestamp('2023-1-5')\n",
    "pd.Timestamp('2023, 1, 5')"
   ]
  },
  {
   "cell_type": "code",
   "execution_count": 4,
   "metadata": {},
   "outputs": [
    {
     "data": {
      "text/plain": [
       "Timestamp('2023-01-01 00:00:00')"
      ]
     },
     "execution_count": 4,
     "metadata": {},
     "output_type": "execute_result"
    }
   ],
   "source": [
    "# only year\n",
    "pd.Timestamp('2023')"
   ]
  },
  {
   "cell_type": "code",
   "execution_count": 5,
   "metadata": {},
   "outputs": [
    {
     "data": {
      "text/plain": [
       "Timestamp('2023-01-05 00:00:00')"
      ]
     },
     "execution_count": 5,
     "metadata": {},
     "output_type": "execute_result"
    }
   ],
   "source": [
    "#using texxt\n",
    "pd.Timestamp('5th January 2023')"
   ]
  },
  {
   "cell_type": "code",
   "execution_count": 6,
   "metadata": {},
   "outputs": [
    {
     "data": {
      "text/plain": [
       "Timestamp('2023-01-09 07:21:00')"
      ]
     },
     "execution_count": 6,
     "metadata": {},
     "output_type": "execute_result"
    }
   ],
   "source": [
    "# providing time also\n",
    "pd.Timestamp('5th January 2023 9:21AM')\n",
    "pd.Timestamp('2023/01/09 07:21')"
   ]
  },
  {
   "cell_type": "code",
   "execution_count": 7,
   "metadata": {},
   "outputs": [
    {
     "data": {
      "text/plain": [
       "Timestamp('2023-01-09 19:21:00')"
      ]
     },
     "execution_count": 7,
     "metadata": {},
     "output_type": "execute_result"
    }
   ],
   "source": [
    "# AM and PM\n",
    "pd.Timestamp('2023/01/09 07:21 PM')"
   ]
  },
  {
   "cell_type": "code",
   "execution_count": 9,
   "metadata": {},
   "outputs": [
    {
     "data": {
      "text/plain": [
       "Timestamp('2023-04-01 10:10:10')"
      ]
     },
     "execution_count": 9,
     "metadata": {},
     "output_type": "execute_result"
    }
   ],
   "source": [
    "# using datetime.datetime object\n",
    "import datetime as dt\n",
    "x = pd.Timestamp(dt.datetime(2023, 4, 1,10,10,10))\n",
    "x"
   ]
  },
  {
   "cell_type": "code",
   "execution_count": 10,
   "metadata": {},
   "outputs": [
    {
     "data": {
      "text/plain": [
       "2023"
      ]
     },
     "execution_count": 10,
     "metadata": {},
     "output_type": "execute_result"
    }
   ],
   "source": [
    "# fetching attributes\n",
    "x.year\n"
   ]
  },
  {
   "cell_type": "code",
   "execution_count": 11,
   "metadata": {},
   "outputs": [
    {
     "data": {
      "text/plain": [
       "4"
      ]
     },
     "execution_count": 11,
     "metadata": {},
     "output_type": "execute_result"
    }
   ],
   "source": [
    "x.month\n"
   ]
  },
  {
   "cell_type": "code",
   "execution_count": 12,
   "metadata": {},
   "outputs": [
    {
     "data": {
      "text/plain": [
       "1"
      ]
     },
     "execution_count": 12,
     "metadata": {},
     "output_type": "execute_result"
    }
   ],
   "source": [
    "x.day\n"
   ]
  },
  {
   "cell_type": "code",
   "execution_count": 13,
   "metadata": {},
   "outputs": [
    {
     "data": {
      "text/plain": [
       "10"
      ]
     },
     "execution_count": 13,
     "metadata": {},
     "output_type": "execute_result"
    }
   ],
   "source": [
    "x.hour\n"
   ]
  },
  {
   "cell_type": "code",
   "execution_count": 14,
   "metadata": {},
   "outputs": [
    {
     "data": {
      "text/plain": [
       "10"
      ]
     },
     "execution_count": 14,
     "metadata": {},
     "output_type": "execute_result"
    }
   ],
   "source": [
    "x.minute\n"
   ]
  },
  {
   "cell_type": "code",
   "execution_count": 15,
   "metadata": {},
   "outputs": [
    {
     "data": {
      "text/plain": [
       "10"
      ]
     },
     "execution_count": 15,
     "metadata": {},
     "output_type": "execute_result"
    }
   ],
   "source": [
    "x.second"
   ]
  },
  {
   "cell_type": "code",
   "execution_count": 23,
   "metadata": {},
   "outputs": [],
   "source": [
    "# why separate objects to handle data and time when python already has datetime functionality?"
   ]
  },
  {
   "cell_type": "markdown",
   "metadata": {},
   "source": [
    "- syntax wise datetime is very convenient\n",
    "\n",
    "1.   List item\n",
    "2.   List item\n",
    "\n",
    "\n",
    "- But the performance takes a hit while working with huge data. List vs Numpy Array\n",
    "- The weaknesses of Python's datetime format inspired the NumPy team to add a set of native time series data type to NumPy.\n",
    "- The datetime64 dtype encodes dates as 64-bit integers, and thus allows arrays of dates to be represented very compactly."
   ]
  },
  {
   "cell_type": "code",
   "execution_count": 16,
   "metadata": {},
   "outputs": [
    {
     "data": {
      "text/plain": [
       "array('2025-07-04', dtype='datetime64[D]')"
      ]
     },
     "execution_count": 16,
     "metadata": {},
     "output_type": "execute_result"
    }
   ],
   "source": [
    "import numpy as np\n",
    "date = np.array('2025-07-04',dtype=np.datetime64)\n",
    "date"
   ]
  },
  {
   "cell_type": "code",
   "execution_count": 17,
   "metadata": {},
   "outputs": [
    {
     "data": {
      "text/plain": [
       "array(['2025-07-04', '2025-07-05', '2025-07-06', '2025-07-07',\n",
       "       '2025-07-08', '2025-07-09', '2025-07-10', '2025-07-11',\n",
       "       '2025-07-12', '2025-07-13', '2025-07-14', '2025-07-15'],\n",
       "      dtype='datetime64[D]')"
      ]
     },
     "execution_count": 17,
     "metadata": {},
     "output_type": "execute_result"
    }
   ],
   "source": [
    "date + np.arange(12)"
   ]
  },
  {
   "cell_type": "markdown",
   "metadata": {},
   "source": [
    "- Because of the uniform type in NumPy datetime64 arrays, this type of operation can be accomplished much more quickly than if we were working directly with Python's datetime objects, especially as arrays get large \n",
    "\n",
    "- Pandas Timestamp object combines the ease-of-use of python datetime with the efficient storage and vectorized interface of numpy.datetime64\n",
    "\n",
    "- From a group of these Timestamp objects, Pandas can construct a DatetimeIndex that can be used to index data in a Series or DataFrame"
   ]
  },
  {
   "cell_type": "markdown",
   "metadata": {},
   "source": [
    "### DatetimeIndex Object\n",
    "\n",
    "A collection of pandas timestamp"
   ]
  },
  {
   "cell_type": "code",
   "execution_count": 18,
   "metadata": {},
   "outputs": [
    {
     "data": {
      "text/plain": [
       "pandas.core.indexes.datetimes.DatetimeIndex"
      ]
     },
     "execution_count": 18,
     "metadata": {},
     "output_type": "execute_result"
    }
   ],
   "source": [
    "# from strings\n",
    "type(pd.DatetimeIndex(['2023/1/10','2022/1/1','2021/1/1']))"
   ]
  },
  {
   "cell_type": "code",
   "execution_count": 19,
   "metadata": {},
   "outputs": [
    {
     "data": {
      "text/plain": [
       "DatetimeIndex(['2023-01-01', '2022-01-01', '2021-01-01'], dtype='datetime64[ns]', freq=None)"
      ]
     },
     "execution_count": 19,
     "metadata": {},
     "output_type": "execute_result"
    }
   ],
   "source": [
    "# using python datetime object\n",
    "pd.DatetimeIndex([dt.datetime(2023,1,1),dt.datetime(2022,1,1),dt.datetime(2021,1,1)])"
   ]
  },
  {
   "cell_type": "code",
   "execution_count": 21,
   "metadata": {},
   "outputs": [
    {
     "data": {
      "text/plain": [
       "DatetimeIndex(['2023-01-01', '2022-01-01', '2021-01-01'], dtype='datetime64[ns]', freq=None)"
      ]
     },
     "execution_count": 21,
     "metadata": {},
     "output_type": "execute_result"
    }
   ],
   "source": [
    "# using pd.timestamps\n",
    "dt_index = pd.DatetimeIndex([pd.Timestamp(2023,1,1),pd.Timestamp(2022,1,1),pd.Timestamp(2021,1,1)])\n",
    "dt_index"
   ]
  },
  {
   "cell_type": "code",
   "execution_count": 22,
   "metadata": {},
   "outputs": [
    {
     "data": {
      "application/vnd.microsoft.datawrangler.viewer.v0+json": {
       "columns": [
        {
         "name": "index",
         "rawType": "datetime64[ns]",
         "type": "datetime"
        },
        {
         "name": "0",
         "rawType": "int64",
         "type": "integer"
        }
       ],
       "ref": "fb0a06f6-71f4-43a7-a864-9259d54bec31",
       "rows": [
        [
         "2023-01-01 00:00:00",
         "1"
        ],
        [
         "2022-01-01 00:00:00",
         "2"
        ],
        [
         "2021-01-01 00:00:00",
         "3"
        ]
       ],
       "shape": {
        "columns": 1,
        "rows": 3
       }
      },
      "text/plain": [
       "2023-01-01    1\n",
       "2022-01-01    2\n",
       "2021-01-01    3\n",
       "dtype: int64"
      ]
     },
     "execution_count": 22,
     "metadata": {},
     "output_type": "execute_result"
    }
   ],
   "source": [
    "# using datatimeindex as series index\n",
    "\n",
    "pd.Series([1,2,3],index=dt_index)"
   ]
  },
  {
   "cell_type": "markdown",
   "metadata": {},
   "source": [
    "### date_range function\n",
    "\n"
   ]
  },
  {
   "cell_type": "code",
   "execution_count": 23,
   "metadata": {},
   "outputs": [
    {
     "data": {
      "text/plain": [
       "DatetimeIndex(['2023-01-05', '2023-01-08', '2023-01-11', '2023-01-14',\n",
       "               '2023-01-17', '2023-01-20', '2023-01-23', '2023-01-26',\n",
       "               '2023-01-29', '2023-02-01', '2023-02-04', '2023-02-07',\n",
       "               '2023-02-10', '2023-02-13', '2023-02-16', '2023-02-19',\n",
       "               '2023-02-22', '2023-02-25', '2023-02-28'],\n",
       "              dtype='datetime64[ns]', freq='3D')"
      ]
     },
     "execution_count": 23,
     "metadata": {},
     "output_type": "execute_result"
    }
   ],
   "source": [
    "# generate daily dates in a given range\n",
    "pd.date_range(start='2023/1/5',end='2023/2/28',freq='3D')"
   ]
  },
  {
   "cell_type": "code",
   "execution_count": 24,
   "metadata": {},
   "outputs": [
    {
     "data": {
      "text/plain": [
       "DatetimeIndex(['2023-01-05', '2023-01-06', '2023-01-07', '2023-01-08',\n",
       "               '2023-01-09', '2023-01-10', '2023-01-11', '2023-01-12',\n",
       "               '2023-01-13', '2023-01-14', '2023-01-15', '2023-01-16',\n",
       "               '2023-01-17', '2023-01-18', '2023-01-19', '2023-01-20',\n",
       "               '2023-01-21', '2023-01-22', '2023-01-23', '2023-01-24',\n",
       "               '2023-01-25', '2023-01-26', '2023-01-27', '2023-01-28',\n",
       "               '2023-01-29', '2023-01-30', '2023-01-31', '2023-02-01',\n",
       "               '2023-02-02', '2023-02-03', '2023-02-04', '2023-02-05',\n",
       "               '2023-02-06', '2023-02-07', '2023-02-08', '2023-02-09',\n",
       "               '2023-02-10', '2023-02-11', '2023-02-12', '2023-02-13',\n",
       "               '2023-02-14', '2023-02-15', '2023-02-16', '2023-02-17',\n",
       "               '2023-02-18', '2023-02-19', '2023-02-20', '2023-02-21',\n",
       "               '2023-02-22', '2023-02-23', '2023-02-24', '2023-02-25',\n",
       "               '2023-02-26', '2023-02-27', '2023-02-28'],\n",
       "              dtype='datetime64[ns]', freq='D')"
      ]
     },
     "execution_count": 24,
     "metadata": {},
     "output_type": "execute_result"
    }
   ],
   "source": [
    "# alternate days in a given range\n",
    "pd.date_range(start='2023/1/5',end='2023/2/28',freq='1D')"
   ]
  },
  {
   "cell_type": "code",
   "execution_count": 25,
   "metadata": {},
   "outputs": [
    {
     "data": {
      "text/plain": [
       "DatetimeIndex(['2023-01-05', '2023-01-06', '2023-01-09', '2023-01-10',\n",
       "               '2023-01-11', '2023-01-12', '2023-01-13', '2023-01-16',\n",
       "               '2023-01-17', '2023-01-18', '2023-01-19', '2023-01-20',\n",
       "               '2023-01-23', '2023-01-24', '2023-01-25', '2023-01-26',\n",
       "               '2023-01-27', '2023-01-30', '2023-01-31', '2023-02-01',\n",
       "               '2023-02-02', '2023-02-03', '2023-02-06', '2023-02-07',\n",
       "               '2023-02-08', '2023-02-09', '2023-02-10', '2023-02-13',\n",
       "               '2023-02-14', '2023-02-15', '2023-02-16', '2023-02-17',\n",
       "               '2023-02-20', '2023-02-21', '2023-02-22', '2023-02-23',\n",
       "               '2023-02-24', '2023-02-27', '2023-02-28'],\n",
       "              dtype='datetime64[ns]', freq='B')"
      ]
     },
     "execution_count": 25,
     "metadata": {},
     "output_type": "execute_result"
    }
   ],
   "source": [
    "# B -> business days\n",
    "pd.date_range(start='2023/1/5',end='2023/2/28',freq='B')"
   ]
  },
  {
   "cell_type": "code",
   "execution_count": 26,
   "metadata": {},
   "outputs": [
    {
     "data": {
      "text/plain": [
       "DatetimeIndex(['2023-01-10', '2023-01-17', '2023-01-24', '2023-01-31',\n",
       "               '2023-02-07', '2023-02-14', '2023-02-21', '2023-02-28'],\n",
       "              dtype='datetime64[ns]', freq='W-TUE')"
      ]
     },
     "execution_count": 26,
     "metadata": {},
     "output_type": "execute_result"
    }
   ],
   "source": [
    "# W -> one week per day\n",
    "pd.date_range(start='2023/1/5',end='2023/2/28',freq='W-TUE')"
   ]
  },
  {
   "cell_type": "code",
   "execution_count": 27,
   "metadata": {},
   "outputs": [
    {
     "data": {
      "text/plain": [
       "DatetimeIndex(['2023-01-05 00:00:00', '2023-01-05 06:00:00',\n",
       "               '2023-01-05 12:00:00', '2023-01-05 18:00:00',\n",
       "               '2023-01-06 00:00:00', '2023-01-06 06:00:00',\n",
       "               '2023-01-06 12:00:00', '2023-01-06 18:00:00',\n",
       "               '2023-01-07 00:00:00', '2023-01-07 06:00:00',\n",
       "               ...\n",
       "               '2023-02-25 18:00:00', '2023-02-26 00:00:00',\n",
       "               '2023-02-26 06:00:00', '2023-02-26 12:00:00',\n",
       "               '2023-02-26 18:00:00', '2023-02-27 00:00:00',\n",
       "               '2023-02-27 06:00:00', '2023-02-27 12:00:00',\n",
       "               '2023-02-27 18:00:00', '2023-02-28 00:00:00'],\n",
       "              dtype='datetime64[ns]', length=217, freq='6h')"
      ]
     },
     "execution_count": 27,
     "metadata": {},
     "output_type": "execute_result"
    }
   ],
   "source": [
    "# H -> Hourly data(factor)\n",
    "pd.date_range(start='2023/1/5',end='2023/2/28',freq='6h')"
   ]
  },
  {
   "cell_type": "code",
   "execution_count": 28,
   "metadata": {},
   "outputs": [
    {
     "data": {
      "text/plain": [
       "DatetimeIndex(['2023-01-31', '2023-02-28'], dtype='datetime64[ns]', freq='ME')"
      ]
     },
     "execution_count": 28,
     "metadata": {},
     "output_type": "execute_result"
    }
   ],
   "source": [
    "# M -> Month end\n",
    "pd.date_range(start='2023/1/5',end='2023/2/28',freq='ME')"
   ]
  },
  {
   "cell_type": "code",
   "execution_count": 43,
   "metadata": {},
   "outputs": [
    {
     "data": {
      "text/plain": [
       "DatetimeIndex(['2023-02-01'], dtype='datetime64[ns]', freq='MS')"
      ]
     },
     "execution_count": 43,
     "metadata": {},
     "output_type": "execute_result"
    }
   ],
   "source": [
    "# MS -> Month start\n",
    "pd.date_range(start='2023/1/5',end='2023/2/28',freq='MS')"
   ]
  },
  {
   "cell_type": "code",
   "execution_count": 29,
   "metadata": {},
   "outputs": [
    {
     "data": {
      "text/plain": [
       "DatetimeIndex(['2023-12-31', '2024-12-31', '2025-12-31', '2026-12-31',\n",
       "               '2027-12-31', '2028-12-31', '2029-12-31'],\n",
       "              dtype='datetime64[ns]', freq='YE-DEC')"
      ]
     },
     "execution_count": 29,
     "metadata": {},
     "output_type": "execute_result"
    }
   ],
   "source": [
    "# A -> Year end\n",
    "pd.date_range(start='2023/1/5',end='2030/2/28',freq='YE')"
   ]
  },
  {
   "cell_type": "code",
   "execution_count": 30,
   "metadata": {},
   "outputs": [
    {
     "data": {
      "text/plain": [
       "DatetimeIndex(['2023-01-31', '2023-02-28', '2023-03-31', '2023-04-30',\n",
       "               '2023-05-31', '2023-06-30', '2023-07-31', '2023-08-31',\n",
       "               '2023-09-30', '2023-10-31', '2023-11-30', '2023-12-31',\n",
       "               '2024-01-31', '2024-02-29', '2024-03-31', '2024-04-30',\n",
       "               '2024-05-31', '2024-06-30', '2024-07-31', '2024-08-31',\n",
       "               '2024-09-30', '2024-10-31', '2024-11-30', '2024-12-31',\n",
       "               '2025-01-31'],\n",
       "              dtype='datetime64[ns]', freq='ME')"
      ]
     },
     "execution_count": 30,
     "metadata": {},
     "output_type": "execute_result"
    }
   ],
   "source": [
    "# using periods(number of results)\n",
    "pd.date_range(start='2023/1/5',periods=25,freq='ME')"
   ]
  },
  {
   "cell_type": "markdown",
   "metadata": {},
   "source": [
    "### to_datetime function\n",
    "\n",
    "converts an existing objects to pandas timestamp/datetimeindex object"
   ]
  },
  {
   "cell_type": "code",
   "execution_count": 31,
   "metadata": {},
   "outputs": [
    {
     "data": {
      "application/vnd.microsoft.datawrangler.viewer.v0+json": {
       "columns": [
        {
         "name": "index",
         "rawType": "int64",
         "type": "integer"
        },
        {
         "name": "0",
         "rawType": "object",
         "type": "string"
        }
       ],
       "ref": "8aca97e6-4e32-4e0b-9467-f67b47de65e7",
       "rows": [
        [
         "0",
         "Sunday"
        ],
        [
         "1",
         "Saturday"
        ],
        [
         "2",
         "Friday"
        ]
       ],
       "shape": {
        "columns": 1,
        "rows": 3
       }
      },
      "text/plain": [
       "0      Sunday\n",
       "1    Saturday\n",
       "2      Friday\n",
       "dtype: object"
      ]
     },
     "execution_count": 31,
     "metadata": {},
     "output_type": "execute_result"
    }
   ],
   "source": [
    "# simple series example\n",
    "\n",
    "s = pd.Series(['2023/1/1','2022/1/1','2021/10/1'])\n",
    "pd.to_datetime(s).dt.day_name()"
   ]
  },
  {
   "cell_type": "code",
   "execution_count": 32,
   "metadata": {},
   "outputs": [
    {
     "data": {
      "application/vnd.microsoft.datawrangler.viewer.v0+json": {
       "columns": [
        {
         "name": "index",
         "rawType": "int64",
         "type": "integer"
        },
        {
         "name": "0",
         "rawType": "object",
         "type": "unknown"
        }
       ],
       "ref": "f9f4a2dd-48a6-4cf9-809d-b8deb73b1a4d",
       "rows": [
        [
         "0",
         "January"
        ],
        [
         "1",
         "January"
        ],
        [
         "2",
         null
        ]
       ],
       "shape": {
        "columns": 1,
        "rows": 3
       }
      },
      "text/plain": [
       "0    January\n",
       "1    January\n",
       "2        NaN\n",
       "dtype: object"
      ]
     },
     "execution_count": 32,
     "metadata": {},
     "output_type": "execute_result"
    }
   ],
   "source": [
    "# with errors\n",
    "s = pd.Series(['2023/1/1','2022/1/1','2021/130/1'])\n",
    "pd.to_datetime(s,errors='coerce').dt.month_name()"
   ]
  },
  {
   "cell_type": "code",
   "execution_count": 33,
   "metadata": {},
   "outputs": [
    {
     "data": {
      "text/plain": [
       "(277, 11)"
      ]
     },
     "execution_count": 33,
     "metadata": {},
     "output_type": "execute_result"
    }
   ],
   "source": [
    "df = pd.read_csv('expense_data.csv')\n",
    "df.shape"
   ]
  },
  {
   "cell_type": "code",
   "execution_count": 34,
   "metadata": {},
   "outputs": [
    {
     "data": {
      "application/vnd.microsoft.datawrangler.viewer.v0+json": {
       "columns": [
        {
         "name": "index",
         "rawType": "int64",
         "type": "integer"
        },
        {
         "name": "Date",
         "rawType": "object",
         "type": "string"
        },
        {
         "name": "Account",
         "rawType": "object",
         "type": "string"
        },
        {
         "name": "Category",
         "rawType": "object",
         "type": "string"
        },
        {
         "name": "Subcategory",
         "rawType": "float64",
         "type": "float"
        },
        {
         "name": "Note",
         "rawType": "object",
         "type": "string"
        },
        {
         "name": "INR",
         "rawType": "float64",
         "type": "float"
        },
        {
         "name": "Income/Expense",
         "rawType": "object",
         "type": "string"
        },
        {
         "name": "Note.1",
         "rawType": "float64",
         "type": "float"
        },
        {
         "name": "Amount",
         "rawType": "float64",
         "type": "float"
        },
        {
         "name": "Currency",
         "rawType": "object",
         "type": "string"
        },
        {
         "name": "Account.1",
         "rawType": "float64",
         "type": "float"
        }
       ],
       "ref": "836e1de2-a966-4bf3-8ca9-889956030bce",
       "rows": [
        [
         "0",
         "3/2/2022 10:11",
         "CUB - online payment",
         "Food",
         null,
         "Brownie",
         "50.0",
         "Expense",
         null,
         "50.0",
         "INR",
         "50.0"
        ],
        [
         "1",
         "3/2/2022 10:11",
         "CUB - online payment",
         "Other",
         null,
         "To lended people",
         "300.0",
         "Expense",
         null,
         "300.0",
         "INR",
         "300.0"
        ],
        [
         "2",
         "3/1/2022 19:50",
         "CUB - online payment",
         "Food",
         null,
         "Dinner",
         "78.0",
         "Expense",
         null,
         "78.0",
         "INR",
         "78.0"
        ],
        [
         "3",
         "3/1/2022 18:56",
         "CUB - online payment",
         "Transportation",
         null,
         "Metro",
         "30.0",
         "Expense",
         null,
         "30.0",
         "INR",
         "30.0"
        ],
        [
         "4",
         "3/1/2022 18:22",
         "CUB - online payment",
         "Food",
         null,
         "Snacks",
         "67.0",
         "Expense",
         null,
         "67.0",
         "INR",
         "67.0"
        ]
       ],
       "shape": {
        "columns": 11,
        "rows": 5
       }
      },
      "text/html": [
       "<div>\n",
       "<style scoped>\n",
       "    .dataframe tbody tr th:only-of-type {\n",
       "        vertical-align: middle;\n",
       "    }\n",
       "\n",
       "    .dataframe tbody tr th {\n",
       "        vertical-align: top;\n",
       "    }\n",
       "\n",
       "    .dataframe thead th {\n",
       "        text-align: right;\n",
       "    }\n",
       "</style>\n",
       "<table border=\"1\" class=\"dataframe\">\n",
       "  <thead>\n",
       "    <tr style=\"text-align: right;\">\n",
       "      <th></th>\n",
       "      <th>Date</th>\n",
       "      <th>Account</th>\n",
       "      <th>Category</th>\n",
       "      <th>Subcategory</th>\n",
       "      <th>Note</th>\n",
       "      <th>INR</th>\n",
       "      <th>Income/Expense</th>\n",
       "      <th>Note.1</th>\n",
       "      <th>Amount</th>\n",
       "      <th>Currency</th>\n",
       "      <th>Account.1</th>\n",
       "    </tr>\n",
       "  </thead>\n",
       "  <tbody>\n",
       "    <tr>\n",
       "      <th>0</th>\n",
       "      <td>3/2/2022 10:11</td>\n",
       "      <td>CUB - online payment</td>\n",
       "      <td>Food</td>\n",
       "      <td>NaN</td>\n",
       "      <td>Brownie</td>\n",
       "      <td>50.0</td>\n",
       "      <td>Expense</td>\n",
       "      <td>NaN</td>\n",
       "      <td>50.0</td>\n",
       "      <td>INR</td>\n",
       "      <td>50.0</td>\n",
       "    </tr>\n",
       "    <tr>\n",
       "      <th>1</th>\n",
       "      <td>3/2/2022 10:11</td>\n",
       "      <td>CUB - online payment</td>\n",
       "      <td>Other</td>\n",
       "      <td>NaN</td>\n",
       "      <td>To lended people</td>\n",
       "      <td>300.0</td>\n",
       "      <td>Expense</td>\n",
       "      <td>NaN</td>\n",
       "      <td>300.0</td>\n",
       "      <td>INR</td>\n",
       "      <td>300.0</td>\n",
       "    </tr>\n",
       "    <tr>\n",
       "      <th>2</th>\n",
       "      <td>3/1/2022 19:50</td>\n",
       "      <td>CUB - online payment</td>\n",
       "      <td>Food</td>\n",
       "      <td>NaN</td>\n",
       "      <td>Dinner</td>\n",
       "      <td>78.0</td>\n",
       "      <td>Expense</td>\n",
       "      <td>NaN</td>\n",
       "      <td>78.0</td>\n",
       "      <td>INR</td>\n",
       "      <td>78.0</td>\n",
       "    </tr>\n",
       "    <tr>\n",
       "      <th>3</th>\n",
       "      <td>3/1/2022 18:56</td>\n",
       "      <td>CUB - online payment</td>\n",
       "      <td>Transportation</td>\n",
       "      <td>NaN</td>\n",
       "      <td>Metro</td>\n",
       "      <td>30.0</td>\n",
       "      <td>Expense</td>\n",
       "      <td>NaN</td>\n",
       "      <td>30.0</td>\n",
       "      <td>INR</td>\n",
       "      <td>30.0</td>\n",
       "    </tr>\n",
       "    <tr>\n",
       "      <th>4</th>\n",
       "      <td>3/1/2022 18:22</td>\n",
       "      <td>CUB - online payment</td>\n",
       "      <td>Food</td>\n",
       "      <td>NaN</td>\n",
       "      <td>Snacks</td>\n",
       "      <td>67.0</td>\n",
       "      <td>Expense</td>\n",
       "      <td>NaN</td>\n",
       "      <td>67.0</td>\n",
       "      <td>INR</td>\n",
       "      <td>67.0</td>\n",
       "    </tr>\n",
       "  </tbody>\n",
       "</table>\n",
       "</div>"
      ],
      "text/plain": [
       "             Date               Account        Category  Subcategory  \\\n",
       "0  3/2/2022 10:11  CUB - online payment            Food          NaN   \n",
       "1  3/2/2022 10:11  CUB - online payment           Other          NaN   \n",
       "2  3/1/2022 19:50  CUB - online payment            Food          NaN   \n",
       "3  3/1/2022 18:56  CUB - online payment  Transportation          NaN   \n",
       "4  3/1/2022 18:22  CUB - online payment            Food          NaN   \n",
       "\n",
       "               Note    INR Income/Expense  Note.1  Amount Currency  Account.1  \n",
       "0           Brownie   50.0        Expense     NaN    50.0      INR       50.0  \n",
       "1  To lended people  300.0        Expense     NaN   300.0      INR      300.0  \n",
       "2            Dinner   78.0        Expense     NaN    78.0      INR       78.0  \n",
       "3             Metro   30.0        Expense     NaN    30.0      INR       30.0  \n",
       "4            Snacks   67.0        Expense     NaN    67.0      INR       67.0  "
      ]
     },
     "execution_count": 34,
     "metadata": {},
     "output_type": "execute_result"
    }
   ],
   "source": [
    "df.head()"
   ]
  },
  {
   "cell_type": "code",
   "execution_count": 35,
   "metadata": {},
   "outputs": [],
   "source": [
    "df['Date'] = pd.to_datetime(df['Date'])"
   ]
  },
  {
   "cell_type": "code",
   "execution_count": 36,
   "metadata": {},
   "outputs": [
    {
     "name": "stdout",
     "output_type": "stream",
     "text": [
      "<class 'pandas.core.frame.DataFrame'>\n",
      "RangeIndex: 277 entries, 0 to 276\n",
      "Data columns (total 11 columns):\n",
      " #   Column          Non-Null Count  Dtype         \n",
      "---  ------          --------------  -----         \n",
      " 0   Date            277 non-null    datetime64[ns]\n",
      " 1   Account         277 non-null    object        \n",
      " 2   Category        277 non-null    object        \n",
      " 3   Subcategory     0 non-null      float64       \n",
      " 4   Note            273 non-null    object        \n",
      " 5   INR             277 non-null    float64       \n",
      " 6   Income/Expense  277 non-null    object        \n",
      " 7   Note.1          0 non-null      float64       \n",
      " 8   Amount          277 non-null    float64       \n",
      " 9   Currency        277 non-null    object        \n",
      " 10  Account.1       277 non-null    float64       \n",
      "dtypes: datetime64[ns](1), float64(5), object(5)\n",
      "memory usage: 23.9+ KB\n"
     ]
    }
   ],
   "source": [
    "df.info()"
   ]
  },
  {
   "cell_type": "markdown",
   "metadata": {},
   "source": [
    "### dt accessor\n",
    "\n",
    "Accessor object for datetimelike properties of the Series values."
   ]
  },
  {
   "cell_type": "code",
   "execution_count": 37,
   "metadata": {},
   "outputs": [
    {
     "data": {
      "application/vnd.microsoft.datawrangler.viewer.v0+json": {
       "columns": [
        {
         "name": "index",
         "rawType": "int64",
         "type": "integer"
        },
        {
         "name": "Date",
         "rawType": "bool",
         "type": "boolean"
        }
       ],
       "ref": "1492eb43-2b49-4139-9ffe-0c0f0587c58b",
       "rows": [
        [
         "0",
         "False"
        ],
        [
         "1",
         "False"
        ],
        [
         "2",
         "False"
        ],
        [
         "3",
         "False"
        ],
        [
         "4",
         "False"
        ],
        [
         "5",
         "False"
        ],
        [
         "6",
         "False"
        ],
        [
         "7",
         "False"
        ],
        [
         "8",
         "False"
        ],
        [
         "9",
         "False"
        ],
        [
         "10",
         "False"
        ],
        [
         "11",
         "False"
        ],
        [
         "12",
         "False"
        ],
        [
         "13",
         "False"
        ],
        [
         "14",
         "False"
        ],
        [
         "15",
         "False"
        ],
        [
         "16",
         "False"
        ],
        [
         "17",
         "False"
        ],
        [
         "18",
         "False"
        ],
        [
         "19",
         "False"
        ],
        [
         "20",
         "False"
        ],
        [
         "21",
         "False"
        ],
        [
         "22",
         "False"
        ],
        [
         "23",
         "False"
        ],
        [
         "24",
         "False"
        ],
        [
         "25",
         "False"
        ],
        [
         "26",
         "False"
        ],
        [
         "27",
         "False"
        ],
        [
         "28",
         "False"
        ],
        [
         "29",
         "False"
        ],
        [
         "30",
         "False"
        ],
        [
         "31",
         "False"
        ],
        [
         "32",
         "False"
        ],
        [
         "33",
         "False"
        ],
        [
         "34",
         "False"
        ],
        [
         "35",
         "False"
        ],
        [
         "36",
         "False"
        ],
        [
         "37",
         "False"
        ],
        [
         "38",
         "False"
        ],
        [
         "39",
         "False"
        ],
        [
         "40",
         "False"
        ],
        [
         "41",
         "False"
        ],
        [
         "42",
         "False"
        ],
        [
         "43",
         "False"
        ],
        [
         "44",
         "False"
        ],
        [
         "45",
         "False"
        ],
        [
         "46",
         "False"
        ],
        [
         "47",
         "False"
        ],
        [
         "48",
         "False"
        ],
        [
         "49",
         "False"
        ]
       ],
       "shape": {
        "columns": 1,
        "rows": 277
       }
      },
      "text/plain": [
       "0      False\n",
       "1      False\n",
       "2      False\n",
       "3      False\n",
       "4      False\n",
       "       ...  \n",
       "272    False\n",
       "273    False\n",
       "274    False\n",
       "275    False\n",
       "276    False\n",
       "Name: Date, Length: 277, dtype: bool"
      ]
     },
     "execution_count": 37,
     "metadata": {},
     "output_type": "execute_result"
    }
   ],
   "source": [
    "df['Date'].dt.is_quarter_start"
   ]
  },
  {
   "cell_type": "code",
   "execution_count": 38,
   "metadata": {},
   "outputs": [
    {
     "data": {
      "text/plain": [
       "[<matplotlib.lines.Line2D at 0x280a09f5e50>]"
      ]
     },
     "execution_count": 38,
     "metadata": {},
     "output_type": "execute_result"
    },
    {
     "data": {
      "image/png": "[encoded data removed]",
      "text/plain": [
       "<Figure size 640x480 with 1 Axes>"
      ]
     },
     "metadata": {},
     "output_type": "display_data"
    }
   ],
   "source": [
    "# plot graph\n",
    "import matplotlib.pyplot as plt\n",
    "plt.plot(df['Date'],df[\"INR\"])"
   ]
  },
  {
   "cell_type": "code",
   "execution_count": 39,
   "metadata": {},
   "outputs": [],
   "source": [
    "# day name wise bar chart/month wise bar chart\n",
    "\n",
    "df['day_name'] = df['Date'].dt.day_name()"
   ]
  },
  {
   "cell_type": "code",
   "execution_count": 40,
   "metadata": {},
   "outputs": [
    {
     "data": {
      "application/vnd.microsoft.datawrangler.viewer.v0+json": {
       "columns": [
        {
         "name": "index",
         "rawType": "int64",
         "type": "integer"
        },
        {
         "name": "Date",
         "rawType": "datetime64[ns]",
         "type": "datetime"
        },
        {
         "name": "Account",
         "rawType": "object",
         "type": "string"
        },
        {
         "name": "Category",
         "rawType": "object",
         "type": "string"
        },
        {
         "name": "Subcategory",
         "rawType": "float64",
         "type": "float"
        },
        {
         "name": "Note",
         "rawType": "object",
         "type": "string"
        },
        {
         "name": "INR",
         "rawType": "float64",
         "type": "float"
        },
        {
         "name": "Income/Expense",
         "rawType": "object",
         "type": "string"
        },
        {
         "name": "Note.1",
         "rawType": "float64",
         "type": "float"
        },
        {
         "name": "Amount",
         "rawType": "float64",
         "type": "float"
        },
        {
         "name": "Currency",
         "rawType": "object",
         "type": "string"
        },
        {
         "name": "Account.1",
         "rawType": "float64",
         "type": "float"
        },
        {
         "name": "day_name",
         "rawType": "object",
         "type": "string"
        }
       ],
       "ref": "2c641592-5d37-46f8-a388-eb88a75dcbc6",
       "rows": [
        [
         "0",
         "2022-03-02 10:11:00",
         "CUB - online payment",
         "Food",
         null,
         "Brownie",
         "50.0",
         "Expense",
         null,
         "50.0",
         "INR",
         "50.0",
         "Wednesday"
        ],
        [
         "1",
         "2022-03-02 10:11:00",
         "CUB - online payment",
         "Other",
         null,
         "To lended people",
         "300.0",
         "Expense",
         null,
         "300.0",
         "INR",
         "300.0",
         "Wednesday"
        ],
        [
         "2",
         "2022-03-01 19:50:00",
         "CUB - online payment",
         "Food",
         null,
         "Dinner",
         "78.0",
         "Expense",
         null,
         "78.0",
         "INR",
         "78.0",
         "Tuesday"
        ],
        [
         "3",
         "2022-03-01 18:56:00",
         "CUB - online payment",
         "Transportation",
         null,
         "Metro",
         "30.0",
         "Expense",
         null,
         "30.0",
         "INR",
         "30.0",
         "Tuesday"
        ],
        [
         "4",
         "2022-03-01 18:22:00",
         "CUB - online payment",
         "Food",
         null,
         "Snacks",
         "67.0",
         "Expense",
         null,
         "67.0",
         "INR",
         "67.0",
         "Tuesday"
        ]
       ],
       "shape": {
        "columns": 12,
        "rows": 5
       }
      },
      "text/html": [
       "<div>\n",
       "<style scoped>\n",
       "    .dataframe tbody tr th:only-of-type {\n",
       "        vertical-align: middle;\n",
       "    }\n",
       "\n",
       "    .dataframe tbody tr th {\n",
       "        vertical-align: top;\n",
       "    }\n",
       "\n",
       "    .dataframe thead th {\n",
       "        text-align: right;\n",
       "    }\n",
       "</style>\n",
       "<table border=\"1\" class=\"dataframe\">\n",
       "  <thead>\n",
       "    <tr style=\"text-align: right;\">\n",
       "      <th></th>\n",
       "      <th>Date</th>\n",
       "      <th>Account</th>\n",
       "      <th>Category</th>\n",
       "      <th>Subcategory</th>\n",
       "      <th>Note</th>\n",
       "      <th>INR</th>\n",
       "      <th>Income/Expense</th>\n",
       "      <th>Note.1</th>\n",
       "      <th>Amount</th>\n",
       "      <th>Currency</th>\n",
       "      <th>Account.1</th>\n",
       "      <th>day_name</th>\n",
       "    </tr>\n",
       "  </thead>\n",
       "  <tbody>\n",
       "    <tr>\n",
       "      <th>0</th>\n",
       "      <td>2022-03-02 10:11:00</td>\n",
       "      <td>CUB - online payment</td>\n",
       "      <td>Food</td>\n",
       "      <td>NaN</td>\n",
       "      <td>Brownie</td>\n",
       "      <td>50.0</td>\n",
       "      <td>Expense</td>\n",
       "      <td>NaN</td>\n",
       "      <td>50.0</td>\n",
       "      <td>INR</td>\n",
       "      <td>50.0</td>\n",
       "      <td>Wednesday</td>\n",
       "    </tr>\n",
       "    <tr>\n",
       "      <th>1</th>\n",
       "      <td>2022-03-02 10:11:00</td>\n",
       "      <td>CUB - online payment</td>\n",
       "      <td>Other</td>\n",
       "      <td>NaN</td>\n",
       "      <td>To lended people</td>\n",
       "      <td>300.0</td>\n",
       "      <td>Expense</td>\n",
       "      <td>NaN</td>\n",
       "      <td>300.0</td>\n",
       "      <td>INR</td>\n",
       "      <td>300.0</td>\n",
       "      <td>Wednesday</td>\n",
       "    </tr>\n",
       "    <tr>\n",
       "      <th>2</th>\n",
       "      <td>2022-03-01 19:50:00</td>\n",
       "      <td>CUB - online payment</td>\n",
       "      <td>Food</td>\n",
       "      <td>NaN</td>\n",
       "      <td>Dinner</td>\n",
       "      <td>78.0</td>\n",
       "      <td>Expense</td>\n",
       "      <td>NaN</td>\n",
       "      <td>78.0</td>\n",
       "      <td>INR</td>\n",
       "      <td>78.0</td>\n",
       "      <td>Tuesday</td>\n",
       "    </tr>\n",
       "    <tr>\n",
       "      <th>3</th>\n",
       "      <td>2022-03-01 18:56:00</td>\n",
       "      <td>CUB - online payment</td>\n",
       "      <td>Transportation</td>\n",
       "      <td>NaN</td>\n",
       "      <td>Metro</td>\n",
       "      <td>30.0</td>\n",
       "      <td>Expense</td>\n",
       "      <td>NaN</td>\n",
       "      <td>30.0</td>\n",
       "      <td>INR</td>\n",
       "      <td>30.0</td>\n",
       "      <td>Tuesday</td>\n",
       "    </tr>\n",
       "    <tr>\n",
       "      <th>4</th>\n",
       "      <td>2022-03-01 18:22:00</td>\n",
       "      <td>CUB - online payment</td>\n",
       "      <td>Food</td>\n",
       "      <td>NaN</td>\n",
       "      <td>Snacks</td>\n",
       "      <td>67.0</td>\n",
       "      <td>Expense</td>\n",
       "      <td>NaN</td>\n",
       "      <td>67.0</td>\n",
       "      <td>INR</td>\n",
       "      <td>67.0</td>\n",
       "      <td>Tuesday</td>\n",
       "    </tr>\n",
       "  </tbody>\n",
       "</table>\n",
       "</div>"
      ],
      "text/plain": [
       "                 Date               Account        Category  Subcategory  \\\n",
       "0 2022-03-02 10:11:00  CUB - online payment            Food          NaN   \n",
       "1 2022-03-02 10:11:00  CUB - online payment           Other          NaN   \n",
       "2 2022-03-01 19:50:00  CUB - online payment            Food          NaN   \n",
       "3 2022-03-01 18:56:00  CUB - online payment  Transportation          NaN   \n",
       "4 2022-03-01 18:22:00  CUB - online payment            Food          NaN   \n",
       "\n",
       "               Note    INR Income/Expense  Note.1  Amount Currency  Account.1  \\\n",
       "0           Brownie   50.0        Expense     NaN    50.0      INR       50.0   \n",
       "1  To lended people  300.0        Expense     NaN   300.0      INR      300.0   \n",
       "2            Dinner   78.0        Expense     NaN    78.0      INR       78.0   \n",
       "3             Metro   30.0        Expense     NaN    30.0      INR       30.0   \n",
       "4            Snacks   67.0        Expense     NaN    67.0      INR       67.0   \n",
       "\n",
       "    day_name  \n",
       "0  Wednesday  \n",
       "1  Wednesday  \n",
       "2    Tuesday  \n",
       "3    Tuesday  \n",
       "4    Tuesday  "
      ]
     },
     "execution_count": 40,
     "metadata": {},
     "output_type": "execute_result"
    }
   ],
   "source": [
    "df.head()"
   ]
  },
  {
   "cell_type": "code",
   "execution_count": 42,
   "metadata": {},
   "outputs": [
    {
     "data": {
      "text/plain": [
       "<Axes: xlabel='day_name'>"
      ]
     },
     "execution_count": 42,
     "metadata": {},
     "output_type": "execute_result"
    },
    {
     "data": {
      "image/png": "[encoded data removed]",
      "text/plain": [
       "<Figure size 640x480 with 1 Axes>"
      ]
     },
     "metadata": {},
     "output_type": "display_data"
    }
   ],
   "source": [
    "df.groupby('day_name')['Amount'].mean().plot(kind='bar')"
   ]
  },
  {
   "cell_type": "code",
   "execution_count": 43,
   "metadata": {},
   "outputs": [],
   "source": [
    "df['month_name'] = df['Date'].dt.month_name()"
   ]
  },
  {
   "cell_type": "code",
   "execution_count": 44,
   "metadata": {},
   "outputs": [
    {
     "data": {
      "text/plain": [
       "<Axes: xlabel='month_name'>"
      ]
     },
     "execution_count": 44,
     "metadata": {},
     "output_type": "execute_result"
    },
    {
     "data": {
      "image/png": "[encoded data removed]",
      "text/plain": [
       "<Figure size 640x480 with 1 Axes>"
      ]
     },
     "metadata": {},
     "output_type": "display_data"
    }
   ],
   "source": [
    "df.groupby('month_name')['Amount'].sum().plot(kind='bar')"
   ]
  },
  {
   "cell_type": "code",
   "execution_count": 45,
   "metadata": {},
   "outputs": [
    {
     "data": {
      "application/vnd.microsoft.datawrangler.viewer.v0+json": {
       "columns": [
        {
         "name": "index",
         "rawType": "int64",
         "type": "integer"
        },
        {
         "name": "Date",
         "rawType": "datetime64[ns]",
         "type": "datetime"
        },
        {
         "name": "Account",
         "rawType": "object",
         "type": "string"
        },
        {
         "name": "Category",
         "rawType": "object",
         "type": "string"
        },
        {
         "name": "Subcategory",
         "rawType": "float64",
         "type": "float"
        },
        {
         "name": "Note",
         "rawType": "object",
         "type": "string"
        },
        {
         "name": "INR",
         "rawType": "float64",
         "type": "float"
        },
        {
         "name": "Income/Expense",
         "rawType": "object",
         "type": "string"
        },
        {
         "name": "Note.1",
         "rawType": "float64",
         "type": "float"
        },
        {
         "name": "Amount",
         "rawType": "float64",
         "type": "float"
        },
        {
         "name": "Currency",
         "rawType": "object",
         "type": "string"
        },
        {
         "name": "Account.1",
         "rawType": "float64",
         "type": "float"
        },
        {
         "name": "day_name",
         "rawType": "object",
         "type": "string"
        },
        {
         "name": "month_name",
         "rawType": "object",
         "type": "string"
        }
       ],
       "ref": "8866b6d4-a3dc-424d-b608-40be252a3868",
       "rows": [
        [
         "7",
         "2022-02-28 11:56:00",
         "CUB - online payment",
         "Food",
         null,
         "Pizza",
         "339.15",
         "Expense",
         null,
         "339.15",
         "INR",
         "339.15",
         "Monday",
         "February"
        ],
        [
         "8",
         "2022-02-28 11:45:00",
         "CUB - online payment",
         "Other",
         null,
         "From kumara",
         "200.0",
         "Income",
         null,
         "200.0",
         "INR",
         "200.0",
         "Monday",
         "February"
        ],
        [
         "61",
         "2022-01-31 08:44:00",
         "CUB - online payment",
         "Transportation",
         null,
         "Vnr to apk",
         "50.0",
         "Expense",
         null,
         "50.0",
         "INR",
         "50.0",
         "Monday",
         "January"
        ],
        [
         "62",
         "2022-01-31 08:27:00",
         "CUB - online payment",
         "Other",
         null,
         "To vicky",
         "200.0",
         "Expense",
         null,
         "200.0",
         "INR",
         "200.0",
         "Monday",
         "January"
        ],
        [
         "63",
         "2022-01-31 08:26:00",
         "CUB - online payment",
         "Transportation",
         null,
         "To ksr station",
         "153.0",
         "Expense",
         null,
         "153.0",
         "INR",
         "153.0",
         "Monday",
         "January"
        ],
        [
         "242",
         "2021-11-30 14:24:00",
         "CUB - online payment",
         "Gift",
         null,
         "Bharath birthday",
         "115.0",
         "Expense",
         null,
         "115.0",
         "INR",
         "115.0",
         "Tuesday",
         "November"
        ],
        [
         "243",
         "2021-11-30 14:17:00",
         "CUB - online payment",
         "Food",
         null,
         "Lunch with company",
         "128.0",
         "Expense",
         null,
         "128.0",
         "INR",
         "128.0",
         "Tuesday",
         "November"
        ],
        [
         "244",
         "2021-11-30 10:11:00",
         "CUB - online payment",
         "Food",
         null,
         "Breakfast",
         "70.0",
         "Expense",
         null,
         "70.0",
         "INR",
         "70.0",
         "Tuesday",
         "November"
        ]
       ],
       "shape": {
        "columns": 13,
        "rows": 8
       }
      },
      "text/html": [
       "<div>\n",
       "<style scoped>\n",
       "    .dataframe tbody tr th:only-of-type {\n",
       "        vertical-align: middle;\n",
       "    }\n",
       "\n",
       "    .dataframe tbody tr th {\n",
       "        vertical-align: top;\n",
       "    }\n",
       "\n",
       "    .dataframe thead th {\n",
       "        text-align: right;\n",
       "    }\n",
       "</style>\n",
       "<table border=\"1\" class=\"dataframe\">\n",
       "  <thead>\n",
       "    <tr style=\"text-align: right;\">\n",
       "      <th></th>\n",
       "      <th>Date</th>\n",
       "      <th>Account</th>\n",
       "      <th>Category</th>\n",
       "      <th>Subcategory</th>\n",
       "      <th>Note</th>\n",
       "      <th>INR</th>\n",
       "      <th>Income/Expense</th>\n",
       "      <th>Note.1</th>\n",
       "      <th>Amount</th>\n",
       "      <th>Currency</th>\n",
       "      <th>Account.1</th>\n",
       "      <th>day_name</th>\n",
       "      <th>month_name</th>\n",
       "    </tr>\n",
       "  </thead>\n",
       "  <tbody>\n",
       "    <tr>\n",
       "      <th>7</th>\n",
       "      <td>2022-02-28 11:56:00</td>\n",
       "      <td>CUB - online payment</td>\n",
       "      <td>Food</td>\n",
       "      <td>NaN</td>\n",
       "      <td>Pizza</td>\n",
       "      <td>339.15</td>\n",
       "      <td>Expense</td>\n",
       "      <td>NaN</td>\n",
       "      <td>339.15</td>\n",
       "      <td>INR</td>\n",
       "      <td>339.15</td>\n",
       "      <td>Monday</td>\n",
       "      <td>February</td>\n",
       "    </tr>\n",
       "    <tr>\n",
       "      <th>8</th>\n",
       "      <td>2022-02-28 11:45:00</td>\n",
       "      <td>CUB - online payment</td>\n",
       "      <td>Other</td>\n",
       "      <td>NaN</td>\n",
       "      <td>From kumara</td>\n",
       "      <td>200.00</td>\n",
       "      <td>Income</td>\n",
       "      <td>NaN</td>\n",
       "      <td>200.00</td>\n",
       "      <td>INR</td>\n",
       "      <td>200.00</td>\n",
       "      <td>Monday</td>\n",
       "      <td>February</td>\n",
       "    </tr>\n",
       "    <tr>\n",
       "      <th>61</th>\n",
       "      <td>2022-01-31 08:44:00</td>\n",
       "      <td>CUB - online payment</td>\n",
       "      <td>Transportation</td>\n",
       "      <td>NaN</td>\n",
       "      <td>Vnr to apk</td>\n",
       "      <td>50.00</td>\n",
       "      <td>Expense</td>\n",
       "      <td>NaN</td>\n",
       "      <td>50.00</td>\n",
       "      <td>INR</td>\n",
       "      <td>50.00</td>\n",
       "      <td>Monday</td>\n",
       "      <td>January</td>\n",
       "    </tr>\n",
       "    <tr>\n",
       "      <th>62</th>\n",
       "      <td>2022-01-31 08:27:00</td>\n",
       "      <td>CUB - online payment</td>\n",
       "      <td>Other</td>\n",
       "      <td>NaN</td>\n",
       "      <td>To vicky</td>\n",
       "      <td>200.00</td>\n",
       "      <td>Expense</td>\n",
       "      <td>NaN</td>\n",
       "      <td>200.00</td>\n",
       "      <td>INR</td>\n",
       "      <td>200.00</td>\n",
       "      <td>Monday</td>\n",
       "      <td>January</td>\n",
       "    </tr>\n",
       "    <tr>\n",
       "      <th>63</th>\n",
       "      <td>2022-01-31 08:26:00</td>\n",
       "      <td>CUB - online payment</td>\n",
       "      <td>Transportation</td>\n",
       "      <td>NaN</td>\n",
       "      <td>To ksr station</td>\n",
       "      <td>153.00</td>\n",
       "      <td>Expense</td>\n",
       "      <td>NaN</td>\n",
       "      <td>153.00</td>\n",
       "      <td>INR</td>\n",
       "      <td>153.00</td>\n",
       "      <td>Monday</td>\n",
       "      <td>January</td>\n",
       "    </tr>\n",
       "    <tr>\n",
       "      <th>242</th>\n",
       "      <td>2021-11-30 14:24:00</td>\n",
       "      <td>CUB - online payment</td>\n",
       "      <td>Gift</td>\n",
       "      <td>NaN</td>\n",
       "      <td>Bharath birthday</td>\n",
       "      <td>115.00</td>\n",
       "      <td>Expense</td>\n",
       "      <td>NaN</td>\n",
       "      <td>115.00</td>\n",
       "      <td>INR</td>\n",
       "      <td>115.00</td>\n",
       "      <td>Tuesday</td>\n",
       "      <td>November</td>\n",
       "    </tr>\n",
       "    <tr>\n",
       "      <th>243</th>\n",
       "      <td>2021-11-30 14:17:00</td>\n",
       "      <td>CUB - online payment</td>\n",
       "      <td>Food</td>\n",
       "      <td>NaN</td>\n",
       "      <td>Lunch with company</td>\n",
       "      <td>128.00</td>\n",
       "      <td>Expense</td>\n",
       "      <td>NaN</td>\n",
       "      <td>128.00</td>\n",
       "      <td>INR</td>\n",
       "      <td>128.00</td>\n",
       "      <td>Tuesday</td>\n",
       "      <td>November</td>\n",
       "    </tr>\n",
       "    <tr>\n",
       "      <th>244</th>\n",
       "      <td>2021-11-30 10:11:00</td>\n",
       "      <td>CUB - online payment</td>\n",
       "      <td>Food</td>\n",
       "      <td>NaN</td>\n",
       "      <td>Breakfast</td>\n",
       "      <td>70.00</td>\n",
       "      <td>Expense</td>\n",
       "      <td>NaN</td>\n",
       "      <td>70.00</td>\n",
       "      <td>INR</td>\n",
       "      <td>70.00</td>\n",
       "      <td>Tuesday</td>\n",
       "      <td>November</td>\n",
       "    </tr>\n",
       "  </tbody>\n",
       "</table>\n",
       "</div>"
      ],
      "text/plain": [
       "                   Date               Account        Category  Subcategory  \\\n",
       "7   2022-02-28 11:56:00  CUB - online payment            Food          NaN   \n",
       "8   2022-02-28 11:45:00  CUB - online payment           Other          NaN   \n",
       "61  2022-01-31 08:44:00  CUB - online payment  Transportation          NaN   \n",
       "62  2022-01-31 08:27:00  CUB - online payment           Other          NaN   \n",
       "63  2022-01-31 08:26:00  CUB - online payment  Transportation          NaN   \n",
       "242 2021-11-30 14:24:00  CUB - online payment            Gift          NaN   \n",
       "243 2021-11-30 14:17:00  CUB - online payment            Food          NaN   \n",
       "244 2021-11-30 10:11:00  CUB - online payment            Food          NaN   \n",
       "\n",
       "                   Note     INR Income/Expense  Note.1  Amount Currency  \\\n",
       "7                 Pizza  339.15        Expense     NaN  339.15      INR   \n",
       "8           From kumara  200.00         Income     NaN  200.00      INR   \n",
       "61           Vnr to apk   50.00        Expense     NaN   50.00      INR   \n",
       "62             To vicky  200.00        Expense     NaN  200.00      INR   \n",
       "63       To ksr station  153.00        Expense     NaN  153.00      INR   \n",
       "242    Bharath birthday  115.00        Expense     NaN  115.00      INR   \n",
       "243  Lunch with company  128.00        Expense     NaN  128.00      INR   \n",
       "244           Breakfast   70.00        Expense     NaN   70.00      INR   \n",
       "\n",
       "     Account.1 day_name month_name  \n",
       "7       339.15   Monday   February  \n",
       "8       200.00   Monday   February  \n",
       "61       50.00   Monday    January  \n",
       "62      200.00   Monday    January  \n",
       "63      153.00   Monday    January  \n",
       "242     115.00  Tuesday   November  \n",
       "243     128.00  Tuesday   November  \n",
       "244      70.00  Tuesday   November  "
      ]
     },
     "execution_count": 45,
     "metadata": {},
     "output_type": "execute_result"
    }
   ],
   "source": [
    "df[df['Date'].dt.is_month_end]"
   ]
  }
 ],
 "metadata": {
  "kernelspec": {
   "display_name": ".venv",
   "language": "python",
   "name": "python3"
  },
  "language_info": {
   "codemirror_mode": {
    "name": "ipython",
    "version": 3
   },
   "file_extension": ".py",
   "mimetype": "text/x-python",
   "name": "python",
   "nbconvert_exporter": "python",
   "pygments_lexer": "ipython3",
   "version": "3.12.10"
  }
 },
 "nbformat": 4,
 "nbformat_minor": 2
}
