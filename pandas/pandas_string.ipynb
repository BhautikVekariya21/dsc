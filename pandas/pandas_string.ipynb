{
 "cells": [
  {
   "cell_type": "code",
   "execution_count": 1,
   "metadata": {},
   "outputs": [],
   "source": [
    "import numpy as np\n",
    "import pandas as pd"
   ]
  },
  {
   "cell_type": "code",
   "execution_count": 2,
   "metadata": {},
   "outputs": [
    {
     "data": {
      "text/plain": [
       "array([ 44,  88, 132, 176])"
      ]
     },
     "execution_count": 2,
     "metadata": {},
     "output_type": "execute_result"
    }
   ],
   "source": [
    "# What are vectorized operations\n",
    "a = np.array([1,2,3,4])\n",
    "a * 44"
   ]
  },
  {
   "cell_type": "code",
   "execution_count": 3,
   "metadata": {},
   "outputs": [
    {
     "ename": "AttributeError",
     "evalue": "'NoneType' object has no attribute 'startswith'",
     "output_type": "error",
     "traceback": [
      "\u001b[31m---------------------------------------------------------------------------\u001b[39m",
      "\u001b[31mAttributeError\u001b[39m                            Traceback (most recent call last)",
      "\u001b[36mCell\u001b[39m\u001b[36m \u001b[39m\u001b[32mIn[3]\u001b[39m\u001b[32m, line 4\u001b[39m\n\u001b[32m      1\u001b[39m \u001b[38;5;66;03m# problem in vectorized opertions in vanilla python\u001b[39;00m\n\u001b[32m      2\u001b[39m s = [\u001b[33m'\u001b[39m\u001b[33mcat\u001b[39m\u001b[33m'\u001b[39m,\u001b[33m'\u001b[39m\u001b[33mmat\u001b[39m\u001b[33m'\u001b[39m,\u001b[38;5;28;01mNone\u001b[39;00m,\u001b[33m'\u001b[39m\u001b[33mrat\u001b[39m\u001b[33m'\u001b[39m]\n\u001b[32m----> \u001b[39m\u001b[32m4\u001b[39m [\u001b[43mi\u001b[49m\u001b[43m.\u001b[49m\u001b[43mstartswith\u001b[49m(\u001b[33m'\u001b[39m\u001b[33mc\u001b[39m\u001b[33m'\u001b[39m)\u001b[38;5;28;01mfor\u001b[39;00m i \u001b[38;5;129;01min\u001b[39;00m s]\n",
      "\u001b[31mAttributeError\u001b[39m: 'NoneType' object has no attribute 'startswith'"
     ]
    }
   ],
   "source": [
    "# problem in vectorized opertions in vanilla python\n",
    "s = ['cat','mat',None,'rat']\n",
    "\n",
    "[i.startswith('c')for i in s]"
   ]
  },
  {
   "cell_type": "code",
   "execution_count": 4,
   "metadata": {},
   "outputs": [
    {
     "data": {
      "application/vnd.microsoft.datawrangler.viewer.v0+json": {
       "columns": [
        {
         "name": "index",
         "rawType": "int64",
         "type": "integer"
        },
        {
         "name": "0",
         "rawType": "object",
         "type": "unknown"
        }
       ],
       "ref": "806de75c-3f79-40dd-8400-1d6cbd442171",
       "rows": [
        [
         "0",
         "True"
        ],
        [
         "1",
         "False"
        ],
        [
         "2",
         null
        ],
        [
         "3",
         "False"
        ]
       ],
       "shape": {
        "columns": 1,
        "rows": 4
       }
      },
      "text/plain": [
       "0     True\n",
       "1    False\n",
       "2     None\n",
       "3    False\n",
       "dtype: object"
      ]
     },
     "execution_count": 4,
     "metadata": {},
     "output_type": "execute_result"
    }
   ],
   "source": [
    "# How pandas solves this issue?\n",
    "s = pd.Series(['cat','mat',None,'rat'])\n",
    "# string accessor\n",
    "s.str.startswith('c')\n",
    "# fast and optimized"
   ]
  },
  {
   "cell_type": "code",
   "execution_count": 5,
   "metadata": {},
   "outputs": [
    {
     "data": {
      "application/vnd.microsoft.datawrangler.viewer.v0+json": {
       "columns": [
        {
         "name": "index",
         "rawType": "int64",
         "type": "integer"
        },
        {
         "name": "Name",
         "rawType": "object",
         "type": "string"
        }
       ],
       "ref": "a22fbc99-3301-4816-93e0-fe03675aa2dd",
       "rows": [
        [
         "0",
         "Braund, Mr. Owen Harris"
        ],
        [
         "1",
         "Cumings, Mrs. John Bradley (Florence Briggs Thayer)"
        ],
        [
         "2",
         "Heikkinen, Miss. Laina"
        ],
        [
         "3",
         "Futrelle, Mrs. Jacques Heath (Lily May Peel)"
        ],
        [
         "4",
         "Allen, Mr. William Henry"
        ],
        [
         "5",
         "Moran, Mr. James"
        ],
        [
         "6",
         "McCarthy, Mr. Timothy J"
        ],
        [
         "7",
         "Palsson, Master. Gosta Leonard"
        ],
        [
         "8",
         "Johnson, Mrs. Oscar W (Elisabeth Vilhelmina Berg)"
        ],
        [
         "9",
         "Nasser, Mrs. Nicholas (Adele Achem)"
        ],
        [
         "10",
         "Sandstrom, Miss. Marguerite Rut"
        ],
        [
         "11",
         "Bonnell, Miss. Elizabeth"
        ],
        [
         "12",
         "Saundercock, Mr. William Henry"
        ],
        [
         "13",
         "Andersson, Mr. Anders Johan"
        ],
        [
         "14",
         "Vestrom, Miss. Hulda Amanda Adolfina"
        ],
        [
         "15",
         "Hewlett, Mrs. (Mary D Kingcome) "
        ],
        [
         "16",
         "Rice, Master. Eugene"
        ],
        [
         "17",
         "Williams, Mr. Charles Eugene"
        ],
        [
         "18",
         "Vander Planke, Mrs. Julius (Emelia Maria Vandemoortele)"
        ],
        [
         "19",
         "Masselmani, Mrs. Fatima"
        ],
        [
         "20",
         "Fynney, Mr. Joseph J"
        ],
        [
         "21",
         "Beesley, Mr. Lawrence"
        ],
        [
         "22",
         "McGowan, Miss. Anna \"Annie\""
        ],
        [
         "23",
         "Sloper, Mr. William Thompson"
        ],
        [
         "24",
         "Palsson, Miss. Torborg Danira"
        ],
        [
         "25",
         "Asplund, Mrs. Carl Oscar (Selma Augusta Emilia Johansson)"
        ],
        [
         "26",
         "Emir, Mr. Farred Chehab"
        ],
        [
         "27",
         "Fortune, Mr. Charles Alexander"
        ],
        [
         "28",
         "O'Dwyer, Miss. Ellen \"Nellie\""
        ],
        [
         "29",
         "Todoroff, Mr. Lalio"
        ],
        [
         "30",
         "Uruchurtu, Don. Manuel E"
        ],
        [
         "31",
         "Spencer, Mrs. William Augustus (Marie Eugenie)"
        ],
        [
         "32",
         "Glynn, Miss. Mary Agatha"
        ],
        [
         "33",
         "Wheadon, Mr. Edward H"
        ],
        [
         "34",
         "Meyer, Mr. Edgar Joseph"
        ],
        [
         "35",
         "Holverson, Mr. Alexander Oskar"
        ],
        [
         "36",
         "Mamee, Mr. Hanna"
        ],
        [
         "37",
         "Cann, Mr. Ernest Charles"
        ],
        [
         "38",
         "Vander Planke, Miss. Augusta Maria"
        ],
        [
         "39",
         "Nicola-Yarred, Miss. Jamila"
        ],
        [
         "40",
         "Ahlin, Mrs. Johan (Johanna Persdotter Larsson)"
        ],
        [
         "41",
         "Turpin, Mrs. William John Robert (Dorothy Ann Wonnacott)"
        ],
        [
         "42",
         "Kraeff, Mr. Theodor"
        ],
        [
         "43",
         "Laroche, Miss. Simonne Marie Anne Andree"
        ],
        [
         "44",
         "Devaney, Miss. Margaret Delia"
        ],
        [
         "45",
         "Rogers, Mr. William John"
        ],
        [
         "46",
         "Lennon, Mr. Denis"
        ],
        [
         "47",
         "O'Driscoll, Miss. Bridget"
        ],
        [
         "48",
         "Samaan, Mr. Youssef"
        ],
        [
         "49",
         "Arnold-Franchi, Mrs. Josef (Josefine Franchi)"
        ]
       ],
       "shape": {
        "columns": 1,
        "rows": 891
       }
      },
      "text/plain": [
       "0                                Braund, Mr. Owen Harris\n",
       "1      Cumings, Mrs. John Bradley (Florence Briggs Th...\n",
       "2                                 Heikkinen, Miss. Laina\n",
       "3           Futrelle, Mrs. Jacques Heath (Lily May Peel)\n",
       "4                               Allen, Mr. William Henry\n",
       "                             ...                        \n",
       "886                                Montvila, Rev. Juozas\n",
       "887                         Graham, Miss. Margaret Edith\n",
       "888             Johnston, Miss. Catherine Helen \"Carrie\"\n",
       "889                                Behr, Mr. Karl Howell\n",
       "890                                  Dooley, Mr. Patrick\n",
       "Name: Name, Length: 891, dtype: object"
      ]
     },
     "execution_count": 5,
     "metadata": {},
     "output_type": "execute_result"
    }
   ],
   "source": [
    "# import titanic\n",
    "df = pd.read_csv('titanic.csv')\n",
    "df['Name']"
   ]
  },
  {
   "cell_type": "code",
   "execution_count": 6,
   "metadata": {},
   "outputs": [
    {
     "data": {
      "application/vnd.microsoft.datawrangler.viewer.v0+json": {
       "columns": [
        {
         "name": "index",
         "rawType": "int64",
         "type": "integer"
        },
        {
         "name": "Name",
         "rawType": "object",
         "type": "string"
        }
       ],
       "ref": "5c002f25-855e-4609-8af9-f075d740b73e",
       "rows": [
        [
         "0",
         "BRAUND, MR. OWEN HARRIS"
        ],
        [
         "1",
         "CUMINGS, MRS. JOHN BRADLEY (FLORENCE BRIGGS THAYER)"
        ],
        [
         "2",
         "HEIKKINEN, MISS. LAINA"
        ],
        [
         "3",
         "FUTRELLE, MRS. JACQUES HEATH (LILY MAY PEEL)"
        ],
        [
         "4",
         "ALLEN, MR. WILLIAM HENRY"
        ],
        [
         "5",
         "MORAN, MR. JAMES"
        ],
        [
         "6",
         "MCCARTHY, MR. TIMOTHY J"
        ],
        [
         "7",
         "PALSSON, MASTER. GOSTA LEONARD"
        ],
        [
         "8",
         "JOHNSON, MRS. OSCAR W (ELISABETH VILHELMINA BERG)"
        ],
        [
         "9",
         "NASSER, MRS. NICHOLAS (ADELE ACHEM)"
        ],
        [
         "10",
         "SANDSTROM, MISS. MARGUERITE RUT"
        ],
        [
         "11",
         "BONNELL, MISS. ELIZABETH"
        ],
        [
         "12",
         "SAUNDERCOCK, MR. WILLIAM HENRY"
        ],
        [
         "13",
         "ANDERSSON, MR. ANDERS JOHAN"
        ],
        [
         "14",
         "VESTROM, MISS. HULDA AMANDA ADOLFINA"
        ],
        [
         "15",
         "HEWLETT, MRS. (MARY D KINGCOME) "
        ],
        [
         "16",
         "RICE, MASTER. EUGENE"
        ],
        [
         "17",
         "WILLIAMS, MR. CHARLES EUGENE"
        ],
        [
         "18",
         "VANDER PLANKE, MRS. JULIUS (EMELIA MARIA VANDEMOORTELE)"
        ],
        [
         "19",
         "MASSELMANI, MRS. FATIMA"
        ],
        [
         "20",
         "FYNNEY, MR. JOSEPH J"
        ],
        [
         "21",
         "BEESLEY, MR. LAWRENCE"
        ],
        [
         "22",
         "MCGOWAN, MISS. ANNA \"ANNIE\""
        ],
        [
         "23",
         "SLOPER, MR. WILLIAM THOMPSON"
        ],
        [
         "24",
         "PALSSON, MISS. TORBORG DANIRA"
        ],
        [
         "25",
         "ASPLUND, MRS. CARL OSCAR (SELMA AUGUSTA EMILIA JOHANSSON)"
        ],
        [
         "26",
         "EMIR, MR. FARRED CHEHAB"
        ],
        [
         "27",
         "FORTUNE, MR. CHARLES ALEXANDER"
        ],
        [
         "28",
         "O'DWYER, MISS. ELLEN \"NELLIE\""
        ],
        [
         "29",
         "TODOROFF, MR. LALIO"
        ],
        [
         "30",
         "URUCHURTU, DON. MANUEL E"
        ],
        [
         "31",
         "SPENCER, MRS. WILLIAM AUGUSTUS (MARIE EUGENIE)"
        ],
        [
         "32",
         "GLYNN, MISS. MARY AGATHA"
        ],
        [
         "33",
         "WHEADON, MR. EDWARD H"
        ],
        [
         "34",
         "MEYER, MR. EDGAR JOSEPH"
        ],
        [
         "35",
         "HOLVERSON, MR. ALEXANDER OSKAR"
        ],
        [
         "36",
         "MAMEE, MR. HANNA"
        ],
        [
         "37",
         "CANN, MR. ERNEST CHARLES"
        ],
        [
         "38",
         "VANDER PLANKE, MISS. AUGUSTA MARIA"
        ],
        [
         "39",
         "NICOLA-YARRED, MISS. JAMILA"
        ],
        [
         "40",
         "AHLIN, MRS. JOHAN (JOHANNA PERSDOTTER LARSSON)"
        ],
        [
         "41",
         "TURPIN, MRS. WILLIAM JOHN ROBERT (DOROTHY ANN WONNACOTT)"
        ],
        [
         "42",
         "KRAEFF, MR. THEODOR"
        ],
        [
         "43",
         "LAROCHE, MISS. SIMONNE MARIE ANNE ANDREE"
        ],
        [
         "44",
         "DEVANEY, MISS. MARGARET DELIA"
        ],
        [
         "45",
         "ROGERS, MR. WILLIAM JOHN"
        ],
        [
         "46",
         "LENNON, MR. DENIS"
        ],
        [
         "47",
         "O'DRISCOLL, MISS. BRIDGET"
        ],
        [
         "48",
         "SAMAAN, MR. YOUSSEF"
        ],
        [
         "49",
         "ARNOLD-FRANCHI, MRS. JOSEF (JOSEFINE FRANCHI)"
        ]
       ],
       "shape": {
        "columns": 1,
        "rows": 891
       }
      },
      "text/plain": [
       "0                                BRAUND, MR. OWEN HARRIS\n",
       "1      CUMINGS, MRS. JOHN BRADLEY (FLORENCE BRIGGS TH...\n",
       "2                                 HEIKKINEN, MISS. LAINA\n",
       "3           FUTRELLE, MRS. JACQUES HEATH (LILY MAY PEEL)\n",
       "4                               ALLEN, MR. WILLIAM HENRY\n",
       "                             ...                        \n",
       "886                                MONTVILA, REV. JUOZAS\n",
       "887                         GRAHAM, MISS. MARGARET EDITH\n",
       "888             JOHNSTON, MISS. CATHERINE HELEN \"CARRIE\"\n",
       "889                                BEHR, MR. KARL HOWELL\n",
       "890                                  DOOLEY, MR. PATRICK\n",
       "Name: Name, Length: 891, dtype: object"
      ]
     },
     "execution_count": 6,
     "metadata": {},
     "output_type": "execute_result"
    }
   ],
   "source": [
    "# Common Functions\n",
    "# lower/upper/capitalize/title\n",
    "df['Name'].str.upper()\n"
   ]
  },
  {
   "cell_type": "code",
   "execution_count": 7,
   "metadata": {},
   "outputs": [
    {
     "data": {
      "application/vnd.microsoft.datawrangler.viewer.v0+json": {
       "columns": [
        {
         "name": "index",
         "rawType": "int64",
         "type": "integer"
        },
        {
         "name": "Name",
         "rawType": "object",
         "type": "string"
        }
       ],
       "ref": "ad2ba697-7c39-4cdd-ba4f-b59ff80e7766",
       "rows": [
        [
         "0",
         "Braund, mr. owen harris"
        ],
        [
         "1",
         "Cumings, mrs. john bradley (florence briggs thayer)"
        ],
        [
         "2",
         "Heikkinen, miss. laina"
        ],
        [
         "3",
         "Futrelle, mrs. jacques heath (lily may peel)"
        ],
        [
         "4",
         "Allen, mr. william henry"
        ],
        [
         "5",
         "Moran, mr. james"
        ],
        [
         "6",
         "Mccarthy, mr. timothy j"
        ],
        [
         "7",
         "Palsson, master. gosta leonard"
        ],
        [
         "8",
         "Johnson, mrs. oscar w (elisabeth vilhelmina berg)"
        ],
        [
         "9",
         "Nasser, mrs. nicholas (adele achem)"
        ],
        [
         "10",
         "Sandstrom, miss. marguerite rut"
        ],
        [
         "11",
         "Bonnell, miss. elizabeth"
        ],
        [
         "12",
         "Saundercock, mr. william henry"
        ],
        [
         "13",
         "Andersson, mr. anders johan"
        ],
        [
         "14",
         "Vestrom, miss. hulda amanda adolfina"
        ],
        [
         "15",
         "Hewlett, mrs. (mary d kingcome) "
        ],
        [
         "16",
         "Rice, master. eugene"
        ],
        [
         "17",
         "Williams, mr. charles eugene"
        ],
        [
         "18",
         "Vander planke, mrs. julius (emelia maria vandemoortele)"
        ],
        [
         "19",
         "Masselmani, mrs. fatima"
        ],
        [
         "20",
         "Fynney, mr. joseph j"
        ],
        [
         "21",
         "Beesley, mr. lawrence"
        ],
        [
         "22",
         "Mcgowan, miss. anna \"annie\""
        ],
        [
         "23",
         "Sloper, mr. william thompson"
        ],
        [
         "24",
         "Palsson, miss. torborg danira"
        ],
        [
         "25",
         "Asplund, mrs. carl oscar (selma augusta emilia johansson)"
        ],
        [
         "26",
         "Emir, mr. farred chehab"
        ],
        [
         "27",
         "Fortune, mr. charles alexander"
        ],
        [
         "28",
         "O'dwyer, miss. ellen \"nellie\""
        ],
        [
         "29",
         "Todoroff, mr. lalio"
        ],
        [
         "30",
         "Uruchurtu, don. manuel e"
        ],
        [
         "31",
         "Spencer, mrs. william augustus (marie eugenie)"
        ],
        [
         "32",
         "Glynn, miss. mary agatha"
        ],
        [
         "33",
         "Wheadon, mr. edward h"
        ],
        [
         "34",
         "Meyer, mr. edgar joseph"
        ],
        [
         "35",
         "Holverson, mr. alexander oskar"
        ],
        [
         "36",
         "Mamee, mr. hanna"
        ],
        [
         "37",
         "Cann, mr. ernest charles"
        ],
        [
         "38",
         "Vander planke, miss. augusta maria"
        ],
        [
         "39",
         "Nicola-yarred, miss. jamila"
        ],
        [
         "40",
         "Ahlin, mrs. johan (johanna persdotter larsson)"
        ],
        [
         "41",
         "Turpin, mrs. william john robert (dorothy ann wonnacott)"
        ],
        [
         "42",
         "Kraeff, mr. theodor"
        ],
        [
         "43",
         "Laroche, miss. simonne marie anne andree"
        ],
        [
         "44",
         "Devaney, miss. margaret delia"
        ],
        [
         "45",
         "Rogers, mr. william john"
        ],
        [
         "46",
         "Lennon, mr. denis"
        ],
        [
         "47",
         "O'driscoll, miss. bridget"
        ],
        [
         "48",
         "Samaan, mr. youssef"
        ],
        [
         "49",
         "Arnold-franchi, mrs. josef (josefine franchi)"
        ]
       ],
       "shape": {
        "columns": 1,
        "rows": 891
       }
      },
      "text/plain": [
       "0                                Braund, mr. owen harris\n",
       "1      Cumings, mrs. john bradley (florence briggs th...\n",
       "2                                 Heikkinen, miss. laina\n",
       "3           Futrelle, mrs. jacques heath (lily may peel)\n",
       "4                               Allen, mr. william henry\n",
       "                             ...                        \n",
       "886                                Montvila, rev. juozas\n",
       "887                         Graham, miss. margaret edith\n",
       "888             Johnston, miss. catherine helen \"carrie\"\n",
       "889                                Behr, mr. karl howell\n",
       "890                                  Dooley, mr. patrick\n",
       "Name: Name, Length: 891, dtype: object"
      ]
     },
     "execution_count": 7,
     "metadata": {},
     "output_type": "execute_result"
    }
   ],
   "source": [
    "df['Name'].str.capitalize()\n"
   ]
  },
  {
   "cell_type": "code",
   "execution_count": 8,
   "metadata": {},
   "outputs": [
    {
     "data": {
      "application/vnd.microsoft.datawrangler.viewer.v0+json": {
       "columns": [
        {
         "name": "index",
         "rawType": "int64",
         "type": "integer"
        },
        {
         "name": "Name",
         "rawType": "object",
         "type": "string"
        }
       ],
       "ref": "e7f32a1d-e20a-4de5-8462-7d8ab1274276",
       "rows": [
        [
         "0",
         "Braund, Mr. Owen Harris"
        ],
        [
         "1",
         "Cumings, Mrs. John Bradley (Florence Briggs Thayer)"
        ],
        [
         "2",
         "Heikkinen, Miss. Laina"
        ],
        [
         "3",
         "Futrelle, Mrs. Jacques Heath (Lily May Peel)"
        ],
        [
         "4",
         "Allen, Mr. William Henry"
        ],
        [
         "5",
         "Moran, Mr. James"
        ],
        [
         "6",
         "Mccarthy, Mr. Timothy J"
        ],
        [
         "7",
         "Palsson, Master. Gosta Leonard"
        ],
        [
         "8",
         "Johnson, Mrs. Oscar W (Elisabeth Vilhelmina Berg)"
        ],
        [
         "9",
         "Nasser, Mrs. Nicholas (Adele Achem)"
        ],
        [
         "10",
         "Sandstrom, Miss. Marguerite Rut"
        ],
        [
         "11",
         "Bonnell, Miss. Elizabeth"
        ],
        [
         "12",
         "Saundercock, Mr. William Henry"
        ],
        [
         "13",
         "Andersson, Mr. Anders Johan"
        ],
        [
         "14",
         "Vestrom, Miss. Hulda Amanda Adolfina"
        ],
        [
         "15",
         "Hewlett, Mrs. (Mary D Kingcome) "
        ],
        [
         "16",
         "Rice, Master. Eugene"
        ],
        [
         "17",
         "Williams, Mr. Charles Eugene"
        ],
        [
         "18",
         "Vander Planke, Mrs. Julius (Emelia Maria Vandemoortele)"
        ],
        [
         "19",
         "Masselmani, Mrs. Fatima"
        ],
        [
         "20",
         "Fynney, Mr. Joseph J"
        ],
        [
         "21",
         "Beesley, Mr. Lawrence"
        ],
        [
         "22",
         "Mcgowan, Miss. Anna \"Annie\""
        ],
        [
         "23",
         "Sloper, Mr. William Thompson"
        ],
        [
         "24",
         "Palsson, Miss. Torborg Danira"
        ],
        [
         "25",
         "Asplund, Mrs. Carl Oscar (Selma Augusta Emilia Johansson)"
        ],
        [
         "26",
         "Emir, Mr. Farred Chehab"
        ],
        [
         "27",
         "Fortune, Mr. Charles Alexander"
        ],
        [
         "28",
         "O'Dwyer, Miss. Ellen \"Nellie\""
        ],
        [
         "29",
         "Todoroff, Mr. Lalio"
        ],
        [
         "30",
         "Uruchurtu, Don. Manuel E"
        ],
        [
         "31",
         "Spencer, Mrs. William Augustus (Marie Eugenie)"
        ],
        [
         "32",
         "Glynn, Miss. Mary Agatha"
        ],
        [
         "33",
         "Wheadon, Mr. Edward H"
        ],
        [
         "34",
         "Meyer, Mr. Edgar Joseph"
        ],
        [
         "35",
         "Holverson, Mr. Alexander Oskar"
        ],
        [
         "36",
         "Mamee, Mr. Hanna"
        ],
        [
         "37",
         "Cann, Mr. Ernest Charles"
        ],
        [
         "38",
         "Vander Planke, Miss. Augusta Maria"
        ],
        [
         "39",
         "Nicola-Yarred, Miss. Jamila"
        ],
        [
         "40",
         "Ahlin, Mrs. Johan (Johanna Persdotter Larsson)"
        ],
        [
         "41",
         "Turpin, Mrs. William John Robert (Dorothy Ann Wonnacott)"
        ],
        [
         "42",
         "Kraeff, Mr. Theodor"
        ],
        [
         "43",
         "Laroche, Miss. Simonne Marie Anne Andree"
        ],
        [
         "44",
         "Devaney, Miss. Margaret Delia"
        ],
        [
         "45",
         "Rogers, Mr. William John"
        ],
        [
         "46",
         "Lennon, Mr. Denis"
        ],
        [
         "47",
         "O'Driscoll, Miss. Bridget"
        ],
        [
         "48",
         "Samaan, Mr. Youssef"
        ],
        [
         "49",
         "Arnold-Franchi, Mrs. Josef (Josefine Franchi)"
        ]
       ],
       "shape": {
        "columns": 1,
        "rows": 891
       }
      },
      "text/plain": [
       "0                                Braund, Mr. Owen Harris\n",
       "1      Cumings, Mrs. John Bradley (Florence Briggs Th...\n",
       "2                                 Heikkinen, Miss. Laina\n",
       "3           Futrelle, Mrs. Jacques Heath (Lily May Peel)\n",
       "4                               Allen, Mr. William Henry\n",
       "                             ...                        \n",
       "886                                Montvila, Rev. Juozas\n",
       "887                         Graham, Miss. Margaret Edith\n",
       "888             Johnston, Miss. Catherine Helen \"Carrie\"\n",
       "889                                Behr, Mr. Karl Howell\n",
       "890                                  Dooley, Mr. Patrick\n",
       "Name: Name, Length: 891, dtype: object"
      ]
     },
     "execution_count": 8,
     "metadata": {},
     "output_type": "execute_result"
    }
   ],
   "source": [
    "df['Name'].str.title()\n"
   ]
  },
  {
   "cell_type": "code",
   "execution_count": 10,
   "metadata": {},
   "outputs": [
    {
     "data": {
      "application/vnd.microsoft.datawrangler.viewer.v0+json": {
       "columns": [
        {
         "name": "index",
         "rawType": "int64",
         "type": "integer"
        },
        {
         "name": "Name",
         "rawType": "int64",
         "type": "integer"
        }
       ],
       "ref": "5a5ac755-4fd3-465c-b707-f535103c247e",
       "rows": [
        [
         "0",
         "23"
        ],
        [
         "1",
         "51"
        ],
        [
         "2",
         "22"
        ],
        [
         "3",
         "44"
        ],
        [
         "4",
         "24"
        ],
        [
         "5",
         "16"
        ],
        [
         "6",
         "23"
        ],
        [
         "7",
         "30"
        ],
        [
         "8",
         "49"
        ],
        [
         "9",
         "35"
        ],
        [
         "10",
         "31"
        ],
        [
         "11",
         "24"
        ],
        [
         "12",
         "30"
        ],
        [
         "13",
         "27"
        ],
        [
         "14",
         "36"
        ],
        [
         "15",
         "32"
        ],
        [
         "16",
         "20"
        ],
        [
         "17",
         "28"
        ],
        [
         "18",
         "55"
        ],
        [
         "19",
         "23"
        ],
        [
         "20",
         "20"
        ],
        [
         "21",
         "21"
        ],
        [
         "22",
         "27"
        ],
        [
         "23",
         "28"
        ],
        [
         "24",
         "29"
        ],
        [
         "25",
         "57"
        ],
        [
         "26",
         "23"
        ],
        [
         "27",
         "30"
        ],
        [
         "28",
         "29"
        ],
        [
         "29",
         "19"
        ],
        [
         "30",
         "24"
        ],
        [
         "31",
         "46"
        ],
        [
         "32",
         "24"
        ],
        [
         "33",
         "21"
        ],
        [
         "34",
         "23"
        ],
        [
         "35",
         "30"
        ],
        [
         "36",
         "16"
        ],
        [
         "37",
         "24"
        ],
        [
         "38",
         "34"
        ],
        [
         "39",
         "27"
        ],
        [
         "40",
         "46"
        ],
        [
         "41",
         "56"
        ],
        [
         "42",
         "19"
        ],
        [
         "43",
         "40"
        ],
        [
         "44",
         "29"
        ],
        [
         "45",
         "24"
        ],
        [
         "46",
         "17"
        ],
        [
         "47",
         "25"
        ],
        [
         "48",
         "19"
        ],
        [
         "49",
         "45"
        ]
       ],
       "shape": {
        "columns": 1,
        "rows": 891
       }
      },
      "text/plain": [
       "0      23\n",
       "1      51\n",
       "2      22\n",
       "3      44\n",
       "4      24\n",
       "       ..\n",
       "886    21\n",
       "887    28\n",
       "888    40\n",
       "889    21\n",
       "890    19\n",
       "Name: Name, Length: 891, dtype: int64"
      ]
     },
     "execution_count": 10,
     "metadata": {},
     "output_type": "execute_result"
    }
   ],
   "source": [
    "# len\n",
    "df['Name'].str.len()"
   ]
  },
  {
   "cell_type": "code",
   "execution_count": 11,
   "metadata": {},
   "outputs": [
    {
     "data": {
      "text/plain": [
       "'Penasco y Castellana, Mrs. Victor de Satode (Maria Josefa Perez de Soto y Vallejo)'"
      ]
     },
     "execution_count": 11,
     "metadata": {},
     "output_type": "execute_result"
    }
   ],
   "source": [
    "# len\n",
    "df['Name'][df['Name'].str.len() == 82].values[0]\n"
   ]
  },
  {
   "cell_type": "code",
   "execution_count": 14,
   "metadata": {},
   "outputs": [
    {
     "data": {
      "text/plain": [
       "'nitish'"
      ]
     },
     "execution_count": 14,
     "metadata": {},
     "output_type": "execute_result"
    }
   ],
   "source": [
    "# strip\n",
    "\"                   nitish                              \".strip()\n"
   ]
  },
  {
   "cell_type": "code",
   "execution_count": 17,
   "metadata": {},
   "outputs": [
    {
     "data": {
      "application/vnd.microsoft.datawrangler.viewer.v0+json": {
       "columns": [
        {
         "name": "index",
         "rawType": "int64",
         "type": "integer"
        },
        {
         "name": "Name",
         "rawType": "object",
         "type": "string"
        }
       ],
       "ref": "262d23cb-fc3d-4a90-884a-08cf374944b0",
       "rows": [
        [
         "0",
         "Braund, Mr. Owen Harris"
        ],
        [
         "1",
         "Cumings, Mrs. John Bradley (Florence Briggs Thayer)"
        ],
        [
         "2",
         "Heikkinen, Miss. Laina"
        ],
        [
         "3",
         "Futrelle, Mrs. Jacques Heath (Lily May Peel)"
        ],
        [
         "4",
         "Allen, Mr. William Henry"
        ],
        [
         "5",
         "Moran, Mr. James"
        ],
        [
         "6",
         "McCarthy, Mr. Timothy J"
        ],
        [
         "7",
         "Palsson, Master. Gosta Leonard"
        ],
        [
         "8",
         "Johnson, Mrs. Oscar W (Elisabeth Vilhelmina Berg)"
        ],
        [
         "9",
         "Nasser, Mrs. Nicholas (Adele Achem)"
        ],
        [
         "10",
         "Sandstrom, Miss. Marguerite Rut"
        ],
        [
         "11",
         "Bonnell, Miss. Elizabeth"
        ],
        [
         "12",
         "Saundercock, Mr. William Henry"
        ],
        [
         "13",
         "Andersson, Mr. Anders Johan"
        ],
        [
         "14",
         "Vestrom, Miss. Hulda Amanda Adolfina"
        ],
        [
         "15",
         "Hewlett, Mrs. (Mary D Kingcome)"
        ],
        [
         "16",
         "Rice, Master. Eugene"
        ],
        [
         "17",
         "Williams, Mr. Charles Eugene"
        ],
        [
         "18",
         "Vander Planke, Mrs. Julius (Emelia Maria Vandemoortele)"
        ],
        [
         "19",
         "Masselmani, Mrs. Fatima"
        ],
        [
         "20",
         "Fynney, Mr. Joseph J"
        ],
        [
         "21",
         "Beesley, Mr. Lawrence"
        ],
        [
         "22",
         "McGowan, Miss. Anna \"Annie\""
        ],
        [
         "23",
         "Sloper, Mr. William Thompson"
        ],
        [
         "24",
         "Palsson, Miss. Torborg Danira"
        ],
        [
         "25",
         "Asplund, Mrs. Carl Oscar (Selma Augusta Emilia Johansson)"
        ],
        [
         "26",
         "Emir, Mr. Farred Chehab"
        ],
        [
         "27",
         "Fortune, Mr. Charles Alexander"
        ],
        [
         "28",
         "O'Dwyer, Miss. Ellen \"Nellie\""
        ],
        [
         "29",
         "Todoroff, Mr. Lalio"
        ],
        [
         "30",
         "Uruchurtu, Don. Manuel E"
        ],
        [
         "31",
         "Spencer, Mrs. William Augustus (Marie Eugenie)"
        ],
        [
         "32",
         "Glynn, Miss. Mary Agatha"
        ],
        [
         "33",
         "Wheadon, Mr. Edward H"
        ],
        [
         "34",
         "Meyer, Mr. Edgar Joseph"
        ],
        [
         "35",
         "Holverson, Mr. Alexander Oskar"
        ],
        [
         "36",
         "Mamee, Mr. Hanna"
        ],
        [
         "37",
         "Cann, Mr. Ernest Charles"
        ],
        [
         "38",
         "Vander Planke, Miss. Augusta Maria"
        ],
        [
         "39",
         "Nicola-Yarred, Miss. Jamila"
        ],
        [
         "40",
         "Ahlin, Mrs. Johan (Johanna Persdotter Larsson)"
        ],
        [
         "41",
         "Turpin, Mrs. William John Robert (Dorothy Ann Wonnacott)"
        ],
        [
         "42",
         "Kraeff, Mr. Theodor"
        ],
        [
         "43",
         "Laroche, Miss. Simonne Marie Anne Andree"
        ],
        [
         "44",
         "Devaney, Miss. Margaret Delia"
        ],
        [
         "45",
         "Rogers, Mr. William John"
        ],
        [
         "46",
         "Lennon, Mr. Denis"
        ],
        [
         "47",
         "O'Driscoll, Miss. Bridget"
        ],
        [
         "48",
         "Samaan, Mr. Youssef"
        ],
        [
         "49",
         "Arnold-Franchi, Mrs. Josef (Josefine Franchi)"
        ]
       ],
       "shape": {
        "columns": 1,
        "rows": 891
       }
      },
      "text/plain": [
       "0                                Braund, Mr. Owen Harris\n",
       "1      Cumings, Mrs. John Bradley (Florence Briggs Th...\n",
       "2                                 Heikkinen, Miss. Laina\n",
       "3           Futrelle, Mrs. Jacques Heath (Lily May Peel)\n",
       "4                               Allen, Mr. William Henry\n",
       "                             ...                        \n",
       "886                                Montvila, Rev. Juozas\n",
       "887                         Graham, Miss. Margaret Edith\n",
       "888             Johnston, Miss. Catherine Helen \"Carrie\"\n",
       "889                                Behr, Mr. Karl Howell\n",
       "890                                  Dooley, Mr. Patrick\n",
       "Name: Name, Length: 891, dtype: object"
      ]
     },
     "execution_count": 17,
     "metadata": {},
     "output_type": "execute_result"
    }
   ],
   "source": [
    "df['Name'].str.strip()"
   ]
  },
  {
   "cell_type": "code",
   "execution_count": 18,
   "metadata": {},
   "outputs": [
    {
     "data": {
      "application/vnd.microsoft.datawrangler.viewer.v0+json": {
       "columns": [
        {
         "name": "index",
         "rawType": "int64",
         "type": "integer"
        },
        {
         "name": "PassengerId",
         "rawType": "int64",
         "type": "integer"
        },
        {
         "name": "Survived",
         "rawType": "int64",
         "type": "integer"
        },
        {
         "name": "Pclass",
         "rawType": "int64",
         "type": "integer"
        },
        {
         "name": "Name",
         "rawType": "object",
         "type": "string"
        },
        {
         "name": "Sex",
         "rawType": "object",
         "type": "string"
        },
        {
         "name": "Age",
         "rawType": "float64",
         "type": "float"
        },
        {
         "name": "SibSp",
         "rawType": "int64",
         "type": "integer"
        },
        {
         "name": "Parch",
         "rawType": "int64",
         "type": "integer"
        },
        {
         "name": "Ticket",
         "rawType": "object",
         "type": "string"
        },
        {
         "name": "Fare",
         "rawType": "float64",
         "type": "float"
        },
        {
         "name": "Cabin",
         "rawType": "object",
         "type": "unknown"
        },
        {
         "name": "Embarked",
         "rawType": "object",
         "type": "string"
        },
        {
         "name": "lastname",
         "rawType": "object",
         "type": "string"
        }
       ],
       "ref": "00e8d384-3f52-4e48-86f6-2f61a9c49653",
       "rows": [
        [
         "0",
         "1",
         "0",
         "3",
         "Braund, Mr. Owen Harris",
         "male",
         "22.0",
         "1",
         "0",
         "A/5 21171",
         "7.25",
         null,
         "S",
         "Braund"
        ],
        [
         "1",
         "2",
         "1",
         "1",
         "Cumings, Mrs. John Bradley (Florence Briggs Thayer)",
         "female",
         "38.0",
         "1",
         "0",
         "PC 17599",
         "71.2833",
         "C85",
         "C",
         "Cumings"
        ],
        [
         "2",
         "3",
         "1",
         "3",
         "Heikkinen, Miss. Laina",
         "female",
         "26.0",
         "0",
         "0",
         "STON/O2. 3101282",
         "7.925",
         null,
         "S",
         "Heikkinen"
        ],
        [
         "3",
         "4",
         "1",
         "1",
         "Futrelle, Mrs. Jacques Heath (Lily May Peel)",
         "female",
         "35.0",
         "1",
         "0",
         "113803",
         "53.1",
         "C123",
         "S",
         "Futrelle"
        ],
        [
         "4",
         "5",
         "0",
         "3",
         "Allen, Mr. William Henry",
         "male",
         "35.0",
         "0",
         "0",
         "373450",
         "8.05",
         null,
         "S",
         "Allen"
        ]
       ],
       "shape": {
        "columns": 13,
        "rows": 5
       }
      },
      "text/html": [
       "<div>\n",
       "<style scoped>\n",
       "    .dataframe tbody tr th:only-of-type {\n",
       "        vertical-align: middle;\n",
       "    }\n",
       "\n",
       "    .dataframe tbody tr th {\n",
       "        vertical-align: top;\n",
       "    }\n",
       "\n",
       "    .dataframe thead th {\n",
       "        text-align: right;\n",
       "    }\n",
       "</style>\n",
       "<table border=\"1\" class=\"dataframe\">\n",
       "  <thead>\n",
       "    <tr style=\"text-align: right;\">\n",
       "      <th></th>\n",
       "      <th>PassengerId</th>\n",
       "      <th>Survived</th>\n",
       "      <th>Pclass</th>\n",
       "      <th>Name</th>\n",
       "      <th>Sex</th>\n",
       "      <th>Age</th>\n",
       "      <th>SibSp</th>\n",
       "      <th>Parch</th>\n",
       "      <th>Ticket</th>\n",
       "      <th>Fare</th>\n",
       "      <th>Cabin</th>\n",
       "      <th>Embarked</th>\n",
       "      <th>lastname</th>\n",
       "    </tr>\n",
       "  </thead>\n",
       "  <tbody>\n",
       "    <tr>\n",
       "      <th>0</th>\n",
       "      <td>1</td>\n",
       "      <td>0</td>\n",
       "      <td>3</td>\n",
       "      <td>Braund, Mr. Owen Harris</td>\n",
       "      <td>male</td>\n",
       "      <td>22.0</td>\n",
       "      <td>1</td>\n",
       "      <td>0</td>\n",
       "      <td>A/5 21171</td>\n",
       "      <td>7.2500</td>\n",
       "      <td>NaN</td>\n",
       "      <td>S</td>\n",
       "      <td>Braund</td>\n",
       "    </tr>\n",
       "    <tr>\n",
       "      <th>1</th>\n",
       "      <td>2</td>\n",
       "      <td>1</td>\n",
       "      <td>1</td>\n",
       "      <td>Cumings, Mrs. John Bradley (Florence Briggs Th...</td>\n",
       "      <td>female</td>\n",
       "      <td>38.0</td>\n",
       "      <td>1</td>\n",
       "      <td>0</td>\n",
       "      <td>PC 17599</td>\n",
       "      <td>71.2833</td>\n",
       "      <td>C85</td>\n",
       "      <td>C</td>\n",
       "      <td>Cumings</td>\n",
       "    </tr>\n",
       "    <tr>\n",
       "      <th>2</th>\n",
       "      <td>3</td>\n",
       "      <td>1</td>\n",
       "      <td>3</td>\n",
       "      <td>Heikkinen, Miss. Laina</td>\n",
       "      <td>female</td>\n",
       "      <td>26.0</td>\n",
       "      <td>0</td>\n",
       "      <td>0</td>\n",
       "      <td>STON/O2. 3101282</td>\n",
       "      <td>7.9250</td>\n",
       "      <td>NaN</td>\n",
       "      <td>S</td>\n",
       "      <td>Heikkinen</td>\n",
       "    </tr>\n",
       "    <tr>\n",
       "      <th>3</th>\n",
       "      <td>4</td>\n",
       "      <td>1</td>\n",
       "      <td>1</td>\n",
       "      <td>Futrelle, Mrs. Jacques Heath (Lily May Peel)</td>\n",
       "      <td>female</td>\n",
       "      <td>35.0</td>\n",
       "      <td>1</td>\n",
       "      <td>0</td>\n",
       "      <td>113803</td>\n",
       "      <td>53.1000</td>\n",
       "      <td>C123</td>\n",
       "      <td>S</td>\n",
       "      <td>Futrelle</td>\n",
       "    </tr>\n",
       "    <tr>\n",
       "      <th>4</th>\n",
       "      <td>5</td>\n",
       "      <td>0</td>\n",
       "      <td>3</td>\n",
       "      <td>Allen, Mr. William Henry</td>\n",
       "      <td>male</td>\n",
       "      <td>35.0</td>\n",
       "      <td>0</td>\n",
       "      <td>0</td>\n",
       "      <td>373450</td>\n",
       "      <td>8.0500</td>\n",
       "      <td>NaN</td>\n",
       "      <td>S</td>\n",
       "      <td>Allen</td>\n",
       "    </tr>\n",
       "  </tbody>\n",
       "</table>\n",
       "</div>"
      ],
      "text/plain": [
       "   PassengerId  Survived  Pclass  \\\n",
       "0            1         0       3   \n",
       "1            2         1       1   \n",
       "2            3         1       3   \n",
       "3            4         1       1   \n",
       "4            5         0       3   \n",
       "\n",
       "                                                Name     Sex   Age  SibSp  \\\n",
       "0                            Braund, Mr. Owen Harris    male  22.0      1   \n",
       "1  Cumings, Mrs. John Bradley (Florence Briggs Th...  female  38.0      1   \n",
       "2                             Heikkinen, Miss. Laina  female  26.0      0   \n",
       "3       Futrelle, Mrs. Jacques Heath (Lily May Peel)  female  35.0      1   \n",
       "4                           Allen, Mr. William Henry    male  35.0      0   \n",
       "\n",
       "   Parch            Ticket     Fare Cabin Embarked   lastname  \n",
       "0      0         A/5 21171   7.2500   NaN        S     Braund  \n",
       "1      0          PC 17599  71.2833   C85        C    Cumings  \n",
       "2      0  STON/O2. 3101282   7.9250   NaN        S  Heikkinen  \n",
       "3      0            113803  53.1000  C123        S   Futrelle  \n",
       "4      0            373450   8.0500   NaN        S      Allen  "
      ]
     },
     "execution_count": 18,
     "metadata": {},
     "output_type": "execute_result"
    }
   ],
   "source": [
    "# split -> get\n",
    "df['lastname'] = df['Name'].str.split(',').str.get(0)\n",
    "df.head()"
   ]
  },
  {
   "cell_type": "code",
   "execution_count": null,
   "metadata": {},
   "outputs": [
    {
     "data": {
      "application/vnd.microsoft.datawrangler.viewer.v0+json": {
       "columns": [
        {
         "name": "index",
         "rawType": "int64",
         "type": "integer"
        },
        {
         "name": "PassengerId",
         "rawType": "int64",
         "type": "integer"
        },
        {
         "name": "Survived",
         "rawType": "int64",
         "type": "integer"
        },
        {
         "name": "Pclass",
         "rawType": "int64",
         "type": "integer"
        },
        {
         "name": "Name",
         "rawType": "object",
         "type": "string"
        },
        {
         "name": "Sex",
         "rawType": "object",
         "type": "string"
        },
        {
         "name": "Age",
         "rawType": "float64",
         "type": "float"
        },
        {
         "name": "SibSp",
         "rawType": "int64",
         "type": "integer"
        },
        {
         "name": "Parch",
         "rawType": "int64",
         "type": "integer"
        },
        {
         "name": "Ticket",
         "rawType": "object",
         "type": "string"
        },
        {
         "name": "Fare",
         "rawType": "float64",
         "type": "float"
        },
        {
         "name": "Cabin",
         "rawType": "object",
         "type": "unknown"
        },
        {
         "name": "Embarked",
         "rawType": "object",
         "type": "string"
        },
        {
         "name": "lastname",
         "rawType": "object",
         "type": "string"
        },
        {
         "name": "title",
         "rawType": "object",
         "type": "string"
        },
        {
         "name": "firstname",
         "rawType": "object",
         "type": "string"
        }
       ],
       "ref": "b11bf347-6591-4f71-897d-fe6af2786a46",
       "rows": [
        [
         "0",
         "1",
         "0",
         "3",
         "Braund, Mr. Owen Harris",
         "male",
         "22.0",
         "1",
         "0",
         "A/5 21171",
         "7.25",
         null,
         "S",
         "Braund",
         "Mr.",
         "Owen Harris"
        ],
        [
         "1",
         "2",
         "1",
         "1",
         "Cumings, Mrs. John Bradley (Florence Briggs Thayer)",
         "female",
         "38.0",
         "1",
         "0",
         "PC 17599",
         "71.2833",
         "C85",
         "C",
         "Cumings",
         "Mrs.",
         "John Bradley (Florence Briggs Thayer)"
        ],
        [
         "2",
         "3",
         "1",
         "3",
         "Heikkinen, Miss. Laina",
         "female",
         "26.0",
         "0",
         "0",
         "STON/O2. 3101282",
         "7.925",
         null,
         "S",
         "Heikkinen",
         "Miss.",
         "Laina"
        ],
        [
         "3",
         "4",
         "1",
         "1",
         "Futrelle, Mrs. Jacques Heath (Lily May Peel)",
         "female",
         "35.0",
         "1",
         "0",
         "113803",
         "53.1",
         "C123",
         "S",
         "Futrelle",
         "Mrs.",
         "Jacques Heath (Lily May Peel)"
        ],
        [
         "4",
         "5",
         "0",
         "3",
         "Allen, Mr. William Henry",
         "male",
         "35.0",
         "0",
         "0",
         "373450",
         "8.05",
         null,
         "S",
         "Allen",
         "Mr.",
         "William Henry"
        ]
       ],
       "shape": {
        "columns": 15,
        "rows": 5
       }
      },
      "text/html": [
       "<div>\n",
       "<style scoped>\n",
       "    .dataframe tbody tr th:only-of-type {\n",
       "        vertical-align: middle;\n",
       "    }\n",
       "\n",
       "    .dataframe tbody tr th {\n",
       "        vertical-align: top;\n",
       "    }\n",
       "\n",
       "    .dataframe thead th {\n",
       "        text-align: right;\n",
       "    }\n",
       "</style>\n",
       "<table border=\"1\" class=\"dataframe\">\n",
       "  <thead>\n",
       "    <tr style=\"text-align: right;\">\n",
       "      <th></th>\n",
       "      <th>PassengerId</th>\n",
       "      <th>Survived</th>\n",
       "      <th>Pclass</th>\n",
       "      <th>Name</th>\n",
       "      <th>Sex</th>\n",
       "      <th>Age</th>\n",
       "      <th>SibSp</th>\n",
       "      <th>Parch</th>\n",
       "      <th>Ticket</th>\n",
       "      <th>Fare</th>\n",
       "      <th>Cabin</th>\n",
       "      <th>Embarked</th>\n",
       "      <th>lastname</th>\n",
       "      <th>title</th>\n",
       "      <th>firstname</th>\n",
       "    </tr>\n",
       "  </thead>\n",
       "  <tbody>\n",
       "    <tr>\n",
       "      <th>0</th>\n",
       "      <td>1</td>\n",
       "      <td>0</td>\n",
       "      <td>3</td>\n",
       "      <td>Braund, Mr. Owen Harris</td>\n",
       "      <td>male</td>\n",
       "      <td>22.0</td>\n",
       "      <td>1</td>\n",
       "      <td>0</td>\n",
       "      <td>A/5 21171</td>\n",
       "      <td>7.2500</td>\n",
       "      <td>NaN</td>\n",
       "      <td>S</td>\n",
       "      <td>Braund</td>\n",
       "      <td>Mr.</td>\n",
       "      <td>Owen Harris</td>\n",
       "    </tr>\n",
       "    <tr>\n",
       "      <th>1</th>\n",
       "      <td>2</td>\n",
       "      <td>1</td>\n",
       "      <td>1</td>\n",
       "      <td>Cumings, Mrs. John Bradley (Florence Briggs Th...</td>\n",
       "      <td>female</td>\n",
       "      <td>38.0</td>\n",
       "      <td>1</td>\n",
       "      <td>0</td>\n",
       "      <td>PC 17599</td>\n",
       "      <td>71.2833</td>\n",
       "      <td>C85</td>\n",
       "      <td>C</td>\n",
       "      <td>Cumings</td>\n",
       "      <td>Mrs.</td>\n",
       "      <td>John Bradley (Florence Briggs Thayer)</td>\n",
       "    </tr>\n",
       "    <tr>\n",
       "      <th>2</th>\n",
       "      <td>3</td>\n",
       "      <td>1</td>\n",
       "      <td>3</td>\n",
       "      <td>Heikkinen, Miss. Laina</td>\n",
       "      <td>female</td>\n",
       "      <td>26.0</td>\n",
       "      <td>0</td>\n",
       "      <td>0</td>\n",
       "      <td>STON/O2. 3101282</td>\n",
       "      <td>7.9250</td>\n",
       "      <td>NaN</td>\n",
       "      <td>S</td>\n",
       "      <td>Heikkinen</td>\n",
       "      <td>Miss.</td>\n",
       "      <td>Laina</td>\n",
       "    </tr>\n",
       "    <tr>\n",
       "      <th>3</th>\n",
       "      <td>4</td>\n",
       "      <td>1</td>\n",
       "      <td>1</td>\n",
       "      <td>Futrelle, Mrs. Jacques Heath (Lily May Peel)</td>\n",
       "      <td>female</td>\n",
       "      <td>35.0</td>\n",
       "      <td>1</td>\n",
       "      <td>0</td>\n",
       "      <td>113803</td>\n",
       "      <td>53.1000</td>\n",
       "      <td>C123</td>\n",
       "      <td>S</td>\n",
       "      <td>Futrelle</td>\n",
       "      <td>Mrs.</td>\n",
       "      <td>Jacques Heath (Lily May Peel)</td>\n",
       "    </tr>\n",
       "    <tr>\n",
       "      <th>4</th>\n",
       "      <td>5</td>\n",
       "      <td>0</td>\n",
       "      <td>3</td>\n",
       "      <td>Allen, Mr. William Henry</td>\n",
       "      <td>male</td>\n",
       "      <td>35.0</td>\n",
       "      <td>0</td>\n",
       "      <td>0</td>\n",
       "      <td>373450</td>\n",
       "      <td>8.0500</td>\n",
       "      <td>NaN</td>\n",
       "      <td>S</td>\n",
       "      <td>Allen</td>\n",
       "      <td>Mr.</td>\n",
       "      <td>William Henry</td>\n",
       "    </tr>\n",
       "  </tbody>\n",
       "</table>\n",
       "</div>"
      ],
      "text/plain": [
       "   PassengerId  Survived  Pclass  \\\n",
       "0            1         0       3   \n",
       "1            2         1       1   \n",
       "2            3         1       3   \n",
       "3            4         1       1   \n",
       "4            5         0       3   \n",
       "\n",
       "                                                Name     Sex   Age  SibSp  \\\n",
       "0                            Braund, Mr. Owen Harris    male  22.0      1   \n",
       "1  Cumings, Mrs. John Bradley (Florence Briggs Th...  female  38.0      1   \n",
       "2                             Heikkinen, Miss. Laina  female  26.0      0   \n",
       "3       Futrelle, Mrs. Jacques Heath (Lily May Peel)  female  35.0      1   \n",
       "4                           Allen, Mr. William Henry    male  35.0      0   \n",
       "\n",
       "   Parch            Ticket     Fare Cabin Embarked   lastname  title  \\\n",
       "0      0         A/5 21171   7.2500   NaN        S     Braund    Mr.   \n",
       "1      0          PC 17599  71.2833   C85        C    Cumings   Mrs.   \n",
       "2      0  STON/O2. 3101282   7.9250   NaN        S  Heikkinen  Miss.   \n",
       "3      0            113803  53.1000  C123        S   Futrelle   Mrs.   \n",
       "4      0            373450   8.0500   NaN        S      Allen    Mr.   \n",
       "\n",
       "                               firstname  \n",
       "0                            Owen Harris  \n",
       "1  John Bradley (Florence Briggs Thayer)  \n",
       "2                                  Laina  \n",
       "3          Jacques Heath (Lily May Peel)  \n",
       "4                          William Henry  "
      ]
     },
     "execution_count": 19,
     "metadata": {},
     "output_type": "execute_result"
    }
   ],
   "source": [
    "df[['title','firstname']] = df['Name'].str.split(',').str.get(1).str.strip().str.split(' ', n=1, expand=True)\n",
    "df.head()"
   ]
  },
  {
   "cell_type": "code",
   "execution_count": 20,
   "metadata": {},
   "outputs": [
    {
     "data": {
      "application/vnd.microsoft.datawrangler.viewer.v0+json": {
       "columns": [
        {
         "name": "title",
         "rawType": "object",
         "type": "string"
        },
        {
         "name": "count",
         "rawType": "int64",
         "type": "integer"
        }
       ],
       "ref": "f02f9eee-4a55-4db5-ac8f-501c1dd978e2",
       "rows": [
        [
         "Mr.",
         "517"
        ],
        [
         "Miss.",
         "182"
        ],
        [
         "Mrs.",
         "125"
        ],
        [
         "Master.",
         "40"
        ],
        [
         "Dr.",
         "7"
        ],
        [
         "Rev.",
         "6"
        ],
        [
         "Col.",
         "2"
        ],
        [
         "Mlle.",
         "2"
        ],
        [
         "Major.",
         "2"
        ],
        [
         "Ms.",
         "1"
        ],
        [
         "Mme.",
         "1"
        ],
        [
         "Don.",
         "1"
        ],
        [
         "Lady.",
         "1"
        ],
        [
         "Sir.",
         "1"
        ],
        [
         "Capt.",
         "1"
        ],
        [
         "the",
         "1"
        ],
        [
         "Jonkheer.",
         "1"
        ]
       ],
       "shape": {
        "columns": 1,
        "rows": 17
       }
      },
      "text/plain": [
       "title\n",
       "Mr.          517\n",
       "Miss.        182\n",
       "Mrs.         125\n",
       "Master.       40\n",
       "Dr.            7\n",
       "Rev.           6\n",
       "Col.           2\n",
       "Mlle.          2\n",
       "Major.         2\n",
       "Ms.            1\n",
       "Mme.           1\n",
       "Don.           1\n",
       "Lady.          1\n",
       "Sir.           1\n",
       "Capt.          1\n",
       "the            1\n",
       "Jonkheer.      1\n",
       "Name: count, dtype: int64"
      ]
     },
     "execution_count": 20,
     "metadata": {},
     "output_type": "execute_result"
    }
   ],
   "source": [
    "\n",
    "df['title'].value_counts()"
   ]
  },
  {
   "cell_type": "code",
   "execution_count": 22,
   "metadata": {},
   "outputs": [],
   "source": [
    "# replace\n",
    "df['title'] = df['title'].str.replace('Ms.','Miss.')\n",
    "df['title'] = df['title'].str.replace('Mlle.', 'Miss.')"
   ]
  },
  {
   "cell_type": "code",
   "execution_count": 23,
   "metadata": {},
   "outputs": [
    {
     "data": {
      "application/vnd.microsoft.datawrangler.viewer.v0+json": {
       "columns": [
        {
         "name": "title",
         "rawType": "object",
         "type": "string"
        },
        {
         "name": "count",
         "rawType": "int64",
         "type": "integer"
        }
       ],
       "ref": "45381375-6ec0-415b-a2aa-a26b130ef379",
       "rows": [
        [
         "Mr.",
         "517"
        ],
        [
         "Miss.",
         "185"
        ],
        [
         "Mrs.",
         "125"
        ],
        [
         "Master.",
         "40"
        ],
        [
         "Dr.",
         "7"
        ],
        [
         "Rev.",
         "6"
        ],
        [
         "Major.",
         "2"
        ],
        [
         "Col.",
         "2"
        ],
        [
         "Don.",
         "1"
        ],
        [
         "Lady.",
         "1"
        ],
        [
         "Mme.",
         "1"
        ],
        [
         "Sir.",
         "1"
        ],
        [
         "Capt.",
         "1"
        ],
        [
         "the",
         "1"
        ],
        [
         "Jonkheer.",
         "1"
        ]
       ],
       "shape": {
        "columns": 1,
        "rows": 15
       }
      },
      "text/plain": [
       "title\n",
       "Mr.          517\n",
       "Miss.        185\n",
       "Mrs.         125\n",
       "Master.       40\n",
       "Dr.            7\n",
       "Rev.           6\n",
       "Major.         2\n",
       "Col.           2\n",
       "Don.           1\n",
       "Lady.          1\n",
       "Mme.           1\n",
       "Sir.           1\n",
       "Capt.          1\n",
       "the            1\n",
       "Jonkheer.      1\n",
       "Name: count, dtype: int64"
      ]
     },
     "execution_count": 23,
     "metadata": {},
     "output_type": "execute_result"
    }
   ],
   "source": [
    "df['title'].value_counts()"
   ]
  },
  {
   "cell_type": "code",
   "execution_count": 24,
   "metadata": {},
   "outputs": [
    {
     "data": {
      "application/vnd.microsoft.datawrangler.viewer.v0+json": {
       "columns": [
        {
         "name": "index",
         "rawType": "int64",
         "type": "integer"
        },
        {
         "name": "PassengerId",
         "rawType": "int64",
         "type": "integer"
        },
        {
         "name": "Survived",
         "rawType": "int64",
         "type": "integer"
        },
        {
         "name": "Pclass",
         "rawType": "int64",
         "type": "integer"
        },
        {
         "name": "Name",
         "rawType": "object",
         "type": "string"
        },
        {
         "name": "Sex",
         "rawType": "object",
         "type": "string"
        },
        {
         "name": "Age",
         "rawType": "float64",
         "type": "float"
        },
        {
         "name": "SibSp",
         "rawType": "int64",
         "type": "integer"
        },
        {
         "name": "Parch",
         "rawType": "int64",
         "type": "integer"
        },
        {
         "name": "Ticket",
         "rawType": "object",
         "type": "string"
        },
        {
         "name": "Fare",
         "rawType": "float64",
         "type": "float"
        },
        {
         "name": "Cabin",
         "rawType": "object",
         "type": "unknown"
        },
        {
         "name": "Embarked",
         "rawType": "object",
         "type": "string"
        },
        {
         "name": "lastname",
         "rawType": "object",
         "type": "string"
        },
        {
         "name": "title",
         "rawType": "object",
         "type": "string"
        },
        {
         "name": "firstname",
         "rawType": "object",
         "type": "string"
        }
       ],
       "ref": "480f188a-91b9-4d89-a8b8-ab5d45c9be81",
       "rows": [
        [
         "64",
         "65",
         "0",
         "1",
         "Stewart, Mr. Albert A",
         "male",
         null,
         "0",
         "0",
         "PC 17605",
         "27.7208",
         null,
         "C",
         "Stewart",
         "Mr.",
         "Albert A"
        ],
        [
         "303",
         "304",
         "1",
         "2",
         "Keane, Miss. Nora A",
         "female",
         null,
         "0",
         "0",
         "226593",
         "12.35",
         "E101",
         "Q",
         "Keane",
         "Miss.",
         "Nora A"
        ]
       ],
       "shape": {
        "columns": 15,
        "rows": 2
       }
      },
      "text/html": [
       "<div>\n",
       "<style scoped>\n",
       "    .dataframe tbody tr th:only-of-type {\n",
       "        vertical-align: middle;\n",
       "    }\n",
       "\n",
       "    .dataframe tbody tr th {\n",
       "        vertical-align: top;\n",
       "    }\n",
       "\n",
       "    .dataframe thead th {\n",
       "        text-align: right;\n",
       "    }\n",
       "</style>\n",
       "<table border=\"1\" class=\"dataframe\">\n",
       "  <thead>\n",
       "    <tr style=\"text-align: right;\">\n",
       "      <th></th>\n",
       "      <th>PassengerId</th>\n",
       "      <th>Survived</th>\n",
       "      <th>Pclass</th>\n",
       "      <th>Name</th>\n",
       "      <th>Sex</th>\n",
       "      <th>Age</th>\n",
       "      <th>SibSp</th>\n",
       "      <th>Parch</th>\n",
       "      <th>Ticket</th>\n",
       "      <th>Fare</th>\n",
       "      <th>Cabin</th>\n",
       "      <th>Embarked</th>\n",
       "      <th>lastname</th>\n",
       "      <th>title</th>\n",
       "      <th>firstname</th>\n",
       "    </tr>\n",
       "  </thead>\n",
       "  <tbody>\n",
       "    <tr>\n",
       "      <th>64</th>\n",
       "      <td>65</td>\n",
       "      <td>0</td>\n",
       "      <td>1</td>\n",
       "      <td>Stewart, Mr. Albert A</td>\n",
       "      <td>male</td>\n",
       "      <td>NaN</td>\n",
       "      <td>0</td>\n",
       "      <td>0</td>\n",
       "      <td>PC 17605</td>\n",
       "      <td>27.7208</td>\n",
       "      <td>NaN</td>\n",
       "      <td>C</td>\n",
       "      <td>Stewart</td>\n",
       "      <td>Mr.</td>\n",
       "      <td>Albert A</td>\n",
       "    </tr>\n",
       "    <tr>\n",
       "      <th>303</th>\n",
       "      <td>304</td>\n",
       "      <td>1</td>\n",
       "      <td>2</td>\n",
       "      <td>Keane, Miss. Nora A</td>\n",
       "      <td>female</td>\n",
       "      <td>NaN</td>\n",
       "      <td>0</td>\n",
       "      <td>0</td>\n",
       "      <td>226593</td>\n",
       "      <td>12.3500</td>\n",
       "      <td>E101</td>\n",
       "      <td>Q</td>\n",
       "      <td>Keane</td>\n",
       "      <td>Miss.</td>\n",
       "      <td>Nora A</td>\n",
       "    </tr>\n",
       "  </tbody>\n",
       "</table>\n",
       "</div>"
      ],
      "text/plain": [
       "     PassengerId  Survived  Pclass                   Name     Sex  Age  SibSp  \\\n",
       "64            65         0       1  Stewart, Mr. Albert A    male  NaN      0   \n",
       "303          304         1       2    Keane, Miss. Nora A  female  NaN      0   \n",
       "\n",
       "     Parch    Ticket     Fare Cabin Embarked lastname  title firstname  \n",
       "64       0  PC 17605  27.7208   NaN        C  Stewart    Mr.  Albert A  \n",
       "303      0    226593  12.3500  E101        Q    Keane  Miss.    Nora A  "
      ]
     },
     "execution_count": 24,
     "metadata": {},
     "output_type": "execute_result"
    }
   ],
   "source": [
    "# filtering\n",
    "# startswith/endswith\n",
    "df[df['firstname'].str.endswith('A')]\n"
   ]
  },
  {
   "cell_type": "code",
   "execution_count": 25,
   "metadata": {},
   "outputs": [
    {
     "data": {
      "application/vnd.microsoft.datawrangler.viewer.v0+json": {
       "columns": [
        {
         "name": "index",
         "rawType": "int64",
         "type": "integer"
        },
        {
         "name": "PassengerId",
         "rawType": "int64",
         "type": "integer"
        },
        {
         "name": "Survived",
         "rawType": "int64",
         "type": "integer"
        },
        {
         "name": "Pclass",
         "rawType": "int64",
         "type": "integer"
        },
        {
         "name": "Name",
         "rawType": "object",
         "type": "string"
        },
        {
         "name": "Sex",
         "rawType": "object",
         "type": "string"
        },
        {
         "name": "Age",
         "rawType": "float64",
         "type": "float"
        },
        {
         "name": "SibSp",
         "rawType": "int64",
         "type": "integer"
        },
        {
         "name": "Parch",
         "rawType": "int64",
         "type": "integer"
        },
        {
         "name": "Ticket",
         "rawType": "object",
         "type": "string"
        },
        {
         "name": "Fare",
         "rawType": "float64",
         "type": "float"
        },
        {
         "name": "Cabin",
         "rawType": "object",
         "type": "string"
        },
        {
         "name": "Embarked",
         "rawType": "object",
         "type": "string"
        },
        {
         "name": "lastname",
         "rawType": "object",
         "type": "string"
        },
        {
         "name": "title",
         "rawType": "object",
         "type": "string"
        },
        {
         "name": "firstname",
         "rawType": "object",
         "type": "string"
        }
       ],
       "ref": "0082dd1a-8d01-4774-b4f2-fcb7286393fe",
       "rows": [],
       "shape": {
        "columns": 15,
        "rows": 0
       }
      },
      "text/html": [
       "<div>\n",
       "<style scoped>\n",
       "    .dataframe tbody tr th:only-of-type {\n",
       "        vertical-align: middle;\n",
       "    }\n",
       "\n",
       "    .dataframe tbody tr th {\n",
       "        vertical-align: top;\n",
       "    }\n",
       "\n",
       "    .dataframe thead th {\n",
       "        text-align: right;\n",
       "    }\n",
       "</style>\n",
       "<table border=\"1\" class=\"dataframe\">\n",
       "  <thead>\n",
       "    <tr style=\"text-align: right;\">\n",
       "      <th></th>\n",
       "      <th>PassengerId</th>\n",
       "      <th>Survived</th>\n",
       "      <th>Pclass</th>\n",
       "      <th>Name</th>\n",
       "      <th>Sex</th>\n",
       "      <th>Age</th>\n",
       "      <th>SibSp</th>\n",
       "      <th>Parch</th>\n",
       "      <th>Ticket</th>\n",
       "      <th>Fare</th>\n",
       "      <th>Cabin</th>\n",
       "      <th>Embarked</th>\n",
       "      <th>lastname</th>\n",
       "      <th>title</th>\n",
       "      <th>firstname</th>\n",
       "    </tr>\n",
       "  </thead>\n",
       "  <tbody>\n",
       "  </tbody>\n",
       "</table>\n",
       "</div>"
      ],
      "text/plain": [
       "Empty DataFrame\n",
       "Columns: [PassengerId, Survived, Pclass, Name, Sex, Age, SibSp, Parch, Ticket, Fare, Cabin, Embarked, lastname, title, firstname]\n",
       "Index: []"
      ]
     },
     "execution_count": 25,
     "metadata": {},
     "output_type": "execute_result"
    }
   ],
   "source": [
    "# isdigit/isalpha...\n",
    "df[df['firstname'].str.isdigit()]"
   ]
  },
  {
   "cell_type": "code",
   "execution_count": 26,
   "metadata": {},
   "outputs": [
    {
     "data": {
      "application/vnd.microsoft.datawrangler.viewer.v0+json": {
       "columns": [
        {
         "name": "index",
         "rawType": "int64",
         "type": "integer"
        },
        {
         "name": "PassengerId",
         "rawType": "int64",
         "type": "integer"
        },
        {
         "name": "Survived",
         "rawType": "int64",
         "type": "integer"
        },
        {
         "name": "Pclass",
         "rawType": "int64",
         "type": "integer"
        },
        {
         "name": "Name",
         "rawType": "object",
         "type": "string"
        },
        {
         "name": "Sex",
         "rawType": "object",
         "type": "string"
        },
        {
         "name": "Age",
         "rawType": "float64",
         "type": "float"
        },
        {
         "name": "SibSp",
         "rawType": "int64",
         "type": "integer"
        },
        {
         "name": "Parch",
         "rawType": "int64",
         "type": "integer"
        },
        {
         "name": "Ticket",
         "rawType": "object",
         "type": "string"
        },
        {
         "name": "Fare",
         "rawType": "float64",
         "type": "float"
        },
        {
         "name": "Cabin",
         "rawType": "object",
         "type": "unknown"
        },
        {
         "name": "Embarked",
         "rawType": "object",
         "type": "string"
        },
        {
         "name": "lastname",
         "rawType": "object",
         "type": "string"
        },
        {
         "name": "title",
         "rawType": "object",
         "type": "string"
        },
        {
         "name": "firstname",
         "rawType": "object",
         "type": "string"
        }
       ],
       "ref": "5e847205-7032-44d0-81dd-b292b73019bf",
       "rows": [
        [
         "1",
         "2",
         "1",
         "1",
         "Cumings, Mrs. John Bradley (Florence Briggs Thayer)",
         "female",
         "38.0",
         "1",
         "0",
         "PC 17599",
         "71.2833",
         "C85",
         "C",
         "Cumings",
         "Mrs.",
         "John Bradley (Florence Briggs Thayer)"
        ],
        [
         "41",
         "42",
         "0",
         "2",
         "Turpin, Mrs. William John Robert (Dorothy Ann Wonnacott)",
         "female",
         "27.0",
         "1",
         "0",
         "11668",
         "21.0",
         null,
         "S",
         "Turpin",
         "Mrs.",
         "William John Robert (Dorothy Ann Wonnacott)"
        ],
        [
         "45",
         "46",
         "0",
         "3",
         "Rogers, Mr. William John",
         "male",
         null,
         "0",
         "0",
         "S.C./A.4. 23567",
         "8.05",
         null,
         "S",
         "Rogers",
         "Mr.",
         "William John"
        ],
        [
         "98",
         "99",
         "1",
         "2",
         "Doling, Mrs. John T (Ada Julia Bone)",
         "female",
         "34.0",
         "0",
         "1",
         "231919",
         "23.0",
         null,
         "S",
         "Doling",
         "Mrs.",
         "John T (Ada Julia Bone)"
        ],
        [
         "112",
         "113",
         "0",
         "3",
         "Barton, Mr. David John",
         "male",
         "22.0",
         "0",
         "0",
         "324669",
         "8.05",
         null,
         "S",
         "Barton",
         "Mr.",
         "David John"
        ],
        [
         "117",
         "118",
         "0",
         "2",
         "Turpin, Mr. William John Robert",
         "male",
         "29.0",
         "1",
         "0",
         "11668",
         "21.0",
         null,
         "S",
         "Turpin",
         "Mr.",
         "William John Robert"
        ],
        [
         "160",
         "161",
         "0",
         "3",
         "Cribb, Mr. John Hatfield",
         "male",
         "44.0",
         "0",
         "1",
         "371362",
         "16.1",
         null,
         "S",
         "Cribb",
         "Mr.",
         "John Hatfield"
        ],
        [
         "162",
         "163",
         "0",
         "3",
         "Bengtsson, Mr. John Viktor",
         "male",
         "26.0",
         "0",
         "0",
         "347068",
         "7.775",
         null,
         "S",
         "Bengtsson",
         "Mr.",
         "John Viktor"
        ],
        [
         "165",
         "166",
         "1",
         "3",
         "Goldsmith, Master. Frank John William \"Frankie\"",
         "male",
         "9.0",
         "0",
         "2",
         "363291",
         "20.525",
         null,
         "S",
         "Goldsmith",
         "Master.",
         "Frank John William \"Frankie\""
        ],
        [
         "168",
         "169",
         "0",
         "1",
         "Baumann, Mr. John D",
         "male",
         null,
         "0",
         "0",
         "PC 17318",
         "25.925",
         null,
         "S",
         "Baumann",
         "Mr.",
         "John D"
        ],
        [
         "188",
         "189",
         "0",
         "3",
         "Bourke, Mr. John",
         "male",
         "40.0",
         "1",
         "1",
         "364849",
         "15.5",
         null,
         "Q",
         "Bourke",
         "Mr.",
         "John"
        ],
        [
         "212",
         "213",
         "0",
         "3",
         "Perkin, Mr. John Henry",
         "male",
         "22.0",
         "0",
         "0",
         "A/5 21174",
         "7.25",
         null,
         "S",
         "Perkin",
         "Mr.",
         "John Henry"
        ],
        [
         "226",
         "227",
         "1",
         "2",
         "Mellors, Mr. William John",
         "male",
         "19.0",
         "0",
         "0",
         "SW/PP 751",
         "10.5",
         null,
         "S",
         "Mellors",
         "Mr.",
         "William John"
        ],
        [
         "227",
         "228",
         "0",
         "3",
         "Lovell, Mr. John Hall (\"Henry\")",
         "male",
         "20.5",
         "0",
         "0",
         "A/5 21173",
         "7.25",
         null,
         "S",
         "Lovell",
         "Mr.",
         "John Hall (\"Henry\")"
        ],
        [
         "324",
         "325",
         "0",
         "3",
         "Sage, Mr. George John Jr",
         "male",
         null,
         "8",
         "2",
         "CA. 2343",
         "69.55",
         null,
         "S",
         "Sage",
         "Mr.",
         "George John Jr"
        ],
        [
         "328",
         "329",
         "1",
         "3",
         "Goldsmith, Mrs. Frank John (Emily Alice Brown)",
         "female",
         "31.0",
         "1",
         "1",
         "363291",
         "20.525",
         null,
         "S",
         "Goldsmith",
         "Mrs.",
         "Frank John (Emily Alice Brown)"
        ],
        [
         "401",
         "402",
         "0",
         "3",
         "Adams, Mr. John",
         "male",
         "26.0",
         "0",
         "0",
         "341826",
         "8.05",
         null,
         "S",
         "Adams",
         "Mr.",
         "John"
        ],
        [
         "418",
         "419",
         "0",
         "2",
         "Matthews, Mr. William John",
         "male",
         "30.0",
         "0",
         "0",
         "28228",
         "13.0",
         null,
         "S",
         "Matthews",
         "Mr.",
         "William John"
        ],
        [
         "467",
         "468",
         "0",
         "1",
         "Smart, Mr. John Montgomery",
         "male",
         "56.0",
         "0",
         "0",
         "113792",
         "26.55",
         null,
         "S",
         "Smart",
         "Mr.",
         "John Montgomery"
        ],
        [
         "527",
         "528",
         "0",
         "1",
         "Farthing, Mr. John",
         "male",
         null,
         "0",
         "0",
         "PC 17483",
         "221.7792",
         "C95",
         "S",
         "Farthing",
         "Mr.",
         "John"
        ],
        [
         "548",
         "549",
         "0",
         "3",
         "Goldsmith, Mr. Frank John",
         "male",
         "33.0",
         "1",
         "1",
         "363291",
         "20.525",
         null,
         "S",
         "Goldsmith",
         "Mr.",
         "Frank John"
        ],
        [
         "549",
         "550",
         "1",
         "2",
         "Davies, Master. John Morgan Jr",
         "male",
         "8.0",
         "1",
         "1",
         "C.A. 33112",
         "36.75",
         null,
         "S",
         "Davies",
         "Master.",
         "John Morgan Jr"
        ],
        [
         "550",
         "551",
         "1",
         "1",
         "Thayer, Mr. John Borland Jr",
         "male",
         "17.0",
         "0",
         "2",
         "17421",
         "110.8833",
         "C70",
         "C",
         "Thayer",
         "Mr.",
         "John Borland Jr"
        ],
        [
         "563",
         "564",
         "0",
         "3",
         "Simmons, Mr. John",
         "male",
         null,
         "0",
         "0",
         "SOTON/OQ 392082",
         "8.05",
         null,
         "S",
         "Simmons",
         "Mr.",
         "John"
        ],
        [
         "572",
         "573",
         "1",
         "1",
         "Flynn, Mr. John Irwin (\"Irving\")",
         "male",
         "36.0",
         "0",
         "0",
         "PC 17474",
         "26.3875",
         "E25",
         "S",
         "Flynn",
         "Mr.",
         "John Irwin (\"Irving\")"
        ],
        [
         "574",
         "575",
         "0",
         "3",
         "Rush, Mr. Alfred George John",
         "male",
         "16.0",
         "0",
         "0",
         "A/4. 20589",
         "8.05",
         null,
         "S",
         "Rush",
         "Mr.",
         "Alfred George John"
        ],
        [
         "581",
         "582",
         "1",
         "1",
         "Thayer, Mrs. John Borland (Marian Longstreth Morris)",
         "female",
         "39.0",
         "1",
         "1",
         "17421",
         "110.8833",
         "C68",
         "C",
         "Thayer",
         "Mrs.",
         "John Borland (Marian Longstreth Morris)"
        ],
        [
         "583",
         "584",
         "0",
         "1",
         "Ross, Mr. John Hugo",
         "male",
         "36.0",
         "0",
         "0",
         "13049",
         "40.125",
         "A10",
         "C",
         "Ross",
         "Mr.",
         "John Hugo"
        ],
        [
         "586",
         "587",
         "0",
         "2",
         "Jarvis, Mr. John Denzil",
         "male",
         "47.0",
         "0",
         "0",
         "237565",
         "15.0",
         null,
         "S",
         "Jarvis",
         "Mr.",
         "John Denzil"
        ],
        [
         "594",
         "595",
         "0",
         "2",
         "Chapman, Mr. John Henry",
         "male",
         "37.0",
         "1",
         "0",
         "SC/AH 29037",
         "26.0",
         null,
         "S",
         "Chapman",
         "Mr.",
         "John Henry"
        ],
        [
         "613",
         "614",
         "0",
         "3",
         "Horgan, Mr. John",
         "male",
         null,
         "0",
         "0",
         "370377",
         "7.75",
         null,
         "Q",
         "Horgan",
         "Mr.",
         "John"
        ],
        [
         "624",
         "625",
         "0",
         "3",
         "Bowen, Mr. David John \"Dai\"",
         "male",
         "21.0",
         "0",
         "0",
         "54636",
         "16.1",
         null,
         "S",
         "Bowen",
         "Mr.",
         "David John \"Dai\""
        ],
        [
         "657",
         "658",
         "0",
         "3",
         "Bourke, Mrs. John (Catherine)",
         "female",
         "32.0",
         "1",
         "1",
         "364849",
         "15.5",
         null,
         "Q",
         "Bourke",
         "Mrs.",
         "John (Catherine)"
        ],
        [
         "694",
         "695",
         "0",
         "1",
         "Weir, Col. John",
         "male",
         "60.0",
         "0",
         "0",
         "113800",
         "26.55",
         null,
         "S",
         "Weir",
         "Col.",
         "John"
        ],
        [
         "698",
         "699",
         "0",
         "1",
         "Thayer, Mr. John Borland",
         "male",
         "49.0",
         "1",
         "1",
         "17421",
         "110.8833",
         "C68",
         "C",
         "Thayer",
         "Mr.",
         "John Borland"
        ],
        [
         "700",
         "701",
         "1",
         "1",
         "Astor, Mrs. John Jacob (Madeleine Talmadge Force)",
         "female",
         "18.0",
         "1",
         "0",
         "PC 17757",
         "227.525",
         "C62 C64",
         "C",
         "Astor",
         "Mrs.",
         "John Jacob (Madeleine Talmadge Force)"
        ],
        [
         "733",
         "734",
         "0",
         "2",
         "Berriman, Mr. William John",
         "male",
         "23.0",
         "0",
         "0",
         "28425",
         "13.0",
         null,
         "S",
         "Berriman",
         "Mr.",
         "William John"
        ],
        [
         "760",
         "761",
         "0",
         "3",
         "Garfirth, Mr. John",
         "male",
         null,
         "0",
         "0",
         "358585",
         "14.5",
         null,
         "S",
         "Garfirth",
         "Mr.",
         "John"
        ],
        [
         "765",
         "766",
         "1",
         "1",
         "Hogeboom, Mrs. John C (Anna Andrews)",
         "female",
         "51.0",
         "1",
         "0",
         "13502",
         "77.9583",
         "D11",
         "S",
         "Hogeboom",
         "Mrs.",
         "John C (Anna Andrews)"
        ],
        [
         "818",
         "819",
         "0",
         "3",
         "Holm, Mr. John Fredrik Alexander",
         "male",
         "43.0",
         "0",
         "0",
         "C 7075",
         "6.45",
         null,
         "S",
         "Holm",
         "Mr.",
         "John Fredrik Alexander"
        ],
        [
         "822",
         "823",
         "0",
         "1",
         "Reuchlin, Jonkheer. John George",
         "male",
         "38.0",
         "0",
         "0",
         "19972",
         "0.0",
         null,
         "S",
         "Reuchlin",
         "Jonkheer.",
         "John George"
        ],
        [
         "825",
         "826",
         "0",
         "3",
         "Flynn, Mr. John",
         "male",
         null,
         "0",
         "0",
         "368323",
         "6.95",
         null,
         "Q",
         "Flynn",
         "Mr.",
         "John"
        ],
        [
         "848",
         "849",
         "0",
         "2",
         "Harper, Rev. John",
         "male",
         "28.0",
         "0",
         "1",
         "248727",
         "33.0",
         null,
         "S",
         "Harper",
         "Rev.",
         "John"
        ],
        [
         "864",
         "865",
         "0",
         "2",
         "Gill, Mr. John William",
         "male",
         "24.0",
         "0",
         "0",
         "233866",
         "13.0",
         null,
         "S",
         "Gill",
         "Mr.",
         "John William"
        ]
       ],
       "shape": {
        "columns": 15,
        "rows": 44
       }
      },
      "text/html": [
       "<div>\n",
       "<style scoped>\n",
       "    .dataframe tbody tr th:only-of-type {\n",
       "        vertical-align: middle;\n",
       "    }\n",
       "\n",
       "    .dataframe tbody tr th {\n",
       "        vertical-align: top;\n",
       "    }\n",
       "\n",
       "    .dataframe thead th {\n",
       "        text-align: right;\n",
       "    }\n",
       "</style>\n",
       "<table border=\"1\" class=\"dataframe\">\n",
       "  <thead>\n",
       "    <tr style=\"text-align: right;\">\n",
       "      <th></th>\n",
       "      <th>PassengerId</th>\n",
       "      <th>Survived</th>\n",
       "      <th>Pclass</th>\n",
       "      <th>Name</th>\n",
       "      <th>Sex</th>\n",
       "      <th>Age</th>\n",
       "      <th>SibSp</th>\n",
       "      <th>Parch</th>\n",
       "      <th>Ticket</th>\n",
       "      <th>Fare</th>\n",
       "      <th>Cabin</th>\n",
       "      <th>Embarked</th>\n",
       "      <th>lastname</th>\n",
       "      <th>title</th>\n",
       "      <th>firstname</th>\n",
       "    </tr>\n",
       "  </thead>\n",
       "  <tbody>\n",
       "    <tr>\n",
       "      <th>1</th>\n",
       "      <td>2</td>\n",
       "      <td>1</td>\n",
       "      <td>1</td>\n",
       "      <td>Cumings, Mrs. John Bradley (Florence Briggs Th...</td>\n",
       "      <td>female</td>\n",
       "      <td>38.0</td>\n",
       "      <td>1</td>\n",
       "      <td>0</td>\n",
       "      <td>PC 17599</td>\n",
       "      <td>71.2833</td>\n",
       "      <td>C85</td>\n",
       "      <td>C</td>\n",
       "      <td>Cumings</td>\n",
       "      <td>Mrs.</td>\n",
       "      <td>John Bradley (Florence Briggs Thayer)</td>\n",
       "    </tr>\n",
       "    <tr>\n",
       "      <th>41</th>\n",
       "      <td>42</td>\n",
       "      <td>0</td>\n",
       "      <td>2</td>\n",
       "      <td>Turpin, Mrs. William John Robert (Dorothy Ann ...</td>\n",
       "      <td>female</td>\n",
       "      <td>27.0</td>\n",
       "      <td>1</td>\n",
       "      <td>0</td>\n",
       "      <td>11668</td>\n",
       "      <td>21.0000</td>\n",
       "      <td>NaN</td>\n",
       "      <td>S</td>\n",
       "      <td>Turpin</td>\n",
       "      <td>Mrs.</td>\n",
       "      <td>William John Robert (Dorothy Ann Wonnacott)</td>\n",
       "    </tr>\n",
       "    <tr>\n",
       "      <th>45</th>\n",
       "      <td>46</td>\n",
       "      <td>0</td>\n",
       "      <td>3</td>\n",
       "      <td>Rogers, Mr. William John</td>\n",
       "      <td>male</td>\n",
       "      <td>NaN</td>\n",
       "      <td>0</td>\n",
       "      <td>0</td>\n",
       "      <td>S.C./A.4. 23567</td>\n",
       "      <td>8.0500</td>\n",
       "      <td>NaN</td>\n",
       "      <td>S</td>\n",
       "      <td>Rogers</td>\n",
       "      <td>Mr.</td>\n",
       "      <td>William John</td>\n",
       "    </tr>\n",
       "    <tr>\n",
       "      <th>98</th>\n",
       "      <td>99</td>\n",
       "      <td>1</td>\n",
       "      <td>2</td>\n",
       "      <td>Doling, Mrs. John T (Ada Julia Bone)</td>\n",
       "      <td>female</td>\n",
       "      <td>34.0</td>\n",
       "      <td>0</td>\n",
       "      <td>1</td>\n",
       "      <td>231919</td>\n",
       "      <td>23.0000</td>\n",
       "      <td>NaN</td>\n",
       "      <td>S</td>\n",
       "      <td>Doling</td>\n",
       "      <td>Mrs.</td>\n",
       "      <td>John T (Ada Julia Bone)</td>\n",
       "    </tr>\n",
       "    <tr>\n",
       "      <th>112</th>\n",
       "      <td>113</td>\n",
       "      <td>0</td>\n",
       "      <td>3</td>\n",
       "      <td>Barton, Mr. David John</td>\n",
       "      <td>male</td>\n",
       "      <td>22.0</td>\n",
       "      <td>0</td>\n",
       "      <td>0</td>\n",
       "      <td>324669</td>\n",
       "      <td>8.0500</td>\n",
       "      <td>NaN</td>\n",
       "      <td>S</td>\n",
       "      <td>Barton</td>\n",
       "      <td>Mr.</td>\n",
       "      <td>David John</td>\n",
       "    </tr>\n",
       "    <tr>\n",
       "      <th>117</th>\n",
       "      <td>118</td>\n",
       "      <td>0</td>\n",
       "      <td>2</td>\n",
       "      <td>Turpin, Mr. William John Robert</td>\n",
       "      <td>male</td>\n",
       "      <td>29.0</td>\n",
       "      <td>1</td>\n",
       "      <td>0</td>\n",
       "      <td>11668</td>\n",
       "      <td>21.0000</td>\n",
       "      <td>NaN</td>\n",
       "      <td>S</td>\n",
       "      <td>Turpin</td>\n",
       "      <td>Mr.</td>\n",
       "      <td>William John Robert</td>\n",
       "    </tr>\n",
       "    <tr>\n",
       "      <th>160</th>\n",
       "      <td>161</td>\n",
       "      <td>0</td>\n",
       "      <td>3</td>\n",
       "      <td>Cribb, Mr. John Hatfield</td>\n",
       "      <td>male</td>\n",
       "      <td>44.0</td>\n",
       "      <td>0</td>\n",
       "      <td>1</td>\n",
       "      <td>371362</td>\n",
       "      <td>16.1000</td>\n",
       "      <td>NaN</td>\n",
       "      <td>S</td>\n",
       "      <td>Cribb</td>\n",
       "      <td>Mr.</td>\n",
       "      <td>John Hatfield</td>\n",
       "    </tr>\n",
       "    <tr>\n",
       "      <th>162</th>\n",
       "      <td>163</td>\n",
       "      <td>0</td>\n",
       "      <td>3</td>\n",
       "      <td>Bengtsson, Mr. John Viktor</td>\n",
       "      <td>male</td>\n",
       "      <td>26.0</td>\n",
       "      <td>0</td>\n",
       "      <td>0</td>\n",
       "      <td>347068</td>\n",
       "      <td>7.7750</td>\n",
       "      <td>NaN</td>\n",
       "      <td>S</td>\n",
       "      <td>Bengtsson</td>\n",
       "      <td>Mr.</td>\n",
       "      <td>John Viktor</td>\n",
       "    </tr>\n",
       "    <tr>\n",
       "      <th>165</th>\n",
       "      <td>166</td>\n",
       "      <td>1</td>\n",
       "      <td>3</td>\n",
       "      <td>Goldsmith, Master. Frank John William \"Frankie\"</td>\n",
       "      <td>male</td>\n",
       "      <td>9.0</td>\n",
       "      <td>0</td>\n",
       "      <td>2</td>\n",
       "      <td>363291</td>\n",
       "      <td>20.5250</td>\n",
       "      <td>NaN</td>\n",
       "      <td>S</td>\n",
       "      <td>Goldsmith</td>\n",
       "      <td>Master.</td>\n",
       "      <td>Frank John William \"Frankie\"</td>\n",
       "    </tr>\n",
       "    <tr>\n",
       "      <th>168</th>\n",
       "      <td>169</td>\n",
       "      <td>0</td>\n",
       "      <td>1</td>\n",
       "      <td>Baumann, Mr. John D</td>\n",
       "      <td>male</td>\n",
       "      <td>NaN</td>\n",
       "      <td>0</td>\n",
       "      <td>0</td>\n",
       "      <td>PC 17318</td>\n",
       "      <td>25.9250</td>\n",
       "      <td>NaN</td>\n",
       "      <td>S</td>\n",
       "      <td>Baumann</td>\n",
       "      <td>Mr.</td>\n",
       "      <td>John D</td>\n",
       "    </tr>\n",
       "    <tr>\n",
       "      <th>188</th>\n",
       "      <td>189</td>\n",
       "      <td>0</td>\n",
       "      <td>3</td>\n",
       "      <td>Bourke, Mr. John</td>\n",
       "      <td>male</td>\n",
       "      <td>40.0</td>\n",
       "      <td>1</td>\n",
       "      <td>1</td>\n",
       "      <td>364849</td>\n",
       "      <td>15.5000</td>\n",
       "      <td>NaN</td>\n",
       "      <td>Q</td>\n",
       "      <td>Bourke</td>\n",
       "      <td>Mr.</td>\n",
       "      <td>John</td>\n",
       "    </tr>\n",
       "    <tr>\n",
       "      <th>212</th>\n",
       "      <td>213</td>\n",
       "      <td>0</td>\n",
       "      <td>3</td>\n",
       "      <td>Perkin, Mr. John Henry</td>\n",
       "      <td>male</td>\n",
       "      <td>22.0</td>\n",
       "      <td>0</td>\n",
       "      <td>0</td>\n",
       "      <td>A/5 21174</td>\n",
       "      <td>7.2500</td>\n",
       "      <td>NaN</td>\n",
       "      <td>S</td>\n",
       "      <td>Perkin</td>\n",
       "      <td>Mr.</td>\n",
       "      <td>John Henry</td>\n",
       "    </tr>\n",
       "    <tr>\n",
       "      <th>226</th>\n",
       "      <td>227</td>\n",
       "      <td>1</td>\n",
       "      <td>2</td>\n",
       "      <td>Mellors, Mr. William John</td>\n",
       "      <td>male</td>\n",
       "      <td>19.0</td>\n",
       "      <td>0</td>\n",
       "      <td>0</td>\n",
       "      <td>SW/PP 751</td>\n",
       "      <td>10.5000</td>\n",
       "      <td>NaN</td>\n",
       "      <td>S</td>\n",
       "      <td>Mellors</td>\n",
       "      <td>Mr.</td>\n",
       "      <td>William John</td>\n",
       "    </tr>\n",
       "    <tr>\n",
       "      <th>227</th>\n",
       "      <td>228</td>\n",
       "      <td>0</td>\n",
       "      <td>3</td>\n",
       "      <td>Lovell, Mr. John Hall (\"Henry\")</td>\n",
       "      <td>male</td>\n",
       "      <td>20.5</td>\n",
       "      <td>0</td>\n",
       "      <td>0</td>\n",
       "      <td>A/5 21173</td>\n",
       "      <td>7.2500</td>\n",
       "      <td>NaN</td>\n",
       "      <td>S</td>\n",
       "      <td>Lovell</td>\n",
       "      <td>Mr.</td>\n",
       "      <td>John Hall (\"Henry\")</td>\n",
       "    </tr>\n",
       "    <tr>\n",
       "      <th>324</th>\n",
       "      <td>325</td>\n",
       "      <td>0</td>\n",
       "      <td>3</td>\n",
       "      <td>Sage, Mr. George John Jr</td>\n",
       "      <td>male</td>\n",
       "      <td>NaN</td>\n",
       "      <td>8</td>\n",
       "      <td>2</td>\n",
       "      <td>CA. 2343</td>\n",
       "      <td>69.5500</td>\n",
       "      <td>NaN</td>\n",
       "      <td>S</td>\n",
       "      <td>Sage</td>\n",
       "      <td>Mr.</td>\n",
       "      <td>George John Jr</td>\n",
       "    </tr>\n",
       "    <tr>\n",
       "      <th>328</th>\n",
       "      <td>329</td>\n",
       "      <td>1</td>\n",
       "      <td>3</td>\n",
       "      <td>Goldsmith, Mrs. Frank John (Emily Alice Brown)</td>\n",
       "      <td>female</td>\n",
       "      <td>31.0</td>\n",
       "      <td>1</td>\n",
       "      <td>1</td>\n",
       "      <td>363291</td>\n",
       "      <td>20.5250</td>\n",
       "      <td>NaN</td>\n",
       "      <td>S</td>\n",
       "      <td>Goldsmith</td>\n",
       "      <td>Mrs.</td>\n",
       "      <td>Frank John (Emily Alice Brown)</td>\n",
       "    </tr>\n",
       "    <tr>\n",
       "      <th>401</th>\n",
       "      <td>402</td>\n",
       "      <td>0</td>\n",
       "      <td>3</td>\n",
       "      <td>Adams, Mr. John</td>\n",
       "      <td>male</td>\n",
       "      <td>26.0</td>\n",
       "      <td>0</td>\n",
       "      <td>0</td>\n",
       "      <td>341826</td>\n",
       "      <td>8.0500</td>\n",
       "      <td>NaN</td>\n",
       "      <td>S</td>\n",
       "      <td>Adams</td>\n",
       "      <td>Mr.</td>\n",
       "      <td>John</td>\n",
       "    </tr>\n",
       "    <tr>\n",
       "      <th>418</th>\n",
       "      <td>419</td>\n",
       "      <td>0</td>\n",
       "      <td>2</td>\n",
       "      <td>Matthews, Mr. William John</td>\n",
       "      <td>male</td>\n",
       "      <td>30.0</td>\n",
       "      <td>0</td>\n",
       "      <td>0</td>\n",
       "      <td>28228</td>\n",
       "      <td>13.0000</td>\n",
       "      <td>NaN</td>\n",
       "      <td>S</td>\n",
       "      <td>Matthews</td>\n",
       "      <td>Mr.</td>\n",
       "      <td>William John</td>\n",
       "    </tr>\n",
       "    <tr>\n",
       "      <th>467</th>\n",
       "      <td>468</td>\n",
       "      <td>0</td>\n",
       "      <td>1</td>\n",
       "      <td>Smart, Mr. John Montgomery</td>\n",
       "      <td>male</td>\n",
       "      <td>56.0</td>\n",
       "      <td>0</td>\n",
       "      <td>0</td>\n",
       "      <td>113792</td>\n",
       "      <td>26.5500</td>\n",
       "      <td>NaN</td>\n",
       "      <td>S</td>\n",
       "      <td>Smart</td>\n",
       "      <td>Mr.</td>\n",
       "      <td>John Montgomery</td>\n",
       "    </tr>\n",
       "    <tr>\n",
       "      <th>527</th>\n",
       "      <td>528</td>\n",
       "      <td>0</td>\n",
       "      <td>1</td>\n",
       "      <td>Farthing, Mr. John</td>\n",
       "      <td>male</td>\n",
       "      <td>NaN</td>\n",
       "      <td>0</td>\n",
       "      <td>0</td>\n",
       "      <td>PC 17483</td>\n",
       "      <td>221.7792</td>\n",
       "      <td>C95</td>\n",
       "      <td>S</td>\n",
       "      <td>Farthing</td>\n",
       "      <td>Mr.</td>\n",
       "      <td>John</td>\n",
       "    </tr>\n",
       "    <tr>\n",
       "      <th>548</th>\n",
       "      <td>549</td>\n",
       "      <td>0</td>\n",
       "      <td>3</td>\n",
       "      <td>Goldsmith, Mr. Frank John</td>\n",
       "      <td>male</td>\n",
       "      <td>33.0</td>\n",
       "      <td>1</td>\n",
       "      <td>1</td>\n",
       "      <td>363291</td>\n",
       "      <td>20.5250</td>\n",
       "      <td>NaN</td>\n",
       "      <td>S</td>\n",
       "      <td>Goldsmith</td>\n",
       "      <td>Mr.</td>\n",
       "      <td>Frank John</td>\n",
       "    </tr>\n",
       "    <tr>\n",
       "      <th>549</th>\n",
       "      <td>550</td>\n",
       "      <td>1</td>\n",
       "      <td>2</td>\n",
       "      <td>Davies, Master. John Morgan Jr</td>\n",
       "      <td>male</td>\n",
       "      <td>8.0</td>\n",
       "      <td>1</td>\n",
       "      <td>1</td>\n",
       "      <td>C.A. 33112</td>\n",
       "      <td>36.7500</td>\n",
       "      <td>NaN</td>\n",
       "      <td>S</td>\n",
       "      <td>Davies</td>\n",
       "      <td>Master.</td>\n",
       "      <td>John Morgan Jr</td>\n",
       "    </tr>\n",
       "    <tr>\n",
       "      <th>550</th>\n",
       "      <td>551</td>\n",
       "      <td>1</td>\n",
       "      <td>1</td>\n",
       "      <td>Thayer, Mr. John Borland Jr</td>\n",
       "      <td>male</td>\n",
       "      <td>17.0</td>\n",
       "      <td>0</td>\n",
       "      <td>2</td>\n",
       "      <td>17421</td>\n",
       "      <td>110.8833</td>\n",
       "      <td>C70</td>\n",
       "      <td>C</td>\n",
       "      <td>Thayer</td>\n",
       "      <td>Mr.</td>\n",
       "      <td>John Borland Jr</td>\n",
       "    </tr>\n",
       "    <tr>\n",
       "      <th>563</th>\n",
       "      <td>564</td>\n",
       "      <td>0</td>\n",
       "      <td>3</td>\n",
       "      <td>Simmons, Mr. John</td>\n",
       "      <td>male</td>\n",
       "      <td>NaN</td>\n",
       "      <td>0</td>\n",
       "      <td>0</td>\n",
       "      <td>SOTON/OQ 392082</td>\n",
       "      <td>8.0500</td>\n",
       "      <td>NaN</td>\n",
       "      <td>S</td>\n",
       "      <td>Simmons</td>\n",
       "      <td>Mr.</td>\n",
       "      <td>John</td>\n",
       "    </tr>\n",
       "    <tr>\n",
       "      <th>572</th>\n",
       "      <td>573</td>\n",
       "      <td>1</td>\n",
       "      <td>1</td>\n",
       "      <td>Flynn, Mr. John Irwin (\"Irving\")</td>\n",
       "      <td>male</td>\n",
       "      <td>36.0</td>\n",
       "      <td>0</td>\n",
       "      <td>0</td>\n",
       "      <td>PC 17474</td>\n",
       "      <td>26.3875</td>\n",
       "      <td>E25</td>\n",
       "      <td>S</td>\n",
       "      <td>Flynn</td>\n",
       "      <td>Mr.</td>\n",
       "      <td>John Irwin (\"Irving\")</td>\n",
       "    </tr>\n",
       "    <tr>\n",
       "      <th>574</th>\n",
       "      <td>575</td>\n",
       "      <td>0</td>\n",
       "      <td>3</td>\n",
       "      <td>Rush, Mr. Alfred George John</td>\n",
       "      <td>male</td>\n",
       "      <td>16.0</td>\n",
       "      <td>0</td>\n",
       "      <td>0</td>\n",
       "      <td>A/4. 20589</td>\n",
       "      <td>8.0500</td>\n",
       "      <td>NaN</td>\n",
       "      <td>S</td>\n",
       "      <td>Rush</td>\n",
       "      <td>Mr.</td>\n",
       "      <td>Alfred George John</td>\n",
       "    </tr>\n",
       "    <tr>\n",
       "      <th>581</th>\n",
       "      <td>582</td>\n",
       "      <td>1</td>\n",
       "      <td>1</td>\n",
       "      <td>Thayer, Mrs. John Borland (Marian Longstreth M...</td>\n",
       "      <td>female</td>\n",
       "      <td>39.0</td>\n",
       "      <td>1</td>\n",
       "      <td>1</td>\n",
       "      <td>17421</td>\n",
       "      <td>110.8833</td>\n",
       "      <td>C68</td>\n",
       "      <td>C</td>\n",
       "      <td>Thayer</td>\n",
       "      <td>Mrs.</td>\n",
       "      <td>John Borland (Marian Longstreth Morris)</td>\n",
       "    </tr>\n",
       "    <tr>\n",
       "      <th>583</th>\n",
       "      <td>584</td>\n",
       "      <td>0</td>\n",
       "      <td>1</td>\n",
       "      <td>Ross, Mr. John Hugo</td>\n",
       "      <td>male</td>\n",
       "      <td>36.0</td>\n",
       "      <td>0</td>\n",
       "      <td>0</td>\n",
       "      <td>13049</td>\n",
       "      <td>40.1250</td>\n",
       "      <td>A10</td>\n",
       "      <td>C</td>\n",
       "      <td>Ross</td>\n",
       "      <td>Mr.</td>\n",
       "      <td>John Hugo</td>\n",
       "    </tr>\n",
       "    <tr>\n",
       "      <th>586</th>\n",
       "      <td>587</td>\n",
       "      <td>0</td>\n",
       "      <td>2</td>\n",
       "      <td>Jarvis, Mr. John Denzil</td>\n",
       "      <td>male</td>\n",
       "      <td>47.0</td>\n",
       "      <td>0</td>\n",
       "      <td>0</td>\n",
       "      <td>237565</td>\n",
       "      <td>15.0000</td>\n",
       "      <td>NaN</td>\n",
       "      <td>S</td>\n",
       "      <td>Jarvis</td>\n",
       "      <td>Mr.</td>\n",
       "      <td>John Denzil</td>\n",
       "    </tr>\n",
       "    <tr>\n",
       "      <th>594</th>\n",
       "      <td>595</td>\n",
       "      <td>0</td>\n",
       "      <td>2</td>\n",
       "      <td>Chapman, Mr. John Henry</td>\n",
       "      <td>male</td>\n",
       "      <td>37.0</td>\n",
       "      <td>1</td>\n",
       "      <td>0</td>\n",
       "      <td>SC/AH 29037</td>\n",
       "      <td>26.0000</td>\n",
       "      <td>NaN</td>\n",
       "      <td>S</td>\n",
       "      <td>Chapman</td>\n",
       "      <td>Mr.</td>\n",
       "      <td>John Henry</td>\n",
       "    </tr>\n",
       "    <tr>\n",
       "      <th>613</th>\n",
       "      <td>614</td>\n",
       "      <td>0</td>\n",
       "      <td>3</td>\n",
       "      <td>Horgan, Mr. John</td>\n",
       "      <td>male</td>\n",
       "      <td>NaN</td>\n",
       "      <td>0</td>\n",
       "      <td>0</td>\n",
       "      <td>370377</td>\n",
       "      <td>7.7500</td>\n",
       "      <td>NaN</td>\n",
       "      <td>Q</td>\n",
       "      <td>Horgan</td>\n",
       "      <td>Mr.</td>\n",
       "      <td>John</td>\n",
       "    </tr>\n",
       "    <tr>\n",
       "      <th>624</th>\n",
       "      <td>625</td>\n",
       "      <td>0</td>\n",
       "      <td>3</td>\n",
       "      <td>Bowen, Mr. David John \"Dai\"</td>\n",
       "      <td>male</td>\n",
       "      <td>21.0</td>\n",
       "      <td>0</td>\n",
       "      <td>0</td>\n",
       "      <td>54636</td>\n",
       "      <td>16.1000</td>\n",
       "      <td>NaN</td>\n",
       "      <td>S</td>\n",
       "      <td>Bowen</td>\n",
       "      <td>Mr.</td>\n",
       "      <td>David John \"Dai\"</td>\n",
       "    </tr>\n",
       "    <tr>\n",
       "      <th>657</th>\n",
       "      <td>658</td>\n",
       "      <td>0</td>\n",
       "      <td>3</td>\n",
       "      <td>Bourke, Mrs. John (Catherine)</td>\n",
       "      <td>female</td>\n",
       "      <td>32.0</td>\n",
       "      <td>1</td>\n",
       "      <td>1</td>\n",
       "      <td>364849</td>\n",
       "      <td>15.5000</td>\n",
       "      <td>NaN</td>\n",
       "      <td>Q</td>\n",
       "      <td>Bourke</td>\n",
       "      <td>Mrs.</td>\n",
       "      <td>John (Catherine)</td>\n",
       "    </tr>\n",
       "    <tr>\n",
       "      <th>694</th>\n",
       "      <td>695</td>\n",
       "      <td>0</td>\n",
       "      <td>1</td>\n",
       "      <td>Weir, Col. John</td>\n",
       "      <td>male</td>\n",
       "      <td>60.0</td>\n",
       "      <td>0</td>\n",
       "      <td>0</td>\n",
       "      <td>113800</td>\n",
       "      <td>26.5500</td>\n",
       "      <td>NaN</td>\n",
       "      <td>S</td>\n",
       "      <td>Weir</td>\n",
       "      <td>Col.</td>\n",
       "      <td>John</td>\n",
       "    </tr>\n",
       "    <tr>\n",
       "      <th>698</th>\n",
       "      <td>699</td>\n",
       "      <td>0</td>\n",
       "      <td>1</td>\n",
       "      <td>Thayer, Mr. John Borland</td>\n",
       "      <td>male</td>\n",
       "      <td>49.0</td>\n",
       "      <td>1</td>\n",
       "      <td>1</td>\n",
       "      <td>17421</td>\n",
       "      <td>110.8833</td>\n",
       "      <td>C68</td>\n",
       "      <td>C</td>\n",
       "      <td>Thayer</td>\n",
       "      <td>Mr.</td>\n",
       "      <td>John Borland</td>\n",
       "    </tr>\n",
       "    <tr>\n",
       "      <th>700</th>\n",
       "      <td>701</td>\n",
       "      <td>1</td>\n",
       "      <td>1</td>\n",
       "      <td>Astor, Mrs. John Jacob (Madeleine Talmadge Force)</td>\n",
       "      <td>female</td>\n",
       "      <td>18.0</td>\n",
       "      <td>1</td>\n",
       "      <td>0</td>\n",
       "      <td>PC 17757</td>\n",
       "      <td>227.5250</td>\n",
       "      <td>C62 C64</td>\n",
       "      <td>C</td>\n",
       "      <td>Astor</td>\n",
       "      <td>Mrs.</td>\n",
       "      <td>John Jacob (Madeleine Talmadge Force)</td>\n",
       "    </tr>\n",
       "    <tr>\n",
       "      <th>733</th>\n",
       "      <td>734</td>\n",
       "      <td>0</td>\n",
       "      <td>2</td>\n",
       "      <td>Berriman, Mr. William John</td>\n",
       "      <td>male</td>\n",
       "      <td>23.0</td>\n",
       "      <td>0</td>\n",
       "      <td>0</td>\n",
       "      <td>28425</td>\n",
       "      <td>13.0000</td>\n",
       "      <td>NaN</td>\n",
       "      <td>S</td>\n",
       "      <td>Berriman</td>\n",
       "      <td>Mr.</td>\n",
       "      <td>William John</td>\n",
       "    </tr>\n",
       "    <tr>\n",
       "      <th>760</th>\n",
       "      <td>761</td>\n",
       "      <td>0</td>\n",
       "      <td>3</td>\n",
       "      <td>Garfirth, Mr. John</td>\n",
       "      <td>male</td>\n",
       "      <td>NaN</td>\n",
       "      <td>0</td>\n",
       "      <td>0</td>\n",
       "      <td>358585</td>\n",
       "      <td>14.5000</td>\n",
       "      <td>NaN</td>\n",
       "      <td>S</td>\n",
       "      <td>Garfirth</td>\n",
       "      <td>Mr.</td>\n",
       "      <td>John</td>\n",
       "    </tr>\n",
       "    <tr>\n",
       "      <th>765</th>\n",
       "      <td>766</td>\n",
       "      <td>1</td>\n",
       "      <td>1</td>\n",
       "      <td>Hogeboom, Mrs. John C (Anna Andrews)</td>\n",
       "      <td>female</td>\n",
       "      <td>51.0</td>\n",
       "      <td>1</td>\n",
       "      <td>0</td>\n",
       "      <td>13502</td>\n",
       "      <td>77.9583</td>\n",
       "      <td>D11</td>\n",
       "      <td>S</td>\n",
       "      <td>Hogeboom</td>\n",
       "      <td>Mrs.</td>\n",
       "      <td>John C (Anna Andrews)</td>\n",
       "    </tr>\n",
       "    <tr>\n",
       "      <th>818</th>\n",
       "      <td>819</td>\n",
       "      <td>0</td>\n",
       "      <td>3</td>\n",
       "      <td>Holm, Mr. John Fredrik Alexander</td>\n",
       "      <td>male</td>\n",
       "      <td>43.0</td>\n",
       "      <td>0</td>\n",
       "      <td>0</td>\n",
       "      <td>C 7075</td>\n",
       "      <td>6.4500</td>\n",
       "      <td>NaN</td>\n",
       "      <td>S</td>\n",
       "      <td>Holm</td>\n",
       "      <td>Mr.</td>\n",
       "      <td>John Fredrik Alexander</td>\n",
       "    </tr>\n",
       "    <tr>\n",
       "      <th>822</th>\n",
       "      <td>823</td>\n",
       "      <td>0</td>\n",
       "      <td>1</td>\n",
       "      <td>Reuchlin, Jonkheer. John George</td>\n",
       "      <td>male</td>\n",
       "      <td>38.0</td>\n",
       "      <td>0</td>\n",
       "      <td>0</td>\n",
       "      <td>19972</td>\n",
       "      <td>0.0000</td>\n",
       "      <td>NaN</td>\n",
       "      <td>S</td>\n",
       "      <td>Reuchlin</td>\n",
       "      <td>Jonkheer.</td>\n",
       "      <td>John George</td>\n",
       "    </tr>\n",
       "    <tr>\n",
       "      <th>825</th>\n",
       "      <td>826</td>\n",
       "      <td>0</td>\n",
       "      <td>3</td>\n",
       "      <td>Flynn, Mr. John</td>\n",
       "      <td>male</td>\n",
       "      <td>NaN</td>\n",
       "      <td>0</td>\n",
       "      <td>0</td>\n",
       "      <td>368323</td>\n",
       "      <td>6.9500</td>\n",
       "      <td>NaN</td>\n",
       "      <td>Q</td>\n",
       "      <td>Flynn</td>\n",
       "      <td>Mr.</td>\n",
       "      <td>John</td>\n",
       "    </tr>\n",
       "    <tr>\n",
       "      <th>848</th>\n",
       "      <td>849</td>\n",
       "      <td>0</td>\n",
       "      <td>2</td>\n",
       "      <td>Harper, Rev. John</td>\n",
       "      <td>male</td>\n",
       "      <td>28.0</td>\n",
       "      <td>0</td>\n",
       "      <td>1</td>\n",
       "      <td>248727</td>\n",
       "      <td>33.0000</td>\n",
       "      <td>NaN</td>\n",
       "      <td>S</td>\n",
       "      <td>Harper</td>\n",
       "      <td>Rev.</td>\n",
       "      <td>John</td>\n",
       "    </tr>\n",
       "    <tr>\n",
       "      <th>864</th>\n",
       "      <td>865</td>\n",
       "      <td>0</td>\n",
       "      <td>2</td>\n",
       "      <td>Gill, Mr. John William</td>\n",
       "      <td>male</td>\n",
       "      <td>24.0</td>\n",
       "      <td>0</td>\n",
       "      <td>0</td>\n",
       "      <td>233866</td>\n",
       "      <td>13.0000</td>\n",
       "      <td>NaN</td>\n",
       "      <td>S</td>\n",
       "      <td>Gill</td>\n",
       "      <td>Mr.</td>\n",
       "      <td>John William</td>\n",
       "    </tr>\n",
       "  </tbody>\n",
       "</table>\n",
       "</div>"
      ],
      "text/plain": [
       "     PassengerId  Survived  Pclass  \\\n",
       "1              2         1       1   \n",
       "41            42         0       2   \n",
       "45            46         0       3   \n",
       "98            99         1       2   \n",
       "112          113         0       3   \n",
       "117          118         0       2   \n",
       "160          161         0       3   \n",
       "162          163         0       3   \n",
       "165          166         1       3   \n",
       "168          169         0       1   \n",
       "188          189         0       3   \n",
       "212          213         0       3   \n",
       "226          227         1       2   \n",
       "227          228         0       3   \n",
       "324          325         0       3   \n",
       "328          329         1       3   \n",
       "401          402         0       3   \n",
       "418          419         0       2   \n",
       "467          468         0       1   \n",
       "527          528         0       1   \n",
       "548          549         0       3   \n",
       "549          550         1       2   \n",
       "550          551         1       1   \n",
       "563          564         0       3   \n",
       "572          573         1       1   \n",
       "574          575         0       3   \n",
       "581          582         1       1   \n",
       "583          584         0       1   \n",
       "586          587         0       2   \n",
       "594          595         0       2   \n",
       "613          614         0       3   \n",
       "624          625         0       3   \n",
       "657          658         0       3   \n",
       "694          695         0       1   \n",
       "698          699         0       1   \n",
       "700          701         1       1   \n",
       "733          734         0       2   \n",
       "760          761         0       3   \n",
       "765          766         1       1   \n",
       "818          819         0       3   \n",
       "822          823         0       1   \n",
       "825          826         0       3   \n",
       "848          849         0       2   \n",
       "864          865         0       2   \n",
       "\n",
       "                                                  Name     Sex   Age  SibSp  \\\n",
       "1    Cumings, Mrs. John Bradley (Florence Briggs Th...  female  38.0      1   \n",
       "41   Turpin, Mrs. William John Robert (Dorothy Ann ...  female  27.0      1   \n",
       "45                            Rogers, Mr. William John    male   NaN      0   \n",
       "98                Doling, Mrs. John T (Ada Julia Bone)  female  34.0      0   \n",
       "112                             Barton, Mr. David John    male  22.0      0   \n",
       "117                    Turpin, Mr. William John Robert    male  29.0      1   \n",
       "160                           Cribb, Mr. John Hatfield    male  44.0      0   \n",
       "162                         Bengtsson, Mr. John Viktor    male  26.0      0   \n",
       "165    Goldsmith, Master. Frank John William \"Frankie\"    male   9.0      0   \n",
       "168                                Baumann, Mr. John D    male   NaN      0   \n",
       "188                                   Bourke, Mr. John    male  40.0      1   \n",
       "212                             Perkin, Mr. John Henry    male  22.0      0   \n",
       "226                          Mellors, Mr. William John    male  19.0      0   \n",
       "227                    Lovell, Mr. John Hall (\"Henry\")    male  20.5      0   \n",
       "324                           Sage, Mr. George John Jr    male   NaN      8   \n",
       "328     Goldsmith, Mrs. Frank John (Emily Alice Brown)  female  31.0      1   \n",
       "401                                    Adams, Mr. John    male  26.0      0   \n",
       "418                         Matthews, Mr. William John    male  30.0      0   \n",
       "467                         Smart, Mr. John Montgomery    male  56.0      0   \n",
       "527                                 Farthing, Mr. John    male   NaN      0   \n",
       "548                          Goldsmith, Mr. Frank John    male  33.0      1   \n",
       "549                     Davies, Master. John Morgan Jr    male   8.0      1   \n",
       "550                        Thayer, Mr. John Borland Jr    male  17.0      0   \n",
       "563                                  Simmons, Mr. John    male   NaN      0   \n",
       "572                   Flynn, Mr. John Irwin (\"Irving\")    male  36.0      0   \n",
       "574                       Rush, Mr. Alfred George John    male  16.0      0   \n",
       "581  Thayer, Mrs. John Borland (Marian Longstreth M...  female  39.0      1   \n",
       "583                                Ross, Mr. John Hugo    male  36.0      0   \n",
       "586                            Jarvis, Mr. John Denzil    male  47.0      0   \n",
       "594                            Chapman, Mr. John Henry    male  37.0      1   \n",
       "613                                   Horgan, Mr. John    male   NaN      0   \n",
       "624                        Bowen, Mr. David John \"Dai\"    male  21.0      0   \n",
       "657                      Bourke, Mrs. John (Catherine)  female  32.0      1   \n",
       "694                                    Weir, Col. John    male  60.0      0   \n",
       "698                           Thayer, Mr. John Borland    male  49.0      1   \n",
       "700  Astor, Mrs. John Jacob (Madeleine Talmadge Force)  female  18.0      1   \n",
       "733                         Berriman, Mr. William John    male  23.0      0   \n",
       "760                                 Garfirth, Mr. John    male   NaN      0   \n",
       "765               Hogeboom, Mrs. John C (Anna Andrews)  female  51.0      1   \n",
       "818                   Holm, Mr. John Fredrik Alexander    male  43.0      0   \n",
       "822                    Reuchlin, Jonkheer. John George    male  38.0      0   \n",
       "825                                    Flynn, Mr. John    male   NaN      0   \n",
       "848                                  Harper, Rev. John    male  28.0      0   \n",
       "864                             Gill, Mr. John William    male  24.0      0   \n",
       "\n",
       "     Parch           Ticket      Fare    Cabin Embarked   lastname      title  \\\n",
       "1        0         PC 17599   71.2833      C85        C    Cumings       Mrs.   \n",
       "41       0            11668   21.0000      NaN        S     Turpin       Mrs.   \n",
       "45       0  S.C./A.4. 23567    8.0500      NaN        S     Rogers        Mr.   \n",
       "98       1           231919   23.0000      NaN        S     Doling       Mrs.   \n",
       "112      0           324669    8.0500      NaN        S     Barton        Mr.   \n",
       "117      0            11668   21.0000      NaN        S     Turpin        Mr.   \n",
       "160      1           371362   16.1000      NaN        S      Cribb        Mr.   \n",
       "162      0           347068    7.7750      NaN        S  Bengtsson        Mr.   \n",
       "165      2           363291   20.5250      NaN        S  Goldsmith    Master.   \n",
       "168      0         PC 17318   25.9250      NaN        S    Baumann        Mr.   \n",
       "188      1           364849   15.5000      NaN        Q     Bourke        Mr.   \n",
       "212      0        A/5 21174    7.2500      NaN        S     Perkin        Mr.   \n",
       "226      0        SW/PP 751   10.5000      NaN        S    Mellors        Mr.   \n",
       "227      0        A/5 21173    7.2500      NaN        S     Lovell        Mr.   \n",
       "324      2         CA. 2343   69.5500      NaN        S       Sage        Mr.   \n",
       "328      1           363291   20.5250      NaN        S  Goldsmith       Mrs.   \n",
       "401      0           341826    8.0500      NaN        S      Adams        Mr.   \n",
       "418      0            28228   13.0000      NaN        S   Matthews        Mr.   \n",
       "467      0           113792   26.5500      NaN        S      Smart        Mr.   \n",
       "527      0         PC 17483  221.7792      C95        S   Farthing        Mr.   \n",
       "548      1           363291   20.5250      NaN        S  Goldsmith        Mr.   \n",
       "549      1       C.A. 33112   36.7500      NaN        S     Davies    Master.   \n",
       "550      2            17421  110.8833      C70        C     Thayer        Mr.   \n",
       "563      0  SOTON/OQ 392082    8.0500      NaN        S    Simmons        Mr.   \n",
       "572      0         PC 17474   26.3875      E25        S      Flynn        Mr.   \n",
       "574      0       A/4. 20589    8.0500      NaN        S       Rush        Mr.   \n",
       "581      1            17421  110.8833      C68        C     Thayer       Mrs.   \n",
       "583      0            13049   40.1250      A10        C       Ross        Mr.   \n",
       "586      0           237565   15.0000      NaN        S     Jarvis        Mr.   \n",
       "594      0      SC/AH 29037   26.0000      NaN        S    Chapman        Mr.   \n",
       "613      0           370377    7.7500      NaN        Q     Horgan        Mr.   \n",
       "624      0            54636   16.1000      NaN        S      Bowen        Mr.   \n",
       "657      1           364849   15.5000      NaN        Q     Bourke       Mrs.   \n",
       "694      0           113800   26.5500      NaN        S       Weir       Col.   \n",
       "698      1            17421  110.8833      C68        C     Thayer        Mr.   \n",
       "700      0         PC 17757  227.5250  C62 C64        C      Astor       Mrs.   \n",
       "733      0            28425   13.0000      NaN        S   Berriman        Mr.   \n",
       "760      0           358585   14.5000      NaN        S   Garfirth        Mr.   \n",
       "765      0            13502   77.9583      D11        S   Hogeboom       Mrs.   \n",
       "818      0           C 7075    6.4500      NaN        S       Holm        Mr.   \n",
       "822      0            19972    0.0000      NaN        S   Reuchlin  Jonkheer.   \n",
       "825      0           368323    6.9500      NaN        Q      Flynn        Mr.   \n",
       "848      1           248727   33.0000      NaN        S     Harper       Rev.   \n",
       "864      0           233866   13.0000      NaN        S       Gill        Mr.   \n",
       "\n",
       "                                       firstname  \n",
       "1          John Bradley (Florence Briggs Thayer)  \n",
       "41   William John Robert (Dorothy Ann Wonnacott)  \n",
       "45                                  William John  \n",
       "98                       John T (Ada Julia Bone)  \n",
       "112                                   David John  \n",
       "117                          William John Robert  \n",
       "160                                John Hatfield  \n",
       "162                                  John Viktor  \n",
       "165                 Frank John William \"Frankie\"  \n",
       "168                                       John D  \n",
       "188                                         John  \n",
       "212                                   John Henry  \n",
       "226                                 William John  \n",
       "227                          John Hall (\"Henry\")  \n",
       "324                               George John Jr  \n",
       "328               Frank John (Emily Alice Brown)  \n",
       "401                                         John  \n",
       "418                                 William John  \n",
       "467                              John Montgomery  \n",
       "527                                         John  \n",
       "548                                   Frank John  \n",
       "549                               John Morgan Jr  \n",
       "550                              John Borland Jr  \n",
       "563                                         John  \n",
       "572                        John Irwin (\"Irving\")  \n",
       "574                           Alfred George John  \n",
       "581      John Borland (Marian Longstreth Morris)  \n",
       "583                                    John Hugo  \n",
       "586                                  John Denzil  \n",
       "594                                   John Henry  \n",
       "613                                         John  \n",
       "624                             David John \"Dai\"  \n",
       "657                             John (Catherine)  \n",
       "694                                         John  \n",
       "698                                 John Borland  \n",
       "700        John Jacob (Madeleine Talmadge Force)  \n",
       "733                                 William John  \n",
       "760                                         John  \n",
       "765                        John C (Anna Andrews)  \n",
       "818                       John Fredrik Alexander  \n",
       "822                                  John George  \n",
       "825                                         John  \n",
       "848                                         John  \n",
       "864                                 John William  "
      ]
     },
     "execution_count": 26,
     "metadata": {},
     "output_type": "execute_result"
    }
   ],
   "source": [
    "# applying regex\n",
    "# contains\n",
    "# search john -> both case\n",
    "df[df['firstname'].str.contains('john',case=False)]\n"
   ]
  },
  {
   "cell_type": "code",
   "execution_count": 27,
   "metadata": {},
   "outputs": [
    {
     "data": {
      "application/vnd.microsoft.datawrangler.viewer.v0+json": {
       "columns": [
        {
         "name": "index",
         "rawType": "int64",
         "type": "integer"
        },
        {
         "name": "Name",
         "rawType": "object",
         "type": "string"
        }
       ],
       "ref": "250d3351-c7e2-4825-a598-48b6544bb3c1",
       "rows": [
        [
         "0",
         "sirraH newO .rM ,dnuarB"
        ],
        [
         "1",
         ")reyahT sggirB ecnerolF( yeldarB nhoJ .srM ,sgnimuC"
        ],
        [
         "2",
         "aniaL .ssiM ,nenikkieH"
        ],
        [
         "3",
         ")leeP yaM yliL( htaeH seuqcaJ .srM ,ellertuF"
        ],
        [
         "4",
         "yrneH mailliW .rM ,nellA"
        ],
        [
         "5",
         "semaJ .rM ,naroM"
        ],
        [
         "6",
         "J yhtomiT .rM ,yhtraCcM"
        ],
        [
         "7",
         "dranoeL atsoG .retsaM ,nosslaP"
        ],
        [
         "8",
         ")greB animlehliV htebasilE( W racsO .srM ,nosnhoJ"
        ],
        [
         "9",
         ")mehcA eledA( salohciN .srM ,ressaN"
        ],
        [
         "10",
         "tuR etireugraM .ssiM ,mortsdnaS"
        ],
        [
         "11",
         "htebazilE .ssiM ,llennoB"
        ],
        [
         "12",
         "yrneH mailliW .rM ,kcocrednuaS"
        ],
        [
         "13",
         "nahoJ srednA .rM ,nossrednA"
        ],
        [
         "14",
         "aniflodA adnamA adluH .ssiM ,mortseV"
        ],
        [
         "15",
         " )emocgniK D yraM( .srM ,ttelweH"
        ],
        [
         "16",
         "eneguE .retsaM ,eciR"
        ],
        [
         "17",
         "eneguE selrahC .rM ,smailliW"
        ],
        [
         "18",
         ")eletroomednaV airaM ailemE( suiluJ .srM ,eknalP rednaV"
        ],
        [
         "19",
         "amitaF .srM ,inamlessaM"
        ],
        [
         "20",
         "J hpesoJ .rM ,yennyF"
        ],
        [
         "21",
         "ecnerwaL .rM ,yelseeB"
        ],
        [
         "22",
         "\"einnA\" annA .ssiM ,nawoGcM"
        ],
        [
         "23",
         "nospmohT mailliW .rM ,repolS"
        ],
        [
         "24",
         "arinaD grobroT .ssiM ,nosslaP"
        ],
        [
         "25",
         ")nossnahoJ ailimE atsuguA amleS( racsO lraC .srM ,dnulpsA"
        ],
        [
         "26",
         "bahehC derraF .rM ,rimE"
        ],
        [
         "27",
         "rednaxelA selrahC .rM ,enutroF"
        ],
        [
         "28",
         "\"eilleN\" nellE .ssiM ,reywD'O"
        ],
        [
         "29",
         "oilaL .rM ,fforodoT"
        ],
        [
         "30",
         "E leunaM .noD ,utruhcurU"
        ],
        [
         "31",
         ")eineguE eiraM( sutsuguA mailliW .srM ,recnepS"
        ],
        [
         "32",
         "ahtagA yraM .ssiM ,nnylG"
        ],
        [
         "33",
         "H drawdE .rM ,nodaehW"
        ],
        [
         "34",
         "hpesoJ ragdE .rM ,reyeM"
        ],
        [
         "35",
         "raksO rednaxelA .rM ,nosrevloH"
        ],
        [
         "36",
         "annaH .rM ,eemaM"
        ],
        [
         "37",
         "selrahC tsenrE .rM ,nnaC"
        ],
        [
         "38",
         "airaM atsuguA .ssiM ,eknalP rednaV"
        ],
        [
         "39",
         "alimaJ .ssiM ,derraY-alociN"
        ],
        [
         "40",
         ")nossraL rettodsreP annahoJ( nahoJ .srM ,nilhA"
        ],
        [
         "41",
         ")ttocannoW nnA yhtoroD( treboR nhoJ mailliW .srM ,nipruT"
        ],
        [
         "42",
         "rodoehT .rM ,ffearK"
        ],
        [
         "43",
         "eerdnA ennA eiraM ennomiS .ssiM ,ehcoraL"
        ],
        [
         "44",
         "aileD teragraM .ssiM ,yenaveD"
        ],
        [
         "45",
         "nhoJ mailliW .rM ,sregoR"
        ],
        [
         "46",
         "sineD .rM ,nonneL"
        ],
        [
         "47",
         "tegdirB .ssiM ,llocsirD'O"
        ],
        [
         "48",
         "fessuoY .rM ,naamaS"
        ],
        [
         "49",
         ")ihcnarF enifesoJ( fesoJ .srM ,ihcnarF-dlonrA"
        ]
       ],
       "shape": {
        "columns": 1,
        "rows": 891
       }
      },
      "text/plain": [
       "0                                sirraH newO .rM ,dnuarB\n",
       "1      )reyahT sggirB ecnerolF( yeldarB nhoJ .srM ,sg...\n",
       "2                                 aniaL .ssiM ,nenikkieH\n",
       "3           )leeP yaM yliL( htaeH seuqcaJ .srM ,ellertuF\n",
       "4                               yrneH mailliW .rM ,nellA\n",
       "                             ...                        \n",
       "886                                sazouJ .veR ,alivtnoM\n",
       "887                         htidE teragraM .ssiM ,maharG\n",
       "888             \"eirraC\" neleH enirehtaC .ssiM ,notsnhoJ\n",
       "889                                llewoH lraK .rM ,rheB\n",
       "890                                  kcirtaP .rM ,yelooD\n",
       "Name: Name, Length: 891, dtype: object"
      ]
     },
     "execution_count": 27,
     "metadata": {},
     "output_type": "execute_result"
    }
   ],
   "source": [
    "# slicing\n",
    "df['Name'].str[::-1]"
   ]
  }
 ],
 "metadata": {
  "kernelspec": {
   "display_name": ".venv",
   "language": "python",
   "name": "python3"
  },
  "language_info": {
   "codemirror_mode": {
    "name": "ipython",
    "version": 3
   },
   "file_extension": ".py",
   "mimetype": "text/x-python",
   "name": "python",
   "nbconvert_exporter": "python",
   "pygments_lexer": "ipython3",
   "version": "3.12.10"
  }
 },
 "nbformat": 4,
 "nbformat_minor": 2
}
