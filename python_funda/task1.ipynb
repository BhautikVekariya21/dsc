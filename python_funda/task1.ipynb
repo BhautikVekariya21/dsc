{
 "cells": [
  {
   "cell_type": "markdown",
   "metadata": {},
   "source": [
    "### Q1 :- Print the given strings as per stated format.\n",
    "\n",
    "**Given strings**:\n",
    "```\n",
    "\"Data\" \"Science\" \"Mentorship\" \"Program\"\n",
    "\"By\" \"CampusX\"\n",
    "```\n",
    "**Output**:\n",
    "```\n",
    "Data-Science-Mentorship-Program-started-By-CampusX\n",
    "```\n",
    "\n",
    "Concept- [Seperator and End]\n"
   ]
  },
  {
   "cell_type": "code",
   "execution_count": 3,
   "metadata": {},
   "outputs": [
    {
     "name": "stdout",
     "output_type": "stream",
     "text": [
      "Data-Science-Mentorship-Program-started-By-CampusX\n"
     ]
    }
   ],
   "source": [
    "print(\"Data\",\"Science\",\"Mentorship\",\"Program\",sep=\"-\",end=\"-started-\")\n",
    "print(\"By\",\"CampusX\",sep=\"-\")"
   ]
  },
  {
   "cell_type": "markdown",
   "metadata": {},
   "source": [
    "### Q2:- Write a program that will convert celsius value to fahrenheit."
   ]
  },
  {
   "cell_type": "code",
   "execution_count": 4,
   "metadata": {},
   "outputs": [
    {
     "name": "stdout",
     "output_type": "stream",
     "text": [
      "Temperature in fahrenheit is:  192.614\n"
     ]
    }
   ],
   "source": [
    "celcius = float(input(\"Enter temperature in celcius: \"))\n",
    "fahrenheit = (celcius * 9/5) + 32\n",
    "print(\"Temperature in fahrenheit is: \",fahrenheit)"
   ]
  },
  {
   "cell_type": "markdown",
   "metadata": {},
   "source": [
    "### Q3:- Take 2 numbers as input from the user.Write a program to swap the numbers without using any special python syntax."
   ]
  },
  {
   "cell_type": "code",
   "execution_count": 5,
   "metadata": {},
   "outputs": [
    {
     "name": "stdout",
     "output_type": "stream",
     "text": [
      "First number is:  89\n",
      "Second number is:  45\n"
     ]
    }
   ],
   "source": [
    "number_1 = int(input(\"Enter first number: \"))\n",
    "number_2 = int(input(\"Enter second number: \"))\n",
    "\n",
    "temp = number_1\n",
    "number_1 = number_2\n",
    "number_2 = temp\n",
    "\n",
    "print(\"First number is: \",number_1)\n",
    "print(\"Second number is: \",number_2)"
   ]
  },
  {
   "cell_type": "markdown",
   "metadata": {},
   "source": [
    "### Q4:- Write a program to find the euclidean distance between two coordinates.Take both the coordinates from the user as input.\n"
   ]
  },
  {
   "cell_type": "code",
   "execution_count": 6,
   "metadata": {},
   "outputs": [
    {
     "name": "stdout",
     "output_type": "stream",
     "text": [
      "Distance between two points is:  5.78013840664737\n"
     ]
    }
   ],
   "source": [
    "x1=float(input(\"Enter x1: \"))\n",
    "y1=float(input(\"Enter y1: \"))\n",
    "x2=float(input(\"Enter x2: \"))\n",
    "y2=float(input(\"Enter y2: \"))\n",
    "distance = ((x2-x1)**2 + (y2-y1)**2)**0.5\n",
    "print(\"Distance between two points is: \",distance)"
   ]
  },
  {
   "cell_type": "markdown",
   "metadata": {},
   "source": [
    "### Q5:- Write a program to find the simple interest when the value of principle,rate of interest and time period is provided by the user.\n"
   ]
  },
  {
   "cell_type": "code",
   "execution_count": 7,
   "metadata": {},
   "outputs": [
    {
     "name": "stdout",
     "output_type": "stream",
     "text": [
      "Simple interest is:  4560000.0\n"
     ]
    }
   ],
   "source": [
    "p = float(input(\"Enter principal amount: \"))\n",
    "r = float(input(\"Enter rate of interest: \"))\n",
    "t = float(input(\"Enter time: \"))\n",
    "\n",
    "i = p*r*t/100\n",
    "\n",
    "print(\"Simple interest is: \",i)"
   ]
  },
  {
   "cell_type": "markdown",
   "metadata": {},
   "source": [
    "### Q6:- Write a program that will tell the number of dogs and chicken are there when the user will provide the value of total heads and legs.\n",
    "\n",
    "For example:\n",
    "Input:\n",
    "heads -> 4\n",
    "legs -> 12\n",
    "<br>\n",
    "Output:\n",
    "dogs -> 2\n",
    "chicken -> 2\n",
    "\n",
    "\n",
    "\n"
   ]
  },
  {
   "cell_type": "code",
   "execution_count": 12,
   "metadata": {},
   "outputs": [
    {
     "name": "stdout",
     "output_type": "stream",
     "text": [
      "dogs -> 10 chicken -> 79\n"
     ]
    }
   ],
   "source": [
    "def count_animals(heads, legs):\n",
    "    # Check if solution is possible\n",
    "    if legs % 2 != 0 or heads * 2 > legs or heads * 4 < legs:\n",
    "        return \"No solution possible\"\n",
    "    \n",
    "    # Calculate number of dogs and chickens using system of equations:\n",
    "    # dogs + chickens = heads\n",
    "    # 4*dogs + 2*chickens = legs\n",
    "    dogs = (legs - 2*heads) // 2\n",
    "    chickens = heads - dogs\n",
    "    \n",
    "    return f\"dogs -> {dogs} chicken -> {chickens}\"\n",
    "\n",
    "# Get input from user\n",
    "total_heads = int(input(\"Enter total number of heads: \"))\n",
    "total_legs = int(input(\"Enter total number of legs: \"))\n",
    "\n",
    "# Print result\n",
    "print(count_animals(total_heads, total_legs))"
   ]
  },
  {
   "cell_type": "markdown",
   "metadata": {},
   "source": [
    "### Q7:- Write a program to find the sum of squares of first n natural numbers where n will be provided by the user."
   ]
  },
  {
   "cell_type": "code",
   "execution_count": 13,
   "metadata": {},
   "outputs": [
    {
     "name": "stdout",
     "output_type": "stream",
     "text": [
      "Sum of squares of first n natural numbers is:  204\n"
     ]
    }
   ],
   "source": [
    "n = int(input(\"Enter a number: \"))\n",
    "sum = 0\n",
    "for i in range(1,n+1):\n",
    "    sum += i**2\n",
    "print(\"Sum of squares of first n natural numbers is: \",sum)"
   ]
  },
  {
   "cell_type": "markdown",
   "metadata": {},
   "source": [
    "### Q8:- Given the first 2 terms of an Arithmetic Series.Find the Nth term of the series. Assume all inputs are provided by the user."
   ]
  },
  {
   "cell_type": "code",
   "execution_count": 14,
   "metadata": {},
   "outputs": [
    {
     "name": "stdout",
     "output_type": "stream",
     "text": [
      "The 8th term of the arithmetic series is: 22.0\n"
     ]
    }
   ],
   "source": [
    "# Get inputs from user\n",
    "a1 = float(input(\"Enter the first term (a1): \"))\n",
    "a2 = float(input(\"Enter the second term (a2): \"))\n",
    "n = int(input(\"Enter the term number (n): \"))\n",
    "\n",
    "# Calculate the common difference\n",
    "d = a2 - a1\n",
    "\n",
    "# Calculate the Nth term\n",
    "an = a1 + (n - 1) * d\n",
    "\n",
    "# Print the Nth term\n",
    "print(f\"The {n}th term of the arithmetic series is: {an}\")"
   ]
  },
  {
   "cell_type": "markdown",
   "metadata": {},
   "source": [
    "### Q9:- Given 2 fractions, find the sum of those 2 fractions.Take the numerator and denominator values of the fractions from the user."
   ]
  },
  {
   "cell_type": "code",
   "execution_count": 15,
   "metadata": {},
   "outputs": [
    {
     "name": "stdout",
     "output_type": "stream",
     "text": [
      "Addition: 133 / 98\n",
      "Subtraction: 7 / 98\n",
      "Multiplication: 45 / 98\n",
      "Division: 70 / 63\n"
     ]
    }
   ],
   "source": [
    "numerator1 = int(input(\"Enter numerator of first fraction: \"))\n",
    "denominator1 = int(input(\"Enter denominator of first fraction: \"))\n",
    "numerator2 = int(input(\"Enter numerator of second fraction: \"))\n",
    "denominator2 = int(input(\"Enter denominator of second fraction: \"))\n",
    "\n",
    "if denominator1 == 0 or denominator2 == 0:\n",
    "    print(\"Denominator cannot be zero.\")\n",
    "    \n",
    "else:\n",
    "    # Addition\n",
    "    result_numerator = (numerator1 * denominator2) + (numerator2 * denominator1)\n",
    "    result_denominator = denominator1 * denominator2\n",
    "    print(\"Addition:\", result_numerator, \"/\", result_denominator)\n",
    "\n",
    "    # Subtraction\n",
    "    result_numerator = (numerator1 * denominator2) - (numerator2 * denominator1)\n",
    "    print(\"Subtraction:\", result_numerator, \"/\", result_denominator)\n",
    "\n",
    "    # Multiplication\n",
    "    result_numerator = numerator1 * numerator2\n",
    "    print(\"Multiplication:\", result_numerator, \"/\", result_denominator)\n",
    "\n",
    "    # Division\n",
    "    result_numerator = numerator1 * denominator2\n",
    "    result_denominator = denominator1 * numerator2\n",
    "    print(\"Division:\", result_numerator, \"/\", result_denominator)\n"
   ]
  },
  {
   "cell_type": "markdown",
   "metadata": {},
   "source": [
    "### Q10:- Given the height, width and breadth of a milk tank, you have to find out how many glasses of milk can be obtained? Assume all the inputs are provided by the user.\n",
    "\n",
    "\n",
    "\n",
    "Input:<br>\n",
    "Dimensions of the milk tank<br>\n",
    "H = 20cm, L = 20cm, B = 20cm\n",
    "<br><br>\n",
    "Dimensions of the glass<br>\n",
    "h = 3cm, r = 1cm"
   ]
  },
  {
   "cell_type": "code",
   "execution_count": 17,
   "metadata": {},
   "outputs": [
    {
     "name": "stdout",
     "output_type": "stream",
     "text": [
      "Number of glasses of water that can be filled in the tank is:  1847635250.0954566\n"
     ]
    }
   ],
   "source": [
    "height = float(input(\"Enter height in cm: \"))\n",
    "weidth = float(input(\"Enter weidth in cm: \"))\n",
    "breadth = float(input(\"Enter breadth in cm: \"))\n",
    "h = float(input(\"Enter height of glass in cm: \"))\n",
    "r = float(input(\"Enter radius of glass in cm: \"))\n",
    "volume = height * weidth * breadth\n",
    "\n",
    "glass = volume/3.1428*r*r*h\n",
    "\n",
    "print(\"Number of glasses of water that can be filled in the tank is: \",glass)"
   ]
  }
 ],
 "metadata": {
  "kernelspec": {
   "display_name": "Python 3",
   "language": "python",
   "name": "python3"
  },
  "language_info": {
   "codemirror_mode": {
    "name": "ipython",
    "version": 3
   },
   "file_extension": ".py",
   "mimetype": "text/x-python",
   "name": "python",
   "nbconvert_exporter": "python",
   "pygments_lexer": "ipython3",
   "version": "3.13.2"
  }
 },
 "nbformat": 4,
 "nbformat_minor": 2
}
