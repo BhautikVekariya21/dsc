{
 "cells": [
  {
   "cell_type": "code",
   "execution_count": 4,
   "metadata": {},
   "outputs": [
    {
     "name": "stdout",
     "output_type": "stream",
     "text": [
      "[4, 7, -1, 6, -11, 14, 3, -1, -6]\n"
     ]
    }
   ],
   "source": [
    "#10. Maximum sum subarray\n",
    "L = [-2,4,7,-1,6,-11,14,3,-1,-6]\n",
    "d = {}\n",
    "for i in range(0,len(L)):\n",
    "    subarray = []\n",
    "    for j in range(i, len(L)):\n",
    "        subarray.append(L[j])\n",
    "        d[sum(subarray)] = subarray\n",
    "        \n",
    "max_val = max(d.keys())\n",
    "\n",
    "for i in d:\n",
    "    if i == max_val:\n",
    "        print(d[i])"
   ]
  },
  {
   "cell_type": "code",
   "execution_count": 5,
   "metadata": {},
   "outputs": [
    {
     "name": "stdout",
     "output_type": "stream",
     "text": [
      "[4, 7, -1, 6, -11, 14, 3, -1, -6]\n",
      "22\n"
     ]
    }
   ],
   "source": [
    "#cadals algorithm\n",
    "curr_sum = 0\n",
    "curr_seq = []\n",
    "best_sum = 0\n",
    "best_seq = []\n",
    "\n",
    "for i in L:\n",
    "    if i + curr_sum > i:\n",
    "        curr_sum = curr_sum + i\n",
    "        curr_seq.append(i)\n",
    "    else:\n",
    "        curr_sum = i\n",
    "        curr_seq.clear()\n",
    "        curr_seq.append(i)\n",
    "    if curr_sum > best_sum:\n",
    "        best_sum = curr_sum\n",
    "        best_seq = curr_seq\n",
    "        \n",
    "print(best_seq)\n",
    "print(best_sum)"
   ]
  },
  {
   "cell_type": "code",
   "execution_count": 8,
   "metadata": {},
   "outputs": [
    {
     "name": "stdout",
     "output_type": "stream",
     "text": [
      "6\n"
     ]
    }
   ],
   "source": [
    "# 9.Find element with left side smaller/right side grater in an array\n",
    "\n",
    "L = [5, 1, 4, 3, 6, 8, 10, 7, 9]\n",
    "\n",
    "for i in range(1,len(L)-1):\n",
    "    flag = True \n",
    "    for j in range(0,i):\n",
    "        if L[j] > L[i]:\n",
    "            flag = False\n",
    "    for k in range(i+1,len(L)):\n",
    "        if L[k] < L[i]:\n",
    "            flag = False\n",
    "    if flag:\n",
    "        print(L[i])\n",
    "    "
   ]
  },
  {
   "cell_type": "code",
   "execution_count": 13,
   "metadata": {},
   "outputs": [
    {
     "name": "stdout",
     "output_type": "stream",
     "text": [
      "6\n"
     ]
    }
   ],
   "source": [
    "L = [5, 1, 4, 3, 6, 8, 10, 7, 9]\n",
    "for i in range(1,len(L)-1):\n",
    "    if max(L[:i]) < L[i] < min(L[i+1:]):\n",
    "        print(L[i])"
   ]
  },
  {
   "cell_type": "code",
   "execution_count": 15,
   "metadata": {},
   "outputs": [
    {
     "name": "stdout",
     "output_type": "stream",
     "text": [
      "[7, 9]\n"
     ]
    }
   ],
   "source": [
    "#8. Find continous subarray with a given sum (given non -negative numbers)\n",
    "# return the starting and ending index of the subarray\n",
    "#return 1st subarray in case of multiple\n",
    "L = [1,22,13,7,9,11,10]\n",
    "S = 16\n",
    "for i in range(0,len(L)):\n",
    "    subarray = []   \n",
    "    for j in range(i,len(L)):\n",
    "        subarray.append(L[j])\n",
    "        if sum(subarray) == S:\n",
    "            print(subarray)\n",
    "            "
   ]
  },
  {
   "cell_type": "code",
   "execution_count": 17,
   "metadata": {},
   "outputs": [
    {
     "name": "stdout",
     "output_type": "stream",
     "text": [
      "2 3 4 5 6 7 8 9 10 "
     ]
    }
   ],
   "source": [
    "#7.Find intersaction of 2 sorted arrays\n",
    "a = [1,2,3,4,5,6,7,8,9,10]\n",
    "b = [2,3,4,5,6,7,8,9,10,11]\n",
    "for i in a:\n",
    "    if i in b:  \n",
    "        print(i,end=\" \")"
   ]
  },
  {
   "cell_type": "code",
   "execution_count": 18,
   "metadata": {},
   "outputs": [
    {
     "name": "stdout",
     "output_type": "stream",
     "text": [
      "3 4 5 6 9 "
     ]
    }
   ],
   "source": [
    "a = [1,2,3,4,5,6,7,8,9,10]\n",
    "b = [3,4,5,6,9,8,7,8,5,6,4]\n",
    "i=j=0\n",
    "while i < len(a) and j < len(b):\n",
    "    if a[i] == b[j]:\n",
    "        print(a[i],end=\" \")\n",
    "        i += 1\n",
    "        j += 1\n",
    "    elif a[i] < b[j]:\n",
    "        i += 1\n",
    "    else:\n",
    "        j += 1"
   ]
  },
  {
   "cell_type": "code",
   "execution_count": 19,
   "metadata": {},
   "outputs": [
    {
     "name": "stdout",
     "output_type": "stream",
     "text": [
      "[3, 4, 5, 6, 7, 8, 9, 1, 2]\n"
     ]
    }
   ],
   "source": [
    "#6. Rotate array to left d items\n",
    "\n",
    "L = [1,2,3,4,5,6,7,8,9]\n",
    "rotate = 2\n",
    "\n",
    "for i in range(rotate):\n",
    "    temp = L[0]\n",
    "    for j in range(len(L)-1):\n",
    "        L[j] = L[j+1]\n",
    "    L[len(L)-1] = temp\n",
    "print(L)"
   ]
  },
  {
   "cell_type": "code",
   "execution_count": 21,
   "metadata": {},
   "outputs": [
    {
     "name": "stdout",
     "output_type": "stream",
     "text": [
      "1 4 5 "
     ]
    }
   ],
   "source": [
    "#5. Find duplicates in an array\n",
    "L = [1,1,2,3,4,4,5,5,6]\n",
    "d = {}\n",
    "for i in L:\n",
    "    if i in d:\n",
    "        d[i] += 1\n",
    "    else:\n",
    "        d[i] = 1\n",
    "for i in d:\n",
    "    if d[i] > 1:\n",
    "        print(i,end=\" \")    "
   ]
  },
  {
   "cell_type": "code",
   "execution_count": 22,
   "metadata": {},
   "outputs": [
    {
     "name": "stdout",
     "output_type": "stream",
     "text": [
      "7\n"
     ]
    }
   ],
   "source": [
    "#4. Find the first element to ocuur k times in an array\n",
    "L = [1, 7, 4, 3, 4, 8, 7]\n",
    "k = 2\n",
    "d = {}\n",
    "for i in L:\n",
    "    if i in d:\n",
    "        d[i] += 1\n",
    "    else:\n",
    "        d[i] = 1\n",
    "for i in L:\n",
    "    if d[i] == k:\n",
    "        print(i)\n",
    "        break\n"
   ]
  },
  {
   "cell_type": "code",
   "execution_count": 23,
   "metadata": {},
   "outputs": [
    {
     "name": "stdout",
     "output_type": "stream",
     "text": [
      "200\n"
     ]
    }
   ],
   "source": [
    "#3. FInd min/max in a given array\n",
    "L = [10,200,32,70,50,60,70,80,90,100]\n",
    "max_val = L[0]\n",
    "\n",
    "for i in L:\n",
    "    if i > max_val:\n",
    "        max_val = i\n",
    "        \n",
    "print(max_val)"
   ]
  },
  {
   "cell_type": "code",
   "execution_count": 27,
   "metadata": {},
   "outputs": [
    {
     "name": "stdout",
     "output_type": "stream",
     "text": [
      "sorted\n"
     ]
    }
   ],
   "source": [
    "L = [1, 2, 3, 4, 5, 6, 7, 8, 9]\n",
    "flag = True\n",
    "\n",
    "for i in range(0, len(L) - 1):\n",
    "    if L[i] > L[i + 1]:  # If current element is greater than next, array is not sorted\n",
    "        flag = False\n",
    "        break  # No need to continue checking once we find it's not sorted\n",
    "\n",
    "if flag:\n",
    "    print(\"sorted\")\n",
    "else:\n",
    "    print(\"not sorted\")\n"
   ]
  },
  {
   "cell_type": "code",
   "execution_count": 28,
   "metadata": {},
   "outputs": [
    {
     "name": "stdout",
     "output_type": "stream",
     "text": [
      "54\n"
     ]
    }
   ],
   "source": [
    "#1. Find the kth largest/smallest item from a list\n",
    "L = [12,47,41,12,23,42,10,54,78,98,13]\n",
    "k = 3\n",
    "L.sort(reverse=True)\n",
    "print(L[k-1])"
   ]
  }
 ],
 "metadata": {
  "kernelspec": {
   "display_name": "Python 3",
   "language": "python",
   "name": "python3"
  },
  "language_info": {
   "codemirror_mode": {
    "name": "ipython",
    "version": 3
   },
   "file_extension": ".py",
   "mimetype": "text/x-python",
   "name": "python",
   "nbconvert_exporter": "python",
   "pygments_lexer": "ipython3",
   "version": "3.13.2"
  }
 },
 "nbformat": 4,
 "nbformat_minor": 2
}
