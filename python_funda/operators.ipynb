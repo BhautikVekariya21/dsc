{
 "cells": [
  {
   "cell_type": "markdown",
   "metadata": {},
   "source": [
    "operators in python"
   ]
  },
  {
   "cell_type": "code",
   "execution_count": 1,
   "metadata": {},
   "outputs": [
    {
     "name": "stdout",
     "output_type": "stream",
     "text": [
      "23\n",
      "-1\n",
      "132\n",
      "0.9166666666666666\n",
      "0\n",
      "11\n",
      "3138428376721\n"
     ]
    }
   ],
   "source": [
    "print(11+12)\n",
    "print(11-12)\n",
    "print(11*12)\n",
    "print(11/12)\n",
    "print(11//12)\n",
    "print(11%12)\n",
    "print(11**12)"
   ]
  },
  {
   "cell_type": "code",
   "execution_count": 2,
   "metadata": {},
   "outputs": [
    {
     "name": "stdout",
     "output_type": "stream",
     "text": [
      "False\n",
      "True\n",
      "False\n",
      "True\n",
      "False\n",
      "True\n"
     ]
    }
   ],
   "source": [
    "print(11>12)\n",
    "print(11<12)\n",
    "print(11==12)\n",
    "print(11!=12)\n",
    "print(11>=12)\n",
    "print(11<=12)\n"
   ]
  },
  {
   "cell_type": "code",
   "execution_count": 3,
   "metadata": {},
   "outputs": [
    {
     "name": "stdout",
     "output_type": "stream",
     "text": [
      "12\n",
      "11\n",
      "False\n",
      "0\n",
      "11\n",
      "0\n",
      "11\n"
     ]
    }
   ],
   "source": [
    "print(11 and 12)\n",
    "print(11 or 12)\n",
    "print(not 11)\n",
    "print(11 and 0)\n",
    "print(0 or 11)\n",
    "print(0 and 11)\n",
    "print(11 or 0)"
   ]
  },
  {
   "cell_type": "code",
   "execution_count": 4,
   "metadata": {},
   "outputs": [
    {
     "name": "stdout",
     "output_type": "stream",
     "text": [
      "8\n",
      "15\n",
      "-12\n",
      "7\n",
      "22\n",
      "5\n"
     ]
    }
   ],
   "source": [
    "print(11 & 12)\n",
    "print(11 | 12)\n",
    "print(~11)\n",
    "print(11 ^ 12)\n",
    "print(11 << 1)\n",
    "print(11 >> 1)\n"
   ]
  },
  {
   "cell_type": "code",
   "execution_count": 5,
   "metadata": {},
   "outputs": [
    {
     "name": "stdout",
     "output_type": "stream",
     "text": [
      "23\n"
     ]
    }
   ],
   "source": [
    "a=11\n",
    "b=12\n",
    "a+=b\n",
    "print(a)\n"
   ]
  },
  {
   "cell_type": "code",
   "execution_count": 6,
   "metadata": {},
   "outputs": [
    {
     "name": "stdout",
     "output_type": "stream",
     "text": [
      "True\n",
      "False\n"
     ]
    }
   ],
   "source": [
    "print(11 in [11,12,13])\n",
    "print(11 not in [11,12,13])"
   ]
  },
  {
   "cell_type": "code",
   "execution_count": 7,
   "metadata": {},
   "outputs": [
    {
     "name": "stdout",
     "output_type": "stream",
     "text": [
      "22\n"
     ]
    }
   ],
   "source": [
    "# Program - Find the sum of a 3 digit number entered by the user\n",
    "\n",
    "num = int(input(\"enter a 3 digit number:\"))\n",
    "sum = 0\n",
    "while num>0:\n",
    "    rem = num%10\n",
    "    sum = sum + rem\n",
    "    num = num//10\n",
    "print(sum)"
   ]
  },
  {
   "cell_type": "markdown",
   "metadata": {},
   "source": [
    "if-else in python"
   ]
  },
  {
   "cell_type": "code",
   "execution_count": null,
   "metadata": {},
   "outputs": [
    {
     "name": "stdout",
     "output_type": "stream",
     "text": [
      "You are an adult but cannot drink alcohol in the US\n",
      "You get a B grade\n"
     ]
    }
   ],
   "source": [
    "\n",
    "# Example of if-else statement checking age eligibility\n",
    "age = 18\n",
    "\n",
    "if age >= 21:\n",
    "    print(\"You are eligible to drink alcohol in the US\")\n",
    "elif age >= 18:\n",
    "    print(\"You are an adult but cannot drink alcohol in the US\") \n",
    "elif age >= 16:\n",
    "    print(\"You can drive but are not yet an adult\")\n",
    "else:\n",
    "    print(\"You are under 16\")\n",
    "\n",
    "# Example with multiple conditions\n",
    "score = 85\n",
    "attendance = 90\n",
    "\n",
    "if score >= 90 and attendance >= 80:\n",
    "    print(\"You get an A grade\")\n",
    "elif score >= 80 and attendance >= 70:\n",
    "    print(\"You get a B grade\")\n",
    "elif score >= 70 and attendance >= 60:\n",
    "    print(\"You get a C grade\")\n",
    "else:\n",
    "    print(\"You need to improve your score and attendance\")"
   ]
  },
  {
   "cell_type": "code",
   "execution_count": 9,
   "metadata": {},
   "outputs": [
    {
     "name": "stdout",
     "output_type": "stream",
     "text": [
      "8\n"
     ]
    }
   ],
   "source": [
    "# min of 3 numbers\n",
    "a=int(input(\"enter first number\"))\n",
    "b=int(input(\"enter second number\"))\n",
    "c=int(input(\"enter third number\"))\n",
    "\n",
    "if a<b and a<c:\n",
    "    print(a)\n",
    "elif b<c:\n",
    "    print(b)\n",
    "else:\n",
    "    print(c)"
   ]
  }
 ],
 "metadata": {
  "kernelspec": {
   "display_name": "Python 3",
   "language": "python",
   "name": "python3"
  },
  "language_info": {
   "codemirror_mode": {
    "name": "ipython",
    "version": 3
   },
   "file_extension": ".py",
   "mimetype": "text/x-python",
   "name": "python",
   "nbconvert_exporter": "python",
   "pygments_lexer": "ipython3",
   "version": "3.13.1"
  }
 },
 "nbformat": 4,
 "nbformat_minor": 2
}
