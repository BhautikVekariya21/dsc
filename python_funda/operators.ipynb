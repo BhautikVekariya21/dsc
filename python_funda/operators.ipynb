{
 "cells": [
  {
   "cell_type": "markdown",
   "metadata": {},
   "source": [
    "operators in python"
   ]
  },
  {
   "cell_type": "code",
   "execution_count": 1,
   "metadata": {},
   "outputs": [
    {
     "name": "stdout",
     "output_type": "stream",
     "text": [
      "23\n",
      "-1\n",
      "132\n",
      "0.9166666666666666\n",
      "0\n",
      "11\n",
      "3138428376721\n"
     ]
    }
   ],
   "source": [
    "print(11+12)\n",
    "print(11-12)\n",
    "print(11*12)\n",
    "print(11/12)\n",
    "print(11//12)\n",
    "print(11%12)\n",
    "print(11**12)"
   ]
  },
  {
   "cell_type": "code",
   "execution_count": 2,
   "metadata": {},
   "outputs": [
    {
     "name": "stdout",
     "output_type": "stream",
     "text": [
      "False\n",
      "True\n",
      "False\n",
      "True\n",
      "False\n",
      "True\n"
     ]
    }
   ],
   "source": [
    "print(11>12)\n",
    "print(11<12)\n",
    "print(11==12)\n",
    "print(11!=12)\n",
    "print(11>=12)\n",
    "print(11<=12)\n"
   ]
  },
  {
   "cell_type": "code",
   "execution_count": 3,
   "metadata": {},
   "outputs": [
    {
     "name": "stdout",
     "output_type": "stream",
     "text": [
      "12\n",
      "11\n",
      "False\n",
      "0\n",
      "11\n",
      "0\n",
      "11\n"
     ]
    }
   ],
   "source": [
    "print(11 and 12)\n",
    "print(11 or 12)\n",
    "print(not 11)\n",
    "print(11 and 0)\n",
    "print(0 or 11)\n",
    "print(0 and 11)\n",
    "print(11 or 0)"
   ]
  },
  {
   "cell_type": "code",
   "execution_count": 4,
   "metadata": {},
   "outputs": [
    {
     "name": "stdout",
     "output_type": "stream",
     "text": [
      "8\n",
      "15\n",
      "-12\n",
      "7\n",
      "22\n",
      "5\n"
     ]
    }
   ],
   "source": [
    "print(11 & 12)\n",
    "print(11 | 12)\n",
    "print(~11)\n",
    "print(11 ^ 12)\n",
    "print(11 << 1)\n",
    "print(11 >> 1)\n"
   ]
  },
  {
   "cell_type": "code",
   "execution_count": 5,
   "metadata": {},
   "outputs": [
    {
     "name": "stdout",
     "output_type": "stream",
     "text": [
      "23\n"
     ]
    }
   ],
   "source": [
    "a=11\n",
    "b=12\n",
    "a+=b\n",
    "print(a)\n"
   ]
  },
  {
   "cell_type": "code",
   "execution_count": 6,
   "metadata": {},
   "outputs": [
    {
     "name": "stdout",
     "output_type": "stream",
     "text": [
      "True\n",
      "False\n"
     ]
    }
   ],
   "source": [
    "print(11 in [11,12,13])\n",
    "print(11 not in [11,12,13])"
   ]
  },
  {
   "cell_type": "code",
   "execution_count": 7,
   "metadata": {},
   "outputs": [
    {
     "name": "stdout",
     "output_type": "stream",
     "text": [
      "22\n"
     ]
    }
   ],
   "source": [
    "# Program - Find the sum of a 3 digit number entered by the user\n",
    "\n",
    "num = int(input(\"enter a 3 digit number:\"))\n",
    "sum = 0\n",
    "while num>0:\n",
    "    rem = num%10\n",
    "    sum = sum + rem\n",
    "    num = num//10\n",
    "print(sum)"
   ]
  },
  {
   "cell_type": "markdown",
   "metadata": {},
   "source": [
    "if-else in python"
   ]
  },
  {
   "cell_type": "code",
   "execution_count": null,
   "metadata": {},
   "outputs": [
    {
     "name": "stdout",
     "output_type": "stream",
     "text": [
      "You are an adult but cannot drink alcohol in the US\n",
      "You get a B grade\n"
     ]
    }
   ],
   "source": [
    "\n",
    "# Example of if-else statement checking age eligibility\n",
    "age = 18\n",
    "\n",
    "if age >= 21:\n",
    "    print(\"You are eligible to drink alcohol in the US\")\n",
    "elif age >= 18:\n",
    "    print(\"You are an adult but cannot drink alcohol in the US\") \n",
    "elif age >= 16:\n",
    "    print(\"You can drive but are not yet an adult\")\n",
    "else:\n",
    "    print(\"You are under 16\")\n",
    "\n",
    "# Example with multiple conditions\n",
    "score = 85\n",
    "attendance = 90\n",
    "\n",
    "if score >= 90 and attendance >= 80:\n",
    "    print(\"You get an A grade\")\n",
    "elif score >= 80 and attendance >= 70:\n",
    "    print(\"You get a B grade\")\n",
    "elif score >= 70 and attendance >= 60:\n",
    "    print(\"You get a C grade\")\n",
    "else:\n",
    "    print(\"You need to improve your score and attendance\")"
   ]
  },
  {
   "cell_type": "code",
   "execution_count": 9,
   "metadata": {},
   "outputs": [
    {
     "name": "stdout",
     "output_type": "stream",
     "text": [
      "8\n"
     ]
    }
   ],
   "source": [
    "# min of 3 numbers\n",
    "a=int(input(\"enter first number\"))\n",
    "b=int(input(\"enter second number\"))\n",
    "c=int(input(\"enter third number\"))\n",
    "\n",
    "if a<b and a<c:\n",
    "    print(a)\n",
    "elif b<c:\n",
    "    print(b)\n",
    "else:\n",
    "    print(c)"
   ]
  },
  {
   "cell_type": "markdown",
   "metadata": {},
   "source": [
    "modules"
   ]
  },
  {
   "cell_type": "code",
   "execution_count": 1,
   "metadata": {},
   "outputs": [
    {
     "data": {
      "text/plain": [
       "14.966629547095765"
      ]
     },
     "execution_count": 1,
     "metadata": {},
     "output_type": "execute_result"
    }
   ],
   "source": [
    "import math\n",
    "math.sqrt(224)"
   ]
  },
  {
   "cell_type": "code",
   "execution_count": 2,
   "metadata": {},
   "outputs": [
    {
     "name": "stdout",
     "output_type": "stream",
     "text": [
      "['False', 'None', 'True', 'and', 'as', 'assert', 'async', 'await', 'break', 'class', 'continue', 'def', 'del', 'elif', 'else', 'except', 'finally', 'for', 'from', 'global', 'if', 'import', 'in', 'is', 'lambda', 'nonlocal', 'not', 'or', 'pass', 'raise', 'return', 'try', 'while', 'with', 'yield']\n"
     ]
    }
   ],
   "source": [
    "import keyword\n",
    "print(keyword.kwlist)"
   ]
  },
  {
   "cell_type": "code",
   "execution_count": 13,
   "metadata": {},
   "outputs": [
    {
     "name": "stdout",
     "output_type": "stream",
     "text": [
      "29\n"
     ]
    }
   ],
   "source": [
    "import random\n",
    "print(random.randint(1,100))"
   ]
  },
  {
   "cell_type": "code",
   "execution_count": 14,
   "metadata": {},
   "outputs": [
    {
     "name": "stdout",
     "output_type": "stream",
     "text": [
      "2025-02-10 09:33:35.386719\n"
     ]
    }
   ],
   "source": [
    "import datetime\n",
    "print(datetime.datetime.now())"
   ]
  },
  {
   "cell_type": "code",
   "execution_count": 15,
   "metadata": {},
   "outputs": [
    {
     "name": "stdout",
     "output_type": "stream",
     "text": [
      "\n",
      "Please wait a moment while I gather a list of all available modules...\n",
      "\n",
      "test_sqlite3: testing with SQLite version 3.45.3\n",
      "IPython             _win32verstamp_pywin32ctypes lzma                tabnanny\n",
      "__future__          _winapi             mailbox             tarfile\n",
      "__hello__           _winxptheme         marshal             tempfile\n",
      "__phello__          _wmi                math                test\n",
      "_abc                _zoneinfo           matplotlib_inline   textwrap\n",
      "_aix_support        abc                 mimetypes           this\n",
      "_android_support    adodbapi            mmap                threading\n",
      "_ast                afxres              mmapfile            time\n",
      "_asyncio            antigravity         mmsystem            timeit\n",
      "_bisect             argparse            modulefinder        timer\n",
      "_blake2             array               msvcrt              tkinter\n",
      "_bz2                ast                 multiprocessing     token\n",
      "_codecs             asttokens           nest_asyncio        tokenize\n",
      "_codecs_cn          asyncio             netbios             tomllib\n",
      "_codecs_hk          atexit              netrc               tornado\n",
      "_codecs_iso2022     base64              nt                  trace\n",
      "_codecs_jp          bdb                 ntpath              traceback\n",
      "_codecs_kr          binascii            ntsecuritycon       tracemalloc\n",
      "_codecs_tw          bisect              nturl2path          traitlets\n",
      "_collections        builtins            numbers             tty\n",
      "_collections_abc    bz2                 odbc                turtle\n",
      "_colorize           cProfile            opcode              turtledemo\n",
      "_compat_pickle      calendar            operator            types\n",
      "_compression        cmath               optparse            typing\n",
      "_contextvars        cmd                 os                  unicodedata\n",
      "_csv                code                packaging           unittest\n",
      "_ctypes             codecs              parso               urllib\n",
      "_ctypes_test        codeop              pathlib             uuid\n",
      "_datetime           collections         pdb                 uv\n",
      "_decimal            colorama            perfmon             venv\n",
      "_elementtree        colorsys            pickle              warnings\n",
      "_functools          comm                pickletools         wave\n",
      "_hashlib            commctrl            pip                 wcwidth\n",
      "_heapq              compileall          pkgutil             weakref\n",
      "_imp                concurrent          platform            webbrowser\n",
      "_interpchannels     configparser        platformdirs        win2kras\n",
      "_interpqueues       contextlib          plistlib            win32api\n",
      "_interpreters       contextvars         poplib              win32clipboard\n",
      "_io                 copy                posixpath           win32com\n",
      "_ios_support        copyreg             pprint              win32con\n",
      "_json               csv                 profile             win32console\n",
      "_locale             ctypes              prompt_toolkit      win32cred\n",
      "_lsprof             curses              pstats              win32crypt\n",
      "_lzma               dataclasses         psutil              win32cryptcon\n",
      "_markupbase         datetime            pty                 win32event\n",
      "_md5                dateutil            pure_eval           win32evtlog\n",
      "_multibytecodec     dbm                 py_compile          win32evtlogutil\n",
      "_multiprocessing    dde                 pyclbr              win32file\n",
      "_opcode             debugpy             pydoc               win32gui\n",
      "_opcode_metadata    decimal             pydoc_data          win32gui_struct\n",
      "_operator           decorator           pyexpat             win32help\n",
      "_osx_support        difflib             pygments            win32inet\n",
      "_overlapped         dis                 pythoncom           win32inetcon\n",
      "_pickle             doctest             pywin               win32job\n",
      "_py_abc             email               pywin32_bootstrap   win32lz\n",
      "_pydatetime         encodings           pywin32_testutil    win32net\n",
      "_pydecimal          ensurepip           pywintypes          win32netcon\n",
      "_pyio               enum                queue               win32pdh\n",
      "_pylong             errno               quopri              win32pdhquery\n",
      "_pyrepl             executing           random              win32pdhutil\n",
      "_queue              faulthandler        rasutil             win32pipe\n",
      "_random             filecmp             re                  win32print\n",
      "_sha1               fileinput           regcheck            win32process\n",
      "_sha2               fnmatch             regutil             win32profile\n",
      "_sha3               fractions           reprlib             win32ras\n",
      "_signal             ftplib              rlcompleter         win32rcparser\n",
      "_sitebuiltins       functools           runpy               win32security\n",
      "_socket             gc                  sched               win32service\n",
      "_sqlite3            genericpath         secrets             win32serviceutil\n",
      "_sre                getopt              select              win32timezone\n",
      "_ssl                getpass             selectors           win32trace\n",
      "_stat               gettext             servicemanager      win32traceutil\n",
      "_statistics         glob                shelve              win32transaction\n",
      "_string             graphlib            shlex               win32ts\n",
      "_strptime           gzip                shutil              win32ui\n",
      "_struct             hashlib             signal              win32uiole\n",
      "_symtable           heapq               site                win32verstamp\n",
      "_sysconfig          hmac                six                 win32wnet\n",
      "_testbuffer         html                smtplib             winerror\n",
      "_testcapi           http                socket              winioctlcon\n",
      "_testclinic         idlelib             socketserver        winnt\n",
      "_testclinic_limited imaplib             sqlite3             winperf\n",
      "_testconsole        importlib           sre_compile         winreg\n",
      "_testimportmultiple inspect             sre_constants       winsound\n",
      "_testinternalcapi   io                  sre_parse           winxpgui\n",
      "_testlimitedcapi    ipaddress           ssl                 winxptheme\n",
      "_testmultiphase     ipykernel           sspi                wsgiref\n",
      "_testsinglephase    ipykernel_launcher  sspicon             xml\n",
      "_thread             isapi               stack_data          xmlrpc\n",
      "_threading_local    itertools           start_pythonwin     xxsubtype\n",
      "_tkinter            jedi                stat                zipapp\n",
      "_tokenize           json                statistics          zipfile\n",
      "_tracemalloc        jupyter             string              zipimport\n",
      "_typing             jupyter_client      stringprep          zlib\n",
      "_uuid               jupyter_core        struct              zmq\n",
      "_warnings           keyword             subprocess          zoneinfo\n",
      "_weakref            linecache           symtable            \n",
      "_weakrefset         locale              sys                 \n",
      "_win32sysloader     logging             sysconfig           \n",
      "\n",
      "Enter any module name to get more help.  Or, type \"modules spam\" to search\n",
      "for modules whose name or summary contain the string \"spam\".\n",
      "\n"
     ]
    }
   ],
   "source": [
    "help(\"modules\")"
   ]
  },
  {
   "cell_type": "markdown",
   "metadata": {},
   "source": [
    "loops in python\n"
   ]
  },
  {
   "cell_type": "code",
   "execution_count": 16,
   "metadata": {},
   "outputs": [
    {
     "name": "stdout",
     "output_type": "stream",
     "text": [
      "17 x 1 = 17\n",
      "17 x 2 = 34\n",
      "17 x 3 = 51\n",
      "17 x 4 = 68\n",
      "17 x 5 = 85\n",
      "17 x 6 = 102\n",
      "17 x 7 = 119\n",
      "17 x 8 = 136\n",
      "17 x 9 = 153\n",
      "17 x 10 = 170\n"
     ]
    }
   ],
   "source": [
    "number = int(input(\"Enter a number:\"))\n",
    "i=1\n",
    "while i<=10:\n",
    "    print(f\"{number} x {i} = {number*i}\")\n",
    "    i+=1"
   ]
  },
  {
   "cell_type": "code",
   "execution_count": 18,
   "metadata": {},
   "outputs": [
    {
     "name": "stdout",
     "output_type": "stream",
     "text": [
      "1\n",
      "2\n",
      "3\n",
      "4\n",
      "5\n",
      "6\n",
      "loop completed\n"
     ]
    }
   ],
   "source": [
    "\n",
    "i=1\n",
    "while i<7:\n",
    "    print(i)\n",
    "    i+=1\n",
    "    \n",
    "else:\n",
    "    print(\"loop completed\")"
   ]
  },
  {
   "cell_type": "code",
   "execution_count": 20,
   "metadata": {},
   "outputs": [
    {
     "name": "stdout",
     "output_type": "stream",
     "text": [
      "too low\n",
      "too low\n",
      "too high\n",
      "too high\n",
      "too low\n",
      "too low\n",
      "too low\n",
      "too high\n",
      "too high\n",
      "too high\n",
      "too high\n",
      "too high\n",
      "too high\n",
      "too high\n",
      "too high\n"
     ]
    },
    {
     "ename": "KeyboardInterrupt",
     "evalue": "Interrupted by user",
     "output_type": "error",
     "traceback": [
      "\u001b[1;31m---------------------------------------------------------------------------\u001b[0m",
      "\u001b[1;31mKeyboardInterrupt\u001b[0m                         Traceback (most recent call last)",
      "Cell \u001b[1;32mIn[20], line 11\u001b[0m\n\u001b[0;32m      9\u001b[0m     \u001b[38;5;28;01melse\u001b[39;00m:\n\u001b[0;32m     10\u001b[0m             \u001b[38;5;28mprint\u001b[39m(\u001b[38;5;124m\"\u001b[39m\u001b[38;5;124mtoo high\u001b[39m\u001b[38;5;124m\"\u001b[39m)\n\u001b[1;32m---> 11\u001b[0m     guess\u001b[38;5;241m=\u001b[39m\u001b[38;5;28mint\u001b[39m(\u001b[38;5;28;43minput\u001b[39;49m\u001b[43m(\u001b[49m\u001b[38;5;124;43m\"\u001b[39;49m\u001b[38;5;124;43mEnter a number between 1 and 100:\u001b[39;49m\u001b[38;5;124;43m\"\u001b[39;49m\u001b[43m)\u001b[49m)\n\u001b[0;32m     12\u001b[0m     counter\u001b[38;5;241m+\u001b[39m\u001b[38;5;241m=\u001b[39m\u001b[38;5;241m1\u001b[39m\n\u001b[0;32m     13\u001b[0m \u001b[38;5;28mprint\u001b[39m(\u001b[38;5;124mf\u001b[39m\u001b[38;5;124m\"\u001b[39m\u001b[38;5;124myou guessed the number in \u001b[39m\u001b[38;5;132;01m{\u001b[39;00mcounter\u001b[38;5;132;01m}\u001b[39;00m\u001b[38;5;124m attempts and correct number is \u001b[39m\u001b[38;5;132;01m{\u001b[39;00mtruenumber\u001b[38;5;132;01m}\u001b[39;00m\u001b[38;5;124m\"\u001b[39m)\n",
      "File \u001b[1;32m~\\AppData\\Roaming\\Python\\Python313\\site-packages\\ipykernel\\kernelbase.py:1282\u001b[0m, in \u001b[0;36mKernel.raw_input\u001b[1;34m(self, prompt)\u001b[0m\n\u001b[0;32m   1280\u001b[0m     msg \u001b[38;5;241m=\u001b[39m \u001b[38;5;124m\"\u001b[39m\u001b[38;5;124mraw_input was called, but this frontend does not support input requests.\u001b[39m\u001b[38;5;124m\"\u001b[39m\n\u001b[0;32m   1281\u001b[0m     \u001b[38;5;28;01mraise\u001b[39;00m StdinNotImplementedError(msg)\n\u001b[1;32m-> 1282\u001b[0m \u001b[38;5;28;01mreturn\u001b[39;00m \u001b[38;5;28;43mself\u001b[39;49m\u001b[38;5;241;43m.\u001b[39;49m\u001b[43m_input_request\u001b[49m\u001b[43m(\u001b[49m\n\u001b[0;32m   1283\u001b[0m \u001b[43m    \u001b[49m\u001b[38;5;28;43mstr\u001b[39;49m\u001b[43m(\u001b[49m\u001b[43mprompt\u001b[49m\u001b[43m)\u001b[49m\u001b[43m,\u001b[49m\n\u001b[0;32m   1284\u001b[0m \u001b[43m    \u001b[49m\u001b[38;5;28;43mself\u001b[39;49m\u001b[38;5;241;43m.\u001b[39;49m\u001b[43m_parent_ident\u001b[49m\u001b[43m[\u001b[49m\u001b[38;5;124;43m\"\u001b[39;49m\u001b[38;5;124;43mshell\u001b[39;49m\u001b[38;5;124;43m\"\u001b[39;49m\u001b[43m]\u001b[49m\u001b[43m,\u001b[49m\n\u001b[0;32m   1285\u001b[0m \u001b[43m    \u001b[49m\u001b[38;5;28;43mself\u001b[39;49m\u001b[38;5;241;43m.\u001b[39;49m\u001b[43mget_parent\u001b[49m\u001b[43m(\u001b[49m\u001b[38;5;124;43m\"\u001b[39;49m\u001b[38;5;124;43mshell\u001b[39;49m\u001b[38;5;124;43m\"\u001b[39;49m\u001b[43m)\u001b[49m\u001b[43m,\u001b[49m\n\u001b[0;32m   1286\u001b[0m \u001b[43m    \u001b[49m\u001b[43mpassword\u001b[49m\u001b[38;5;241;43m=\u001b[39;49m\u001b[38;5;28;43;01mFalse\u001b[39;49;00m\u001b[43m,\u001b[49m\n\u001b[0;32m   1287\u001b[0m \u001b[43m\u001b[49m\u001b[43m)\u001b[49m\n",
      "File \u001b[1;32m~\\AppData\\Roaming\\Python\\Python313\\site-packages\\ipykernel\\kernelbase.py:1325\u001b[0m, in \u001b[0;36mKernel._input_request\u001b[1;34m(self, prompt, ident, parent, password)\u001b[0m\n\u001b[0;32m   1322\u001b[0m \u001b[38;5;28;01mexcept\u001b[39;00m \u001b[38;5;167;01mKeyboardInterrupt\u001b[39;00m:\n\u001b[0;32m   1323\u001b[0m     \u001b[38;5;66;03m# re-raise KeyboardInterrupt, to truncate traceback\u001b[39;00m\n\u001b[0;32m   1324\u001b[0m     msg \u001b[38;5;241m=\u001b[39m \u001b[38;5;124m\"\u001b[39m\u001b[38;5;124mInterrupted by user\u001b[39m\u001b[38;5;124m\"\u001b[39m\n\u001b[1;32m-> 1325\u001b[0m     \u001b[38;5;28;01mraise\u001b[39;00m \u001b[38;5;167;01mKeyboardInterrupt\u001b[39;00m(msg) \u001b[38;5;28;01mfrom\u001b[39;00m\u001b[38;5;250m \u001b[39m\u001b[38;5;28;01mNone\u001b[39;00m\n\u001b[0;32m   1326\u001b[0m \u001b[38;5;28;01mexcept\u001b[39;00m \u001b[38;5;167;01mException\u001b[39;00m:\n\u001b[0;32m   1327\u001b[0m     \u001b[38;5;28mself\u001b[39m\u001b[38;5;241m.\u001b[39mlog\u001b[38;5;241m.\u001b[39mwarning(\u001b[38;5;124m\"\u001b[39m\u001b[38;5;124mInvalid Message:\u001b[39m\u001b[38;5;124m\"\u001b[39m, exc_info\u001b[38;5;241m=\u001b[39m\u001b[38;5;28;01mTrue\u001b[39;00m)\n",
      "\u001b[1;31mKeyboardInterrupt\u001b[0m: Interrupted by user"
     ]
    }
   ],
   "source": [
    "import random \n",
    "truenumber = random.randint(1,100)\n",
    "guess=int(input(\"Enter a number between 1 and 100:\"))\n",
    "counter=1\n",
    "while guess!=truenumber:\n",
    "    if guess<truenumber:\n",
    "        print(\"too low\")\n",
    "        \n",
    "    else:\n",
    "            print(\"too high\")\n",
    "    guess=int(input(\"Enter a number between 1 and 100:\"))\n",
    "    counter+=1\n",
    "print(f\"you guessed the number in {counter} attempts and correct number is {truenumber}\")"
   ]
  },
  {
   "cell_type": "code",
   "execution_count": 21,
   "metadata": {},
   "outputs": [
    {
     "name": "stdout",
     "output_type": "stream",
     "text": [
      "1\n",
      "2\n",
      "4\n",
      "7\n",
      "87\n"
     ]
    }
   ],
   "source": [
    "for i in {1,2,4,7,87}:\n",
    "    print(i)"
   ]
  },
  {
   "cell_type": "markdown",
   "metadata": {},
   "source": [
    "Program - The current population of a town is 10000. The population of the town is increasing at the rate of 10% per year. You have to write a program to find out the population at the end of each of the last 10 years."
   ]
  },
  {
   "cell_type": "code",
   "execution_count": 22,
   "metadata": {},
   "outputs": [
    {
     "name": "stdout",
     "output_type": "stream",
     "text": [
      "year 10 population is 10000\n",
      "year 9 population is 9000.0\n",
      "year 8 population is 8100.0\n",
      "year 7 population is 7290.0\n",
      "year 6 population is 6561.0\n",
      "year 5 population is 5904.9\n",
      "year 4 population is 5314.41\n",
      "year 3 population is 4782.969\n",
      "year 2 population is 4304.6721\n",
      "year 1 population is 3874.20489\n"
     ]
    }
   ],
   "source": [
    "current_population = 10000\n",
    "for i in range(10,0,-1):\n",
    "    print(f\"year {i} population is {current_population}\")\n",
    "    current_population= current_population - 0.1*current_population"
   ]
  }
 ],
 "metadata": {
  "kernelspec": {
   "display_name": "Python 3",
   "language": "python",
   "name": "python3"
  },
  "language_info": {
   "codemirror_mode": {
    "name": "ipython",
    "version": 3
   },
   "file_extension": ".py",
   "mimetype": "text/x-python",
   "name": "python",
   "nbconvert_exporter": "python",
   "pygments_lexer": "ipython3",
   "version": "3.13.1"
  }
 },
 "nbformat": 4,
 "nbformat_minor": 2
}
