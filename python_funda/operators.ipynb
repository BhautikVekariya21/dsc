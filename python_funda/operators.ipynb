{
 "cells": [
  {
   "cell_type": "markdown",
   "metadata": {},
   "source": [
    "# operators in python"
   ]
  },
  {
   "cell_type": "code",
   "execution_count": null,
   "metadata": {},
   "outputs": [
    {
     "name": "stdout",
     "output_type": "stream",
     "text": [
      "23\n",
      "-1\n",
      "132\n",
      "0.9166666666666666\n",
      "0\n",
      "11\n",
      "3138428376721\n"
     ]
    }
   ],
   "source": [
    "#arithmatic operators\n",
    "print(11+12)\n",
    "print(11-12)\n",
    "print(11*12)\n",
    "print(11/12)\n",
    "print(11//12)\n",
    "print(11%12)\n",
    "print(11**12)"
   ]
  },
  {
   "cell_type": "code",
   "execution_count": null,
   "metadata": {},
   "outputs": [
    {
     "name": "stdout",
     "output_type": "stream",
     "text": [
      "False\n",
      "True\n",
      "False\n",
      "True\n",
      "False\n",
      "True\n"
     ]
    }
   ],
   "source": [
    "#relational operators\n",
    "#(or comparison operators)\n",
    "print(11>12)\n",
    "print(11<12)\n",
    "print(11==12)\n",
    "print(11!=12)\n",
    "print(11>=12)\n",
    "print(11<=12)"
   ]
  },
  {
   "cell_type": "code",
   "execution_count": null,
   "metadata": {},
   "outputs": [
    {
     "name": "stdout",
     "output_type": "stream",
     "text": [
      "12\n",
      "11\n",
      "False\n",
      "0\n",
      "11\n",
      "0\n",
      "11\n"
     ]
    }
   ],
   "source": [
    "# logical operators\n",
    "#(and, or, not)\n",
    "print(11 and 12)\n",
    "print(11 or 12)\n",
    "print(not 11)\n",
    "print(11 and 0)\n",
    "print(0 or 11)\n",
    "print(0 and 11)\n",
    "print(11 or 0)"
   ]
  },
  {
   "cell_type": "code",
   "execution_count": null,
   "metadata": {},
   "outputs": [
    {
     "name": "stdout",
     "output_type": "stream",
     "text": [
      "8\n",
      "15\n",
      "-12\n",
      "7\n",
      "22\n",
      "5\n"
     ]
    }
   ],
   "source": [
    "# bitwise operators\n",
    "#(and, or, not, xor, left shift, right shift)\n",
    "#(bitwise and, bitwise or, bitwise not, bitwise xor, left shift, right shift)\n",
    "print(11 & 12)\n",
    "print(11 | 12)\n",
    "print(~11)\n",
    "print(11 ^ 12)\n",
    "print(11 << 1)\n",
    "print(11 >> 1)\n"
   ]
  },
  {
   "cell_type": "code",
   "execution_count": null,
   "metadata": {},
   "outputs": [
    {
     "name": "stdout",
     "output_type": "stream",
     "text": [
      "23\n"
     ]
    }
   ],
   "source": [
    "\n",
    "a=11\n",
    "b=12\n",
    "a+=b\n",
    "print(a)\n"
   ]
  },
  {
   "cell_type": "code",
   "execution_count": null,
   "metadata": {},
   "outputs": [
    {
     "name": "stdout",
     "output_type": "stream",
     "text": [
      "True\n",
      "False\n"
     ]
    }
   ],
   "source": [
    "# membership operators\n",
    "#(in, not in)\n",
    "print(11 in [11,12,13])\n",
    "print(11 not in [11,12,13])"
   ]
  },
  {
   "cell_type": "code",
   "execution_count": 1,
   "metadata": {},
   "outputs": [
    {
     "name": "stdout",
     "output_type": "stream",
     "text": [
      "12\n"
     ]
    }
   ],
   "source": [
    "# Program - Find the sum of a 3 digit number entered by the user\n",
    "\n",
    "num = int(input(\"enter a 3 digit number:\"))\n",
    "sum = 0\n",
    "while num>0:\n",
    "    rem = num%10\n",
    "    sum = sum + rem\n",
    "    num = num//10\n",
    "print(sum)"
   ]
  },
  {
   "cell_type": "markdown",
   "metadata": {},
   "source": [
    "if-else in python"
   ]
  },
  {
   "cell_type": "code",
   "execution_count": null,
   "metadata": {},
   "outputs": [
    {
     "name": "stdout",
     "output_type": "stream",
     "text": [
      "You are an adult but cannot drink alcohol in the US\n",
      "You get a B grade\n"
     ]
    }
   ],
   "source": [
    "\n",
    "# Example of if-else statement checking age eligibility\n",
    "age = 18\n",
    "\n",
    "if age >= 21:\n",
    "    print(\"You are eligible to drink alcohol in the US\")\n",
    "elif age >= 18:\n",
    "    print(\"You are an adult but cannot drink alcohol in the US\") \n",
    "elif age >= 16:\n",
    "    print(\"You can drive but are not yet an adult\")\n",
    "else:\n",
    "    print(\"You are under 16\")\n",
    "\n",
    "# Example with multiple conditions\n",
    "score = 85\n",
    "attendance = 90\n",
    "\n",
    "if score >= 90 and attendance >= 80:\n",
    "    print(\"You get an A grade\")\n",
    "elif score >= 80 and attendance >= 70:\n",
    "    print(\"You get a B grade\")\n",
    "elif score >= 70 and attendance >= 60:\n",
    "    print(\"You get a C grade\")\n",
    "else:\n",
    "    print(\"You need to improve your score and attendance\")"
   ]
  },
  {
   "cell_type": "code",
   "execution_count": 9,
   "metadata": {},
   "outputs": [
    {
     "name": "stdout",
     "output_type": "stream",
     "text": [
      "8\n"
     ]
    }
   ],
   "source": [
    "# min of 3 numbers\n",
    "a=int(input(\"enter first number\"))\n",
    "b=int(input(\"enter second number\"))\n",
    "c=int(input(\"enter third number\"))\n",
    "\n",
    "if a<b and a<c:\n",
    "    print(a)\n",
    "elif b<c:\n",
    "    print(b)\n",
    "else:\n",
    "    print(c)"
   ]
  },
  {
   "cell_type": "markdown",
   "metadata": {},
   "source": [
    "# modules"
   ]
  },
  {
   "cell_type": "code",
   "execution_count": 1,
   "metadata": {},
   "outputs": [
    {
     "data": {
      "text/plain": [
       "14.966629547095765"
      ]
     },
     "execution_count": 1,
     "metadata": {},
     "output_type": "execute_result"
    }
   ],
   "source": [
    "import math\n",
    "math.sqrt(224)"
   ]
  },
  {
   "cell_type": "code",
   "execution_count": 2,
   "metadata": {},
   "outputs": [
    {
     "name": "stdout",
     "output_type": "stream",
     "text": [
      "['False', 'None', 'True', 'and', 'as', 'assert', 'async', 'await', 'break', 'class', 'continue', 'def', 'del', 'elif', 'else', 'except', 'finally', 'for', 'from', 'global', 'if', 'import', 'in', 'is', 'lambda', 'nonlocal', 'not', 'or', 'pass', 'raise', 'return', 'try', 'while', 'with', 'yield']\n"
     ]
    }
   ],
   "source": [
    "import keyword\n",
    "print(keyword.kwlist)"
   ]
  },
  {
   "cell_type": "code",
   "execution_count": 13,
   "metadata": {},
   "outputs": [
    {
     "name": "stdout",
     "output_type": "stream",
     "text": [
      "29\n"
     ]
    }
   ],
   "source": [
    "import random\n",
    "print(random.randint(1,100))"
   ]
  },
  {
   "cell_type": "code",
   "execution_count": 3,
   "metadata": {},
   "outputs": [
    {
     "name": "stdout",
     "output_type": "stream",
     "text": [
      "2025-05-10 16:07:30.659240\n"
     ]
    }
   ],
   "source": [
    "import datetime\n",
    "print(datetime.datetime.now())"
   ]
  },
  {
   "cell_type": "code",
   "execution_count": 2,
   "metadata": {},
   "outputs": [
    {
     "name": "stdout",
     "output_type": "stream",
     "text": [
      "\n",
      "Please wait a moment while I gather a list of all available modules...\n",
      "\n",
      "IPython             calendar            mmsystem            sunau\n",
      "__future__          certifi             modulefinder        symtable\n",
      "__hello__           cffi                more_itertools      sys\n",
      "__phello__          cgi                 msilib              sysconfig\n",
      "_abc                cgitb               msvcrt              tabnanny\n",
      "_aix_support        charset_normalizer  multiprocessing     tarfile\n",
      "_argon2_cffi_bindings chunk               narwhals            telnetlib\n",
      "_ast                cmath               nbclient            tempfile\n",
      "_asyncio            cmd                 nbconvert           terminado\n",
      "_bisect             code                nbformat            textwrap\n",
      "_blake2             codecs              nest_asyncio        this\n",
      "_bz2                codeop              netbios             threading\n",
      "_cffi_backend       collections         netrc               threadpoolctl\n",
      "_codecs             colorama            nntplib             time\n",
      "_codecs_cn          colorsys            notebook            timeit\n",
      "_codecs_hk          comm                notebook_shim       timer\n",
      "_codecs_iso2022     commctrl            nt                  tinycss2\n",
      "_codecs_jp          compileall          ntpath              tkinter\n",
      "_codecs_kr          concurrent          ntsecuritycon       token\n",
      "_codecs_tw          configparser        nturl2path          tokenize\n",
      "_collections        contextlib          numbers             tomli\n",
      "_collections_abc    contextvars         numpy               tomllib\n",
      "_compat_pickle      copy                odbc                torch\n",
      "_compression        copyreg             opcode              torchgen\n",
      "_contextvars        crypt               operator            tornado\n",
      "_csv                csv                 optparse            tqdm\n",
      "_ctypes             ctypes              os                  trace\n",
      "_datetime           curses              overrides           traceback\n",
      "_decimal            cython              packaging           tracemalloc\n",
      "_distutils_hack     dataclasses         pandas              traitlets\n",
      "_elementtree        datetime            pandocfilters       transformers\n",
      "_functools          dateutil            parso               tty\n",
      "_hashlib            dbm                 pathlib             turtle\n",
      "_heapq              dde                 patsy               turtledemo\n",
      "_imp                debugpy             pdb                 typeguard\n",
      "_io                 decimal             perfmon             types\n",
      "_json               decorator           pickle              typing\n",
      "_locale             defusedxml          pickletools         typing_extensions\n",
      "_lsprof             difflib             pip                 tzdata\n",
      "_lzma               dis                 pipes               unicodedata\n",
      "_markupbase         doctest             pkg_resources       unittest\n",
      "_md5                email               pkgutil             uri_template\n",
      "_msi                encodings           platform            urllib\n",
      "_multibytecodec     ensurepip           platformdirs        urllib3\n",
      "_multiprocessing    enum                plistlib            uu\n",
      "_opcode             errno               plotly              uuid\n",
      "_operator           executing           plotly_express      venv\n",
      "_osx_support        fastjsonschema      poplib              warnings\n",
      "_overlapped         faulthandler        posixpath           watchdog\n",
      "_pickle             filecmp             pprint              wave\n",
      "_plotly_future_     fileinput           profile             wcwidth\n",
      "_plotly_geo         fnmatch             prometheus_client   weakref\n",
      "_plotly_utils       fqdn                prompt_toolkit      webbrowser\n",
      "_py_abc             fractions           pstats              webcolors\n",
      "_pydatetime         ftplib              psutil              webencodings\n",
      "_pydecimal          functools           pty                 websocket\n",
      "_pyio               gc                  pure_eval           wheel\n",
      "_pylong             genericpath         py_compile          widgetsnbextension\n",
      "_queue              getopt              pyclbr              win2kras\n",
      "_random             getpass             pycparser           win32api\n",
      "_sha1               gettext             pydoc               win32clipboard\n",
      "_sha2               glob                pydoc_data          win32com\n",
      "_sha3               graphlib            pyexpat             win32con\n",
      "_signal             gzip                pygments            win32console\n",
      "_sitebuiltins       h11                 pylab               win32cred\n",
      "_socket             hashlib             pythoncom           win32crypt\n",
      "_sqlite3            heapq               pythonjsonlogger    win32cryptcon\n",
      "_sre                hmac                pytz                win32event\n",
      "_ssl                html                pywin               win32evtlog\n",
      "_stat               http                pywin32_bootstrap   win32evtlogutil\n",
      "_statistics         httpcore            pywin32_testutil    win32file\n",
      "_string             httpx               pywintypes          win32gui\n",
      "_strptime           idlelib             queue               win32gui_struct\n",
      "_struct             idna                quopri              win32help\n",
      "_symtable           imaplib             random              win32inet\n",
      "_thread             imghdr              rasutil             win32inetcon\n",
      "_threading_local    importlib           re                  win32job\n",
      "_tkinter            importlib_metadata  referencing         win32lz\n",
      "_tokenize           inflect             regcheck            win32net\n",
      "_tracemalloc        inspect             regutil             win32netcon\n",
      "_typing             io                  reprlib             win32pdh\n",
      "_uuid               ipaddress           requests            win32pdhquery\n",
      "_warnings           ipykernel           rfc3339_validator   win32pdhutil\n",
      "_weakref            ipykernel_launcher  rfc3986_validator   win32pipe\n",
      "_weakrefset         ipython_pygments_lexers rlcompleter         win32print\n",
      "_win32sysloader     ipywidgets          rpds                win32process\n",
      "_win32verstamp_pywin32ctypes isapi               runpy               win32profile\n",
      "_winapi             isoduration         sched               win32ras\n",
      "_winxptheme         isympy              scipy               win32rcparser\n",
      "_wmi                itertools           secrets             win32security\n",
      "_xxinterpchannels   jedi                select              win32service\n",
      "_xxsubinterpreters  jinja2              selectors           win32serviceutil\n",
      "_yaml               json                send2trash          win32timezone\n",
      "_zoneinfo           json5               servicemanager      win32trace\n",
      "abc                 jsonpointer         setuptools          win32traceutil\n",
      "adodbapi            jsonschema          shapefile           win32transaction\n",
      "afxres              jsonschema_specifications shelve              win32ts\n",
      "aifc                jupyter             shlex               win32ui\n",
      "antigravity         jupyter_client      shutil              win32uiole\n",
      "anyio               jupyter_core        signal              win32verstamp\n",
      "argon2              jupyter_events      site                win32wnet\n",
      "argparse            jupyter_lsp         six                 winerror\n",
      "array               jupyter_server      smtplib             winioctlcon\n",
      "arrow               jupyter_server_terminals sndhdr              winnt\n",
      "ast                 jupyterlab          sniffio             winperf\n",
      "asttokens           jupyterlab_pygments socket              winpty\n",
      "async_lru           jupyterlab_server   socketserver        winreg\n",
      "asyncio             jupyterlab_widgets  soupsieve           winsound\n",
      "atexit              keyword             sqlite3             winxpgui\n",
      "attr                lib2to3             sre_compile         winxptheme\n",
      "attrs               linecache           sre_constants       wsgiref\n",
      "audioop             locale              sre_parse           xdrlib\n",
      "autocommand         logging             ssl                 xml\n",
      "babel               lzma                sspi                xmlrpc\n",
      "backports           mailbox             sspicon             xxsubtype\n",
      "base64              mailcap             stack_data          yaml\n",
      "bdb                 markupsafe          start_pythonwin     zipapp\n",
      "binascii            marshal             stat                zipfile\n",
      "bisect              math                statistics          zipimport\n",
      "bleach              matplotlib_inline   statsmodels         zipp\n",
      "bs4                 mimetypes           string              zlib\n",
      "builtins            mistune             stringprep          zmq\n",
      "bz2                 mmap                struct              zoneinfo\n",
      "cProfile            mmapfile            subprocess          \n",
      "\n",
      "Enter any module name to get more help.  Or, type \"modules spam\" to search\n",
      "for modules whose name or summary contain the string \"spam\".\n",
      "\n"
     ]
    }
   ],
   "source": [
    "help(\"modules\")"
   ]
  },
  {
   "cell_type": "markdown",
   "metadata": {},
   "source": [
    "# loops in python\n"
   ]
  },
  {
   "cell_type": "code",
   "execution_count": 4,
   "metadata": {},
   "outputs": [
    {
     "name": "stdout",
     "output_type": "stream",
     "text": [
      "14 x 1 = 14\n",
      "14 x 2 = 28\n",
      "14 x 3 = 42\n",
      "14 x 4 = 56\n",
      "14 x 5 = 70\n",
      "14 x 6 = 84\n",
      "14 x 7 = 98\n",
      "14 x 8 = 112\n",
      "14 x 9 = 126\n",
      "14 x 10 = 140\n"
     ]
    }
   ],
   "source": [
    "number = int(input(\"Enter a number:\"))\n",
    "i=1\n",
    "while i<=10:\n",
    "    print(f\"{number} x {i} = {number*i}\")\n",
    "    i+=1"
   ]
  },
  {
   "cell_type": "code",
   "execution_count": 18,
   "metadata": {},
   "outputs": [
    {
     "name": "stdout",
     "output_type": "stream",
     "text": [
      "1\n",
      "2\n",
      "3\n",
      "4\n",
      "5\n",
      "6\n",
      "loop completed\n"
     ]
    }
   ],
   "source": [
    "\n",
    "i=1\n",
    "while i<7:\n",
    "    print(i)\n",
    "    i+=1\n",
    "    \n",
    "else:\n",
    "    print(\"loop completed\")"
   ]
  },
  {
   "cell_type": "code",
   "execution_count": 5,
   "metadata": {},
   "outputs": [
    {
     "name": "stdout",
     "output_type": "stream",
     "text": [
      "too low\n",
      "too low\n",
      "too low\n",
      "too high\n",
      "too high\n",
      "too high\n",
      "too high\n",
      "too high\n",
      "too low\n",
      "you guessed the number in 10 attempts and correct number is 38\n"
     ]
    }
   ],
   "source": [
    "import random \n",
    "truenumber = random.randint(1,100)\n",
    "guess=int(input(\"Enter a number between 1 and 100:\"))\n",
    "counter=1\n",
    "while guess!=truenumber:\n",
    "    if guess<truenumber:\n",
    "        print(\"too low\")\n",
    "        \n",
    "    else:\n",
    "            print(\"too high\")\n",
    "    guess=int(input(\"Enter a number between 1 and 100:\"))\n",
    "    counter+=1\n",
    "print(f\"you guessed the number in {counter} attempts and correct number is {truenumber}\")"
   ]
  },
  {
   "cell_type": "code",
   "execution_count": 21,
   "metadata": {},
   "outputs": [
    {
     "name": "stdout",
     "output_type": "stream",
     "text": [
      "1\n",
      "2\n",
      "4\n",
      "7\n",
      "87\n"
     ]
    }
   ],
   "source": [
    "for i in {1,2,4,7,87}:\n",
    "    print(i)"
   ]
  },
  {
   "cell_type": "markdown",
   "metadata": {},
   "source": [
    "### Program - The current population of a town is 10000. The population of the town is increasing at the rate of 10% per year. You have to write a program to find out the population at the end of each of the last 10 years."
   ]
  },
  {
   "cell_type": "code",
   "execution_count": 6,
   "metadata": {},
   "outputs": [
    {
     "name": "stdout",
     "output_type": "stream",
     "text": [
      "Population at the end of each of the last 10 years:\n",
      "10 year(s) ago: 3855\n",
      "9 year(s) ago: 4240\n",
      "8 year(s) ago: 4665\n",
      "7 year(s) ago: 5131\n",
      "6 year(s) ago: 5644\n",
      "5 year(s) ago: 6209\n",
      "4 year(s) ago: 6830\n",
      "3 year(s) ago: 7513\n",
      "2 year(s) ago: 8264\n",
      "1 year(s) ago: 9090\n"
     ]
    }
   ],
   "source": [
    "current_population = 10000\n",
    "growth_rate = 10  # in percent\n",
    "\n",
    "print(\"Population at the end of each of the last 10 years:\")\n",
    "\n",
    "for year in range(10, 0, -1):  # From 10 to 1\n",
    "    past_population = current_population / ((1 + growth_rate / 100) ** year)\n",
    "    print(f\"{year} year(s) ago: {int(past_population)}\")\n"
   ]
  }
 ],
 "metadata": {
  "kernelspec": {
   "display_name": ".venv",
   "language": "python",
   "name": "python3"
  },
  "language_info": {
   "codemirror_mode": {
    "name": "ipython",
    "version": 3
   },
   "file_extension": ".py",
   "mimetype": "text/x-python",
   "name": "python",
   "nbconvert_exporter": "python",
   "pygments_lexer": "ipython3",
   "version": "3.12.10"
  }
 },
 "nbformat": 4,
 "nbformat_minor": 2
}
