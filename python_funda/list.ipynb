{
 "cells": [
  {
   "cell_type": "markdown",
   "metadata": {},
   "source": [
    "# Python Lists: Complete Guide\n",
    "\n",
    "## What are Lists?\n",
    "\n",
    "Lists are one of the most fundamental and versatile data structures in Python. They are ordered collections of items that can store multiple values of different data types in a single variable. Lists are mutable, meaning you can change their contents after creation, and they maintain the order of elements as they were inserted.\n",
    "\n",
    "## Lists vs Arrays\n",
    "\n",
    "While lists and arrays might seem similar, they have key differences:\n",
    "\n",
    "### Lists:\n",
    "- Built-in Python data structure\n",
    "- Can store mixed data types (integers, strings, objects, etc.)\n",
    "- Dynamic sizing - can grow or shrink during runtime\n",
    "- More memory overhead due to flexibility\n",
    "- Slower for mathematical operations on large datasets\n",
    "\n",
    "### Arrays:\n",
    "- Require importing (from `array` module or NumPy)\n",
    "- Store elements of the same data type\n",
    "- More memory efficient for large datasets\n",
    "- Faster for mathematical computations\n",
    "- Fixed data type throughout the array\n",
    "\n",
    "## Characteristics of a List\n",
    "\n",
    "1. **Ordered**: Items have a defined order that won't change unless explicitly modified\n",
    "2. **Mutable**: Items can be changed, added, or removed after creation\n",
    "3. **Allow Duplicates**: The same value can appear multiple times\n",
    "4. **Indexed**: Items can be accessed using index numbers (starting from 0)\n",
    "5. **Dynamic**: Size can change during program execution\n",
    "6. **Heterogeneous**: Can contain items of different data types\n",
    "\n",
    "## How to Create a List\n",
    "\n",
    "### Empty List\n",
    "```python\n",
    "empty_list = []\n",
    "# or\n",
    "empty_list = list()\n",
    "```\n",
    "\n",
    "### List with Initial Values\n",
    "```python\n",
    "numbers = [1, 2, 3, 4, 5]\n",
    "mixed_list = [1, \"hello\", 3.14, True]\n",
    "nested_list = [[1, 2], [3, 4], [5, 6]]\n",
    "```\n",
    "\n",
    "### Using List Constructor\n",
    "```python\n",
    "from_string = list(\"hello\")  # ['h', 'e', 'l', 'l', 'o']\n",
    "from_range = list(range(5))  # [0, 1, 2, 3, 4]\n",
    "```\n",
    "\n",
    "### List Comprehension\n",
    "```python\n",
    "squares = [x**2 for x in range(5)]  # [0, 1, 4, 9, 16]\n",
    "```\n",
    "\n",
    "## Access Items from a List\n",
    "\n",
    "### Positive Indexing\n",
    "```python\n",
    "fruits = [\"apple\", \"banana\", \"cherry\", \"date\"]\n",
    "print(fruits[0])    # \"apple\"\n",
    "print(fruits[2])    # \"cherry\"\n",
    "```\n",
    "\n",
    "### Negative Indexing\n",
    "```python\n",
    "print(fruits[-1])   # \"date\" (last item)\n",
    "print(fruits[-2])   # \"cherry\" (second last)\n",
    "```\n",
    "\n",
    "### Slicing\n",
    "```python\n",
    "print(fruits[1:3])    # [\"banana\", \"cherry\"]\n",
    "print(fruits[:2])     # [\"apple\", \"banana\"]\n",
    "print(fruits[2:])     # [\"cherry\", \"date\"]\n",
    "print(fruits[::2])    # [\"apple\", \"cherry\"] (every 2nd item)\n",
    "```\n",
    "\n",
    "### Checking if Item Exists\n",
    "```python\n",
    "if \"banana\" in fruits:\n",
    "    print(\"Banana is in the list\")\n",
    "```\n",
    "\n",
    "## Editing Items in a List\n",
    "\n",
    "### Change Single Item\n",
    "```python\n",
    "fruits[1] = \"blueberry\"\n",
    "print(fruits)  # [\"apple\", \"blueberry\", \"cherry\", \"date\"]\n",
    "```\n",
    "\n",
    "### Change Multiple Items\n",
    "```python\n",
    "fruits[1:3] = [\"kiwi\", \"mango\"]\n",
    "print(fruits)  # [\"apple\", \"kiwi\", \"mango\", \"date\"]\n",
    "```\n",
    "\n",
    "### Insert Items\n",
    "```python\n",
    "fruits.insert(2, \"grape\")  # Insert at index 2\n",
    "```\n",
    "\n",
    "### Append Items\n",
    "```python\n",
    "fruits.append(\"orange\")    # Add to end\n",
    "fruits.extend([\"peach\", \"plum\"])  # Add multiple items\n",
    "```\n",
    "\n",
    "## Deleting Items from a List\n",
    "\n",
    "### Remove by Value\n",
    "```python\n",
    "fruits.remove(\"apple\")  # Removes first occurrence\n",
    "```\n",
    "\n",
    "### Remove by Index\n",
    "```python\n",
    "deleted_item = fruits.pop(1)  # Remove and return item at index 1\n",
    "last_item = fruits.pop()      # Remove and return last item\n",
    "```\n",
    "\n",
    "### Delete by Index\n",
    "```python\n",
    "del fruits[0]        # Delete item at index 0\n",
    "del fruits[1:3]      # Delete items from index 1 to 2\n",
    "```\n",
    "\n",
    "### Clear All Items\n",
    "```python\n",
    "fruits.clear()  # Remove all items\n",
    "```\n",
    "\n",
    "## Operations on Lists\n",
    "\n",
    "### Concatenation\n",
    "```python\n",
    "list1 = [1, 2, 3]\n",
    "list2 = [4, 5, 6]\n",
    "combined = list1 + list2  # [1, 2, 3, 4, 5, 6]\n",
    "```\n",
    "\n",
    "### Repetition\n",
    "```python\n",
    "repeated = [1, 2] * 3  # [1, 2, 1, 2, 1, 2]\n",
    "```\n",
    "\n",
    "### Comparison\n",
    "```python\n",
    "list1 = [1, 2, 3]\n",
    "list2 = [1, 2, 3]\n",
    "print(list1 == list2)  # True\n",
    "```\n",
    "\n",
    "### Length\n",
    "```python\n",
    "length = len(fruits)\n",
    "```\n",
    "\n",
    "## Functions on Lists\n",
    "\n",
    "### Built-in Functions\n",
    "\n",
    "#### `len()` - Get Length\n",
    "```python\n",
    "numbers = [1, 2, 3, 4, 5]\n",
    "print(len(numbers))  # 5\n",
    "```\n",
    "\n",
    "#### `max()` and `min()` - Find Maximum and Minimum\n",
    "```python\n",
    "print(max(numbers))  # 5\n",
    "print(min(numbers))  # 1\n",
    "```\n",
    "\n",
    "#### `sum()` - Calculate Sum\n",
    "```python\n",
    "print(sum(numbers))  # 15\n",
    "```\n",
    "\n",
    "#### `sorted()` - Return Sorted Copy\n",
    "```python\n",
    "unsorted = [3, 1, 4, 1, 5]\n",
    "sorted_list = sorted(unsorted)  # [1, 1, 3, 4, 5]\n",
    "```\n",
    "\n",
    "#### `reversed()` - Return Reversed Iterator\n",
    "```python\n",
    "reversed_list = list(reversed(numbers))  # [5, 4, 3, 2, 1]\n",
    "```\n",
    "\n",
    "### List Methods\n",
    "\n",
    "#### `append()` - Add Single Item\n",
    "```python\n",
    "numbers.append(6)  # [1, 2, 3, 4, 5, 6]\n",
    "```\n",
    "\n",
    "#### `extend()` - Add Multiple Items\n",
    "```python\n",
    "numbers.extend([7, 8, 9])  # [1, 2, 3, 4, 5, 6, 7, 8, 9]\n",
    "```\n",
    "\n",
    "#### `insert()` - Insert at Specific Position\n",
    "```python\n",
    "numbers.insert(0, 0)  # [0, 1, 2, 3, 4, 5, 6, 7, 8, 9]\n",
    "```\n",
    "\n",
    "#### `remove()` - Remove First Occurrence\n",
    "```python\n",
    "numbers.remove(5)  # Removes the first occurrence of 5\n",
    "```\n",
    "\n",
    "#### `pop()` - Remove and Return Item\n",
    "```python\n",
    "last = numbers.pop()     # Remove and return last item\n",
    "first = numbers.pop(0)   # Remove and return first item\n",
    "```\n",
    "\n",
    "#### `index()` - Find Index of Item\n",
    "```python\n",
    "position = numbers.index(3)  # Returns index of first occurrence\n",
    "```\n",
    "\n",
    "#### `count()` - Count Occurrences\n",
    "```python\n",
    "occurrences = numbers.count(1)  # Count how many times 1 appears\n",
    "```\n",
    "\n",
    "#### `sort()` - Sort in Place\n",
    "```python\n",
    "numbers.sort()              # Sort ascending\n",
    "numbers.sort(reverse=True)  # Sort descending\n",
    "```\n",
    "\n",
    "#### `reverse()` - Reverse in Place\n",
    "```python\n",
    "numbers.reverse()  # Reverse the order of items\n",
    "```\n",
    "\n",
    "#### `copy()` - Create Shallow Copy\n",
    "```python\n",
    "numbers_copy = numbers.copy()\n",
    "```\n",
    "\n",
    "#### `clear()` - Remove All Items\n",
    "```python\n",
    "numbers.clear()  # Empty the list\n",
    "```\n",
    "\n",
    "### Advanced List Operations\n",
    "\n",
    "#### List Comprehensions\n",
    "```python\n",
    "# Basic comprehension\n",
    "squares = [x**2 for x in range(10)]\n",
    "\n",
    "# With condition\n",
    "even_squares = [x**2 for x in range(10) if x % 2 == 0]\n",
    "\n",
    "# Nested comprehension\n",
    "matrix = [[i*j for j in range(3)] for i in range(3)]\n",
    "```\n",
    "\n",
    "#### Enumerate\n",
    "```python\n",
    "fruits = [\"apple\", \"banana\", \"cherry\"]\n",
    "for index, fruit in enumerate(fruits):\n",
    "    print(f\"{index}: {fruit}\")\n",
    "```\n",
    "\n",
    "#### Zip\n",
    "```python\n",
    "names = [\"Alice\", \"Bob\", \"Charlie\"]\n",
    "ages = [25, 30, 35]\n",
    "combined = list(zip(names, ages))  # [('Alice', 25), ('Bob', 30), ('Charlie', 35)]\n",
    "```\n",
    "\n",
    "## Common Use Cases and Examples\n",
    "\n",
    "### Filtering Lists\n",
    "```python\n",
    "numbers = [1, 2, 3, 4, 5, 6, 7, 8, 9, 10]\n",
    "even_numbers = [x for x in numbers if x % 2 == 0]\n",
    "```\n",
    "\n",
    "### Finding Elements\n",
    "```python\n",
    "def find_all_indices(lst, value):\n",
    "    return [i for i, x in enumerate(lst) if x == value]\n",
    "```\n",
    "\n",
    "### Flattening Nested Lists\n",
    "```python\n",
    "nested = [[1, 2], [3, 4], [5, 6]]\n",
    "flattened = [item for sublist in nested for item in sublist]\n",
    "```\n",
    "\n",
    "Lists are incredibly powerful and flexible, making them essential for Python programming. They provide the foundation for many algorithms and data manipulation tasks."
   ]
  },
  {
   "cell_type": "code",
   "execution_count": 2,
   "metadata": {},
   "outputs": [
    {
     "name": "stdout",
     "output_type": "stream",
     "text": [
      "==================================================\n",
      "List L and its elements\n",
      "==================================================\n",
      "id(L)         = 2407197519360\n",
      "id(L[0])      = 140706102462904  # Value: 1\n",
      "id(L[1])      = 140706102462936  # Value: 2\n",
      "id(L[2])      = 140706102462968  # Value: 3\n",
      "\n",
      "==================================================\n",
      "List L1 and its elements BEFORE modification\n",
      "==================================================\n",
      "id(L1)        = 2407197618176\n",
      "id(L1[0])    = 140706102462904  # Value: 1\n",
      "id(L1[1])    = 140706102462936  # Value: 2\n",
      "id(L1[2])    = 140706102462968  # Value: 3\n",
      "id(L1[3])    = 140706102463000  # Value: 4\n",
      "id(L1[4])    = 140706102463032  # Value: 5\n",
      "id(L1[5])    = 140706102463064  # Value: 6\n",
      "id(L1[6])    = 140706102463096  # Value: 7\n",
      "id(L1[7])    = 140706102463128  # Value: 8\n",
      "id(L1[8])    = 140706102463160  # Value: 9\n",
      "id(L1[9])    = 140706102463192  # Value: 10\n",
      "\n",
      "==================================================\n",
      "IDs of Integer Literals (1 to 10)\n",
      "==================================================\n",
      "id(1)        = 140706102462904\n",
      "id(2)        = 140706102462936\n",
      "id(3)        = 140706102462968\n",
      "id(4)        = 140706102463000\n",
      "id(5)        = 140706102463032\n",
      "id(6)        = 140706102463064\n",
      "id(7)        = 140706102463096\n",
      "id(8)        = 140706102463128\n",
      "id(9)        = 140706102463160\n",
      "id(10)        = 140706102463192\n",
      "\n",
      "==================================================\n",
      "Comparisons BEFORE modification\n",
      "==================================================\n",
      "id(L1[0]) == id(1): True\n",
      "\n",
      "==================================================\n",
      "List L1 and its elements AFTER modification\n",
      "==================================================\n",
      "id(L1[0])    = 140706102466072  # Value: 100\n",
      "id(L1[1])    = 140706102462936  # Value: 2\n",
      "id(L1[2])    = 140706102462968  # Value: 3\n",
      "id(L1[3])    = 140706102463000  # Value: 4\n",
      "id(L1[4])    = 140706102463032  # Value: 5\n",
      "id(L1[5])    = 140706102463064  # Value: 6\n",
      "id(L1[6])    = 140706102463096  # Value: 7\n",
      "id(L1[7])    = 140706102463128  # Value: 8\n",
      "id(L1[8])    = 140706102463160  # Value: 9\n",
      "id(L1[9])    = 140706102463192  # Value: 10\n",
      "\n",
      "==================================================\n",
      "IDs After Modifying L1[0] to 100\n",
      "==================================================\n",
      "id(L1[0])      = 140706102466072  # Value: 100\n",
      "id(100)        = 140706102466072\n",
      "id(1)          = 140706102462904\n",
      "\n",
      "==================================================\n",
      "Comparisons AFTER modification\n",
      "==================================================\n",
      "id(L1[0]) == id(1): False\n",
      "id(L1[0]) == id(100): True\n"
     ]
    }
   ],
   "source": [
    "# First list: L\n",
    "L = [1, 2, 3]\n",
    "\n",
    "print(\"=\"*50)\n",
    "print(\"List L and its elements\")\n",
    "print(\"=\"*50)\n",
    "print(f\"id(L)         = {id(L)}\")\n",
    "print(f\"id(L[0])      = {id(L[0])}  # Value: {L[0]}\")\n",
    "print(f\"id(L[1])      = {id(L[1])}  # Value: {L[1]}\")\n",
    "print(f\"id(L[2])      = {id(L[2])}  # Value: {L[2]}\")\n",
    "print()\n",
    "\n",
    "# Second list: L1\n",
    "L1 = [1, 2, 3, 4, 5, 6, 7, 8, 9, 10]\n",
    "\n",
    "print(\"=\"*50)\n",
    "print(\"List L1 and its elements BEFORE modification\")\n",
    "print(\"=\"*50)\n",
    "print(f\"id(L1)        = {id(L1)}\")\n",
    "for i in range(10):\n",
    "    print(f\"id(L1[{i}])    = {id(L1[i])}  # Value: {L1[i]}\")\n",
    "\n",
    "print()\n",
    "\n",
    "print(\"=\"*50)\n",
    "print(\"IDs of Integer Literals (1 to 10)\")\n",
    "print(\"=\"*50)\n",
    "for i in range(1, 11):\n",
    "    print(f\"id({i})        = {id(i)}\")\n",
    "\n",
    "print()\n",
    "\n",
    "print(\"=\"*50)\n",
    "print(\"Comparisons BEFORE modification\")\n",
    "print(\"=\"*50)\n",
    "print(f\"id(L1[0]) == id(1): {id(L1[0]) == id(1)}\")\n",
    "\n",
    "# Modify an element in L1\n",
    "L1[0] = 100\n",
    "\n",
    "print()\n",
    "print(\"=\"*50)\n",
    "print(\"List L1 and its elements AFTER modification\")\n",
    "print(\"=\"*50)\n",
    "for i in range(10):\n",
    "    print(f\"id(L1[{i}])    = {id(L1[i])}  # Value: {L1[i]}\")\n",
    "\n",
    "print()\n",
    "\n",
    "print(\"=\"*50)\n",
    "print(\"IDs After Modifying L1[0] to 100\")\n",
    "print(\"=\"*50)\n",
    "print(f\"id(L1[0])      = {id(L1[0])}  # Value: {L1[0]}\")\n",
    "print(f\"id(100)        = {id(100)}\")\n",
    "print(f\"id(1)          = {id(1)}\")\n",
    "print()\n",
    "\n",
    "print(\"=\"*50)\n",
    "print(\"Comparisons AFTER modification\")\n",
    "print(\"=\"*50)\n",
    "print(f\"id(L1[0]) == id(1): {id(L1[0]) == id(1)}\")\n",
    "print(f\"id(L1[0]) == id(100): {id(L1[0]) == id(100)}\")"
   ]
  },
  {
   "cell_type": "code",
   "execution_count": 3,
   "metadata": {},
   "outputs": [
    {
     "name": "stdout",
     "output_type": "stream",
     "text": [
      "======================================================================\n",
      "           ID of Each Element in 4D List (L4D)\n",
      "======================================================================\n",
      "\n",
      "L4D[0] -> id = 2407197562816\n",
      "============================================================\n",
      "  L4D[0][0] -> id = 2407196213120\n",
      "--------------------------------------------------\n",
      "    L4D[0][0][0] -> id = 2407197570112\n",
      "........................................\n",
      "      L4D[0][0][0][0] = 1, id = 140706102462904\n",
      "      L4D[0][0][0][1] = 2, id = 140706102462936\n",
      "........................................\n",
      "    L4D[0][0][1] -> id = 2407197563008\n",
      "........................................\n",
      "      L4D[0][0][1][0] = 3, id = 140706102462968\n",
      "      L4D[0][0][1][1] = 4, id = 140706102463000\n",
      "........................................\n",
      "--------------------------------------------------\n",
      "  L4D[0][1] -> id = 2407197455040\n",
      "--------------------------------------------------\n",
      "    L4D[0][1][0] -> id = 2407197456640\n",
      "........................................\n",
      "      L4D[0][1][0][0] = 5, id = 140706102463032\n",
      "      L4D[0][1][0][1] = 6, id = 140706102463064\n",
      "........................................\n",
      "    L4D[0][1][1] -> id = 2407197453760\n",
      "........................................\n",
      "      L4D[0][1][1][0] = 7, id = 140706102463096\n",
      "      L4D[0][1][1][1] = 8, id = 140706102463128\n",
      "........................................\n",
      "--------------------------------------------------\n",
      "============================================================\n",
      "\n",
      "L4D[1] -> id = 2407196362688\n",
      "============================================================\n",
      "  L4D[1][0] -> id = 2407197457920\n",
      "--------------------------------------------------\n",
      "    L4D[1][0][0] -> id = 2407197458112\n",
      "........................................\n",
      "      L4D[1][0][0][0] = 9, id = 140706102463160\n",
      "      L4D[1][0][0][1] = 10, id = 140706102463192\n",
      "........................................\n",
      "    L4D[1][0][1] -> id = 2407197454272\n",
      "........................................\n",
      "      L4D[1][0][1][0] = 11, id = 140706102463224\n",
      "      L4D[1][0][1][1] = 12, id = 140706102463256\n",
      "........................................\n",
      "--------------------------------------------------\n",
      "  L4D[1][1] -> id = 2407197457792\n",
      "--------------------------------------------------\n",
      "    L4D[1][1][0] -> id = 2407197455808\n",
      "........................................\n",
      "      L4D[1][1][0][0] = 13, id = 140706102463288\n",
      "      L4D[1][1][0][1] = 14, id = 140706102463320\n",
      "........................................\n",
      "    L4D[1][1][1] -> id = 2407197457024\n",
      "........................................\n",
      "      L4D[1][1][1][0] = 15, id = 140706102463352\n",
      "      L4D[1][1][1][1] = 16, id = 140706102463384\n",
      "........................................\n",
      "--------------------------------------------------\n",
      "============================================================\n"
     ]
    }
   ],
   "source": [
    "# Define a 2x2x2x2 4D list\n",
    "L4D = [\n",
    "    [\n",
    "        [\n",
    "            [1, 2],\n",
    "            [3, 4]\n",
    "        ],\n",
    "        [\n",
    "            [5, 6],\n",
    "            [7, 8]\n",
    "        ]\n",
    "    ],\n",
    "    [\n",
    "        [\n",
    "            [9, 10],\n",
    "            [11, 12]\n",
    "        ],\n",
    "        [\n",
    "            [13, 14],\n",
    "            [15, 16]\n",
    "        ]\n",
    "    ]\n",
    "]\n",
    "\n",
    "print(\"=\"*70)\n",
    "print(\"           ID of Each Element in 4D List (L4D)\")\n",
    "print(\"=\"*70)\n",
    "\n",
    "for i in range(len(L4D)):\n",
    "    print(f\"\\nL4D[{i}] -> id = {id(L4D[i])}\")\n",
    "    print(\"=\"*60)\n",
    "    for j in range(len(L4D[i])):\n",
    "        print(f\"  L4D[{i}][{j}] -> id = {id(L4D[i][j])}\")\n",
    "        print(\"-\"*50)\n",
    "        for k in range(len(L4D[i][j])):\n",
    "            print(f\"    L4D[{i}][{j}][{k}] -> id = {id(L4D[i][j][k])}\")\n",
    "            print(\".\"*40)\n",
    "            for l in range(len(L4D[i][j][k])):\n",
    "                val = L4D[i][j][k][l]\n",
    "                print(f\"      L4D[{i}][{j}][{k}][{l}] = {val}, id = {id(val)}\")\n",
    "            print(\".\"*40)\n",
    "        print(\"-\"*50)\n",
    "    print(\"=\"*60)\n"
   ]
  },
  {
   "cell_type": "markdown",
   "metadata": {},
   "source": [
    "## Characterstics of a List\n",
    "\n",
    "- Ordered\n",
    "- Changeble/Mutable\n",
    "- Hetrogeneous\n",
    "- Can have duplicates\n",
    "- are dynamic\n",
    "- can be nested\n",
    "- items can be accessed \n",
    "- can contain any kind of objects in python"
   ]
  },
  {
   "cell_type": "code",
   "execution_count": 2,
   "metadata": {},
   "outputs": [
    {
     "name": "stdout",
     "output_type": "stream",
     "text": [
      "[1, 2, 3, 2]\n",
      "[1, 2, 3]\n",
      "False\n",
      "True\n"
     ]
    },
    {
     "data": {
      "text/plain": [
       "False"
      ]
     },
     "execution_count": 2,
     "metadata": {},
     "output_type": "execute_result"
    }
   ],
   "source": [
    "L = [1,2,3,2]\n",
    "print(L)\n",
    "L = list(set(L))\n",
    "print(L)\n",
    "L1 = [3,2,1]\n",
    "L2 = [1,2,3]\n",
    "print(L1 == L2)\n",
    "print(set(L1) == set(L2))  # Output: True\n",
    "\n",
    "L == L1"
   ]
  },
  {
   "cell_type": "markdown",
   "metadata": {},
   "source": [
    "## Creating a List\n"
   ]
  },
  {
   "cell_type": "code",
   "execution_count": 11,
   "metadata": {},
   "outputs": [
    {
     "name": "stdout",
     "output_type": "stream",
     "text": [
      "[]\n",
      "[1, 2, 3, 4, 5]\n",
      "[1, 2, 3, [4, 5, 6]]\n",
      "[[[1, 2], [3, 4]], [[5, 6], [7, 8]]]\n",
      "[1, True, 5.6, (5+6j), 'Hello']\n",
      "['H', 'e', 'l', 'l', 'o', ' ', 'b', 'e', 'q', 'u', 't', 'y']\n"
     ]
    }
   ],
   "source": [
    "print([])\n",
    "print([1,2,3,4,5])\n",
    "print([1,2,3,[4,5,6]])\n",
    "print([[[1,2],[3,4]],[[5,6],[7,8]]])\n",
    "print([1,True,5.6,5+6j,'Hello'])\n",
    "print(list('Hello bequty'))"
   ]
  },
  {
   "cell_type": "code",
   "execution_count": 4,
   "metadata": {},
   "outputs": [
    {
     "name": "stdout",
     "output_type": "stream",
     "text": [
      "============================================================\n",
      "ID of each element in L1 and its nested list\n",
      "============================================================\n",
      "L1               -> id = 2407197568576\n",
      "==================================================\n",
      "L1[0]          -> id = 140706102462904  | value = 1\n",
      "L1[1]          -> id = 140706102462936  | value = 2\n",
      "L1[2]          -> id = 140706102462968  | value = 3\n",
      "L1[3]          -> id = 2407197569536  | value = [4, 5, 6]\n",
      "==================================================\n",
      "\n",
      "Nested list L1[3] = [4, 5, 6] -> id = 2407197569536\n",
      "--------------------------------------------------\n",
      "L1[3][0]       -> id = 140706102463000  | value = 4\n",
      "L1[3][1]       -> id = 140706102463032  | value = 5\n",
      "L1[3][2]       -> id = 140706102463064  | value = 6\n",
      "--------------------------------------------------\n"
     ]
    }
   ],
   "source": [
    "L1 = [1, 2, 3, [4, 5, 6]]\n",
    "\n",
    "print(\"=\" * 60)\n",
    "print(\"ID of each element in L1 and its nested list\")\n",
    "print(\"=\" * 60)\n",
    "\n",
    "# Outer list\n",
    "print(f\"L1               -> id = {id(L1)}\")\n",
    "print(\"=\" * 50)\n",
    "\n",
    "# Top-level elements\n",
    "for i in range(len(L1)):\n",
    "    print(f\"L1[{i}]          -> id = {id(L1[i])}  | value = {L1[i]}\")\n",
    "\n",
    "print(\"=\" * 50)\n",
    "\n",
    "# If L1[3] is a list, print its contents\n",
    "if isinstance(L1[3], list):\n",
    "    print(f\"\\nNested list L1[3] = {L1[3]} -> id = {id(L1[3])}\")\n",
    "    print(\"-\" * 50)\n",
    "    for j in range(len(L1[3])):\n",
    "        print(f\"L1[3][{j}]       -> id = {id(L1[3][j])}  | value = {L1[3][j]}\")\n",
    "    print(\"-\" * 50)"
   ]
  },
  {
   "cell_type": "code",
   "execution_count": 5,
   "metadata": {},
   "outputs": [
    {
     "name": "stdout",
     "output_type": "stream",
     "text": [
      "============================================================\n",
      "1. 3D List: [[[1, 2], [3, 4]], [[5, 6], [7, 8]]]\n",
      "============================================================\n",
      "[[[1, 2], [3, 4]], [[5, 6], [7, 8]]]\n",
      "\n",
      "three_d_list[0][0][0] = 1, id = 140706102462904\n",
      "three_d_list[0][0][1] = 2, id = 140706102462936\n",
      "three_d_list[0][1][0] = 3, id = 140706102462968\n",
      "three_d_list[0][1][1] = 4, id = 140706102463000\n",
      "three_d_list[1][0][0] = 5, id = 140706102463032\n",
      "three_d_list[1][0][1] = 6, id = 140706102463064\n",
      "three_d_list[1][1][0] = 7, id = 140706102463096\n",
      "three_d_list[1][1][1] = 8, id = 140706102463128\n",
      "\n",
      "============================================================\n",
      "2. Mixed-Type List: [1, True, 5.6, 5+6j, 'Hello']\n",
      "============================================================\n",
      "[1, True, 5.6, (5+6j), 'Hello']\n",
      "\n",
      "mixed_list[0] = 1, type = <class 'int'>, id = 140706102462904\n",
      "mixed_list[1] = True, type = <class 'bool'>, id = 140706101467152\n",
      "mixed_list[2] = 5.6, type = <class 'float'>, id = 2407154728208\n",
      "mixed_list[3] = (5+6j), type = <class 'complex'>, id = 2407196272400\n",
      "mixed_list[4] = Hello, type = <class 'str'>, id = 2407197589984\n",
      "\n",
      "============================================================\n",
      "3. String to List using list('Hello bequty')\n",
      "============================================================\n",
      "['H', 'e', 'l', 'l', 'o', ' ', 'b', 'e', 'q', 'u', 't', 'y']\n",
      "\n",
      "str_list[0] = 'H', id = 140706102524304\n",
      "str_list[1] = 'e', id = 140706102525696\n",
      "str_list[2] = 'l', id = 140706102526032\n",
      "str_list[3] = 'l', id = 140706102526032\n",
      "str_list[4] = 'o', id = 140706102526176\n",
      "str_list[5] = ' ', id = 140706102522384\n",
      "str_list[6] = 'b', id = 140706102525552\n",
      "str_list[7] = 'e', id = 140706102525696\n",
      "str_list[8] = 'q', id = 140706102526272\n",
      "str_list[9] = 'u', id = 140706102526464\n",
      "str_list[10] = 't', id = 140706102526416\n",
      "str_list[11] = 'y', id = 140706102526656\n"
     ]
    }
   ],
   "source": [
    "# 1. 3D List Example\n",
    "three_d_list = [[[1, 2], [3, 4]], [[5, 6], [7, 8]]]\n",
    "print(\"=\" * 60)\n",
    "print(\"1. 3D List: [[[1, 2], [3, 4]], [[5, 6], [7, 8]]]\")\n",
    "print(\"=\" * 60)\n",
    "print(three_d_list)\n",
    "print()\n",
    "\n",
    "# Printing individual elements with id()\n",
    "for i in range(len(three_d_list)):\n",
    "    for j in range(len(three_d_list[i])):\n",
    "        for k in range(len(three_d_list[i][j])):\n",
    "            val = three_d_list[i][j][k]\n",
    "            print(f\"three_d_list[{i}][{j}][{k}] = {val}, id = {id(val)}\")\n",
    "print()\n",
    "\n",
    "# 2. Mixed-Type List\n",
    "mixed_list = [1, True, 5.6, 5+6j, 'Hello']\n",
    "print(\"=\" * 60)\n",
    "print(\"2. Mixed-Type List: [1, True, 5.6, 5+6j, 'Hello']\")\n",
    "print(\"=\" * 60)\n",
    "print(mixed_list)\n",
    "print()\n",
    "\n",
    "# Print value, type, and id\n",
    "for i, val in enumerate(mixed_list):\n",
    "    print(f\"mixed_list[{i}] = {val}, type = {type(val)}, id = {id(val)}\")\n",
    "print()\n",
    "\n",
    "# 3. String to List\n",
    "str_list = list(\"Hello bequty\")\n",
    "print(\"=\" * 60)\n",
    "print(\"3. String to List using list('Hello bequty')\")\n",
    "print(\"=\" * 60)\n",
    "print(str_list)\n",
    "print()\n",
    "\n",
    "# Print each character with index and id\n",
    "for i, char in enumerate(str_list):\n",
    "    print(f\"str_list[{i}] = '{char}', id = {id(char)}\")\n"
   ]
  },
  {
   "cell_type": "markdown",
   "metadata": {},
   "source": [
    "## Accessing Items from a List"
   ]
  },
  {
   "cell_type": "code",
   "execution_count": 3,
   "metadata": {},
   "outputs": [
    {
     "name": "stdout",
     "output_type": "stream",
     "text": [
      "6\n",
      "4\n",
      "2\n",
      "5\n",
      "[[[5, 6], [7, 8]], [[1, 2], [3, 4]]]\n",
      "[6, 5, 4, 3, 2, 1]\n"
     ]
    }
   ],
   "source": [
    "L = [[[1,2],[3,4]],[[5,6],[7,8]]]\n",
    "print(L[1][0][1])\n",
    "print(L[0][1][1])\n",
    "print(L[0][0][1])\n",
    "print(L[1][0][0])\n",
    "print(L[::-1])\n",
    "L = [1,2,3,4,5,6]\n",
    "print(L[::-1])"
   ]
  },
  {
   "cell_type": "markdown",
   "metadata": {},
   "source": [
    "## Adding Items to a List"
   ]
  },
  {
   "cell_type": "code",
   "execution_count": null,
   "metadata": {},
   "outputs": [
    {
     "name": "stdout",
     "output_type": "stream",
     "text": [
      "[1, 2, 3, 4, 5, True, 'milo']\n"
     ]
    }
   ],
   "source": [
    "L = [1,2,3,4]\n",
    "L.append(5)\n",
    "L.append(True)\n",
    "L.append(\"milo\")\n",
    "print(L) # [1, 2, 3, 4, 5, True, 'milo']"
   ]
  },
  {
   "cell_type": "code",
   "execution_count": 11,
   "metadata": {},
   "outputs": [
    {
     "name": "stdout",
     "output_type": "stream",
     "text": [
      "[1, 2, 3, 4, 5, 6, 7, 8]\n"
     ]
    }
   ],
   "source": [
    "L = [1,2,3,4]\n",
    "L.extend([5,6,7,8])\n",
    "print(L)"
   ]
  },
  {
   "cell_type": "code",
   "execution_count": 6,
   "metadata": {},
   "outputs": [
    {
     "name": "stdout",
     "output_type": "stream",
     "text": [
      "[1, 2, 3, 4, 'jupyter']\n"
     ]
    }
   ],
   "source": [
    "L = [1,2,3,4]\n",
    "L.extend(['jupyter'])\n",
    "print(L)"
   ]
  },
  {
   "cell_type": "code",
   "execution_count": 7,
   "metadata": {},
   "outputs": [
    {
     "name": "stdout",
     "output_type": "stream",
     "text": [
      "[1, 2, 3, 4, 'j', 'u', 'p', 'y', 't', 'e', 'r']\n"
     ]
    }
   ],
   "source": [
    "L = [1,2,3,4]\n",
    "L.extend('jupyter')\n",
    "print(L)"
   ]
  },
  {
   "cell_type": "code",
   "execution_count": 13,
   "metadata": {},
   "outputs": [
    {
     "name": "stdout",
     "output_type": "stream",
     "text": [
      "[1, 2, 5, 3, 4]\n"
     ]
    }
   ],
   "source": [
    "L = [1,2,3,4]\n",
    "L.insert(2,5)\n",
    "print(L)"
   ]
  },
  {
   "cell_type": "markdown",
   "metadata": {},
   "source": [
    "# Editing items in a List"
   ]
  },
  {
   "cell_type": "code",
   "execution_count": 13,
   "metadata": {},
   "outputs": [
    {
     "name": "stdout",
     "output_type": "stream",
     "text": [
      "[1, 2, 3, 4, 5]\n",
      "[1, 2, 3, 4, 6]\n",
      "[1, 'first', 'second', 'third', 'forth']\n",
      "[1, 'first', 'second', 'third']\n"
     ]
    }
   ],
   "source": [
    "L = [1,2,3,4,5]\n",
    "print(L)\n",
    "L[-1] = 6\n",
    "print(L)\n",
    "L[1:5] = ['first','second','third','forth']\n",
    "print(L)\n",
    "print(L[:-1])"
   ]
  },
  {
   "cell_type": "markdown",
   "metadata": {},
   "source": [
    "## Deleting items from a List"
   ]
  },
  {
   "cell_type": "code",
   "execution_count": 17,
   "metadata": {},
   "outputs": [
    {
     "name": "stdout",
     "output_type": "stream",
     "text": [
      "[1, 4]\n"
     ]
    }
   ],
   "source": [
    "L = [1,2,3,4,5]\n",
    "del L[-1]\n",
    "del L[1:3]\n",
    "print(L)"
   ]
  },
  {
   "cell_type": "code",
   "execution_count": 18,
   "metadata": {},
   "outputs": [
    {
     "name": "stdout",
     "output_type": "stream",
     "text": [
      "[1, 2, 3, 4]\n"
     ]
    }
   ],
   "source": [
    "L = [1,2,3,4,5]\n",
    "L.pop()\n",
    "print(L)"
   ]
  },
  {
   "cell_type": "code",
   "execution_count": 19,
   "metadata": {},
   "outputs": [
    {
     "name": "stdout",
     "output_type": "stream",
     "text": [
      "[]\n"
     ]
    }
   ],
   "source": [
    "L = [1,2,3,4,5]\n",
    "L.clear()\n",
    "print(L)"
   ]
  },
  {
   "cell_type": "markdown",
   "metadata": {},
   "source": [
    "## Operations on Lists\n",
    "\n",
    "- Arithmetic\n",
    "- Membership\n",
    "- Loop"
   ]
  },
  {
   "cell_type": "code",
   "execution_count": 20,
   "metadata": {},
   "outputs": [
    {
     "name": "stdout",
     "output_type": "stream",
     "text": [
      "[1, 2, 3, 3, 4, 5, 3, 4, 4, 5, 6, 7, 7]\n"
     ]
    }
   ],
   "source": [
    "L1 = [1,2,3,3,4,5]\n",
    "L2 = [3,4,4,5,6,7,7]\n",
    "print(L1+L2)"
   ]
  },
  {
   "cell_type": "code",
   "execution_count": 21,
   "metadata": {},
   "outputs": [
    {
     "name": "stdout",
     "output_type": "stream",
     "text": [
      "[1, 2, 3, 3, 4, 5, 1, 2, 3, 3, 4, 5, 1, 2, 3, 3, 4, 5]\n"
     ]
    }
   ],
   "source": [
    "print(L1*3)"
   ]
  },
  {
   "cell_type": "code",
   "execution_count": 22,
   "metadata": {},
   "outputs": [
    {
     "name": "stdout",
     "output_type": "stream",
     "text": [
      "False\n",
      "True\n"
     ]
    }
   ],
   "source": [
    "L1 = [1,2,3,5,4,8]\n",
    "L2 = [1,2,3,4,[5,6]]\n",
    "print(5 not in L1)\n",
    "print([5,6] in L2)\n"
   ]
  },
  {
   "cell_type": "code",
   "execution_count": 14,
   "metadata": {},
   "outputs": [
    {
     "name": "stdout",
     "output_type": "stream",
     "text": [
      "[[[[1, 3, 4, True]], ['radis', 5, 6]], [1, 2, 3, False]]\n",
      "[7, 8, 9, 1]\n"
     ]
    }
   ],
   "source": [
    "L1 = [1,2,3,4,5,6]\n",
    "L2 = [2,3,1,0,6,7]\n",
    "L3 = [[[[1,3,4,True]],['radis',5,6]],[1,2,3,False]],[7,8,9,1]\n",
    "for i in L3:\n",
    "    print(i)"
   ]
  },
  {
   "cell_type": "markdown",
   "metadata": {},
   "source": [
    "## List Functions"
   ]
  },
  {
   "cell_type": "code",
   "execution_count": 13,
   "metadata": {},
   "outputs": [
    {
     "name": "stdout",
     "output_type": "stream",
     "text": [
      "2407197522432\n",
      "6\n",
      "0\n",
      "5\n",
      "15\n",
      "2.5\n",
      "2407196364608\n",
      "2407197560512\n"
     ]
    }
   ],
   "source": [
    "L = [2,1,3,4,5,0]\n",
    "print(id(L))\n",
    "print(len(L))\n",
    "print(min(L))\n",
    "print(max(L))   \n",
    "print(sum(L))\n",
    "print(sum(L)/len(L))\n",
    "print(id(sorted(L)))\n",
    "print(id(sorted(L,reverse=True)))"
   ]
  },
  {
   "cell_type": "code",
   "execution_count": 15,
   "metadata": {},
   "outputs": [
    {
     "data": {
      "text/plain": [
       "0"
      ]
     },
     "execution_count": 15,
     "metadata": {},
     "output_type": "execute_result"
    }
   ],
   "source": [
    "L = [11,2,4,5,0]\n",
    "L.count(1)\n",
    "L.count(41)"
   ]
  },
  {
   "cell_type": "code",
   "execution_count": 5,
   "metadata": {},
   "outputs": [
    {
     "name": "stdout",
     "output_type": "stream",
     "text": [
      "--------------------------------------------------------------------------------------------------------------------------------------------\n",
      "2736857897024\n",
      "--------------------------------------------------------------------------------------------------------------------------------------------\n",
      "2736857897024\n",
      "--------------------------------------------------------------------------------------------------------------------------------------------\n",
      "[8, 7, 5, 4, 2, 1, 2]\n",
      "--------------------------------------------------------------------------------------------------------------------------------------------\n"
     ]
    }
   ],
   "source": [
    "L = [2,1,2,4,5,7,8]\n",
    "print('--'*70)\n",
    "print(id(L))\n",
    "print('--'*70)\n",
    "L.reverse()\n",
    "print(id(L))\n",
    "print('--'*70)\n",
    "print(L)\n",
    "print('--'*70)"
   ]
  },
  {
   "cell_type": "code",
   "execution_count": 16,
   "metadata": {},
   "outputs": [
    {
     "name": "stdout",
     "output_type": "stream",
     "text": [
      "[2, 1, 2, 3, 4, 5, 8]\n",
      "[1, 2, 2, 3, 4, 5, 8]\n",
      "[2, 1, 2, 3, 4, 5, 8]\n",
      "[1, 2, 2, 3, 4, 5, 8]\n"
     ]
    }
   ],
   "source": [
    "L = [2, 1, 2, 3, 4, 5, 8]\n",
    "\n",
    "print(L)           # [2, 1, 2, 3, 4, 5, 8]\n",
    "print(sorted(L))   # [1, 2, 2, 3, 4, 5, 8] - returns a new sorted list\n",
    "print(L)           # [2, 1, 2, 3, 4, 5, 8] - original list unchanged\n",
    "\n",
    "L.sort()           # modifies L in place\n",
    "print(L)           # [1, 2, 2, 3, 4, 5, 8]\n"
   ]
  },
  {
   "cell_type": "code",
   "execution_count": null,
   "metadata": {},
   "outputs": [
    {
     "name": "stdout",
     "output_type": "stream",
     "text": [
      "Original List: [1, 2, [99, 4]]\n",
      "Shallow Copy: [1, 2, [99, 4]]\n"
     ]
    }
   ],
   "source": [
    "import copy\n",
    "\n",
    "# Original list with nested list\n",
    "original_list = [1, 2, [3, 4]]\n",
    "\n",
    "# Shallow copy using copy() method\n",
    "shallow_copy = copy.copy(original_list)\n",
    "\n",
    "# Modify the nested list\n",
    "shallow_copy[2][0] = 99\n",
    "\n",
    "print(\"Original List:\", original_list)   # Output: [1, 2, [99, 4]]\n",
    "print(\"Shallow Copy:\", shallow_copy)     # Output: [1, 2, [99, 4]]"
   ]
  },
  {
   "cell_type": "code",
   "execution_count": 6,
   "metadata": {},
   "outputs": [
    {
     "name": "stdout",
     "output_type": "stream",
     "text": [
      "Original List:   [1, 2, [100, 4]]\n",
      "Shallow Copy:    [99, 2, [100, 4]]\n",
      "Deep Copy:       [1, 88, [3, 200]]\n"
     ]
    }
   ],
   "source": [
    "import copy\n",
    "\n",
    "# Original list with a nested list\n",
    "original_list = [1, 2, [3, 4]]\n",
    "\n",
    "# Make a shallow copy\n",
    "shallow_copy = copy.copy(original_list)\n",
    "\n",
    "# Make a deep copy\n",
    "deep_copy = copy.deepcopy(original_list)\n",
    "\n",
    "# Modify a non-nested item in the shallow and deep copies\n",
    "shallow_copy[0] = 99\n",
    "deep_copy[1] = 88\n",
    "\n",
    "# Modify a nested item in the shallow and deep copies\n",
    "shallow_copy[2][0] = 100\n",
    "deep_copy[2][1] = 200\n",
    "\n",
    "# Print all lists to observe the differences\n",
    "print(\"Original List:  \", original_list)   # Expect [1, 2, [100, 4]]\n",
    "print(\"Shallow Copy:   \", shallow_copy)    # Expect [99, 2, [100, 4]]\n",
    "print(\"Deep Copy:      \", deep_copy)       # Expect [1, 88, [3, 200]]\n"
   ]
  },
  {
   "cell_type": "code",
   "execution_count": 36,
   "metadata": {},
   "outputs": [
    {
     "name": "stdout",
     "output_type": "stream",
     "text": [
      "Original: [1, 2, [99, 4]]\n",
      "Shallow Copy: [1, 2, [99, 4]]\n",
      "Deep Copy: [1, 2, [42, 4]]\n"
     ]
    }
   ],
   "source": [
    "import copy\n",
    "\n",
    "original = [1, 2, [3, 4]]\n",
    "\n",
    "# Shallow Copy\n",
    "shallow_copy = copy.copy(original)\n",
    "shallow_copy[2][0] = 99  # Modify nested list\n",
    "\n",
    "# Deep Copy\n",
    "deep_copy = copy.deepcopy(original)\n",
    "deep_copy[2][0] = 42  # Modify nested list\n",
    "\n",
    "print(\"Original:\", original)       # Output: [1, 2, [99, 4]]\n",
    "print(\"Shallow Copy:\", shallow_copy)  # Output: [1, 2, [99, 4]]\n",
    "print(\"Deep Copy:\", deep_copy)     # Output: [1, 2, [42, 4]]\n"
   ]
  },
  {
   "cell_type": "code",
   "execution_count": 17,
   "metadata": {},
   "outputs": [
    {
     "name": "stdout",
     "output_type": "stream",
     "text": [
      "Original: [100, 2, 3]\n",
      "Shallow: [1, 2, 3]\n",
      "Deep: [1, 2, 3]\n"
     ]
    }
   ],
   "source": [
    "import copy\n",
    "\n",
    "original = [1, 2, 3]\n",
    "\n",
    "shallow = copy.copy(original)\n",
    "deep = copy.deepcopy(original)\n",
    "\n",
    "original[0] = 100\n",
    "\n",
    "print(\"Original:\", original)  # [100, 2, 3]\n",
    "print(\"Shallow:\", shallow)    # [1, 2, 3]\n",
    "print(\"Deep:\", deep)          # [1, 2, 3]\n"
   ]
  },
  {
   "cell_type": "code",
   "execution_count": 18,
   "metadata": {},
   "outputs": [
    {
     "name": "stdout",
     "output_type": "stream",
     "text": [
      "Original: [[99, 2], [3, 4]]\n",
      "Shallow: [[99, 2], [3, 4]]\n",
      "Deep: [[1, 2], [3, 4]]\n"
     ]
    }
   ],
   "source": [
    "import copy\n",
    "\n",
    "original = [[1, 2], [3, 4]]\n",
    "\n",
    "shallow = copy.copy(original)\n",
    "deep = copy.deepcopy(original)\n",
    "\n",
    "original[0][0] = 99\n",
    "\n",
    "print(\"Original:\", original)  # [[99, 2], [3, 4]]\n",
    "print(\"Shallow:\", shallow)    # [[99, 2], [3, 4]]  ❌ changed!\n",
    "print(\"Deep:\", deep)          # [[1, 2], [3, 4]]   ✅ safe\n"
   ]
  },
  {
   "cell_type": "markdown",
   "metadata": {},
   "source": [
    "## List Comprehension\n",
    "\n",
    "List Comprehension provides a concise way of creating lists.\n",
    "\n",
    "newlist = [expression for item in iterable if condition == True]![image.png](data:image/png;base64,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)\n",
    "\n",
    "Advantages of List Comprehension\n",
    "- More time-efficient and space-efficient than loops.\n",
    "- Require fewer lines of code.\n",
    "- Transforms iterative statement into a formula."
   ]
  },
  {
   "cell_type": "code",
   "execution_count": 37,
   "metadata": {},
   "outputs": [
    {
     "name": "stdout",
     "output_type": "stream",
     "text": [
      "[1, 4, 9, 16, 25, 36, 49, 64, 81, 100]\n"
     ]
    }
   ],
   "source": [
    "L = []\n",
    "for i in range(1,11):\n",
    "    L.append(i * i)\n",
    "print(L)"
   ]
  },
  {
   "cell_type": "code",
   "execution_count": 40,
   "metadata": {},
   "outputs": [
    {
     "name": "stdout",
     "output_type": "stream",
     "text": [
      "[11, 22, 33, 44, 55, 66, 77, 88, 99, 110]\n"
     ]
    }
   ],
   "source": [
    "L = [ i*11 for i in range(1,11)]\n",
    "print(L)"
   ]
  },
  {
   "cell_type": "code",
   "execution_count": 41,
   "metadata": {},
   "outputs": [
    {
     "data": {
      "text/plain": [
       "[-18, -27, -36, -54, -63, -72]"
      ]
     },
     "execution_count": 41,
     "metadata": {},
     "output_type": "execute_result"
    }
   ],
   "source": [
    "v = [2,3,4,6,7,8]\n",
    "s = -9\n",
    "[s*i for i in v]"
   ]
  },
  {
   "cell_type": "code",
   "execution_count": 42,
   "metadata": {},
   "outputs": [
    {
     "data": {
      "text/plain": [
       "[2,\n",
       " 4,\n",
       " 6,\n",
       " 8,\n",
       " 10,\n",
       " 12,\n",
       " 14,\n",
       " 16,\n",
       " 18,\n",
       " 20,\n",
       " 22,\n",
       " 24,\n",
       " 26,\n",
       " 28,\n",
       " 30,\n",
       " 32,\n",
       " 34,\n",
       " 36,\n",
       " 38,\n",
       " 40,\n",
       " 42,\n",
       " 44,\n",
       " 46,\n",
       " 48,\n",
       " 50]"
      ]
     },
     "execution_count": 42,
     "metadata": {},
     "output_type": "execute_result"
    }
   ],
   "source": [
    "[ i for i in range(1,51) if i % 2 ==0]"
   ]
  },
  {
   "cell_type": "code",
   "execution_count": 43,
   "metadata": {},
   "outputs": [
    {
     "data": {
      "text/plain": [
       "['java', 'js']"
      ]
     },
     "execution_count": 43,
     "metadata": {},
     "output_type": "execute_result"
    }
   ],
   "source": [
    "languages = ['java','php','js','go','ruby','scala','dart','py']\n",
    "\n",
    "[language for language in languages if language.startswith('j')]"
   ]
  },
  {
   "cell_type": "code",
   "execution_count": 45,
   "metadata": {},
   "outputs": [
    {
     "data": {
      "text/plain": [
       "['apples']"
      ]
     },
     "execution_count": 45,
     "metadata": {},
     "output_type": "execute_result"
    }
   ],
   "source": [
    "basket = ['apples','guava','cherry','banaba']\n",
    "bigbasket = ['apples','kiwi','black almond','grapes','banaba','custard apple']\n",
    "\n",
    "[fruits for fruits in bigbasket if fruits in basket if fruits.startswith('a')]"
   ]
  },
  {
   "cell_type": "code",
   "execution_count": 46,
   "metadata": {},
   "outputs": [
    {
     "data": {
      "text/plain": [
       "[[1, 2, 3], [2, 4, 6], [3, 6, 9]]"
      ]
     },
     "execution_count": 46,
     "metadata": {},
     "output_type": "execute_result"
    }
   ],
   "source": [
    "[[i*j for i in range(1,4)] for j in range(1,4)]"
   ]
  },
  {
   "cell_type": "code",
   "execution_count": 47,
   "metadata": {},
   "outputs": [
    {
     "data": {
      "text/plain": [
       "[5, 6, 7, 8, 10, 12, 14, 16, 15, 18, 21, 24, 20, 24, 28, 32, 25, 30, 35, 40]"
      ]
     },
     "execution_count": 47,
     "metadata": {},
     "output_type": "execute_result"
    }
   ],
   "source": [
    "L1 = [1,2,3,4,5]\n",
    "L2 = [5,6,7,8]\n",
    "\n",
    "[i*j for i in L1 for j in L2]"
   ]
  },
  {
   "cell_type": "markdown",
   "metadata": {},
   "source": [
    "## 2 ways to traverse a list\n",
    "\n",
    "- itemwise\n",
    "- indexwise"
   ]
  },
  {
   "cell_type": "code",
   "execution_count": 50,
   "metadata": {},
   "outputs": [
    {
     "name": "stdout",
     "output_type": "stream",
     "text": [
      "1\n",
      "2\n",
      "3\n",
      "4\n"
     ]
    }
   ],
   "source": [
    "L = [1,2,3,4]\n",
    "for i in L:\n",
    "    print(i)"
   ]
  },
  {
   "cell_type": "code",
   "execution_count": 52,
   "metadata": {},
   "outputs": [
    {
     "name": "stdout",
     "output_type": "stream",
     "text": [
      "1\n",
      "2\n",
      "3\n",
      "4\n"
     ]
    }
   ],
   "source": [
    "L = [1,2,3,4]\n",
    "for i in range(0,len(L)):\n",
    "    print(L[i])"
   ]
  },
  {
   "cell_type": "markdown",
   "metadata": {},
   "source": [
    "## Zip\n",
    "\n",
    "The zip() function returns a zip object, which is an iterator of tuples where the first item in each passed iterator is paired together, and then the second item in each passed iterator are paired together.\n",
    "\n",
    "If the passed iterators have different lengths, the iterator with the least items decides the length of the new iterator."
   ]
  },
  {
   "cell_type": "code",
   "execution_count": null,
   "metadata": {},
   "outputs": [
    {
     "data": {
      "text/plain": [
       "[6, 8, 10, 12]"
      ]
     },
     "execution_count": 14,
     "metadata": {},
     "output_type": "execute_result"
    }
   ],
   "source": [
    "L1 = [1,2,3,4]\n",
    "L2 = [5,6,7,8]\n",
    "\n",
    "[i+j for i,j in zip(L1,L2)]"
   ]
  },
  {
   "cell_type": "code",
   "execution_count": 58,
   "metadata": {},
   "outputs": [
    {
     "name": "stdout",
     "output_type": "stream",
     "text": [
      "[1, 2, 3, <class 'type'>, <bound method Kernel.raw_input of <ipykernel.ipkernel.IPythonKernel object at 0x0000024A9B9B5A90>>]\n"
     ]
    }
   ],
   "source": [
    "L = [1,2,3,type,input]\n",
    "print(L)"
   ]
  },
  {
   "cell_type": "markdown",
   "metadata": {},
   "source": [
    "## Disadvantages of Python Lists\n",
    "\n",
    "- Slow\n",
    "- Risky usage\n",
    "- eats up more memory"
   ]
  },
  {
   "cell_type": "code",
   "execution_count": 59,
   "metadata": {},
   "outputs": [
    {
     "name": "stdout",
     "output_type": "stream",
     "text": [
      "[1, 2, 3]\n",
      "[1, 2, 3]\n",
      "[1, 2, 3, 4]\n",
      "[1, 2, 3]\n"
     ]
    }
   ],
   "source": [
    "a = [1,2,3]\n",
    "b = a.copy()\n",
    "\n",
    "print(a)\n",
    "print(b)\n",
    "\n",
    "a.append(4)\n",
    "\n",
    "print(a)\n",
    "print(b)"
   ]
  },
  {
   "cell_type": "code",
   "execution_count": null,
   "metadata": {},
   "outputs": [
    {
     "name": "stdout",
     "output_type": "stream",
     "text": [
      "Odd numbers: [1, 3, 5]\n",
      "Even numbers: [2, 4, 6]\n"
     ]
    }
   ],
   "source": [
    "### Create 2 lists from a given list where \n",
    "### 1st list will contain all the odd numbers from the original list and\n",
    "### the 2nd one will contain all the even numbers \n",
    "\n",
    "L = [1,2,3,4,5,6]\n",
    "# Creating empty lists to store odd and even numbers\n",
    "odd_list = []\n",
    "even_list = []\n",
    "# Iterating through original list and separating odd/even numbers\n",
    "for num in L:\n",
    "    if num % 2 == 0:\n",
    "        even_list.append(num)\n",
    "    else:\n",
    "        odd_list.append(num)\n",
    "\n",
    "# Print results\n",
    "print(\"Odd numbers:\", odd_list)\n",
    "print(\"Even numbers:\", even_list)"
   ]
  },
  {
   "cell_type": "code",
   "execution_count": 1,
   "metadata": {},
   "outputs": [
    {
     "name": "stdout",
     "output_type": "stream",
     "text": [
      "['1', '2', '3', '4']\n"
     ]
    }
   ],
   "source": [
    "L = []\n",
    "n = int(input('Enter the number of elements of the list: '))\n",
    "for i in range(n):\n",
    "    ip = input('Enter the input of list: ')\n",
    "    L.append(ip)\n",
    "print(L)"
   ]
  },
  {
   "cell_type": "code",
   "execution_count": 2,
   "metadata": {},
   "outputs": [
    {
     "name": "stdout",
     "output_type": "stream",
     "text": [
      "[1, 2, 3, 4, 5, 6, 7, 8]\n"
     ]
    }
   ],
   "source": [
    "L1 = [1, 2, 3, 4]\n",
    "L2 = [5, 6, 7, 8]\n",
    "\n",
    "# Merge lists without using the + operator\n",
    "for element in L2:\n",
    "    L1.append(element)\n",
    "\n",
    "print(L1)  # Output: [1, 2, 3, 4, 5, 6, 7, 8]"
   ]
  },
  {
   "cell_type": "code",
   "execution_count": 3,
   "metadata": {},
   "outputs": [
    {
     "name": "stdout",
     "output_type": "stream",
     "text": [
      "[1, 2, 99, 4, 5, 99]\n"
     ]
    }
   ],
   "source": [
    "def replace_item(lst, old_value, new_value):\n",
    "    return [new_value if item == old_value else item for item in lst]\n",
    "\n",
    "# Example list\n",
    "L = [1, 2, 3, 4, 5, 3]\n",
    "\n",
    "# Replace 3 with 99\n",
    "L = replace_item(L, 3, 99)\n",
    "\n",
    "print(L)  # Output: [1, 2, 99, 4, 5, 99]\n",
    "\n"
   ]
  },
  {
   "cell_type": "markdown",
   "metadata": {},
   "source": [
    "| Use Case          | Syntax                                   | Purpose               |\n",
    "| ----------------- | ---------------------------------------- | --------------------- |\n",
    "| Value replacement | `[new if cond else old for item in lst]` | Change values         |\n",
    "| Value filtering   | `[item for item in lst if cond]`         | Keep only some values |\n"
   ]
  },
  {
   "cell_type": "code",
   "execution_count": 4,
   "metadata": {},
   "outputs": [
    {
     "name": "stdout",
     "output_type": "stream",
     "text": [
      "[1, 2, 3, 4, 5, 6, 7, 8]\n"
     ]
    }
   ],
   "source": [
    "def flatten_2d_list(two_d_list):\n",
    "    return [item for sublist in two_d_list for item in sublist]\n",
    "\n",
    "# Example 2D list\n",
    "two_d_list = [[1, 2, 3], [4, 5], [6, 7, 8]]\n",
    "\n",
    "# Convert to 1D list\n",
    "one_d_list = flatten_2d_list(two_d_list)\n",
    "\n",
    "print(one_d_list)  # Output: [1, 2, 3, 4, 5, 6, 7, 8]\n"
   ]
  },
  {
   "cell_type": "code",
   "execution_count": 5,
   "metadata": {},
   "outputs": [
    {
     "name": "stdout",
     "output_type": "stream",
     "text": [
      "[1, 2, 3, 4, 5]\n"
     ]
    }
   ],
   "source": [
    "def remove_duplicates(lst):\n",
    "    unique_list = []\n",
    "    for item in lst:\n",
    "        if item not in unique_list:\n",
    "            unique_list.append(item)\n",
    "    return unique_list\n",
    "\n",
    "L = [1, 2, 1, 2, 3, 4, 5, 3, 4]\n",
    "L = remove_duplicates(L)\n",
    "\n",
    "print(L)  # Output: [1, 2, 3, 4, 5]\n"
   ]
  },
  {
   "cell_type": "code",
   "execution_count": 6,
   "metadata": {},
   "outputs": [
    {
     "name": "stdout",
     "output_type": "stream",
     "text": [
      "True\n",
      "False\n"
     ]
    }
   ],
   "source": [
    "def is_ascending(lst):\n",
    "    for i in range(len(lst) - 1):\n",
    "        if lst[i] > lst[i+1]:\n",
    "            return False\n",
    "    return True\n",
    "\n",
    "# Example usage\n",
    "L1 = [1, 2, 3, 4, 5]\n",
    "L2 = [1, 3, 2, 4, 5]\n",
    "\n",
    "print(is_ascending(L1))  # Output: True\n",
    "print(is_ascending(L2))  # Output: False\n"
   ]
  }
 ],
 "metadata": {
  "kernelspec": {
   "display_name": "Python 3",
   "language": "python",
   "name": "python3"
  },
  "language_info": {
   "codemirror_mode": {
    "name": "ipython",
    "version": 3
   },
   "file_extension": ".py",
   "mimetype": "text/x-python",
   "name": "python",
   "nbconvert_exporter": "python",
   "pygments_lexer": "ipython3",
   "version": "3.13.5"
  }
 },
 "nbformat": 4,
 "nbformat_minor": 2
}
