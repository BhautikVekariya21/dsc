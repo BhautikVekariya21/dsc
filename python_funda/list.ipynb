{
 "cells": [
  {
   "cell_type": "markdown",
   "metadata": {},
   "source": [
    "## 1. Lists\n",
    "\n",
    "- What are Lists?\n",
    "- Lists Vs Arrays\n",
    "- Characterstics of a List\n",
    "- How to create a list\n",
    "- Access items from a List\n",
    "- Editing items in a List\n",
    "- Deleting items from a List\n",
    "- Operations on Lists\n",
    "- Functions on Lists\n",
    "\n"
   ]
  },
  {
   "cell_type": "code",
   "execution_count": 2,
   "metadata": {},
   "outputs": [
    {
     "name": "stdout",
     "output_type": "stream",
     "text": [
      "2519483021568\n",
      "140703281906600\n",
      "140703281906632\n",
      "140703281906664\n",
      "2519483012864\n",
      "140703281906600\n",
      "140703281906600\n"
     ]
    }
   ],
   "source": [
    "L = [1,2,3]\n",
    "print(id(L))\n",
    "print(id(L[0]))\n",
    "print(id(L[1]))\n",
    "print(id(L[2]))\n",
    "L1 = [1,2,3,4,5,6,7,8,9,10]\n",
    "print(id(L1))\n",
    "print(id(L1[0]))\n",
    "print(id(1))"
   ]
  },
  {
   "cell_type": "markdown",
   "metadata": {},
   "source": [
    "## Characterstics of a List\n",
    "\n",
    "- Ordered\n",
    "- Changeble/Mutable\n",
    "- Hetrogeneous\n",
    "- Can have duplicates\n",
    "- are dynamic\n",
    "- can be nested\n",
    "- items can be accessed \n",
    "- can contain any kind of objects in python"
   ]
  },
  {
   "cell_type": "code",
   "execution_count": 4,
   "metadata": {},
   "outputs": [
    {
     "name": "stdout",
     "output_type": "stream",
     "text": [
      "[1, 2, 3]\n"
     ]
    },
    {
     "data": {
      "text/plain": [
       "False"
      ]
     },
     "execution_count": 4,
     "metadata": {},
     "output_type": "execute_result"
    }
   ],
   "source": [
    "L = [1,2,3,2]\n",
    "L = list(set(L))\n",
    "print(L)\n",
    "L1 = [3,2,1]\n",
    "\n",
    "L == L1"
   ]
  },
  {
   "cell_type": "markdown",
   "metadata": {},
   "source": [
    "## Creating a List\n"
   ]
  },
  {
   "cell_type": "code",
   "execution_count": 5,
   "metadata": {},
   "outputs": [
    {
     "name": "stdout",
     "output_type": "stream",
     "text": [
      "[]\n",
      "[1, 2, 3, 4, 5]\n",
      "[1, 2, 3, [4, 5, 6]]\n",
      "[[[1, 2], [3, 4]], [[5, 6], [7, 8]]]\n",
      "[1, True, 5.6, (5+6j), 'Hello']\n",
      "['H', 'e', 'l', 'l', 'o']\n"
     ]
    }
   ],
   "source": [
    "print([])\n",
    "print([1,2,3,4,5])\n",
    "print([1,2,3,[4,5,6]])\n",
    "print([[[1,2],[3,4]],[[5,6],[7,8]]])\n",
    "print([1,True,5.6,5+6j,'Hello'])\n",
    "print(list('Hello'))"
   ]
  },
  {
   "cell_type": "markdown",
   "metadata": {},
   "source": [
    "## Accessing Items from a List"
   ]
  },
  {
   "cell_type": "code",
   "execution_count": 9,
   "metadata": {},
   "outputs": [
    {
     "name": "stdout",
     "output_type": "stream",
     "text": [
      "6\n",
      "4\n",
      "2\n",
      "5\n",
      "[6, 5, 4, 3, 2, 1]\n"
     ]
    }
   ],
   "source": [
    "L = [[[1,2],[3,4]],[[5,6],[7,8]]]\n",
    "print(L[1][0][1])\n",
    "print(L[0][1][1])\n",
    "print(L[0][0][1])\n",
    "print(L[1][0][0])\n",
    "\n",
    "L = [1,2,3,4,5,6]\n",
    "print(L[::-1])"
   ]
  },
  {
   "cell_type": "markdown",
   "metadata": {},
   "source": [
    "## Adding Items to a List"
   ]
  },
  {
   "cell_type": "code",
   "execution_count": null,
   "metadata": {},
   "outputs": [
    {
     "name": "stdout",
     "output_type": "stream",
     "text": [
      "[1, 2, 3, 4, 5, True, 'milo']\n"
     ]
    }
   ],
   "source": [
    "L = [1,2,3,4]\n",
    "L.append(5)\n",
    "L.append(True)\n",
    "L.append(\"milo\")\n",
    "print(L) # [1, 2, 3, 4, 5, True, 'milo']"
   ]
  },
  {
   "cell_type": "code",
   "execution_count": 11,
   "metadata": {},
   "outputs": [
    {
     "name": "stdout",
     "output_type": "stream",
     "text": [
      "[1, 2, 3, 4, 5, 6, 7, 8]\n"
     ]
    }
   ],
   "source": [
    "L = [1,2,3,4]\n",
    "L.extend([5,6,7,8])\n",
    "print(L)"
   ]
  },
  {
   "cell_type": "code",
   "execution_count": 12,
   "metadata": {},
   "outputs": [
    {
     "name": "stdout",
     "output_type": "stream",
     "text": [
      "[1, 2, 3, 4, 'j', 'u', 'p', 'y', 't', 'e', 'r']\n"
     ]
    }
   ],
   "source": [
    "L = [1,2,3,4]\n",
    "L.extend('jupyter')\n",
    "print(L)"
   ]
  },
  {
   "cell_type": "code",
   "execution_count": 13,
   "metadata": {},
   "outputs": [
    {
     "name": "stdout",
     "output_type": "stream",
     "text": [
      "[1, 2, 5, 3, 4]\n"
     ]
    }
   ],
   "source": [
    "L = [1,2,3,4]\n",
    "L.insert(2,5)\n",
    "print(L)"
   ]
  },
  {
   "cell_type": "markdown",
   "metadata": {},
   "source": [
    "# Editing items in a List"
   ]
  },
  {
   "cell_type": "code",
   "execution_count": 16,
   "metadata": {},
   "outputs": [
    {
     "name": "stdout",
     "output_type": "stream",
     "text": [
      "[1, 'first', 'second', 'third', 'forth']\n"
     ]
    }
   ],
   "source": [
    "L = [1,2,3,4,5]\n",
    "L[-1] = 6\n",
    "L[1:5] = ['first','second','third','forth']\n",
    "print(L)"
   ]
  },
  {
   "cell_type": "markdown",
   "metadata": {},
   "source": [
    "## Deleting items from a List"
   ]
  },
  {
   "cell_type": "code",
   "execution_count": 17,
   "metadata": {},
   "outputs": [
    {
     "name": "stdout",
     "output_type": "stream",
     "text": [
      "[1, 4]\n"
     ]
    }
   ],
   "source": [
    "L = [1,2,3,4,5]\n",
    "del L[-1]\n",
    "del L[1:3]\n",
    "print(L)"
   ]
  },
  {
   "cell_type": "code",
   "execution_count": 18,
   "metadata": {},
   "outputs": [
    {
     "name": "stdout",
     "output_type": "stream",
     "text": [
      "[1, 2, 3, 4]\n"
     ]
    }
   ],
   "source": [
    "L = [1,2,3,4,5]\n",
    "L.pop()\n",
    "print(L)"
   ]
  },
  {
   "cell_type": "code",
   "execution_count": 19,
   "metadata": {},
   "outputs": [
    {
     "name": "stdout",
     "output_type": "stream",
     "text": [
      "[]\n"
     ]
    }
   ],
   "source": [
    "L = [1,2,3,4,5]\n",
    "L.clear()\n",
    "print(L)"
   ]
  },
  {
   "cell_type": "markdown",
   "metadata": {},
   "source": [
    "## Operations on Lists\n",
    "\n",
    "- Arithmetic\n",
    "- Membership\n",
    "- Loop"
   ]
  },
  {
   "cell_type": "code",
   "execution_count": 20,
   "metadata": {},
   "outputs": [
    {
     "name": "stdout",
     "output_type": "stream",
     "text": [
      "[1, 2, 3, 3, 4, 5, 3, 4, 4, 5, 6, 7, 7]\n"
     ]
    }
   ],
   "source": [
    "L1 = [1,2,3,3,4,5]\n",
    "L2 = [3,4,4,5,6,7,7]\n",
    "print(L1+L2)"
   ]
  },
  {
   "cell_type": "code",
   "execution_count": 21,
   "metadata": {},
   "outputs": [
    {
     "name": "stdout",
     "output_type": "stream",
     "text": [
      "[1, 2, 3, 3, 4, 5, 1, 2, 3, 3, 4, 5, 1, 2, 3, 3, 4, 5]\n"
     ]
    }
   ],
   "source": [
    "print(L1*3)"
   ]
  },
  {
   "cell_type": "code",
   "execution_count": 22,
   "metadata": {},
   "outputs": [
    {
     "name": "stdout",
     "output_type": "stream",
     "text": [
      "False\n",
      "True\n"
     ]
    }
   ],
   "source": [
    "L1 = [1,2,3,5,4,8]\n",
    "L2 = [1,2,3,4,[5,6]]\n",
    "print(5 not in L1)\n",
    "print([5,6] in L2)\n"
   ]
  },
  {
   "cell_type": "code",
   "execution_count": 26,
   "metadata": {},
   "outputs": [
    {
     "name": "stdout",
     "output_type": "stream",
     "text": [
      "[[[[1, 3, 4, True]], ['radis', 5, 6]], [1, 2, 3, False]]\n",
      "[7, 8, 9, 1]\n"
     ]
    }
   ],
   "source": [
    "L1 = [1,2,3,4,5,6]\n",
    "L2 = [2,3,1,0,6,7]\n",
    "L3 = [[[[1,3,4,True]],['radis',5,6]],[1,2,3,False]],[7,8,9,1]\n",
    "for i in L3:\n",
    "    print(i)"
   ]
  },
  {
   "cell_type": "markdown",
   "metadata": {},
   "source": [
    "## List Functions"
   ]
  },
  {
   "cell_type": "code",
   "execution_count": 27,
   "metadata": {},
   "outputs": [
    {
     "name": "stdout",
     "output_type": "stream",
     "text": [
      "6\n",
      "0\n",
      "5\n",
      "15\n",
      "2.5\n",
      "[0, 1, 2, 3, 4, 5]\n",
      "[5, 4, 3, 2, 1, 0]\n"
     ]
    }
   ],
   "source": [
    "L = [2,1,3,4,5,0]\n",
    "print(len(L))\n",
    "print(min(L))\n",
    "print(max(L))   \n",
    "print(sum(L))\n",
    "print(sum(L)/len(L))\n",
    "print(sorted(L))\n",
    "print(sorted(L,reverse=True))"
   ]
  },
  {
   "cell_type": "code",
   "execution_count": 30,
   "metadata": {},
   "outputs": [
    {
     "data": {
      "text/plain": [
       "0"
      ]
     },
     "execution_count": 30,
     "metadata": {},
     "output_type": "execute_result"
    }
   ],
   "source": [
    "L = [11,2,4,5,0]\n",
    "L.count(1)\n",
    "L.count(41)"
   ]
  },
  {
   "cell_type": "code",
   "execution_count": 32,
   "metadata": {},
   "outputs": [
    {
     "name": "stdout",
     "output_type": "stream",
     "text": [
      "[8, 7, 5, 4, 2, 1, 2]\n"
     ]
    }
   ],
   "source": [
    "L = [2,1,2,4,5,7,8]\n",
    "L.reverse()\n",
    "print(L)"
   ]
  },
  {
   "cell_type": "code",
   "execution_count": 33,
   "metadata": {},
   "outputs": [
    {
     "name": "stdout",
     "output_type": "stream",
     "text": [
      "[2, 1, 2, 3, 4, 5, 8]\n",
      "[1, 2, 2, 3, 4, 5, 8]\n",
      "[2, 1, 2, 3, 4, 5, 8]\n",
      "[1, 2, 2, 3, 4, 5, 8]\n"
     ]
    }
   ],
   "source": [
    "L = [2,1,2,3,4,5,8]\n",
    "print(L)\n",
    "print(sorted(L))\n",
    "print(L)\n",
    "L.sort()\n",
    "print(L)"
   ]
  },
  {
   "cell_type": "code",
   "execution_count": 34,
   "metadata": {},
   "outputs": [
    {
     "name": "stdout",
     "output_type": "stream",
     "text": [
      "Original List: [1, 2, [99, 4]]\n",
      "Shallow Copy: [1, 2, [99, 4]]\n"
     ]
    }
   ],
   "source": [
    "import copy\n",
    "\n",
    "# Original list with nested list\n",
    "original_list = [1, 2, [3, 4]]\n",
    "\n",
    "# Shallow copy using copy() method\n",
    "shallow_copy = copy.copy(original_list)\n",
    "\n",
    "# Modify the nested list\n",
    "shallow_copy[2][0] = 99\n",
    "\n",
    "print(\"Original List:\", original_list)   # Output: [1, 2, [99, 4]]\n",
    "print(\"Shallow Copy:\", shallow_copy)     # Output: [1, 2, [99, 4]]\n"
   ]
  },
  {
   "cell_type": "code",
   "execution_count": 35,
   "metadata": {},
   "outputs": [
    {
     "name": "stdout",
     "output_type": "stream",
     "text": [
      "Original List: [1, 2, [99, 4]]\n",
      "Deep Copy: [1, 2, [42, 4]]\n"
     ]
    }
   ],
   "source": [
    "# Deep copy using deepcopy()\n",
    "deep_copy = copy.deepcopy(original_list)\n",
    "\n",
    "# Modify the nested list\n",
    "deep_copy[2][0] = 42\n",
    "\n",
    "print(\"Original List:\", original_list)   # Output: [1, 2, [99, 4]]\n",
    "print(\"Deep Copy:\", deep_copy)           # Output: [1, 2, [42, 4]]\n"
   ]
  },
  {
   "cell_type": "code",
   "execution_count": 36,
   "metadata": {},
   "outputs": [
    {
     "name": "stdout",
     "output_type": "stream",
     "text": [
      "Original: [1, 2, [99, 4]]\n",
      "Shallow Copy: [1, 2, [99, 4]]\n",
      "Deep Copy: [1, 2, [42, 4]]\n"
     ]
    }
   ],
   "source": [
    "import copy\n",
    "\n",
    "original = [1, 2, [3, 4]]\n",
    "\n",
    "# Shallow Copy\n",
    "shallow_copy = copy.copy(original)\n",
    "shallow_copy[2][0] = 99  # Modify nested list\n",
    "\n",
    "# Deep Copy\n",
    "deep_copy = copy.deepcopy(original)\n",
    "deep_copy[2][0] = 42  # Modify nested list\n",
    "\n",
    "print(\"Original:\", original)       # Output: [1, 2, [99, 4]]\n",
    "print(\"Shallow Copy:\", shallow_copy)  # Output: [1, 2, [99, 4]]\n",
    "print(\"Deep Copy:\", deep_copy)     # Output: [1, 2, [42, 4]]\n"
   ]
  },
  {
   "cell_type": "markdown",
   "metadata": {},
   "source": [
    "## List Comprehension\n",
    "\n",
    "List Comprehension provides a concise way of creating lists.\n",
    "\n",
    "newlist = [expression for item in iterable if condition == True]![image.png](data:image/png;base64,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)\n",
    "\n",
    "Advantages of List Comprehension\n",
    "- More time-efficient and space-efficient than loops.\n",
    "- Require fewer lines of code.\n",
    "- Transforms iterative statement into a formula."
   ]
  },
  {
   "cell_type": "code",
   "execution_count": 37,
   "metadata": {},
   "outputs": [
    {
     "name": "stdout",
     "output_type": "stream",
     "text": [
      "[1, 4, 9, 16, 25, 36, 49, 64, 81, 100]\n"
     ]
    }
   ],
   "source": [
    "L = []\n",
    "for i in range(1,11):\n",
    "    L.append(i * i)\n",
    "print(L)"
   ]
  },
  {
   "cell_type": "code",
   "execution_count": 40,
   "metadata": {},
   "outputs": [
    {
     "name": "stdout",
     "output_type": "stream",
     "text": [
      "[11, 22, 33, 44, 55, 66, 77, 88, 99, 110]\n"
     ]
    }
   ],
   "source": [
    "L = [ i*11 for i in range(1,11)]\n",
    "print(L)"
   ]
  },
  {
   "cell_type": "code",
   "execution_count": 41,
   "metadata": {},
   "outputs": [
    {
     "data": {
      "text/plain": [
       "[-18, -27, -36, -54, -63, -72]"
      ]
     },
     "execution_count": 41,
     "metadata": {},
     "output_type": "execute_result"
    }
   ],
   "source": [
    "v = [2,3,4,6,7,8]\n",
    "s = -9\n",
    "[s*i for i in v]"
   ]
  },
  {
   "cell_type": "code",
   "execution_count": 42,
   "metadata": {},
   "outputs": [
    {
     "data": {
      "text/plain": [
       "[2,\n",
       " 4,\n",
       " 6,\n",
       " 8,\n",
       " 10,\n",
       " 12,\n",
       " 14,\n",
       " 16,\n",
       " 18,\n",
       " 20,\n",
       " 22,\n",
       " 24,\n",
       " 26,\n",
       " 28,\n",
       " 30,\n",
       " 32,\n",
       " 34,\n",
       " 36,\n",
       " 38,\n",
       " 40,\n",
       " 42,\n",
       " 44,\n",
       " 46,\n",
       " 48,\n",
       " 50]"
      ]
     },
     "execution_count": 42,
     "metadata": {},
     "output_type": "execute_result"
    }
   ],
   "source": [
    "[ i for i in range(1,51) if i % 2 ==0]"
   ]
  },
  {
   "cell_type": "code",
   "execution_count": 43,
   "metadata": {},
   "outputs": [
    {
     "data": {
      "text/plain": [
       "['java', 'js']"
      ]
     },
     "execution_count": 43,
     "metadata": {},
     "output_type": "execute_result"
    }
   ],
   "source": [
    "languages = ['java','php','js','go','ruby','scala','dart','py']\n",
    "\n",
    "[language for language in languages if language.startswith('j')]"
   ]
  },
  {
   "cell_type": "code",
   "execution_count": 45,
   "metadata": {},
   "outputs": [
    {
     "data": {
      "text/plain": [
       "['apples']"
      ]
     },
     "execution_count": 45,
     "metadata": {},
     "output_type": "execute_result"
    }
   ],
   "source": [
    "basket = ['apples','guava','cherry','banaba']\n",
    "bigbasket = ['apples','kiwi','black almond','grapes','banaba','custard apple']\n",
    "\n",
    "[fruits for fruits in bigbasket if fruits in basket if fruits.startswith('a')]"
   ]
  }
 ],
 "metadata": {
  "kernelspec": {
   "display_name": "Python 3",
   "language": "python",
   "name": "python3"
  },
  "language_info": {
   "codemirror_mode": {
    "name": "ipython",
    "version": 3
   },
   "file_extension": ".py",
   "mimetype": "text/x-python",
   "name": "python",
   "nbconvert_exporter": "python",
   "pygments_lexer": "ipython3",
   "version": "3.13.2"
  }
 },
 "nbformat": 4,
 "nbformat_minor": 2
}
