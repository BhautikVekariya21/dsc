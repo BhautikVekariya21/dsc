{
 "cells": [
  {
   "cell_type": "code",
   "execution_count": 1,
   "metadata": {},
   "outputs": [
    {
     "ename": "AttributeError",
     "evalue": "'list' object has no attribute 'upper'",
     "output_type": "error",
     "traceback": [
      "\u001b[1;31m---------------------------------------------------------------------------\u001b[0m",
      "\u001b[1;31mAttributeError\u001b[0m                            Traceback (most recent call last)",
      "Cell \u001b[1;32mIn[1], line 2\u001b[0m\n\u001b[0;32m      1\u001b[0m L \u001b[38;5;241m=\u001b[39m [\u001b[38;5;241m1\u001b[39m,\u001b[38;5;241m2\u001b[39m,\u001b[38;5;241m3\u001b[39m]\n\u001b[1;32m----> 2\u001b[0m \u001b[43mL\u001b[49m\u001b[38;5;241;43m.\u001b[39;49m\u001b[43mupper\u001b[49m()\n",
      "\u001b[1;31mAttributeError\u001b[0m: 'list' object has no attribute 'upper'"
     ]
    }
   ],
   "source": [
    "L = [1,2,3]\n",
    "L.upper()"
   ]
  },
  {
   "cell_type": "code",
   "execution_count": 2,
   "metadata": {},
   "outputs": [
    {
     "ename": "AttributeError",
     "evalue": "'str' object has no attribute 'append'",
     "output_type": "error",
     "traceback": [
      "\u001b[1;31m---------------------------------------------------------------------------\u001b[0m",
      "\u001b[1;31mAttributeError\u001b[0m                            Traceback (most recent call last)",
      "Cell \u001b[1;32mIn[2], line 2\u001b[0m\n\u001b[0;32m      1\u001b[0m s \u001b[38;5;241m=\u001b[39m \u001b[38;5;124m'\u001b[39m\u001b[38;5;124mhello\u001b[39m\u001b[38;5;124m'\u001b[39m\n\u001b[1;32m----> 2\u001b[0m \u001b[43ms\u001b[49m\u001b[38;5;241;43m.\u001b[39;49m\u001b[43mappend\u001b[49m(\u001b[38;5;124m'\u001b[39m\u001b[38;5;124mworld\u001b[39m\u001b[38;5;124m'\u001b[39m)\n",
      "\u001b[1;31mAttributeError\u001b[0m: 'str' object has no attribute 'append'"
     ]
    }
   ],
   "source": [
    "s = 'hello'\n",
    "s.append('world')"
   ]
  },
  {
   "cell_type": "code",
   "execution_count": 3,
   "metadata": {},
   "outputs": [
    {
     "name": "stdout",
     "output_type": "stream",
     "text": [
      "<class 'list'>\n"
     ]
    }
   ],
   "source": [
    "L = [1,2,3]\n",
    "print(type(L))"
   ]
  },
  {
   "cell_type": "code",
   "execution_count": 4,
   "metadata": {},
   "outputs": [
    {
     "data": {
      "text/plain": [
       "''"
      ]
     },
     "execution_count": 4,
     "metadata": {},
     "output_type": "execute_result"
    }
   ],
   "source": [
    "L = list()\n",
    "s = str()\n",
    "s"
   ]
  },
  {
   "cell_type": "code",
   "execution_count": 1,
   "metadata": {},
   "outputs": [],
   "source": [
    "class Atm:\n",
    "    def __init__(self):\n",
    "        print(id(self))\n",
    "        self.pin = ''\n",
    "        self.balance = 0\n",
    "        self.menu()\n",
    "    \n",
    "    def menu(self):\n",
    "        user_input = input(\"\"\"\n",
    "        Hi how can I help you?\n",
    "        1. Press 1 to create pin\n",
    "        2. Press 2 to change pin\n",
    "        3. Press 3 to credit balance\n",
    "        4. Press 4 to check balance\n",
    "        5. Press 5 to withdraw\n",
    "        6. Anything else to exit\n",
    "        \"\"\")\n",
    "\n",
    "        if user_input == '1':\n",
    "            # create pin\n",
    "            self.create_pin()\n",
    "        elif user_input == '2':\n",
    "            # change pin\n",
    "            self.change_pin()\n",
    "        elif user_input == '3':\n",
    "            # credit balance\n",
    "            self.credit__balance()\n",
    "        elif user_input == '4':\n",
    "            # check balance\n",
    "            self.check_balance()\n",
    "        elif user_input == '5':\n",
    "            # withdraw\n",
    "            self.withdraw()\n",
    "        else:\n",
    "            exit()\n",
    "            \n",
    "    def create_pin(self):\n",
    "        self.pin = input('Enter your pin: ')\n",
    "        print('Pin created successfully')\n",
    "        self.menu()\n",
    "        \n",
    "    def check_balance(self):\n",
    "        temp = input('Enter your pin: ')\n",
    "        if temp == self.pin:\n",
    "            print('Your balance is', self.balance)\n",
    "        else:\n",
    "            print('Wrong pin')\n",
    "        self.menu()\n",
    "    \n",
    "    def change_pin(self):\n",
    "        old_pin = input('Enter your old pin: ')\n",
    "        if old_pin == self.pin:\n",
    "            # let him change the pin\n",
    "            self.pin = input('Enter new pin: ')\n",
    "            print('Pin changed successfully')\n",
    "            self.menu()\n",
    "        else:\n",
    "            print('Wrong pin')\n",
    "            self.menu()\n",
    "            \n",
    "    def credit__balance(self):\n",
    "        temp = input('Enter your pin: ')\n",
    "        if temp == self.pin:\n",
    "            amount = int(input('Enter amount to credit: '))\n",
    "            self.balance += amount\n",
    "            print('Transaction successful')\n",
    "        else:\n",
    "            print('Wrong pin')\n",
    "            \n",
    "    def withdraw(self):\n",
    "        temp = input('Enter your pin: ')\n",
    "        if temp == self.pin:\n",
    "            amount = int(input('Enter amount to withdraw: '))\n",
    "            if amount <= self.balance:\n",
    "                self.balance -= amount\n",
    "                print('Transaction successful')\n",
    "            else:\n",
    "                print('Insufficient balance')\n",
    "        else:\n",
    "            print('Wrong pin')\n",
    "        self.menu()"
   ]
  },
  {
   "cell_type": "code",
   "execution_count": null,
   "metadata": {},
   "outputs": [
    {
     "name": "stdout",
     "output_type": "stream",
     "text": [
      "2485511766096\n",
      "Pin created successfully\n",
      "Insufficient balance\n"
     ]
    },
    {
     "ename": "",
     "evalue": "",
     "output_type": "error",
     "traceback": [
      "\u001b[1;31mThe Kernel crashed while executing code in the current cell or a previous cell. \n",
      "\u001b[1;31mPlease review the code in the cell(s) to identify a possible cause of the failure. \n",
      "\u001b[1;31mClick <a href='https://aka.ms/vscodeJupyterKernelCrash'>here</a> for more info. \n",
      "\u001b[1;31mView Jupyter <a href='command:jupyter.viewOutput'>log</a> for further details."
     ]
    }
   ],
   "source": [
    "pesron1 = Atm()"
   ]
  },
  {
   "cell_type": "code",
   "execution_count": 1,
   "metadata": {},
   "outputs": [
    {
     "ename": "NameError",
     "evalue": "name 'pesron1' is not defined",
     "output_type": "error",
     "traceback": [
      "\u001b[1;31m---------------------------------------------------------------------------\u001b[0m",
      "\u001b[1;31mNameError\u001b[0m                                 Traceback (most recent call last)",
      "Cell \u001b[1;32mIn[1], line 1\u001b[0m\n\u001b[1;32m----> 1\u001b[0m \u001b[38;5;28mid\u001b[39m(\u001b[43mpesron1\u001b[49m)\n",
      "\u001b[1;31mNameError\u001b[0m: name 'pesron1' is not defined"
     ]
    }
   ],
   "source": [
    "id(pesron1)"
   ]
  },
  {
   "cell_type": "code",
   "execution_count": 7,
   "metadata": {},
   "outputs": [
    {
     "name": "stdout",
     "output_type": "stream",
     "text": [
      "I am in constructor\n",
      "I am in destructor\n"
     ]
    }
   ],
   "source": [
    "class Temp:\n",
    "    def __init__(self):\n",
    "        print('I am in constructor')\n",
    "        \n",
    "    def __del__(self):\n",
    "        print('I am in destructor')\n",
    "obj = Temp()\n"
   ]
  },
  {
   "cell_type": "code",
   "execution_count": 8,
   "metadata": {},
   "outputs": [],
   "source": [
    "class Fraction:\n",
    "    def __init__(self,x,y):\n",
    "        self.num = x\n",
    "        self.den = y\n",
    "        \n",
    "    def __str__(self):\n",
    "        return \"{}/{}\".format(self.num, self.den)\n",
    "    \n",
    "    def __add__(self, other):\n",
    "        new_num = self.num * other.den + other.num * self.den\n",
    "        new_den = self.den * other.den\n",
    "        return \"{}/{}\".format(new_num, new_den)\n",
    "    \n",
    "    def __sub__(self, other):\n",
    "        new_num = self.num * other.den - other.num * self.den\n",
    "        new_den = self.den * other.den\n",
    "        return \"{}/{}\".format(new_num, new_den)\n",
    "    \n",
    "    def __mul__(self, other):\n",
    "        new_num = self.num * other.num  \n",
    "        new_den = self.den * other.den\n",
    "        return \"{}/{}\".format(new_num, new_den)\n",
    "    \n",
    "    def __truediv__(self, other):\n",
    "        new_num = self.num * other.den\n",
    "        new_den = self.den * other.num\n",
    "        return \"{}/{}\".format(new_num, new_den)\n",
    "    \n",
    "    def __eq__(self, other):\n",
    "        return self.num * other.den == other.num * self.den\n",
    "    \n",
    "    def convert_to_decimal(self):\n",
    "        return self.num / self.den"
   ]
  },
  {
   "cell_type": "code",
   "execution_count": 10,
   "metadata": {},
   "outputs": [
    {
     "name": "stdout",
     "output_type": "stream",
     "text": [
      "1538122102288\n",
      "1538123512144\n"
     ]
    }
   ],
   "source": [
    "fr1 = Fraction(1,2)\n",
    "fr2 = Fraction(1,3)\n",
    "print(id(fr1))\n",
    "print(id(fr2))"
   ]
  },
  {
   "cell_type": "code",
   "execution_count": 11,
   "metadata": {},
   "outputs": [
    {
     "name": "stdout",
     "output_type": "stream",
     "text": [
      "5/6\n",
      "1/6\n",
      "1/6\n",
      "3/2\n",
      "False\n",
      "0.5\n"
     ]
    }
   ],
   "source": [
    "print(fr1 + fr2)\n",
    "print(fr1 - fr2)\n",
    "print(fr1 * fr2)\n",
    "print(fr1 / fr2)\n",
    "print(fr1 == fr2)   \n",
    "print(fr1.convert_to_decimal())"
   ]
  }
 ],
 "metadata": {
  "kernelspec": {
   "display_name": "Python 3",
   "language": "python",
   "name": "python3"
  },
  "language_info": {
   "codemirror_mode": {
    "name": "ipython",
    "version": 3
   },
   "file_extension": ".py",
   "mimetype": "text/x-python",
   "name": "python",
   "nbconvert_exporter": "python",
   "pygments_lexer": "ipython3",
   "version": "3.13.2"
  }
 },
 "nbformat": 4,
 "nbformat_minor": 2
}
