{
 "cells": [
  {
   "cell_type": "markdown",
   "metadata": {},
   "source": [
    "# What is a Generator\n",
    "### Python generators are a simple way of creating iterators."
   ]
  },
  {
   "cell_type": "code",
   "execution_count": 9,
   "metadata": {},
   "outputs": [],
   "source": [
    "# iterable\n",
    "class mera_range:\n",
    "    \n",
    "    def __init__(self,start,end):\n",
    "        self.start = start\n",
    "        self.end = end\n",
    "        \n",
    "    def __iter__(self):\n",
    "        return mera_iterator(self)\n",
    "    \n",
    "\n",
    "# iterator\n",
    "class mera_iterator:\n",
    "    \n",
    "    def __init__(self,iterable_obj):\n",
    "        self.iterable = iterable_obj\n",
    "    \n",
    "    def __iter__(self):\n",
    "        return self\n",
    "    \n",
    "    def __next__(self):\n",
    "        \n",
    "        if self.iterable.start >= self.iterable.end:\n",
    "            raise StopIteration\n",
    "        \n",
    "        current = self.iterable.start\n",
    "        self.iterable.start+=1\n",
    "        return current"
   ]
  },
  {
   "cell_type": "markdown",
   "metadata": {},
   "source": [
    "# The Why"
   ]
  },
  {
   "cell_type": "code",
   "execution_count": 1,
   "metadata": {},
   "outputs": [
    {
     "name": "stdout",
     "output_type": "stream",
     "text": [
      "Memory used by the integer 1000000000: 28 bytes\n"
     ]
    }
   ],
   "source": [
    "# Create a list of 100,000 integers from 0 to 99,999\n",
    "L = [x for x in range(100000)]\n",
    "\n",
    "# Import the sys module to check memory usage of Python objects\n",
    "import sys\n",
    "\n",
    "# Get the memory size (in bytes) of a single large integer object\n",
    "# Note: This shows the size of the integer 1,000,000,000 in memory\n",
    "size_of_integer = sys.getsizeof(1000000000)\n",
    "\n",
    "# Print the result\n",
    "print(\"Memory used by the integer 1000000000:\", size_of_integer, \"bytes\")\n"
   ]
  },
  {
   "cell_type": "code",
   "execution_count": 2,
   "metadata": {},
   "outputs": [
    {
     "name": "stdout",
     "output_type": "stream",
     "text": [
      "Memory used by range(0, 1000000000): 48 bytes\n"
     ]
    }
   ],
   "source": [
    "# Import the sys module to measure memory size of objects\n",
    "import sys\n",
    "\n",
    "# Create a range object that represents numbers from 0 to 999,999,999\n",
    "x = range(1000000000)\n",
    "\n",
    "# Get the memory size (in bytes) of the range object\n",
    "# Note: This does NOT include all the values; it's just the size of the range object itself,\n",
    "# which only stores start, stop, and step internally.\n",
    "range_size = sys.getsizeof(x)\n",
    "\n",
    "# Print the memory size of the range object\n",
    "print(\"Memory used by range(0, 1000000000):\", range_size, \"bytes\")\n"
   ]
  },
  {
   "cell_type": "markdown",
   "metadata": {},
   "source": [
    "# A Simple Example"
   ]
  },
  {
   "cell_type": "code",
   "execution_count": 5,
   "metadata": {},
   "outputs": [],
   "source": [
    "def gen_demo():\n",
    "    \n",
    "    yield \"first statement\"\n",
    "    yield \"second statement\"\n",
    "    yield \"third statement\""
   ]
  },
  {
   "cell_type": "code",
   "execution_count": 6,
   "metadata": {},
   "outputs": [
    {
     "name": "stdout",
     "output_type": "stream",
     "text": [
      "first statement\n",
      "second statement\n",
      "third statement\n"
     ]
    }
   ],
   "source": [
    "gen = gen_demo()\n",
    "\n",
    "for i in gen:\n",
    "    print(i)"
   ]
  },
  {
   "cell_type": "markdown",
   "metadata": {},
   "source": [
    "# Example 2"
   ]
  },
  {
   "cell_type": "code",
   "execution_count": 11,
   "metadata": {},
   "outputs": [],
   "source": [
    "def square(num):\n",
    "    for i in range(1,num+1):\n",
    "        yield i**2"
   ]
  },
  {
   "cell_type": "code",
   "execution_count": 12,
   "metadata": {},
   "outputs": [
    {
     "name": "stdout",
     "output_type": "stream",
     "text": [
      "--------------------------------------------------------------------------------\n",
      "1\n",
      "4\n",
      "9\n",
      "--------------------------------------------------------------------------------\n",
      "16\n",
      "25\n",
      "36\n",
      "49\n",
      "64\n",
      "81\n",
      "100\n"
     ]
    }
   ],
   "source": [
    "gen = square(10)\n",
    "print(\"--\"*40)\n",
    "print(next(gen))\n",
    "print(next(gen))\n",
    "print(next(gen))\n",
    "print(\"--\"*40)\n",
    "for i in gen:\n",
    "    print(i)"
   ]
  },
  {
   "cell_type": "markdown",
   "metadata": {},
   "source": [
    "# Range Function using Generator\n"
   ]
  },
  {
   "cell_type": "code",
   "execution_count": 10,
   "metadata": {},
   "outputs": [],
   "source": [
    "def mari_range(start,end):\n",
    "    \n",
    "    for i in range(start,end):\n",
    "        yield i"
   ]
  },
  {
   "cell_type": "code",
   "execution_count": 11,
   "metadata": {},
   "outputs": [
    {
     "name": "stdout",
     "output_type": "stream",
     "text": [
      "15\n",
      "16\n",
      "17\n",
      "18\n",
      "19\n",
      "20\n",
      "21\n",
      "22\n",
      "23\n",
      "24\n",
      "25\n"
     ]
    }
   ],
   "source": [
    "for i in mari_range(15,26):\n",
    "    print(i)"
   ]
  },
  {
   "cell_type": "markdown",
   "metadata": {},
   "source": [
    "# Generator Expression\n"
   ]
  },
  {
   "cell_type": "code",
   "execution_count": 13,
   "metadata": {},
   "outputs": [],
   "source": [
    "# list comprehension\n",
    "L = [i**2 for i in range(1,101)]"
   ]
  },
  {
   "cell_type": "code",
   "execution_count": 7,
   "metadata": {},
   "outputs": [
    {
     "name": "stdout",
     "output_type": "stream",
     "text": [
      "Memory used by generator object: 200 bytes\n",
      "1\n",
      "4\n",
      "9\n",
      "16\n",
      "25\n",
      "36\n",
      "49\n",
      "64\n",
      "81\n"
     ]
    }
   ],
   "source": [
    "# Import sys module to check memory size\n",
    "import sys\n",
    "\n",
    "# Define a generator expression that yields square of numbers from 1 to 100\n",
    "gen = (i**2 for i in range(1, 10))\n",
    "\n",
    "# Print memory size of the generator object in bytes\n",
    "print(\"Memory used by generator object:\", sys.getsizeof(gen), \"bytes\")\n",
    "\n",
    "# Iterate over the generator and print each squared number\n",
    "for i in gen:\n",
    "    print(i)\n"
   ]
  },
  {
   "cell_type": "code",
   "execution_count": 5,
   "metadata": {},
   "outputs": [
    {
     "name": "stdout",
     "output_type": "stream",
     "text": [
      "0\n",
      "2\n",
      "4\n",
      "6\n",
      "8\n",
      "10\n",
      "12\n",
      "14\n",
      "16\n",
      "18\n"
     ]
    }
   ],
   "source": [
    "def infinite_even():\n",
    "    n = 0\n",
    "    while True:\n",
    "        yield n\n",
    "        n += 2\n",
    "\n",
    "evens = infinite_even()\n",
    "\n",
    "# Print the first 10 even numbers\n",
    "for _ in range(10):\n",
    "    print(next(evens))\n",
    "\n",
    "# iterator = iter(evens)\n",
    "# while True:\n",
    "#     try:\n",
    "#         item = next(iterator)\n",
    "#         print(item)\n",
    "#     except StopIteration:\n",
    "#         break\n"
   ]
  },
  {
   "cell_type": "markdown",
   "metadata": {},
   "source": [
    "# Benefits of using a Generator\n"
   ]
  },
  {
   "cell_type": "markdown",
   "metadata": {},
   "source": [
    "1. Ease of Implementation\n"
   ]
  },
  {
   "cell_type": "code",
   "execution_count": 15,
   "metadata": {},
   "outputs": [],
   "source": [
    "class mera_range:\n",
    "    \n",
    "    def __init__(self,start,end):\n",
    "        self.start = start\n",
    "        self.end = end\n",
    "        \n",
    "    def __iter__(self):\n",
    "        return mera_iterator(self)"
   ]
  },
  {
   "cell_type": "code",
   "execution_count": 16,
   "metadata": {},
   "outputs": [],
   "source": [
    "# iterator\n",
    "class mera_iterator:\n",
    "    \n",
    "    def __init__(self,iterable_obj):\n",
    "        self.iterable = iterable_obj\n",
    "    \n",
    "    def __iter__(self):\n",
    "        return self\n",
    "    \n",
    "    def __next__(self):\n",
    "        \n",
    "        if self.iterable.start >= self.iterable.end:\n",
    "            raise StopIteration\n",
    "        \n",
    "        current = self.iterable.start\n",
    "        self.iterable.start+=1\n",
    "        return current"
   ]
  },
  {
   "cell_type": "code",
   "execution_count": 17,
   "metadata": {},
   "outputs": [],
   "source": [
    "def mera_range(start,end):\n",
    "    \n",
    "    for i in range(start,end):\n",
    "        yield i"
   ]
  },
  {
   "cell_type": "markdown",
   "metadata": {},
   "source": [
    "2. Memory Efficient\n"
   ]
  },
  {
   "cell_type": "code",
   "execution_count": 18,
   "metadata": {},
   "outputs": [
    {
     "name": "stdout",
     "output_type": "stream",
     "text": [
      "Size of L in memory 800984\n",
      "Size of gen in memory 192\n"
     ]
    }
   ],
   "source": [
    "L = [x for x in range(100000)]\n",
    "gen = (x for x in range(100000))\n",
    "\n",
    "import sys\n",
    "\n",
    "print('Size of L in memory',sys.getsizeof(L))\n",
    "print('Size of gen in memory',sys.getsizeof(gen))"
   ]
  },
  {
   "cell_type": "markdown",
   "metadata": {},
   "source": [
    "3. Representing Infinite Streams\n"
   ]
  },
  {
   "cell_type": "code",
   "execution_count": 20,
   "metadata": {},
   "outputs": [],
   "source": [
    "def all_even():\n",
    "    n = 0\n",
    "    while True:\n",
    "        yield n\n",
    "        n += 2"
   ]
  },
  {
   "cell_type": "code",
   "execution_count": 21,
   "metadata": {},
   "outputs": [
    {
     "data": {
      "text/plain": [
       "2"
      ]
     },
     "execution_count": 21,
     "metadata": {},
     "output_type": "execute_result"
    }
   ],
   "source": [
    "even_num_gen = all_even()\n",
    "next(even_num_gen)\n",
    "next(even_num_gen)\n"
   ]
  },
  {
   "cell_type": "markdown",
   "metadata": {},
   "source": [
    "4. Chaining Generators\n"
   ]
  },
  {
   "cell_type": "code",
   "execution_count": 22,
   "metadata": {},
   "outputs": [
    {
     "name": "stdout",
     "output_type": "stream",
     "text": [
      "4895\n"
     ]
    }
   ],
   "source": [
    "def fibonacci_numbers(nums):\n",
    "    x, y = 0, 1\n",
    "    for _ in range(nums):\n",
    "        x, y = y, x+y\n",
    "        yield x\n",
    "\n",
    "def square(nums):\n",
    "    for num in nums:\n",
    "        yield num**2\n",
    "\n",
    "print(sum(square(fibonacci_numbers(10))))"
   ]
  }
 ],
 "metadata": {
  "kernelspec": {
   "display_name": "Python 3",
   "language": "python",
   "name": "python3"
  },
  "language_info": {
   "codemirror_mode": {
    "name": "ipython",
    "version": 3
   },
   "file_extension": ".py",
   "mimetype": "text/x-python",
   "name": "python",
   "nbconvert_exporter": "python",
   "pygments_lexer": "ipython3",
   "version": "3.13.5"
  }
 },
 "nbformat": 4,
 "nbformat_minor": 2
}
