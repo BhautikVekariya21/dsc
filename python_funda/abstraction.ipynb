{
 "cells": [
  {
   "cell_type": "markdown",
   "metadata": {},
   "source": [
    "### Class Relationships\n",
    "\n",
    "- Aggregation\n",
    "- Inheritance"
   ]
  },
  {
   "cell_type": "markdown",
   "metadata": {},
   "source": [
    "### Aggregation(Has-A relationship)"
   ]
  },
  {
   "cell_type": "code",
   "execution_count": null,
   "metadata": {},
   "outputs": [
    {
     "name": "stdout",
     "output_type": "stream",
     "text": [
      "Kolkata 700024 WB\n",
      "Mumbai 400003 MH\n",
      "Mumbai\n",
      "Pune 800001 MH\n",
      "Pune\n"
     ]
    }
   ],
   "source": [
    "class Customer:\n",
    "    def __init__(self,name,gender,address):\n",
    "        self.name = name\n",
    "        self.gender = gender\n",
    "        self.address = address\n",
    "        \n",
    "    def print_address(self):\n",
    "        print(self.address.get_city(), self.address.pin, self.address.state)\n",
    "    \n",
    "    def edit_profile(self,new_name, new_city, new_pin, new_state):\n",
    "        self.name = new_name\n",
    "        self.address.change_address(new_city, new_pin, new_state)\n",
    "    \n",
    "class Address:\n",
    "    def __init__(self, city, pin, state):\n",
    "        self.__city = city\n",
    "        self.pin = pin\n",
    "        self.state = state\n",
    "\n",
    "    def change_address(self, city, pin, state):\n",
    "        self.__city = city\n",
    "        self.pin = pin\n",
    "        self.state = state\n",
    "        \n",
    "    def get_city(self):\n",
    "        return self.__city\n",
    "    \n",
    "    def edit_address(self, new_city, new_pin, new_state):\n",
    "        self.__city = new_city\n",
    "        self.pin = new_pin\n",
    "        self.state = new_state\n",
    "        \n",
    "add1 = Address(\"Kolkata\", 700024, \"WB\")\n",
    "cust = Customer(\"Rahul\", \"Male\", add1)\n",
    "cust.print_address()\n",
    "cust.edit_profile(\"Rohan\", \"Mumbai\", 400003, \"MH\")\n",
    "cust.print_address()\n",
    "print(add1.get_city())\n",
    "add1.edit_address(\"Pune\", 800001, \"MH\")\n",
    "cust.print_address()\n",
    "print(add1.get_city())"
   ]
  },
  {
   "cell_type": "markdown",
   "metadata": {},
   "source": [
    "### Inheritance\n",
    "\n",
    "- What is inheritance\n",
    "- Example\n",
    "- What gets inherited?"
   ]
  },
  {
   "cell_type": "code",
   "execution_count": 2,
   "metadata": {},
   "outputs": [
    {
     "name": "stdout",
     "output_type": "stream",
     "text": [
      "nikhil\n",
      "login\n",
      "enroll into the course\n"
     ]
    }
   ],
   "source": [
    "class User:\n",
    "    def __init__(self):\n",
    "        self.name = \"nikhil\"\n",
    "        self.age = 51\n",
    "        self.gender = \"female\"\n",
    "        self.email = \"nikhil@hotmail.com\"\n",
    "        self.phone = \"9985472156\"\n",
    "        self.address = \"gurugram\"\n",
    "        self.password = \"123456789abcd!@#$\"\n",
    "        \n",
    "    def login(self):\n",
    "        print('login')\n",
    "    \n",
    "class Student(User):  # Inheriting from User class\n",
    "    def __init__(self):\n",
    "        super().__init__()  # Call the constructor of the parent class User\n",
    "        self.rollno = 101\n",
    "        self.marks = 80\n",
    "        \n",
    "    def enroll(self):\n",
    "        print(\"enroll into the course\")\n",
    "        \n",
    "u = User()\n",
    "s = Student()\n",
    "\n",
    "# Accessing attributes and methods\n",
    "print(s.name)  # Prints 'nikhil' because Student inherits from User\n",
    "s.login()  # Prints 'login' because login is a method of the User class\n",
    "s.enroll()  # Prints 'enroll into the course' because enroll is a method of the Student class\n"
   ]
  },
  {
   "cell_type": "markdown",
   "metadata": {},
   "source": [
    "##### What gets inherited?\n",
    "\n",
    "- Constructor\n",
    "- Non Private Attributes\n",
    "- Non Private Methods"
   ]
  },
  {
   "cell_type": "code",
   "execution_count": 3,
   "metadata": {},
   "outputs": [
    {
     "name": "stdout",
     "output_type": "stream",
     "text": [
      "inside phone constructor\n",
      "Buying a phone\n"
     ]
    }
   ],
   "source": [
    "class Phone:\n",
    "    def __init__(self,price,brand,camera):\n",
    "        print(\"inside phone constructor\")\n",
    "        self.price = price\n",
    "        self.brand = brand\n",
    "        self.camera = camera\n",
    "        \n",
    "    def buy(self):\n",
    "        print(\"Buying a phone\")\n",
    "        \n",
    "class SmartPhone(Phone):\n",
    "    pass\n",
    "\n",
    "s = SmartPhone(20000, \"Apple\", 12)\n",
    "s.buy()  # Calling the buy method from the Phone class"
   ]
  },
  {
   "cell_type": "code",
   "execution_count": 5,
   "metadata": {},
   "outputs": [
    {
     "name": "stdout",
     "output_type": "stream",
     "text": [
      "Inside phone constructor\n",
      "Inside smartphone constructor\n"
     ]
    },
    {
     "data": {
      "text/plain": [
       "'Samsung'"
      ]
     },
     "execution_count": 5,
     "metadata": {},
     "output_type": "execute_result"
    }
   ],
   "source": [
    "class Phone:\n",
    "    def __init__(self,price,brand,camera):\n",
    "        print(\"Inside phone constructor\")\n",
    "        self.__price = price\n",
    "        self.brand = brand\n",
    "        self.camera = camera\n",
    "        \n",
    "class SmartPhone(Phone):\n",
    "    def __init__(self, price, brand, camera, os, ram):\n",
    "        super().__init__(price, brand, camera)\n",
    "        print(\"Inside smartphone constructor\")\n",
    "        self.os = os\n",
    "        self.ram = ram\n",
    "        \n",
    "s = SmartPhone(20000, \"Samsung\", 12, \"Android\", 2)\n",
    "s.brand"
   ]
  },
  {
   "cell_type": "code",
   "execution_count": 6,
   "metadata": {},
   "outputs": [
    {
     "name": "stdout",
     "output_type": "stream",
     "text": [
      "100\n",
      "This is method of child class\n"
     ]
    }
   ],
   "source": [
    "class Parent:\n",
    "    def __init__(self,num):\n",
    "        self.__num = num\n",
    "\n",
    "    def get_num(self):\n",
    "        return self.__num\n",
    "    \n",
    "class Child(Parent):\n",
    "    def show(self):\n",
    "        print(\"This is method of child class\")\n",
    "        \n",
    "son = Child(100)\n",
    "print(son.get_num())\n",
    "son.show()\n"
   ]
  },
  {
   "cell_type": "code",
   "execution_count": null,
   "metadata": {},
   "outputs": [
    {
     "name": "stdout",
     "output_type": "stream",
     "text": [
      "Parent:Num: 10\n",
      "child:val: 100\n"
     ]
    }
   ],
   "source": [
    "class Parent:\n",
    "    def __init__(self,num):\n",
    "        self.__num=num\n",
    "    def get_num(self):\n",
    "        return self.__num\n",
    "class Child(Parent):\n",
    "    def __init__(self,val,num):\n",
    "        super().__init__(num)\n",
    "        self.__val=val\n",
    "    def get_val(self):\n",
    "        return self.__val\n",
    "    \n",
    "son = Child(100,10)\n",
    "print(\"Parent:Num:\",son.get_num())\n",
    "print(\"child:val:\",son.get_val())"
   ]
  },
  {
   "cell_type": "code",
   "execution_count": 9,
   "metadata": {},
   "outputs": [
    {
     "name": "stdout",
     "output_type": "stream",
     "text": [
      "Inside phone constructor\n",
      "Buying a smartphone\n"
     ]
    }
   ],
   "source": [
    "class Phone:\n",
    "    def __init__(self,price,brand,camera):\n",
    "        print(\"Inside phone constructor\")\n",
    "        self.__price = price\n",
    "        self.brand = brand\n",
    "        self.camera = camera\n",
    "        \n",
    "    def buy(self):\n",
    "        print(\"Buying a phone\")\n",
    "class SmartPhone(Phone):\n",
    "    def buy(self):\n",
    "        print(\"Buying a smartphone\")\n",
    "    \n",
    "s = SmartPhone(20000, \"Apple\", 13)  \n",
    "s.buy()  # Calling the buy method of the SmartPhone class"
   ]
  },
  {
   "cell_type": "markdown",
   "metadata": {},
   "source": [
    "### Super Keyword"
   ]
  },
  {
   "cell_type": "code",
   "execution_count": 10,
   "metadata": {},
   "outputs": [
    {
     "name": "stdout",
     "output_type": "stream",
     "text": [
      "Inside SmartPhone constructor\n",
      "Inside Phone constructor\n",
      "Buying a phone\n",
      "Buying a phone\n"
     ]
    }
   ],
   "source": [
    "class Phone:\n",
    "    def __init__(self, brand, model, price):\n",
    "        print(\"Inside Phone constructor\")\n",
    "        self.brand = brand\n",
    "        self.model = model\n",
    "        self.__price = price\n",
    "        \n",
    "    def buy(self):\n",
    "        print(\"Buying a phone\")\n",
    "        \n",
    "class SmartPhone(Phone):\n",
    "    def __init__(self, brand, model, price, ram, memory):\n",
    "        print(\"Inside SmartPhone constructor\")\n",
    "        super().__init__(brand, model, price)\n",
    "        self.ram = ram\n",
    "        self.memory = memory\n",
    "        super().buy()\n",
    "s = SmartPhone(\"Apple\", \"iPhone 12\", 100000, \"8GB\", \"256GB\")\n",
    "s.buy()      "
   ]
  },
  {
   "cell_type": "code",
   "execution_count": 11,
   "metadata": {},
   "outputs": [
    {
     "name": "stdout",
     "output_type": "stream",
     "text": [
      "Inside Phone constructor\n",
      "Inside SmartPhone constructor\n",
      "End of SmartPhone constructor\n"
     ]
    },
    {
     "ename": "AttributeError",
     "evalue": "'SmartPhone' object has no attribute 'buy'",
     "output_type": "error",
     "traceback": [
      "\u001b[1;31m---------------------------------------------------------------------------\u001b[0m",
      "\u001b[1;31mAttributeError\u001b[0m                            Traceback (most recent call last)",
      "Cell \u001b[1;32mIn[11], line 16\u001b[0m\n\u001b[0;32m     13\u001b[0m         \u001b[38;5;28mprint\u001b[39m(\u001b[38;5;124m\"\u001b[39m\u001b[38;5;124mEnd of SmartPhone constructor\u001b[39m\u001b[38;5;124m\"\u001b[39m)\n\u001b[0;32m     15\u001b[0m s \u001b[38;5;241m=\u001b[39m SmartPhone(\u001b[38;5;241m20000\u001b[39m, \u001b[38;5;124m\"\u001b[39m\u001b[38;5;124mApple\u001b[39m\u001b[38;5;124m\"\u001b[39m, \u001b[38;5;241m12\u001b[39m, \u001b[38;5;124m\"\u001b[39m\u001b[38;5;124mIOS\u001b[39m\u001b[38;5;124m\"\u001b[39m, \u001b[38;5;241m2\u001b[39m)\n\u001b[1;32m---> 16\u001b[0m \u001b[43ms\u001b[49m\u001b[38;5;241;43m.\u001b[39;49m\u001b[43mbuy\u001b[49m()\n",
      "\u001b[1;31mAttributeError\u001b[0m: 'SmartPhone' object has no attribute 'buy'"
     ]
    }
   ],
   "source": [
    "class Phone:\n",
    "    def __init__(self,price,brand,camera):\n",
    "        print(\"Inside Phone constructor\")\n",
    "        self.__price = price\n",
    "        self.brand = brand\n",
    "        self.camera = camera\n",
    "class SmartPhone(Phone):\n",
    "    def __init__(self, price, brand, camera, os, ram):\n",
    "        super().__init__(price, brand, camera)\n",
    "        print(\"Inside SmartPhone constructor\")\n",
    "        self.os = os\n",
    "        self.ram = ram\n",
    "        print(\"End of SmartPhone constructor\")\n",
    "        \n",
    "s = SmartPhone(20000, \"Apple\", 12, \"IOS\", 2)\n",
    "s.buy()"
   ]
  },
  {
   "cell_type": "code",
   "execution_count": 12,
   "metadata": {},
   "outputs": [
    {
     "name": "stdout",
     "output_type": "stream",
     "text": [
      "Buying a smartphone\n",
      "Buying a phone\n"
     ]
    }
   ],
   "source": [
    "class Phone:\n",
    "    def __init__(self,price,brand,camera):\n",
    "        self.__price = price\n",
    "        self.brand = brand\n",
    "        self.camera = camera\n",
    "        \n",
    "    def buy(self):\n",
    "        print(\"Buying a phone\")\n",
    "        \n",
    "class SmartPhone(Phone):\n",
    "    def buy(self):\n",
    "        print(\"Buying a smartphone\")\n",
    "        super().buy()\n",
    "        \n",
    "s=SmartPhone(20000, \"Apple\", 12)\n",
    "s.buy()"
   ]
  },
  {
   "cell_type": "code",
   "execution_count": 2,
   "metadata": {},
   "outputs": [
    {
     "name": "stdout",
     "output_type": "stream",
     "text": [
      "132.0\n"
     ]
    }
   ],
   "source": [
    "class Phone:\n",
    "    def __init__(self, brand, model, price):\n",
    "        self.brand = brand\n",
    "        self.model = model\n",
    "        self.price = price\n",
    "\n",
    "    def call(self, number):\n",
    "        print(f\"Calling {number}...\")\n",
    "\n",
    "    def __str__(self):\n",
    "        return f\"{self.brand} {self.model} - ${self.price}\"\n",
    "    \n",
    "class Smartphone(Phone):  # correct class name here\n",
    "    def __init__(self, brand, model, price, ram, storage):\n",
    "        super().__init__(brand, model, price)\n",
    "        self.ram = ram\n",
    "        self.storage = storage\n",
    "\n",
    "    def calculate_rating(self):\n",
    "        return (self.ram + self.storage) / 2\n",
    "\n",
    "# corrected object creation\n",
    "s = Smartphone(\"Samsung\", \"S20\", 1000, 8, 256)\n",
    "print(s.calculate_rating())  # Output: 132.0\n"
   ]
  }
 ],
 "metadata": {
  "kernelspec": {
   "display_name": ".venv",
   "language": "python",
   "name": "python3"
  },
  "language_info": {
   "codemirror_mode": {
    "name": "ipython",
    "version": 3
   },
   "file_extension": ".py",
   "mimetype": "text/x-python",
   "name": "python",
   "nbconvert_exporter": "python",
   "pygments_lexer": "ipython3",
   "version": "3.12.10"
  }
 },
 "nbformat": 4,
 "nbformat_minor": 2
}
