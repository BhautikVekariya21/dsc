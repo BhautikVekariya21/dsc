{
 "cells": [
  {
   "cell_type": "markdown",
   "metadata": {},
   "source": [
    "## Namespace and Scope"
   ]
  },
  {
   "cell_type": "markdown",
   "metadata": {},
   "source": [
    "###`Q1:` Write `Person` Class as given below and then display it's namespace.\n",
    "\n"
   ]
  },
  {
   "cell_type": "markdown",
   "metadata": {},
   "source": [
    "```\n",
    "Class Name - Person\n",
    "\n",
    "Attributes:\n",
    "name - public\n",
    "state - public\n",
    "city - private\n",
    "age - private\n",
    "\n",
    "Methods:\n",
    "address - public\n",
    "It give address of the person as \"<name>, <city>, <state>\"\n",
    "```"
   ]
  },
  {
   "cell_type": "code",
   "execution_count": null,
   "metadata": {},
   "outputs": [],
   "source": []
  },
  {
   "cell_type": "markdown",
   "metadata": {},
   "source": [
    "###`Q2:` Write a program to show namespace of object/instance of above(Person) class."
   ]
  },
  {
   "cell_type": "code",
   "execution_count": null,
   "metadata": {},
   "outputs": [],
   "source": []
  },
  {
   "cell_type": "markdown",
   "metadata": {},
   "source": [
    "###`Q3:` Write a recursive program to to calculate `gcd` and print no. of function calls taken to find the solution.\n",
    "```\n",
    "gcd(5,10) -> result in 5 as gcd and function call 4\n",
    "```"
   ]
  },
  {
   "cell_type": "code",
   "execution_count": null,
   "metadata": {},
   "outputs": [],
   "source": []
  },
  {
   "cell_type": "markdown",
   "metadata": {},
   "source": [
    "## Itterator And Generator"
   ]
  },
  {
   "cell_type": "markdown",
   "metadata": {},
   "source": [
    "###`Q4:` Create MyEnumerate class,\n",
    "Create your own `MyEnumerate` class such that someone can use it instead of enumerate. It will need to return a `tuple` with each iteration, with the first element in the tuple being the `index` (starting with 0) and the second element being the `current element` from the underlying data structure. Trying to use `MyEnumerate` with a noniterable argument will result in an error.\n",
    "\n",
    "```\n",
    "for index, letter in MyEnumerate('abc'):\n",
    "    print(f'{index} : {letter}')\n",
    "```\n",
    "\n",
    "Output:\n",
    "```\n",
    "0 : a\n",
    "1 : b\n",
    "2 : c\n",
    "```"
   ]
  },
  {
   "cell_type": "code",
   "execution_count": null,
   "metadata": {},
   "outputs": [],
   "source": []
  },
  {
   "cell_type": "markdown",
   "metadata": {},
   "source": [
    "###`Q5:` Iterate in circle\n",
    "Define a class, `Circle`, that takes two arguments when defined: a sequence and a number. The idea is that the object will then return elements the defined number of times. If the number is greater than the number of elements, then the sequence  repeats as necessary. You can define an another class used as a helper (like I call `CircleIterator`).\n",
    "\n",
    "```\n",
    "c = Circle('abc', 5)\n",
    "d = Circle('abc', 7)\n",
    "print(list(c))\n",
    "print(list(d))\n",
    "```\n",
    "\n",
    "Output\n",
    "```\n",
    "[a, b, c, a, b]\n",
    "[a, b, c, a, b, c, a]\n",
    "```"
   ]
  },
  {
   "cell_type": "code",
   "execution_count": null,
   "metadata": {},
   "outputs": [],
   "source": []
  },
  {
   "cell_type": "markdown",
   "metadata": {},
   "source": [
    "###`Q6:` Generator time elapsed\n",
    "Write a generator function whose argument must be iterable. With each iteration, the generator will return a two-element tuple. The first element in the tuple will be an integer indicating how many seconds have passed since the previous iteration. The tuple’s second element will be the next item from the passed argument.\n",
    "\n",
    "Note that the timing should be relative to the previous iteration, not when the\n",
    "generator was first created or invoked. Thus the timing number in the first iteration\n",
    "will be 0\n",
    "\n",
    "```\n",
    "for t in elapsed_since('abcd'):\n",
    "    print(t)\n",
    "    time.sleep(2)\n",
    "```\n",
    "\n",
    "Output:\n",
    "```\n",
    "(0.0, 'a')\n",
    "(2.005651817999933, 'b')\n",
    "(2.0023095009998997, 'c')\n",
    "(2.001949742000079, 'd')\n",
    "```\n",
    "Note: Your output may differ because of diffrent system has different processing configuration."
   ]
  },
  {
   "cell_type": "code",
   "execution_count": null,
   "metadata": {},
   "outputs": [],
   "source": []
  }
 ],
 "metadata": {
  "kernelspec": {
   "display_name": "Python 3",
   "language": "python",
   "name": "python3"
  },
  "language_info": {
   "codemirror_mode": {
    "name": "ipython",
    "version": 3
   },
   "file_extension": ".py",
   "mimetype": "text/x-python",
   "name": "python",
   "nbconvert_exporter": "python",
   "pygments_lexer": "ipython3",
   "version": "3.13.2"
  }
 },
 "nbformat": 4,
 "nbformat_minor": 2
}
