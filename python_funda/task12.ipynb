{
 "cells": [
  {
   "cell_type": "markdown",
   "metadata": {},
   "source": [
    "## Namespace and Scope"
   ]
  },
  {
   "cell_type": "markdown",
   "metadata": {},
   "source": [
    "### `Q1:` Write `Person` Class as given below and then display it's namespace.\n",
    "\n"
   ]
  },
  {
   "cell_type": "markdown",
   "metadata": {},
   "source": [
    "```\n",
    "Class Name - Person\n",
    "\n",
    "Attributes:\n",
    "name - public\n",
    "state - public\n",
    "city - private\n",
    "age - private\n",
    "\n",
    "Methods:\n",
    "address - public\n",
    "It give address of the person as \"<name>, <city>, <state>\"\n",
    "```"
   ]
  },
  {
   "cell_type": "code",
   "execution_count": 1,
   "metadata": {},
   "outputs": [
    {
     "name": "stdout",
     "output_type": "stream",
     "text": [
      "Namespace of Person class:\n",
      "{'__module__': '__main__', '__firstlineno__': 1, 'name': None, 'state': None, '_Person__city': None, '_Person__age': None, '__init__': <function Person.__init__ at 0x00000189E9D84E00>, 'address': <function Person.address at 0x00000189E9D84AE0>, '__static_attributes__': ('__age', '__city', 'name', 'state'), '__dict__': <attribute '__dict__' of 'Person' objects>, '__weakref__': <attribute '__weakref__' of 'Person' objects>, '__doc__': None}\n"
     ]
    }
   ],
   "source": [
    "class Person:\n",
    "    # Public attributes\n",
    "    name = None\n",
    "    state = None\n",
    "    \n",
    "    # Private attributes\n",
    "    __city = None\n",
    "    __age = None\n",
    "    \n",
    "    # Constructor to initialize attributes\n",
    "    def __init__(self, name, city, state, age):\n",
    "        self.name = name\n",
    "        self.__city = city\n",
    "        self.state = state\n",
    "        self.__age = age\n",
    "    \n",
    "    # Public method to get the address\n",
    "    def address(self):\n",
    "        return f\"{self.name}, {self.__city}, {self.state}\"\n",
    "\n",
    "# Create an instance of the Person class\n",
    "person1 = Person(\"John Doe\", \"New York\", \"NY\", 30)\n",
    "\n",
    "# Display the namespace of the Person class\n",
    "print(\"Namespace of Person class:\")\n",
    "print(Person.__dict__)\n"
   ]
  },
  {
   "cell_type": "markdown",
   "metadata": {},
   "source": [
    "### `Q2:` Write a program to show namespace of object/instance of above(Person) class."
   ]
  },
  {
   "cell_type": "code",
   "execution_count": 2,
   "metadata": {},
   "outputs": [
    {
     "name": "stdout",
     "output_type": "stream",
     "text": [
      "Namespace of person1 instance:\n",
      "{'name': 'John Doe', '_Person__city': 'New York', 'state': 'NY', '_Person__age': 30}\n"
     ]
    }
   ],
   "source": [
    "class Person:\n",
    "    # Public attributes\n",
    "    name = None\n",
    "    state = None\n",
    "    \n",
    "    # Private attributes\n",
    "    __city = None\n",
    "    __age = None\n",
    "    \n",
    "    # Constructor to initialize attributes\n",
    "    def __init__(self, name, city, state, age):\n",
    "        self.name = name\n",
    "        self.__city = city\n",
    "        self.state = state\n",
    "        self.__age = age\n",
    "    \n",
    "    # Public method to get the address\n",
    "    def address(self):\n",
    "        return f\"{self.name}, {self.__city}, {self.state}\"\n",
    "\n",
    "# Create an instance of the Person class\n",
    "person1 = Person(\"John Doe\", \"New York\", \"NY\", 30)\n",
    "\n",
    "# Display the namespace of the object/instance\n",
    "print(\"Namespace of person1 instance:\")\n",
    "print(person1.__dict__)\n"
   ]
  },
  {
   "cell_type": "markdown",
   "metadata": {},
   "source": [
    "### `Q3:` Write a recursive program to to calculate `gcd` and print no. of function calls taken to find the solution.\n",
    "```\n",
    "gcd(5,10) -> result in 5 as gcd and function call 4\n",
    "```"
   ]
  },
  {
   "cell_type": "code",
   "execution_count": 3,
   "metadata": {},
   "outputs": [
    {
     "name": "stdout",
     "output_type": "stream",
     "text": [
      "GCD of 5 and 10 is: 5\n",
      "Number of function calls: 3\n"
     ]
    }
   ],
   "source": [
    "# Initialize a counter to keep track of function calls\n",
    "call_count = 0\n",
    "\n",
    "def gcd(a, b):\n",
    "    global call_count\n",
    "    call_count += 1  # Increment the function call counter\n",
    "    \n",
    "    # Base case: If second number is 0, return the first number as GCD\n",
    "    if b == 0:\n",
    "        return a\n",
    "    \n",
    "    # Recursive case: Call gcd with b and a % b\n",
    "    return gcd(b, a % b)\n",
    "\n",
    "# Input numbers\n",
    "num1, num2 = 5, 10\n",
    "\n",
    "# Calculate GCD\n",
    "result = gcd(num1, num2)\n",
    "\n",
    "# Display the result and number of function calls\n",
    "print(f\"GCD of {num1} and {num2} is: {result}\")\n",
    "print(f\"Number of function calls: {call_count}\")\n"
   ]
  },
  {
   "cell_type": "markdown",
   "metadata": {},
   "source": [
    "## Itterator And Generator"
   ]
  },
  {
   "cell_type": "markdown",
   "metadata": {},
   "source": [
    "### `Q4:` Create MyEnumerate class,\n",
    "Create your own `MyEnumerate` class such that someone can use it instead of enumerate. It will need to return a `tuple` with each iteration, with the first element in the tuple being the `index` (starting with 0) and the second element being the `current element` from the underlying data structure. Trying to use `MyEnumerate` with a noniterable argument will result in an error.\n",
    "\n",
    "```\n",
    "for index, letter in MyEnumerate('abc'):\n",
    "    print(f'{index} : {letter}')\n",
    "```\n",
    "\n",
    "Output:\n",
    "```\n",
    "0 : a\n",
    "1 : b\n",
    "2 : c\n",
    "```"
   ]
  },
  {
   "cell_type": "code",
   "execution_count": 4,
   "metadata": {},
   "outputs": [
    {
     "name": "stdout",
     "output_type": "stream",
     "text": [
      "0 : a\n",
      "1 : b\n",
      "2 : c\n"
     ]
    }
   ],
   "source": [
    "class MyEnumerate:\n",
    "    def __init__(self, iterable):\n",
    "        # Check if the input is iterable\n",
    "        if not hasattr(iterable, '__iter__'):\n",
    "            raise TypeError(f\"{type(iterable).__name__} object is not iterable\")\n",
    "        \n",
    "        self.iterable = iterable\n",
    "        self.index = 0  # Start index at 0\n",
    "\n",
    "    def __iter__(self):\n",
    "        # Return the iterator object itself\n",
    "        return self\n",
    "\n",
    "    def __next__(self):\n",
    "        # Stop iteration if the end of the iterable is reached\n",
    "        if self.index >= len(self.iterable):\n",
    "            raise StopIteration\n",
    "        \n",
    "        # Create the tuple (index, current element)\n",
    "        result = (self.index, self.iterable[self.index])\n",
    "        \n",
    "        # Increment index for the next call\n",
    "        self.index += 1\n",
    "        \n",
    "        return result\n",
    "\n",
    "# Test the MyEnumerate class\n",
    "for index, letter in MyEnumerate('abc'):\n",
    "    print(f'{index} : {letter}')\n"
   ]
  },
  {
   "cell_type": "markdown",
   "metadata": {},
   "source": [
    "### `Q5:` Iterate in circle\n",
    "Define a class, `Circle`, that takes two arguments when defined: a sequence and a number. The idea is that the object will then return elements the defined number of times. If the number is greater than the number of elements, then the sequence  repeats as necessary. You can define an another class used as a helper (like I call `CircleIterator`).\n",
    "\n",
    "```\n",
    "c = Circle('abc', 5)\n",
    "d = Circle('abc', 7)\n",
    "print(list(c))\n",
    "print(list(d))\n",
    "```\n",
    "\n",
    "Output\n",
    "```\n",
    "[a, b, c, a, b]\n",
    "[a, b, c, a, b, c, a]\n",
    "```"
   ]
  },
  {
   "cell_type": "code",
   "execution_count": 5,
   "metadata": {},
   "outputs": [
    {
     "name": "stdout",
     "output_type": "stream",
     "text": [
      "['a', 'b', 'c', 'a', 'b']\n",
      "['a', 'b', 'c', 'a', 'b', 'c', 'a']\n"
     ]
    }
   ],
   "source": [
    "class CircleIterator:\n",
    "    def __init__(self, sequence, num):\n",
    "        self.sequence = sequence\n",
    "        self.num = num\n",
    "        self.index = 0  # Start index at 0\n",
    "\n",
    "    def __iter__(self):\n",
    "        return self\n",
    "\n",
    "    def __next__(self):\n",
    "        # Stop iteration when we reach the required number of elements\n",
    "        if self.num <= 0:\n",
    "            raise StopIteration\n",
    "        \n",
    "        # Calculate the current element by using modulo to cycle through the sequence\n",
    "        result = self.sequence[self.index % len(self.sequence)]\n",
    "        \n",
    "        # Increment the index and decrease the counter\n",
    "        self.index += 1\n",
    "        self.num -= 1\n",
    "        \n",
    "        return result\n",
    "\n",
    "class Circle:\n",
    "    def __init__(self, sequence, num):\n",
    "        self.sequence = sequence\n",
    "        self.num = num\n",
    "\n",
    "    def __iter__(self):\n",
    "        # Return an instance of CircleIterator for iteration\n",
    "        return CircleIterator(self.sequence, self.num)\n",
    "\n",
    "# Test the Circle class\n",
    "c = Circle('abc', 5)\n",
    "d = Circle('abc', 7)\n",
    "print(list(c))\n",
    "print(list(d))\n"
   ]
  },
  {
   "cell_type": "markdown",
   "metadata": {},
   "source": [
    "### `Q6:` Generator time elapsed\n",
    "Write a generator function whose argument must be iterable. With each iteration, the generator will return a two-element tuple. The first element in the tuple will be an integer indicating how many seconds have passed since the previous iteration. The tuple’s second element will be the next item from the passed argument.\n",
    "\n",
    "Note that the timing should be relative to the previous iteration, not when the\n",
    "generator was first created or invoked. Thus the timing number in the first iteration\n",
    "will be 0\n",
    "\n",
    "```\n",
    "for t in elapsed_since('abcd'):\n",
    "    print(t)\n",
    "    time.sleep(2)\n",
    "```\n",
    "\n",
    "Output:\n",
    "```\n",
    "(0.0, 'a')\n",
    "(2.005651817999933, 'b')\n",
    "(2.0023095009998997, 'c')\n",
    "(2.001949742000079, 'd')\n",
    "```\n",
    "Note: Your output may differ because of diffrent system has different processing configuration."
   ]
  },
  {
   "cell_type": "code",
   "execution_count": 6,
   "metadata": {},
   "outputs": [
    {
     "name": "stdout",
     "output_type": "stream",
     "text": [
      "(5.000001692678779e-07, 'a')\n",
      "(2.005409200000031, 'b')\n",
      "(2.000714499999958, 'c')\n",
      "(2.0004618000002665, 'd')\n"
     ]
    }
   ],
   "source": [
    "import time\n",
    "\n",
    "def elapsed_since(iterable):\n",
    "    # Check if the argument is iterable\n",
    "    if not hasattr(iterable, '__iter__'):\n",
    "        raise TypeError(\"Argument must be iterable\")\n",
    "\n",
    "    # Record the start time\n",
    "    last_time = time.perf_counter()\n",
    "    \n",
    "    # Iterate through the items in the iterable\n",
    "    for item in iterable:\n",
    "        current_time = time.perf_counter()\n",
    "        elapsed = current_time - last_time  # Calculate time since last iteration\n",
    "        yield (elapsed, item)\n",
    "        last_time = current_time  # Update last_time for the next iteration\n",
    "\n",
    "# Test the generator\n",
    "for t in elapsed_since('abcd'):\n",
    "    print(t)\n",
    "    time.sleep(2)\n"
   ]
  }
 ],
 "metadata": {
  "kernelspec": {
   "display_name": "Python 3",
   "language": "python",
   "name": "python3"
  },
  "language_info": {
   "codemirror_mode": {
    "name": "ipython",
    "version": 3
   },
   "file_extension": ".py",
   "mimetype": "text/x-python",
   "name": "python",
   "nbconvert_exporter": "python",
   "pygments_lexer": "ipython3",
   "version": "3.13.2"
  }
 },
 "nbformat": 4,
 "nbformat_minor": 2
}
