{
 "cells": [
  {
   "cell_type": "markdown",
   "metadata": {},
   "source": [
    "# Python Output"
   ]
  },
  {
   "cell_type": "code",
   "execution_count": 31,
   "metadata": {},
   "outputs": [
    {
     "name": "stdout",
     "output_type": "stream",
     "text": [
      "hello world\n"
     ]
    }
   ],
   "source": [
    "print(\"hello world\")"
   ]
  },
  {
   "cell_type": "code",
   "execution_count": 32,
   "metadata": {},
   "outputs": [
    {
     "name": "stdout",
     "output_type": "stream",
     "text": [
      "7.7\n"
     ]
    }
   ],
   "source": [
    "print(7.7)"
   ]
  },
  {
   "cell_type": "code",
   "execution_count": 33,
   "metadata": {},
   "outputs": [
    {
     "name": "stdout",
     "output_type": "stream",
     "text": [
      "True\n"
     ]
    }
   ],
   "source": [
    "print(True)"
   ]
  },
  {
   "cell_type": "code",
   "execution_count": 34,
   "metadata": {},
   "outputs": [
    {
     "name": "stdout",
     "output_type": "stream",
     "text": [
      "hello 1.5 True\n"
     ]
    }
   ],
   "source": [
    "print(\"hello\",1.5,True)"
   ]
  },
  {
   "cell_type": "code",
   "execution_count": 35,
   "metadata": {},
   "outputs": [
    {
     "name": "stdout",
     "output_type": "stream",
     "text": [
      "hello\n",
      "world\n"
     ]
    }
   ],
   "source": [
    "print('hello')\n",
    "print('world')"
   ]
  },
  {
   "cell_type": "code",
   "execution_count": 36,
   "metadata": {},
   "outputs": [
    {
     "name": "stdout",
     "output_type": "stream",
     "text": [
      "hello-world\n"
     ]
    }
   ],
   "source": [
    "print('hello',end='-')\n",
    "print('world')"
   ]
  },
  {
   "cell_type": "markdown",
   "metadata": {},
   "source": [
    "# Data Types\n"
   ]
  },
  {
   "cell_type": "code",
   "execution_count": 37,
   "metadata": {},
   "outputs": [
    {
     "name": "stdout",
     "output_type": "stream",
     "text": [
      "8\n",
      "inf\n",
      "1.7e+308\n"
     ]
    },
    {
     "data": {
      "text/plain": [
       "float"
      ]
     },
     "execution_count": 37,
     "metadata": {},
     "output_type": "execute_result"
    }
   ],
   "source": [
    "print(8)\n",
    "print(1.7e309)\n",
    "print(1.7e308)\n",
    "type(8)\n",
    "type(1.7e309)\n",
    "type(1.7e308)"
   ]
  },
  {
   "cell_type": "code",
   "execution_count": 38,
   "metadata": {},
   "outputs": [
    {
     "name": "stdout",
     "output_type": "stream",
     "text": [
      "8.78\n"
     ]
    },
    {
     "data": {
      "text/plain": [
       "float"
      ]
     },
     "execution_count": 38,
     "metadata": {},
     "output_type": "execute_result"
    }
   ],
   "source": [
    "print(8.78)\n",
    "type(8.78)"
   ]
  },
  {
   "cell_type": "code",
   "execution_count": 39,
   "metadata": {},
   "outputs": [
    {
     "name": "stdout",
     "output_type": "stream",
     "text": [
      "True\n",
      "False\n"
     ]
    },
    {
     "data": {
      "text/plain": [
       "bool"
      ]
     },
     "execution_count": 39,
     "metadata": {},
     "output_type": "execute_result"
    }
   ],
   "source": [
    "print(True)\n",
    "print(False)\n",
    "type(True)\n",
    "type(False)"
   ]
  },
  {
   "cell_type": "code",
   "execution_count": 40,
   "metadata": {},
   "outputs": [
    {
     "name": "stdout",
     "output_type": "stream",
     "text": [
      "HELLO WORLD\n"
     ]
    },
    {
     "data": {
      "text/plain": [
       "str"
      ]
     },
     "execution_count": 40,
     "metadata": {},
     "output_type": "execute_result"
    }
   ],
   "source": [
    "print('HELLO WORLD')\n",
    "type('HELLO WORLD')"
   ]
  },
  {
   "cell_type": "code",
   "execution_count": 41,
   "metadata": {},
   "outputs": [
    {
     "name": "stdout",
     "output_type": "stream",
     "text": [
      "(5+7j)\n"
     ]
    },
    {
     "data": {
      "text/plain": [
       "complex"
      ]
     },
     "execution_count": 41,
     "metadata": {},
     "output_type": "execute_result"
    }
   ],
   "source": [
    "print(5+7j)\n",
    "type(5+7j)"
   ]
  },
  {
   "cell_type": "code",
   "execution_count": 42,
   "metadata": {},
   "outputs": [
    {
     "name": "stdout",
     "output_type": "stream",
     "text": [
      "[1, 2, 3, 4, 5]\n"
     ]
    },
    {
     "data": {
      "text/plain": [
       "list"
      ]
     },
     "execution_count": 42,
     "metadata": {},
     "output_type": "execute_result"
    }
   ],
   "source": [
    "print([1,2,3,4,5])\n",
    "type([1,2,3,4,5])"
   ]
  },
  {
   "cell_type": "code",
   "execution_count": 43,
   "metadata": {},
   "outputs": [
    {
     "name": "stdout",
     "output_type": "stream",
     "text": [
      "(1, 2, 3, 4, 5)\n"
     ]
    },
    {
     "data": {
      "text/plain": [
       "tuple"
      ]
     },
     "execution_count": 43,
     "metadata": {},
     "output_type": "execute_result"
    }
   ],
   "source": [
    "print(( 1,2,3,4,5))\n",
    "type(( 1,2,3,4,5))"
   ]
  },
  {
   "cell_type": "code",
   "execution_count": 44,
   "metadata": {},
   "outputs": [
    {
     "name": "stdout",
     "output_type": "stream",
     "text": [
      "{1, 2, 3, 4, 5}\n"
     ]
    },
    {
     "data": {
      "text/plain": [
       "set"
      ]
     },
     "execution_count": 44,
     "metadata": {},
     "output_type": "execute_result"
    }
   ],
   "source": [
    "print({ 1,2,3,4,5})\n",
    "type({ 1,2,3,4,5})"
   ]
  },
  {
   "cell_type": "code",
   "execution_count": 45,
   "metadata": {},
   "outputs": [
    {
     "name": "stdout",
     "output_type": "stream",
     "text": [
      "{1: 2, 3: 4, 5: 6}\n"
     ]
    },
    {
     "data": {
      "text/plain": [
       "dict"
      ]
     },
     "execution_count": 45,
     "metadata": {},
     "output_type": "execute_result"
    }
   ],
   "source": [
    "print({1:2,3:4,5:6})\n",
    "type({1:2,3:4,5:6})"
   ]
  },
  {
   "cell_type": "markdown",
   "metadata": {},
   "source": [
    "# Variables"
   ]
  },
  {
   "cell_type": "code",
   "execution_count": 46,
   "metadata": {},
   "outputs": [
    {
     "name": "stdout",
     "output_type": "stream",
     "text": [
      "Type of name: <class 'str'>\n",
      "Type of age: <class 'int'>\n",
      "Type of height: <class 'float'>\n",
      "Type of is_active: <class 'bool'>\n",
      "Type of numbers: <class 'list'>\n",
      "Type of user_info: <class 'dict'>\n",
      "Type of grades: <class 'tuple'>\n",
      "Type of dynamic_name: <class 'str'>\n",
      "Type of dynamic_age: <class 'int'>\n",
      "Type of dynamic_height: <class 'float'>\n",
      "Type of dynamic_active: <class 'bool'>\n",
      "Type of dynamic_list: <class 'list'>\n",
      "Type of dynamic_dict: <class 'dict'>\n"
     ]
    }
   ],
   "source": [
    "# Static typing examples\n",
    "name: str = \"Amazon Q\"\n",
    "age: int = 25\n",
    "height: float = 5.9\n",
    "is_active: bool = True\n",
    "numbers: list[int] = [1, 2, 3, 4, 5]\n",
    "user_info: dict[str, str] = {\"name\": \"John\", \"email\": \"john@example.com\"}\n",
    "grades: tuple[int, ...] = (95, 87, 92)\n",
    "\n",
    "# Dynamic typing examples \n",
    "dynamic_name = \"Amazon Q\"  # Type inferred as str\n",
    "dynamic_age = 25          # Type inferred as int\n",
    "dynamic_height = 5.9      # Type inferred as float\n",
    "dynamic_active = True     # Type inferred as bool\n",
    "dynamic_list = [1, \"two\", 3.0, True]  # List with mixed types\n",
    "dynamic_dict = {\"key1\": 100, \"key2\": \"value2\"}  # Dict with mixed value types\n",
    "# Print types of statically typed variables\n",
    "print(f\"Type of name: {type(name)}\")\n",
    "print(f\"Type of age: {type(age)}\")\n",
    "print(f\"Type of height: {type(height)}\")\n",
    "print(f\"Type of is_active: {type(is_active)}\")\n",
    "print(f\"Type of numbers: {type(numbers)}\")\n",
    "print(f\"Type of user_info: {type(user_info)}\")\n",
    "print(f\"Type of grades: {type(grades)}\")\n",
    "\n",
    "# Print types of dynamically typed variables\n",
    "print(f\"Type of dynamic_name: {type(dynamic_name)}\")\n",
    "print(f\"Type of dynamic_age: {type(dynamic_age)}\")\n",
    "print(f\"Type of dynamic_height: {type(dynamic_height)}\")\n",
    "print(f\"Type of dynamic_active: {type(dynamic_active)}\")\n",
    "print(f\"Type of dynamic_list: {type(dynamic_list)}\")\n",
    "print(f\"Type of dynamic_dict: {type(dynamic_dict)}\")"
   ]
  },
  {
   "cell_type": "markdown",
   "metadata": {},
   "source": [
    "# comments\n"
   ]
  },
  {
   "cell_type": "code",
   "execution_count": 47,
   "metadata": {},
   "outputs": [
    {
     "data": {
      "text/plain": [
       "'\\nAnother way to write\\nmulti-line comments using\\ndouble quotes\\n'"
      ]
     },
     "execution_count": 47,
     "metadata": {},
     "output_type": "execute_result"
    }
   ],
   "source": [
    "\n",
    "# Single line comment using #\n",
    "\n",
    "'''\n",
    "This is a multi-line comment\n",
    "using triple quotes\n",
    "It can span multiple lines\n",
    "'''\n",
    "\n",
    "\"\"\"\n",
    "Another way to write\n",
    "multi-line comments using\n",
    "double quotes\n",
    "\"\"\"\n",
    "\n",
    "# TODO: This is a todo comment\n",
    "\n",
    "# FIXME: This indicates something that needs to be fixed\n",
    "\n",
    "#################################################################\n",
    "# Section headers can be created with repeated special characters\n",
    "#################################################################\n",
    "\n",
    "# pylint: disable=invalid-name\n",
    "# Special comments to disable linter warnings\n",
    "\n",
    "# region Custom Code Block\n",
    "# Code goes here\n",
    "# endregion\n",
    "\n",
    "#!/usr/bin/env python\n",
    "# Shebang comment at start of file to specify Python interpreter\n",
    "\n",
    "# NOTE: Important note about the code\n",
    "# WARNING: Warning message about potential issues\n",
    "# DEBUG: Debug-related comment"
   ]
  },
  {
   "cell_type": "markdown",
   "metadata": {},
   "source": [
    "# keyword & identifiers\n"
   ]
  },
  {
   "cell_type": "code",
   "execution_count": 50,
   "metadata": {},
   "outputs": [
    {
     "name": "stdout",
     "output_type": "stream",
     "text": [
      "['False', 'None', 'True', 'and', 'as', 'assert', 'async', 'await', 'break', 'class', 'continue', 'def', 'del', 'elif', 'else', 'except', 'finally', 'for', 'from', 'global', 'if', 'import', 'in', 'is', 'lambda', 'nonlocal', 'not', 'or', 'pass', 'raise', 'return', 'try', 'while', 'with', 'yield']\n"
     ]
    }
   ],
   "source": [
    "\n",
    "# Print all Python keywords using the keyword module\n",
    "import keyword\n",
    "print(keyword.kwlist)"
   ]
  },
  {
   "cell_type": "code",
   "execution_count": 51,
   "metadata": {},
   "outputs": [
    {
     "name": "stdout",
     "output_type": "stream",
     "text": [
      "cutie\n",
      "pie\n"
     ]
    }
   ],
   "source": [
    "name= \"cutie\"\n",
    "print(name)\n",
    "_=\"pie\"\n",
    "print(_)"
   ]
  },
  {
   "cell_type": "markdown",
   "metadata": {},
   "source": [
    "user input\n"
   ]
  },
  {
   "cell_type": "code",
   "execution_count": null,
   "metadata": {},
   "outputs": [
    {
     "name": "stdout",
     "output_type": "stream",
     "text": [
      "\n",
      "Your name is: hi\n",
      "Type of name variable: <class 'str'>\n",
      "\n",
      "Your age is: 45\n",
      "Type of age variable: <class 'int'>\n",
      "\n",
      "Your height is: 167.8\n",
      "Type of height variable: <class 'float'>\n"
     ]
    }
   ],
   "source": [
    "\n",
    "# Get user input for different types of data\n",
    "name = input(\"Enter your name: \")\n",
    "age = int(input(\"Enter your age: \"))\n",
    "height = float(input(\"Enter your height in meters: \"))\n",
    "\n",
    "# Print the inputs and their types\n",
    "print(f\"\\nYour name is: {name}\")\n",
    "print(f\"Type of name variable: {type(name)}\")\n",
    "\n",
    "print(f\"\\nYour age is: {age}\")\n",
    "print(f\"Type of age variable: {type(age)}\")\n",
    "\n",
    "print(f\"\\nYour height is: {height}\")\n",
    "print(f\"Type of height variable: {type(height)}\")"
   ]
  },
  {
   "cell_type": "markdown",
   "metadata": {},
   "source": [
    "# type conversion\n"
   ]
  },
  {
   "cell_type": "code",
   "execution_count": 54,
   "metadata": {},
   "outputs": [
    {
     "name": "stdout",
     "output_type": "stream",
     "text": [
      "14.325678\n",
      "-4.325678\n",
      "46.628389999999996\n",
      "0.5361540469229155\n",
      "0.0\n",
      "1953125\n",
      "5.0\n",
      "<class 'float'> <class 'float'> <class 'float'> <class 'float'> <class 'float'> <class 'int'> <class 'float'>\n"
     ]
    }
   ],
   "source": [
    "print(5+9.325678)\n",
    "print(5-9.325678)\n",
    "print(5*9.325678)\n",
    "print(5/9.325678)\n",
    "print(5//9.325678)\n",
    "print(5**9)\n",
    "print(5%9.325678)\n",
    "print(type( 5+9.325678),type(5-9.325678),type(5*9.325678),type(5/9.325678),type(5//9.325678),type(5**9),type(5%9.325678))"
   ]
  },
  {
   "cell_type": "markdown",
   "metadata": {},
   "source": [
    "literals\n"
   ]
  },
  {
   "cell_type": "code",
   "execution_count": 55,
   "metadata": {},
   "outputs": [
    {
     "name": "stdout",
     "output_type": "stream",
     "text": [
      "11087 2739128 81985529216486895 98645343212\n"
     ]
    }
   ],
   "source": [
    "a=0b10101101001111\n",
    "b=0o12345670\n",
    "c=0x123456789abcdef\n",
    "d=98645343212\n",
    "print(a,b,c,d)"
   ]
  },
  {
   "cell_type": "code",
   "execution_count": 56,
   "metadata": {},
   "outputs": [
    {
     "name": "stdout",
     "output_type": "stream",
     "text": [
      "(5+38j)\n",
      "5.0\n",
      "38.0\n"
     ]
    }
   ],
   "source": [
    "n=5+38j\n",
    "print(n)\n",
    "print(n.real)\n",
    "print(n.imag)"
   ]
  },
  {
   "cell_type": "code",
   "execution_count": 59,
   "metadata": {},
   "outputs": [
    {
     "name": "stdout",
     "output_type": "stream",
     "text": [
      "hello world\n",
      "hello world 2\n",
      "i\n",
      "This is a multiline string with more than one line code.\n",
      "🙃🙂\n",
      "raw \\n string\n",
      "b'byte'\n"
     ]
    }
   ],
   "source": [
    "strings=\"hello world\"\n",
    "strin=\"hello world 2\"\n",
    "char = 'i'\n",
    "multiline_str= \"\"\"This is a multiline string with more than one line code.\"\"\"\n",
    "unicode = \"\\U0001F643\\U0001F642\"  # Correct Unicode escape sequences\n",
    "raw_str = r\"raw \\n string\"\n",
    "byte = b'byte'\n",
    "\n",
    "print(strings)\n",
    "print(strin)\n",
    "print(char)\n",
    "print(multiline_str)\n",
    "print(unicode)\n",
    "print(raw_str)\n",
    "print(byte)"
   ]
  },
  {
   "cell_type": "code",
   "execution_count": 60,
   "metadata": {},
   "outputs": [
    {
     "name": "stdout",
     "output_type": "stream",
     "text": [
      "2\n",
      "1\n"
     ]
    }
   ],
   "source": [
    "a= True+1\n",
    "b= False+1\n",
    "print(a)\n",
    "print(b)"
   ]
  },
  {
   "cell_type": "code",
   "execution_count": 62,
   "metadata": {},
   "outputs": [
    {
     "name": "stdout",
     "output_type": "stream",
     "text": [
      "None\n"
     ]
    },
    {
     "data": {
      "text/plain": [
       "NoneType"
      ]
     },
     "execution_count": 62,
     "metadata": {},
     "output_type": "execute_result"
    }
   ],
   "source": [
    "p= None\n",
    "print(p)\n",
    "type(p)"
   ]
  }
 ],
 "metadata": {
  "kernelspec": {
   "display_name": "Python 3",
   "language": "python",
   "name": "python3"
  },
  "language_info": {
   "codemirror_mode": {
    "name": "ipython",
    "version": 3
   },
   "file_extension": ".py",
   "mimetype": "text/x-python",
   "name": "python",
   "nbconvert_exporter": "python",
   "pygments_lexer": "ipython3",
   "version": "3.13.1"
  }
 },
 "nbformat": 4,
 "nbformat_minor": 2
}
