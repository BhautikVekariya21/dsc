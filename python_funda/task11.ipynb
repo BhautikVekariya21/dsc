{
 "cells": [
  {
   "cell_type": "markdown",
   "metadata": {},
   "source": [
    "### `Q-1`: You are given a function definition. There might be several issues on execution of this function. You are asked to do exception handling for diffrent errors that this function goes in to `without altering this function`. And print error text.\n",
    "\n",
    "\n",
    "Function parameters `l -> list, s -> could be anything`\n",
    "\n",
    "```\n",
    "def function(l: list, s, **args):\n",
    "    last_element = l[-1]\n",
    "    \n",
    "    l[int(s)]=10\n",
    "    any_element = l[int(s)+10]\n",
    "    l[s]=10\n",
    "    \n",
    "    res = sum(l)\n",
    "    \n",
    "    p = args['p']\n",
    "    # print(p)\n",
    "    return res/last_element * p + any_element\n",
    "\n",
    "```\n",
    "Check for different function calls:-\n",
    "\n",
    "```\n",
    "function([1,2,1], 12)\n",
    "function([1,2,1]*9, '1-2')\n",
    "function([1,'2',1]*9, 12)\n",
    "function([1,'2',1]*9, 12)\n",
    "function([1,2,0]*9, 12  )\n",
    "function([1,2,1]*9, 12, p=None)\n",
    "function([1,2,0]*9, 12, p=10)\n",
    "```"
   ]
  },
  {
   "cell_type": "code",
   "execution_count": 1,
   "metadata": {},
   "outputs": [
    {
     "name": "stdout",
     "output_type": "stream",
     "text": [
      "\n",
      "Test Case 1:\n",
      "Unexpected Error: name 'function' is not defined\n",
      "\n",
      "Test Case 2:\n",
      "Unexpected Error: name 'function' is not defined\n",
      "\n",
      "Test Case 3:\n",
      "Unexpected Error: name 'function' is not defined\n",
      "\n",
      "Test Case 4:\n",
      "Unexpected Error: name 'function' is not defined\n",
      "\n",
      "Test Case 5:\n",
      "Unexpected Error: name 'function' is not defined\n",
      "\n",
      "Test Case 6:\n",
      "Unexpected Error: name 'function' is not defined\n"
     ]
    }
   ],
   "source": [
    "def safe_function_call(l, s, **args):\n",
    "    try:\n",
    "        # Attempt to call the function with given parameters\n",
    "        result = function(l, s, **args)\n",
    "        print(\"Result:\", result)\n",
    "    except IndexError as e:\n",
    "        print(\"IndexError:\", e)\n",
    "    except ValueError as e:\n",
    "        print(\"ValueError:\", e)\n",
    "    except TypeError as e:\n",
    "        print(\"TypeError:\", e)\n",
    "    except ZeroDivisionError as e:\n",
    "        print(\"ZeroDivisionError:\", e)\n",
    "    except KeyError as e:\n",
    "        print(\"KeyError:\", e)\n",
    "    except Exception as e:\n",
    "        print(\"Unexpected Error:\", e)\n",
    "\n",
    "# Test cases\n",
    "print(\"\\nTest Case 1:\")\n",
    "safe_function_call([1, 2, 1], 12)\n",
    "\n",
    "print(\"\\nTest Case 2:\")\n",
    "safe_function_call([1, 2, 1] * 9, '1-2')\n",
    "\n",
    "print(\"\\nTest Case 3:\")\n",
    "safe_function_call([1, '2', 1] * 9, 12)\n",
    "\n",
    "print(\"\\nTest Case 4:\")\n",
    "safe_function_call([1, 2, 0] * 9, 12)\n",
    "\n",
    "print(\"\\nTest Case 5:\")\n",
    "safe_function_call([1, 2, 1] * 9, 12, p=None)\n",
    "\n",
    "print(\"\\nTest Case 6:\")\n",
    "safe_function_call([1, 2, 0] * 9, 12, p=10)\n"
   ]
  },
  {
   "cell_type": "markdown",
   "metadata": {},
   "source": [
    "### `Q-2:` You are given a code snippet. There might be several issues on execution of this code. You are asked to do exception handling for diffrent errors, condition is what ever happens we need to execute last line printing correct result of `sum of elements`.\n",
    "\n",
    "List have elemnts as any no of  `key-pair dict with key as list index and value as any integer`, `integers` and `numeric-strings`. There is always only one element in the dict.\n",
    "\n",
    "\n",
    "```\n",
    "l = [{0:2},2,3,4,'5', {5:10}]\n",
    "# For calculating sum of above list\n",
    "s=0\n",
    "for i in range(len(l)):\n",
    "    #You can Edit code from here\n",
    "    s += l[i].get(i)\n",
    "    s += l[i]\n",
    "    s += int(l[i])\n",
    "\n",
    "\n",
    "print(s)\n",
    "```"
   ]
  },
  {
   "cell_type": "code",
   "execution_count": 1,
   "metadata": {},
   "outputs": [
    {
     "name": "stdout",
     "output_type": "stream",
     "text": [
      "2\n",
      "4\n",
      "7\n",
      "11\n",
      "16\n",
      "26\n",
      "Sum of elements: 26\n"
     ]
    }
   ],
   "source": [
    "l = [{0: 2}, 2, 3, 4, '5', {5: 10}]\n",
    "s = 0\n",
    "\n",
    "for i in range(len(l)):\n",
    "    try:\n",
    "        # If the element is a dictionary, get the value using the index as the key\n",
    "        if isinstance(l[i], dict):\n",
    "            s += l[i].get(i, 0)  # Default to 0 if the key is not present\n",
    "            print(s)\n",
    "        \n",
    "        # If the element is an integer, add it directly\n",
    "        elif isinstance(l[i], int):\n",
    "            s += l[i]\n",
    "            print(s)\n",
    "        \n",
    "        # If the element is a numeric string, convert to int and add\n",
    "        elif isinstance(l[i], str):\n",
    "            s += int(l[i])\n",
    "            print(s)\n",
    "    \n",
    "    except (ValueError, TypeError, AttributeError) as e:\n",
    "        print(f\"Error at index {i}: {e}\")\n",
    "        continue\n",
    "\n",
    "print(\"Sum of elements:\", s)\n"
   ]
  },
  {
   "cell_type": "markdown",
   "metadata": {},
   "source": [
    "### `Q-3:`: File Handling with Exception handling\n",
    "\n",
    "Write a program that opens a text file and write data to it as \"Hello, Good Morning!!!\". Handle exceptions that can be generated during the I/O operations. Do not show the success message on the main exception handling block (write inside the else block)."
   ]
  },
  {
   "cell_type": "code",
   "execution_count": null,
   "metadata": {},
   "outputs": [],
   "source": [
    "try:\n",
    "    # Attempt to open the file in write mode\n",
    "    with open(\"greeting.txt\", \"w\") as file:\n",
    "        file.write(\"Hello, Good Morning!!!\")\n",
    "except FileNotFoundError as e:\n",
    "    print(\"FileNotFoundError:\", e)\n",
    "except IOError as e:\n",
    "    print(\"IOError:\", e)\n",
    "except Exception as e:\n",
    "    print(\"Unexpected Error:\", e)\n",
    "else:\n",
    "    # This block executes only if no exception occurs\n",
    "    print(\"Data written successfully to greeting.txt\")\n"
   ]
  },
  {
   "cell_type": "markdown",
   "metadata": {},
   "source": [
    "### `Q-4`: Number game program.\n",
    "\n",
    "Write a number game program. Ask the user to enter a number. If the number is greater than number to be guessed, raise a **ValueTooLarge** exception. If the value is smaller the number to be guessed the, raise a **ValueTooSmall** exception and prompt the user to enter again. Quit the program only when the user enters the correct number. Also raise **GuessError** if user guess a number less than 1."
   ]
  },
  {
   "cell_type": "code",
   "execution_count": 3,
   "metadata": {},
   "outputs": [
    {
     "name": "stdout",
     "output_type": "stream",
     "text": [
      "ValueTooLarge: The number is too large.\n",
      "ValueTooLarge: The number is too large.\n",
      "Congratulations! You guessed the correct number.\n"
     ]
    }
   ],
   "source": [
    "class ValueTooLarge(Exception):\n",
    "    pass\n",
    "\n",
    "class ValueTooSmall(Exception):\n",
    "    pass\n",
    "\n",
    "class GuessError(Exception):\n",
    "    pass\n",
    "\n",
    "number_to_guess = 10  # You can set this to any number you want\n",
    "\n",
    "while True:\n",
    "    try:\n",
    "        user_input = int(input(\"Enter a number: \"))\n",
    "        \n",
    "        if user_input < 1:\n",
    "            raise GuessError(\"GuessError: Number must be greater than 0.\")\n",
    "        \n",
    "        if user_input > number_to_guess:\n",
    "            raise ValueTooLarge(\"ValueTooLarge: The number is too large.\")\n",
    "        \n",
    "        if user_input < number_to_guess:\n",
    "            raise ValueTooSmall(\"ValueTooSmall: The number is too small.\")\n",
    "        \n",
    "        print(\"Congratulations! You guessed the correct number.\")\n",
    "        break\n",
    "    \n",
    "    except ValueTooLarge as e:\n",
    "        print(e)\n",
    "    \n",
    "    except ValueTooSmall as e:\n",
    "        print(e)\n",
    "    \n",
    "    except GuessError as e:\n",
    "        print(e)\n",
    "    \n",
    "    except ValueError:\n",
    "        print(\"Invalid input. Please enter an integer.\")"
   ]
  },
  {
   "cell_type": "markdown",
   "metadata": {},
   "source": [
    "### `Q-5:` Cast vote\n",
    "\n",
    "Write a program that validate name and age as entered by the user to determine whether the person can cast vote or not. To handle the age, create **InvalidAge** exception and for name, create **InvalidName** exception. The name will be invalid when the string will be empty or name has only one word.\n",
    "\n",
    "Example 1:\n",
    "\n",
    "Input:\n",
    "\n",
    "```bash\n",
    "Enter the name:               goransh singh\n",
    "Enter the age: 25\n",
    "```\n",
    "\n",
    "Output:\n",
    "\n",
    "```bash\n",
    "Goransh Singh  Congratulation !!! You can vote.\n",
    "```"
   ]
  },
  {
   "cell_type": "code",
   "execution_count": 4,
   "metadata": {},
   "outputs": [
    {
     "name": "stdout",
     "output_type": "stream",
     "text": [
      "Beautiful Girl  Congratulation !!! You can vote.\n"
     ]
    }
   ],
   "source": [
    "class InvalidAge(Exception):\n",
    "    pass\n",
    "\n",
    "class InvalidName(Exception):\n",
    "    pass\n",
    "\n",
    "def validate_voter(name, age):\n",
    "    if not name or len(name.split()) < 2:\n",
    "        raise InvalidName(\"InvalidName: Name must be at least two words.\")\n",
    "    \n",
    "    if age < 18:\n",
    "        raise InvalidAge(\"InvalidAge: Age must be at least 18 to vote.\")\n",
    "    \n",
    "    print(f\"{name.title()}  Congratulation !!! You can vote.\")\n",
    "\n",
    "try:\n",
    "    name = input(\"Enter the name: \").strip()\n",
    "    age = int(input(\"Enter the age: \").strip())\n",
    "    validate_voter(name, age)\n",
    "except InvalidName as e:\n",
    "    print(e)\n",
    "except InvalidAge as e:\n",
    "    print(e)\n",
    "except ValueError:\n",
    "    print(\"Invalid input. Age must be an integer.\")"
   ]
  },
  {
   "cell_type": "markdown",
   "metadata": {},
   "source": [
    "### `Q-6`: Write a python function which infinitely prints natural numbers in a single line. Raise the **StopIteration** exception after displaying first 20 numnbers to exit from the program."
   ]
  },
  {
   "cell_type": "code",
   "execution_count": 5,
   "metadata": {},
   "outputs": [
    {
     "name": "stdout",
     "output_type": "stream",
     "text": [
      "1 2 3 4 5 6 7 8 9 10 11 12 13 14 15 16 17 18 19 20 \n",
      " Reached 20, stopping iteration.\n"
     ]
    }
   ],
   "source": [
    "def natural_numbers():\n",
    "    num = 1\n",
    "    while True:\n",
    "        if num > 20:\n",
    "            raise StopIteration(\"Reached 20, stopping iteration.\")\n",
    "        print(num, end=' ')\n",
    "        num += 1\n",
    "\n",
    "try:\n",
    "    natural_numbers()\n",
    "except StopIteration as e:\n",
    "    print(\"\\n\", e)\n"
   ]
  }
 ],
 "metadata": {
  "kernelspec": {
   "display_name": "Python 3",
   "language": "python",
   "name": "python3"
  },
  "language_info": {
   "codemirror_mode": {
    "name": "ipython",
    "version": 3
   },
   "file_extension": ".py",
   "mimetype": "text/x-python",
   "name": "python",
   "nbconvert_exporter": "python",
   "pygments_lexer": "ipython3",
   "version": "3.13.5"
  }
 },
 "nbformat": 4,
 "nbformat_minor": 2
}
