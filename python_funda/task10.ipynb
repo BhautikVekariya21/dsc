{
 "cells": [
  {
   "cell_type": "markdown",
   "metadata": {},
   "source": [
    "### `Q-1:` Write a function `get_final_line(filename)`, which takes filename as input and return final line of the file.\n",
    "\n",
    "Note: You can choose any file of your choice."
   ]
  },
  {
   "cell_type": "code",
   "execution_count": 3,
   "metadata": {},
   "outputs": [
    {
     "name": "stdout",
     "output_type": "stream",
     "text": [
      "what should i do for making better world?\n"
     ]
    }
   ],
   "source": [
    "def get_final_line(filename):\n",
    "    with open(filename, 'r') as file:\n",
    "        for current_line in file:\n",
    "            last_line = current_line\n",
    "    return last_line\n",
    "\n",
    "print(get_final_line('input.txt'))"
   ]
  },
  {
   "cell_type": "markdown",
   "metadata": {},
   "source": [
    "### `Q-2:` Read through a text file, line by line. Use a dict to keep track of how many times each vowel (a, e, i, o, and u) appears in the file. Print the resulting tabulation -- dictionary."
   ]
  },
  {
   "cell_type": "code",
   "execution_count": 6,
   "metadata": {},
   "outputs": [
    {
     "name": "stdout",
     "output_type": "stream",
     "text": [
      "{'a': 5, 'e': 4, 'i': 4, 'o': 6, 'u': 3}\n",
      "None\n"
     ]
    }
   ],
   "source": [
    "vowel_dictionary = {'a':0,'e':0,'i':0,'o':0,'u':0}\n",
    "def get_vowel(filename):\n",
    "    with open(filename, 'r') as file:\n",
    "        for current_line in file:\n",
    "            for character in current_line.lower():\n",
    "                if character in vowel_dictionary:\n",
    "                    vowel_dictionary[character] += 1\n",
    "        print(vowel_dictionary)\n",
    "        \n",
    "print(get_vowel('input.txt'))"
   ]
  },
  {
   "cell_type": "markdown",
   "metadata": {},
   "source": [
    "### `Q-3:` Create a text file (using an editor, not necessarily Python) containing two tab separated columns, with each column containing a number. Then use Python to read through the file you’ve created. For each line, multiply each first number by the second and include it in the file in third column. In last add a line Total, by summing the value of third column\n",
    "\n"
   ]
  },
  {
   "cell_type": "markdown",
   "metadata": {},
   "source": [
    "Input File example: That you need to create\n",
    "```\n",
    "1   2\n",
    "3   4\n",
    "5   6\n",
    "7   8\n",
    "9   10\n",
    "\n",
    "```\n",
    "\n",
    "Output File Example:\n",
    "```\n",
    "1   2   2\n",
    "3   4   12\n",
    "5   6   30\n",
    "7   8   56\n",
    "9   10  90\n",
    "Total   190\n",
    "```\n"
   ]
  },
  {
   "cell_type": "code",
   "execution_count": 3,
   "metadata": {},
   "outputs": [],
   "source": [
    "def process_file(input_filename, output_filename):\n",
    "    total = 0\n",
    "    output_lines = []\n",
    "    \n",
    "    # Read input file\n",
    "    with open(input_filename, 'r') as f:\n",
    "        for line in f:\n",
    "            # Split the line into a list of strings\n",
    "            numbers = line.split()\n",
    "            # Convert the two strings to integers\n",
    "            num1 = int(numbers[0])  # First number\n",
    "            num2 = int(numbers[1])  # Second number\n",
    "            # Calculate product\n",
    "            product = num1 * num2\n",
    "            # Add to total\n",
    "            total += product\n",
    "            # Store output line\n",
    "            output_lines.append(f\"{num1}\\t{num2}\\t{product}\\n\")\n",
    "    \n",
    "    # Add total line\n",
    "    output_lines.append(f\"Total\\t{total}\\n\")\n",
    "    \n",
    "    # Write to output file\n",
    "    with open(output_filename, 'w') as f:\n",
    "        f.writelines(output_lines)\n",
    "\n",
    "# Example usage\n",
    "input_file = \"inputt.txt\"\n",
    "output_file = \"outputt.txt\"\n",
    "process_file(input_file, output_file)"
   ]
  },
  {
   "cell_type": "markdown",
   "metadata": {},
   "source": [
    "### `Q-4:` Create line wise reverse of a file\n",
    "Write a function which takes two arguments: the names of the input file (to be read from) and the output file (which will be created)."
   ]
  },
  {
   "cell_type": "markdown",
   "metadata": {},
   "source": [
    "For example, if a file looks like\n",
    " ```\n",
    "abc def\n",
    "ghi jkl\n",
    "```\n",
    "then the output file will be\n",
    "```\n",
    "fed cba\n",
    "lkj ihg\n",
    "```\n",
    "**Notice**: The newline remains at the end of the string, while the rest of the characters are all reversed."
   ]
  },
  {
   "cell_type": "code",
   "execution_count": 2,
   "metadata": {},
   "outputs": [
    {
     "name": "stdout",
     "output_type": "stream",
     "text": [
      "Reversed content has been written to output.txt\n"
     ]
    }
   ],
   "source": [
    "def line_wise_reverse(input_file, output_file):\n",
    "    try:\n",
    "        # Open the input file in read mode and output file in write mode\n",
    "        with open(input_file, 'r') as infile, open(output_file, 'w') as outfile:\n",
    "            # Read each line from the input file\n",
    "            for line in infile:\n",
    "                # Reverse the line and write to the output file\n",
    "                outfile.write(line[::-1] + '\\n')\n",
    "        print(f\"Reversed content has been written to {output_file}\")\n",
    "    except FileNotFoundError:\n",
    "        print(\"Input file not found.\")\n",
    "    except Exception as e:\n",
    "        print(f\"An error occurred: {e}\")\n",
    "\n",
    "# Example usage\n",
    "line_wise_reverse('input.txt', 'output.txt')\n"
   ]
  },
  {
   "cell_type": "markdown",
   "metadata": {},
   "source": [
    "### `Q-5:` Create a Serialized dict of frequency of words in the file. And from given list of words, using serialized dict show word count.\n",
    "\n",
    "* List of word will be given"
   ]
  },
  {
   "cell_type": "markdown",
   "metadata": {},
   "source": [
    "Given String\n",
    "\n",
    "```\n",
    "strings = \"\"\"Alice was beginning to get very tired of sitting by her sister\n",
    "            on the bank, and of having nothing to do:  once or twice she had\n",
    "            peeped into the book her sister was reading, but it had no\n",
    "            pictures or conversations in it, `and what is the use of a book,'\n",
    "            thought Alice `without pictures or conversation?'\n",
    "\n",
    "            So she was considering in her own mind (as well as she could,\n",
    "            for the hot day made her feel very sleepy and stupid), whether\n",
    "            the pleasure of making a daisy-chain would be worth the trouble\n",
    "            of getting up and picking the daisies, when suddenly a White\n",
    "            Rabbit with pink eyes ran close by her.\n",
    "\n",
    "            There was nothing so VERY remarkable in that; nor did Alice\n",
    "            think it so VERY much out of the way to hear the Rabbit say to\n",
    "            itself, `Oh dear!  Oh dear!  I shall be late!'  (when she thought\n",
    "            it over afterwards, it occurred to her that she ought to have\n",
    "            wondered at this, but at the time it all seemed quite natural);\n",
    "            but when the Rabbit actually TOOK A WATCH OUT OF ITS WAISTCOAT-\n",
    "            POCKET, and looked at it, and then hurried on, Alice started to\n",
    "            her feet, for it flashed across her mind that she had never\n",
    "            before seen a rabbit with either a waistcoat-pocket, or a watch to\n",
    "            take out of it, and burning with curiosity, she ran across the\n",
    "            field after it, and fortunately was just in time to see it pop\n",
    "            down a large rabbit-hole under the hedge.\"\"\"\n",
    "\n",
    "word_list = ['alice', 'wonder', 'natural']\n",
    "```"
   ]
  },
  {
   "cell_type": "code",
   "execution_count": null,
   "metadata": {},
   "outputs": [
    {
     "name": "stdout",
     "output_type": "stream",
     "text": [
      "Counter({'the': 13, 'it': 11, 'to': 9, 'of': 8, 'her': 8, 'and': 8, 'a': 8, 'she': 7, 'was': 5, 'rabbit': 5, 'alice': 4, 'very': 4, 'or': 4, 'in': 4, 'had': 3, 'but': 3, 'so': 3, 'when': 3, 'with': 3, 'that': 3, 'out': 3, 'at': 3, 'by': 2, 'sister': 2, 'on': 2, 'nothing': 2, 'book': 2, 'pictures': 2, 'thought': 2, 'mind': 2, 'as': 2, 'for': 2, 'be': 2, 'ran': 2, 'oh': 2, 'dear': 2, 'time': 2, 'watch': 2, 'waistcoat': 2, 'pocket': 2, 'across': 2, 'beginning': 1, 'get': 1, 'tired': 1, 'sitting': 1, 'bank': 1, 'having': 1, 'do': 1, 'once': 1, 'twice': 1, 'peeped': 1, 'into': 1, 'reading': 1, 'no': 1, 'conversations': 1, 'what': 1, 'is': 1, 'use': 1, 'without': 1, 'conversation': 1, 'considering': 1, 'own': 1, 'well': 1, 'could': 1, 'hot': 1, 'day': 1, 'made': 1, 'feel': 1, 'sleepy': 1, 'stupid': 1, 'whether': 1, 'pleasure': 1, 'making': 1, 'daisy': 1, 'chain': 1, 'would': 1, 'worth': 1, 'trouble': 1, 'getting': 1, 'up': 1, 'picking': 1, 'daisies': 1, 'suddenly': 1, 'white': 1, 'pink': 1, 'eyes': 1, 'close': 1, 'there': 1, 'remarkable': 1, 'nor': 1, 'did': 1, 'think': 1, 'much': 1, 'way': 1, 'hear': 1, 'say': 1, 'itself': 1, 'i': 1, 'shall': 1, 'late': 1, 'over': 1, 'afterwards': 1, 'occurred': 1, 'ought': 1, 'have': 1, 'wondered': 1, 'this': 1, 'all': 1, 'seemed': 1, 'quite': 1, 'natural': 1, 'actually': 1, 'took': 1, 'its': 1, 'looked': 1, 'then': 1, 'hurried': 1, 'started': 1, 'feet': 1, 'flashed': 1, 'never': 1, 'before': 1, 'seen': 1, 'either': 1, 'take': 1, 'burning': 1, 'curiosity': 1, 'field': 1, 'after': 1, 'fortunately': 1, 'just': 1, 'see': 1, 'pop': 1, 'down': 1, 'large': 1, 'hole': 1, 'under': 1, 'hedge': 1})\n",
      "Serialized word frequency dictionary saved as 'word_freq.pkl'.\n",
      "Counter({'the': 13, 'it': 11, 'to': 9, 'of': 8, 'her': 8, 'and': 8, 'a': 8, 'she': 7, 'was': 5, 'rabbit': 5, 'alice': 4, 'very': 4, 'or': 4, 'in': 4, 'had': 3, 'but': 3, 'so': 3, 'when': 3, 'with': 3, 'that': 3, 'out': 3, 'at': 3, 'by': 2, 'sister': 2, 'on': 2, 'nothing': 2, 'book': 2, 'pictures': 2, 'thought': 2, 'mind': 2, 'as': 2, 'for': 2, 'be': 2, 'ran': 2, 'oh': 2, 'dear': 2, 'time': 2, 'watch': 2, 'waistcoat': 2, 'pocket': 2, 'across': 2, 'beginning': 1, 'get': 1, 'tired': 1, 'sitting': 1, 'bank': 1, 'having': 1, 'do': 1, 'once': 1, 'twice': 1, 'peeped': 1, 'into': 1, 'reading': 1, 'no': 1, 'conversations': 1, 'what': 1, 'is': 1, 'use': 1, 'without': 1, 'conversation': 1, 'considering': 1, 'own': 1, 'well': 1, 'could': 1, 'hot': 1, 'day': 1, 'made': 1, 'feel': 1, 'sleepy': 1, 'stupid': 1, 'whether': 1, 'pleasure': 1, 'making': 1, 'daisy': 1, 'chain': 1, 'would': 1, 'worth': 1, 'trouble': 1, 'getting': 1, 'up': 1, 'picking': 1, 'daisies': 1, 'suddenly': 1, 'white': 1, 'pink': 1, 'eyes': 1, 'close': 1, 'there': 1, 'remarkable': 1, 'nor': 1, 'did': 1, 'think': 1, 'much': 1, 'way': 1, 'hear': 1, 'say': 1, 'itself': 1, 'i': 1, 'shall': 1, 'late': 1, 'over': 1, 'afterwards': 1, 'occurred': 1, 'ought': 1, 'have': 1, 'wondered': 1, 'this': 1, 'all': 1, 'seemed': 1, 'quite': 1, 'natural': 1, 'actually': 1, 'took': 1, 'its': 1, 'looked': 1, 'then': 1, 'hurried': 1, 'started': 1, 'feet': 1, 'flashed': 1, 'never': 1, 'before': 1, 'seen': 1, 'either': 1, 'take': 1, 'burning': 1, 'curiosity': 1, 'field': 1, 'after': 1, 'fortunately': 1, 'just': 1, 'see': 1, 'pop': 1, 'down': 1, 'large': 1, 'hole': 1, 'under': 1, 'hedge': 1})\n",
      "alice\n",
      "'alice': 4\n",
      "wonder\n",
      "'wonder': 0\n",
      "natural\n",
      "'natural': 1\n"
     ]
    }
   ],
   "source": [
    "import pickle\n",
    "from collections import Counter\n",
    "import re\n",
    "\n",
    "# Given string\n",
    "strings = \"\"\"Alice was beginning to get very tired of sitting by her sister\n",
    "            on the bank, and of having nothing to do:  once or twice she had\n",
    "            peeped into the book her sister was reading, but it had no\n",
    "            pictures or conversations in it, `and what is the use of a book,'\n",
    "            thought Alice `without pictures or conversation?'\n",
    "\n",
    "            So she was considering in her own mind (as well as she could,\n",
    "            for the hot day made her feel very sleepy and stupid), whether\n",
    "            the pleasure of making a daisy-chain would be worth the trouble\n",
    "            of getting up and picking the daisies, when suddenly a White\n",
    "            Rabbit with pink eyes ran close by her.\n",
    "\n",
    "            There was nothing so VERY remarkable in that; nor did Alice\n",
    "            think it so VERY much out of the way to hear the Rabbit say to\n",
    "            itself, `Oh dear!  Oh dear!  I shall be late!'  (when she thought\n",
    "            it over afterwards, it occurred to her that she ought to have\n",
    "            wondered at this, but at the time it all seemed quite natural);\n",
    "            but when the Rabbit actually TOOK A WATCH OUT OF ITS WAISTCOAT-\n",
    "            POCKET, and looked at it, and then hurried on, Alice started to\n",
    "            her feet, for it flashed across her mind that she had never\n",
    "            before seen a rabbit with either a waistcoat-pocket, or a watch to\n",
    "            take out of it, and burning with curiosity, she ran across the\n",
    "            field after it, and fortunately was just in time to see it pop\n",
    "            down a large rabbit-hole under the hedge.\"\"\"\n",
    "\n",
    "# List of words to search\n",
    "word_list = ['alice', 'wonder', 'natural']\n",
    "\n",
    "# Function to create serialized word frequency dictionary\n",
    "def create_serialized_word_freq(strings, output_file='word_freq.pkl'):\n",
    "    # Normalize the text by converting to lowercase and using regex to extract words\n",
    "    words = re.findall(r'\\b\\w+\\b', strings.lower())\n",
    "    # Create a frequency dictionary using Counter\n",
    "    word_freq = Counter(words)\n",
    "    print(word_freq)\n",
    "    # Serialize the dictionary using pickle\n",
    "    with open(output_file, 'wb') as f:\n",
    "        pickle.dump(word_freq, f)\n",
    "    \n",
    "    print(f\"Serialized word frequency dictionary saved as '{output_file}'.\")\n",
    "\n",
    "# Function to display word counts from the serialized dictionary\n",
    "def display_word_count_from_serialized(word_list, input_file='word_freq.pkl'):\n",
    "    try:\n",
    "        # Deserialize the word frequency dictionary\n",
    "        with open(input_file, 'rb') as f:\n",
    "            word_freq = pickle.load(f)\n",
    "            print(word_freq)\n",
    "        # Display the word count for the provided list\n",
    "        for word in word_list:\n",
    "            print(f\"'{word}': {word_freq.get(word.lower(), 0)}\")\n",
    "    \n",
    "    except FileNotFoundError:\n",
    "        print(f\"Serialized file '{input_file}' not found.\")\n",
    "    except Exception as e:\n",
    "        print(f\"An error occurred: {e}\")\n",
    "\n",
    "# Example usage\n",
    "create_serialized_word_freq(strings)\n",
    "display_word_count_from_serialized(word_list)\n"
   ]
  },
  {
   "cell_type": "markdown",
   "metadata": {},
   "source": [
    "### **`Q-6:`** Given a string calculate length of the string using recursion.\n",
    "\n",
    "**Example 1:**\n",
    "\n",
    "Input:\n",
    "```bash\n",
    "\"abcd\"\n",
    "```\n",
    "\n",
    "Output:\n",
    "\n",
    "```bash\n",
    "4\n",
    "```\n",
    "\n",
    "**Example 2:**\n",
    "\n",
    "Input:\n",
    "```bash\n",
    "DataScience\n",
    "```\n",
    "\n",
    "Output:\n",
    "\n",
    "```bash\n",
    "11\n",
    "```\n"
   ]
  },
  {
   "cell_type": "code",
   "execution_count": 9,
   "metadata": {},
   "outputs": [
    {
     "name": "stdout",
     "output_type": "stream",
     "text": [
      "4\n",
      "11\n"
     ]
    }
   ],
   "source": [
    "def recursive_length(s):\n",
    "    # Base case: if the string is empty, return 0\n",
    "    if s == '':\n",
    "        return 0\n",
    "    # Recursive case: 1 + length of the remaining string\n",
    "    return 1 + recursive_length(s[1:])\n",
    "\n",
    "# Example usage\n",
    "print(recursive_length(\"abcd\"))        # Output: 4\n",
    "print(recursive_length(\"DataScience\")) # Output: 11\n"
   ]
  },
  {
   "cell_type": "markdown",
   "metadata": {},
   "source": [
    "### **`Q-7:`** Write a function that accepts two numbers and returns their greatest common divisior. Without using any loop\n",
    "\n",
    "def gcd(int, int) => int\n",
    "\n",
    "```\n",
    "gcd(16,24) will give 8\n",
    "```"
   ]
  },
  {
   "cell_type": "code",
   "execution_count": 10,
   "metadata": {},
   "outputs": [
    {
     "name": "stdout",
     "output_type": "stream",
     "text": [
      "8\n",
      "6\n",
      "1\n"
     ]
    }
   ],
   "source": [
    "def gcd(a, b):\n",
    "    # Base case: If the second number is 0, return the first number\n",
    "    if b == 0:\n",
    "        return a\n",
    "    # Recursive case: GCD of b and remainder of a divided by b\n",
    "    return gcd(b, a % b)\n",
    "\n",
    "# Example usage\n",
    "print(gcd(16, 24))  # Output: 8\n",
    "print(gcd(54, 24))  # Output: 6\n",
    "print(gcd(101, 10)) # Output: 1\n"
   ]
  },
  {
   "cell_type": "markdown",
   "metadata": {},
   "source": [
    " ### `Q-8:` String Edit Distance\n",
    "\n",
    " Use your recursive function to write a program that reads two strings from the\n",
    "user and displays the edit distance between them.\n",
    "\n",
    "*The edit distance between two strings is a measure of their similarity—the smaller the edit distance, the more similar the strings are with regard to the minimum number of insert, delete and substitute operations needed to transform one string into the other.*\n",
    "\n",
    "Consider the strings `kitten` and `sitting`. The first string can be transformed\n",
    "into the second string with the following operations:\n",
    "* Substitute the `k` with an `s`,\n",
    "* substitute the `e` with an `i`,\n",
    "* and insert a `g` at the end of the string.\n",
    "\n",
    "This is the smallest number of operations that can be performed to transform kitten into sitting. As a result, the edit distance is `3`.\n",
    "\n",
    "\n",
    "Write a recursive function that computes the edit distance between two strings.\n",
    "\n",
    "Use the following algorithm:\n",
    "\n",
    "```\n",
    "Let s and t be the strings\n",
    "    If the length of s is 0 then\n",
    "        Return the length of t\n",
    "    Else if the length of t is 0 then\n",
    "        Return the length of s\n",
    "    Else\n",
    "        Set cost to 0\n",
    "        If the last character in s does not equal the last character in t then\n",
    "            Set cost to 1\n",
    "        Set d1 equal to the edit distance between all characters except the last one in s, and all characters in t, plus 1\n",
    "        Set d2 equal to the edit distance between all characters in s, and all characters except the last one in t, plus 1\n",
    "\n",
    "        Set d3 equal to the edit distance between all characters except the last one in s, and all characters except the last one in t, plus cost\n",
    "        Return the minimum of d1, d2 and d3\n",
    "```\n",
    "\n",
    "\n",
    "\n"
   ]
  },
  {
   "cell_type": "code",
   "execution_count": 6,
   "metadata": {},
   "outputs": [
    {
     "name": "stdout",
     "output_type": "stream",
     "text": [
      "Edit distance between 'kitten' and 'catkingen' is: 5\n"
     ]
    }
   ],
   "source": [
    "def edit_distance(s, t):\n",
    "    # If the length of s is 0, return the length of t\n",
    "    if len(s) == 0:\n",
    "        return len(t)\n",
    "    # If the length of t is 0, return the length of s\n",
    "    if len(t) == 0:\n",
    "        return len(s)\n",
    "    \n",
    "    # Set cost to 0, then check if last characters are different\n",
    "    cost = 0 if s[-1] == t[-1] else 1\n",
    "    \n",
    "    # Recursively calculate the three distances\n",
    "    d1 = edit_distance(s[:-1], t) + 1  # Deletion\n",
    "    d2 = edit_distance(s, t[:-1]) + 1  # Insertion\n",
    "    d3 = edit_distance(s[:-1], t[:-1]) + cost  # Substitution\n",
    "    \n",
    "    # Return the minimum of the three distances\n",
    "    return min(d1, d2, d3)\n",
    "\n",
    "# Get input from the user\n",
    "string1 = input(\"Enter the first string: \")\n",
    "string2 = input(\"Enter the second string: \")\n",
    "\n",
    "# Calculate and display the edit distance\n",
    "distance = edit_distance(string1, string2)\n",
    "print(f\"Edit distance between '{string1}' and '{string2}' is: {distance}\")\n"
   ]
  },
  {
   "cell_type": "markdown",
   "metadata": {},
   "source": [
    "### `Q-9:` Run-Length Encoding\n",
    "\n",
    "Run-length encoding is a simple data compression technique that can be effective when repeated values occur at adjacent positions within a list. Compression is achieved by replacing groups of repeated values with one copy of the value, followed by the number of times that the value should be repeated. For example, the list\n",
    "```\n",
    "[\"A\", \"A\", \"A\", \"A\", \"A\", \"A\", \"A\", \"A\", \"A\", \"A\", \"A\", \"A\", \"B\", \"B\", \"B\", \"B\", \"A\", \"A\", \"A\", \"A\", \"A\", \"A\", \"B\"]\n",
    "```\n",
    "would be compressed as `[\"A\", 12, \"B\", 4, \"A\", 6, \"B\", 1]`.\n",
    "\n",
    "Write a recursive function that implements the run-length compression technique\n",
    "described above. Your function will take a list or a string as its only parameter. It should return the run-length compressed list as its only result. Include a main program that reads a string from the user, compresses it, and displays the run-length encoded result."
   ]
  },
  {
   "cell_type": "code",
   "execution_count": 5,
   "metadata": {},
   "outputs": [
    {
     "name": "stdout",
     "output_type": "stream",
     "text": [
      "Run-length encoded result: ['h', 16, 'a', 9, 'u', 1, 'r', 1, 'h', 1, 'w', 1, 'j', 1, 'h', 1, 's', 1, 'j', 1, 'd', 1, 'n', 1, 'v', 1, 'g', 1, 'b', 1, 'h', 1, 'n', 1, 'j', 1, 'k', 1, 'm', 1]\n"
     ]
    }
   ],
   "source": [
    "def run_length_encode(data, index=0, count=1, result=None):\n",
    "    # Initialize result list during the first call\n",
    "    if result is None:\n",
    "        result = []\n",
    "\n",
    "    # Base case: If we've reached the end of the list/string\n",
    "    if index == len(data) - 1:\n",
    "        result.append(data[index])  # Append the last character/value\n",
    "        result.append(count)  # Append the count of the last character/value\n",
    "        return result\n",
    "\n",
    "    # If the current and next values are the same, increase the count\n",
    "    if data[index] == data[index + 1]:\n",
    "        return run_length_encode(data, index + 1, count + 1, result)\n",
    "    else:\n",
    "        # Otherwise, append the current value and its count to result\n",
    "        result.append(data[index])\n",
    "        result.append(count)\n",
    "        # Reset count and move to the next unique value\n",
    "        return run_length_encode(data, index + 1, 1, result)\n",
    "\n",
    "# Main program to read input and display the encoded result\n",
    "user_input = input(\"Enter a string to compress: \")\n",
    "encoded_result = run_length_encode(user_input)\n",
    "print(\"Run-length encoded result:\", encoded_result)\n"
   ]
  },
  {
   "cell_type": "markdown",
   "metadata": {},
   "source": [
    "### `Q-10:` Write a recursive function to convert a decimal to binary"
   ]
  },
  {
   "cell_type": "code",
   "execution_count": 16,
   "metadata": {},
   "outputs": [
    {
     "name": "stdout",
     "output_type": "stream",
     "text": [
      "Binary representation: 10100101010100010100011\n"
     ]
    }
   ],
   "source": [
    "def decimal_to_binary(n):\n",
    "    # Base case: If the number is 0, return an empty string\n",
    "    if n == 0:\n",
    "        return \"\"\n",
    "    # Recursive case: Divide the number by 2 and concatenate the remainder\n",
    "    return decimal_to_binary(n // 2) + str(n % 2)\n",
    "\n",
    "# Main program to read input and display the binary result\n",
    "number = int(input(\"Enter a decimal number: \"))\n",
    "\n",
    "# Special case: If the number is 0, its binary representation is '0'\n",
    "if number == 0:\n",
    "    print(\"Binary representation:\", 0)\n",
    "else:\n",
    "    print(\"Binary representation:\", decimal_to_binary(number))\n"
   ]
  }
 ],
 "metadata": {
  "kernelspec": {
   "display_name": "Python 3",
   "language": "python",
   "name": "python3"
  },
  "language_info": {
   "codemirror_mode": {
    "name": "ipython",
    "version": 3
   },
   "file_extension": ".py",
   "mimetype": "text/x-python",
   "name": "python",
   "nbconvert_exporter": "python",
   "pygments_lexer": "ipython3",
   "version": "3.13.5"
  }
 },
 "nbformat": 4,
 "nbformat_minor": 2
}
