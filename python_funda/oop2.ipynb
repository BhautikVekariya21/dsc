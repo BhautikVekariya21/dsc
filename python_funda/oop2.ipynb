{
 "cells": [
  {
   "cell_type": "markdown",
   "metadata": {},
   "source": [
    "### Write OOP classes to handle the following scenarios:\n",
    "\n",
    "- A user can create and view 2D coordinates\n",
    "- A user can find out the distance between 2 coordinates\n",
    "- A user can find find the distance of a coordinate from origin\n",
    "- A user can check if a point lies on a given line\n",
    "- A user can find the distance between a given 2D point and a given line\n",
    "\n"
   ]
  },
  {
   "cell_type": "code",
   "execution_count": 4,
   "metadata": {},
   "outputs": [],
   "source": [
    "class Point:\n",
    "    def __init__(self,x,y):\n",
    "        self.x_cod = x\n",
    "        self.y_cod = y\n",
    "    def __str__(self):\n",
    "        return 'Point(x={}, y={})'.format(self.x_cod, self.y_cod)\n",
    "    def euclidian_ditance(self, other):\n",
    "        return ((self.x_cod - other.x_cod)**2 + (self.y_cod - other.y_cod)**2)**0.5\n",
    "    def distance_from_origin(self):\n",
    "        return ((self.x_cod**2 + self.y_cod**2)**0.5)\n",
    "    \n",
    "class Line:\n",
    "    def __init__(self, A, B, C):\n",
    "        self.A = A\n",
    "        self.B = B\n",
    "        self.C = C\n",
    "    def __str__(self):\n",
    "        return 'Line(A={}, B={}, C={})'.format(self.A, self.B, self.C)\n",
    "    def point_on_line(line, point):\n",
    "        if line.A*point.x_cod + line.B*point.y_cod + line.C == 0:\n",
    "            return \"lies on the line\"\n",
    "        else:\n",
    "            return \"does not lie on the line\"\n",
    "    def shortest_distance(line, point):\n",
    "        return abs(line.A*point.x_cod + line.B*point.y_cod + line.C)/(line.A**2 + line.B**2)**0.5"
   ]
  },
  {
   "cell_type": "code",
   "execution_count": 9,
   "metadata": {},
   "outputs": [
    {
     "name": "stdout",
     "output_type": "stream",
     "text": [
      "Line(A=1, B=1, C=-2)\n",
      "Point(x=1, y=10)\n",
      "9.0\n",
      "10.04987562112089\n",
      "does not lie on the line\n",
      "6.363961030678928\n"
     ]
    }
   ],
   "source": [
    "l1 = Line(1,1,-2)\n",
    "p1=Point(1,10)\n",
    "print(Line.__str__(l1))\n",
    "print(Point.__str__(p1))\n",
    "print(Point.euclidian_ditance(p1,Point(1,1)))\n",
    "print(Point.distance_from_origin(p1))\n",
    "print(Line.point_on_line(l1,p1))\n",
    "print(Line.shortest_distance(l1,p1))\n"
   ]
  },
  {
   "cell_type": "markdown",
   "metadata": {},
   "source": [
    "### How objects access attributes"
   ]
  },
  {
   "cell_type": "code",
   "execution_count": 14,
   "metadata": {},
   "outputs": [],
   "source": [
    "class Person:\n",
    "    def __init__(self,name_input,country_input):\n",
    "        self.name = name_input\n",
    "        self.country = country_input\n",
    "    def __str__(self):\n",
    "        if self.country == \"India\":\n",
    "            return f\"Namaste, {self.name}!\"\n",
    "        else:\n",
    "            return f\"Hello, {self.name}!\"\n",
    "    def visit_country(self, country):\n",
    "        self.country = country\n",
    "        return self.country "
   ]
  },
  {
   "cell_type": "code",
   "execution_count": 13,
   "metadata": {},
   "outputs": [
    {
     "name": "stdout",
     "output_type": "stream",
     "text": [
      "Namaste, Rahul!\n",
      "Hello, alex!\n",
      "USA\n"
     ]
    }
   ],
   "source": [
    "p = Person(\"Rahul\",\"India\")\n",
    "l = Person(\"alex\",\"USA\")\n",
    "print(Person.__str__(p))    \n",
    "print(Person.__str__(l))\n",
    "print(Person.visit_country(p,\"USA\"))\n"
   ]
  },
  {
   "cell_type": "markdown",
   "metadata": {},
   "source": [
    "### Attribute creation from outside of the class"
   ]
  },
  {
   "cell_type": "code",
   "execution_count": 15,
   "metadata": {},
   "outputs": [],
   "source": [
    "p.gender = 'male'"
   ]
  },
  {
   "cell_type": "code",
   "execution_count": 16,
   "metadata": {},
   "outputs": [
    {
     "data": {
      "text/plain": [
       "'male'"
      ]
     },
     "execution_count": 16,
     "metadata": {},
     "output_type": "execute_result"
    }
   ],
   "source": [
    "p.gender"
   ]
  },
  {
   "cell_type": "markdown",
   "metadata": {},
   "source": [
    "### Reference Variables\n",
    "\n",
    "- Reference variables hold the objects\n",
    "- We can create objects without reference variable as well\n",
    "- An object can have multiple reference variables\n",
    "- Assigning a new reference variable to an existing object does not create a new object"
   ]
  },
  {
   "cell_type": "code",
   "execution_count": 17,
   "metadata": {},
   "outputs": [],
   "source": [
    "class Person:\n",
    "    def __init__(self, name, age):\n",
    "        self.name = name\n",
    "        self.age = age\n",
    "\n",
    "    def __str__(self):\n",
    "        return f\"Name: {self.name}, Age: {self.age}\"\n",
    "    def __repr__(self):\n",
    "        return f\"Name: {self.name}, Age: {self.age}\"\n",
    "    "
   ]
  },
  {
   "cell_type": "code",
   "execution_count": 22,
   "metadata": {},
   "outputs": [
    {
     "name": "stdout",
     "output_type": "stream",
     "text": [
      "Name: nitish, Age: 25\n",
      "Name: nitish, Age: 25\n",
      "2160530244576\n",
      "2160530244576\n"
     ]
    }
   ],
   "source": [
    "p = Person('nitish', 25)\n",
    "q = p\n",
    "print(p)\n",
    "print(q)\n",
    "print(id(q))\n",
    "print(id(q))\n"
   ]
  },
  {
   "cell_type": "code",
   "execution_count": 24,
   "metadata": {},
   "outputs": [
    {
     "name": "stdout",
     "output_type": "stream",
     "text": [
      "nitish\n",
      "nitish\n",
      "new name\n",
      "new name\n"
     ]
    }
   ],
   "source": [
    "print(p.name)\n",
    "print(q.name)\n",
    "q.name = \"new name\"\n",
    "print(p.name)\n",
    "print(q.name)"
   ]
  },
  {
   "cell_type": "markdown",
   "metadata": {},
   "source": [
    "### Pass by reference"
   ]
  },
  {
   "cell_type": "code",
   "execution_count": 27,
   "metadata": {},
   "outputs": [
    {
     "name": "stdout",
     "output_type": "stream",
     "text": [
      "Hello, vinamika! You are 25 years old.\n",
      "ankita\n",
      "30\n"
     ]
    }
   ],
   "source": [
    "class Person:\n",
    "    def __init__(self, name, age):\n",
    "        self.name = name\n",
    "        self.age = age  # Corrected attribute name to age\n",
    "\n",
    "    def __str__(self):\n",
    "        return f\"Name: {self.name}, Age: {self.age}\"\n",
    "    \n",
    "def greet(person):\n",
    "    print(f\"Hello, {person.name}! You are {person.age} years old.\")\n",
    "    # Created a person instance with corrected age and name\n",
    "    p1 = Person(\"ankita\", 30)  # Assuming age is a number, for example, 30\n",
    "    return p1\n",
    "\n",
    "p = Person(\"vinamika\", 25)  # Now using age as a number\n",
    "x = greet(p)\n",
    "print(x.name)  # This will print \"ankita\"\n",
    "print(x.age)   # This will print 30\n"
   ]
  },
  {
   "cell_type": "code",
   "execution_count": 28,
   "metadata": {},
   "outputs": [
    {
     "name": "stdout",
     "output_type": "stream",
     "text": [
      "2160524192672\n",
      "2160524192672\n",
      "Hello, my name is Ankit and I am 25 years old.\n",
      "Ankit\n"
     ]
    }
   ],
   "source": [
    "class Person:\n",
    "    def __init__(self, name, age):\n",
    "        self.name = name\n",
    "        self.age = age\n",
    "\n",
    "    def greet(person):\n",
    "        print(id(person))\n",
    "        person.name = \"Ankit\"\n",
    "        print(f\"Hello, my name is {person.name} and I am {person.age} years old.\")\n",
    "        \n",
    "        \n",
    "p = Person(\"Rahul\", 25)\n",
    "print(id(p))\n",
    "p.greet()\n",
    "print(p.name)"
   ]
  },
  {
   "cell_type": "markdown",
   "metadata": {},
   "source": [
    "### Object ki mutability"
   ]
  },
  {
   "cell_type": "code",
   "execution_count": 37,
   "metadata": {},
   "outputs": [
    {
     "name": "stdout",
     "output_type": "stream",
     "text": [
      "2160524196032\n",
      "Hello, my name is vinamika\n",
      "2160524196032\n"
     ]
    }
   ],
   "source": [
    "class Person:\n",
    "    def __init__(self, name, gender):\n",
    "        self.name = name\n",
    "        self.gender = gender\n",
    "        \n",
    "    def greet(person):  # The method should take 'self' as the first argument\n",
    "        person.name = 'vinamika'  # Changing the name to 'vinamika'\n",
    "        print(\"Hello, my name is \" + person.name)\n",
    "        return person  # Return the current object (self)\n",
    "\n",
    "pl = Person('sai', 'male')\n",
    "print(id(pl))  # Print the memory address of 'pl'\n",
    "p1 = pl.greet()  # Calling the greet method on 'pl'\n",
    "print(id(p1))  # Print the memory address of 'p1'\n"
   ]
  },
  {
   "cell_type": "markdown",
   "metadata": {},
   "source": [
    "### Encapsulation"
   ]
  },
  {
   "cell_type": "code",
   "execution_count": 41,
   "metadata": {},
   "outputs": [],
   "source": [
    "class Person:\n",
    "    def __init__(self, name_input,country_input):\n",
    "        self.name = name_input\n",
    "        self.country = country_input\n",
    "        \n",
    "p1 = Person(\"Rahul\",\"India\")\n",
    "p2 = Person(\"Alex\",\"USA\")"
   ]
  },
  {
   "cell_type": "code",
   "execution_count": 42,
   "metadata": {},
   "outputs": [
    {
     "data": {
      "text/plain": [
       "'Alex'"
      ]
     },
     "execution_count": 42,
     "metadata": {},
     "output_type": "execute_result"
    }
   ],
   "source": [
    "p2.name"
   ]
  },
  {
   "cell_type": "code",
   "execution_count": 43,
   "metadata": {},
   "outputs": [
    {
     "name": "stdout",
     "output_type": "stream",
     "text": [
      "Buddy barks!\n",
      "Whiskers meows!\n",
      "Buddy is a Dog and a Golden Retriever.\n",
      "Whiskers is a Cat and is Black in color.\n"
     ]
    }
   ],
   "source": [
    "# Parent class (base class)\n",
    "class Animal:\n",
    "    def __init__(self, name, species):\n",
    "        self.name = name\n",
    "        self.species = species\n",
    "\n",
    "    def speak(self):\n",
    "        print(f\"{self.name} makes a sound.\")\n",
    "\n",
    "# Child class (derived class) inheriting from Animal\n",
    "class Dog(Animal):\n",
    "    def __init__(self, name, breed):\n",
    "        # Call the parent class constructor\n",
    "        super().__init__(name, \"Dog\")\n",
    "        self.breed = breed\n",
    "\n",
    "    # Overriding the speak method\n",
    "    def speak(self):\n",
    "        print(f\"{self.name} barks!\")\n",
    "\n",
    "# Another child class (derived class) inheriting from Animal\n",
    "class Cat(Animal):\n",
    "    def __init__(self, name, color):\n",
    "        # Call the parent class constructor\n",
    "        super().__init__(name, \"Cat\")\n",
    "        self.color = color\n",
    "\n",
    "    # Overriding the speak method\n",
    "    def speak(self):\n",
    "        print(f\"{self.name} meows!\")\n",
    "\n",
    "# Creating instances of the child classes\n",
    "dog = Dog(\"Buddy\", \"Golden Retriever\")\n",
    "cat = Cat(\"Whiskers\", \"Black\")\n",
    "\n",
    "# Calling the speak method on the objects\n",
    "dog.speak()  # Outputs: Buddy barks!\n",
    "cat.speak()  # Outputs: Whiskers meows!\n",
    "\n",
    "# Accessing parent class properties\n",
    "print(f\"{dog.name} is a {dog.species} and a {dog.breed}.\")  # Outputs: Buddy is a Dog and a Golden Retriever.\n",
    "print(f\"{cat.name} is a {cat.species} and is {cat.color} in color.\")  # Outputs: Whiskers is a Cat and is Black in color.\n"
   ]
  },
  {
   "cell_type": "markdown",
   "metadata": {},
   "source": [
    "### Collection of objects"
   ]
  },
  {
   "cell_type": "code",
   "execution_count": 46,
   "metadata": {},
   "outputs": [
    {
     "name": "stdout",
     "output_type": "stream",
     "text": [
      "John Male\n",
      "Jane Female\n",
      "Bob Male\n",
      "Alice Female\n"
     ]
    }
   ],
   "source": [
    "class Person:\n",
    "    def __init__(self,name,gender):\n",
    "        self.name = name\n",
    "        self.gender = gender\n",
    "p1 = Person(\"John\", \"Male\")\n",
    "p2 = Person(\"Jane\", \"Female\")\n",
    "p3 = Person(\"Bob\", \"Male\")\n",
    "p4 = Person(\"Alice\", \"Female\")\n",
    "    \n",
    "L = [p1, p2, p3, p4]\n",
    "    \n",
    "for i in L:\n",
    "        print(i.name, i.gender)"
   ]
  },
  {
   "cell_type": "code",
   "execution_count": 47,
   "metadata": {},
   "outputs": [
    {
     "name": "stdout",
     "output_type": "stream",
     "text": [
      "John 36\n",
      "Jane 25\n",
      "Bob 45\n",
      "Alice 29\n"
     ]
    }
   ],
   "source": [
    "class Person:\n",
    "    def __init__(self, name, age):\n",
    "        self.name = name\n",
    "        self.age = age\n",
    "        \n",
    "p1 = Person(\"John\", 36)\n",
    "p2 = Person(\"Jane\", 25)\n",
    "p3 = Person(\"Bob\", 45)\n",
    "p4 = Person(\"Alice\", 29)\n",
    "\n",
    "d = {'p1': p1, 'p2': p2, 'p3': p3, 'p4': p4}\n",
    "\n",
    "for i in d:\n",
    "    print(d[i].name, d[i].age)"
   ]
  },
  {
   "cell_type": "markdown",
   "metadata": {},
   "source": [
    "### Static Variables(Vs Instance variables)"
   ]
  },
  {
   "cell_type": "code",
   "execution_count": 49,
   "metadata": {},
   "outputs": [
    {
     "name": "stdout",
     "output_type": "stream",
     "text": [
      "ABC High School\n",
      "ABC High School\n",
      "ABC High School\n",
      "ABC High School\n",
      "Hello, I am John, and I am 16 years old.\n"
     ]
    }
   ],
   "source": [
    "class Student:\n",
    "    # Static variable\n",
    "    school_name = \"ABC High School\"\n",
    "\n",
    "    def __init__(self, name, age):\n",
    "        self.name = name\n",
    "        self.age = age\n",
    "\n",
    "    # Static method\n",
    "    @staticmethod\n",
    "    def get_school_name():\n",
    "        return Student.school_name  # Accessing the static variable directly using the class\n",
    "\n",
    "    # Instance method\n",
    "    def greet(self):\n",
    "        print(f\"Hello, I am {self.name}, and I am {self.age} years old.\")\n",
    "\n",
    "# Creating objects of the Student class\n",
    "student1 = Student(\"John\", 16)\n",
    "student2 = Student(\"Alice\", 17)\n",
    "\n",
    "# Accessing the static variable and method using class name\n",
    "print(Student.school_name)  # Accessing static variable without creating an instance\n",
    "print(Student.get_school_name())  # Calling static method without creating an instance\n",
    "\n",
    "# Accessing the static variable and method through an object\n",
    "print(student1.school_name)  # It can also be accessed through an object, though it's not recommended\n",
    "print(student2.get_school_name())  # Calling static method through an object\n",
    "\n",
    "# Instance method example\n",
    "student1.greet()  # This will print: \"Hello, I am John, and I am 16 years old.\"\n"
   ]
  },
  {
   "cell_type": "markdown",
   "metadata": {},
   "source": [
    "##### Points to remember about static\n",
    "\n",
    "- Static attributes are created at class level.\n",
    "- Static attributes are accessed using ClassName.\n",
    "- Static attributes are object independent. We can access them without creating instance (object) of the class in which they are defined.\n",
    "- The value stored in static attribute is shared between all instances(objects) of the class in which the static attribute is defined."
   ]
  },
  {
   "cell_type": "code",
   "execution_count": 50,
   "metadata": {},
   "outputs": [
    {
     "name": "stdout",
     "output_type": "stream",
     "text": [
      "Simba drinks water from well in the circus\n",
      "Water source of lion is: well in the circus\n"
     ]
    }
   ],
   "source": [
    "class Lion:\n",
    "    \n",
    "    __water_sources = \"well in the circus\"\n",
    "    \n",
    "    def __init__(self,name,gender):\n",
    "        self.__name=name\n",
    "        self.__gender=gender\n",
    "    def drinks_water(self):\n",
    "        print(f\"{self.__name} drinks water from {Lion.__water_sources}\")\n",
    "        \n",
    "    @staticmethod\n",
    "    def get_water_sources():\n",
    "        return Lion.__water_sources\n",
    "simba = Lion(\"Simba\", \"male\")\n",
    "simba.drinks_water()\n",
    "print('Water source of lion is:', Lion.get_water_sources())"
   ]
  }
 ],
 "metadata": {
  "kernelspec": {
   "display_name": "Python 3",
   "language": "python",
   "name": "python3"
  },
  "language_info": {
   "codemirror_mode": {
    "name": "ipython",
    "version": 3
   },
   "file_extension": ".py",
   "mimetype": "text/x-python",
   "name": "python",
   "nbconvert_exporter": "python",
   "pygments_lexer": "ipython3",
   "version": "3.13.2"
  }
 },
 "nbformat": 4,
 "nbformat_minor": 2
}
