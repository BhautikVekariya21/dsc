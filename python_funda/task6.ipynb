{
 "cells": [
  {
   "cell_type": "markdown",
   "metadata": {},
   "source": [
    "### **`Problem-1:`** Write a Python function that takes a list and returns a new list with unique elements of the first list.\n",
    "\n",
    "**Exercise 1:**\n",
    "\n",
    "Input:\n",
    "\n",
    "```bash\n",
    "[1,2,3,3,3,3,4,5]\n",
    "```\n",
    "\n",
    "Output:\n",
    "\n",
    "```bash\n",
    "[1, 2, 3, 4, 5]\n",
    "```"
   ]
  },
  {
   "cell_type": "code",
   "execution_count": 1,
   "metadata": {},
   "outputs": [
    {
     "data": {
      "text/plain": [
       "[1, 2, 3, 4, 5]"
      ]
     },
     "execution_count": 1,
     "metadata": {},
     "output_type": "execute_result"
    }
   ],
   "source": [
    "def return_unique(L):\n",
    "    res = []\n",
    "    for i in L:\n",
    "        if i not in res:\n",
    "            res.append(i)\n",
    "    return res\n",
    "\n",
    "L=[1,2,3,3,3,3,4,5]\n",
    "return_unique(L)"
   ]
  },
  {
   "cell_type": "markdown",
   "metadata": {},
   "source": [
    "### **`Problem-2:`** Write a Python function that accepts a hyphen-separated sequence of words as parameter and returns the words in a hyphen-separated sequence after sorting them alphabetically.\n",
    "\n",
    "**Example 1:**\n",
    "\n",
    "Input:\n",
    "```bash\n",
    "green-red-yellow-black-white\n",
    "```\n",
    "\n",
    "Output:\n",
    "```bash\n",
    "black-green-red-white-yellow\n",
    "```"
   ]
  },
  {
   "cell_type": "code",
   "execution_count": 2,
   "metadata": {},
   "outputs": [
    {
     "data": {
      "text/plain": [
       "'black-green-grey-red-white-yellow'"
      ]
     },
     "execution_count": 2,
     "metadata": {},
     "output_type": "execute_result"
    }
   ],
   "source": [
    "def sort_sequence(seq):\n",
    "    temp =[]\n",
    "    \n",
    "    for i in sorted(seq.split('-')):\n",
    "        temp.append(i)\n",
    "    return '-'.join(temp)\n",
    "s = 'green-red-yellow-black-white-grey'\n",
    "sort_sequence(s)"
   ]
  },
  {
   "cell_type": "markdown",
   "metadata": {},
   "source": [
    "### **`Problem 3:`** Write a Python function that accepts a string and calculate the number of upper case letters and lower case letters.\n",
    "\n",
    "```\n",
    "Sample String : 'CampusX is an Online Mentorship Program fOr EnginEering studentS.'\n",
    "Expected Output :\n",
    "No. of Upper case characters :  9\n",
    "No. of Lower case Characters :  47\n",
    "```"
   ]
  },
  {
   "cell_type": "code",
   "execution_count": null,
   "metadata": {},
   "outputs": [
    {
     "name": "stdout",
     "output_type": "stream",
     "text": [
      "Lower case characters:  67\n",
      "Upper case characters:  1\n"
     ]
    }
   ],
   "source": [
    "def lower_upper(s):\n",
    "    lower_count = 0\n",
    "    upper_count = 0\n",
    "    for i in s:\n",
    "        if i.islower():\n",
    "            lower_count += 1\n",
    "        elif i.isupper():\n",
    "            upper_count += 1\n",
    "    return lower_count, upper_count\n",
    "s = 'spaceX is the private aerospace manufacturer and space transportation company'\n",
    "lower_count, upper_count = lower_upper(s)\n",
    "print(\"Lower case characters: \", lower_count)\n",
    "print(\"Upper case characters: \", upper_count)"
   ]
  },
  {
   "cell_type": "markdown",
   "metadata": {},
   "source": [
    "### **`Problem 4:`** Write a Python program to print the even numbers from a given list.\n",
    "```\n",
    "Sample List : [1, 2, 3, 4, 5, 6, 7, 8, 9]\n",
    "Expected Result : [2, 4, 6, 8]\n",
    "```"
   ]
  },
  {
   "cell_type": "code",
   "execution_count": 6,
   "metadata": {},
   "outputs": [
    {
     "data": {
      "text/plain": [
       "[2, 4, 6, 8]"
      ]
     },
     "execution_count": 6,
     "metadata": {},
     "output_type": "execute_result"
    }
   ],
   "source": [
    "def is_even(L):\n",
    "    res = []\n",
    "    \n",
    "    for i in L:\n",
    "        if i % 2 == 0:\n",
    "            res.append(i)\n",
    "    return res\n",
    "is_even([1,2,3,4,5,6,7,8,9])"
   ]
  },
  {
   "cell_type": "markdown",
   "metadata": {},
   "source": [
    "### **`Problem 5:`** Write a Python function to check whether a number is perfect or not.\n",
    "\n",
    "A Perfect number is a number that is half the sum of all of its positive divisors (including itself).\n",
    "\n",
    "Example :\n",
    "\n",
    "```\n",
    "The first perfect number is 6, because 1, 2, and 3 are its proper positive divisors, and 1 + 2 + 3 = 6.\n",
    "Equivalently, the number 6 is equal to half the sum of all its positive divisors: ( 1 + 2 + 3 + 6 ) / 2 = 6.\n",
    "\n",
    "The next perfect number is 28 = 1 + 2 + 4 + 7 + 14. This is followed by the perfect numbers 496 and 8128.\n",
    "```\n"
   ]
  },
  {
   "cell_type": "code",
   "execution_count": null,
   "metadata": {},
   "outputs": [
    {
     "name": "stdout",
     "output_type": "stream",
     "text": [
      "True\n"
     ]
    }
   ],
   "source": [
    "def perfect_num(num):\n",
    "    sum = 0\n",
    "    for i in range(1, num):\n",
    "        if num % i == 0:\n",
    "            sum += i\n",
    "    return sum == num  \n",
    "\n",
    "print(perfect_num(28))  # This will check if 28 is a perfect number\n"
   ]
  },
  {
   "cell_type": "markdown",
   "metadata": {},
   "source": [
    "### **`Problem-6:`** Write a Python function to concatenate any no of dictionaries to create a new one.\n",
    "\n",
    "```\n",
    "Sample Dictionary :\n",
    "dic1={1:10, 2:20}\n",
    "dic2={3:30, 4:40}\n",
    "dic3={5:50,6:60}\n",
    "Expected Result : {1: 10, 2: 20, 3: 30, 4: 40, 5: 50, 6: 60}\n",
    "```"
   ]
  },
  {
   "cell_type": "code",
   "execution_count": 8,
   "metadata": {},
   "outputs": [
    {
     "name": "stdout",
     "output_type": "stream",
     "text": [
      "{'a': 1, 'b': 2, 'c': 3, 'd': 4}\n"
     ]
    }
   ],
   "source": [
    "def merge_dict(*kwargs):\n",
    "    d = {}\n",
    "    for i in kwargs:\n",
    "        d.update(i)   \n",
    "    return d\n",
    "print(merge_dict({'a': 1, 'b': 2}, {'c': 3, 'd': 4}))\n"
   ]
  },
  {
   "cell_type": "markdown",
   "metadata": {},
   "source": [
    "`Problem-7` Write a python function that accepts a string as input and returns the word with most occurence.\n",
    "\n",
    "```\n",
    "Input:\n",
    "hello how are you i am fine thank you\n",
    "```\n",
    "\n",
    "```\n",
    "Output\n",
    "you -> 2\n",
    "```"
   ]
  },
  {
   "cell_type": "code",
   "execution_count": 1,
   "metadata": {},
   "outputs": [
    {
     "name": "stdout",
     "output_type": "stream",
     "text": [
      "{'spaceX': 1, 'is': 1, 'the': 1, 'private': 1, 'aerospace': 1, 'manufacturer': 1, 'and': 1, 'space': 1, 'transportation': 1, 'company': 1}\n",
      "{'hello': 1, 'how': 1, 'are': 1, 'you': 2, 'i': 1, 'am': 1, 'fine': 1, 'thank': 1}\n"
     ]
    }
   ],
   "source": [
    "def most_used(s):\n",
    "    d = {}\n",
    "    for i in s.split():\n",
    "        if i in d:\n",
    "            d[i] += 1\n",
    "        else:\n",
    "            d[i] = 1\n",
    "    print(d)\n",
    "\n",
    "most_used('spaceX is the private aerospace manufacturer and space transportation company')\n",
    "most_used('hello how are you i am fine thank you')"
   ]
  },
  {
   "cell_type": "markdown",
   "metadata": {},
   "source": [
    "`Problem-8` Write a python function that receives a list of integers and prints out a histogram of bin size 10\n",
    "\n",
    "```\n",
    "Input:\n",
    "[13,42,15,37,22,39,41,50]\n",
    "```\n",
    "\n",
    "```\n",
    "Output:\n",
    "{11-20:2,21-30:1,31-40:2,41-50:3}\n",
    "```"
   ]
  },
  {
   "cell_type": "code",
   "execution_count": 10,
   "metadata": {},
   "outputs": [
    {
     "name": "stdout",
     "output_type": "stream",
     "text": [
      "{'11-20': 2, '21-30': 1, '31-40': 2, '41-50': 3, '51-60': 1, '61-70': 0, '71-80': 1, '81-90': 0}\n"
     ]
    }
   ],
   "source": [
    "import math\n",
    "L = [13,42,15,37,22,39,41,50,71,55]\n",
    "min_bin = math.floor(min(L)/10)*10\n",
    "max_bin = math.ceil(max(L)/10)*10\n",
    "d = {}\n",
    "for i in range(min_bin, max_bin+1, 10):\n",
    "    count = 0\n",
    "    for j in L:\n",
    "        if i+1<=j<=i+10:\n",
    "            count += 1\n",
    "    d[str(i+1)+'-'+str(i+10)] = count\n",
    "print(d)"
   ]
  },
  {
   "cell_type": "markdown",
   "metadata": {},
   "source": [
    "`Problem-9` Write a python function that accepts a list of 2D co-ordinates and a query point, and then finds the the co-ordinate which is closest in terms of distance from the query point.\n",
    "\n",
    "```\n",
    "List of Coordinates\n",
    "[(1,1),(2,2),(3,3),(4,4)]\n",
    "Query Point\n",
    "(0,0)\n",
    "```\n",
    "\n",
    "```\n",
    "Output\n",
    "Nearest to (0,0) is (1,1)\n",
    "```"
   ]
  },
  {
   "cell_type": "code",
   "execution_count": 13,
   "metadata": {},
   "outputs": [
    {
     "name": "stdout",
     "output_type": "stream",
     "text": [
      "Nearest to (0, 0) is (1, 1)\n"
     ]
    }
   ],
   "source": [
    "import math\n",
    "\n",
    "def closest_coordinate(coords, query_point):\n",
    "    min_distance = float('inf')\n",
    "    closest_point = None\n",
    "    \n",
    "    for point in coords:\n",
    "        distance = math.sqrt((point[0] - query_point[0])**2 + (point[1] - query_point[1])**2)\n",
    "        if distance < min_distance:\n",
    "            min_distance = distance\n",
    "            closest_point = point\n",
    "            \n",
    "    return closest_point\n",
    "\n",
    "coords = [(1,1), (2,2), (3,3), (4,4)]\n",
    "query_point = (0,0)\n",
    "closest_point = closest_coordinate(coords, query_point)\n",
    "print(f\"Nearest to {query_point} is {closest_point}\")"
   ]
  },
  {
   "cell_type": "markdown",
   "metadata": {},
   "source": [
    "\n",
    "### **`Problem-10:`** Write a Python program that receives a list of strings and performs bag of word operation on those strings.\n",
    "\n",
    "The Bag of Words (BoW) model is a way of representing text data when modeling text with machine learning algorithms. The model creates a vocabulary of all the unique words in the text and then represents each document by counting the number of times each word appears.\n",
    "\n",
    "**Example:**\n",
    "\n",
    "Input:\n",
    "```python\n",
    "texts = [\"I love programming\", \"I love coding\", \"Programming is fun\"]\n",
    "```\n",
    "\n",
    "Output:\n",
    "```python\n",
    "{'I': 2, 'love': 2, 'programming': 1, 'coding': 1, 'is': 1, 'fun': 1}\n",
    "```\n",
    "```"
   ]
  },
  {
   "cell_type": "code",
   "execution_count": 1,
   "metadata": {},
   "outputs": [
    {
     "name": "stdout",
     "output_type": "stream",
     "text": [
      "{'i': 2, 'love': 2, 'programming': 2, 'coding': 1, 'is': 1, 'fun': 1}\n"
     ]
    }
   ],
   "source": [
    "def bag_of_words(texts):\n",
    "    bow = {}\n",
    "    for text in texts:\n",
    "        words = text.split()\n",
    "        for word in words:\n",
    "            word = word.lower()  # Convert to lowercase to ensure case insensitivity\n",
    "            if word in bow:\n",
    "                bow[word] += 1\n",
    "            else:\n",
    "                bow[word] = 1\n",
    "    return bow\n",
    "\n",
    "texts = [\"I love programming\", \"I love coding\", \"Programming is fun\"]\n",
    "bow = bag_of_words(texts)\n",
    "print(bow)"
   ]
  },
  {
   "cell_type": "markdown",
   "metadata": {},
   "source": [
    "### `Problem 11:` Write a Python program to add three given lists using Python map and lambda."
   ]
  },
  {
   "cell_type": "code",
   "execution_count": 12,
   "metadata": {},
   "outputs": [
    {
     "data": {
      "text/plain": [
       "[12, 15, 18]"
      ]
     },
     "execution_count": 12,
     "metadata": {},
     "output_type": "execute_result"
    }
   ],
   "source": [
    "L1 = [1,2,3]\n",
    "L2 = [4,5,6]\n",
    "L3 = [7,8,9]\n",
    "\n",
    "list(map(lambda x, y, z: x+y+z, L1, L2, L3))"
   ]
  },
  {
   "cell_type": "markdown",
   "metadata": {},
   "source": [
    "### `Problem-12:`Write a Python program to create a list containing the power of said number in bases raised to the corresponding number in the index using Python map.\n",
    "`Input:`\n",
    "```\n",
    "list1 = [1,2,3,4,5,6]\n",
    "```\n",
    "`Output:`\n",
    "```\n",
    "[1,2,9,64,625,-]\n",
    "```\n"
   ]
  },
  {
   "cell_type": "code",
   "execution_count": 14,
   "metadata": {},
   "outputs": [
    {
     "data": {
      "text/plain": [
       "[1, 2, 9, 64, 625, 7776, 262144, 823543, 43046721]"
      ]
     },
     "execution_count": 14,
     "metadata": {},
     "output_type": "execute_result"
    }
   ],
   "source": [
    "list1 = [1,2,3,4,5,6,8,7,9]\n",
    "list(map(lambda x,y:x**y,list1,range(len(list1))))"
   ]
  },
  {
   "cell_type": "markdown",
   "metadata": {},
   "source": [
    "### `Problem-13` Using filter() and list() functions and .lower() method filter all the vowels in a given string.\n",
    "\n"
   ]
  },
  {
   "cell_type": "code",
   "execution_count": 8,
   "metadata": {},
   "outputs": [
    {
     "name": "stdout",
     "output_type": "stream",
     "text": [
      "['I', 'A', 'o', 'u', 'i', 'i', 'a', 'e', 'a', 'e', 'i', 'a', 'a']\n"
     ]
    }
   ],
   "source": [
    "str1 = \"FIFA world cup in 2022 will take place in Qatar\"\n",
    "vowels = list(filter(lambda x: x.lower() in 'aeiou', str1))\n",
    "print(vowels)"
   ]
  },
  {
   "cell_type": "markdown",
   "metadata": {},
   "source": [
    "`Problem-14`: Use reduce to convert a 2D list to 1D"
   ]
  },
  {
   "cell_type": "code",
   "execution_count": null,
   "metadata": {},
   "outputs": [
    {
     "data": {
      "text/plain": [
       "[1, 2, 3, 4, 5, 6, 7, 8, 9]"
      ]
     },
     "execution_count": 17,
     "metadata": {},
     "output_type": "execute_result"
    }
   ],
   "source": [
    "ini_list = [[1,2,3],\n",
    "            [4,5,6],\n",
    "            [7,8,9]\n",
    "        ]\n",
    "\n",
    "import functools\n",
    "functools.reduce(lambda x,y:x+y,ini_list)"
   ]
  },
  {
   "cell_type": "markdown",
   "metadata": {},
   "source": [
    "`Problem 15`- A dictionary contains following information about 5 employees:\n",
    "- First name\n",
    "- Last name\n",
    "- Age\n",
    "- Grade(Skilled,Semi-skilled,Highly skilled)<br>\n",
    "Write a program using map/filter/reduce to a list of employees(first name + last name) who are highly skilled"
   ]
  },
  {
   "cell_type": "code",
   "execution_count": 18,
   "metadata": {},
   "outputs": [],
   "source": [
    "# Write code here\n",
    "employees = [\n",
    "    {\n",
    "        'fname':'Nitish',\n",
    "        'lname':'Singh',\n",
    "        'age' : 33,\n",
    "        'grade':'skilled'\n",
    "    },\n",
    "    {\n",
    "        'fname':'Ankit',\n",
    "        'lname':'Verma',\n",
    "        'age' : 34,\n",
    "        'grade':'semi-skilled'\n",
    "    },\n",
    "    {\n",
    "        'fname':'Neha',\n",
    "        'lname':'Singh',\n",
    "        'age' : 35,\n",
    "        'grade':'highly-skilled'\n",
    "    },\n",
    "    {\n",
    "        'fname':'Anurag',\n",
    "        'lname':'Kumar',\n",
    "        'age' : 30,\n",
    "        'grade':'skilled'\n",
    "    },\n",
    "    {\n",
    "        'fname':'Abhinav',\n",
    "        'lname':'Sharma',\n",
    "        'age' : 37,\n",
    "        'grade':'highly-skilled'\n",
    "    }\n",
    "\n",
    "]"
   ]
  },
  {
   "cell_type": "code",
   "execution_count": 19,
   "metadata": {},
   "outputs": [
    {
     "data": {
      "text/plain": [
       "['Neha Singh', 'Abhinav Sharma']"
      ]
     },
     "execution_count": 19,
     "metadata": {},
     "output_type": "execute_result"
    }
   ],
   "source": [
    "list(map(lambda x:x['fname'] + ' ' + x['lname'],list(filter(lambda x:True if x['grade'] == 'highly-skilled' else False,employees))))"
   ]
  }
 ],
 "metadata": {
  "kernelspec": {
   "display_name": "Python 3",
   "language": "python",
   "name": "python3"
  },
  "language_info": {
   "codemirror_mode": {
    "name": "ipython",
    "version": 3
   },
   "file_extension": ".py",
   "mimetype": "text/x-python",
   "name": "python",
   "nbconvert_exporter": "python",
   "pygments_lexer": "ipython3",
   "version": "3.13.5"
  }
 },
 "nbformat": 4,
 "nbformat_minor": 2
}
