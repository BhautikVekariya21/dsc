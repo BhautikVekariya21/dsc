{
 "cells": [
  {
   "cell_type": "markdown",
   "metadata": {},
   "source": [
    "### `Problem-1:` Class inheritence\n",
    "\n",
    "Create a **Bus** child class that inherits from the Vehicle class. The default fare charge of any vehicle is seating capacity * 100. If Vehicle is Bus instance, we need to add an extra 10% on full fare as a maintenance charge. So total fare for bus instance will become the final amount = total fare + 10% of the total fare.\n",
    "\n",
    "Note: The bus seating capacity is 50. so the final fare amount should be 5500. You need to override the fare() method of a Vehicle class in Bus class."
   ]
  },
  {
   "cell_type": "code",
   "execution_count": 1,
   "metadata": {},
   "outputs": [
    {
     "name": "stdout",
     "output_type": "stream",
     "text": [
      "Total fare for Bus: 5500.0\n"
     ]
    }
   ],
   "source": [
    "# Base class\n",
    "class Vehicle:\n",
    "    def __init__(self, seating_capacity):\n",
    "        self.seating_capacity = seating_capacity\n",
    "\n",
    "    # Method to calculate fare (default fare based on seating capacity)\n",
    "    def fare(self):\n",
    "        return self.seating_capacity * 100\n",
    "\n",
    "\n",
    "# Child class Bus inheriting from Vehicle\n",
    "class Bus(Vehicle):\n",
    "    def __init__(self, seating_capacity=50):  # Default seating capacity for Bus is 50\n",
    "        super().__init__(seating_capacity)\n",
    "\n",
    "    # Overriding the fare method to add maintenance charge for Bus\n",
    "    def fare(self):\n",
    "        total_fare = super().fare()  # Get the default fare from the parent class\n",
    "        maintenance_charge = total_fare * 0.10  # 10% maintenance charge\n",
    "        return total_fare + maintenance_charge\n",
    "\n",
    "\n",
    "# Create an instance of Bus\n",
    "bus = Bus()  # A Bus with default seating capacity of 50\n",
    "print(f\"Total fare for Bus: {bus.fare()}\")\n"
   ]
  },
  {
   "cell_type": "markdown",
   "metadata": {},
   "source": [
    "### `Problem-3:` Write a program that has a class Point. Define another class Location which has two objects (Location & Destination) of class Point. Also define a function in Location that prints the reflection of Destination on the x axis."
   ]
  },
  {
   "cell_type": "code",
   "execution_count": 2,
   "metadata": {},
   "outputs": [
    {
     "name": "stdout",
     "output_type": "stream",
     "text": [
      "Original Destination: Point(4, 5)\n",
      "Reflection of Destination on x-axis: Point(4, -5)\n"
     ]
    }
   ],
   "source": [
    "# Class representing a Point with x and y coordinates\n",
    "class Point:\n",
    "    def __init__(self, x, y):\n",
    "        self.x = x\n",
    "        self.y = y\n",
    "\n",
    "    # Method to display the coordinates of the point\n",
    "    def __str__(self):\n",
    "        return f\"Point({self.x}, {self.y})\"\n",
    "\n",
    "\n",
    "# Class representing Location with two Point objects (Location & Destination)\n",
    "class Location:\n",
    "    def __init__(self, loc_x, loc_y, dest_x, dest_y):\n",
    "        # Creating two Point objects: Location and Destination\n",
    "        self.location = Point(loc_x, loc_y)\n",
    "        self.destination = Point(dest_x, dest_y)\n",
    "\n",
    "    # Method to print the reflection of the destination point on the x-axis\n",
    "    def reflect_on_x_axis(self):\n",
    "        # Reflection of destination on x-axis is changing the y-coordinate\n",
    "        reflected_point = Point(self.destination.x, -self.destination.y)\n",
    "        print(f\"Original Destination: {self.destination}\")\n",
    "        print(f\"Reflection of Destination on x-axis: {reflected_point}\")\n",
    "\n",
    "\n",
    "# Create a Location object with Location and Destination points\n",
    "loc = Location(2, 3, 4, 5)\n",
    "\n",
    "# Reflect Destination point on the x-axis\n",
    "loc.reflect_on_x_axis()\n"
   ]
  },
  {
   "cell_type": "markdown",
   "metadata": {},
   "source": [
    "### `Problem-4:` Write a program that has an abstract class Polygon. Derive two classes Rectangle and Triamgle from Polygon and write methods to get the details of their dimensions and hence calculate the area."
   ]
  },
  {
   "cell_type": "code",
   "execution_count": null,
   "metadata": {},
   "outputs": [
    {
     "name": "stdout",
     "output_type": "stream",
     "text": [
      "Area of Rectangle: 888.0\n",
      "Area of Triangle: 287.5\n"
     ]
    }
   ],
   "source": [
    "from abc import ABC, abstractmethod\n",
    "\n",
    "# Abstract class Polygon\n",
    "class Polygon(ABC):\n",
    "    @abstractmethod\n",
    "    def area(self):\n",
    "        pass  # Abstract method to be implemented by subclasses\n",
    "\n",
    "# Derived class Rectangle\n",
    "class Rectangle(Polygon):\n",
    "    def __init__(self, length, width):\n",
    "        self.length = length\n",
    "        self.width = width\n",
    "\n",
    "    def area(self):\n",
    "        return self.length * self.width  # Area of rectangle is length * width\n",
    "\n",
    "# Derived class Triangle\n",
    "class Triangle(Polygon):\n",
    "    def __init__(self, base, height):\n",
    "        self.base = base\n",
    "        self.height = height\n",
    "\n",
    "    def area(self):\n",
    "        return 0.5 * self.base * self.height  # Area of triangle is (base * height) / 2\n",
    "\n",
    "# Function to get the details of the shapes and calculate the area\n",
    "def get_area_of_shapes():\n",
    "    # Getting Rectangle details\n",
    "    length = float(input(\"Enter the length of the rectangle: \"))\n",
    "    width = float(input(\"Enter the width of the rectangle: \"))\n",
    "    rectangle = Rectangle(length, width)\n",
    "    print(f\"Area of Rectangle: {rectangle.area()}\")\n",
    "\n",
    "    # Getting Triangle details\n",
    "    base = float(input(\"Enter the base of the triangle: \"))\n",
    "    height = float(input(\"Enter the height of the triangle: \"))\n",
    "    triangle = Triangle(base, height)\n",
    "    print(f\"Area of Triangle: {triangle.area()}\")\n",
    "\n",
    "# Test the program\n",
    "get_area_of_shapes()\n"
   ]
  },
  {
   "cell_type": "markdown",
   "metadata": {},
   "source": [
    "### `Problem-5:` Write a program with class Bill. The users have the option to pay the bill either by cheque or by cash. Use the inheritance to model this situation."
   ]
  },
  {
   "cell_type": "code",
   "execution_count": 5,
   "metadata": {},
   "outputs": [
    {
     "name": "stdout",
     "output_type": "stream",
     "text": [
      "Test Case 1: Paying by Cheque\n",
      "Bill Amount: $1500\n",
      "Payment of $1500 made by Cheque. Cheque Number: CH12345\n",
      "\n",
      "Test Case 2: Paying by Cash\n",
      "Bill Amount: $2000\n",
      "Payment of $2000 made by Cash.\n"
     ]
    }
   ],
   "source": [
    "# Base class Bill\n",
    "class Bill:\n",
    "    def __init__(self, amount):\n",
    "        self.amount = amount  # The amount of the bill\n",
    "\n",
    "    # Method to display the bill\n",
    "    def display_bill(self):\n",
    "        print(f\"Bill Amount: ${self.amount}\")\n",
    "\n",
    "    # Abstract method to process payment (to be overridden by child classes)\n",
    "    def pay(self):\n",
    "        pass\n",
    "\n",
    "\n",
    "# Subclass ChequePayment\n",
    "class ChequePayment(Bill):\n",
    "    def __init__(self, amount, cheque_number):\n",
    "        super().__init__(amount)  # Calling the constructor of the base class\n",
    "        self.cheque_number = cheque_number  # Store the cheque number\n",
    "\n",
    "    # Override the pay method for cheque payment\n",
    "    def pay(self):\n",
    "        print(f\"Payment of ${self.amount} made by Cheque. Cheque Number: {self.cheque_number}\")\n",
    "\n",
    "\n",
    "# Subclass CashPayment\n",
    "class CashPayment(Bill):\n",
    "    def __init__(self, amount):\n",
    "        super().__init__(amount)  # Calling the constructor of the base class\n",
    "\n",
    "    # Override the pay method for cash payment\n",
    "    def pay(self):\n",
    "        print(f\"Payment of ${self.amount} made by Cash.\")\n",
    "\n",
    "\n",
    "# Test the program with different payment methods\n",
    "def process_payment(payment_type, amount, cheque_number=None):\n",
    "    bill = None\n",
    "    if payment_type == \"cheque\":\n",
    "        bill = ChequePayment(amount, cheque_number)\n",
    "    elif payment_type == \"cash\":\n",
    "        bill = CashPayment(amount)\n",
    "\n",
    "    if bill:\n",
    "        bill.display_bill()  # Display the bill details\n",
    "        bill.pay()  # Process the payment\n",
    "\n",
    "\n",
    "# Example usage\n",
    "print(\"Test Case 1: Paying by Cheque\")\n",
    "process_payment(\"cheque\", 1500, \"CH12345\")\n",
    "\n",
    "print(\"\\nTest Case 2: Paying by Cash\")\n",
    "process_payment(\"cash\", 2000)\n"
   ]
  },
  {
   "cell_type": "markdown",
   "metadata": {},
   "source": [
    "### `Q-6:` FlexibleDict\n",
    "As of now we are accessing values from dictionary with exact keys. Now we want to amend accessing values functionality. if a dict have key `1` (int) the even if we try to access values by giving `'1'` (1 as str) as key, we should get the same result and vice versa.\n",
    "\n",
    "Write a class `FlexibleDict` upon builtin `dict` class with above required functionality.\n",
    "\n",
    "Hint- `dict[key] => dict.__getitem__(key)`"
   ]
  },
  {
   "cell_type": "markdown",
   "metadata": {},
   "source": [
    "Ex.\n",
    "```\n",
    "fd = FlexibleDict()\n",
    "fd['a'] = 100\n",
    "print(fd['a']) # Like regular dict\n",
    "\n",
    "fd[5] = 500\n",
    "print(fd[5]) # Like regular dict\n",
    "\n",
    "fd[1] = 100\n",
    "print(fd['1']) # actual Key is int but still trying to access through str key.\n",
    "fd['1'] = 100\n",
    "print(fd[1])\n",
    "\n",
    "```\n",
    "`Output:`\n",
    "```\n",
    "100\n",
    "500\n",
    "100\n",
    "100\n",
    "\n",
    "```"
   ]
  },
  {
   "cell_type": "code",
   "execution_count": 6,
   "metadata": {},
   "outputs": [
    {
     "name": "stdout",
     "output_type": "stream",
     "text": [
      "100\n",
      "500\n",
      "100\n",
      "100\n"
     ]
    }
   ],
   "source": [
    "class FlexibleDict(dict):\n",
    "    def __getitem__(self, key):\n",
    "        # If the key is a string and it can be converted to int, try using the integer key\n",
    "        if isinstance(key, str):\n",
    "            try:\n",
    "                return super().__getitem__(int(key))\n",
    "            except ValueError:\n",
    "                pass  # In case the string can't be converted to int, we'll continue with the string key.\n",
    "        # If the key is an integer, also check the string equivalent of it\n",
    "        elif isinstance(key, int):\n",
    "            try:\n",
    "                return super().__getitem__(str(key))\n",
    "            except KeyError:\n",
    "                pass  # If the string version of the key doesn't exist, continue with the integer key.\n",
    "        # Default behavior for both types\n",
    "        return super().__getitem__(key)\n",
    "\n",
    "    def __setitem__(self, key, value):\n",
    "        # If the key is a string, try to store it as both integer and string versions\n",
    "        if isinstance(key, str):\n",
    "            try:\n",
    "                super().__setitem__(int(key), value)  # Store with the integer equivalent of the string key\n",
    "            except ValueError:\n",
    "                pass  # If it can't be converted to int, we'll continue with the string key\n",
    "        elif isinstance(key, int):\n",
    "            super().__setitem__(str(key), value)  # Store with the string equivalent of the integer key\n",
    "        \n",
    "        # Finally, store the value with the original key (either integer or string)\n",
    "        super().__setitem__(key, value)\n",
    "\n",
    "\n",
    "# Test the FlexibleDict class\n",
    "fd = FlexibleDict()\n",
    "fd['a'] = 100\n",
    "print(fd['a'])  # Like regular dict\n",
    "\n",
    "fd[5] = 500\n",
    "print(fd[5])  # Like regular dict\n",
    "\n",
    "fd[1] = 100\n",
    "print(fd['1'])  # actual Key is int but still trying to access through str key.\n",
    "fd['1'] = 100\n",
    "print(fd[1])\n"
   ]
  }
 ],
 "metadata": {
  "kernelspec": {
   "display_name": "Python 3",
   "language": "python",
   "name": "python3"
  },
  "language_info": {
   "codemirror_mode": {
    "name": "ipython",
    "version": 3
   },
   "file_extension": ".py",
   "mimetype": "text/x-python",
   "name": "python",
   "nbconvert_exporter": "python",
   "pygments_lexer": "ipython3",
   "version": "3.13.2"
  }
 },
 "nbformat": 4,
 "nbformat_minor": 2
}
