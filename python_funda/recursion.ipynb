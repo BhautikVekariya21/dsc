{
 "cells": [
  {
   "cell_type": "code",
   "execution_count": 7,
   "metadata": {},
   "outputs": [
    {
     "name": "stdout",
     "output_type": "stream",
     "text": [
      "\n",
      "Rabbit population after 41 months (Memoized Recursion):\n",
      "--------------------------------------------------------------------------------------------------------------------------------------------\n",
      "  Population: 267914296 pairs\n",
      "--------------------------------------------------------------------------------------------------------------------------------------------\n",
      "  Time taken: 0.000018 seconds\n",
      "--------------------------------------------------------------------------------------------------------------------------------------------\n",
      "  Space used: 28 bytes\n",
      "--------------------------------------------------------------------------------------------------------------------------------------------\n",
      "\n",
      "Rabbit population after 41 months (Brute-Force Recursion):\n",
      "--------------------------------------------------------------------------------------------------------------------------------------------\n",
      "  Population: 267914296 pairs\n",
      "--------------------------------------------------------------------------------------------------------------------------------------------\n",
      "  Time taken: 28.859191 seconds\n",
      "--------------------------------------------------------------------------------------------------------------------------------------------\n",
      "  Space used: 28 bytes\n",
      "--------------------------------------------------------------------------------------------------------------------------------------------\n"
     ]
    }
   ],
   "source": [
    "import time\n",
    "import sys\n",
    "sys.setrecursionlimit(2000)  # Allow deeper recursion\n",
    "\n",
    "# Memoized recursive function\n",
    "def rabbit_population_recursive(n, memo=None):\n",
    "    if memo is None:\n",
    "        memo = {0: 1, 1: 1, 2: 1}\n",
    "    if n in memo:\n",
    "        return memo[n]\n",
    "    memo[n] = rabbit_population_recursive(n - 1, memo) + rabbit_population_recursive(n - 2, memo)\n",
    "    return memo[n]\n",
    "\n",
    "# Pure brute-force recursive function (no memoization)\n",
    "def rabbit_population_bruteforce(n):\n",
    "    if n <= 2:\n",
    "        return 1\n",
    "    return rabbit_population_bruteforce(n - 1) + rabbit_population_bruteforce(n - 2)\n",
    "\n",
    "# Measure and print performance for both approaches\n",
    "def measure_recursive(n):\n",
    "    # Memoized recursion\n",
    "    start_time = time.perf_counter()\n",
    "    result_memo = rabbit_population_recursive(n + 1)\n",
    "    time_memo = time.perf_counter() - start_time\n",
    "    memory_memo = sys.getsizeof(result_memo)\n",
    "\n",
    "    print(f\"\\nRabbit population after {n} months (Memoized Recursion):\")\n",
    "    print(\"--\" * 70)\n",
    "    print(f\"  Population: {result_memo} pairs\")\n",
    "    print(\"--\" * 70)\n",
    "    print(f\"  Time taken: {time_memo:.6f} seconds\")\n",
    "    print(\"--\" * 70)\n",
    "    print(f\"  Space used: {memory_memo} bytes\")\n",
    "    print(\"--\" * 70)\n",
    "\n",
    "    # Brute-force recursion (only safe for small n)\n",
    "    if n <= 50:\n",
    "        start_time = time.perf_counter()\n",
    "        result_brute = rabbit_population_bruteforce(n + 1)\n",
    "        time_brute = time.perf_counter() - start_time\n",
    "        memory_brute = sys.getsizeof(result_brute)\n",
    "\n",
    "        print(f\"\\nRabbit population after {n} months (Brute-Force Recursion):\")\n",
    "        print(\"--\" * 70)\n",
    "        print(f\"  Population: {result_brute} pairs\")\n",
    "        print(\"--\" * 70)\n",
    "        print(f\"  Time taken: {time_brute:.6f} seconds\")\n",
    "        print(\"--\" * 70)\n",
    "        print(f\"  Space used: {memory_brute} bytes\")\n",
    "        print(\"--\" * 70)\n",
    "    else:\n",
    "        print(\"\\nBrute-force recursion skipped (n too large; would be very slow).\")\n",
    "        print(\"--\" * 70)\n",
    "\n",
    "# Example usage\n",
    "n = 41  # Change this to something like 30 to see brute-force results\n",
    "measure_recursive(n)\n"
   ]
  }
 ],
 "metadata": {
  "kernelspec": {
   "display_name": ".venv",
   "language": "python",
   "name": "python3"
  },
  "language_info": {
   "codemirror_mode": {
    "name": "ipython",
    "version": 3
   },
   "file_extension": ".py",
   "mimetype": "text/x-python",
   "name": "python",
   "nbconvert_exporter": "python",
   "pygments_lexer": "ipython3",
   "version": "3.12.10"
  }
 },
 "nbformat": 4,
 "nbformat_minor": 2
}
