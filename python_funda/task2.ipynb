{
 "cells": [
  {
   "cell_type": "markdown",
   "metadata": {},
   "source": [
    "### `Problem 1`: Write a program that will give you in hand monthly salary after deduction on CTC - HRA(10%), DA(5%), PF(3%) and taxes deduction as below:\n",
    "\n",
    "> Salary(Lakhs) : Tax(%)\n",
    "\n",
    "*   Below 5 : 0%\n",
    "*   5-10 : 10%\n",
    "*   10-20 : 20%\n",
    "*   aboove 20 : 30%"
   ]
  },
  {
   "cell_type": "code",
   "execution_count": 1,
   "metadata": {},
   "outputs": [
    {
     "name": "stdout",
     "output_type": "stream",
     "text": [
      "In-hand monthly salary: 0.656 lakhs\n"
     ]
    }
   ],
   "source": [
    "def calculate_in_hand_salary(ctc):\n",
    "    hra = 0.10 * ctc\n",
    "    da = 0.05 * ctc\n",
    "    pf = 0.03 * ctc\n",
    "    taxable_income = ctc - (hra + da + pf)\n",
    "    \n",
    "    if ctc < 5:\n",
    "        tax = 0\n",
    "    elif 5 <= ctc < 10:\n",
    "        tax = 0.10 * taxable_income\n",
    "    elif 10 <= ctc < 20:\n",
    "        tax = 0.20 * taxable_income\n",
    "    else:\n",
    "        tax = 0.30 * taxable_income\n",
    "    \n",
    "    in_hand_salary = taxable_income - tax\n",
    "    monthly_salary = in_hand_salary / 12\n",
    "    return monthly_salary\n",
    "\n",
    "# Example usage:\n",
    "ctc = 12  # in lakhs\n",
    "monthly_salary = calculate_in_hand_salary(ctc)\n",
    "print(f\"In-hand monthly salary: {monthly_salary} lakhs\")"
   ]
  },
  {
   "cell_type": "markdown",
   "metadata": {},
   "source": [
    "### `Problem 2`: Write a program that take a user input of three angles and will find out whether it can form a triangle or not."
   ]
  },
  {
   "cell_type": "code",
   "execution_count": 16,
   "metadata": {},
   "outputs": [
    {
     "name": "stdout",
     "output_type": "stream",
     "text": [
      "It is a valid triangle\n"
     ]
    }
   ],
   "source": [
    "angle1 = int(input(\"Enter the first angle: \"))\n",
    "angle2 = int(input(\"Enter the second angle: \"))\n",
    "angle3 = int(input(\"Enter the third angle: \"))\n",
    "if angle1 + angle2 + angle3 == 180:\n",
    "    print(\"It is a valid triangle\")\n",
    "else:\n",
    "    print(\"It is not a valid triangle\")"
   ]
  },
  {
   "cell_type": "markdown",
   "metadata": {},
   "source": [
    "### `Problem 3`: Write a program that will take user input of cost price and selling price and determines whether its a loss or a profit."
   ]
  },
  {
   "cell_type": "code",
   "execution_count": 17,
   "metadata": {},
   "outputs": [
    {
     "name": "stdout",
     "output_type": "stream",
     "text": [
      "Profit 2497.432\n"
     ]
    }
   ],
   "source": [
    "selling_price = float(input(\"Enter the selling price: \"))\n",
    "cost_price = float(input(\"Enter the cost price: \"))\n",
    "if selling_price > cost_price:\n",
    "    print(\"Profit\", selling_price - cost_price)\n",
    "elif selling_price < cost_price:\n",
    "    print(\"Loss\", cost_price - selling_price)\n",
    "else:\n",
    "    print(\"No profit no loss\")"
   ]
  },
  {
   "cell_type": "markdown",
   "metadata": {},
   "source": [
    "### `Problem 4`: Write a menu-driven program -\n",
    "1. cm to ft\n",
    "2. km to miles\n",
    "3. USD to INR\n",
    "4. exit"
   ]
  },
  {
   "cell_type": "code",
   "execution_count": null,
   "metadata": {},
   "outputs": [
    {
     "name": "stdout",
     "output_type": "stream",
     "text": [
      "7350.0\n"
     ]
    }
   ],
   "source": [
    "user_input = int(input(\"\"\"1.cm to ft\n",
    "                       2.km to miles\n",
    "                       3.usd to inr\n",
    "                       4.exit\"\"\"))\n",
    "if user_input == 1:\n",
    "    cm = int(input(\"enter cm\"))\n",
    "    ft = cm/30.48\n",
    "    print(ft)\n",
    "elif user_input == 2:\n",
    "    km = int(input(\"enter km\"))\n",
    "    miles = km/1.609\n",
    "    print(miles)\n",
    "elif user_input == 3:\n",
    "    usd = int(input(\"enter usd\"))\n",
    "    inr = usd*87.12\n",
    "    print(inr)\n",
    "elif user_input == 4:\n",
    "    exit()"
   ]
  },
  {
   "cell_type": "markdown",
   "metadata": {},
   "source": [
    "### `Problem 5` - Exercise 12: Display Fibonacci series up to 10 terms.\n",
    "\n",
    "*Note: The Fibonacci Sequence is a series of numbers. The next number is found by adding up the two numbers before it. The first two numbers are 0 and 1. For example, 0, 1, 1, 2, 3, 5, 8, 13, 21. The next number in this series above is 13+21 = 34*"
   ]
  },
  {
   "cell_type": "code",
   "execution_count": 19,
   "metadata": {},
   "outputs": [
    {
     "name": "stdout",
     "output_type": "stream",
     "text": [
      "0\n",
      "1\n",
      "1\n",
      "2\n",
      "3\n",
      "5\n",
      "8\n",
      "13\n",
      "21\n"
     ]
    }
   ],
   "source": [
    "first_term = 0\n",
    "second_term = 1\n",
    "n = int(input(\"Enter the number of terms: \"))\n",
    "for i in range(n):\n",
    "    print(first_term)\n",
    "    next_term = first_term + second_term\n",
    "    first_term = second_term\n",
    "    second_term = next_term\n",
    "    "
   ]
  },
  {
   "cell_type": "markdown",
   "metadata": {},
   "source": [
    "### `Problem 6` - Find the factorial of a given number.\n",
    "\n",
    "Write a program to use the loop to find the factorial of a given number.\n",
    "\n",
    "The factorial (symbol: `!`) means to multiply all whole numbers from the chosen number down to 1.\n",
    "\n",
    "For example: calculate the factorial of 5\n",
    "\n",
    "```bash\n",
    "5! = 5 × 4 × 3 × 2 × 1 = 120\n",
    "```\n",
    "\n",
    "Output:\n",
    "\n",
    "```bash\n",
    "120\n",
    "```"
   ]
  },
  {
   "cell_type": "code",
   "execution_count": 20,
   "metadata": {},
   "outputs": [
    {
     "name": "stdout",
     "output_type": "stream",
     "text": [
      "Factorial of 7 is 5040\n"
     ]
    }
   ],
   "source": [
    "def factorial(n):\n",
    "    if n == 0:\n",
    "        return 1\n",
    "    return n * factorial(n-1)\n",
    "n = int(input(\"Enter the number: \"))\n",
    "print(f\"Factorial of {n} is {factorial(n)}\")"
   ]
  },
  {
   "cell_type": "markdown",
   "metadata": {},
   "source": [
    "### `Problem 7` - Reverse a given integer number.\n",
    "\n",
    "Example:\n",
    "\n",
    "`Input:`\n",
    "\n",
    "```bash\n",
    "76542\n",
    "```\n",
    "\n",
    "`Output:`\n",
    "\n",
    "```bash\n",
    "24567\n",
    "```"
   ]
  },
  {
   "cell_type": "code",
   "execution_count": 21,
   "metadata": {},
   "outputs": [
    {
     "name": "stdout",
     "output_type": "stream",
     "text": [
      "Reverse of 897458 is 854798\n"
     ]
    }
   ],
   "source": [
    "\n",
    "def reverse_number(number):\n",
    "    reverse = 0\n",
    "    while number > 0:\n",
    "        remainder = number % 10\n",
    "        reverse = reverse * 10 + remainder\n",
    "        number = number // 10\n",
    "    return reverse\n",
    "\n",
    "number = int(input(\"Enter the number: \"))\n",
    "print(f\"Reverse of {number} is {reverse_number(number)}\")"
   ]
  },
  {
   "cell_type": "markdown",
   "metadata": {},
   "source": [
    "### `Problem 8`: Take a user input as integer N. Find out the sum from 1 to N. If any number if divisible by 5, then skip that number. And if the sum is greater than 300, don't need to calculate the sum further more. Print the final result. And don't use for loop to solve this problem.\n",
    "\n",
    "**Example 1:**\n",
    "\n",
    "`Input:`\n",
    "\n",
    "```bash\n",
    "30\n",
    "```\n",
    "\n",
    "`Output:`\n",
    "\n",
    "```bash\n",
    "276\n",
    "```\n"
   ]
  },
  {
   "cell_type": "code",
   "execution_count": 36,
   "metadata": {},
   "outputs": [
    {
     "name": "stdout",
     "output_type": "stream",
     "text": [
      "276\n"
     ]
    }
   ],
   "source": [
    "number = int(input(\"Enter the number: \"))\n",
    "total = 0\n",
    "\n",
    "# Iterate through numbers from 1 to N\n",
    "i = 1\n",
    "while i <= number:\n",
    "    if i % 5 != 0:  # Skip numbers divisible by 5\n",
    "        if total + i > 300:  # Stop if sum exceeds 300\n",
    "            break\n",
    "        total += i\n",
    "    i += 1\n",
    "\n",
    "print(total)\n"
   ]
  },
  {
   "cell_type": "markdown",
   "metadata": {},
   "source": [
    "### `Problem 9`: Write a program that keeps on accepting a number from the user until the user enters Zero. Display the sum and average of all the numbers.'"
   ]
  },
  {
   "cell_type": "code",
   "execution_count": 39,
   "metadata": {},
   "outputs": [
    {
     "name": "stdout",
     "output_type": "stream",
     "text": [
      "entered number is a zero\n",
      "sum and average is 55 and 5.5\n"
     ]
    }
   ],
   "source": [
    "sum = 0\n",
    "average = 0\n",
    "while True:\n",
    "    number = int(input(\"Enter the number: \"))\n",
    "    if number != 0:\n",
    "        sum += number\n",
    "        average = sum / number\n",
    "    else:\n",
    "        print(\"entered number is a zero\")\n",
    "        break\n",
    "print(f\"sum and average is {sum} and {average}\")    "
   ]
  },
  {
   "cell_type": "markdown",
   "metadata": {},
   "source": [
    "###`Problem 10`: Write a program, which will find all such numbers between 1000 and 3000 (both included) such that each digit of the number is an even number. The numbers obtained should be printed in a space-separated sequence on a single line.\n",
    "\n"
   ]
  },
  {
   "cell_type": "code",
   "execution_count": null,
   "metadata": {},
   "outputs": [],
   "source": []
  }
 ],
 "metadata": {
  "kernelspec": {
   "display_name": "Python 3",
   "language": "python",
   "name": "python3"
  },
  "language_info": {
   "codemirror_mode": {
    "name": "ipython",
    "version": 3
   },
   "file_extension": ".py",
   "mimetype": "text/x-python",
   "name": "python",
   "nbconvert_exporter": "python",
   "pygments_lexer": "ipython3",
   "version": "3.13.2"
  }
 },
 "nbformat": 4,
 "nbformat_minor": 2
}
