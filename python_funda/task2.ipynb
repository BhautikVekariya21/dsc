{
 "cells": [
  {
   "cell_type": "markdown",
   "metadata": {},
   "source": [
    "### `Problem 1`: Write a program that will give you in hand monthly salary after deduction on CTC - HRA(10%), DA(5%), PF(3%) and taxes deduction as below:\n",
    "\n",
    "> Salary(Lakhs) : Tax(%)\n",
    "\n",
    "*   Below 5 : 0%\n",
    "*   5-10 : 10%\n",
    "*   10-20 : 20%\n",
    "*   aboove 20 : 30%"
   ]
  },
  {
   "cell_type": "code",
   "execution_count": 1,
   "metadata": {},
   "outputs": [
    {
     "name": "stdout",
     "output_type": "stream",
     "text": [
      "In-hand monthly salary: 0.656 lakhs\n"
     ]
    }
   ],
   "source": [
    "def calculate_in_hand_salary(ctc):\n",
    "    hra = 0.10 * ctc\n",
    "    da = 0.05 * ctc\n",
    "    pf = 0.03 * ctc\n",
    "    taxable_income = ctc - (hra + da + pf)\n",
    "    \n",
    "    if ctc < 5:\n",
    "        tax = 0\n",
    "    elif 5 <= ctc < 10:\n",
    "        tax = 0.10 * taxable_income\n",
    "    elif 10 <= ctc < 20:\n",
    "        tax = 0.20 * taxable_income\n",
    "    else:\n",
    "        tax = 0.30 * taxable_income\n",
    "    \n",
    "    in_hand_salary = taxable_income - tax\n",
    "    monthly_salary = in_hand_salary / 12\n",
    "    return monthly_salary\n",
    "\n",
    "# Example usage:\n",
    "ctc = 12  # in lakhs\n",
    "monthly_salary = calculate_in_hand_salary(ctc)\n",
    "print(f\"In-hand monthly salary: {monthly_salary} lakhs\")"
   ]
  },
  {
   "cell_type": "markdown",
   "metadata": {},
   "source": [
    "### `Problem 2`: Write a program that take a user input of three angles and will find out whether it can form a triangle or not."
   ]
  },
  {
   "cell_type": "code",
   "execution_count": 16,
   "metadata": {},
   "outputs": [
    {
     "name": "stdout",
     "output_type": "stream",
     "text": [
      "It is a valid triangle\n"
     ]
    }
   ],
   "source": [
    "angle1 = int(input(\"Enter the first angle: \"))\n",
    "angle2 = int(input(\"Enter the second angle: \"))\n",
    "angle3 = int(input(\"Enter the third angle: \"))\n",
    "if angle1 + angle2 + angle3 == 180:\n",
    "    print(\"It is a valid triangle\")\n",
    "else:\n",
    "    print(\"It is not a valid triangle\")"
   ]
  },
  {
   "cell_type": "markdown",
   "metadata": {},
   "source": [
    "### `Problem 3`: Write a program that will take user input of cost price and selling price and determines whether its a loss or a profit."
   ]
  },
  {
   "cell_type": "code",
   "execution_count": 17,
   "metadata": {},
   "outputs": [
    {
     "name": "stdout",
     "output_type": "stream",
     "text": [
      "Profit 2497.432\n"
     ]
    }
   ],
   "source": [
    "selling_price = float(input(\"Enter the selling price: \"))\n",
    "cost_price = float(input(\"Enter the cost price: \"))\n",
    "if selling_price > cost_price:\n",
    "    print(\"Profit\", selling_price - cost_price)\n",
    "elif selling_price < cost_price:\n",
    "    print(\"Loss\", cost_price - selling_price)\n",
    "else:\n",
    "    print(\"No profit no loss\")"
   ]
  },
  {
   "cell_type": "markdown",
   "metadata": {},
   "source": [
    "### `Problem 4`: Write a menu-driven program -\n",
    "1. cm to ft\n",
    "2. km to miles\n",
    "3. USD to INR\n",
    "4. exit"
   ]
  },
  {
   "cell_type": "code",
   "execution_count": null,
   "metadata": {},
   "outputs": [
    {
     "name": "stdout",
     "output_type": "stream",
     "text": [
      "7350.0\n"
     ]
    }
   ],
   "source": [
    "user_input = int(input(\"\"\"1.cm to ft\n",
    "                       2.km to miles\n",
    "                       3.usd to inr\n",
    "                       4.exit\"\"\"))\n",
    "if user_input == 1:\n",
    "    cm = int(input(\"enter cm\"))\n",
    "    ft = cm/30.48\n",
    "    print(ft)\n",
    "elif user_input == 2:\n",
    "    km = int(input(\"enter km\"))\n",
    "    miles = km/1.609\n",
    "    print(miles)\n",
    "elif user_input == 3:\n",
    "    usd = int(input(\"enter usd\"))\n",
    "    inr = usd*87.12\n",
    "    print(inr)\n",
    "elif user_input == 4:\n",
    "    exit()"
   ]
  },
  {
   "cell_type": "markdown",
   "metadata": {},
   "source": [
    "### `Problem 5` - Exercise 12: Display Fibonacci series up to 10 terms.\n",
    "\n",
    "*Note: The Fibonacci Sequence is a series of numbers. The next number is found by adding up the two numbers before it. The first two numbers are 0 and 1. For example, 0, 1, 1, 2, 3, 5, 8, 13, 21. The next number in this series above is 13+21 = 34*"
   ]
  },
  {
   "cell_type": "code",
   "execution_count": 19,
   "metadata": {},
   "outputs": [
    {
     "name": "stdout",
     "output_type": "stream",
     "text": [
      "0\n",
      "1\n",
      "1\n",
      "2\n",
      "3\n",
      "5\n",
      "8\n",
      "13\n",
      "21\n"
     ]
    }
   ],
   "source": [
    "first_term = 0\n",
    "second_term = 1\n",
    "n = int(input(\"Enter the number of terms: \"))\n",
    "for i in range(n):\n",
    "    print(first_term)\n",
    "    next_term = first_term + second_term\n",
    "    first_term = second_term\n",
    "    second_term = next_term\n",
    "    "
   ]
  },
  {
   "cell_type": "markdown",
   "metadata": {},
   "source": [
    "### `Problem 6` - Find the factorial of a given number.\n",
    "\n",
    "Write a program to use the loop to find the factorial of a given number.\n",
    "\n",
    "The factorial (symbol: `!`) means to multiply all whole numbers from the chosen number down to 1.\n",
    "\n",
    "For example: calculate the factorial of 5\n",
    "\n",
    "```bash\n",
    "5! = 5 × 4 × 3 × 2 × 1 = 120\n",
    "```\n",
    "\n",
    "Output:\n",
    "\n",
    "```bash\n",
    "120\n",
    "```"
   ]
  },
  {
   "cell_type": "code",
   "execution_count": 5,
   "metadata": {},
   "outputs": [
    {
     "name": "stdout",
     "output_type": "stream",
     "text": [
      "Factorial of 1123 is 613868210560332133334874008769400709853058795890693465422155436339063355156795378816030510244078326701652052857636246104451708230536014655476339248492963608664382955939333267766746980006843329842760425308891994153103533804442091584079799915755589983252297027905286962861735221571712682693767483458748881841640888355973582398964950064620509810558233356583969613446183807257506412614316554318668682771448765855957894662738103971976148485369230275470489315946208979225908394289244093194196263968119131544079537683626398310103500773787004825709865632408288226669984543423117899637794616107827784342864975467919600676534895352111947551485818103525347111734098360164934125051403256962535863676585754280533821215258281479034758286591209436166562925246569272899915844473808481873115290117735490181746819109846290107998138687566486878199017278263910886276923471731118594298666521917602181086059879940310564908739935695282420314766443749138671727494643200933936793266710540027197424138334470729749831076551537536681483012426769653947794730896153679043426209126717009575754779841796764867472036731538782835875274938088353353895310852543331553508339012562159229609763036442918144367575891926393624824388315001254300199591527539519089817064262828601017809959701859738160923165632013075289051989829756110073290544004291252056484646556005587778062163137098029006371297323753523186039015588970090010232142847608004974243261140812760016115816671729797770224475145857757701359963927397311307609298099580135714740582376277793428542055066697010898565164436272219938742649856364058130060538824025073658217591559632886209100416943252001716071082378936332334726502344081567214838252685540357700660636538877439759903915782831301499542884090254482366028278296935610472925031190545745322728095853632445723523468803637890231620267966596104040535857515647002349541539148219436463512405103843620623212149113252815009191502921683423252069497533944613207358755320068179607948508393086885129613193544035831348014790507324915749737701033496820140337573420458375544563231254282328467088790827028190762324791197150969350306072620819029654798723765917014303980504031602601437370631903326678873087865389471899767408866101153617974865707756121229614809178290605729063594313597562782146844805456813600636260160537214025972606739438711163396030982391248573254995424248968616733520829198246828459172504247881020350593700399911859195358214874106013702384589637996473413360168398231564156922249922096869376672065706574744024586508498580690889382793789376368180978735637613350471638999440027147744374860281585865698160907453282064511367824932128238569934127385949696548887583260370087649553975467345832837120000000000000000000000000000000000000000000000000000000000000000000000000000000000000000000000000000000000000000000000000000000000000000000000000000000000000000000000000000000000000000000000000000000000000000000000000000000000000000000000000000000000000000000000000000000000000\n"
     ]
    }
   ],
   "source": [
    "def factorial(n):\n",
    "    if n == 0:\n",
    "        return 1\n",
    "    return n * factorial(n-1)\n",
    "n = int(input(\"Enter the number: \"))\n",
    "print(f\"Factorial of {n} is {factorial(n)}\")"
   ]
  },
  {
   "cell_type": "markdown",
   "metadata": {},
   "source": [
    "### `Problem 7` - Reverse a given integer number.\n",
    "\n",
    "Example:\n",
    "\n",
    "`Input:`\n",
    "\n",
    "```bash\n",
    "76542\n",
    "```\n",
    "\n",
    "`Output:`\n",
    "\n",
    "```bash\n",
    "24567\n",
    "```"
   ]
  },
  {
   "cell_type": "code",
   "execution_count": 21,
   "metadata": {},
   "outputs": [
    {
     "name": "stdout",
     "output_type": "stream",
     "text": [
      "Reverse of 897458 is 854798\n"
     ]
    }
   ],
   "source": [
    "\n",
    "def reverse_number(number):\n",
    "    reverse = 0\n",
    "    while number > 0:\n",
    "        remainder = number % 10\n",
    "        reverse = reverse * 10 + remainder\n",
    "        number = number // 10\n",
    "    return reverse\n",
    "\n",
    "number = int(input(\"Enter the number: \"))\n",
    "print(f\"Reverse of {number} is {reverse_number(number)}\")"
   ]
  },
  {
   "cell_type": "markdown",
   "metadata": {},
   "source": [
    "### `Problem 8`: Take a user input as integer N. Find out the sum from 1 to N. If any number if divisible by 5, then skip that number. And if the sum is greater than 300, don't need to calculate the sum further more. Print the final result. And don't use for loop to solve this problem.\n",
    "\n",
    "**Example 1:**\n",
    "\n",
    "`Input:`\n",
    "\n",
    "```bash\n",
    "30\n",
    "```\n",
    "\n",
    "`Output:`\n",
    "\n",
    "```bash\n",
    "276\n",
    "```\n"
   ]
  },
  {
   "cell_type": "code",
   "execution_count": 36,
   "metadata": {},
   "outputs": [
    {
     "name": "stdout",
     "output_type": "stream",
     "text": [
      "276\n"
     ]
    }
   ],
   "source": [
    "number = int(input(\"Enter the number: \"))\n",
    "total = 0\n",
    "\n",
    "# Iterate through numbers from 1 to N\n",
    "i = 1\n",
    "while i <= number:\n",
    "    if i % 5 != 0:  # Skip numbers divisible by 5\n",
    "        if total + i > 300:  # Stop if sum exceeds 300\n",
    "            break\n",
    "        total += i\n",
    "    i += 1\n",
    "\n",
    "print(total)\n"
   ]
  },
  {
   "cell_type": "markdown",
   "metadata": {},
   "source": [
    "### `Problem 9`: Write a program that keeps on accepting a number from the user until the user enters Zero. Display the sum and average of all the numbers.'"
   ]
  },
  {
   "cell_type": "code",
   "execution_count": 3,
   "metadata": {},
   "outputs": [
    {
     "name": "stdout",
     "output_type": "stream",
     "text": [
      "Entered number is zero. Stopping input.\n",
      "Sum is 55 and average is 5.5\n"
     ]
    }
   ],
   "source": [
    "sum = 0\n",
    "count = 0\n",
    "while True:\n",
    "    number = int(input(\"Enter the number: \"))\n",
    "    if number != 0:\n",
    "        sum += number\n",
    "        count += 1\n",
    "    else:\n",
    "        print(\"Entered number is zero. Stopping input.\")\n",
    "        break\n",
    "\n",
    "if count > 0:\n",
    "    average = sum / count\n",
    "    print(f\"Sum is {sum} and average is {average}\")\n",
    "else:\n",
    "    print(\"No numbers were entered.\")\n",
    "   "
   ]
  },
  {
   "cell_type": "markdown",
   "metadata": {},
   "source": [
    "### `Problem 10`: Write a program, which will find all such numbers between 1000 and 3000 (both included) such that each digit of the number is an even number. The numbers obtained should be printed in a space-separated sequence on a single line.\n",
    "\n"
   ]
  },
  {
   "cell_type": "code",
   "execution_count": 40,
   "metadata": {},
   "outputs": [
    {
     "name": "stdout",
     "output_type": "stream",
     "text": [
      "2000 2002 2004 2006 2008 2020 2022 2024 2026 2028 2040 2042 2044 2046 2048 2060 2062 2064 2066 2068 2080 2082 2084 2086 2088 2200 2202 2204 2206 2208 2220 2222 2224 2226 2228 2240 2242 2244 2246 2248 2260 2262 2264 2266 2268 2280 2282 2284 2286 2288 2400 2402 2404 2406 2408 2420 2422 2424 2426 2428 2440 2442 2444 2446 2448 2460 2462 2464 2466 2468 2480 2482 2484 2486 2488 2600 2602 2604 2606 2608 2620 2622 2624 2626 2628 2640 2642 2644 2646 2648 2660 2662 2664 2666 2668 2680 2682 2684 2686 2688 2800 2802 2804 2806 2808 2820 2822 2824 2826 2828 2840 2842 2844 2846 2848 2860 2862 2864 2866 2868 2880 2882 2884 2886 2888\n"
     ]
    }
   ],
   "source": [
    "# List to store valid numbers\n",
    "result = []\n",
    "\n",
    "# Iterate through numbers from 1000 to 3000\n",
    "for num in range(1000, 3001):\n",
    "    num_str = str(num)  # Convert number to string\n",
    "    if (int(num_str[0]) % 2 == 0 and int(num_str[1]) % 2 == 0 and \n",
    "        int(num_str[2]) % 2 == 0 and int(num_str[3]) % 2 == 0):  \n",
    "        result.append(str(num))  # Store valid numbers as strings\n",
    "\n",
    "# Print all numbers in a space-separated format\n",
    "print(\" \".join(result))\n"
   ]
  },
  {
   "cell_type": "markdown",
   "metadata": {},
   "source": [
    "### `Problem 11`: A robot moves in a plane starting from the original point (0,0). The robot can move toward UP, DOWN, LEFT and RIGHT with a given steps.\n",
    "The trace of robot movement is shown as the following:\n",
    "```\n",
    "UP 5\n",
    "DOWN 3\n",
    "LEFT 3\n",
    "RIGHT 2\n",
    "!\n",
    "```\n",
    "> The numbers after the direction are steps.\n",
    "\n",
    "> `!` means robot stop there.\n",
    "\n",
    "**Please write a program to compute the distance from current position after a sequence of movement and original point.**\n",
    "\n",
    "*If the distance is a float, then just print the nearest integer.*\n",
    "\n",
    "Example:\n",
    "\n",
    "`Input`:\n",
    "```\n",
    "UP 5\n",
    "DOWN 3\n",
    "LEFT 3\n",
    "RIGHT 2\n",
    "!\n",
    "```\n",
    "`Output`:\n",
    "```\n",
    "2\n",
    "```"
   ]
  },
  {
   "cell_type": "code",
   "execution_count": 10,
   "metadata": {},
   "outputs": [
    {
     "name": "stdout",
     "output_type": "stream",
     "text": [
      "5\n"
     ]
    }
   ],
   "source": [
    "import math\n",
    "\n",
    "# Initial position\n",
    "x, y = 0, 0\n",
    "\n",
    "while True:\n",
    "    movement = input()\n",
    "    if movement == '!':\n",
    "        break\n",
    "    direction, steps = movement.split()\n",
    "    steps = int(steps)\n",
    "    \n",
    "    if direction == 'UP':\n",
    "        y += steps\n",
    "    elif direction == 'DOWN':\n",
    "        y -= steps\n",
    "    elif direction == 'LEFT':\n",
    "        x -= steps\n",
    "    elif direction == 'RIGHT':\n",
    "        x += steps\n",
    "\n",
    "# Calculate the distance from the origin\n",
    "distance = math.sqrt(x**2 + y**2)\n",
    "print(round(distance))\n"
   ]
  },
  {
   "cell_type": "markdown",
   "metadata": {},
   "source": [
    "### `Problem 12`:Write a program to print whether a given number is a prime number or not"
   ]
  },
  {
   "cell_type": "code",
   "execution_count": 17,
   "metadata": {},
   "outputs": [
    {
     "name": "stdout",
     "output_type": "stream",
     "text": [
      "Number is not a prime number\n"
     ]
    }
   ],
   "source": [
    "number = int(input(\"Enter the number: \"))\n",
    "\n",
    "if number <= 1:\n",
    "    print(\"Number is not a prime number\")\n",
    "else:\n",
    "    is_prime = True\n",
    "    for i in range(2, number): \n",
    "        if number % i == 0:\n",
    "            is_prime = False\n",
    "            break\n",
    "\n",
    "    if is_prime:\n",
    "        print(\"Number is a prime number\")\n",
    "    else:\n",
    "        print(\"Number is not a prime number\")\n"
   ]
  },
  {
   "cell_type": "markdown",
   "metadata": {},
   "source": [
    "### `Problem 13`:Print all the Armstrong numbers in a given range.\n",
    "Range will be provided by the user<br>\n",
    "Armstrong number is a number that is equal to the sum of cubes of its digits. For example 0, 1, 153, 370, 371 and 407 are the Armstrong numbers.\n"
   ]
  },
  {
   "cell_type": "code",
   "execution_count": 18,
   "metadata": {},
   "outputs": [
    {
     "name": "stdout",
     "output_type": "stream",
     "text": [
      "Armstrong numbers between 1000 and 70000 are:\n",
      "1634\n",
      "8208\n",
      "9474\n",
      "54748\n"
     ]
    }
   ],
   "source": [
    "start = int(input(\"Enter start of range: \"))\n",
    "end = int(input(\"Enter end of range: \"))\n",
    "\n",
    "print(f\"Armstrong numbers between {start} and {end} are:\")\n",
    "\n",
    "for num in range(start, end + 1):\n",
    "    num_digits = len(str(num))  # Count the number of digits\n",
    "    sum_of_powers = 0\n",
    "    temp = num\n",
    "    \n",
    "    while temp > 0:\n",
    "        digit = temp % 10  # Get the last digit\n",
    "        sum_of_powers += digit ** num_digits  # Raise to the power of number of digits\n",
    "        temp //= 10  # Remove the last digit\n",
    "    \n",
    "    if num == sum_of_powers:\n",
    "        print(num)\n"
   ]
  },
  {
   "cell_type": "markdown",
   "metadata": {},
   "source": [
    "### `Problem 14`:Calculate the angle between the hour hand and minute hand.\n",
    "\n",
    "Note: There can be two angles between hands; we need to print a minimum of two. Also, we need to print the floor of the final result angle. For example, if the final angle is 10.61, we need to print 10.\n",
    "\n",
    "Input:<br>\n",
    "H = 9 , M = 0<br>\n",
    "Output:<br>\n",
    "90<br>\n",
    "Explanation:<br>\n",
    "The minimum angle between hour and minute\n",
    "hand when the time is 9 is 90 degress."
   ]
  },
  {
   "cell_type": "code",
   "execution_count": 19,
   "metadata": {},
   "outputs": [
    {
     "name": "stdout",
     "output_type": "stream",
     "text": [
      "177\n"
     ]
    }
   ],
   "source": [
    "import math\n",
    "\n",
    "# Function to calculate the minimum angle\n",
    "def calculate_angle(H, M):\n",
    "    # Normalize the hour to a 12-hour format\n",
    "    H = H % 12\n",
    "\n",
    "    # Calculate the angles of the hour and minute hands\n",
    "    minute_angle = 6 * M  # Minute hand moves 6 degrees per minute\n",
    "    hour_angle = (30 * H) + (0.5 * M)  # Hour hand moves 30 degrees per hour + 0.5 per minute\n",
    "\n",
    "    # Calculate the absolute difference between the two angles\n",
    "    angle = abs(hour_angle - minute_angle)\n",
    "    \n",
    "    # Return the minimum angle (either angle or 360 - angle)\n",
    "    min_angle = min(angle, 360 - angle)\n",
    "\n",
    "    # Return the floored value of the minimum angle\n",
    "    return math.floor(min_angle)\n",
    "\n",
    "# Input\n",
    "H = int(input(\"Enter hour (H): \"))\n",
    "M = int(input(\"Enter minutes (M): \"))\n",
    "\n",
    "# Output the result\n",
    "print(calculate_angle(H, M))\n"
   ]
  },
  {
   "cell_type": "markdown",
   "metadata": {},
   "source": [
    "### `Problem 15`:Given two rectangles, find if the given two rectangles overlap or not. A rectangle is denoted by providing the x and y coordinates of two points: the left top corner and the right bottom corner of the rectangle. Two rectangles sharing a side are considered overlapping. (L1 and R1 are the extreme points of the first rectangle and L2 and R2 are the extreme points of the second rectangle).\n",
    "\n",
    "Note: It may be assumed that the rectangles are parallel to the coordinate axis.\n",
    "\n",
    "<img src='https://www.geeksforgeeks.org/wp-content/uploads/rectanglesOverlap.png' width='300' height='200'>"
   ]
  },
  {
   "cell_type": "code",
   "execution_count": null,
   "metadata": {},
   "outputs": [
    {
     "name": "stdout",
     "output_type": "stream",
     "text": [
      "The rectangles do not overlap\n"
     ]
    }
   ],
   "source": [
    "def rectangles_overlap(L1, R1, L2, R2):\n",
    "    # Check if one rectangle is to the left or above the other\n",
    "    if R1[0] <= L2[0] or R2[0] <= L1[0]:\n",
    "        return False\n",
    "    if R1[1] >= L2[1] or R2[1] >= L1[1]:\n",
    "        return False\n",
    "    return True\n",
    "\n",
    "# Get input from user without using map\n",
    "x1 = int(input(\"Enter x1 (Rectangle 1 top-left): \"))\n",
    "y1 = int(input(\"Enter y1 (Rectangle 1 top-left): \"))\n",
    "x2 = int(input(\"Enter x2 (Rectangle 1 bottom-right): \"))\n",
    "y2 = int(input(\"Enter y2 (Rectangle 1 bottom-right): \"))\n",
    "\n",
    "x3 = int(input(\"Enter x3 (Rectangle 2 top-left): \"))\n",
    "y3 = int(input(\"Enter y3 (Rectangle 2 top-left): \"))\n",
    "x4 = int(input(\"Enter x4 (Rectangle 2 bottom-right): \"))\n",
    "y4 = int(input(\"Enter y4 (Rectangle 2 bottom-right): \"))\n",
    "\n",
    "# Create coordinate tuples\n",
    "L1 = (x1, y1)\n",
    "R1 = (x2, y2)\n",
    "L2 = (x3, y3)\n",
    "R2 = (x4, y4)\n",
    "\n",
    "# Output result\n",
    "if rectangles_overlap(L1, R1, L2, R2):\n",
    "    print(\"Rectangles overlap\")\n",
    "else:\n",
    "    print(\"Rectangles do not overlap\")\n"
   ]
  }
 ],
 "metadata": {
  "kernelspec": {
   "display_name": ".venv",
   "language": "python",
   "name": "python3"
  },
  "language_info": {
   "codemirror_mode": {
    "name": "ipython",
    "version": 3
   },
   "file_extension": ".py",
   "mimetype": "text/x-python",
   "name": "python",
   "nbconvert_exporter": "python",
   "pygments_lexer": "ipython3",
   "version": "3.12.10"
  }
 },
 "nbformat": 4,
 "nbformat_minor": 2
}
